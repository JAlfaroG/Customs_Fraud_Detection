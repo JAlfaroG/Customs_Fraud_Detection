{
 "cells": [
  {
   "cell_type": "markdown",
   "metadata": {},
   "source": [
    "# XGBoost model\n",
    "\n",
    "- Written by Yeon Soo Choi, Research Unit, World Customs Organization\n",
    "- Updated on 2020.6.26."
   ]
  },
  {
   "cell_type": "markdown",
   "metadata": {},
   "source": [
    "## Decision Tree, Random Forest and XGBoost models\n",
    "\n",
    "Decision trees are widely used, as they are intuitive machine learning models. However, they are known to be very vulnerable to even small changes in train-data.  \n",
    "\n",
    "**Random forest** is an advanced decision tree developed to overcome such a vulnerability to data. It constructs multiple (hundreds of) decision trees, and makes a final prediction by taking the average of the predictions made by each individual decision tree (in the forest). Making hundreds of trees may take much longer time. In order to maintain the efficiency in calculatoins, each tree uses only a randomly selected subset of data. That is how random forests achieve higher accuracy without losing the efficiency of analysis.  \n",
    "\n",
    "**XGBoost** is one of the top popular models for fraud detection. It grows multiple decision trees rather than depending on a single tree. However, in contrast to a random forest model, trees are not randomly built. For instance, the second tree is built in a way to overcome the weakness of the first tree. The third tree is built in a way to overcome the weakness of the second tree. For the final predictions, it uses a weighted combination of all the trees.\n",
    "This article aims to present all the steps for applying a XGBoost model in Customs fraud detection.\n",
    "\n",
    "For more details, please refer to the BACUDA series 5 and 9 available at http://www.wcoomd.org/en/topics/research/data-analytics.aspx (accessible after member-login)"
   ]
  },
  {
   "cell_type": "markdown",
   "metadata": {},
   "source": [
    "## Outline\n",
    "[**1. Data loading and preprocessing**](#id1)  \n",
    "[**2. Undersampling in train data**](#id2)  \n",
    "[**3. Construct a XGBoost model**](#id3)    \n",
    "[**4. Train the model**](#id4)    \n",
    "[**5. Test the model (Predict frauds in test-data with the Decision Tree model)**](#id5)  \n",
    "[**6. Evaluate model performance**](#id6)"
   ]
  },
  {
   "cell_type": "markdown",
   "metadata": {},
   "source": [
    "## 1. Data loading and preprocessing<a id='id1'></a>  "
   ]
  },
  {
   "cell_type": "code",
   "execution_count": 6,
   "metadata": {
    "ExecuteTime": {
     "end_time": "2021-03-09T00:17:25.013978Z",
     "start_time": "2021-03-09T00:17:24.573971Z"
    }
   },
   "outputs": [],
   "source": [
    "# Set environment (load libraries/packages)\n",
    "import pandas as pd\n",
    "import numpy as np\n",
    "import matplotlib.pyplot as plt\n",
    "import seaborn as sns\n",
    "import plotly.express as px\n",
    "pd.set_option('display.max_columns', 100)\n",
    "\n",
    "plt.style.use('fivethirtyeight')"
   ]
  },
  {
   "cell_type": "code",
   "execution_count": 7,
   "metadata": {
    "ExecuteTime": {
     "end_time": "2021-03-09T00:17:53.180990Z",
     "start_time": "2021-03-09T00:17:26.188943Z"
    }
   },
   "outputs": [],
   "source": [
    "# Load data\n",
    "#df_raw = pd.read_csv('./synthetic_data2.csv')\n",
    "df_raw = pd.read_csv('../data/mgr3-1019.csv', low_memory=False)"
   ]
  },
  {
   "cell_type": "code",
   "execution_count": 8,
   "metadata": {
    "ExecuteTime": {
     "end_time": "2021-03-09T00:22:25.569810Z",
     "start_time": "2021-03-09T00:22:24.069824Z"
    }
   },
   "outputs": [],
   "source": [
    "# Select columns to use\n",
    "# columns_to_use = ['year', 'month', 'day', 'OFFICE', 'IMPORTER.TIN',\n",
    "#        'TARIFF.CODE', 'ORIGIN.CODE', 'CIF_USD_EQUIVALENT', 'QUANTITY',\n",
    "#        'GROSS.WEIGHT','TOTAL.TAXES.USD', 'illicit']\n",
    "# df_raw = df_raw[columns_to_use]\n",
    "\n",
    "# only imports\n",
    "df_raw = df_raw[df_raw['destinacion_mercancia'] == 'IM']\n",
    "\n",
    "columns_to_use = [\n",
    "    'anno', 'mes', 'aduana', 'contribuyente', 'inciso_arancelario', 'pais_origen_destino', \n",
    "    'cif', 'cuantia', 'peso_bruto','impuesto_total', 'illicit'\n",
    "]\n",
    "\n",
    "df_raw = df_raw[columns_to_use]"
   ]
  },
  {
   "cell_type": "code",
   "execution_count": 9,
   "metadata": {
    "ExecuteTime": {
     "end_time": "2021-03-09T00:22:27.837971Z",
     "start_time": "2021-03-09T00:22:27.764782Z"
    }
   },
   "outputs": [],
   "source": [
    "# Make a copy not to change the origincal data (to be used later)\n",
    "df = df_raw.copy()"
   ]
  },
  {
   "cell_type": "code",
   "execution_count": 29,
   "metadata": {
    "ExecuteTime": {
     "end_time": "2021-03-09T01:17:12.238614Z",
     "start_time": "2021-03-09T01:17:12.224581Z"
    }
   },
   "outputs": [],
   "source": [
    "# Create additional numeric and categorical variables\n",
    "def preprocess(df:pd.DataFrame, \n",
    "               args:list):\n",
    "    \"\"\"\n",
    "    dtype df: dataframe\n",
    "    dtype *args: strings (attribute names that want to be combined)\n",
    "    \"\"\"\n",
    "    # create additional numeric variables\n",
    "    df.loc[:, 'Unitprice'] = df['cif']/df['cuantia']\n",
    "    df.loc[:, 'WUnitprice'] = df['cif']/df['peso_bruto']\n",
    "    df.loc[:, 'TaxRatio'] = df['impuesto_total'] / df['cif']\n",
    "    df.loc[:, 'TaxUnitquantity'] = df['impuesto_total'] / df['peso_bruto']\n",
    "    \n",
    "    # Create HS sub-classes\n",
    "    df.loc[:, 'HS6'] = df['inciso_arancelario'].apply(lambda x: int(x) // 100000).astype(str) #HS10digit\n",
    "    #df.loc[:, 'HS4'] = df['HS6'].apply(lambda x: int(x) // 100).astype(str)\n",
    "    #df.loc[:, 'HS2'] = df['HS4'].apply(lambda x: int(x) // 100).astype(str)\n",
    "    \n",
    "    # Merge attributes\n",
    "    \n",
    "    df.loc[:,args] = df.loc[:,args].astype(str)\n",
    "    \n",
    "    # Generate all the pairs available from the selected categorical variables\n",
    "    import itertools\n",
    "    combinations = list(itertools.combinations(args, 2))\n",
    "    \n",
    "    # Run a loop for merging attributes \n",
    "    for (cat1, cat2) in combinations:\n",
    "        ColName = cat1 + '&' + cat2\n",
    "        df.loc[:,ColName] = df.loc[:,cat1]+'&'+df.loc[:,cat2]\n",
    "    \n",
    "    return df\n",
    "\n",
    "\n",
    "# Identify high risky entities (importer, declarants, HScodes, Offices, origin countries, etc.)\n",
    "def risk_profiling(df:pd.DataFrame, \n",
    "                   feature:str, \n",
    "                   topk_ratio:float):\n",
    "    \n",
    "    N_top10pct = int(df[feature].nunique()*topk_ratio)+1\n",
    "    RiskH_list = list(df.groupby(feature)['illicit'].sum().sort_values(ascending=True).head(N_top10pct).index)\n",
    "    \n",
    "    return RiskH_list\n",
    "\n",
    "\n",
    "def risk_tagging(df:pd.DataFrame, \n",
    "                 feature:str, \n",
    "                 RiskH_list:list):\n",
    "    \n",
    "    df.loc[:,'RiskH.'+feature] = np.where(df.loc[:,feature].isin(RiskH_list),1,0)\n",
    "    \n",
    "    return df\n",
    "\n",
    "\n",
    "def plot_gain_lift(model):\n",
    "    model_pred = model.predict(X_valid)\n",
    "    model_proba = model.predict_proba(X_valid)\n",
    "\n",
    "    temp = pd.DataFrame({\n",
    "      'actual': y_valid, \n",
    "      'p(0)': [p[0] for p in model_proba],\n",
    "      'p(1)': [p[1] for p in model_proba],\n",
    "      'predicted': model_pred,\n",
    "    })\n",
    "\n",
    "    temp = temp.sort_values(by=['p(1)'], ascending=False)\n",
    "    \n",
    "    plt.style.use('fivethirtyeight')\n",
    "    fig, axes = plt.subplots(nrows=1, ncols=2, figsize=(10, 4))\n",
    "    \n",
    "    gainsChart(temp.actual, ax=axes[0])\n",
    "    liftChart(temp.actual, title=False, ax=axes[1])\n",
    "    \n",
    "    plt.suptitle(str(model).split('(')[0])\n",
    "    plt.show()\n",
    "    \n",
    "    \n",
    "def plot_roc_auc(real, pred, model):\n",
    "    # compute ROC curve and AUC\n",
    "    fpr, tpr, _ = roc_curve(real, pred)\n",
    "    roc_auc = auc(fpr, tpr)\n",
    "    plt.style.use(\"fivethirtyeight\")\n",
    "    plt.figure(figsize=[8, 6])\n",
    "    plt.plot(fpr, tpr, color='darkorange', lw=2, label='ROC curve (area = %0.4f)' % roc_auc)\n",
    "    plt.plot([0, 1], [0, 1], color='navy', lw=2, linestyle='--')\n",
    "    plt.title(str(model).split('(')[0])\n",
    "    plt.xlabel('False Positive Rate (1 - Specificity)')\n",
    "    plt.ylabel('True Positive Rate (Sensitivity)')\n",
    "    plt.legend(loc=\"lower right\")\n",
    "    plt.show()"
   ]
  },
  {
   "cell_type": "code",
   "execution_count": 11,
   "metadata": {
    "ExecuteTime": {
     "end_time": "2021-03-09T00:22:41.295686Z",
     "start_time": "2021-03-09T00:22:40.905690Z"
    }
   },
   "outputs": [
    {
     "name": "stdout",
     "output_type": "stream",
     "text": [
      "Now, train-data has 139665 entries and 11 features\n",
      "Now, test-data has 137278 entries and 11 features\n"
     ]
    }
   ],
   "source": [
    "# split train/valid/test set\n",
    "\n",
    "train = df[df['anno']==2013]\n",
    "test = df[df['anno']==2014]\n",
    "\n",
    "print(\"Now, train-data has {} entries and {} features\".format(*train.shape))\n",
    "print(\"Now, test-data has {} entries and {} features\".format(*test.shape))"
   ]
  },
  {
   "cell_type": "code",
   "execution_count": 12,
   "metadata": {
    "ExecuteTime": {
     "end_time": "2021-03-09T00:22:45.430277Z",
     "start_time": "2021-03-09T00:22:43.580113Z"
    },
    "scrolled": true
   },
   "outputs": [
    {
     "name": "stderr",
     "output_type": "stream",
     "text": [
      "D:\\Users\\javia\\anaconda3\\envs\\ai\\lib\\site-packages\\pandas\\core\\indexing.py:1596: SettingWithCopyWarning: \n",
      "A value is trying to be set on a copy of a slice from a DataFrame.\n",
      "Try using .loc[row_indexer,col_indexer] = value instead\n",
      "\n",
      "See the caveats in the documentation: https://pandas.pydata.org/pandas-docs/stable/user_guide/indexing.html#returning-a-view-versus-a-copy\n",
      "  self.obj[key] = _infer_fill_value(value)\n",
      "D:\\Users\\javia\\anaconda3\\envs\\ai\\lib\\site-packages\\pandas\\core\\indexing.py:1743: SettingWithCopyWarning: \n",
      "A value is trying to be set on a copy of a slice from a DataFrame.\n",
      "Try using .loc[row_indexer,col_indexer] = value instead\n",
      "\n",
      "See the caveats in the documentation: https://pandas.pydata.org/pandas-docs/stable/user_guide/indexing.html#returning-a-view-versus-a-copy\n",
      "  isetter(ilocs[0], value)\n",
      "D:\\Users\\javia\\anaconda3\\envs\\ai\\lib\\site-packages\\pandas\\core\\indexing.py:1715: SettingWithCopyWarning: \n",
      "A value is trying to be set on a copy of a slice from a DataFrame.\n",
      "Try using .loc[row_indexer,col_indexer] = value instead\n",
      "\n",
      "See the caveats in the documentation: https://pandas.pydata.org/pandas-docs/stable/user_guide/indexing.html#returning-a-view-versus-a-copy\n",
      "  isetter(loc, v)\n"
     ]
    }
   ],
   "source": [
    "# Preprocess train and test\n",
    "train = preprocess(train, ['aduana', 'contribuyente','inciso_arancelario', 'pais_origen_destino'])\n",
    "test = preprocess(test, ['aduana', 'contribuyente','inciso_arancelario', 'pais_origen_destino'])"
   ]
  },
  {
   "cell_type": "code",
   "execution_count": 15,
   "metadata": {
    "ExecuteTime": {
     "end_time": "2021-03-09T00:26:56.787178Z",
     "start_time": "2021-03-09T00:26:56.332145Z"
    }
   },
   "outputs": [],
   "source": [
    "# https://stackoverflow.com/questions/17477979/dropping-infinite-values-from-dataframes-in-pandas\n",
    "train = train.replace([np.inf, -np.inf], np.nan).dropna()\n",
    "test = test.replace([np.inf, -np.inf], np.nan).dropna()"
   ]
  },
  {
   "cell_type": "code",
   "execution_count": 16,
   "metadata": {
    "ExecuteTime": {
     "end_time": "2021-03-09T00:26:58.339509Z",
     "start_time": "2021-03-09T00:26:58.336506Z"
    }
   },
   "outputs": [],
   "source": [
    "profile_candidates = ['aduana', 'contribuyente','inciso_arancelario', 'HS6', #'HS4', 'HS2', \n",
    "                      'pais_origen_destino'] + [col for col in train.columns if '&' in col]"
   ]
  },
  {
   "cell_type": "code",
   "execution_count": 17,
   "metadata": {
    "ExecuteTime": {
     "end_time": "2021-03-09T00:27:00.882201Z",
     "start_time": "2021-03-09T00:26:59.948001Z"
    }
   },
   "outputs": [],
   "source": [
    "# Risk profiling\n",
    "for feature in profile_candidates:\n",
    "    # Identify high risky entities \n",
    "    RiskH_list = risk_profiling(train, feature, 0.1)\n",
    "    # Tag 'RiskH'\n",
    "    train = risk_tagging(train, feature, RiskH_list)\n",
    "    # Attention: Tags for test data are built from train data (not from test data)\n",
    "    test = risk_tagging(test, feature, RiskH_list)"
   ]
  },
  {
   "cell_type": "markdown",
   "metadata": {},
   "source": [
    "## 2. Undersampling (downsampling) in train-data <a id='id2'></a>  \n",
    "If we train our machine with 9000 non-frauds and 1000 frauds, predictions of our machine are likely to be biased toward non-fraud. Therefore, we need balanced number of frauds and non-frauds for better training. We can use only 1000 non-frauds (undersampling), or we can generate 8000 artificial frauds (over-sampling). This notebook will use the former. "
   ]
  },
  {
   "cell_type": "code",
   "execution_count": 18,
   "metadata": {
    "ExecuteTime": {
     "end_time": "2021-03-09T00:27:02.705586Z",
     "start_time": "2021-03-09T00:27:02.626556Z"
    }
   },
   "outputs": [
    {
     "name": "stdout",
     "output_type": "stream",
     "text": [
      "Now, train-dataset(undersampled) has 14038 entries and 33 features\n",
      "Now, test-dataset has 135130 entries and 33 features\n"
     ]
    }
   ],
   "source": [
    "from sklearn.utils import resample\n",
    "\n",
    "# Downsampling \n",
    "train_majority = train[train.illicit==0] # create a subset of non-frauds\n",
    "train_minority = train[train.illicit==1] # create a subset of frauds\n",
    "train_majority_downsampled = resample(train_majority, # population group\n",
    "                                      replace=False,  # no duplicated selection is allowed\n",
    "                                      n_samples=len(train_minority), # number of selection \n",
    "                                      random_state=123) # reproducibility\n",
    "train_downsampled = pd.concat([train_majority_downsampled, train_minority])\n",
    "\n",
    "# Use Downsampled data\n",
    "train = train_downsampled\n",
    "print(\"Now, train-dataset(undersampled) has {} entries and {} features\".format(*train.shape))\n",
    "print(\"Now, test-dataset has {} entries and {} features\".format(*test.shape))"
   ]
  },
  {
   "cell_type": "markdown",
   "metadata": {},
   "source": [
    "We will drop categorical variables from the data. "
   ]
  },
  {
   "cell_type": "code",
   "execution_count": 19,
   "metadata": {
    "ExecuteTime": {
     "end_time": "2021-03-09T00:27:05.610824Z",
     "start_time": "2021-03-09T00:27:05.564831Z"
    }
   },
   "outputs": [
    {
     "name": "stdout",
     "output_type": "stream",
     "text": [
      "Now, train-dataset(undersampled) has 14038 entries and 19 features\n",
      "Now, test-dataset has 135130 entries and 19 features\n"
     ]
    }
   ],
   "source": [
    "# Before removing 'fraud' variables, Create Fraud labels\n",
    "train_fraud = train.illicit\n",
    "test_fraud = test.illicit\n",
    "\n",
    "# Select columns to use in a classifier\n",
    "column_to_use = ['cif', 'cuantia','peso_bruto','impuesto_total', #'TARIFF.CODE', \n",
    "                 'Unitprice', 'WUnitprice', 'TaxRatio', 'TaxUnitquantity'] + [col for col in train.columns if 'RiskH' in col] \n",
    "train = train[column_to_use]\n",
    "test = test[column_to_use]\n",
    "\n",
    "print(\"Now, train-dataset(undersampled) has {} entries and {} features\".format(*train.shape))\n",
    "print(\"Now, test-dataset has {} entries and {} features\".format(*test.shape))"
   ]
  },
  {
   "cell_type": "markdown",
   "metadata": {},
   "source": [
    "## 3. Construct a Decision tree model <a id='id3'></a> "
   ]
  },
  {
   "cell_type": "code",
   "execution_count": 31,
   "metadata": {
    "ExecuteTime": {
     "end_time": "2021-03-09T01:17:36.537489Z",
     "start_time": "2021-03-09T01:17:36.326054Z"
    }
   },
   "outputs": [],
   "source": [
    "from sklearn.preprocessing import Normalizer, StandardScaler, MinMaxScaler, KBinsDiscretizer, OneHotEncoder\n",
    "from sklearn.model_selection import train_test_split, cross_val_score, GridSearchCV\n",
    "from sklearn.tree import DecisionTreeClassifier\n",
    "from sklearn.ensemble import (AdaBoostClassifier, BaggingClassifier, VotingClassifier, \n",
    "                              RandomForestClassifier, ExtraTreesClassifier, GradientBoostingClassifier)\n",
    "from sklearn.metrics import classification_report, roc_curve, auc\n",
    "from dmba import classificationSummary, liftChart, gainsChart"
   ]
  },
  {
   "cell_type": "code",
   "execution_count": 74,
   "metadata": {
    "ExecuteTime": {
     "end_time": "2021-03-09T14:49:22.398886Z",
     "start_time": "2021-03-09T14:49:22.394848Z"
    }
   },
   "outputs": [],
   "source": [
    "from xgboost import XGBClassifier\n",
    "# Instantiate a Decision Tree model\n",
    "xgb_clf = XGBClassifier(n_estimators=100, max_depth=9, n_jobs=-1)"
   ]
  },
  {
   "cell_type": "markdown",
   "metadata": {},
   "source": [
    "## 4. Train the model <a id='id4'></a>"
   ]
  },
  {
   "cell_type": "code",
   "execution_count": 75,
   "metadata": {
    "ExecuteTime": {
     "end_time": "2021-03-09T14:49:26.572098Z",
     "start_time": "2021-03-09T14:49:25.396100Z"
    }
   },
   "outputs": [
    {
     "name": "stderr",
     "output_type": "stream",
     "text": [
      "D:\\Users\\javia\\anaconda3\\envs\\ai\\lib\\site-packages\\xgboost\\sklearn.py:888: UserWarning:\n",
      "\n",
      "The use of label encoder in XGBClassifier is deprecated and will be removed in a future release. To remove this warning, do the following: 1) Pass option use_label_encoder=False when constructing XGBClassifier object; and 2) Encode your labels (y) as integers starting with 0, i.e. 0, 1, 2, ..., [num_class - 1].\n",
      "\n"
     ]
    },
    {
     "name": "stdout",
     "output_type": "stream",
     "text": [
      "[08:49:25] WARNING: ..\\src\\learner.cc:1061: Starting in XGBoost 1.3.0, the default evaluation metric used with the objective 'binary:logistic' was changed from 'error' to 'logloss'. Explicitly set eval_metric if you'd like to restore the old behavior.\n"
     ]
    },
    {
     "data": {
      "text/plain": [
       "XGBClassifier(base_score=0.5, booster='gbtree', colsample_bylevel=1,\n",
       "              colsample_bynode=1, colsample_bytree=1, gamma=0, gpu_id=-1,\n",
       "              importance_type='gain', interaction_constraints='',\n",
       "              learning_rate=0.300000012, max_delta_step=0, max_depth=9,\n",
       "              min_child_weight=1, missing=nan, monotone_constraints='()',\n",
       "              n_estimators=100, n_jobs=-1, num_parallel_tree=1, random_state=0,\n",
       "              reg_alpha=0, reg_lambda=1, scale_pos_weight=1, subsample=1,\n",
       "              tree_method='exact', validate_parameters=1, verbosity=None)"
      ]
     },
     "execution_count": 75,
     "metadata": {},
     "output_type": "execute_result"
    }
   ],
   "source": [
    "# Fit the classifier to the training set\n",
    "xgb_clf.fit(train, train_fraud, verbose=True)"
   ]
  },
  {
   "cell_type": "code",
   "execution_count": 76,
   "metadata": {
    "ExecuteTime": {
     "end_time": "2021-03-09T14:49:31.553800Z",
     "start_time": "2021-03-09T14:49:31.397260Z"
    }
   },
   "outputs": [
    {
     "data": {
      "image/svg+xml": [
       "<?xml version=\"1.0\" encoding=\"UTF-8\" standalone=\"no\"?>\r\n",
       "<!DOCTYPE svg PUBLIC \"-//W3C//DTD SVG 1.1//EN\"\r\n",
       " \"http://www.w3.org/Graphics/SVG/1.1/DTD/svg11.dtd\">\r\n",
       "<!-- Generated by graphviz version 2.38.0 (20140413.2041)\r\n",
       " -->\r\n",
       "<!-- Title: %3 Pages: 1 -->\r\n",
       "<svg width=\"11562pt\" height=\"827pt\"\r\n",
       " viewBox=\"0.00 0.00 11561.79 827.00\" xmlns=\"http://www.w3.org/2000/svg\" xmlns:xlink=\"http://www.w3.org/1999/xlink\">\r\n",
       "<g id=\"graph0\" class=\"graph\" transform=\"scale(1 1) rotate(0) translate(4 823)\">\r\n",
       "<title>%3</title>\r\n",
       "<polygon fill=\"white\" stroke=\"none\" points=\"-4,4 -4,-823 11557.8,-823 11557.8,4 -4,4\"/>\r\n",
       "<!-- 0 -->\r\n",
       "<g id=\"node1\" class=\"node\"><title>0</title>\r\n",
       "<ellipse fill=\"none\" stroke=\"black\" cx=\"8206.39\" cy=\"-801\" rx=\"133.776\" ry=\"18\"/>\r\n",
       "<text text-anchor=\"middle\" x=\"8206.39\" y=\"-797.3\" font-family=\"Times New Roman,serif\" font-size=\"14.00\">TaxUnitquantity&lt;0.000341825507</text>\r\n",
       "</g>\r\n",
       "<!-- 1 -->\r\n",
       "<g id=\"node2\" class=\"node\"><title>1</title>\r\n",
       "<ellipse fill=\"none\" stroke=\"black\" cx=\"8136.39\" cy=\"-714\" rx=\"77.9862\" ry=\"18\"/>\r\n",
       "<text text-anchor=\"middle\" x=\"8136.39\" y=\"-710.3\" font-family=\"Times New Roman,serif\" font-size=\"14.00\">leaf=&#45;0.596103907</text>\r\n",
       "</g>\r\n",
       "<!-- 0&#45;&gt;1 -->\r\n",
       "<g id=\"edge1\" class=\"edge\"><title>0&#45;&gt;1</title>\r\n",
       "<path fill=\"none\" stroke=\"#0000ff\" d=\"M8192.23,-782.799C8182.01,-770.39 8168.06,-753.458 8156.67,-739.618\"/>\r\n",
       "<polygon fill=\"#0000ff\" stroke=\"#0000ff\" points=\"8159.36,-737.38 8150.3,-731.885 8153.95,-741.83 8159.36,-737.38\"/>\r\n",
       "<text text-anchor=\"middle\" x=\"8210.89\" y=\"-753.8\" font-family=\"Times New Roman,serif\" font-size=\"14.00\">yes, missing</text>\r\n",
       "</g>\r\n",
       "<!-- 2 -->\r\n",
       "<g id=\"node3\" class=\"node\"><title>2</title>\r\n",
       "<ellipse fill=\"none\" stroke=\"black\" cx=\"8324.39\" cy=\"-714\" rx=\"91.784\" ry=\"18\"/>\r\n",
       "<text text-anchor=\"middle\" x=\"8324.39\" y=\"-710.3\" font-family=\"Times New Roman,serif\" font-size=\"14.00\">TaxRatio&lt;0.42260772</text>\r\n",
       "</g>\r\n",
       "<!-- 0&#45;&gt;2 -->\r\n",
       "<g id=\"edge2\" class=\"edge\"><title>0&#45;&gt;2</title>\r\n",
       "<path fill=\"none\" stroke=\"#ff0000\" d=\"M8229.71,-783.207C8247.92,-770.083 8273.42,-751.721 8293.36,-737.355\"/>\r\n",
       "<polygon fill=\"#ff0000\" stroke=\"#ff0000\" points=\"8295.46,-740.154 8301.53,-731.469 8291.37,-734.474 8295.46,-740.154\"/>\r\n",
       "<text text-anchor=\"middle\" x=\"8280.89\" y=\"-753.8\" font-family=\"Times New Roman,serif\" font-size=\"14.00\">no</text>\r\n",
       "</g>\r\n",
       "<!-- 3 -->\r\n",
       "<g id=\"node4\" class=\"node\"><title>3</title>\r\n",
       "<ellipse fill=\"none\" stroke=\"black\" cx=\"7846.39\" cy=\"-627\" rx=\"174.669\" ry=\"18\"/>\r\n",
       "<text text-anchor=\"middle\" x=\"7846.39\" y=\"-623.3\" font-family=\"Times New Roman,serif\" font-size=\"14.00\">RiskH.contribuyente&amp;inciso_arancelario&lt;0.5</text>\r\n",
       "</g>\r\n",
       "<!-- 2&#45;&gt;3 -->\r\n",
       "<g id=\"edge3\" class=\"edge\"><title>2&#45;&gt;3</title>\r\n",
       "<path fill=\"none\" stroke=\"#0000ff\" d=\"M8258.93,-701.359C8176.41,-686.685 8034,-661.362 7940,-644.646\"/>\r\n",
       "<polygon fill=\"#0000ff\" stroke=\"#0000ff\" points=\"7940.38,-641.158 7929.92,-642.854 7939.16,-648.05 7940.38,-641.158\"/>\r\n",
       "<text text-anchor=\"middle\" x=\"8148.89\" y=\"-666.8\" font-family=\"Times New Roman,serif\" font-size=\"14.00\">yes, missing</text>\r\n",
       "</g>\r\n",
       "<!-- 4 -->\r\n",
       "<g id=\"node5\" class=\"node\"><title>4</title>\r\n",
       "<ellipse fill=\"none\" stroke=\"black\" cx=\"8629.39\" cy=\"-627\" rx=\"75.2868\" ry=\"18\"/>\r\n",
       "<text text-anchor=\"middle\" x=\"8629.39\" y=\"-623.3\" font-family=\"Times New Roman,serif\" font-size=\"14.00\">peso_bruto&lt;1845</text>\r\n",
       "</g>\r\n",
       "<!-- 2&#45;&gt;4 -->\r\n",
       "<g id=\"edge4\" class=\"edge\"><title>2&#45;&gt;4</title>\r\n",
       "<path fill=\"none\" stroke=\"#ff0000\" d=\"M8375.1,-698.869C8429.43,-683.727 8515.49,-659.745 8572.2,-643.94\"/>\r\n",
       "<polygon fill=\"#ff0000\" stroke=\"#ff0000\" points=\"8573.39,-647.242 8582.08,-641.186 8571.51,-640.499 8573.39,-647.242\"/>\r\n",
       "<text text-anchor=\"middle\" x=\"8502.89\" y=\"-666.8\" font-family=\"Times New Roman,serif\" font-size=\"14.00\">no</text>\r\n",
       "</g>\r\n",
       "<!-- 5 -->\r\n",
       "<g id=\"node6\" class=\"node\"><title>5</title>\r\n",
       "<ellipse fill=\"none\" stroke=\"black\" cx=\"6246.39\" cy=\"-540\" rx=\"61.99\" ry=\"18\"/>\r\n",
       "<text text-anchor=\"middle\" x=\"6246.39\" y=\"-536.3\" font-family=\"Times New Roman,serif\" font-size=\"14.00\">cuantia&lt;0.125</text>\r\n",
       "</g>\r\n",
       "<!-- 3&#45;&gt;5 -->\r\n",
       "<g id=\"edge5\" class=\"edge\"><title>3&#45;&gt;5</title>\r\n",
       "<path fill=\"none\" stroke=\"#0000ff\" d=\"M7695.15,-617.965C7358.59,-600.085 6558.43,-557.577 6316.73,-544.737\"/>\r\n",
       "<polygon fill=\"#0000ff\" stroke=\"#0000ff\" points=\"6316.83,-541.237 6306.66,-544.202 6316.46,-548.227 6316.83,-541.237\"/>\r\n",
       "<text text-anchor=\"middle\" x=\"7176.89\" y=\"-579.8\" font-family=\"Times New Roman,serif\" font-size=\"14.00\">yes, missing</text>\r\n",
       "</g>\r\n",
       "<!-- 6 -->\r\n",
       "<g id=\"node7\" class=\"node\"><title>6</title>\r\n",
       "<ellipse fill=\"none\" stroke=\"black\" cx=\"7846.39\" cy=\"-540\" rx=\"73.387\" ry=\"18\"/>\r\n",
       "<text text-anchor=\"middle\" x=\"7846.39\" y=\"-536.3\" font-family=\"Times New Roman,serif\" font-size=\"14.00\">leaf=&#45;0.59466666</text>\r\n",
       "</g>\r\n",
       "<!-- 3&#45;&gt;6 -->\r\n",
       "<g id=\"edge6\" class=\"edge\"><title>3&#45;&gt;6</title>\r\n",
       "<path fill=\"none\" stroke=\"#ff0000\" d=\"M7846.39,-608.799C7846.39,-597.163 7846.39,-581.548 7846.39,-568.237\"/>\r\n",
       "<polygon fill=\"#ff0000\" stroke=\"#ff0000\" points=\"7849.89,-568.175 7846.39,-558.175 7842.89,-568.175 7849.89,-568.175\"/>\r\n",
       "<text text-anchor=\"middle\" x=\"7853.89\" y=\"-579.8\" font-family=\"Times New Roman,serif\" font-size=\"14.00\">no</text>\r\n",
       "</g>\r\n",
       "<!-- 7 -->\r\n",
       "<g id=\"node116\" class=\"node\"><title>7</title>\r\n",
       "<ellipse fill=\"none\" stroke=\"black\" cx=\"8629.39\" cy=\"-540\" rx=\"111.581\" ry=\"18\"/>\r\n",
       "<text text-anchor=\"middle\" x=\"8629.39\" y=\"-536.3\" font-family=\"Times New Roman,serif\" font-size=\"14.00\">impuesto_total&lt;42.8549995</text>\r\n",
       "</g>\r\n",
       "<!-- 4&#45;&gt;7 -->\r\n",
       "<g id=\"edge115\" class=\"edge\"><title>4&#45;&gt;7</title>\r\n",
       "<path fill=\"none\" stroke=\"#0000ff\" d=\"M8629.39,-608.799C8629.39,-597.163 8629.39,-581.548 8629.39,-568.237\"/>\r\n",
       "<polygon fill=\"#0000ff\" stroke=\"#0000ff\" points=\"8632.89,-568.175 8629.39,-558.175 8625.89,-568.175 8632.89,-568.175\"/>\r\n",
       "<text text-anchor=\"middle\" x=\"8663.89\" y=\"-579.8\" font-family=\"Times New Roman,serif\" font-size=\"14.00\">yes, missing</text>\r\n",
       "</g>\r\n",
       "<!-- 8 -->\r\n",
       "<g id=\"node117\" class=\"node\"><title>8</title>\r\n",
       "<ellipse fill=\"none\" stroke=\"black\" cx=\"10340.4\" cy=\"-540\" rx=\"96.3833\" ry=\"18\"/>\r\n",
       "<text text-anchor=\"middle\" x=\"10340.4\" y=\"-536.3\" font-family=\"Times New Roman,serif\" font-size=\"14.00\">TaxRatio&lt;0.479613602</text>\r\n",
       "</g>\r\n",
       "<!-- 4&#45;&gt;8 -->\r\n",
       "<g id=\"edge116\" class=\"edge\"><title>4&#45;&gt;8</title>\r\n",
       "<path fill=\"none\" stroke=\"#ff0000\" d=\"M8702.37,-622.375C8973.62,-608.899 9924.29,-561.671 10238.6,-546.055\"/>\r\n",
       "<polygon fill=\"#ff0000\" stroke=\"#ff0000\" points=\"10238.8,-549.55 10248.6,-545.558 10238.5,-542.558 10238.8,-549.55\"/>\r\n",
       "<text text-anchor=\"middle\" x=\"9594.89\" y=\"-579.8\" font-family=\"Times New Roman,serif\" font-size=\"14.00\">no</text>\r\n",
       "</g>\r\n",
       "<!-- 9 -->\r\n",
       "<g id=\"node8\" class=\"node\"><title>9</title>\r\n",
       "<ellipse fill=\"none\" stroke=\"black\" cx=\"3045.39\" cy=\"-453\" rx=\"100.182\" ry=\"18\"/>\r\n",
       "<text text-anchor=\"middle\" x=\"3045.39\" y=\"-449.3\" font-family=\"Times New Roman,serif\" font-size=\"14.00\">WUnitprice&lt;3.93006277</text>\r\n",
       "</g>\r\n",
       "<!-- 5&#45;&gt;9 -->\r\n",
       "<g id=\"edge7\" class=\"edge\"><title>5&#45;&gt;9</title>\r\n",
       "<path fill=\"none\" stroke=\"#0000ff\" d=\"M6185.31,-537.378C5796.01,-527.04 3661.81,-470.368 3153.9,-456.881\"/>\r\n",
       "<polygon fill=\"#0000ff\" stroke=\"#0000ff\" points=\"3153.74,-453.376 3143.65,-456.609 3153.55,-460.373 3153.74,-453.376\"/>\r\n",
       "<text text-anchor=\"middle\" x=\"4872.89\" y=\"-492.8\" font-family=\"Times New Roman,serif\" font-size=\"14.00\">yes, missing</text>\r\n",
       "</g>\r\n",
       "<!-- 10 -->\r\n",
       "<g id=\"node9\" class=\"node\"><title>10</title>\r\n",
       "<ellipse fill=\"none\" stroke=\"black\" cx=\"6246.39\" cy=\"-453\" rx=\"87.9851\" ry=\"18\"/>\r\n",
       "<text text-anchor=\"middle\" x=\"6246.39\" y=\"-449.3\" font-family=\"Times New Roman,serif\" font-size=\"14.00\">cuantia&lt;0.735000014</text>\r\n",
       "</g>\r\n",
       "<!-- 5&#45;&gt;10 -->\r\n",
       "<g id=\"edge8\" class=\"edge\"><title>5&#45;&gt;10</title>\r\n",
       "<path fill=\"none\" stroke=\"#ff0000\" d=\"M6246.39,-521.799C6246.39,-510.163 6246.39,-494.548 6246.39,-481.237\"/>\r\n",
       "<polygon fill=\"#ff0000\" stroke=\"#ff0000\" points=\"6249.89,-481.175 6246.39,-471.175 6242.89,-481.175 6249.89,-481.175\"/>\r\n",
       "<text text-anchor=\"middle\" x=\"6253.89\" y=\"-492.8\" font-family=\"Times New Roman,serif\" font-size=\"14.00\">no</text>\r\n",
       "</g>\r\n",
       "<!-- 15 -->\r\n",
       "<g id=\"node10\" class=\"node\"><title>15</title>\r\n",
       "<ellipse fill=\"none\" stroke=\"black\" cx=\"2103.39\" cy=\"-366\" rx=\"100.182\" ry=\"18\"/>\r\n",
       "<text text-anchor=\"middle\" x=\"2103.39\" y=\"-362.3\" font-family=\"Times New Roman,serif\" font-size=\"14.00\">WUnitprice&lt;2.99587631</text>\r\n",
       "</g>\r\n",
       "<!-- 9&#45;&gt;15 -->\r\n",
       "<g id=\"edge9\" class=\"edge\"><title>9&#45;&gt;15</title>\r\n",
       "<path fill=\"none\" stroke=\"#0000ff\" d=\"M2958.04,-444.118C2781.89,-428.223 2385.22,-392.43 2200.92,-375.801\"/>\r\n",
       "<polygon fill=\"#0000ff\" stroke=\"#0000ff\" points=\"2200.98,-372.291 2190.7,-374.878 2200.35,-379.263 2200.98,-372.291\"/>\r\n",
       "<text text-anchor=\"middle\" x=\"2665.89\" y=\"-405.8\" font-family=\"Times New Roman,serif\" font-size=\"14.00\">yes, missing</text>\r\n",
       "</g>\r\n",
       "<!-- 16 -->\r\n",
       "<g id=\"node11\" class=\"node\"><title>16</title>\r\n",
       "<ellipse fill=\"none\" stroke=\"black\" cx=\"3045.39\" cy=\"-366\" rx=\"90.9839\" ry=\"18\"/>\r\n",
       "<text text-anchor=\"middle\" x=\"3045.39\" y=\"-362.3\" font-family=\"Times New Roman,serif\" font-size=\"14.00\">Unitprice&lt;1975.30005</text>\r\n",
       "</g>\r\n",
       "<!-- 9&#45;&gt;16 -->\r\n",
       "<g id=\"edge10\" class=\"edge\"><title>9&#45;&gt;16</title>\r\n",
       "<path fill=\"none\" stroke=\"#ff0000\" d=\"M3045.39,-434.799C3045.39,-423.163 3045.39,-407.548 3045.39,-394.237\"/>\r\n",
       "<polygon fill=\"#ff0000\" stroke=\"#ff0000\" points=\"3048.89,-394.175 3045.39,-384.175 3041.89,-394.175 3048.89,-394.175\"/>\r\n",
       "<text text-anchor=\"middle\" x=\"3052.89\" y=\"-405.8\" font-family=\"Times New Roman,serif\" font-size=\"14.00\">no</text>\r\n",
       "</g>\r\n",
       "<!-- 17 -->\r\n",
       "<g id=\"node62\" class=\"node\"><title>17</title>\r\n",
       "<ellipse fill=\"none\" stroke=\"black\" cx=\"5958.39\" cy=\"-366\" rx=\"100.182\" ry=\"18\"/>\r\n",
       "<text text-anchor=\"middle\" x=\"5958.39\" y=\"-362.3\" font-family=\"Times New Roman,serif\" font-size=\"14.00\">peso_bruto&lt;34.8799973</text>\r\n",
       "</g>\r\n",
       "<!-- 10&#45;&gt;17 -->\r\n",
       "<g id=\"edge61\" class=\"edge\"><title>10&#45;&gt;17</title>\r\n",
       "<path fill=\"none\" stroke=\"#0000ff\" d=\"M6198.51,-437.869C6148.97,-423.247 6071.5,-400.382 6018.02,-384.598\"/>\r\n",
       "<polygon fill=\"#0000ff\" stroke=\"#0000ff\" points=\"6018.91,-381.21 6008.32,-381.736 6016.92,-387.924 6018.91,-381.21\"/>\r\n",
       "<text text-anchor=\"middle\" x=\"6154.89\" y=\"-405.8\" font-family=\"Times New Roman,serif\" font-size=\"14.00\">yes, missing</text>\r\n",
       "</g>\r\n",
       "<!-- 18 -->\r\n",
       "<g id=\"node63\" class=\"node\"><title>18</title>\r\n",
       "<ellipse fill=\"none\" stroke=\"black\" cx=\"6869.39\" cy=\"-366\" rx=\"96.3833\" ry=\"18\"/>\r\n",
       "<text text-anchor=\"middle\" x=\"6869.39\" y=\"-362.3\" font-family=\"Times New Roman,serif\" font-size=\"14.00\">TaxRatio&lt;0.130145624</text>\r\n",
       "</g>\r\n",
       "<!-- 10&#45;&gt;18 -->\r\n",
       "<g id=\"edge62\" class=\"edge\"><title>10&#45;&gt;18</title>\r\n",
       "<path fill=\"none\" stroke=\"#ff0000\" d=\"M6317.25,-442.332C6432.49,-426.609 6660.08,-395.558 6784.04,-378.645\"/>\r\n",
       "<polygon fill=\"#ff0000\" stroke=\"#ff0000\" points=\"6784.81,-382.073 6794.24,-377.253 6783.86,-375.137 6784.81,-382.073\"/>\r\n",
       "<text text-anchor=\"middle\" x=\"6602.89\" y=\"-405.8\" font-family=\"Times New Roman,serif\" font-size=\"14.00\">no</text>\r\n",
       "</g>\r\n",
       "<!-- 27 -->\r\n",
       "<g id=\"node12\" class=\"node\"><title>27</title>\r\n",
       "<ellipse fill=\"none\" stroke=\"black\" cx=\"982.393\" cy=\"-279\" rx=\"92.0841\" ry=\"18\"/>\r\n",
       "<text text-anchor=\"middle\" x=\"982.393\" y=\"-275.3\" font-family=\"Times New Roman,serif\" font-size=\"14.00\">cuantia&lt;0.0850000009</text>\r\n",
       "</g>\r\n",
       "<!-- 15&#45;&gt;27 -->\r\n",
       "<g id=\"edge11\" class=\"edge\"><title>15&#45;&gt;27</title>\r\n",
       "<path fill=\"none\" stroke=\"#0000ff\" d=\"M2013.08,-358.152C1804.31,-342.322 1289.91,-303.317 1077.01,-287.174\"/>\r\n",
       "<polygon fill=\"#0000ff\" stroke=\"#0000ff\" points=\"1077.03,-283.666 1066.79,-286.4 1076.5,-290.646 1077.03,-283.666\"/>\r\n",
       "<text text-anchor=\"middle\" x=\"1644.89\" y=\"-318.8\" font-family=\"Times New Roman,serif\" font-size=\"14.00\">yes, missing</text>\r\n",
       "</g>\r\n",
       "<!-- 28 -->\r\n",
       "<g id=\"node13\" class=\"node\"><title>28</title>\r\n",
       "<ellipse fill=\"none\" stroke=\"black\" cx=\"2103.39\" cy=\"-279\" rx=\"100.182\" ry=\"18\"/>\r\n",
       "<text text-anchor=\"middle\" x=\"2103.39\" y=\"-275.3\" font-family=\"Times New Roman,serif\" font-size=\"14.00\">WUnitprice&lt;3.76696825</text>\r\n",
       "</g>\r\n",
       "<!-- 15&#45;&gt;28 -->\r\n",
       "<g id=\"edge12\" class=\"edge\"><title>15&#45;&gt;28</title>\r\n",
       "<path fill=\"none\" stroke=\"#ff0000\" d=\"M2103.39,-347.799C2103.39,-336.163 2103.39,-320.548 2103.39,-307.237\"/>\r\n",
       "<polygon fill=\"#ff0000\" stroke=\"#ff0000\" points=\"2106.89,-307.175 2103.39,-297.175 2099.89,-307.175 2106.89,-307.175\"/>\r\n",
       "<text text-anchor=\"middle\" x=\"2110.89\" y=\"-318.8\" font-family=\"Times New Roman,serif\" font-size=\"14.00\">no</text>\r\n",
       "</g>\r\n",
       "<!-- 29 -->\r\n",
       "<g id=\"node42\" class=\"node\"><title>29</title>\r\n",
       "<ellipse fill=\"none\" stroke=\"black\" cx=\"2987.39\" cy=\"-279\" rx=\"100.182\" ry=\"18\"/>\r\n",
       "<text text-anchor=\"middle\" x=\"2987.39\" y=\"-275.3\" font-family=\"Times New Roman,serif\" font-size=\"14.00\">peso_bruto&lt;14.3050003</text>\r\n",
       "</g>\r\n",
       "<!-- 16&#45;&gt;29 -->\r\n",
       "<g id=\"edge41\" class=\"edge\"><title>16&#45;&gt;29</title>\r\n",
       "<path fill=\"none\" stroke=\"#0000ff\" d=\"M3033.66,-347.799C3025.35,-335.622 3014.07,-319.089 3004.72,-305.398\"/>\r\n",
       "<polygon fill=\"#0000ff\" stroke=\"#0000ff\" points=\"3007.44,-303.173 2998.92,-296.885 3001.66,-307.118 3007.44,-303.173\"/>\r\n",
       "<text text-anchor=\"middle\" x=\"3054.89\" y=\"-318.8\" font-family=\"Times New Roman,serif\" font-size=\"14.00\">yes, missing</text>\r\n",
       "</g>\r\n",
       "<!-- 30 -->\r\n",
       "<g id=\"node43\" class=\"node\"><title>30</title>\r\n",
       "<ellipse fill=\"none\" stroke=\"black\" cx=\"3322.39\" cy=\"-279\" rx=\"100.182\" ry=\"18\"/>\r\n",
       "<text text-anchor=\"middle\" x=\"3322.39\" y=\"-275.3\" font-family=\"Times New Roman,serif\" font-size=\"14.00\">WUnitprice&lt;10.3183823</text>\r\n",
       "</g>\r\n",
       "<!-- 16&#45;&gt;30 -->\r\n",
       "<g id=\"edge42\" class=\"edge\"><title>16&#45;&gt;30</title>\r\n",
       "<path fill=\"none\" stroke=\"#ff0000\" d=\"M3092.38,-350.581C3139.8,-336.03 3213.12,-313.531 3264.19,-297.86\"/>\r\n",
       "<polygon fill=\"#ff0000\" stroke=\"#ff0000\" points=\"3265.24,-301.199 3273.77,-294.919 3263.19,-294.507 3265.24,-301.199\"/>\r\n",
       "<text text-anchor=\"middle\" x=\"3208.89\" y=\"-318.8\" font-family=\"Times New Roman,serif\" font-size=\"14.00\">no</text>\r\n",
       "</g>\r\n",
       "<!-- 47 -->\r\n",
       "<g id=\"node14\" class=\"node\"><title>47</title>\r\n",
       "<ellipse fill=\"none\" stroke=\"black\" cx=\"524.393\" cy=\"-192\" rx=\"100.182\" ry=\"18\"/>\r\n",
       "<text text-anchor=\"middle\" x=\"524.393\" y=\"-188.3\" font-family=\"Times New Roman,serif\" font-size=\"14.00\">peso_bruto&lt;9.21999931</text>\r\n",
       "</g>\r\n",
       "<!-- 27&#45;&gt;47 -->\r\n",
       "<g id=\"edge13\" class=\"edge\"><title>27&#45;&gt;47</title>\r\n",
       "<path fill=\"none\" stroke=\"#0000ff\" d=\"M917.744,-266.002C834.526,-250.557 690.106,-223.755 601.327,-207.278\"/>\r\n",
       "<polygon fill=\"#0000ff\" stroke=\"#0000ff\" points=\"601.788,-203.804 591.317,-205.42 600.51,-210.686 601.788,-203.804\"/>\r\n",
       "<text text-anchor=\"middle\" x=\"815.893\" y=\"-231.8\" font-family=\"Times New Roman,serif\" font-size=\"14.00\">yes, missing</text>\r\n",
       "</g>\r\n",
       "<!-- 48 -->\r\n",
       "<g id=\"node15\" class=\"node\"><title>48</title>\r\n",
       "<ellipse fill=\"none\" stroke=\"black\" cx=\"982.393\" cy=\"-192\" rx=\"120.479\" ry=\"18\"/>\r\n",
       "<text text-anchor=\"middle\" x=\"982.393\" y=\"-188.3\" font-family=\"Times New Roman,serif\" font-size=\"14.00\">TaxUnitquantity&lt;0.534366429</text>\r\n",
       "</g>\r\n",
       "<!-- 27&#45;&gt;48 -->\r\n",
       "<g id=\"edge14\" class=\"edge\"><title>27&#45;&gt;48</title>\r\n",
       "<path fill=\"none\" stroke=\"#ff0000\" d=\"M982.393,-260.799C982.393,-249.163 982.393,-233.548 982.393,-220.237\"/>\r\n",
       "<polygon fill=\"#ff0000\" stroke=\"#ff0000\" points=\"985.893,-220.175 982.393,-210.175 978.893,-220.175 985.893,-220.175\"/>\r\n",
       "<text text-anchor=\"middle\" x=\"989.893\" y=\"-231.8\" font-family=\"Times New Roman,serif\" font-size=\"14.00\">no</text>\r\n",
       "</g>\r\n",
       "<!-- 49 -->\r\n",
       "<g id=\"node28\" class=\"node\"><title>49</title>\r\n",
       "<ellipse fill=\"none\" stroke=\"black\" cx=\"1894.39\" cy=\"-192\" rx=\"100.182\" ry=\"18\"/>\r\n",
       "<text text-anchor=\"middle\" x=\"1894.39\" y=\"-188.3\" font-family=\"Times New Roman,serif\" font-size=\"14.00\">WUnitprice&lt;3.18212271</text>\r\n",
       "</g>\r\n",
       "<!-- 28&#45;&gt;49 -->\r\n",
       "<g id=\"edge27\" class=\"edge\"><title>28&#45;&gt;49</title>\r\n",
       "<path fill=\"none\" stroke=\"#0000ff\" d=\"M2064.57,-262.211C2030.11,-248.196 1979.63,-227.664 1942.59,-212.602\"/>\r\n",
       "<polygon fill=\"#0000ff\" stroke=\"#0000ff\" points=\"1943.59,-209.229 1933.01,-208.704 1940.95,-215.714 1943.59,-209.229\"/>\r\n",
       "<text text-anchor=\"middle\" x=\"2046.89\" y=\"-231.8\" font-family=\"Times New Roman,serif\" font-size=\"14.00\">yes, missing</text>\r\n",
       "</g>\r\n",
       "<!-- 50 -->\r\n",
       "<g id=\"node29\" class=\"node\"><title>50</title>\r\n",
       "<ellipse fill=\"none\" stroke=\"black\" cx=\"2211.39\" cy=\"-192\" rx=\"100.182\" ry=\"18\"/>\r\n",
       "<text text-anchor=\"middle\" x=\"2211.39\" y=\"-188.3\" font-family=\"Times New Roman,serif\" font-size=\"14.00\">WUnitprice&lt;3.83575869</text>\r\n",
       "</g>\r\n",
       "<!-- 28&#45;&gt;50 -->\r\n",
       "<g id=\"edge28\" class=\"edge\"><title>28&#45;&gt;50</title>\r\n",
       "<path fill=\"none\" stroke=\"#ff0000\" d=\"M2124.73,-261.207C2141.15,-248.284 2164.02,-230.283 2182.15,-216.018\"/>\r\n",
       "<polygon fill=\"#ff0000\" stroke=\"#ff0000\" points=\"2184.41,-218.693 2190.1,-209.758 2180.08,-213.193 2184.41,-218.693\"/>\r\n",
       "<text text-anchor=\"middle\" x=\"2171.89\" y=\"-231.8\" font-family=\"Times New Roman,serif\" font-size=\"14.00\">no</text>\r\n",
       "</g>\r\n",
       "<!-- 75 -->\r\n",
       "<g id=\"node16\" class=\"node\"><title>75</title>\r\n",
       "<ellipse fill=\"none\" stroke=\"black\" cx=\"246.393\" cy=\"-105\" rx=\"104.782\" ry=\"18\"/>\r\n",
       "<text text-anchor=\"middle\" x=\"246.393\" y=\"-101.3\" font-family=\"Times New Roman,serif\" font-size=\"14.00\">peso_bruto&lt;0.444999993</text>\r\n",
       "</g>\r\n",
       "<!-- 47&#45;&gt;75 -->\r\n",
       "<g id=\"edge15\" class=\"edge\"><title>47&#45;&gt;75</title>\r\n",
       "<path fill=\"none\" stroke=\"#0000ff\" d=\"M475.969,-176.194C428.571,-161.702 356.284,-139.6 305.517,-124.077\"/>\r\n",
       "<polygon fill=\"#0000ff\" stroke=\"#0000ff\" points=\"306.25,-120.642 295.664,-121.065 304.203,-127.336 306.25,-120.642\"/>\r\n",
       "<text text-anchor=\"middle\" x=\"436.893\" y=\"-144.8\" font-family=\"Times New Roman,serif\" font-size=\"14.00\">yes, missing</text>\r\n",
       "</g>\r\n",
       "<!-- 76 -->\r\n",
       "<g id=\"node17\" class=\"node\"><title>76</title>\r\n",
       "<ellipse fill=\"none\" stroke=\"black\" cx=\"524.393\" cy=\"-105\" rx=\"100.182\" ry=\"18\"/>\r\n",
       "<text text-anchor=\"middle\" x=\"524.393\" y=\"-101.3\" font-family=\"Times New Roman,serif\" font-size=\"14.00\">WUnitprice&lt;2.39047432</text>\r\n",
       "</g>\r\n",
       "<!-- 47&#45;&gt;76 -->\r\n",
       "<g id=\"edge16\" class=\"edge\"><title>47&#45;&gt;76</title>\r\n",
       "<path fill=\"none\" stroke=\"#ff0000\" d=\"M524.393,-173.799C524.393,-162.163 524.393,-146.548 524.393,-133.237\"/>\r\n",
       "<polygon fill=\"#ff0000\" stroke=\"#ff0000\" points=\"527.893,-133.175 524.393,-123.175 520.893,-133.175 527.893,-133.175\"/>\r\n",
       "<text text-anchor=\"middle\" x=\"531.893\" y=\"-144.8\" font-family=\"Times New Roman,serif\" font-size=\"14.00\">no</text>\r\n",
       "</g>\r\n",
       "<!-- 77 -->\r\n",
       "<g id=\"node22\" class=\"node\"><title>77</title>\r\n",
       "<ellipse fill=\"none\" stroke=\"black\" cx=\"912.393\" cy=\"-105\" rx=\"100.182\" ry=\"18\"/>\r\n",
       "<text text-anchor=\"middle\" x=\"912.393\" y=\"-101.3\" font-family=\"Times New Roman,serif\" font-size=\"14.00\">peso_bruto&lt;101.199997</text>\r\n",
       "</g>\r\n",
       "<!-- 48&#45;&gt;77 -->\r\n",
       "<g id=\"edge21\" class=\"edge\"><title>48&#45;&gt;77</title>\r\n",
       "<path fill=\"none\" stroke=\"#0000ff\" d=\"M968.228,-173.799C958.009,-161.39 944.064,-144.458 932.667,-130.618\"/>\r\n",
       "<polygon fill=\"#0000ff\" stroke=\"#0000ff\" points=\"935.358,-128.38 926.299,-122.885 929.954,-132.83 935.358,-128.38\"/>\r\n",
       "<text text-anchor=\"middle\" x=\"986.893\" y=\"-144.8\" font-family=\"Times New Roman,serif\" font-size=\"14.00\">yes, missing</text>\r\n",
       "</g>\r\n",
       "<!-- 78 -->\r\n",
       "<g id=\"node23\" class=\"node\"><title>78</title>\r\n",
       "<ellipse fill=\"none\" stroke=\"black\" cx=\"1098.39\" cy=\"-105\" rx=\"67.6881\" ry=\"18\"/>\r\n",
       "<text text-anchor=\"middle\" x=\"1098.39\" y=\"-101.3\" font-family=\"Times New Roman,serif\" font-size=\"14.00\">cif&lt;9.13999939</text>\r\n",
       "</g>\r\n",
       "<!-- 48&#45;&gt;78 -->\r\n",
       "<g id=\"edge22\" class=\"edge\"><title>48&#45;&gt;78</title>\r\n",
       "<path fill=\"none\" stroke=\"#ff0000\" d=\"M1005.31,-174.207C1023.26,-161.057 1048.38,-142.649 1068,-128.27\"/>\r\n",
       "<polygon fill=\"#ff0000\" stroke=\"#ff0000\" points=\"1070.31,-130.916 1076.31,-122.182 1066.18,-125.269 1070.31,-130.916\"/>\r\n",
       "<text text-anchor=\"middle\" x=\"1054.89\" y=\"-144.8\" font-family=\"Times New Roman,serif\" font-size=\"14.00\">no</text>\r\n",
       "</g>\r\n",
       "<!-- 121 -->\r\n",
       "<g id=\"node18\" class=\"node\"><title>121</title>\r\n",
       "<ellipse fill=\"none\" stroke=\"black\" cx=\"75.3933\" cy=\"-18\" rx=\"75.2868\" ry=\"18\"/>\r\n",
       "<text text-anchor=\"middle\" x=\"75.3933\" y=\"-14.3\" font-family=\"Times New Roman,serif\" font-size=\"14.00\">leaf=0.171428591</text>\r\n",
       "</g>\r\n",
       "<!-- 75&#45;&gt;121 -->\r\n",
       "<g id=\"edge17\" class=\"edge\"><title>75&#45;&gt;121</title>\r\n",
       "<path fill=\"none\" stroke=\"#0000ff\" d=\"M212.509,-87.9679C200.164,-82.0705 186.117,-75.2948 173.393,-69 154.004,-59.4073 132.589,-48.516 114.736,-39.3527\"/>\r\n",
       "<polygon fill=\"#0000ff\" stroke=\"#0000ff\" points=\"116.248,-36.1947 105.755,-34.7345 113.047,-42.42 116.248,-36.1947\"/>\r\n",
       "<text text-anchor=\"middle\" x=\"207.893\" y=\"-57.8\" font-family=\"Times New Roman,serif\" font-size=\"14.00\">yes, missing</text>\r\n",
       "</g>\r\n",
       "<!-- 122 -->\r\n",
       "<g id=\"node19\" class=\"node\"><title>122</title>\r\n",
       "<ellipse fill=\"none\" stroke=\"black\" cx=\"246.393\" cy=\"-18\" rx=\"77.9862\" ry=\"18\"/>\r\n",
       "<text text-anchor=\"middle\" x=\"246.393\" y=\"-14.3\" font-family=\"Times New Roman,serif\" font-size=\"14.00\">leaf=&#45;0.409756124</text>\r\n",
       "</g>\r\n",
       "<!-- 75&#45;&gt;122 -->\r\n",
       "<g id=\"edge18\" class=\"edge\"><title>75&#45;&gt;122</title>\r\n",
       "<path fill=\"none\" stroke=\"#ff0000\" d=\"M246.393,-86.799C246.393,-75.1626 246.393,-59.5479 246.393,-46.2368\"/>\r\n",
       "<polygon fill=\"#ff0000\" stroke=\"#ff0000\" points=\"249.893,-46.1754 246.393,-36.1754 242.893,-46.1755 249.893,-46.1754\"/>\r\n",
       "<text text-anchor=\"middle\" x=\"253.893\" y=\"-57.8\" font-family=\"Times New Roman,serif\" font-size=\"14.00\">no</text>\r\n",
       "</g>\r\n",
       "<!-- 123 -->\r\n",
       "<g id=\"node20\" class=\"node\"><title>123</title>\r\n",
       "<ellipse fill=\"none\" stroke=\"black\" cx=\"413.393\" cy=\"-18\" rx=\"70.6878\" ry=\"18\"/>\r\n",
       "<text text-anchor=\"middle\" x=\"413.393\" y=\"-14.3\" font-family=\"Times New Roman,serif\" font-size=\"14.00\">leaf=0.11186441</text>\r\n",
       "</g>\r\n",
       "<!-- 76&#45;&gt;123 -->\r\n",
       "<g id=\"edge19\" class=\"edge\"><title>76&#45;&gt;123</title>\r\n",
       "<path fill=\"none\" stroke=\"#0000ff\" d=\"M501.302,-87.4544C493.356,-81.6838 484.437,-75.1203 476.393,-69 464.882,-60.2406 452.37,-50.3828 441.553,-41.75\"/>\r\n",
       "<polygon fill=\"#0000ff\" stroke=\"#0000ff\" points=\"443.65,-38.9449 433.656,-35.4256 439.274,-44.4086 443.65,-38.9449\"/>\r\n",
       "<text text-anchor=\"middle\" x=\"510.893\" y=\"-57.8\" font-family=\"Times New Roman,serif\" font-size=\"14.00\">yes, missing</text>\r\n",
       "</g>\r\n",
       "<!-- 124 -->\r\n",
       "<g id=\"node21\" class=\"node\"><title>124</title>\r\n",
       "<ellipse fill=\"none\" stroke=\"black\" cx=\"580.393\" cy=\"-18\" rx=\"77.9862\" ry=\"18\"/>\r\n",
       "<text text-anchor=\"middle\" x=\"580.393\" y=\"-14.3\" font-family=\"Times New Roman,serif\" font-size=\"14.00\">leaf=&#45;0.266666681</text>\r\n",
       "</g>\r\n",
       "<!-- 76&#45;&gt;124 -->\r\n",
       "<g id=\"edge20\" class=\"edge\"><title>76&#45;&gt;124</title>\r\n",
       "<path fill=\"none\" stroke=\"#ff0000\" d=\"M535.726,-86.799C543.748,-74.6221 554.641,-58.0889 563.661,-44.3977\"/>\r\n",
       "<polygon fill=\"#ff0000\" stroke=\"#ff0000\" points=\"566.69,-46.1615 569.269,-35.8854 560.845,-42.3104 566.69,-46.1615\"/>\r\n",
       "<text text-anchor=\"middle\" x=\"563.893\" y=\"-57.8\" font-family=\"Times New Roman,serif\" font-size=\"14.00\">no</text>\r\n",
       "</g>\r\n",
       "<!-- 125 -->\r\n",
       "<g id=\"node24\" class=\"node\"><title>125</title>\r\n",
       "<ellipse fill=\"none\" stroke=\"black\" cx=\"749.393\" cy=\"-18\" rx=\"73.387\" ry=\"18\"/>\r\n",
       "<text text-anchor=\"middle\" x=\"749.393\" y=\"-14.3\" font-family=\"Times New Roman,serif\" font-size=\"14.00\">leaf=&#45;0.57345134</text>\r\n",
       "</g>\r\n",
       "<!-- 77&#45;&gt;125 -->\r\n",
       "<g id=\"edge23\" class=\"edge\"><title>77&#45;&gt;125</title>\r\n",
       "<path fill=\"none\" stroke=\"#0000ff\" d=\"M879.529,-87.8186C867.774,-81.9649 854.455,-75.2559 842.393,-69 824.132,-59.5285 804.01,-48.753 787.168,-39.6367\"/>\r\n",
       "<polygon fill=\"#0000ff\" stroke=\"#0000ff\" points=\"788.64,-36.4535 778.181,-34.7617 785.302,-42.6065 788.64,-36.4535\"/>\r\n",
       "<text text-anchor=\"middle\" x=\"876.893\" y=\"-57.8\" font-family=\"Times New Roman,serif\" font-size=\"14.00\">yes, missing</text>\r\n",
       "</g>\r\n",
       "<!-- 126 -->\r\n",
       "<g id=\"node25\" class=\"node\"><title>126</title>\r\n",
       "<ellipse fill=\"none\" stroke=\"black\" cx=\"918.393\" cy=\"-18\" rx=\"77.9862\" ry=\"18\"/>\r\n",
       "<text text-anchor=\"middle\" x=\"918.393\" y=\"-14.3\" font-family=\"Times New Roman,serif\" font-size=\"14.00\">leaf=&#45;0.120000005</text>\r\n",
       "</g>\r\n",
       "<!-- 77&#45;&gt;126 -->\r\n",
       "<g id=\"edge24\" class=\"edge\"><title>77&#45;&gt;126</title>\r\n",
       "<path fill=\"none\" stroke=\"#ff0000\" d=\"M913.607,-86.799C914.429,-75.1626 915.531,-59.5479 916.471,-46.2368\"/>\r\n",
       "<polygon fill=\"#ff0000\" stroke=\"#ff0000\" points=\"919.968,-46.3971 917.181,-36.1754 912.985,-45.9041 919.968,-46.3971\"/>\r\n",
       "<text text-anchor=\"middle\" x=\"923.893\" y=\"-57.8\" font-family=\"Times New Roman,serif\" font-size=\"14.00\">no</text>\r\n",
       "</g>\r\n",
       "<!-- 127 -->\r\n",
       "<g id=\"node26\" class=\"node\"><title>127</title>\r\n",
       "<ellipse fill=\"none\" stroke=\"black\" cx=\"1092.39\" cy=\"-18\" rx=\"77.9862\" ry=\"18\"/>\r\n",
       "<text text-anchor=\"middle\" x=\"1092.39\" y=\"-14.3\" font-family=\"Times New Roman,serif\" font-size=\"14.00\">leaf=&#45;0.428571463</text>\r\n",
       "</g>\r\n",
       "<!-- 78&#45;&gt;127 -->\r\n",
       "<g id=\"edge25\" class=\"edge\"><title>78&#45;&gt;127</title>\r\n",
       "<path fill=\"none\" stroke=\"#0000ff\" d=\"M1097.18,-86.799C1096.36,-75.1626 1095.26,-59.5479 1094.32,-46.2368\"/>\r\n",
       "<polygon fill=\"#0000ff\" stroke=\"#0000ff\" points=\"1097.8,-45.9041 1093.61,-36.1754 1090.82,-46.3971 1097.8,-45.9041\"/>\r\n",
       "<text text-anchor=\"middle\" x=\"1130.89\" y=\"-57.8\" font-family=\"Times New Roman,serif\" font-size=\"14.00\">yes, missing</text>\r\n",
       "</g>\r\n",
       "<!-- 128 -->\r\n",
       "<g id=\"node27\" class=\"node\"><title>128</title>\r\n",
       "<ellipse fill=\"none\" stroke=\"black\" cx=\"1271.39\" cy=\"-18\" rx=\"82.5854\" ry=\"18\"/>\r\n",
       "<text text-anchor=\"middle\" x=\"1271.39\" y=\"-14.3\" font-family=\"Times New Roman,serif\" font-size=\"14.00\">leaf=&#45;0.0947368443</text>\r\n",
       "</g>\r\n",
       "<!-- 78&#45;&gt;128 -->\r\n",
       "<g id=\"edge26\" class=\"edge\"><title>78&#45;&gt;128</title>\r\n",
       "<path fill=\"none\" stroke=\"#ff0000\" d=\"M1129.32,-88.8037C1157.51,-74.9556 1199.34,-54.4007 1230.32,-39.1792\"/>\r\n",
       "<polygon fill=\"#ff0000\" stroke=\"#ff0000\" points=\"1232.13,-42.191 1239.56,-34.6398 1229.04,-35.9083 1232.13,-42.191\"/>\r\n",
       "<text text-anchor=\"middle\" x=\"1202.89\" y=\"-57.8\" font-family=\"Times New Roman,serif\" font-size=\"14.00\">no</text>\r\n",
       "</g>\r\n",
       "<!-- 79 -->\r\n",
       "<g id=\"node30\" class=\"node\"><title>79</title>\r\n",
       "<ellipse fill=\"none\" stroke=\"black\" cx=\"1616.39\" cy=\"-105\" rx=\"100.182\" ry=\"18\"/>\r\n",
       "<text text-anchor=\"middle\" x=\"1616.39\" y=\"-101.3\" font-family=\"Times New Roman,serif\" font-size=\"14.00\">WUnitprice&lt;3.02640676</text>\r\n",
       "</g>\r\n",
       "<!-- 49&#45;&gt;79 -->\r\n",
       "<g id=\"edge29\" class=\"edge\"><title>49&#45;&gt;79</title>\r\n",
       "<path fill=\"none\" stroke=\"#0000ff\" d=\"M1845.97,-176.194C1798.28,-161.613 1725.39,-139.327 1674.58,-123.791\"/>\r\n",
       "<polygon fill=\"#0000ff\" stroke=\"#0000ff\" points=\"1675.31,-120.356 1664.73,-120.779 1673.27,-127.05 1675.31,-120.356\"/>\r\n",
       "<text text-anchor=\"middle\" x=\"1806.89\" y=\"-144.8\" font-family=\"Times New Roman,serif\" font-size=\"14.00\">yes, missing</text>\r\n",
       "</g>\r\n",
       "<!-- 80 -->\r\n",
       "<g id=\"node31\" class=\"node\"><title>80</title>\r\n",
       "<ellipse fill=\"none\" stroke=\"black\" cx=\"1894.39\" cy=\"-105\" rx=\"63.0888\" ry=\"18\"/>\r\n",
       "<text text-anchor=\"middle\" x=\"1894.39\" y=\"-101.3\" font-family=\"Times New Roman,serif\" font-size=\"14.00\">cif&lt;1.1500001</text>\r\n",
       "</g>\r\n",
       "<!-- 49&#45;&gt;80 -->\r\n",
       "<g id=\"edge30\" class=\"edge\"><title>49&#45;&gt;80</title>\r\n",
       "<path fill=\"none\" stroke=\"#ff0000\" d=\"M1894.39,-173.799C1894.39,-162.163 1894.39,-146.548 1894.39,-133.237\"/>\r\n",
       "<polygon fill=\"#ff0000\" stroke=\"#ff0000\" points=\"1897.89,-133.175 1894.39,-123.175 1890.89,-133.175 1897.89,-133.175\"/>\r\n",
       "<text text-anchor=\"middle\" x=\"1901.89\" y=\"-144.8\" font-family=\"Times New Roman,serif\" font-size=\"14.00\">no</text>\r\n",
       "</g>\r\n",
       "<!-- 81 -->\r\n",
       "<g id=\"node36\" class=\"node\"><title>81</title>\r\n",
       "<ellipse fill=\"none\" stroke=\"black\" cx=\"2211.39\" cy=\"-105\" rx=\"92.0841\" ry=\"18\"/>\r\n",
       "<text text-anchor=\"middle\" x=\"2211.39\" y=\"-101.3\" font-family=\"Times New Roman,serif\" font-size=\"14.00\">cuantia&lt;0.0949999988</text>\r\n",
       "</g>\r\n",
       "<!-- 50&#45;&gt;81 -->\r\n",
       "<g id=\"edge35\" class=\"edge\"><title>50&#45;&gt;81</title>\r\n",
       "<path fill=\"none\" stroke=\"#0000ff\" d=\"M2211.39,-173.799C2211.39,-162.163 2211.39,-146.548 2211.39,-133.237\"/>\r\n",
       "<polygon fill=\"#0000ff\" stroke=\"#0000ff\" points=\"2214.89,-133.175 2211.39,-123.175 2207.89,-133.175 2214.89,-133.175\"/>\r\n",
       "<text text-anchor=\"middle\" x=\"2245.89\" y=\"-144.8\" font-family=\"Times New Roman,serif\" font-size=\"14.00\">yes, missing</text>\r\n",
       "</g>\r\n",
       "<!-- 82 -->\r\n",
       "<g id=\"node37\" class=\"node\"><title>82</title>\r\n",
       "<ellipse fill=\"none\" stroke=\"black\" cx=\"2449.39\" cy=\"-105\" rx=\"90.9839\" ry=\"18\"/>\r\n",
       "<text text-anchor=\"middle\" x=\"2449.39\" y=\"-101.3\" font-family=\"Times New Roman,serif\" font-size=\"14.00\">Unitprice&lt;36.7000008</text>\r\n",
       "</g>\r\n",
       "<!-- 50&#45;&gt;82 -->\r\n",
       "<g id=\"edge36\" class=\"edge\"><title>50&#45;&gt;82</title>\r\n",
       "<path fill=\"none\" stroke=\"#ff0000\" d=\"M2254.22,-175.706C2294.53,-161.308 2354.96,-139.725 2397.89,-124.394\"/>\r\n",
       "<polygon fill=\"#ff0000\" stroke=\"#ff0000\" points=\"2399.07,-127.688 2407.31,-121.029 2396.72,-121.096 2399.07,-127.688\"/>\r\n",
       "<text text-anchor=\"middle\" x=\"2352.89\" y=\"-144.8\" font-family=\"Times New Roman,serif\" font-size=\"14.00\">no</text>\r\n",
       "</g>\r\n",
       "<!-- 129 -->\r\n",
       "<g id=\"node32\" class=\"node\"><title>129</title>\r\n",
       "<ellipse fill=\"none\" stroke=\"black\" cx=\"1447.39\" cy=\"-18\" rx=\"75.2868\" ry=\"18\"/>\r\n",
       "<text text-anchor=\"middle\" x=\"1447.39\" y=\"-14.3\" font-family=\"Times New Roman,serif\" font-size=\"14.00\">leaf=0.150000006</text>\r\n",
       "</g>\r\n",
       "<!-- 79&#45;&gt;129 -->\r\n",
       "<g id=\"edge31\" class=\"edge\"><title>79&#45;&gt;129</title>\r\n",
       "<path fill=\"none\" stroke=\"#0000ff\" d=\"M1582.48,-88.0266C1570.13,-82.1351 1556.09,-75.3482 1543.39,-69 1524.53,-59.5697 1503.76,-48.7992 1486.38,-39.6757\"/>\r\n",
       "<polygon fill=\"#0000ff\" stroke=\"#0000ff\" points=\"1487.58,-36.3545 1477.1,-34.7955 1484.32,-42.5493 1487.58,-36.3545\"/>\r\n",
       "<text text-anchor=\"middle\" x=\"1577.89\" y=\"-57.8\" font-family=\"Times New Roman,serif\" font-size=\"14.00\">yes, missing</text>\r\n",
       "</g>\r\n",
       "<!-- 130 -->\r\n",
       "<g id=\"node33\" class=\"node\"><title>130</title>\r\n",
       "<ellipse fill=\"none\" stroke=\"black\" cx=\"1616.39\" cy=\"-18\" rx=\"75.2868\" ry=\"18\"/>\r\n",
       "<text text-anchor=\"middle\" x=\"1616.39\" y=\"-14.3\" font-family=\"Times New Roman,serif\" font-size=\"14.00\">leaf=0.569032252</text>\r\n",
       "</g>\r\n",
       "<!-- 79&#45;&gt;130 -->\r\n",
       "<g id=\"edge32\" class=\"edge\"><title>79&#45;&gt;130</title>\r\n",
       "<path fill=\"none\" stroke=\"#ff0000\" d=\"M1616.39,-86.799C1616.39,-75.1626 1616.39,-59.5479 1616.39,-46.2368\"/>\r\n",
       "<polygon fill=\"#ff0000\" stroke=\"#ff0000\" points=\"1619.89,-46.1754 1616.39,-36.1754 1612.89,-46.1755 1619.89,-46.1754\"/>\r\n",
       "<text text-anchor=\"middle\" x=\"1623.89\" y=\"-57.8\" font-family=\"Times New Roman,serif\" font-size=\"14.00\">no</text>\r\n",
       "</g>\r\n",
       "<!-- 131 -->\r\n",
       "<g id=\"node34\" class=\"node\"><title>131</title>\r\n",
       "<ellipse fill=\"none\" stroke=\"black\" cx=\"1785.39\" cy=\"-18\" rx=\"75.2868\" ry=\"18\"/>\r\n",
       "<text text-anchor=\"middle\" x=\"1785.39\" y=\"-14.3\" font-family=\"Times New Roman,serif\" font-size=\"14.00\">leaf=0.171428591</text>\r\n",
       "</g>\r\n",
       "<!-- 80&#45;&gt;131 -->\r\n",
       "<g id=\"edge33\" class=\"edge\"><title>80&#45;&gt;131</title>\r\n",
       "<path fill=\"none\" stroke=\"#0000ff\" d=\"M1873.78,-87.9793C1866.12,-82.0236 1857.36,-75.2065 1849.39,-69 1837.96,-60.089 1825.39,-50.2723 1814.44,-41.7141\"/>\r\n",
       "<polygon fill=\"#0000ff\" stroke=\"#0000ff\" points=\"1816.46,-38.8514 1806.43,-35.4507 1812.15,-44.3666 1816.46,-38.8514\"/>\r\n",
       "<text text-anchor=\"middle\" x=\"1883.89\" y=\"-57.8\" font-family=\"Times New Roman,serif\" font-size=\"14.00\">yes, missing</text>\r\n",
       "</g>\r\n",
       "<!-- 132 -->\r\n",
       "<g id=\"node35\" class=\"node\"><title>132</title>\r\n",
       "<ellipse fill=\"none\" stroke=\"black\" cx=\"1956.39\" cy=\"-18\" rx=\"77.9862\" ry=\"18\"/>\r\n",
       "<text text-anchor=\"middle\" x=\"1956.39\" y=\"-14.3\" font-family=\"Times New Roman,serif\" font-size=\"14.00\">leaf=&#45;0.442857146</text>\r\n",
       "</g>\r\n",
       "<!-- 80&#45;&gt;132 -->\r\n",
       "<g id=\"edge34\" class=\"edge\"><title>80&#45;&gt;132</title>\r\n",
       "<path fill=\"none\" stroke=\"#ff0000\" d=\"M1906.64,-87.2067C1915.59,-74.9464 1927.86,-58.1143 1937.98,-44.2391\"/>\r\n",
       "<polygon fill=\"#ff0000\" stroke=\"#ff0000\" points=\"1940.89,-46.191 1943.96,-36.0493 1935.24,-42.0659 1940.89,-46.191\"/>\r\n",
       "<text text-anchor=\"middle\" x=\"1936.89\" y=\"-57.8\" font-family=\"Times New Roman,serif\" font-size=\"14.00\">no</text>\r\n",
       "</g>\r\n",
       "<!-- 133 -->\r\n",
       "<g id=\"node38\" class=\"node\"><title>133</title>\r\n",
       "<ellipse fill=\"none\" stroke=\"black\" cx=\"2118.39\" cy=\"-18\" rx=\"66.0889\" ry=\"18\"/>\r\n",
       "<text text-anchor=\"middle\" x=\"2118.39\" y=\"-14.3\" font-family=\"Times New Roman,serif\" font-size=\"14.00\">leaf=0.5657143</text>\r\n",
       "</g>\r\n",
       "<!-- 81&#45;&gt;133 -->\r\n",
       "<g id=\"edge37\" class=\"edge\"><title>81&#45;&gt;133</title>\r\n",
       "<path fill=\"none\" stroke=\"#0000ff\" d=\"M2190.04,-87.3302C2183.01,-81.6616 2175.25,-75.1918 2168.39,-69 2159.32,-60.8127 2149.75,-51.4338 2141.43,-43.0273\"/>\r\n",
       "<polygon fill=\"#0000ff\" stroke=\"#0000ff\" points=\"2143.7,-40.3374 2134.2,-35.6426 2138.7,-45.2357 2143.7,-40.3374\"/>\r\n",
       "<text text-anchor=\"middle\" x=\"2202.89\" y=\"-57.8\" font-family=\"Times New Roman,serif\" font-size=\"14.00\">yes, missing</text>\r\n",
       "</g>\r\n",
       "<!-- 134 -->\r\n",
       "<g id=\"node39\" class=\"node\"><title>134</title>\r\n",
       "<ellipse fill=\"none\" stroke=\"black\" cx=\"2278.39\" cy=\"-18\" rx=\"75.2868\" ry=\"18\"/>\r\n",
       "<text text-anchor=\"middle\" x=\"2278.39\" y=\"-14.3\" font-family=\"Times New Roman,serif\" font-size=\"14.00\">leaf=0.284210533</text>\r\n",
       "</g>\r\n",
       "<!-- 81&#45;&gt;134 -->\r\n",
       "<g id=\"edge38\" class=\"edge\"><title>81&#45;&gt;134</title>\r\n",
       "<path fill=\"none\" stroke=\"#ff0000\" d=\"M2224.95,-86.799C2234.64,-74.5062 2247.83,-57.7736 2258.68,-44.0073\"/>\r\n",
       "<polygon fill=\"#ff0000\" stroke=\"#ff0000\" points=\"2261.64,-45.9056 2265.08,-35.8854 2256.14,-41.5723 2261.64,-45.9056\"/>\r\n",
       "<text text-anchor=\"middle\" x=\"2256.89\" y=\"-57.8\" font-family=\"Times New Roman,serif\" font-size=\"14.00\">no</text>\r\n",
       "</g>\r\n",
       "<!-- 135 -->\r\n",
       "<g id=\"node40\" class=\"node\"><title>135</title>\r\n",
       "<ellipse fill=\"none\" stroke=\"black\" cx=\"2449.39\" cy=\"-18\" rx=\"77.9862\" ry=\"18\"/>\r\n",
       "<text text-anchor=\"middle\" x=\"2449.39\" y=\"-14.3\" font-family=\"Times New Roman,serif\" font-size=\"14.00\">leaf=&#45;0.150000006</text>\r\n",
       "</g>\r\n",
       "<!-- 82&#45;&gt;135 -->\r\n",
       "<g id=\"edge39\" class=\"edge\"><title>82&#45;&gt;135</title>\r\n",
       "<path fill=\"none\" stroke=\"#0000ff\" d=\"M2449.39,-86.799C2449.39,-75.1626 2449.39,-59.5479 2449.39,-46.2368\"/>\r\n",
       "<polygon fill=\"#0000ff\" stroke=\"#0000ff\" points=\"2452.89,-46.1754 2449.39,-36.1754 2445.89,-46.1755 2452.89,-46.1754\"/>\r\n",
       "<text text-anchor=\"middle\" x=\"2483.89\" y=\"-57.8\" font-family=\"Times New Roman,serif\" font-size=\"14.00\">yes, missing</text>\r\n",
       "</g>\r\n",
       "<!-- 136 -->\r\n",
       "<g id=\"node41\" class=\"node\"><title>136</title>\r\n",
       "<ellipse fill=\"none\" stroke=\"black\" cx=\"2620.39\" cy=\"-18\" rx=\"75.2868\" ry=\"18\"/>\r\n",
       "<text text-anchor=\"middle\" x=\"2620.39\" y=\"-14.3\" font-family=\"Times New Roman,serif\" font-size=\"14.00\">leaf=0.200000018</text>\r\n",
       "</g>\r\n",
       "<!-- 82&#45;&gt;136 -->\r\n",
       "<g id=\"edge40\" class=\"edge\"><title>82&#45;&gt;136</title>\r\n",
       "<path fill=\"none\" stroke=\"#ff0000\" d=\"M2482.91,-88.1428C2495.34,-82.2047 2509.54,-75.3571 2522.39,-69 2541.78,-59.4073 2563.2,-48.516 2581.05,-39.3527\"/>\r\n",
       "<polygon fill=\"#ff0000\" stroke=\"#ff0000\" points=\"2582.74,-42.42 2590.03,-34.7345 2579.54,-36.1947 2582.74,-42.42\"/>\r\n",
       "<text text-anchor=\"middle\" x=\"2559.89\" y=\"-57.8\" font-family=\"Times New Roman,serif\" font-size=\"14.00\">no</text>\r\n",
       "</g>\r\n",
       "<!-- 51 -->\r\n",
       "<g id=\"node44\" class=\"node\"><title>51</title>\r\n",
       "<ellipse fill=\"none\" stroke=\"black\" cx=\"2824.39\" cy=\"-192\" rx=\"77.9862\" ry=\"18\"/>\r\n",
       "<text text-anchor=\"middle\" x=\"2824.39\" y=\"-188.3\" font-family=\"Times New Roman,serif\" font-size=\"14.00\">leaf=&#45;0.544508696</text>\r\n",
       "</g>\r\n",
       "<!-- 29&#45;&gt;51 -->\r\n",
       "<g id=\"edge43\" class=\"edge\"><title>29&#45;&gt;51</title>\r\n",
       "<path fill=\"none\" stroke=\"#0000ff\" d=\"M2953.02,-262.039C2940.75,-256.206 2926.88,-249.454 2914.39,-243 2896.74,-233.875 2877.44,-223.245 2861.26,-214.139\"/>\r\n",
       "<polygon fill=\"#0000ff\" stroke=\"#0000ff\" points=\"2862.56,-210.851 2852.13,-208.976 2859.11,-216.944 2862.56,-210.851\"/>\r\n",
       "<text text-anchor=\"middle\" x=\"2948.89\" y=\"-231.8\" font-family=\"Times New Roman,serif\" font-size=\"14.00\">yes, missing</text>\r\n",
       "</g>\r\n",
       "<!-- 52 -->\r\n",
       "<g id=\"node45\" class=\"node\"><title>52</title>\r\n",
       "<ellipse fill=\"none\" stroke=\"black\" cx=\"2987.39\" cy=\"-192\" rx=\"66.8882\" ry=\"18\"/>\r\n",
       "<text text-anchor=\"middle\" x=\"2987.39\" y=\"-188.3\" font-family=\"Times New Roman,serif\" font-size=\"14.00\">Unitprice&lt;1454</text>\r\n",
       "</g>\r\n",
       "<!-- 29&#45;&gt;52 -->\r\n",
       "<g id=\"edge44\" class=\"edge\"><title>29&#45;&gt;52</title>\r\n",
       "<path fill=\"none\" stroke=\"#ff0000\" d=\"M2987.39,-260.799C2987.39,-249.163 2987.39,-233.548 2987.39,-220.237\"/>\r\n",
       "<polygon fill=\"#ff0000\" stroke=\"#ff0000\" points=\"2990.89,-220.175 2987.39,-210.175 2983.89,-220.175 2990.89,-220.175\"/>\r\n",
       "<text text-anchor=\"middle\" x=\"2994.89\" y=\"-231.8\" font-family=\"Times New Roman,serif\" font-size=\"14.00\">no</text>\r\n",
       "</g>\r\n",
       "<!-- 53 -->\r\n",
       "<g id=\"node50\" class=\"node\"><title>53</title>\r\n",
       "<ellipse fill=\"none\" stroke=\"black\" cx=\"3322.39\" cy=\"-192\" rx=\"100.182\" ry=\"18\"/>\r\n",
       "<text text-anchor=\"middle\" x=\"3322.39\" y=\"-188.3\" font-family=\"Times New Roman,serif\" font-size=\"14.00\">peso_bruto&lt;56.8099976</text>\r\n",
       "</g>\r\n",
       "<!-- 30&#45;&gt;53 -->\r\n",
       "<g id=\"edge49\" class=\"edge\"><title>30&#45;&gt;53</title>\r\n",
       "<path fill=\"none\" stroke=\"#0000ff\" d=\"M3322.39,-260.799C3322.39,-249.163 3322.39,-233.548 3322.39,-220.237\"/>\r\n",
       "<polygon fill=\"#0000ff\" stroke=\"#0000ff\" points=\"3325.89,-220.175 3322.39,-210.175 3318.89,-220.175 3325.89,-220.175\"/>\r\n",
       "<text text-anchor=\"middle\" x=\"3356.89\" y=\"-231.8\" font-family=\"Times New Roman,serif\" font-size=\"14.00\">yes, missing</text>\r\n",
       "</g>\r\n",
       "<!-- 54 -->\r\n",
       "<g id=\"node51\" class=\"node\"><title>54</title>\r\n",
       "<ellipse fill=\"none\" stroke=\"black\" cx=\"3610.39\" cy=\"-192\" rx=\"87.9851\" ry=\"18\"/>\r\n",
       "<text text-anchor=\"middle\" x=\"3610.39\" y=\"-188.3\" font-family=\"Times New Roman,serif\" font-size=\"14.00\">cuantia&lt;0.075000003</text>\r\n",
       "</g>\r\n",
       "<!-- 30&#45;&gt;54 -->\r\n",
       "<g id=\"edge50\" class=\"edge\"><title>30&#45;&gt;54</title>\r\n",
       "<path fill=\"none\" stroke=\"#ff0000\" d=\"M3372.23,-263.291C3422.44,-248.471 3499.86,-225.622 3552.7,-210.026\"/>\r\n",
       "<polygon fill=\"#ff0000\" stroke=\"#ff0000\" points=\"3554,-213.293 3562.6,-207.105 3552.02,-206.579 3554,-213.293\"/>\r\n",
       "<text text-anchor=\"middle\" x=\"3491.89\" y=\"-231.8\" font-family=\"Times New Roman,serif\" font-size=\"14.00\">no</text>\r\n",
       "</g>\r\n",
       "<!-- 83 -->\r\n",
       "<g id=\"node46\" class=\"node\"><title>83</title>\r\n",
       "<ellipse fill=\"none\" stroke=\"black\" cx=\"2791.39\" cy=\"-105\" rx=\"100.182\" ry=\"18\"/>\r\n",
       "<text text-anchor=\"middle\" x=\"2791.39\" y=\"-101.3\" font-family=\"Times New Roman,serif\" font-size=\"14.00\">WUnitprice&lt;4.75510216</text>\r\n",
       "</g>\r\n",
       "<!-- 52&#45;&gt;83 -->\r\n",
       "<g id=\"edge45\" class=\"edge\"><title>52&#45;&gt;83</title>\r\n",
       "<path fill=\"none\" stroke=\"#0000ff\" d=\"M2953.7,-176.388C2921.55,-162.445 2872.86,-141.331 2837.2,-125.865\"/>\r\n",
       "<polygon fill=\"#0000ff\" stroke=\"#0000ff\" points=\"2838.54,-122.631 2827.97,-121.863 2835.75,-129.053 2838.54,-122.631\"/>\r\n",
       "<text text-anchor=\"middle\" x=\"2935.89\" y=\"-144.8\" font-family=\"Times New Roman,serif\" font-size=\"14.00\">yes, missing</text>\r\n",
       "</g>\r\n",
       "<!-- 84 -->\r\n",
       "<g id=\"node47\" class=\"node\"><title>84</title>\r\n",
       "<ellipse fill=\"none\" stroke=\"black\" cx=\"2987.39\" cy=\"-105\" rx=\"77.9862\" ry=\"18\"/>\r\n",
       "<text text-anchor=\"middle\" x=\"2987.39\" y=\"-101.3\" font-family=\"Times New Roman,serif\" font-size=\"14.00\">leaf=&#45;0.458823562</text>\r\n",
       "</g>\r\n",
       "<!-- 52&#45;&gt;84 -->\r\n",
       "<g id=\"edge46\" class=\"edge\"><title>52&#45;&gt;84</title>\r\n",
       "<path fill=\"none\" stroke=\"#ff0000\" d=\"M2987.39,-173.799C2987.39,-162.163 2987.39,-146.548 2987.39,-133.237\"/>\r\n",
       "<polygon fill=\"#ff0000\" stroke=\"#ff0000\" points=\"2990.89,-133.175 2987.39,-123.175 2983.89,-133.175 2990.89,-133.175\"/>\r\n",
       "<text text-anchor=\"middle\" x=\"2994.89\" y=\"-144.8\" font-family=\"Times New Roman,serif\" font-size=\"14.00\">no</text>\r\n",
       "</g>\r\n",
       "<!-- 137 -->\r\n",
       "<g id=\"node48\" class=\"node\"><title>137</title>\r\n",
       "<ellipse fill=\"none\" stroke=\"black\" cx=\"2791.39\" cy=\"-18\" rx=\"77.9862\" ry=\"18\"/>\r\n",
       "<text text-anchor=\"middle\" x=\"2791.39\" y=\"-14.3\" font-family=\"Times New Roman,serif\" font-size=\"14.00\">leaf=&#45;0.323076963</text>\r\n",
       "</g>\r\n",
       "<!-- 83&#45;&gt;137 -->\r\n",
       "<g id=\"edge47\" class=\"edge\"><title>83&#45;&gt;137</title>\r\n",
       "<path fill=\"none\" stroke=\"#0000ff\" d=\"M2791.39,-86.799C2791.39,-75.1626 2791.39,-59.5479 2791.39,-46.2368\"/>\r\n",
       "<polygon fill=\"#0000ff\" stroke=\"#0000ff\" points=\"2794.89,-46.1754 2791.39,-36.1754 2787.89,-46.1755 2794.89,-46.1754\"/>\r\n",
       "<text text-anchor=\"middle\" x=\"2825.89\" y=\"-57.8\" font-family=\"Times New Roman,serif\" font-size=\"14.00\">yes, missing</text>\r\n",
       "</g>\r\n",
       "<!-- 138 -->\r\n",
       "<g id=\"node49\" class=\"node\"><title>138</title>\r\n",
       "<ellipse fill=\"none\" stroke=\"black\" cx=\"2962.39\" cy=\"-18\" rx=\"75.2868\" ry=\"18\"/>\r\n",
       "<text text-anchor=\"middle\" x=\"2962.39\" y=\"-14.3\" font-family=\"Times New Roman,serif\" font-size=\"14.00\">leaf=0.163636371</text>\r\n",
       "</g>\r\n",
       "<!-- 83&#45;&gt;138 -->\r\n",
       "<g id=\"edge48\" class=\"edge\"><title>83&#45;&gt;138</title>\r\n",
       "<path fill=\"none\" stroke=\"#ff0000\" d=\"M2825.28,-87.9679C2837.62,-82.0705 2851.67,-75.2948 2864.39,-69 2883.78,-59.4073 2905.2,-48.516 2923.05,-39.3527\"/>\r\n",
       "<polygon fill=\"#ff0000\" stroke=\"#ff0000\" points=\"2924.74,-42.42 2932.03,-34.7345 2921.54,-36.1947 2924.74,-42.42\"/>\r\n",
       "<text text-anchor=\"middle\" x=\"2901.89\" y=\"-57.8\" font-family=\"Times New Roman,serif\" font-size=\"14.00\">no</text>\r\n",
       "</g>\r\n",
       "<!-- 85 -->\r\n",
       "<g id=\"node52\" class=\"node\"><title>85</title>\r\n",
       "<ellipse fill=\"none\" stroke=\"black\" cx=\"3161.39\" cy=\"-105\" rx=\"77.9862\" ry=\"18\"/>\r\n",
       "<text text-anchor=\"middle\" x=\"3161.39\" y=\"-101.3\" font-family=\"Times New Roman,serif\" font-size=\"14.00\">leaf=&#45;0.576470613</text>\r\n",
       "</g>\r\n",
       "<!-- 53&#45;&gt;85 -->\r\n",
       "<g id=\"edge51\" class=\"edge\"><title>53&#45;&gt;85</title>\r\n",
       "<path fill=\"none\" stroke=\"#0000ff\" d=\"M3291.73,-174.812C3265.75,-161.094 3228.34,-141.345 3200.26,-126.52\"/>\r\n",
       "<polygon fill=\"#0000ff\" stroke=\"#0000ff\" points=\"3201.6,-123.27 3191.12,-121.697 3198.33,-129.461 3201.6,-123.27\"/>\r\n",
       "<text text-anchor=\"middle\" x=\"3286.89\" y=\"-144.8\" font-family=\"Times New Roman,serif\" font-size=\"14.00\">yes, missing</text>\r\n",
       "</g>\r\n",
       "<!-- 86 -->\r\n",
       "<g id=\"node53\" class=\"node\"><title>86</title>\r\n",
       "<ellipse fill=\"none\" stroke=\"black\" cx=\"3357.39\" cy=\"-105\" rx=\"100.182\" ry=\"18\"/>\r\n",
       "<text text-anchor=\"middle\" x=\"3357.39\" y=\"-101.3\" font-family=\"Times New Roman,serif\" font-size=\"14.00\">WUnitprice&lt;5.16990757</text>\r\n",
       "</g>\r\n",
       "<!-- 53&#45;&gt;86 -->\r\n",
       "<g id=\"edge52\" class=\"edge\"><title>53&#45;&gt;86</title>\r\n",
       "<path fill=\"none\" stroke=\"#ff0000\" d=\"M3329.48,-173.799C3334.36,-161.932 3340.95,-145.928 3346.5,-132.449\"/>\r\n",
       "<polygon fill=\"#ff0000\" stroke=\"#ff0000\" points=\"3349.75,-133.755 3350.32,-123.175 3343.28,-131.09 3349.75,-133.755\"/>\r\n",
       "<text text-anchor=\"middle\" x=\"3349.89\" y=\"-144.8\" font-family=\"Times New Roman,serif\" font-size=\"14.00\">no</text>\r\n",
       "</g>\r\n",
       "<!-- 87 -->\r\n",
       "<g id=\"node56\" class=\"node\"><title>87</title>\r\n",
       "<ellipse fill=\"none\" stroke=\"black\" cx=\"3610.39\" cy=\"-105\" rx=\"116.18\" ry=\"18\"/>\r\n",
       "<text text-anchor=\"middle\" x=\"3610.39\" y=\"-101.3\" font-family=\"Times New Roman,serif\" font-size=\"14.00\">TaxUnitquantity&lt;11.2678337</text>\r\n",
       "</g>\r\n",
       "<!-- 54&#45;&gt;87 -->\r\n",
       "<g id=\"edge55\" class=\"edge\"><title>54&#45;&gt;87</title>\r\n",
       "<path fill=\"none\" stroke=\"#0000ff\" d=\"M3610.39,-173.799C3610.39,-162.163 3610.39,-146.548 3610.39,-133.237\"/>\r\n",
       "<polygon fill=\"#0000ff\" stroke=\"#0000ff\" points=\"3613.89,-133.175 3610.39,-123.175 3606.89,-133.175 3613.89,-133.175\"/>\r\n",
       "<text text-anchor=\"middle\" x=\"3644.89\" y=\"-144.8\" font-family=\"Times New Roman,serif\" font-size=\"14.00\">yes, missing</text>\r\n",
       "</g>\r\n",
       "<!-- 88 -->\r\n",
       "<g id=\"node57\" class=\"node\"><title>88</title>\r\n",
       "<ellipse fill=\"none\" stroke=\"black\" cx=\"3850.39\" cy=\"-105\" rx=\"63.0888\" ry=\"18\"/>\r\n",
       "<text text-anchor=\"middle\" x=\"3850.39\" y=\"-101.3\" font-family=\"Times New Roman,serif\" font-size=\"14.00\">cif&lt;4633.1748</text>\r\n",
       "</g>\r\n",
       "<!-- 54&#45;&gt;88 -->\r\n",
       "<g id=\"edge56\" class=\"edge\"><title>54&#45;&gt;88</title>\r\n",
       "<path fill=\"none\" stroke=\"#ff0000\" d=\"M3652.47,-176.097C3694.47,-161.224 3758.89,-138.407 3802.74,-122.875\"/>\r\n",
       "<polygon fill=\"#ff0000\" stroke=\"#ff0000\" points=\"3804.07,-126.121 3812.32,-119.483 3801.73,-119.523 3804.07,-126.121\"/>\r\n",
       "<text text-anchor=\"middle\" x=\"3752.89\" y=\"-144.8\" font-family=\"Times New Roman,serif\" font-size=\"14.00\">no</text>\r\n",
       "</g>\r\n",
       "<!-- 139 -->\r\n",
       "<g id=\"node54\" class=\"node\"><title>139</title>\r\n",
       "<ellipse fill=\"none\" stroke=\"black\" cx=\"3157.39\" cy=\"-18\" rx=\"77.9862\" ry=\"18\"/>\r\n",
       "<text text-anchor=\"middle\" x=\"3157.39\" y=\"-14.3\" font-family=\"Times New Roman,serif\" font-size=\"14.00\">leaf=&#45;0.333333373</text>\r\n",
       "</g>\r\n",
       "<!-- 86&#45;&gt;139 -->\r\n",
       "<g id=\"edge53\" class=\"edge\"><title>86&#45;&gt;139</title>\r\n",
       "<path fill=\"none\" stroke=\"#0000ff\" d=\"M3318.34,-88.3653C3303.6,-82.3928 3286.69,-75.4644 3271.39,-69 3248,-59.1128 3222.07,-47.768 3200.85,-38.3868\"/>\r\n",
       "<polygon fill=\"#0000ff\" stroke=\"#0000ff\" points=\"3202.02,-35.0774 3191.46,-34.2269 3199.19,-41.4775 3202.02,-35.0774\"/>\r\n",
       "<text text-anchor=\"middle\" x=\"3305.89\" y=\"-57.8\" font-family=\"Times New Roman,serif\" font-size=\"14.00\">yes, missing</text>\r\n",
       "</g>\r\n",
       "<!-- 140 -->\r\n",
       "<g id=\"node55\" class=\"node\"><title>140</title>\r\n",
       "<ellipse fill=\"none\" stroke=\"black\" cx=\"3332.39\" cy=\"-18\" rx=\"79.0865\" ry=\"18\"/>\r\n",
       "<text text-anchor=\"middle\" x=\"3332.39\" y=\"-14.3\" font-family=\"Times New Roman,serif\" font-size=\"14.00\">leaf=0.0545454584</text>\r\n",
       "</g>\r\n",
       "<!-- 86&#45;&gt;140 -->\r\n",
       "<g id=\"edge54\" class=\"edge\"><title>86&#45;&gt;140</title>\r\n",
       "<path fill=\"none\" stroke=\"#ff0000\" d=\"M3352.33,-86.799C3348.88,-75.0474 3344.23,-59.2383 3340.29,-45.8421\"/>\r\n",
       "<polygon fill=\"#ff0000\" stroke=\"#ff0000\" points=\"3343.62,-44.7815 3337.44,-36.1754 3336.91,-46.7567 3343.62,-44.7815\"/>\r\n",
       "<text text-anchor=\"middle\" x=\"3353.89\" y=\"-57.8\" font-family=\"Times New Roman,serif\" font-size=\"14.00\">no</text>\r\n",
       "</g>\r\n",
       "<!-- 141 -->\r\n",
       "<g id=\"node58\" class=\"node\"><title>141</title>\r\n",
       "<ellipse fill=\"none\" stroke=\"black\" cx=\"3505.39\" cy=\"-18\" rx=\"75.2868\" ry=\"18\"/>\r\n",
       "<text text-anchor=\"middle\" x=\"3505.39\" y=\"-14.3\" font-family=\"Times New Roman,serif\" font-size=\"14.00\">leaf=0.200000018</text>\r\n",
       "</g>\r\n",
       "<!-- 87&#45;&gt;141 -->\r\n",
       "<g id=\"edge57\" class=\"edge\"><title>87&#45;&gt;141</title>\r\n",
       "<path fill=\"none\" stroke=\"#0000ff\" d=\"M3589.65,-87.2067C3573.73,-74.3175 3551.56,-56.3753 3533.96,-42.1281\"/>\r\n",
       "<polygon fill=\"#0000ff\" stroke=\"#0000ff\" points=\"3535.71,-39.0408 3525.74,-35.4692 3531.31,-44.4815 3535.71,-39.0408\"/>\r\n",
       "<text text-anchor=\"middle\" x=\"3598.89\" y=\"-57.8\" font-family=\"Times New Roman,serif\" font-size=\"14.00\">yes, missing</text>\r\n",
       "</g>\r\n",
       "<!-- 142 -->\r\n",
       "<g id=\"node59\" class=\"node\"><title>142</title>\r\n",
       "<ellipse fill=\"none\" stroke=\"black\" cx=\"3676.39\" cy=\"-18\" rx=\"77.9862\" ry=\"18\"/>\r\n",
       "<text text-anchor=\"middle\" x=\"3676.39\" y=\"-14.3\" font-family=\"Times New Roman,serif\" font-size=\"14.00\">leaf=&#45;0.445161313</text>\r\n",
       "</g>\r\n",
       "<!-- 87&#45;&gt;142 -->\r\n",
       "<g id=\"edge58\" class=\"edge\"><title>87&#45;&gt;142</title>\r\n",
       "<path fill=\"none\" stroke=\"#ff0000\" d=\"M3623.75,-86.799C3633.29,-74.5062 3646.29,-57.7736 3656.98,-44.0073\"/>\r\n",
       "<polygon fill=\"#ff0000\" stroke=\"#ff0000\" points=\"3659.91,-45.9305 3663.28,-35.8854 3654.38,-41.6373 3659.91,-45.9305\"/>\r\n",
       "<text text-anchor=\"middle\" x=\"3654.89\" y=\"-57.8\" font-family=\"Times New Roman,serif\" font-size=\"14.00\">no</text>\r\n",
       "</g>\r\n",
       "<!-- 143 -->\r\n",
       "<g id=\"node60\" class=\"node\"><title>143</title>\r\n",
       "<ellipse fill=\"none\" stroke=\"black\" cx=\"3850.39\" cy=\"-18\" rx=\"77.9862\" ry=\"18\"/>\r\n",
       "<text text-anchor=\"middle\" x=\"3850.39\" y=\"-14.3\" font-family=\"Times New Roman,serif\" font-size=\"14.00\">leaf=&#45;0.393548399</text>\r\n",
       "</g>\r\n",
       "<!-- 88&#45;&gt;143 -->\r\n",
       "<g id=\"edge59\" class=\"edge\"><title>88&#45;&gt;143</title>\r\n",
       "<path fill=\"none\" stroke=\"#0000ff\" d=\"M3850.39,-86.799C3850.39,-75.1626 3850.39,-59.5479 3850.39,-46.2368\"/>\r\n",
       "<polygon fill=\"#0000ff\" stroke=\"#0000ff\" points=\"3853.89,-46.1754 3850.39,-36.1754 3846.89,-46.1755 3853.89,-46.1754\"/>\r\n",
       "<text text-anchor=\"middle\" x=\"3884.89\" y=\"-57.8\" font-family=\"Times New Roman,serif\" font-size=\"14.00\">yes, missing</text>\r\n",
       "</g>\r\n",
       "<!-- 144 -->\r\n",
       "<g id=\"node61\" class=\"node\"><title>144</title>\r\n",
       "<ellipse fill=\"none\" stroke=\"black\" cx=\"4021.39\" cy=\"-18\" rx=\"75.2868\" ry=\"18\"/>\r\n",
       "<text text-anchor=\"middle\" x=\"4021.39\" y=\"-14.3\" font-family=\"Times New Roman,serif\" font-size=\"14.00\">leaf=0.333333373</text>\r\n",
       "</g>\r\n",
       "<!-- 88&#45;&gt;144 -->\r\n",
       "<g id=\"edge60\" class=\"edge\"><title>88&#45;&gt;144</title>\r\n",
       "<path fill=\"none\" stroke=\"#ff0000\" d=\"M3881.74,-89.1809C3894.67,-83.012 3909.79,-75.7311 3923.39,-69 3942.78,-59.4073 3964.2,-48.516 3982.05,-39.3527\"/>\r\n",
       "<polygon fill=\"#ff0000\" stroke=\"#ff0000\" points=\"3983.74,-42.42 3991.03,-34.7345 3980.54,-36.1947 3983.74,-42.42\"/>\r\n",
       "<text text-anchor=\"middle\" x=\"3960.89\" y=\"-57.8\" font-family=\"Times New Roman,serif\" font-size=\"14.00\">no</text>\r\n",
       "</g>\r\n",
       "<!-- 31 -->\r\n",
       "<g id=\"node64\" class=\"node\"><title>31</title>\r\n",
       "<ellipse fill=\"none\" stroke=\"black\" cx=\"5157.39\" cy=\"-279\" rx=\"87.9851\" ry=\"18\"/>\r\n",
       "<text text-anchor=\"middle\" x=\"5157.39\" y=\"-275.3\" font-family=\"Times New Roman,serif\" font-size=\"14.00\">cuantia&lt;0.185000002</text>\r\n",
       "</g>\r\n",
       "<!-- 17&#45;&gt;31 -->\r\n",
       "<g id=\"edge63\" class=\"edge\"><title>17&#45;&gt;31</title>\r\n",
       "<path fill=\"none\" stroke=\"#0000ff\" d=\"M5874.56,-356.104C5721.62,-339.874 5398.81,-305.619 5243.9,-289.18\"/>\r\n",
       "<polygon fill=\"#0000ff\" stroke=\"#0000ff\" points=\"5243.81,-285.651 5233.5,-288.076 5243.07,-292.612 5243.81,-285.651\"/>\r\n",
       "<text text-anchor=\"middle\" x=\"5640.89\" y=\"-318.8\" font-family=\"Times New Roman,serif\" font-size=\"14.00\">yes, missing</text>\r\n",
       "</g>\r\n",
       "<!-- 32 -->\r\n",
       "<g id=\"node65\" class=\"node\"><title>32</title>\r\n",
       "<ellipse fill=\"none\" stroke=\"black\" cx=\"5958.39\" cy=\"-279\" rx=\"100.182\" ry=\"18\"/>\r\n",
       "<text text-anchor=\"middle\" x=\"5958.39\" y=\"-275.3\" font-family=\"Times New Roman,serif\" font-size=\"14.00\">peso_bruto&lt;44.6500015</text>\r\n",
       "</g>\r\n",
       "<!-- 17&#45;&gt;32 -->\r\n",
       "<g id=\"edge64\" class=\"edge\"><title>17&#45;&gt;32</title>\r\n",
       "<path fill=\"none\" stroke=\"#ff0000\" d=\"M5958.39,-347.799C5958.39,-336.163 5958.39,-320.548 5958.39,-307.237\"/>\r\n",
       "<polygon fill=\"#ff0000\" stroke=\"#ff0000\" points=\"5961.89,-307.175 5958.39,-297.175 5954.89,-307.175 5961.89,-307.175\"/>\r\n",
       "<text text-anchor=\"middle\" x=\"5965.89\" y=\"-318.8\" font-family=\"Times New Roman,serif\" font-size=\"14.00\">no</text>\r\n",
       "</g>\r\n",
       "<!-- 33 -->\r\n",
       "<g id=\"node92\" class=\"node\"><title>33</title>\r\n",
       "<ellipse fill=\"none\" stroke=\"black\" cx=\"6869.39\" cy=\"-279\" rx=\"100.983\" ry=\"18\"/>\r\n",
       "<text text-anchor=\"middle\" x=\"6869.39\" y=\"-275.3\" font-family=\"Times New Roman,serif\" font-size=\"14.00\">TaxRatio&lt;0.0904550701</text>\r\n",
       "</g>\r\n",
       "<!-- 18&#45;&gt;33 -->\r\n",
       "<g id=\"edge91\" class=\"edge\"><title>18&#45;&gt;33</title>\r\n",
       "<path fill=\"none\" stroke=\"#0000ff\" d=\"M6869.39,-347.799C6869.39,-336.163 6869.39,-320.548 6869.39,-307.237\"/>\r\n",
       "<polygon fill=\"#0000ff\" stroke=\"#0000ff\" points=\"6872.89,-307.175 6869.39,-297.175 6865.89,-307.175 6872.89,-307.175\"/>\r\n",
       "<text text-anchor=\"middle\" x=\"6903.89\" y=\"-318.8\" font-family=\"Times New Roman,serif\" font-size=\"14.00\">yes, missing</text>\r\n",
       "</g>\r\n",
       "<!-- 34 -->\r\n",
       "<g id=\"node93\" class=\"node\"><title>34</title>\r\n",
       "<ellipse fill=\"none\" stroke=\"black\" cx=\"7557.39\" cy=\"-279\" rx=\"96.3833\" ry=\"18\"/>\r\n",
       "<text text-anchor=\"middle\" x=\"7557.39\" y=\"-275.3\" font-family=\"Times New Roman,serif\" font-size=\"14.00\">TaxRatio&lt;0.422154725</text>\r\n",
       "</g>\r\n",
       "<!-- 18&#45;&gt;34 -->\r\n",
       "<g id=\"edge92\" class=\"edge\"><title>18&#45;&gt;34</title>\r\n",
       "<path fill=\"none\" stroke=\"#ff0000\" d=\"M6947.31,-355.373C7076.53,-339.408 7334.33,-307.558 7469.72,-290.831\"/>\r\n",
       "<polygon fill=\"#ff0000\" stroke=\"#ff0000\" points=\"7470.16,-294.304 7479.65,-289.605 7469.3,-287.357 7470.16,-294.304\"/>\r\n",
       "<text text-anchor=\"middle\" x=\"7262.89\" y=\"-318.8\" font-family=\"Times New Roman,serif\" font-size=\"14.00\">no</text>\r\n",
       "</g>\r\n",
       "<!-- 55 -->\r\n",
       "<g id=\"node66\" class=\"node\"><title>55</title>\r\n",
       "<ellipse fill=\"none\" stroke=\"black\" cx=\"4644.39\" cy=\"-192\" rx=\"100.182\" ry=\"18\"/>\r\n",
       "<text text-anchor=\"middle\" x=\"4644.39\" y=\"-188.3\" font-family=\"Times New Roman,serif\" font-size=\"14.00\">peso_bruto&lt;9.96500015</text>\r\n",
       "</g>\r\n",
       "<!-- 31&#45;&gt;55 -->\r\n",
       "<g id=\"edge65\" class=\"edge\"><title>31&#45;&gt;55</title>\r\n",
       "<path fill=\"none\" stroke=\"#0000ff\" d=\"M5091.38,-267.062C4997.75,-251.549 4826.56,-223.183 4725.38,-206.418\"/>\r\n",
       "<polygon fill=\"#0000ff\" stroke=\"#0000ff\" points=\"4725.94,-202.965 4715.51,-204.783 4724.8,-209.87 4725.94,-202.965\"/>\r\n",
       "<text text-anchor=\"middle\" x=\"4966.89\" y=\"-231.8\" font-family=\"Times New Roman,serif\" font-size=\"14.00\">yes, missing</text>\r\n",
       "</g>\r\n",
       "<!-- 56 -->\r\n",
       "<g id=\"node67\" class=\"node\"><title>56</title>\r\n",
       "<ellipse fill=\"none\" stroke=\"black\" cx=\"5157.39\" cy=\"-192\" rx=\"87.9851\" ry=\"18\"/>\r\n",
       "<text text-anchor=\"middle\" x=\"5157.39\" y=\"-188.3\" font-family=\"Times New Roman,serif\" font-size=\"14.00\">cuantia&lt;0.644999981</text>\r\n",
       "</g>\r\n",
       "<!-- 31&#45;&gt;56 -->\r\n",
       "<g id=\"edge66\" class=\"edge\"><title>31&#45;&gt;56</title>\r\n",
       "<path fill=\"none\" stroke=\"#ff0000\" d=\"M5157.39,-260.799C5157.39,-249.163 5157.39,-233.548 5157.39,-220.237\"/>\r\n",
       "<polygon fill=\"#ff0000\" stroke=\"#ff0000\" points=\"5160.89,-220.175 5157.39,-210.175 5153.89,-220.175 5160.89,-220.175\"/>\r\n",
       "<text text-anchor=\"middle\" x=\"5164.89\" y=\"-231.8\" font-family=\"Times New Roman,serif\" font-size=\"14.00\">no</text>\r\n",
       "</g>\r\n",
       "<!-- 57 -->\r\n",
       "<g id=\"node80\" class=\"node\"><title>57</title>\r\n",
       "<ellipse fill=\"none\" stroke=\"black\" cx=\"5862.39\" cy=\"-192\" rx=\"87.9851\" ry=\"18\"/>\r\n",
       "<text text-anchor=\"middle\" x=\"5862.39\" y=\"-188.3\" font-family=\"Times New Roman,serif\" font-size=\"14.00\">cuantia&lt;0.314999998</text>\r\n",
       "</g>\r\n",
       "<!-- 32&#45;&gt;57 -->\r\n",
       "<g id=\"edge79\" class=\"edge\"><title>32&#45;&gt;57</title>\r\n",
       "<path fill=\"none\" stroke=\"#0000ff\" d=\"M5939.43,-261.207C5924.96,-248.401 5904.87,-230.607 5888.83,-216.404\"/>\r\n",
       "<polygon fill=\"#0000ff\" stroke=\"#0000ff\" points=\"5891.13,-213.767 5881.32,-209.758 5886.49,-219.008 5891.13,-213.767\"/>\r\n",
       "<text text-anchor=\"middle\" x=\"5950.89\" y=\"-231.8\" font-family=\"Times New Roman,serif\" font-size=\"14.00\">yes, missing</text>\r\n",
       "</g>\r\n",
       "<!-- 58 -->\r\n",
       "<g id=\"node81\" class=\"node\"><title>58</title>\r\n",
       "<ellipse fill=\"none\" stroke=\"black\" cx=\"6054.39\" cy=\"-192\" rx=\"82.5854\" ry=\"18\"/>\r\n",
       "<text text-anchor=\"middle\" x=\"6054.39\" y=\"-188.3\" font-family=\"Times New Roman,serif\" font-size=\"14.00\">peso_bruto&lt;55.875</text>\r\n",
       "</g>\r\n",
       "<!-- 32&#45;&gt;58 -->\r\n",
       "<g id=\"edge80\" class=\"edge\"><title>32&#45;&gt;58</title>\r\n",
       "<path fill=\"none\" stroke=\"#ff0000\" d=\"M5977.36,-261.207C5991.82,-248.401 6011.92,-230.607 6027.96,-216.404\"/>\r\n",
       "<polygon fill=\"#ff0000\" stroke=\"#ff0000\" points=\"6030.3,-219.008 6035.47,-209.758 6025.66,-213.767 6030.3,-219.008\"/>\r\n",
       "<text text-anchor=\"middle\" x=\"6019.89\" y=\"-231.8\" font-family=\"Times New Roman,serif\" font-size=\"14.00\">no</text>\r\n",
       "</g>\r\n",
       "<!-- 89 -->\r\n",
       "<g id=\"node68\" class=\"node\"><title>89</title>\r\n",
       "<ellipse fill=\"none\" stroke=\"black\" cx=\"4361.39\" cy=\"-105\" rx=\"100.182\" ry=\"18\"/>\r\n",
       "<text text-anchor=\"middle\" x=\"4361.39\" y=\"-101.3\" font-family=\"Times New Roman,serif\" font-size=\"14.00\">peso_bruto&lt;1.19000006</text>\r\n",
       "</g>\r\n",
       "<!-- 55&#45;&gt;89 -->\r\n",
       "<g id=\"edge67\" class=\"edge\"><title>55&#45;&gt;89</title>\r\n",
       "<path fill=\"none\" stroke=\"#0000ff\" d=\"M4595.42,-176.291C4546.82,-161.694 4472.29,-139.309 4420.44,-123.736\"/>\r\n",
       "<polygon fill=\"#0000ff\" stroke=\"#0000ff\" points=\"4421.3,-120.338 4410.71,-120.814 4419.28,-127.042 4421.3,-120.338\"/>\r\n",
       "<text text-anchor=\"middle\" x=\"4554.89\" y=\"-144.8\" font-family=\"Times New Roman,serif\" font-size=\"14.00\">yes, missing</text>\r\n",
       "</g>\r\n",
       "<!-- 90 -->\r\n",
       "<g id=\"node69\" class=\"node\"><title>90</title>\r\n",
       "<ellipse fill=\"none\" stroke=\"black\" cx=\"4644.39\" cy=\"-105\" rx=\"100.182\" ry=\"18\"/>\r\n",
       "<text text-anchor=\"middle\" x=\"4644.39\" y=\"-101.3\" font-family=\"Times New Roman,serif\" font-size=\"14.00\">peso_bruto&lt;18.5550003</text>\r\n",
       "</g>\r\n",
       "<!-- 55&#45;&gt;90 -->\r\n",
       "<g id=\"edge68\" class=\"edge\"><title>55&#45;&gt;90</title>\r\n",
       "<path fill=\"none\" stroke=\"#ff0000\" d=\"M4644.39,-173.799C4644.39,-162.163 4644.39,-146.548 4644.39,-133.237\"/>\r\n",
       "<polygon fill=\"#ff0000\" stroke=\"#ff0000\" points=\"4647.89,-133.175 4644.39,-123.175 4640.89,-133.175 4647.89,-133.175\"/>\r\n",
       "<text text-anchor=\"middle\" x=\"4651.89\" y=\"-144.8\" font-family=\"Times New Roman,serif\" font-size=\"14.00\">no</text>\r\n",
       "</g>\r\n",
       "<!-- 91 -->\r\n",
       "<g id=\"node74\" class=\"node\"><title>91</title>\r\n",
       "<ellipse fill=\"none\" stroke=\"black\" cx=\"5053.39\" cy=\"-105\" rx=\"100.182\" ry=\"18\"/>\r\n",
       "<text text-anchor=\"middle\" x=\"5053.39\" y=\"-101.3\" font-family=\"Times New Roman,serif\" font-size=\"14.00\">peso_bruto&lt;23.9650002</text>\r\n",
       "</g>\r\n",
       "<!-- 56&#45;&gt;91 -->\r\n",
       "<g id=\"edge73\" class=\"edge\"><title>56&#45;&gt;91</title>\r\n",
       "<path fill=\"none\" stroke=\"#0000ff\" d=\"M5136.85,-174.207C5121.18,-161.401 5099.41,-143.607 5082.03,-129.404\"/>\r\n",
       "<polygon fill=\"#0000ff\" stroke=\"#0000ff\" points=\"5083.86,-126.377 5073.9,-122.758 5079.43,-131.797 5083.86,-126.377\"/>\r\n",
       "<text text-anchor=\"middle\" x=\"5146.89\" y=\"-144.8\" font-family=\"Times New Roman,serif\" font-size=\"14.00\">yes, missing</text>\r\n",
       "</g>\r\n",
       "<!-- 92 -->\r\n",
       "<g id=\"node75\" class=\"node\"><title>92</title>\r\n",
       "<ellipse fill=\"none\" stroke=\"black\" cx=\"5259.39\" cy=\"-105\" rx=\"87.9851\" ry=\"18\"/>\r\n",
       "<text text-anchor=\"middle\" x=\"5259.39\" y=\"-101.3\" font-family=\"Times New Roman,serif\" font-size=\"14.00\">cuantia&lt;0.654999971</text>\r\n",
       "</g>\r\n",
       "<!-- 56&#45;&gt;92 -->\r\n",
       "<g id=\"edge74\" class=\"edge\"><title>56&#45;&gt;92</title>\r\n",
       "<path fill=\"none\" stroke=\"#ff0000\" d=\"M5177.55,-174.207C5192.91,-161.401 5214.27,-143.607 5231.31,-129.404\"/>\r\n",
       "<polygon fill=\"#ff0000\" stroke=\"#ff0000\" points=\"5233.84,-131.849 5239.28,-122.758 5229.36,-126.471 5233.84,-131.849\"/>\r\n",
       "<text text-anchor=\"middle\" x=\"5222.89\" y=\"-144.8\" font-family=\"Times New Roman,serif\" font-size=\"14.00\">no</text>\r\n",
       "</g>\r\n",
       "<!-- 145 -->\r\n",
       "<g id=\"node70\" class=\"node\"><title>145</title>\r\n",
       "<ellipse fill=\"none\" stroke=\"black\" cx=\"4190.39\" cy=\"-18\" rx=\"75.2868\" ry=\"18\"/>\r\n",
       "<text text-anchor=\"middle\" x=\"4190.39\" y=\"-14.3\" font-family=\"Times New Roman,serif\" font-size=\"14.00\">leaf=0.223255828</text>\r\n",
       "</g>\r\n",
       "<!-- 89&#45;&gt;145 -->\r\n",
       "<g id=\"edge69\" class=\"edge\"><title>89&#45;&gt;145</title>\r\n",
       "<path fill=\"none\" stroke=\"#0000ff\" d=\"M4327.51,-87.9679C4315.16,-82.0705 4301.12,-75.2948 4288.39,-69 4269,-59.4073 4247.59,-48.516 4229.74,-39.3527\"/>\r\n",
       "<polygon fill=\"#0000ff\" stroke=\"#0000ff\" points=\"4231.25,-36.1947 4220.75,-34.7345 4228.05,-42.42 4231.25,-36.1947\"/>\r\n",
       "<text text-anchor=\"middle\" x=\"4322.89\" y=\"-57.8\" font-family=\"Times New Roman,serif\" font-size=\"14.00\">yes, missing</text>\r\n",
       "</g>\r\n",
       "<!-- 146 -->\r\n",
       "<g id=\"node71\" class=\"node\"><title>146</title>\r\n",
       "<ellipse fill=\"none\" stroke=\"black\" cx=\"4361.39\" cy=\"-18\" rx=\"77.9862\" ry=\"18\"/>\r\n",
       "<text text-anchor=\"middle\" x=\"4361.39\" y=\"-14.3\" font-family=\"Times New Roman,serif\" font-size=\"14.00\">leaf=&#45;0.223880604</text>\r\n",
       "</g>\r\n",
       "<!-- 89&#45;&gt;146 -->\r\n",
       "<g id=\"edge70\" class=\"edge\"><title>89&#45;&gt;146</title>\r\n",
       "<path fill=\"none\" stroke=\"#ff0000\" d=\"M4361.39,-86.799C4361.39,-75.1626 4361.39,-59.5479 4361.39,-46.2368\"/>\r\n",
       "<polygon fill=\"#ff0000\" stroke=\"#ff0000\" points=\"4364.89,-46.1754 4361.39,-36.1754 4357.89,-46.1755 4364.89,-46.1754\"/>\r\n",
       "<text text-anchor=\"middle\" x=\"4368.89\" y=\"-57.8\" font-family=\"Times New Roman,serif\" font-size=\"14.00\">no</text>\r\n",
       "</g>\r\n",
       "<!-- 147 -->\r\n",
       "<g id=\"node72\" class=\"node\"><title>147</title>\r\n",
       "<ellipse fill=\"none\" stroke=\"black\" cx=\"4532.39\" cy=\"-18\" rx=\"75.2868\" ry=\"18\"/>\r\n",
       "<text text-anchor=\"middle\" x=\"4532.39\" y=\"-14.3\" font-family=\"Times New Roman,serif\" font-size=\"14.00\">leaf=0.558870971</text>\r\n",
       "</g>\r\n",
       "<!-- 90&#45;&gt;147 -->\r\n",
       "<g id=\"edge71\" class=\"edge\"><title>90&#45;&gt;147</title>\r\n",
       "<path fill=\"none\" stroke=\"#0000ff\" d=\"M4622.53,-87.4094C4605.23,-74.2786 4580.9,-55.8122 4561.88,-41.3745\"/>\r\n",
       "<polygon fill=\"#0000ff\" stroke=\"#0000ff\" points=\"4563.9,-38.5175 4553.82,-35.26 4559.67,-44.0935 4563.9,-38.5175\"/>\r\n",
       "<text text-anchor=\"middle\" x=\"4629.89\" y=\"-57.8\" font-family=\"Times New Roman,serif\" font-size=\"14.00\">yes, missing</text>\r\n",
       "</g>\r\n",
       "<!-- 148 -->\r\n",
       "<g id=\"node73\" class=\"node\"><title>148</title>\r\n",
       "<ellipse fill=\"none\" stroke=\"black\" cx=\"4708.39\" cy=\"-18\" rx=\"82.5854\" ry=\"18\"/>\r\n",
       "<text text-anchor=\"middle\" x=\"4708.39\" y=\"-14.3\" font-family=\"Times New Roman,serif\" font-size=\"14.00\">leaf=&#45;0.0122448979</text>\r\n",
       "</g>\r\n",
       "<!-- 90&#45;&gt;148 -->\r\n",
       "<g id=\"edge72\" class=\"edge\"><title>90&#45;&gt;148</title>\r\n",
       "<path fill=\"none\" stroke=\"#ff0000\" d=\"M4657.34,-86.799C4666.6,-74.5062 4679.2,-57.7736 4689.56,-44.0073\"/>\r\n",
       "<polygon fill=\"#ff0000\" stroke=\"#ff0000\" points=\"4692.46,-45.9794 4695.68,-35.8854 4686.87,-41.7688 4692.46,-45.9794\"/>\r\n",
       "<text text-anchor=\"middle\" x=\"4687.89\" y=\"-57.8\" font-family=\"Times New Roman,serif\" font-size=\"14.00\">no</text>\r\n",
       "</g>\r\n",
       "<!-- 149 -->\r\n",
       "<g id=\"node76\" class=\"node\"><title>149</title>\r\n",
       "<ellipse fill=\"none\" stroke=\"black\" cx=\"4891.39\" cy=\"-18\" rx=\"82.5854\" ry=\"18\"/>\r\n",
       "<text text-anchor=\"middle\" x=\"4891.39\" y=\"-14.3\" font-family=\"Times New Roman,serif\" font-size=\"14.00\">leaf=&#45;0.0430298187</text>\r\n",
       "</g>\r\n",
       "<!-- 91&#45;&gt;149 -->\r\n",
       "<g id=\"edge75\" class=\"edge\"><title>91&#45;&gt;149</title>\r\n",
       "<path fill=\"none\" stroke=\"#0000ff\" d=\"M5022.54,-87.8121C4996.48,-74.1369 4958.99,-54.4696 4930.77,-39.6603\"/>\r\n",
       "<polygon fill=\"#0000ff\" stroke=\"#0000ff\" points=\"4932.06,-36.3869 4921.58,-34.8399 4928.81,-42.5855 4932.06,-36.3869\"/>\r\n",
       "<text text-anchor=\"middle\" x=\"5016.89\" y=\"-57.8\" font-family=\"Times New Roman,serif\" font-size=\"14.00\">yes, missing</text>\r\n",
       "</g>\r\n",
       "<!-- 150 -->\r\n",
       "<g id=\"node77\" class=\"node\"><title>150</title>\r\n",
       "<ellipse fill=\"none\" stroke=\"black\" cx=\"5070.39\" cy=\"-18\" rx=\"77.9862\" ry=\"18\"/>\r\n",
       "<text text-anchor=\"middle\" x=\"5070.39\" y=\"-14.3\" font-family=\"Times New Roman,serif\" font-size=\"14.00\">leaf=&#45;0.449491531</text>\r\n",
       "</g>\r\n",
       "<!-- 91&#45;&gt;150 -->\r\n",
       "<g id=\"edge76\" class=\"edge\"><title>91&#45;&gt;150</title>\r\n",
       "<path fill=\"none\" stroke=\"#ff0000\" d=\"M5056.83,-86.799C5059.16,-75.1626 5062.28,-59.5479 5064.95,-46.2368\"/>\r\n",
       "<polygon fill=\"#ff0000\" stroke=\"#ff0000\" points=\"5068.43,-46.6677 5066.96,-36.1754 5061.56,-45.2948 5068.43,-46.6677\"/>\r\n",
       "<text text-anchor=\"middle\" x=\"5070.89\" y=\"-57.8\" font-family=\"Times New Roman,serif\" font-size=\"14.00\">no</text>\r\n",
       "</g>\r\n",
       "<!-- 151 -->\r\n",
       "<g id=\"node78\" class=\"node\"><title>151</title>\r\n",
       "<ellipse fill=\"none\" stroke=\"black\" cx=\"5241.39\" cy=\"-18\" rx=\"75.2868\" ry=\"18\"/>\r\n",
       "<text text-anchor=\"middle\" x=\"5241.39\" y=\"-14.3\" font-family=\"Times New Roman,serif\" font-size=\"14.00\">leaf=0.588940144</text>\r\n",
       "</g>\r\n",
       "<!-- 92&#45;&gt;151 -->\r\n",
       "<g id=\"edge77\" class=\"edge\"><title>92&#45;&gt;151</title>\r\n",
       "<path fill=\"none\" stroke=\"#0000ff\" d=\"M5255.75,-86.799C5253.29,-75.1626 5249.98,-59.5479 5247.16,-46.2368\"/>\r\n",
       "<polygon fill=\"#0000ff\" stroke=\"#0000ff\" points=\"5250.53,-45.2334 5245.03,-36.1754 5243.68,-46.6836 5250.53,-45.2334\"/>\r\n",
       "<text text-anchor=\"middle\" x=\"5286.89\" y=\"-57.8\" font-family=\"Times New Roman,serif\" font-size=\"14.00\">yes, missing</text>\r\n",
       "</g>\r\n",
       "<!-- 152 -->\r\n",
       "<g id=\"node79\" class=\"node\"><title>152</title>\r\n",
       "<ellipse fill=\"none\" stroke=\"black\" cx=\"5408.39\" cy=\"-18\" rx=\"73.387\" ry=\"18\"/>\r\n",
       "<text text-anchor=\"middle\" x=\"5408.39\" y=\"-14.3\" font-family=\"Times New Roman,serif\" font-size=\"14.00\">leaf=&#45;0.19370079</text>\r\n",
       "</g>\r\n",
       "<!-- 92&#45;&gt;152 -->\r\n",
       "<g id=\"edge78\" class=\"edge\"><title>92&#45;&gt;152</title>\r\n",
       "<path fill=\"none\" stroke=\"#ff0000\" d=\"M5290.14,-88.1394C5301.31,-82.2594 5313.99,-75.4507 5325.39,-69 5341.52,-59.8759 5359.13,-49.3477 5373.97,-40.3124\"/>\r\n",
       "<polygon fill=\"#ff0000\" stroke=\"#ff0000\" points=\"5376.1,-43.109 5382.81,-34.9055 5372.45,-37.1373 5376.1,-43.109\"/>\r\n",
       "<text text-anchor=\"middle\" x=\"5358.89\" y=\"-57.8\" font-family=\"Times New Roman,serif\" font-size=\"14.00\">no</text>\r\n",
       "</g>\r\n",
       "<!-- 93 -->\r\n",
       "<g id=\"node82\" class=\"node\"><title>93</title>\r\n",
       "<ellipse fill=\"none\" stroke=\"black\" cx=\"5670.39\" cy=\"-105\" rx=\"111.581\" ry=\"18\"/>\r\n",
       "<text text-anchor=\"middle\" x=\"5670.39\" y=\"-101.3\" font-family=\"Times New Roman,serif\" font-size=\"14.00\">impuesto_total&lt;102.104996</text>\r\n",
       "</g>\r\n",
       "<!-- 57&#45;&gt;93 -->\r\n",
       "<g id=\"edge81\" class=\"edge\"><title>57&#45;&gt;93</title>\r\n",
       "<path fill=\"none\" stroke=\"#0000ff\" d=\"M5827.18,-175.41C5795.91,-161.566 5750.02,-141.252 5715.96,-126.173\"/>\r\n",
       "<polygon fill=\"#0000ff\" stroke=\"#0000ff\" points=\"5717.25,-122.917 5706.69,-122.069 5714.42,-129.318 5717.25,-122.917\"/>\r\n",
       "<text text-anchor=\"middle\" x=\"5812.89\" y=\"-144.8\" font-family=\"Times New Roman,serif\" font-size=\"14.00\">yes, missing</text>\r\n",
       "</g>\r\n",
       "<!-- 94 -->\r\n",
       "<g id=\"node83\" class=\"node\"><title>94</title>\r\n",
       "<ellipse fill=\"none\" stroke=\"black\" cx=\"5862.39\" cy=\"-105\" rx=\"61.99\" ry=\"18\"/>\r\n",
       "<text text-anchor=\"middle\" x=\"5862.39\" y=\"-101.3\" font-family=\"Times New Roman,serif\" font-size=\"14.00\">leaf=0.576159</text>\r\n",
       "</g>\r\n",
       "<!-- 57&#45;&gt;94 -->\r\n",
       "<g id=\"edge82\" class=\"edge\"><title>57&#45;&gt;94</title>\r\n",
       "<path fill=\"none\" stroke=\"#ff0000\" d=\"M5862.39,-173.799C5862.39,-162.163 5862.39,-146.548 5862.39,-133.237\"/>\r\n",
       "<polygon fill=\"#ff0000\" stroke=\"#ff0000\" points=\"5865.89,-133.175 5862.39,-123.175 5858.89,-133.175 5865.89,-133.175\"/>\r\n",
       "<text text-anchor=\"middle\" x=\"5869.89\" y=\"-144.8\" font-family=\"Times New Roman,serif\" font-size=\"14.00\">no</text>\r\n",
       "</g>\r\n",
       "<!-- 95 -->\r\n",
       "<g id=\"node86\" class=\"node\"><title>95</title>\r\n",
       "<ellipse fill=\"none\" stroke=\"black\" cx=\"6054.39\" cy=\"-105\" rx=\"111.581\" ry=\"18\"/>\r\n",
       "<text text-anchor=\"middle\" x=\"6054.39\" y=\"-101.3\" font-family=\"Times New Roman,serif\" font-size=\"14.00\">impuesto_total&lt;23.9500008</text>\r\n",
       "</g>\r\n",
       "<!-- 58&#45;&gt;95 -->\r\n",
       "<g id=\"edge85\" class=\"edge\"><title>58&#45;&gt;95</title>\r\n",
       "<path fill=\"none\" stroke=\"#0000ff\" d=\"M6054.39,-173.799C6054.39,-162.163 6054.39,-146.548 6054.39,-133.237\"/>\r\n",
       "<polygon fill=\"#0000ff\" stroke=\"#0000ff\" points=\"6057.89,-133.175 6054.39,-123.175 6050.89,-133.175 6057.89,-133.175\"/>\r\n",
       "<text text-anchor=\"middle\" x=\"6088.89\" y=\"-144.8\" font-family=\"Times New Roman,serif\" font-size=\"14.00\">yes, missing</text>\r\n",
       "</g>\r\n",
       "<!-- 96 -->\r\n",
       "<g id=\"node87\" class=\"node\"><title>96</title>\r\n",
       "<ellipse fill=\"none\" stroke=\"black\" cx=\"6318.39\" cy=\"-105\" rx=\"134.576\" ry=\"18\"/>\r\n",
       "<text text-anchor=\"middle\" x=\"6318.39\" y=\"-101.3\" font-family=\"Times New Roman,serif\" font-size=\"14.00\">RiskH.aduana&amp;contribuyente&lt;0.5</text>\r\n",
       "</g>\r\n",
       "<!-- 58&#45;&gt;96 -->\r\n",
       "<g id=\"edge86\" class=\"edge\"><title>58&#45;&gt;96</title>\r\n",
       "<path fill=\"none\" stroke=\"#ff0000\" d=\"M6098.58,-176.773C6142.66,-162.58 6210.66,-140.688 6259.34,-125.012\"/>\r\n",
       "<polygon fill=\"#ff0000\" stroke=\"#ff0000\" points=\"6260.67,-128.262 6269.12,-121.865 6258.53,-121.598 6260.67,-128.262\"/>\r\n",
       "<text text-anchor=\"middle\" x=\"6209.89\" y=\"-144.8\" font-family=\"Times New Roman,serif\" font-size=\"14.00\">no</text>\r\n",
       "</g>\r\n",
       "<!-- 153 -->\r\n",
       "<g id=\"node84\" class=\"node\"><title>153</title>\r\n",
       "<ellipse fill=\"none\" stroke=\"black\" cx=\"5577.39\" cy=\"-18\" rx=\"77.9862\" ry=\"18\"/>\r\n",
       "<text text-anchor=\"middle\" x=\"5577.39\" y=\"-14.3\" font-family=\"Times New Roman,serif\" font-size=\"14.00\">leaf=&#45;0.178378388</text>\r\n",
       "</g>\r\n",
       "<!-- 93&#45;&gt;153 -->\r\n",
       "<g id=\"edge83\" class=\"edge\"><title>93&#45;&gt;153</title>\r\n",
       "<path fill=\"none\" stroke=\"#0000ff\" d=\"M5652.02,-87.2067C5638.14,-74.517 5618.89,-56.9297 5603.43,-42.7925\"/>\r\n",
       "<polygon fill=\"#0000ff\" stroke=\"#0000ff\" points=\"5605.47,-39.9214 5595.73,-35.7584 5600.75,-45.0884 5605.47,-39.9214\"/>\r\n",
       "<text text-anchor=\"middle\" x=\"5664.89\" y=\"-57.8\" font-family=\"Times New Roman,serif\" font-size=\"14.00\">yes, missing</text>\r\n",
       "</g>\r\n",
       "<!-- 154 -->\r\n",
       "<g id=\"node85\" class=\"node\"><title>154</title>\r\n",
       "<ellipse fill=\"none\" stroke=\"black\" cx=\"5748.39\" cy=\"-18\" rx=\"75.2868\" ry=\"18\"/>\r\n",
       "<text text-anchor=\"middle\" x=\"5748.39\" y=\"-14.3\" font-family=\"Times New Roman,serif\" font-size=\"14.00\">leaf=0.333333373</text>\r\n",
       "</g>\r\n",
       "<!-- 93&#45;&gt;154 -->\r\n",
       "<g id=\"edge84\" class=\"edge\"><title>93&#45;&gt;154</title>\r\n",
       "<path fill=\"none\" stroke=\"#ff0000\" d=\"M5686.18,-86.799C5697.56,-74.3902 5713.1,-57.4575 5725.8,-43.6185\"/>\r\n",
       "<polygon fill=\"#ff0000\" stroke=\"#ff0000\" points=\"5728.72,-45.6197 5732.9,-35.8854 5723.56,-40.8869 5728.72,-45.6197\"/>\r\n",
       "<text text-anchor=\"middle\" x=\"5721.89\" y=\"-57.8\" font-family=\"Times New Roman,serif\" font-size=\"14.00\">no</text>\r\n",
       "</g>\r\n",
       "<!-- 155 -->\r\n",
       "<g id=\"node88\" class=\"node\"><title>155</title>\r\n",
       "<ellipse fill=\"none\" stroke=\"black\" cx=\"5919.39\" cy=\"-18\" rx=\"77.9862\" ry=\"18\"/>\r\n",
       "<text text-anchor=\"middle\" x=\"5919.39\" y=\"-14.3\" font-family=\"Times New Roman,serif\" font-size=\"14.00\">leaf=&#45;0.471428573</text>\r\n",
       "</g>\r\n",
       "<!-- 95&#45;&gt;155 -->\r\n",
       "<g id=\"edge87\" class=\"edge\"><title>95&#45;&gt;155</title>\r\n",
       "<path fill=\"none\" stroke=\"#0000ff\" d=\"M6028.04,-87.4094C6006.81,-74.0431 5976.8,-55.148 5953.7,-40.6016\"/>\r\n",
       "<polygon fill=\"#0000ff\" stroke=\"#0000ff\" points=\"5955.55,-37.6264 5945.22,-35.26 5951.82,-43.55 5955.55,-37.6264\"/>\r\n",
       "<text text-anchor=\"middle\" x=\"6029.89\" y=\"-57.8\" font-family=\"Times New Roman,serif\" font-size=\"14.00\">yes, missing</text>\r\n",
       "</g>\r\n",
       "<!-- 156 -->\r\n",
       "<g id=\"node89\" class=\"node\"><title>156</title>\r\n",
       "<ellipse fill=\"none\" stroke=\"black\" cx=\"6098.39\" cy=\"-18\" rx=\"82.5854\" ry=\"18\"/>\r\n",
       "<text text-anchor=\"middle\" x=\"6098.39\" y=\"-14.3\" font-family=\"Times New Roman,serif\" font-size=\"14.00\">leaf=&#45;0.0588235334</text>\r\n",
       "</g>\r\n",
       "<!-- 95&#45;&gt;156 -->\r\n",
       "<g id=\"edge88\" class=\"edge\"><title>95&#45;&gt;156</title>\r\n",
       "<path fill=\"none\" stroke=\"#ff0000\" d=\"M6063.3,-86.799C6069.5,-74.8169 6077.89,-58.6168 6084.91,-45.0569\"/>\r\n",
       "<polygon fill=\"#ff0000\" stroke=\"#ff0000\" points=\"6088.01,-46.6651 6089.5,-36.1754 6081.8,-43.4472 6088.01,-46.6651\"/>\r\n",
       "<text text-anchor=\"middle\" x=\"6086.89\" y=\"-57.8\" font-family=\"Times New Roman,serif\" font-size=\"14.00\">no</text>\r\n",
       "</g>\r\n",
       "<!-- 157 -->\r\n",
       "<g id=\"node90\" class=\"node\"><title>157</title>\r\n",
       "<ellipse fill=\"none\" stroke=\"black\" cx=\"6274.39\" cy=\"-18\" rx=\"75.2868\" ry=\"18\"/>\r\n",
       "<text text-anchor=\"middle\" x=\"6274.39\" y=\"-14.3\" font-family=\"Times New Roman,serif\" font-size=\"14.00\">leaf=0.195348844</text>\r\n",
       "</g>\r\n",
       "<!-- 96&#45;&gt;157 -->\r\n",
       "<g id=\"edge89\" class=\"edge\"><title>96&#45;&gt;157</title>\r\n",
       "<path fill=\"none\" stroke=\"#0000ff\" d=\"M6309.49,-86.799C6303.25,-74.7381 6294.79,-58.4034 6287.74,-44.7896\"/>\r\n",
       "<polygon fill=\"#0000ff\" stroke=\"#0000ff\" points=\"6290.84,-43.1571 6283.13,-35.8854 6284.62,-46.3751 6290.84,-43.1571\"/>\r\n",
       "<text text-anchor=\"middle\" x=\"6333.89\" y=\"-57.8\" font-family=\"Times New Roman,serif\" font-size=\"14.00\">yes, missing</text>\r\n",
       "</g>\r\n",
       "<!-- 158 -->\r\n",
       "<g id=\"node91\" class=\"node\"><title>158</title>\r\n",
       "<ellipse fill=\"none\" stroke=\"black\" cx=\"6445.39\" cy=\"-18\" rx=\"77.9862\" ry=\"18\"/>\r\n",
       "<text text-anchor=\"middle\" x=\"6445.39\" y=\"-14.3\" font-family=\"Times New Roman,serif\" font-size=\"14.00\">leaf=&#45;0.458823562</text>\r\n",
       "</g>\r\n",
       "<!-- 96&#45;&gt;158 -->\r\n",
       "<g id=\"edge90\" class=\"edge\"><title>96&#45;&gt;158</title>\r\n",
       "<path fill=\"none\" stroke=\"#ff0000\" d=\"M6344.57,-87.2214C6353.44,-81.4898 6363.38,-75.0094 6372.39,-69 6385.9,-60.0024 6400.68,-49.9177 6413.4,-41.1747\"/>\r\n",
       "<polygon fill=\"#ff0000\" stroke=\"#ff0000\" points=\"6415.58,-43.9224 6421.83,-35.3661 6411.61,-38.1585 6415.58,-43.9224\"/>\r\n",
       "<text text-anchor=\"middle\" x=\"6402.89\" y=\"-57.8\" font-family=\"Times New Roman,serif\" font-size=\"14.00\">no</text>\r\n",
       "</g>\r\n",
       "<!-- 59 -->\r\n",
       "<g id=\"node94\" class=\"node\"><title>59</title>\r\n",
       "<ellipse fill=\"none\" stroke=\"black\" cx=\"6751.39\" cy=\"-192\" rx=\"67.6881\" ry=\"18\"/>\r\n",
       "<text text-anchor=\"middle\" x=\"6751.39\" y=\"-188.3\" font-family=\"Times New Roman,serif\" font-size=\"14.00\">cif&lt;1099.53491</text>\r\n",
       "</g>\r\n",
       "<!-- 33&#45;&gt;59 -->\r\n",
       "<g id=\"edge93\" class=\"edge\"><title>33&#45;&gt;59</title>\r\n",
       "<path fill=\"none\" stroke=\"#0000ff\" d=\"M6846.36,-261.409C6828.05,-248.22 6802.27,-229.646 6782.19,-215.181\"/>\r\n",
       "<polygon fill=\"#0000ff\" stroke=\"#0000ff\" points=\"6784.13,-212.265 6773.97,-209.26 6780.03,-217.945 6784.13,-212.265\"/>\r\n",
       "<text text-anchor=\"middle\" x=\"6852.89\" y=\"-231.8\" font-family=\"Times New Roman,serif\" font-size=\"14.00\">yes, missing</text>\r\n",
       "</g>\r\n",
       "<!-- 60 -->\r\n",
       "<g id=\"node95\" class=\"node\"><title>60</title>\r\n",
       "<ellipse fill=\"none\" stroke=\"black\" cx=\"6987.39\" cy=\"-192\" rx=\"150.574\" ry=\"18\"/>\r\n",
       "<text text-anchor=\"middle\" x=\"6987.39\" y=\"-188.3\" font-family=\"Times New Roman,serif\" font-size=\"14.00\">RiskH.aduana&amp;inciso_arancelario&lt;0.5</text>\r\n",
       "</g>\r\n",
       "<!-- 33&#45;&gt;60 -->\r\n",
       "<g id=\"edge94\" class=\"edge\"><title>33&#45;&gt;60</title>\r\n",
       "<path fill=\"none\" stroke=\"#ff0000\" d=\"M6892.43,-261.409C6910.5,-248.389 6935.86,-230.122 6955.83,-215.739\"/>\r\n",
       "<polygon fill=\"#ff0000\" stroke=\"#ff0000\" points=\"6957.95,-218.524 6964.02,-209.839 6953.86,-212.844 6957.95,-218.524\"/>\r\n",
       "<text text-anchor=\"middle\" x=\"6943.89\" y=\"-231.8\" font-family=\"Times New Roman,serif\" font-size=\"14.00\">no</text>\r\n",
       "</g>\r\n",
       "<!-- 61 -->\r\n",
       "<g id=\"node104\" class=\"node\"><title>61</title>\r\n",
       "<ellipse fill=\"none\" stroke=\"black\" cx=\"7557.39\" cy=\"-192\" rx=\"96.3833\" ry=\"18\"/>\r\n",
       "<text text-anchor=\"middle\" x=\"7557.39\" y=\"-188.3\" font-family=\"Times New Roman,serif\" font-size=\"14.00\">TaxRatio&lt;0.139998347</text>\r\n",
       "</g>\r\n",
       "<!-- 34&#45;&gt;61 -->\r\n",
       "<g id=\"edge103\" class=\"edge\"><title>34&#45;&gt;61</title>\r\n",
       "<path fill=\"none\" stroke=\"#0000ff\" d=\"M7557.39,-260.799C7557.39,-249.163 7557.39,-233.548 7557.39,-220.237\"/>\r\n",
       "<polygon fill=\"#0000ff\" stroke=\"#0000ff\" points=\"7560.89,-220.175 7557.39,-210.175 7553.89,-220.175 7560.89,-220.175\"/>\r\n",
       "<text text-anchor=\"middle\" x=\"7591.89\" y=\"-231.8\" font-family=\"Times New Roman,serif\" font-size=\"14.00\">yes, missing</text>\r\n",
       "</g>\r\n",
       "<!-- 62 -->\r\n",
       "<g id=\"node105\" class=\"node\"><title>62</title>\r\n",
       "<ellipse fill=\"none\" stroke=\"black\" cx=\"7847.39\" cy=\"-192\" rx=\"75.2868\" ry=\"18\"/>\r\n",
       "<text text-anchor=\"middle\" x=\"7847.39\" y=\"-188.3\" font-family=\"Times New Roman,serif\" font-size=\"14.00\">peso_bruto&lt;1085</text>\r\n",
       "</g>\r\n",
       "<!-- 34&#45;&gt;62 -->\r\n",
       "<g id=\"edge104\" class=\"edge\"><title>34&#45;&gt;62</title>\r\n",
       "<path fill=\"none\" stroke=\"#ff0000\" d=\"M7606.92,-263.485C7658.24,-248.442 7738.29,-224.978 7791.76,-209.306\"/>\r\n",
       "<polygon fill=\"#ff0000\" stroke=\"#ff0000\" points=\"7792.81,-212.645 7801.42,-206.474 7790.84,-205.928 7792.81,-212.645\"/>\r\n",
       "<text text-anchor=\"middle\" x=\"7727.89\" y=\"-231.8\" font-family=\"Times New Roman,serif\" font-size=\"14.00\">no</text>\r\n",
       "</g>\r\n",
       "<!-- 97 -->\r\n",
       "<g id=\"node96\" class=\"node\"><title>97</title>\r\n",
       "<ellipse fill=\"none\" stroke=\"black\" cx=\"6653.39\" cy=\"-105\" rx=\"36.2938\" ry=\"18\"/>\r\n",
       "<text text-anchor=\"middle\" x=\"6653.39\" y=\"-101.3\" font-family=\"Times New Roman,serif\" font-size=\"14.00\">leaf=&#45;0</text>\r\n",
       "</g>\r\n",
       "<!-- 59&#45;&gt;97 -->\r\n",
       "<g id=\"edge95\" class=\"edge\"><title>59&#45;&gt;97</title>\r\n",
       "<path fill=\"none\" stroke=\"#0000ff\" d=\"M6719.05,-176.178C6708.93,-170.673 6698.14,-163.834 6689.39,-156 6681.47,-148.903 6674.27,-139.774 6668.42,-131.263\"/>\r\n",
       "<polygon fill=\"#0000ff\" stroke=\"#0000ff\" points=\"6671.25,-129.189 6662.85,-122.728 6665.39,-133.015 6671.25,-129.189\"/>\r\n",
       "<text text-anchor=\"middle\" x=\"6723.89\" y=\"-144.8\" font-family=\"Times New Roman,serif\" font-size=\"14.00\">yes, missing</text>\r\n",
       "</g>\r\n",
       "<!-- 98 -->\r\n",
       "<g id=\"node97\" class=\"node\"><title>98</title>\r\n",
       "<ellipse fill=\"none\" stroke=\"black\" cx=\"6775.39\" cy=\"-105\" rx=\"67.6881\" ry=\"18\"/>\r\n",
       "<text text-anchor=\"middle\" x=\"6775.39\" y=\"-101.3\" font-family=\"Times New Roman,serif\" font-size=\"14.00\">cif&lt;49729.7188</text>\r\n",
       "</g>\r\n",
       "<!-- 59&#45;&gt;98 -->\r\n",
       "<g id=\"edge96\" class=\"edge\"><title>59&#45;&gt;98</title>\r\n",
       "<path fill=\"none\" stroke=\"#ff0000\" d=\"M6756.25,-173.799C6759.57,-162.047 6764.03,-146.238 6767.81,-132.842\"/>\r\n",
       "<polygon fill=\"#ff0000\" stroke=\"#ff0000\" points=\"6771.19,-133.75 6770.54,-123.175 6764.46,-131.848 6771.19,-133.75\"/>\r\n",
       "<text text-anchor=\"middle\" x=\"6772.89\" y=\"-144.8\" font-family=\"Times New Roman,serif\" font-size=\"14.00\">no</text>\r\n",
       "</g>\r\n",
       "<!-- 99 -->\r\n",
       "<g id=\"node100\" class=\"node\"><title>99</title>\r\n",
       "<ellipse fill=\"none\" stroke=\"black\" cx=\"6966.39\" cy=\"-105\" rx=\"100.182\" ry=\"18\"/>\r\n",
       "<text text-anchor=\"middle\" x=\"6966.39\" y=\"-101.3\" font-family=\"Times New Roman,serif\" font-size=\"14.00\">peso_bruto&lt;1815.19995</text>\r\n",
       "</g>\r\n",
       "<!-- 60&#45;&gt;99 -->\r\n",
       "<g id=\"edge99\" class=\"edge\"><title>60&#45;&gt;99</title>\r\n",
       "<path fill=\"none\" stroke=\"#0000ff\" d=\"M6983.14,-173.799C6980.27,-162.163 6976.41,-146.548 6973.12,-133.237\"/>\r\n",
       "<polygon fill=\"#0000ff\" stroke=\"#0000ff\" points=\"6976.43,-132.044 6970.64,-123.175 6969.64,-133.723 6976.43,-132.044\"/>\r\n",
       "<text text-anchor=\"middle\" x=\"7012.89\" y=\"-144.8\" font-family=\"Times New Roman,serif\" font-size=\"14.00\">yes, missing</text>\r\n",
       "</g>\r\n",
       "<!-- 100 -->\r\n",
       "<g id=\"node101\" class=\"node\"><title>100</title>\r\n",
       "<ellipse fill=\"none\" stroke=\"black\" cx=\"7162.39\" cy=\"-105\" rx=\"77.9862\" ry=\"18\"/>\r\n",
       "<text text-anchor=\"middle\" x=\"7162.39\" y=\"-101.3\" font-family=\"Times New Roman,serif\" font-size=\"14.00\">leaf=&#45;0.583216786</text>\r\n",
       "</g>\r\n",
       "<!-- 60&#45;&gt;100 -->\r\n",
       "<g id=\"edge100\" class=\"edge\"><title>60&#45;&gt;100</title>\r\n",
       "<path fill=\"none\" stroke=\"#ff0000\" d=\"M7021.55,-174.409C7050.13,-160.53 7090.98,-140.689 7121.33,-125.945\"/>\r\n",
       "<polygon fill=\"#ff0000\" stroke=\"#ff0000\" points=\"7122.92,-129.063 7130.39,-121.546 7119.86,-122.767 7122.92,-129.063\"/>\r\n",
       "<text text-anchor=\"middle\" x=\"7092.89\" y=\"-144.8\" font-family=\"Times New Roman,serif\" font-size=\"14.00\">no</text>\r\n",
       "</g>\r\n",
       "<!-- 159 -->\r\n",
       "<g id=\"node98\" class=\"node\"><title>159</title>\r\n",
       "<ellipse fill=\"none\" stroke=\"black\" cx=\"6616.39\" cy=\"-18\" rx=\"75.2868\" ry=\"18\"/>\r\n",
       "<text text-anchor=\"middle\" x=\"6616.39\" y=\"-14.3\" font-family=\"Times New Roman,serif\" font-size=\"14.00\">leaf=0.527999997</text>\r\n",
       "</g>\r\n",
       "<!-- 98&#45;&gt;159 -->\r\n",
       "<g id=\"edge97\" class=\"edge\"><title>98&#45;&gt;159</title>\r\n",
       "<path fill=\"none\" stroke=\"#0000ff\" d=\"M6745.51,-88.8406C6733.61,-82.7465 6719.82,-75.6098 6707.39,-69 6689.53,-59.4997 6669.85,-48.7207 6653.36,-39.6095\"/>\r\n",
       "<polygon fill=\"#0000ff\" stroke=\"#0000ff\" points=\"6655.01,-36.5219 6644.57,-34.7381 6651.62,-42.6452 6655.01,-36.5219\"/>\r\n",
       "<text text-anchor=\"middle\" x=\"6741.89\" y=\"-57.8\" font-family=\"Times New Roman,serif\" font-size=\"14.00\">yes, missing</text>\r\n",
       "</g>\r\n",
       "<!-- 160 -->\r\n",
       "<g id=\"node99\" class=\"node\"><title>160</title>\r\n",
       "<ellipse fill=\"none\" stroke=\"black\" cx=\"6785.39\" cy=\"-18\" rx=\"75.2868\" ry=\"18\"/>\r\n",
       "<text text-anchor=\"middle\" x=\"6785.39\" y=\"-14.3\" font-family=\"Times New Roman,serif\" font-size=\"14.00\">leaf=0.200000018</text>\r\n",
       "</g>\r\n",
       "<!-- 98&#45;&gt;160 -->\r\n",
       "<g id=\"edge98\" class=\"edge\"><title>98&#45;&gt;160</title>\r\n",
       "<path fill=\"none\" stroke=\"#ff0000\" d=\"M6777.42,-86.799C6778.79,-75.1626 6780.62,-59.5479 6782.19,-46.2368\"/>\r\n",
       "<polygon fill=\"#ff0000\" stroke=\"#ff0000\" points=\"6785.68,-46.5159 6783.37,-36.1754 6778.73,-45.698 6785.68,-46.5159\"/>\r\n",
       "<text text-anchor=\"middle\" x=\"6788.89\" y=\"-57.8\" font-family=\"Times New Roman,serif\" font-size=\"14.00\">no</text>\r\n",
       "</g>\r\n",
       "<!-- 161 -->\r\n",
       "<g id=\"node102\" class=\"node\"><title>161</title>\r\n",
       "<ellipse fill=\"none\" stroke=\"black\" cx=\"6956.39\" cy=\"-18\" rx=\"77.9862\" ry=\"18\"/>\r\n",
       "<text text-anchor=\"middle\" x=\"6956.39\" y=\"-14.3\" font-family=\"Times New Roman,serif\" font-size=\"14.00\">leaf=&#45;0.134127542</text>\r\n",
       "</g>\r\n",
       "<!-- 99&#45;&gt;161 -->\r\n",
       "<g id=\"edge101\" class=\"edge\"><title>99&#45;&gt;161</title>\r\n",
       "<path fill=\"none\" stroke=\"#0000ff\" d=\"M6964.37,-86.799C6963,-75.1626 6961.16,-59.5479 6959.6,-46.2368\"/>\r\n",
       "<polygon fill=\"#0000ff\" stroke=\"#0000ff\" points=\"6963.06,-45.698 6958.41,-36.1754 6956.11,-46.5159 6963.06,-45.698\"/>\r\n",
       "<text text-anchor=\"middle\" x=\"6996.89\" y=\"-57.8\" font-family=\"Times New Roman,serif\" font-size=\"14.00\">yes, missing</text>\r\n",
       "</g>\r\n",
       "<!-- 162 -->\r\n",
       "<g id=\"node103\" class=\"node\"><title>162</title>\r\n",
       "<ellipse fill=\"none\" stroke=\"black\" cx=\"7130.39\" cy=\"-18\" rx=\"77.9862\" ry=\"18\"/>\r\n",
       "<text text-anchor=\"middle\" x=\"7130.39\" y=\"-14.3\" font-family=\"Times New Roman,serif\" font-size=\"14.00\">leaf=&#45;0.348965526</text>\r\n",
       "</g>\r\n",
       "<!-- 99&#45;&gt;162 -->\r\n",
       "<g id=\"edge102\" class=\"edge\"><title>99&#45;&gt;162</title>\r\n",
       "<path fill=\"none\" stroke=\"#ff0000\" d=\"M6998.39,-87.8945C7010.06,-81.9897 7023.34,-75.228 7035.39,-69 7053.83,-59.4705 7074.21,-48.769 7091.35,-39.719\"/>\r\n",
       "<polygon fill=\"#ff0000\" stroke=\"#ff0000\" points=\"7093.3,-42.6472 7100.5,-34.879 7090.03,-36.4588 7093.3,-42.6472\"/>\r\n",
       "<text text-anchor=\"middle\" x=\"7071.89\" y=\"-57.8\" font-family=\"Times New Roman,serif\" font-size=\"14.00\">no</text>\r\n",
       "</g>\r\n",
       "<!-- 101 -->\r\n",
       "<g id=\"node106\" class=\"node\"><title>101</title>\r\n",
       "<ellipse fill=\"none\" stroke=\"black\" cx=\"7442.39\" cy=\"-105\" rx=\"98.5829\" ry=\"18\"/>\r\n",
       "<text text-anchor=\"middle\" x=\"7442.39\" y=\"-101.3\" font-family=\"Times New Roman,serif\" font-size=\"14.00\">impuesto_total&lt;699.375</text>\r\n",
       "</g>\r\n",
       "<!-- 61&#45;&gt;101 -->\r\n",
       "<g id=\"edge105\" class=\"edge\"><title>61&#45;&gt;101</title>\r\n",
       "<path fill=\"none\" stroke=\"#0000ff\" d=\"M7534.95,-174.409C7517.3,-161.363 7492.52,-143.049 7473.04,-128.653\"/>\r\n",
       "<polygon fill=\"#0000ff\" stroke=\"#0000ff\" points=\"7474.91,-125.678 7464.78,-122.549 7470.74,-131.307 7474.91,-125.678\"/>\r\n",
       "<text text-anchor=\"middle\" x=\"7541.89\" y=\"-144.8\" font-family=\"Times New Roman,serif\" font-size=\"14.00\">yes, missing</text>\r\n",
       "</g>\r\n",
       "<!-- 102 -->\r\n",
       "<g id=\"node107\" class=\"node\"><title>102</title>\r\n",
       "<ellipse fill=\"none\" stroke=\"black\" cx=\"7655.39\" cy=\"-105\" rx=\"96.3833\" ry=\"18\"/>\r\n",
       "<text text-anchor=\"middle\" x=\"7655.39\" y=\"-101.3\" font-family=\"Times New Roman,serif\" font-size=\"14.00\">TaxRatio&lt;0.299500197</text>\r\n",
       "</g>\r\n",
       "<!-- 61&#45;&gt;102 -->\r\n",
       "<g id=\"edge106\" class=\"edge\"><title>61&#45;&gt;102</title>\r\n",
       "<path fill=\"none\" stroke=\"#ff0000\" d=\"M7576.75,-174.207C7591.52,-161.401 7612.04,-143.607 7628.41,-129.404\"/>\r\n",
       "<polygon fill=\"#ff0000\" stroke=\"#ff0000\" points=\"7630.81,-131.955 7636.07,-122.758 7626.22,-126.667 7630.81,-131.955\"/>\r\n",
       "<text text-anchor=\"middle\" x=\"7619.89\" y=\"-144.8\" font-family=\"Times New Roman,serif\" font-size=\"14.00\">no</text>\r\n",
       "</g>\r\n",
       "<!-- 103 -->\r\n",
       "<g id=\"node112\" class=\"node\"><title>103</title>\r\n",
       "<ellipse fill=\"none\" stroke=\"black\" cx=\"7847.39\" cy=\"-105\" rx=\"77.9862\" ry=\"18\"/>\r\n",
       "<text text-anchor=\"middle\" x=\"7847.39\" y=\"-101.3\" font-family=\"Times New Roman,serif\" font-size=\"14.00\">leaf=&#45;0.150000006</text>\r\n",
       "</g>\r\n",
       "<!-- 62&#45;&gt;103 -->\r\n",
       "<g id=\"edge111\" class=\"edge\"><title>62&#45;&gt;103</title>\r\n",
       "<path fill=\"none\" stroke=\"#0000ff\" d=\"M7847.39,-173.799C7847.39,-162.163 7847.39,-146.548 7847.39,-133.237\"/>\r\n",
       "<polygon fill=\"#0000ff\" stroke=\"#0000ff\" points=\"7850.89,-133.175 7847.39,-123.175 7843.89,-133.175 7850.89,-133.175\"/>\r\n",
       "<text text-anchor=\"middle\" x=\"7881.89\" y=\"-144.8\" font-family=\"Times New Roman,serif\" font-size=\"14.00\">yes, missing</text>\r\n",
       "</g>\r\n",
       "<!-- 104 -->\r\n",
       "<g id=\"node113\" class=\"node\"><title>104</title>\r\n",
       "<ellipse fill=\"none\" stroke=\"black\" cx=\"8039.39\" cy=\"-105\" rx=\"96.3833\" ry=\"18\"/>\r\n",
       "<text text-anchor=\"middle\" x=\"8039.39\" y=\"-101.3\" font-family=\"Times New Roman,serif\" font-size=\"14.00\">TaxRatio&lt;0.422486335</text>\r\n",
       "</g>\r\n",
       "<!-- 62&#45;&gt;104 -->\r\n",
       "<g id=\"edge112\" class=\"edge\"><title>62&#45;&gt;104</title>\r\n",
       "<path fill=\"none\" stroke=\"#ff0000\" d=\"M7881.72,-175.804C7913.17,-161.88 7959.94,-141.176 7994.38,-125.93\"/>\r\n",
       "<polygon fill=\"#ff0000\" stroke=\"#ff0000\" points=\"7996.01,-129.033 8003.74,-121.785 7993.18,-122.633 7996.01,-129.033\"/>\r\n",
       "<text text-anchor=\"middle\" x=\"7962.89\" y=\"-144.8\" font-family=\"Times New Roman,serif\" font-size=\"14.00\">no</text>\r\n",
       "</g>\r\n",
       "<!-- 163 -->\r\n",
       "<g id=\"node108\" class=\"node\"><title>163</title>\r\n",
       "<ellipse fill=\"none\" stroke=\"black\" cx=\"7304.39\" cy=\"-18\" rx=\"77.9862\" ry=\"18\"/>\r\n",
       "<text text-anchor=\"middle\" x=\"7304.39\" y=\"-14.3\" font-family=\"Times New Roman,serif\" font-size=\"14.00\">leaf=&#45;0.200000018</text>\r\n",
       "</g>\r\n",
       "<!-- 101&#45;&gt;163 -->\r\n",
       "<g id=\"edge107\" class=\"edge\"><title>101&#45;&gt;163</title>\r\n",
       "<path fill=\"none\" stroke=\"#0000ff\" d=\"M7414.9,-87.53C7405.24,-81.7083 7394.31,-75.0934 7384.39,-69 7369.25,-59.7011 7352.58,-49.3044 7338.39,-40.4103\"/>\r\n",
       "<polygon fill=\"#0000ff\" stroke=\"#0000ff\" points=\"7340.24,-37.4408 7329.91,-35.0898 7336.52,-43.37 7340.24,-37.4408\"/>\r\n",
       "<text text-anchor=\"middle\" x=\"7418.89\" y=\"-57.8\" font-family=\"Times New Roman,serif\" font-size=\"14.00\">yes, missing</text>\r\n",
       "</g>\r\n",
       "<!-- 164 -->\r\n",
       "<g id=\"node109\" class=\"node\"><title>164</title>\r\n",
       "<ellipse fill=\"none\" stroke=\"black\" cx=\"7475.39\" cy=\"-18\" rx=\"75.2868\" ry=\"18\"/>\r\n",
       "<text text-anchor=\"middle\" x=\"7475.39\" y=\"-14.3\" font-family=\"Times New Roman,serif\" font-size=\"14.00\">leaf=0.546315849</text>\r\n",
       "</g>\r\n",
       "<!-- 101&#45;&gt;164 -->\r\n",
       "<g id=\"edge108\" class=\"edge\"><title>101&#45;&gt;164</title>\r\n",
       "<path fill=\"none\" stroke=\"#ff0000\" d=\"M7449.07,-86.799C7453.63,-75.0474 7459.77,-59.2383 7464.97,-45.8421\"/>\r\n",
       "<polygon fill=\"#ff0000\" stroke=\"#ff0000\" points=\"7468.37,-46.7643 7468.73,-36.1754 7461.84,-44.2308 7468.37,-46.7643\"/>\r\n",
       "<text text-anchor=\"middle\" x=\"7468.89\" y=\"-57.8\" font-family=\"Times New Roman,serif\" font-size=\"14.00\">no</text>\r\n",
       "</g>\r\n",
       "<!-- 165 -->\r\n",
       "<g id=\"node110\" class=\"node\"><title>165</title>\r\n",
       "<ellipse fill=\"none\" stroke=\"black\" cx=\"7655.39\" cy=\"-18\" rx=\"87.1846\" ry=\"18\"/>\r\n",
       "<text text-anchor=\"middle\" x=\"7655.39\" y=\"-14.3\" font-family=\"Times New Roman,serif\" font-size=\"14.00\">leaf=&#45;0.00895522442</text>\r\n",
       "</g>\r\n",
       "<!-- 102&#45;&gt;165 -->\r\n",
       "<g id=\"edge109\" class=\"edge\"><title>102&#45;&gt;165</title>\r\n",
       "<path fill=\"none\" stroke=\"#0000ff\" d=\"M7655.39,-86.799C7655.39,-75.1626 7655.39,-59.5479 7655.39,-46.2368\"/>\r\n",
       "<polygon fill=\"#0000ff\" stroke=\"#0000ff\" points=\"7658.89,-46.1754 7655.39,-36.1754 7651.89,-46.1755 7658.89,-46.1754\"/>\r\n",
       "<text text-anchor=\"middle\" x=\"7689.89\" y=\"-57.8\" font-family=\"Times New Roman,serif\" font-size=\"14.00\">yes, missing</text>\r\n",
       "</g>\r\n",
       "<!-- 166 -->\r\n",
       "<g id=\"node111\" class=\"node\"><title>166</title>\r\n",
       "<ellipse fill=\"none\" stroke=\"black\" cx=\"7835.39\" cy=\"-18\" rx=\"75.2868\" ry=\"18\"/>\r\n",
       "<text text-anchor=\"middle\" x=\"7835.39\" y=\"-14.3\" font-family=\"Times New Roman,serif\" font-size=\"14.00\">leaf=0.304761946</text>\r\n",
       "</g>\r\n",
       "<!-- 102&#45;&gt;166 -->\r\n",
       "<g id=\"edge110\" class=\"edge\"><title>102&#45;&gt;166</title>\r\n",
       "<path fill=\"none\" stroke=\"#ff0000\" d=\"M7689.25,-88.0122C7718.78,-74.0659 7761.75,-53.7779 7793.45,-38.8064\"/>\r\n",
       "<polygon fill=\"#ff0000\" stroke=\"#ff0000\" points=\"7795.35,-41.7786 7802.9,-34.3436 7792.36,-35.4489 7795.35,-41.7786\"/>\r\n",
       "<text text-anchor=\"middle\" x=\"7763.89\" y=\"-57.8\" font-family=\"Times New Roman,serif\" font-size=\"14.00\">no</text>\r\n",
       "</g>\r\n",
       "<!-- 167 -->\r\n",
       "<g id=\"node114\" class=\"node\"><title>167</title>\r\n",
       "<ellipse fill=\"none\" stroke=\"black\" cx=\"8006.39\" cy=\"-18\" rx=\"77.9862\" ry=\"18\"/>\r\n",
       "<text text-anchor=\"middle\" x=\"8006.39\" y=\"-14.3\" font-family=\"Times New Roman,serif\" font-size=\"14.00\">leaf=&#45;0.150000006</text>\r\n",
       "</g>\r\n",
       "<!-- 104&#45;&gt;167 -->\r\n",
       "<g id=\"edge113\" class=\"edge\"><title>104&#45;&gt;167</title>\r\n",
       "<path fill=\"none\" stroke=\"#0000ff\" d=\"M8032.72,-86.799C8028.15,-75.0474 8022.02,-59.2383 8016.81,-45.8421\"/>\r\n",
       "<polygon fill=\"#0000ff\" stroke=\"#0000ff\" points=\"8019.94,-44.2308 8013.06,-36.1754 8013.42,-46.7643 8019.94,-44.2308\"/>\r\n",
       "<text text-anchor=\"middle\" x=\"8059.89\" y=\"-57.8\" font-family=\"Times New Roman,serif\" font-size=\"14.00\">yes, missing</text>\r\n",
       "</g>\r\n",
       "<!-- 168 -->\r\n",
       "<g id=\"node115\" class=\"node\"><title>168</title>\r\n",
       "<ellipse fill=\"none\" stroke=\"black\" cx=\"8180.39\" cy=\"-18\" rx=\"77.9862\" ry=\"18\"/>\r\n",
       "<text text-anchor=\"middle\" x=\"8180.39\" y=\"-14.3\" font-family=\"Times New Roman,serif\" font-size=\"14.00\">leaf=&#45;0.533333361</text>\r\n",
       "</g>\r\n",
       "<!-- 104&#45;&gt;168 -->\r\n",
       "<g id=\"edge114\" class=\"edge\"><title>104&#45;&gt;168</title>\r\n",
       "<path fill=\"none\" stroke=\"#ff0000\" d=\"M8067.05,-87.6877C8076.95,-81.8218 8088.19,-75.1385 8098.39,-69 8113.89,-59.6769 8130.98,-49.2765 8145.53,-40.3861\"/>\r\n",
       "<polygon fill=\"#ff0000\" stroke=\"#ff0000\" points=\"8147.52,-43.2728 8154.22,-35.0688 8143.87,-37.3015 8147.52,-43.2728\"/>\r\n",
       "<text text-anchor=\"middle\" x=\"8128.89\" y=\"-57.8\" font-family=\"Times New Roman,serif\" font-size=\"14.00\">no</text>\r\n",
       "</g>\r\n",
       "<!-- 11 -->\r\n",
       "<g id=\"node118\" class=\"node\"><title>11</title>\r\n",
       "<ellipse fill=\"none\" stroke=\"black\" cx=\"8534.39\" cy=\"-453\" rx=\"90.9839\" ry=\"18\"/>\r\n",
       "<text text-anchor=\"middle\" x=\"8534.39\" y=\"-449.3\" font-family=\"Times New Roman,serif\" font-size=\"14.00\">Unitprice&lt;95.9497528</text>\r\n",
       "</g>\r\n",
       "<!-- 7&#45;&gt;11 -->\r\n",
       "<g id=\"edge117\" class=\"edge\"><title>7&#45;&gt;11</title>\r\n",
       "<path fill=\"none\" stroke=\"#0000ff\" d=\"M8610.62,-522.207C8596.44,-509.517 8576.79,-491.93 8560.98,-477.793\"/>\r\n",
       "<polygon fill=\"#0000ff\" stroke=\"#0000ff\" points=\"8562.91,-474.818 8553.12,-470.758 8558.24,-480.035 8562.91,-474.818\"/>\r\n",
       "<text text-anchor=\"middle\" x=\"8622.89\" y=\"-492.8\" font-family=\"Times New Roman,serif\" font-size=\"14.00\">yes, missing</text>\r\n",
       "</g>\r\n",
       "<!-- 12 -->\r\n",
       "<g id=\"node119\" class=\"node\"><title>12</title>\r\n",
       "<ellipse fill=\"none\" stroke=\"black\" cx=\"8819.39\" cy=\"-453\" rx=\"111.581\" ry=\"18\"/>\r\n",
       "<text text-anchor=\"middle\" x=\"8819.39\" y=\"-449.3\" font-family=\"Times New Roman,serif\" font-size=\"14.00\">impuesto_total&lt;8453.48047</text>\r\n",
       "</g>\r\n",
       "<!-- 7&#45;&gt;12 -->\r\n",
       "<g id=\"edge118\" class=\"edge\"><title>7&#45;&gt;12</title>\r\n",
       "<path fill=\"none\" stroke=\"#ff0000\" d=\"M8665.58,-522.812C8696.35,-509.046 8740.69,-489.208 8773.87,-474.366\"/>\r\n",
       "<polygon fill=\"#ff0000\" stroke=\"#ff0000\" points=\"8775.64,-477.406 8783.34,-470.128 8772.79,-471.017 8775.64,-477.406\"/>\r\n",
       "<text text-anchor=\"middle\" x=\"8743.89\" y=\"-492.8\" font-family=\"Times New Roman,serif\" font-size=\"14.00\">no</text>\r\n",
       "</g>\r\n",
       "<!-- 13 -->\r\n",
       "<g id=\"node156\" class=\"node\"><title>13</title>\r\n",
       "<ellipse fill=\"none\" stroke=\"black\" cx=\"10340.4\" cy=\"-453\" rx=\"96.3833\" ry=\"18\"/>\r\n",
       "<text text-anchor=\"middle\" x=\"10340.4\" y=\"-449.3\" font-family=\"Times New Roman,serif\" font-size=\"14.00\">TaxRatio&lt;0.468527675</text>\r\n",
       "</g>\r\n",
       "<!-- 8&#45;&gt;13 -->\r\n",
       "<g id=\"edge155\" class=\"edge\"><title>8&#45;&gt;13</title>\r\n",
       "<path fill=\"none\" stroke=\"#0000ff\" d=\"M10340.4,-521.799C10340.4,-510.163 10340.4,-494.548 10340.4,-481.237\"/>\r\n",
       "<polygon fill=\"#0000ff\" stroke=\"#0000ff\" points=\"10343.9,-481.175 10340.4,-471.175 10336.9,-481.175 10343.9,-481.175\"/>\r\n",
       "<text text-anchor=\"middle\" x=\"10374.9\" y=\"-492.8\" font-family=\"Times New Roman,serif\" font-size=\"14.00\">yes, missing</text>\r\n",
       "</g>\r\n",
       "<!-- 14 -->\r\n",
       "<g id=\"node157\" class=\"node\"><title>14</title>\r\n",
       "<ellipse fill=\"none\" stroke=\"black\" cx=\"10947.4\" cy=\"-453\" rx=\"107.482\" ry=\"18\"/>\r\n",
       "<text text-anchor=\"middle\" x=\"10947.4\" y=\"-449.3\" font-family=\"Times New Roman,serif\" font-size=\"14.00\">impuesto_total&lt;3123.7251</text>\r\n",
       "</g>\r\n",
       "<!-- 8&#45;&gt;14 -->\r\n",
       "<g id=\"edge156\" class=\"edge\"><title>8&#45;&gt;14</title>\r\n",
       "<path fill=\"none\" stroke=\"#ff0000\" d=\"M10414.8,-528.577C10526.8,-512.904 10738.1,-483.314 10858.1,-466.502\"/>\r\n",
       "<polygon fill=\"#ff0000\" stroke=\"#ff0000\" points=\"10858.6,-469.968 10868,-465.115 10857.6,-463.036 10858.6,-469.968\"/>\r\n",
       "<text text-anchor=\"middle\" x=\"10686.9\" y=\"-492.8\" font-family=\"Times New Roman,serif\" font-size=\"14.00\">no</text>\r\n",
       "</g>\r\n",
       "<!-- 19 -->\r\n",
       "<g id=\"node120\" class=\"node\"><title>19</title>\r\n",
       "<ellipse fill=\"none\" stroke=\"black\" cx=\"8359.39\" cy=\"-366\" rx=\"67.6881\" ry=\"18\"/>\r\n",
       "<text text-anchor=\"middle\" x=\"8359.39\" y=\"-362.3\" font-family=\"Times New Roman,serif\" font-size=\"14.00\">cif&lt;7.45499992</text>\r\n",
       "</g>\r\n",
       "<!-- 11&#45;&gt;19 -->\r\n",
       "<g id=\"edge119\" class=\"edge\"><title>11&#45;&gt;19</title>\r\n",
       "<path fill=\"none\" stroke=\"#0000ff\" d=\"M8501.29,-436.206C8488.78,-430.215 8474.42,-423.315 8461.39,-417 8440.9,-407.064 8418.14,-395.917 8399.32,-386.674\"/>\r\n",
       "<polygon fill=\"#0000ff\" stroke=\"#0000ff\" points=\"8400.68,-383.438 8390.16,-382.167 8397.59,-389.72 8400.68,-383.438\"/>\r\n",
       "<text text-anchor=\"middle\" x=\"8495.89\" y=\"-405.8\" font-family=\"Times New Roman,serif\" font-size=\"14.00\">yes, missing</text>\r\n",
       "</g>\r\n",
       "<!-- 20 -->\r\n",
       "<g id=\"node121\" class=\"node\"><title>20</title>\r\n",
       "<ellipse fill=\"none\" stroke=\"black\" cx=\"8534.39\" cy=\"-366\" rx=\"77.9862\" ry=\"18\"/>\r\n",
       "<text text-anchor=\"middle\" x=\"8534.39\" y=\"-362.3\" font-family=\"Times New Roman,serif\" font-size=\"14.00\">leaf=&#45;0.342857182</text>\r\n",
       "</g>\r\n",
       "<!-- 11&#45;&gt;20 -->\r\n",
       "<g id=\"edge120\" class=\"edge\"><title>11&#45;&gt;20</title>\r\n",
       "<path fill=\"none\" stroke=\"#ff0000\" d=\"M8534.39,-434.799C8534.39,-423.163 8534.39,-407.548 8534.39,-394.237\"/>\r\n",
       "<polygon fill=\"#ff0000\" stroke=\"#ff0000\" points=\"8537.89,-394.175 8534.39,-384.175 8530.89,-394.175 8537.89,-394.175\"/>\r\n",
       "<text text-anchor=\"middle\" x=\"8541.89\" y=\"-405.8\" font-family=\"Times New Roman,serif\" font-size=\"14.00\">no</text>\r\n",
       "</g>\r\n",
       "<!-- 21 -->\r\n",
       "<g id=\"node128\" class=\"node\"><title>21</title>\r\n",
       "<ellipse fill=\"none\" stroke=\"black\" cx=\"8819.39\" cy=\"-366\" rx=\"90.9839\" ry=\"18\"/>\r\n",
       "<text text-anchor=\"middle\" x=\"8819.39\" y=\"-362.3\" font-family=\"Times New Roman,serif\" font-size=\"14.00\">Unitprice&lt;2747.55005</text>\r\n",
       "</g>\r\n",
       "<!-- 12&#45;&gt;21 -->\r\n",
       "<g id=\"edge127\" class=\"edge\"><title>12&#45;&gt;21</title>\r\n",
       "<path fill=\"none\" stroke=\"#0000ff\" d=\"M8819.39,-434.799C8819.39,-423.163 8819.39,-407.548 8819.39,-394.237\"/>\r\n",
       "<polygon fill=\"#0000ff\" stroke=\"#0000ff\" points=\"8822.89,-394.175 8819.39,-384.175 8815.89,-394.175 8822.89,-394.175\"/>\r\n",
       "<text text-anchor=\"middle\" x=\"8853.89\" y=\"-405.8\" font-family=\"Times New Roman,serif\" font-size=\"14.00\">yes, missing</text>\r\n",
       "</g>\r\n",
       "<!-- 22 -->\r\n",
       "<g id=\"node129\" class=\"node\"><title>22</title>\r\n",
       "<ellipse fill=\"none\" stroke=\"black\" cx=\"9011.39\" cy=\"-366\" rx=\"82.5854\" ry=\"18\"/>\r\n",
       "<text text-anchor=\"middle\" x=\"9011.39\" y=\"-362.3\" font-family=\"Times New Roman,serif\" font-size=\"14.00\">leaf=&#45;0.0545454584</text>\r\n",
       "</g>\r\n",
       "<!-- 12&#45;&gt;22 -->\r\n",
       "<g id=\"edge128\" class=\"edge\"><title>12&#45;&gt;22</title>\r\n",
       "<path fill=\"none\" stroke=\"#ff0000\" d=\"M8855.96,-435.812C8887.68,-421.767 8933.69,-401.401 8967.42,-386.469\"/>\r\n",
       "<polygon fill=\"#ff0000\" stroke=\"#ff0000\" points=\"8968.85,-389.66 8976.58,-382.412 8966.02,-383.259 8968.85,-389.66\"/>\r\n",
       "<text text-anchor=\"middle\" x=\"8934.89\" y=\"-405.8\" font-family=\"Times New Roman,serif\" font-size=\"14.00\">no</text>\r\n",
       "</g>\r\n",
       "<!-- 35 -->\r\n",
       "<g id=\"node122\" class=\"node\"><title>35</title>\r\n",
       "<ellipse fill=\"none\" stroke=\"black\" cx=\"8143.39\" cy=\"-279\" rx=\"77.9862\" ry=\"18\"/>\r\n",
       "<text text-anchor=\"middle\" x=\"8143.39\" y=\"-275.3\" font-family=\"Times New Roman,serif\" font-size=\"14.00\">leaf=&#45;0.163636371</text>\r\n",
       "</g>\r\n",
       "<!-- 19&#45;&gt;35 -->\r\n",
       "<g id=\"edge121\" class=\"edge\"><title>19&#45;&gt;35</title>\r\n",
       "<path fill=\"none\" stroke=\"#0000ff\" d=\"M8323.24,-350.773C8286.85,-336.452 8230.54,-314.293 8190.63,-298.59\"/>\r\n",
       "<polygon fill=\"#0000ff\" stroke=\"#0000ff\" points=\"8191.71,-295.25 8181.12,-294.845 8189.14,-301.764 8191.71,-295.25\"/>\r\n",
       "<text text-anchor=\"middle\" x=\"8298.89\" y=\"-318.8\" font-family=\"Times New Roman,serif\" font-size=\"14.00\">yes, missing</text>\r\n",
       "</g>\r\n",
       "<!-- 36 -->\r\n",
       "<g id=\"node123\" class=\"node\"><title>36</title>\r\n",
       "<ellipse fill=\"none\" stroke=\"black\" cx=\"8359.39\" cy=\"-279\" rx=\"120.479\" ry=\"18\"/>\r\n",
       "<text text-anchor=\"middle\" x=\"8359.39\" y=\"-275.3\" font-family=\"Times New Roman,serif\" font-size=\"14.00\">TaxUnitquantity&lt;0.442692012</text>\r\n",
       "</g>\r\n",
       "<!-- 19&#45;&gt;36 -->\r\n",
       "<g id=\"edge122\" class=\"edge\"><title>19&#45;&gt;36</title>\r\n",
       "<path fill=\"none\" stroke=\"#ff0000\" d=\"M8359.39,-347.799C8359.39,-336.163 8359.39,-320.548 8359.39,-307.237\"/>\r\n",
       "<polygon fill=\"#ff0000\" stroke=\"#ff0000\" points=\"8362.89,-307.175 8359.39,-297.175 8355.89,-307.175 8362.89,-307.175\"/>\r\n",
       "<text text-anchor=\"middle\" x=\"8366.89\" y=\"-318.8\" font-family=\"Times New Roman,serif\" font-size=\"14.00\">no</text>\r\n",
       "</g>\r\n",
       "<!-- 63 -->\r\n",
       "<g id=\"node124\" class=\"node\"><title>63</title>\r\n",
       "<ellipse fill=\"none\" stroke=\"black\" cx=\"8158.39\" cy=\"-192\" rx=\"82.5854\" ry=\"18\"/>\r\n",
       "<text text-anchor=\"middle\" x=\"8158.39\" y=\"-188.3\" font-family=\"Times New Roman,serif\" font-size=\"14.00\">leaf=&#45;0.0666666701</text>\r\n",
       "</g>\r\n",
       "<!-- 36&#45;&gt;63 -->\r\n",
       "<g id=\"edge123\" class=\"edge\"><title>36&#45;&gt;63</title>\r\n",
       "<path fill=\"none\" stroke=\"#0000ff\" d=\"M8321.11,-261.812C8287.8,-247.723 8239.44,-227.273 8204.1,-212.329\"/>\r\n",
       "<polygon fill=\"#0000ff\" stroke=\"#0000ff\" points=\"8205.08,-208.941 8194.5,-208.27 8202.35,-215.388 8205.08,-208.941\"/>\r\n",
       "<text text-anchor=\"middle\" x=\"8305.89\" y=\"-231.8\" font-family=\"Times New Roman,serif\" font-size=\"14.00\">yes, missing</text>\r\n",
       "</g>\r\n",
       "<!-- 64 -->\r\n",
       "<g id=\"node125\" class=\"node\"><title>64</title>\r\n",
       "<ellipse fill=\"none\" stroke=\"black\" cx=\"8359.39\" cy=\"-192\" rx=\"100.182\" ry=\"18\"/>\r\n",
       "<text text-anchor=\"middle\" x=\"8359.39\" y=\"-188.3\" font-family=\"Times New Roman,serif\" font-size=\"14.00\">WUnitprice&lt;4.02965164</text>\r\n",
       "</g>\r\n",
       "<!-- 36&#45;&gt;64 -->\r\n",
       "<g id=\"edge124\" class=\"edge\"><title>36&#45;&gt;64</title>\r\n",
       "<path fill=\"none\" stroke=\"#ff0000\" d=\"M8359.39,-260.799C8359.39,-249.163 8359.39,-233.548 8359.39,-220.237\"/>\r\n",
       "<polygon fill=\"#ff0000\" stroke=\"#ff0000\" points=\"8362.89,-220.175 8359.39,-210.175 8355.89,-220.175 8362.89,-220.175\"/>\r\n",
       "<text text-anchor=\"middle\" x=\"8366.89\" y=\"-231.8\" font-family=\"Times New Roman,serif\" font-size=\"14.00\">no</text>\r\n",
       "</g>\r\n",
       "<!-- 105 -->\r\n",
       "<g id=\"node126\" class=\"node\"><title>105</title>\r\n",
       "<ellipse fill=\"none\" stroke=\"black\" cx=\"8229.39\" cy=\"-105\" rx=\"75.2868\" ry=\"18\"/>\r\n",
       "<text text-anchor=\"middle\" x=\"8229.39\" y=\"-101.3\" font-family=\"Times New Roman,serif\" font-size=\"14.00\">leaf=0.440000027</text>\r\n",
       "</g>\r\n",
       "<!-- 64&#45;&gt;105 -->\r\n",
       "<g id=\"edge125\" class=\"edge\"><title>64&#45;&gt;105</title>\r\n",
       "<path fill=\"none\" stroke=\"#0000ff\" d=\"M8321.56,-175.261C8309.92,-169.791 8297.3,-163.202 8286.39,-156 8274.78,-148.331 8263.03,-138.467 8253.25,-129.53\"/>\r\n",
       "<polygon fill=\"#0000ff\" stroke=\"#0000ff\" points=\"8255.56,-126.896 8245.86,-122.621 8250.77,-132.008 8255.56,-126.896\"/>\r\n",
       "<text text-anchor=\"middle\" x=\"8320.89\" y=\"-144.8\" font-family=\"Times New Roman,serif\" font-size=\"14.00\">yes, missing</text>\r\n",
       "</g>\r\n",
       "<!-- 106 -->\r\n",
       "<g id=\"node127\" class=\"node\"><title>106</title>\r\n",
       "<ellipse fill=\"none\" stroke=\"black\" cx=\"8359.39\" cy=\"-105\" rx=\"36.2938\" ry=\"18\"/>\r\n",
       "<text text-anchor=\"middle\" x=\"8359.39\" y=\"-101.3\" font-family=\"Times New Roman,serif\" font-size=\"14.00\">leaf=&#45;0</text>\r\n",
       "</g>\r\n",
       "<!-- 64&#45;&gt;106 -->\r\n",
       "<g id=\"edge126\" class=\"edge\"><title>64&#45;&gt;106</title>\r\n",
       "<path fill=\"none\" stroke=\"#ff0000\" d=\"M8359.39,-173.799C8359.39,-162.163 8359.39,-146.548 8359.39,-133.237\"/>\r\n",
       "<polygon fill=\"#ff0000\" stroke=\"#ff0000\" points=\"8362.89,-133.175 8359.39,-123.175 8355.89,-133.175 8362.89,-133.175\"/>\r\n",
       "<text text-anchor=\"middle\" x=\"8366.89\" y=\"-144.8\" font-family=\"Times New Roman,serif\" font-size=\"14.00\">no</text>\r\n",
       "</g>\r\n",
       "<!-- 37 -->\r\n",
       "<g id=\"node130\" class=\"node\"><title>37</title>\r\n",
       "<ellipse fill=\"none\" stroke=\"black\" cx=\"8819.39\" cy=\"-279\" rx=\"83.3857\" ry=\"18\"/>\r\n",
       "<text text-anchor=\"middle\" x=\"8819.39\" y=\"-275.3\" font-family=\"Times New Roman,serif\" font-size=\"14.00\">cuantia&lt;23.5799999</text>\r\n",
       "</g>\r\n",
       "<!-- 21&#45;&gt;37 -->\r\n",
       "<g id=\"edge129\" class=\"edge\"><title>21&#45;&gt;37</title>\r\n",
       "<path fill=\"none\" stroke=\"#0000ff\" d=\"M8819.39,-347.799C8819.39,-336.163 8819.39,-320.548 8819.39,-307.237\"/>\r\n",
       "<polygon fill=\"#0000ff\" stroke=\"#0000ff\" points=\"8822.89,-307.175 8819.39,-297.175 8815.89,-307.175 8822.89,-307.175\"/>\r\n",
       "<text text-anchor=\"middle\" x=\"8853.89\" y=\"-318.8\" font-family=\"Times New Roman,serif\" font-size=\"14.00\">yes, missing</text>\r\n",
       "</g>\r\n",
       "<!-- 38 -->\r\n",
       "<g id=\"node131\" class=\"node\"><title>38</title>\r\n",
       "<ellipse fill=\"none\" stroke=\"black\" cx=\"9567.39\" cy=\"-279\" rx=\"116.18\" ry=\"18\"/>\r\n",
       "<text text-anchor=\"middle\" x=\"9567.39\" y=\"-275.3\" font-family=\"Times New Roman,serif\" font-size=\"14.00\">TaxUnitquantity&lt;3.28555012</text>\r\n",
       "</g>\r\n",
       "<!-- 21&#45;&gt;38 -->\r\n",
       "<g id=\"edge130\" class=\"edge\"><title>21&#45;&gt;38</title>\r\n",
       "<path fill=\"none\" stroke=\"#ff0000\" d=\"M8884.39,-353.332C8896.02,-351.42 8908.05,-349.557 8919.39,-348 9108.02,-322.097 9328.73,-300.86 9457.79,-289.351\"/>\r\n",
       "<polygon fill=\"#ff0000\" stroke=\"#ff0000\" points=\"9458.43,-292.809 9468.08,-288.437 9457.81,-285.836 9458.43,-292.809\"/>\r\n",
       "<text text-anchor=\"middle\" x=\"9193.89\" y=\"-318.8\" font-family=\"Times New Roman,serif\" font-size=\"14.00\">no</text>\r\n",
       "</g>\r\n",
       "<!-- 65 -->\r\n",
       "<g id=\"node132\" class=\"node\"><title>65</title>\r\n",
       "<ellipse fill=\"none\" stroke=\"black\" cx=\"8637.39\" cy=\"-192\" rx=\"96.3833\" ry=\"18\"/>\r\n",
       "<text text-anchor=\"middle\" x=\"8637.39\" y=\"-188.3\" font-family=\"Times New Roman,serif\" font-size=\"14.00\">TaxRatio&lt;0.428777874</text>\r\n",
       "</g>\r\n",
       "<!-- 37&#45;&gt;65 -->\r\n",
       "<g id=\"edge131\" class=\"edge\"><title>37&#45;&gt;65</title>\r\n",
       "<path fill=\"none\" stroke=\"#0000ff\" d=\"M8786.01,-262.41C8756.4,-248.582 8712.97,-228.297 8680.7,-213.224\"/>\r\n",
       "<polygon fill=\"#0000ff\" stroke=\"#0000ff\" points=\"8682.03,-209.984 8671.49,-208.924 8679.07,-216.327 8682.03,-209.984\"/>\r\n",
       "<text text-anchor=\"middle\" x=\"8773.89\" y=\"-231.8\" font-family=\"Times New Roman,serif\" font-size=\"14.00\">yes, missing</text>\r\n",
       "</g>\r\n",
       "<!-- 66 -->\r\n",
       "<g id=\"node133\" class=\"node\"><title>66</title>\r\n",
       "<ellipse fill=\"none\" stroke=\"black\" cx=\"8851.39\" cy=\"-192\" rx=\"100.182\" ry=\"18\"/>\r\n",
       "<text text-anchor=\"middle\" x=\"8851.39\" y=\"-188.3\" font-family=\"Times New Roman,serif\" font-size=\"14.00\">WUnitprice&lt;1.38998175</text>\r\n",
       "</g>\r\n",
       "<!-- 37&#45;&gt;66 -->\r\n",
       "<g id=\"edge132\" class=\"edge\"><title>37&#45;&gt;66</title>\r\n",
       "<path fill=\"none\" stroke=\"#ff0000\" d=\"M8825.87,-260.799C8830.29,-249.047 8836.24,-233.238 8841.29,-219.842\"/>\r\n",
       "<polygon fill=\"#ff0000\" stroke=\"#ff0000\" points=\"8844.68,-220.767 8844.93,-210.175 8838.13,-218.301 8844.68,-220.767\"/>\r\n",
       "<text text-anchor=\"middle\" x=\"8844.89\" y=\"-231.8\" font-family=\"Times New Roman,serif\" font-size=\"14.00\">no</text>\r\n",
       "</g>\r\n",
       "<!-- 67 -->\r\n",
       "<g id=\"node144\" class=\"node\"><title>67</title>\r\n",
       "<ellipse fill=\"none\" stroke=\"black\" cx=\"9567.39\" cy=\"-192\" rx=\"96.3833\" ry=\"18\"/>\r\n",
       "<text text-anchor=\"middle\" x=\"9567.39\" y=\"-188.3\" font-family=\"Times New Roman,serif\" font-size=\"14.00\">TaxRatio&lt;0.438233137</text>\r\n",
       "</g>\r\n",
       "<!-- 38&#45;&gt;67 -->\r\n",
       "<g id=\"edge143\" class=\"edge\"><title>38&#45;&gt;67</title>\r\n",
       "<path fill=\"none\" stroke=\"#0000ff\" d=\"M9567.39,-260.799C9567.39,-249.163 9567.39,-233.548 9567.39,-220.237\"/>\r\n",
       "<polygon fill=\"#0000ff\" stroke=\"#0000ff\" points=\"9570.89,-220.175 9567.39,-210.175 9563.89,-220.175 9570.89,-220.175\"/>\r\n",
       "<text text-anchor=\"middle\" x=\"9601.89\" y=\"-231.8\" font-family=\"Times New Roman,serif\" font-size=\"14.00\">yes, missing</text>\r\n",
       "</g>\r\n",
       "<!-- 68 -->\r\n",
       "<g id=\"node145\" class=\"node\"><title>68</title>\r\n",
       "<ellipse fill=\"none\" stroke=\"black\" cx=\"9826.39\" cy=\"-192\" rx=\"100.182\" ry=\"18\"/>\r\n",
       "<text text-anchor=\"middle\" x=\"9826.39\" y=\"-188.3\" font-family=\"Times New Roman,serif\" font-size=\"14.00\">peso_bruto&lt;163.994995</text>\r\n",
       "</g>\r\n",
       "<!-- 38&#45;&gt;68 -->\r\n",
       "<g id=\"edge144\" class=\"edge\"><title>38&#45;&gt;68</title>\r\n",
       "<path fill=\"none\" stroke=\"#ff0000\" d=\"M9614.6,-262.509C9658.6,-248.069 9724.23,-226.527 9770.76,-211.258\"/>\r\n",
       "<polygon fill=\"#ff0000\" stroke=\"#ff0000\" points=\"9771.97,-214.543 9780.38,-208.099 9769.79,-207.892 9771.97,-214.543\"/>\r\n",
       "<text text-anchor=\"middle\" x=\"9719.89\" y=\"-231.8\" font-family=\"Times New Roman,serif\" font-size=\"14.00\">no</text>\r\n",
       "</g>\r\n",
       "<!-- 107 -->\r\n",
       "<g id=\"node134\" class=\"node\"><title>107</title>\r\n",
       "<ellipse fill=\"none\" stroke=\"black\" cx=\"8481.39\" cy=\"-105\" rx=\"67.6881\" ry=\"18\"/>\r\n",
       "<text text-anchor=\"middle\" x=\"8481.39\" y=\"-101.3\" font-family=\"Times New Roman,serif\" font-size=\"14.00\">cif&lt;909.994995</text>\r\n",
       "</g>\r\n",
       "<!-- 65&#45;&gt;107 -->\r\n",
       "<g id=\"edge133\" class=\"edge\"><title>65&#45;&gt;107</title>\r\n",
       "<path fill=\"none\" stroke=\"#0000ff\" d=\"M8607.68,-174.812C8582.35,-161.007 8545.8,-141.096 8518.54,-126.24\"/>\r\n",
       "<polygon fill=\"#0000ff\" stroke=\"#0000ff\" points=\"8520.13,-123.123 8509.68,-121.412 8516.78,-129.27 8520.13,-123.123\"/>\r\n",
       "<text text-anchor=\"middle\" x=\"8603.89\" y=\"-144.8\" font-family=\"Times New Roman,serif\" font-size=\"14.00\">yes, missing</text>\r\n",
       "</g>\r\n",
       "<!-- 108 -->\r\n",
       "<g id=\"node135\" class=\"node\"><title>108</title>\r\n",
       "<ellipse fill=\"none\" stroke=\"black\" cx=\"8658.39\" cy=\"-105\" rx=\"91.784\" ry=\"18\"/>\r\n",
       "<text text-anchor=\"middle\" x=\"8658.39\" y=\"-101.3\" font-family=\"Times New Roman,serif\" font-size=\"14.00\">TaxRatio&lt;360.240753</text>\r\n",
       "</g>\r\n",
       "<!-- 65&#45;&gt;108 -->\r\n",
       "<g id=\"edge134\" class=\"edge\"><title>65&#45;&gt;108</title>\r\n",
       "<path fill=\"none\" stroke=\"#ff0000\" d=\"M8641.64,-173.799C8644.52,-162.163 8648.38,-146.548 8651.66,-133.237\"/>\r\n",
       "<polygon fill=\"#ff0000\" stroke=\"#ff0000\" points=\"8655.15,-133.723 8654.15,-123.175 8648.35,-132.044 8655.15,-133.723\"/>\r\n",
       "<text text-anchor=\"middle\" x=\"8656.89\" y=\"-144.8\" font-family=\"Times New Roman,serif\" font-size=\"14.00\">no</text>\r\n",
       "</g>\r\n",
       "<!-- 109 -->\r\n",
       "<g id=\"node140\" class=\"node\"><title>109</title>\r\n",
       "<ellipse fill=\"none\" stroke=\"black\" cx=\"8847.39\" cy=\"-105\" rx=\"75.2868\" ry=\"18\"/>\r\n",
       "<text text-anchor=\"middle\" x=\"8847.39\" y=\"-101.3\" font-family=\"Times New Roman,serif\" font-size=\"14.00\">leaf=0.517241418</text>\r\n",
       "</g>\r\n",
       "<!-- 66&#45;&gt;109 -->\r\n",
       "<g id=\"edge139\" class=\"edge\"><title>66&#45;&gt;109</title>\r\n",
       "<path fill=\"none\" stroke=\"#0000ff\" d=\"M8850.58,-173.799C8850.04,-162.163 8849.3,-146.548 8848.68,-133.237\"/>\r\n",
       "<polygon fill=\"#0000ff\" stroke=\"#0000ff\" points=\"8852.17,-133 8848.2,-123.175 8845.18,-133.329 8852.17,-133\"/>\r\n",
       "<text text-anchor=\"middle\" x=\"8884.89\" y=\"-144.8\" font-family=\"Times New Roman,serif\" font-size=\"14.00\">yes, missing</text>\r\n",
       "</g>\r\n",
       "<!-- 110 -->\r\n",
       "<g id=\"node141\" class=\"node\"><title>110</title>\r\n",
       "<ellipse fill=\"none\" stroke=\"black\" cx=\"9057.39\" cy=\"-105\" rx=\"116.18\" ry=\"18\"/>\r\n",
       "<text text-anchor=\"middle\" x=\"9057.39\" y=\"-101.3\" font-family=\"Times New Roman,serif\" font-size=\"14.00\">TaxUnitquantity&lt;1.99501801</text>\r\n",
       "</g>\r\n",
       "<!-- 66&#45;&gt;110 -->\r\n",
       "<g id=\"edge140\" class=\"edge\"><title>66&#45;&gt;110</title>\r\n",
       "<path fill=\"none\" stroke=\"#ff0000\" d=\"M8889.66,-175.211C8923.41,-161.285 8972.76,-140.922 9009.2,-125.887\"/>\r\n",
       "<polygon fill=\"#ff0000\" stroke=\"#ff0000\" points=\"9010.73,-129.042 9018.63,-121.993 9008.06,-122.571 9010.73,-129.042\"/>\r\n",
       "<text text-anchor=\"middle\" x=\"8974.89\" y=\"-144.8\" font-family=\"Times New Roman,serif\" font-size=\"14.00\">no</text>\r\n",
       "</g>\r\n",
       "<!-- 169 -->\r\n",
       "<g id=\"node136\" class=\"node\"><title>169</title>\r\n",
       "<ellipse fill=\"none\" stroke=\"black\" cx=\"8351.39\" cy=\"-18\" rx=\"75.2868\" ry=\"18\"/>\r\n",
       "<text text-anchor=\"middle\" x=\"8351.39\" y=\"-14.3\" font-family=\"Times New Roman,serif\" font-size=\"14.00\">leaf=0.300000012</text>\r\n",
       "</g>\r\n",
       "<!-- 107&#45;&gt;169 -->\r\n",
       "<g id=\"edge135\" class=\"edge\"><title>107&#45;&gt;169</title>\r\n",
       "<path fill=\"none\" stroke=\"#0000ff\" d=\"M8446.17,-89.4768C8433.83,-83.7791 8420.12,-76.7444 8408.39,-69 8396.78,-61.3308 8385.03,-51.4673 8375.25,-42.5303\"/>\r\n",
       "<polygon fill=\"#0000ff\" stroke=\"#0000ff\" points=\"8377.56,-39.8956 8367.86,-35.6213 8372.77,-45.0082 8377.56,-39.8956\"/>\r\n",
       "<text text-anchor=\"middle\" x=\"8442.89\" y=\"-57.8\" font-family=\"Times New Roman,serif\" font-size=\"14.00\">yes, missing</text>\r\n",
       "</g>\r\n",
       "<!-- 170 -->\r\n",
       "<g id=\"node137\" class=\"node\"><title>170</title>\r\n",
       "<ellipse fill=\"none\" stroke=\"black\" cx=\"8481.39\" cy=\"-18\" rx=\"36.2938\" ry=\"18\"/>\r\n",
       "<text text-anchor=\"middle\" x=\"8481.39\" y=\"-14.3\" font-family=\"Times New Roman,serif\" font-size=\"14.00\">leaf=&#45;0</text>\r\n",
       "</g>\r\n",
       "<!-- 107&#45;&gt;170 -->\r\n",
       "<g id=\"edge136\" class=\"edge\"><title>107&#45;&gt;170</title>\r\n",
       "<path fill=\"none\" stroke=\"#ff0000\" d=\"M8481.39,-86.799C8481.39,-75.1626 8481.39,-59.5479 8481.39,-46.2368\"/>\r\n",
       "<polygon fill=\"#ff0000\" stroke=\"#ff0000\" points=\"8484.89,-46.1754 8481.39,-36.1754 8477.89,-46.1755 8484.89,-46.1754\"/>\r\n",
       "<text text-anchor=\"middle\" x=\"8488.89\" y=\"-57.8\" font-family=\"Times New Roman,serif\" font-size=\"14.00\">no</text>\r\n",
       "</g>\r\n",
       "<!-- 171 -->\r\n",
       "<g id=\"node138\" class=\"node\"><title>171</title>\r\n",
       "<ellipse fill=\"none\" stroke=\"black\" cx=\"8611.39\" cy=\"-18\" rx=\"75.2868\" ry=\"18\"/>\r\n",
       "<text text-anchor=\"middle\" x=\"8611.39\" y=\"-14.3\" font-family=\"Times New Roman,serif\" font-size=\"14.00\">leaf=0.540088117</text>\r\n",
       "</g>\r\n",
       "<!-- 108&#45;&gt;171 -->\r\n",
       "<g id=\"edge137\" class=\"edge\"><title>108&#45;&gt;171</title>\r\n",
       "<path fill=\"none\" stroke=\"#0000ff\" d=\"M8648.88,-86.799C8642.21,-74.7381 8633.18,-58.4034 8625.65,-44.7896\"/>\r\n",
       "<polygon fill=\"#0000ff\" stroke=\"#0000ff\" points=\"8628.63,-42.943 8620.73,-35.8854 8622.51,-46.3303 8628.63,-42.943\"/>\r\n",
       "<text text-anchor=\"middle\" x=\"8672.89\" y=\"-57.8\" font-family=\"Times New Roman,serif\" font-size=\"14.00\">yes, missing</text>\r\n",
       "</g>\r\n",
       "<!-- 172 -->\r\n",
       "<g id=\"node139\" class=\"node\"><title>172</title>\r\n",
       "<ellipse fill=\"none\" stroke=\"black\" cx=\"8780.39\" cy=\"-18\" rx=\"75.2868\" ry=\"18\"/>\r\n",
       "<text text-anchor=\"middle\" x=\"8780.39\" y=\"-14.3\" font-family=\"Times New Roman,serif\" font-size=\"14.00\">leaf=0.150000006</text>\r\n",
       "</g>\r\n",
       "<!-- 108&#45;&gt;172 -->\r\n",
       "<g id=\"edge138\" class=\"edge\"><title>108&#45;&gt;172</title>\r\n",
       "<path fill=\"none\" stroke=\"#ff0000\" d=\"M8683.62,-87.6638C8692.46,-81.8537 8702.42,-75.212 8711.39,-69 8724.22,-60.1259 8738.18,-50.0821 8750.17,-41.3367\"/>\r\n",
       "<polygon fill=\"#ff0000\" stroke=\"#ff0000\" points=\"8752.5,-43.9647 8758.5,-35.2334 8748.37,-38.3166 8752.5,-43.9647\"/>\r\n",
       "<text text-anchor=\"middle\" x=\"8740.89\" y=\"-57.8\" font-family=\"Times New Roman,serif\" font-size=\"14.00\">no</text>\r\n",
       "</g>\r\n",
       "<!-- 173 -->\r\n",
       "<g id=\"node142\" class=\"node\"><title>173</title>\r\n",
       "<ellipse fill=\"none\" stroke=\"black\" cx=\"8951.39\" cy=\"-18\" rx=\"77.9862\" ry=\"18\"/>\r\n",
       "<text text-anchor=\"middle\" x=\"8951.39\" y=\"-14.3\" font-family=\"Times New Roman,serif\" font-size=\"14.00\">leaf=&#45;0.120000005</text>\r\n",
       "</g>\r\n",
       "<!-- 110&#45;&gt;173 -->\r\n",
       "<g id=\"edge141\" class=\"edge\"><title>110&#45;&gt;173</title>\r\n",
       "<path fill=\"none\" stroke=\"#0000ff\" d=\"M9036.33,-87.2939C9029.06,-81.5105 9020.86,-74.9799 9013.39,-69 9002.41,-60.2009 8990.36,-50.4942 8979.82,-41.9929\"/>\r\n",
       "<polygon fill=\"#0000ff\" stroke=\"#0000ff\" points=\"8981.73,-39.0337 8971.75,-35.4737 8977.33,-44.4796 8981.73,-39.0337\"/>\r\n",
       "<text text-anchor=\"middle\" x=\"9047.89\" y=\"-57.8\" font-family=\"Times New Roman,serif\" font-size=\"14.00\">yes, missing</text>\r\n",
       "</g>\r\n",
       "<!-- 174 -->\r\n",
       "<g id=\"node143\" class=\"node\"><title>174</title>\r\n",
       "<ellipse fill=\"none\" stroke=\"black\" cx=\"9122.39\" cy=\"-18\" rx=\"75.2868\" ry=\"18\"/>\r\n",
       "<text text-anchor=\"middle\" x=\"9122.39\" y=\"-14.3\" font-family=\"Times New Roman,serif\" font-size=\"14.00\">leaf=0.300000012</text>\r\n",
       "</g>\r\n",
       "<!-- 110&#45;&gt;174 -->\r\n",
       "<g id=\"edge142\" class=\"edge\"><title>110&#45;&gt;174</title>\r\n",
       "<path fill=\"none\" stroke=\"#ff0000\" d=\"M9070.55,-86.799C9079.95,-74.5062 9092.74,-57.7736 9103.27,-44.0073\"/>\r\n",
       "<polygon fill=\"#ff0000\" stroke=\"#ff0000\" points=\"9106.19,-45.955 9109.48,-35.8854 9100.63,-41.7029 9106.19,-45.955\"/>\r\n",
       "<text text-anchor=\"middle\" x=\"9101.89\" y=\"-57.8\" font-family=\"Times New Roman,serif\" font-size=\"14.00\">no</text>\r\n",
       "</g>\r\n",
       "<!-- 111 -->\r\n",
       "<g id=\"node146\" class=\"node\"><title>111</title>\r\n",
       "<ellipse fill=\"none\" stroke=\"black\" cx=\"9396.39\" cy=\"-105\" rx=\"82.5854\" ry=\"18\"/>\r\n",
       "<text text-anchor=\"middle\" x=\"9396.39\" y=\"-101.3\" font-family=\"Times New Roman,serif\" font-size=\"14.00\">peso_bruto&lt;1742.5</text>\r\n",
       "</g>\r\n",
       "<!-- 67&#45;&gt;111 -->\r\n",
       "<g id=\"edge145\" class=\"edge\"><title>67&#45;&gt;111</title>\r\n",
       "<path fill=\"none\" stroke=\"#0000ff\" d=\"M9535.23,-175.012C9507.44,-161.197 9467.12,-141.158 9437.09,-126.229\"/>\r\n",
       "<polygon fill=\"#0000ff\" stroke=\"#0000ff\" points=\"9438.64,-123.089 9428.12,-121.772 9435.52,-129.358 9438.64,-123.089\"/>\r\n",
       "<text text-anchor=\"middle\" x=\"9526.89\" y=\"-144.8\" font-family=\"Times New Roman,serif\" font-size=\"14.00\">yes, missing</text>\r\n",
       "</g>\r\n",
       "<!-- 112 -->\r\n",
       "<g id=\"node147\" class=\"node\"><title>112</title>\r\n",
       "<ellipse fill=\"none\" stroke=\"black\" cx=\"9593.39\" cy=\"-105\" rx=\"96.3833\" ry=\"18\"/>\r\n",
       "<text text-anchor=\"middle\" x=\"9593.39\" y=\"-101.3\" font-family=\"Times New Roman,serif\" font-size=\"14.00\">TaxRatio&lt;0.439623326</text>\r\n",
       "</g>\r\n",
       "<!-- 67&#45;&gt;112 -->\r\n",
       "<g id=\"edge146\" class=\"edge\"><title>67&#45;&gt;112</title>\r\n",
       "<path fill=\"none\" stroke=\"#ff0000\" d=\"M9572.65,-173.799C9576.25,-162.047 9581.09,-146.238 9585.18,-132.842\"/>\r\n",
       "<polygon fill=\"#ff0000\" stroke=\"#ff0000\" points=\"9588.56,-133.762 9588.14,-123.175 9581.87,-131.714 9588.56,-133.762\"/>\r\n",
       "<text text-anchor=\"middle\" x=\"9589.89\" y=\"-144.8\" font-family=\"Times New Roman,serif\" font-size=\"14.00\">no</text>\r\n",
       "</g>\r\n",
       "<!-- 113 -->\r\n",
       "<g id=\"node152\" class=\"node\"><title>113</title>\r\n",
       "<ellipse fill=\"none\" stroke=\"black\" cx=\"9826.39\" cy=\"-105\" rx=\"96.3833\" ry=\"18\"/>\r\n",
       "<text text-anchor=\"middle\" x=\"9826.39\" y=\"-101.3\" font-family=\"Times New Roman,serif\" font-size=\"14.00\">TaxRatio&lt;0.479964733</text>\r\n",
       "</g>\r\n",
       "<!-- 68&#45;&gt;113 -->\r\n",
       "<g id=\"edge151\" class=\"edge\"><title>68&#45;&gt;113</title>\r\n",
       "<path fill=\"none\" stroke=\"#0000ff\" d=\"M9826.39,-173.799C9826.39,-162.163 9826.39,-146.548 9826.39,-133.237\"/>\r\n",
       "<polygon fill=\"#0000ff\" stroke=\"#0000ff\" points=\"9829.89,-133.175 9826.39,-123.175 9822.89,-133.175 9829.89,-133.175\"/>\r\n",
       "<text text-anchor=\"middle\" x=\"9860.89\" y=\"-144.8\" font-family=\"Times New Roman,serif\" font-size=\"14.00\">yes, missing</text>\r\n",
       "</g>\r\n",
       "<!-- 114 -->\r\n",
       "<g id=\"node153\" class=\"node\"><title>114</title>\r\n",
       "<ellipse fill=\"none\" stroke=\"black\" cx=\"10018.4\" cy=\"-105\" rx=\"77.9862\" ry=\"18\"/>\r\n",
       "<text text-anchor=\"middle\" x=\"10018.4\" y=\"-101.3\" font-family=\"Times New Roman,serif\" font-size=\"14.00\">leaf=&#45;0.163636371</text>\r\n",
       "</g>\r\n",
       "<!-- 68&#45;&gt;114 -->\r\n",
       "<g id=\"edge152\" class=\"edge\"><title>68&#45;&gt;114</title>\r\n",
       "<path fill=\"none\" stroke=\"#ff0000\" d=\"M9862.51,-175.012C9894.38,-160.902 9940.92,-140.299 9974.84,-125.28\"/>\r\n",
       "<polygon fill=\"#ff0000\" stroke=\"#ff0000\" points=\"9976.33,-128.45 9984.06,-121.202 9973.49,-122.049 9976.33,-128.45\"/>\r\n",
       "<text text-anchor=\"middle\" x=\"9940.89\" y=\"-144.8\" font-family=\"Times New Roman,serif\" font-size=\"14.00\">no</text>\r\n",
       "</g>\r\n",
       "<!-- 175 -->\r\n",
       "<g id=\"node148\" class=\"node\"><title>175</title>\r\n",
       "<ellipse fill=\"none\" stroke=\"black\" cx=\"9286.39\" cy=\"-18\" rx=\"70.6878\" ry=\"18\"/>\r\n",
       "<text text-anchor=\"middle\" x=\"9286.39\" y=\"-14.3\" font-family=\"Times New Roman,serif\" font-size=\"14.00\">leaf=0.53513515</text>\r\n",
       "</g>\r\n",
       "<!-- 111&#45;&gt;175 -->\r\n",
       "<g id=\"edge147\" class=\"edge\"><title>111&#45;&gt;175</title>\r\n",
       "<path fill=\"none\" stroke=\"#0000ff\" d=\"M9372.73,-87.5777C9364.62,-81.817 9355.53,-75.2282 9347.39,-69 9336.24,-60.461 9324.23,-50.7372 9313.84,-42.1491\"/>\r\n",
       "<polygon fill=\"#0000ff\" stroke=\"#0000ff\" points=\"9315.83,-39.2521 9305.91,-35.5495 9311.36,-44.6344 9315.83,-39.2521\"/>\r\n",
       "<text text-anchor=\"middle\" x=\"9381.89\" y=\"-57.8\" font-family=\"Times New Roman,serif\" font-size=\"14.00\">yes, missing</text>\r\n",
       "</g>\r\n",
       "<!-- 176 -->\r\n",
       "<g id=\"node149\" class=\"node\"><title>176</title>\r\n",
       "<ellipse fill=\"none\" stroke=\"black\" cx=\"9450.39\" cy=\"-18\" rx=\"75.2868\" ry=\"18\"/>\r\n",
       "<text text-anchor=\"middle\" x=\"9450.39\" y=\"-14.3\" font-family=\"Times New Roman,serif\" font-size=\"14.00\">leaf=0.150000006</text>\r\n",
       "</g>\r\n",
       "<!-- 111&#45;&gt;176 -->\r\n",
       "<g id=\"edge148\" class=\"edge\"><title>111&#45;&gt;176</title>\r\n",
       "<path fill=\"none\" stroke=\"#ff0000\" d=\"M9407.32,-86.799C9415.06,-74.6221 9425.56,-58.0889 9434.26,-44.3977\"/>\r\n",
       "<polygon fill=\"#ff0000\" stroke=\"#ff0000\" points=\"9437.26,-46.2029 9439.67,-35.8854 9431.35,-42.4492 9437.26,-46.2029\"/>\r\n",
       "<text text-anchor=\"middle\" x=\"9434.89\" y=\"-57.8\" font-family=\"Times New Roman,serif\" font-size=\"14.00\">no</text>\r\n",
       "</g>\r\n",
       "<!-- 177 -->\r\n",
       "<g id=\"node150\" class=\"node\"><title>177</title>\r\n",
       "<ellipse fill=\"none\" stroke=\"black\" cx=\"9580.39\" cy=\"-18\" rx=\"36.2938\" ry=\"18\"/>\r\n",
       "<text text-anchor=\"middle\" x=\"9580.39\" y=\"-14.3\" font-family=\"Times New Roman,serif\" font-size=\"14.00\">leaf=&#45;0</text>\r\n",
       "</g>\r\n",
       "<!-- 112&#45;&gt;177 -->\r\n",
       "<g id=\"edge149\" class=\"edge\"><title>112&#45;&gt;177</title>\r\n",
       "<path fill=\"none\" stroke=\"#0000ff\" d=\"M9590.76,-86.799C9588.98,-75.1626 9586.59,-59.5479 9584.56,-46.2368\"/>\r\n",
       "<polygon fill=\"#0000ff\" stroke=\"#0000ff\" points=\"9587.99,-45.5313 9583.02,-36.1754 9581.07,-46.5897 9587.99,-45.5313\"/>\r\n",
       "<text text-anchor=\"middle\" x=\"9622.89\" y=\"-57.8\" font-family=\"Times New Roman,serif\" font-size=\"14.00\">yes, missing</text>\r\n",
       "</g>\r\n",
       "<!-- 178 -->\r\n",
       "<g id=\"node151\" class=\"node\"><title>178</title>\r\n",
       "<ellipse fill=\"none\" stroke=\"black\" cx=\"9710.39\" cy=\"-18\" rx=\"75.2868\" ry=\"18\"/>\r\n",
       "<text text-anchor=\"middle\" x=\"9710.39\" y=\"-14.3\" font-family=\"Times New Roman,serif\" font-size=\"14.00\">leaf=0.347368419</text>\r\n",
       "</g>\r\n",
       "<!-- 112&#45;&gt;178 -->\r\n",
       "<g id=\"edge150\" class=\"edge\"><title>112&#45;&gt;178</title>\r\n",
       "<path fill=\"none\" stroke=\"#ff0000\" d=\"M9629.25,-88.2381C9640.01,-82.8093 9651.56,-76.25 9661.39,-69 9671.28,-61.7097 9681,-52.3831 9689.14,-43.7641\"/>\r\n",
       "<polygon fill=\"#ff0000\" stroke=\"#ff0000\" points=\"9691.96,-45.8655 9696.13,-36.1264 9686.8,-41.1386 9691.96,-45.8655\"/>\r\n",
       "<text text-anchor=\"middle\" x=\"9686.89\" y=\"-57.8\" font-family=\"Times New Roman,serif\" font-size=\"14.00\">no</text>\r\n",
       "</g>\r\n",
       "<!-- 179 -->\r\n",
       "<g id=\"node154\" class=\"node\"><title>179</title>\r\n",
       "<ellipse fill=\"none\" stroke=\"black\" cx=\"9840.39\" cy=\"-18\" rx=\"36.2938\" ry=\"18\"/>\r\n",
       "<text text-anchor=\"middle\" x=\"9840.39\" y=\"-14.3\" font-family=\"Times New Roman,serif\" font-size=\"14.00\">leaf=&#45;0</text>\r\n",
       "</g>\r\n",
       "<!-- 113&#45;&gt;179 -->\r\n",
       "<g id=\"edge153\" class=\"edge\"><title>113&#45;&gt;179</title>\r\n",
       "<path fill=\"none\" stroke=\"#0000ff\" d=\"M9829.23,-86.799C9831.14,-75.1626 9833.71,-59.5479 9835.91,-46.2368\"/>\r\n",
       "<polygon fill=\"#0000ff\" stroke=\"#0000ff\" points=\"9839.39,-46.6113 9837.56,-36.1754 9832.49,-45.4737 9839.39,-46.6113\"/>\r\n",
       "<text text-anchor=\"middle\" x=\"9867.89\" y=\"-57.8\" font-family=\"Times New Roman,serif\" font-size=\"14.00\">yes, missing</text>\r\n",
       "</g>\r\n",
       "<!-- 180 -->\r\n",
       "<g id=\"node155\" class=\"node\"><title>180</title>\r\n",
       "<ellipse fill=\"none\" stroke=\"black\" cx=\"9965.39\" cy=\"-18\" rx=\"70.6878\" ry=\"18\"/>\r\n",
       "<text text-anchor=\"middle\" x=\"9965.39\" y=\"-14.3\" font-family=\"Times New Roman,serif\" font-size=\"14.00\">leaf=0.41538465</text>\r\n",
       "</g>\r\n",
       "<!-- 113&#45;&gt;180 -->\r\n",
       "<g id=\"edge154\" class=\"edge\"><title>113&#45;&gt;180</title>\r\n",
       "<path fill=\"none\" stroke=\"#ff0000\" d=\"M9867.84,-88.5763C9880.6,-83.1211 9894.43,-76.4617 9906.39,-69 9918.53,-61.4305 9930.78,-51.5032 9940.95,-42.4909\"/>\r\n",
       "<polygon fill=\"#ff0000\" stroke=\"#ff0000\" points=\"9943.57,-44.8378 9948.62,-35.5219 9938.86,-39.6575 9943.57,-44.8378\"/>\r\n",
       "<text text-anchor=\"middle\" x=\"9933.89\" y=\"-57.8\" font-family=\"Times New Roman,serif\" font-size=\"14.00\">no</text>\r\n",
       "</g>\r\n",
       "<!-- 23 -->\r\n",
       "<g id=\"node158\" class=\"node\"><title>23</title>\r\n",
       "<ellipse fill=\"none\" stroke=\"black\" cx=\"10258.4\" cy=\"-366\" rx=\"67.6881\" ry=\"18\"/>\r\n",
       "<text text-anchor=\"middle\" x=\"10258.4\" y=\"-362.3\" font-family=\"Times New Roman,serif\" font-size=\"14.00\">cif&lt;1277.94995</text>\r\n",
       "</g>\r\n",
       "<!-- 13&#45;&gt;23 -->\r\n",
       "<g id=\"edge157\" class=\"edge\"><title>13&#45;&gt;23</title>\r\n",
       "<path fill=\"none\" stroke=\"#0000ff\" d=\"M10324.2,-435.207C10312.1,-422.633 10295.3,-405.252 10281.7,-391.182\"/>\r\n",
       "<polygon fill=\"#0000ff\" stroke=\"#0000ff\" points=\"10284,-388.525 10274.6,-383.758 10279,-393.385 10284,-388.525\"/>\r\n",
       "<text text-anchor=\"middle\" x=\"10337.9\" y=\"-405.8\" font-family=\"Times New Roman,serif\" font-size=\"14.00\">yes, missing</text>\r\n",
       "</g>\r\n",
       "<!-- 24 -->\r\n",
       "<g id=\"node159\" class=\"node\"><title>24</title>\r\n",
       "<ellipse fill=\"none\" stroke=\"black\" cx=\"10448.4\" cy=\"-366\" rx=\"96.3833\" ry=\"18\"/>\r\n",
       "<text text-anchor=\"middle\" x=\"10448.4\" y=\"-362.3\" font-family=\"Times New Roman,serif\" font-size=\"14.00\">TaxRatio&lt;0.478938818</text>\r\n",
       "</g>\r\n",
       "<!-- 13&#45;&gt;24 -->\r\n",
       "<g id=\"edge158\" class=\"edge\"><title>13&#45;&gt;24</title>\r\n",
       "<path fill=\"none\" stroke=\"#ff0000\" d=\"M10361.5,-435.409C10377.9,-422.505 10400.8,-404.448 10419,-390.125\"/>\r\n",
       "<polygon fill=\"#ff0000\" stroke=\"#ff0000\" points=\"10421.3,-392.774 10427,-383.839 10417,-387.274 10421.3,-392.774\"/>\r\n",
       "<text text-anchor=\"middle\" x=\"10407.9\" y=\"-405.8\" font-family=\"Times New Roman,serif\" font-size=\"14.00\">no</text>\r\n",
       "</g>\r\n",
       "<!-- 25 -->\r\n",
       "<g id=\"node176\" class=\"node\"><title>25</title>\r\n",
       "<ellipse fill=\"none\" stroke=\"black\" cx=\"10947.4\" cy=\"-366\" rx=\"75.2868\" ry=\"18\"/>\r\n",
       "<text text-anchor=\"middle\" x=\"10947.4\" y=\"-362.3\" font-family=\"Times New Roman,serif\" font-size=\"14.00\">peso_bruto&lt;1856</text>\r\n",
       "</g>\r\n",
       "<!-- 14&#45;&gt;25 -->\r\n",
       "<g id=\"edge175\" class=\"edge\"><title>14&#45;&gt;25</title>\r\n",
       "<path fill=\"none\" stroke=\"#0000ff\" d=\"M10947.4,-434.799C10947.4,-423.163 10947.4,-407.548 10947.4,-394.237\"/>\r\n",
       "<polygon fill=\"#0000ff\" stroke=\"#0000ff\" points=\"10950.9,-394.175 10947.4,-384.175 10943.9,-394.175 10950.9,-394.175\"/>\r\n",
       "<text text-anchor=\"middle\" x=\"10981.9\" y=\"-405.8\" font-family=\"Times New Roman,serif\" font-size=\"14.00\">yes, missing</text>\r\n",
       "</g>\r\n",
       "<!-- 26 -->\r\n",
       "<g id=\"node177\" class=\"node\"><title>26</title>\r\n",
       "<ellipse fill=\"none\" stroke=\"black\" cx=\"11212.4\" cy=\"-366\" rx=\"90.9839\" ry=\"18\"/>\r\n",
       "<text text-anchor=\"middle\" x=\"11212.4\" y=\"-362.3\" font-family=\"Times New Roman,serif\" font-size=\"14.00\">Unitprice&lt;28.3104439</text>\r\n",
       "</g>\r\n",
       "<!-- 14&#45;&gt;26 -->\r\n",
       "<g id=\"edge176\" class=\"edge\"><title>14&#45;&gt;26</title>\r\n",
       "<path fill=\"none\" stroke=\"#ff0000\" d=\"M10994.8,-436.804C11040.3,-422.195 11109.1,-400.123 11157.1,-384.722\"/>\r\n",
       "<polygon fill=\"#ff0000\" stroke=\"#ff0000\" points=\"11158.3,-388.026 11166.8,-381.638 11156.2,-381.36 11158.3,-388.026\"/>\r\n",
       "<text text-anchor=\"middle\" x=\"11102.9\" y=\"-405.8\" font-family=\"Times New Roman,serif\" font-size=\"14.00\">no</text>\r\n",
       "</g>\r\n",
       "<!-- 39 -->\r\n",
       "<g id=\"node160\" class=\"node\"><title>39</title>\r\n",
       "<ellipse fill=\"none\" stroke=\"black\" cx=\"10085.4\" cy=\"-279\" rx=\"79.0865\" ry=\"18\"/>\r\n",
       "<text text-anchor=\"middle\" x=\"10085.4\" y=\"-275.3\" font-family=\"Times New Roman,serif\" font-size=\"14.00\">leaf=0.0666666701</text>\r\n",
       "</g>\r\n",
       "<!-- 23&#45;&gt;39 -->\r\n",
       "<g id=\"edge159\" class=\"edge\"><title>23&#45;&gt;39</title>\r\n",
       "<path fill=\"none\" stroke=\"#0000ff\" d=\"M10226.7,-349.954C10213.9,-343.813 10198.9,-336.614 10185.4,-330 10165.6,-320.332 10143.8,-309.432 10125.6,-300.282\"/>\r\n",
       "<polygon fill=\"#0000ff\" stroke=\"#0000ff\" points=\"10126.9,-297.037 10116.4,-295.673 10123.8,-303.291 10126.9,-297.037\"/>\r\n",
       "<text text-anchor=\"middle\" x=\"10219.9\" y=\"-318.8\" font-family=\"Times New Roman,serif\" font-size=\"14.00\">yes, missing</text>\r\n",
       "</g>\r\n",
       "<!-- 40 -->\r\n",
       "<g id=\"node161\" class=\"node\"><title>40</title>\r\n",
       "<ellipse fill=\"none\" stroke=\"black\" cx=\"10258.4\" cy=\"-279\" rx=\"75.2868\" ry=\"18\"/>\r\n",
       "<text text-anchor=\"middle\" x=\"10258.4\" y=\"-275.3\" font-family=\"Times New Roman,serif\" font-size=\"14.00\">leaf=0.545454562</text>\r\n",
       "</g>\r\n",
       "<!-- 23&#45;&gt;40 -->\r\n",
       "<g id=\"edge160\" class=\"edge\"><title>23&#45;&gt;40</title>\r\n",
       "<path fill=\"none\" stroke=\"#ff0000\" d=\"M10258.4,-347.799C10258.4,-336.163 10258.4,-320.548 10258.4,-307.237\"/>\r\n",
       "<polygon fill=\"#ff0000\" stroke=\"#ff0000\" points=\"10261.9,-307.175 10258.4,-297.175 10254.9,-307.175 10261.9,-307.175\"/>\r\n",
       "<text text-anchor=\"middle\" x=\"10265.9\" y=\"-318.8\" font-family=\"Times New Roman,serif\" font-size=\"14.00\">no</text>\r\n",
       "</g>\r\n",
       "<!-- 41 -->\r\n",
       "<g id=\"node162\" class=\"node\"><title>41</title>\r\n",
       "<ellipse fill=\"none\" stroke=\"black\" cx=\"10448.4\" cy=\"-279\" rx=\"96.3833\" ry=\"18\"/>\r\n",
       "<text text-anchor=\"middle\" x=\"10448.4\" y=\"-275.3\" font-family=\"Times New Roman,serif\" font-size=\"14.00\">TaxRatio&lt;0.468997538</text>\r\n",
       "</g>\r\n",
       "<!-- 24&#45;&gt;41 -->\r\n",
       "<g id=\"edge161\" class=\"edge\"><title>24&#45;&gt;41</title>\r\n",
       "<path fill=\"none\" stroke=\"#0000ff\" d=\"M10448.4,-347.799C10448.4,-336.163 10448.4,-320.548 10448.4,-307.237\"/>\r\n",
       "<polygon fill=\"#0000ff\" stroke=\"#0000ff\" points=\"10451.9,-307.175 10448.4,-297.175 10444.9,-307.175 10451.9,-307.175\"/>\r\n",
       "<text text-anchor=\"middle\" x=\"10482.9\" y=\"-318.8\" font-family=\"Times New Roman,serif\" font-size=\"14.00\">yes, missing</text>\r\n",
       "</g>\r\n",
       "<!-- 42 -->\r\n",
       "<g id=\"node163\" class=\"node\"><title>42</title>\r\n",
       "<ellipse fill=\"none\" stroke=\"black\" cx=\"10698.4\" cy=\"-279\" rx=\"75.2868\" ry=\"18\"/>\r\n",
       "<text text-anchor=\"middle\" x=\"10698.4\" y=\"-275.3\" font-family=\"Times New Roman,serif\" font-size=\"14.00\">peso_bruto&lt;1963</text>\r\n",
       "</g>\r\n",
       "<!-- 24&#45;&gt;42 -->\r\n",
       "<g id=\"edge162\" class=\"edge\"><title>24&#45;&gt;42</title>\r\n",
       "<path fill=\"none\" stroke=\"#ff0000\" d=\"M10492.5,-349.999C10535.7,-335.302 10601.6,-312.917 10647.1,-297.435\"/>\r\n",
       "<polygon fill=\"#ff0000\" stroke=\"#ff0000\" points=\"10648.5,-300.677 10656.8,-294.145 10646.2,-294.05 10648.5,-300.677\"/>\r\n",
       "<text text-anchor=\"middle\" x=\"10594.9\" y=\"-318.8\" font-family=\"Times New Roman,serif\" font-size=\"14.00\">no</text>\r\n",
       "</g>\r\n",
       "<!-- 69 -->\r\n",
       "<g id=\"node164\" class=\"node\"><title>69</title>\r\n",
       "<ellipse fill=\"none\" stroke=\"black\" cx=\"10256.4\" cy=\"-192\" rx=\"67.6881\" ry=\"18\"/>\r\n",
       "<text text-anchor=\"middle\" x=\"10256.4\" y=\"-188.3\" font-family=\"Times New Roman,serif\" font-size=\"14.00\">cif&lt;1703.07996</text>\r\n",
       "</g>\r\n",
       "<!-- 41&#45;&gt;69 -->\r\n",
       "<g id=\"edge163\" class=\"edge\"><title>41&#45;&gt;69</title>\r\n",
       "<path fill=\"none\" stroke=\"#0000ff\" d=\"M10412.7,-262.211C10380.5,-247.949 10333.1,-226.937 10298.9,-211.809\"/>\r\n",
       "<polygon fill=\"#0000ff\" stroke=\"#0000ff\" points=\"10300.2,-208.557 10289.6,-207.709 10297.3,-214.958 10300.2,-208.557\"/>\r\n",
       "<text text-anchor=\"middle\" x=\"10397.9\" y=\"-231.8\" font-family=\"Times New Roman,serif\" font-size=\"14.00\">yes, missing</text>\r\n",
       "</g>\r\n",
       "<!-- 70 -->\r\n",
       "<g id=\"node165\" class=\"node\"><title>70</title>\r\n",
       "<ellipse fill=\"none\" stroke=\"black\" cx=\"10448.4\" cy=\"-192\" rx=\"90.9839\" ry=\"18\"/>\r\n",
       "<text text-anchor=\"middle\" x=\"10448.4\" y=\"-188.3\" font-family=\"Times New Roman,serif\" font-size=\"14.00\">Unitprice&lt;122.183365</text>\r\n",
       "</g>\r\n",
       "<!-- 41&#45;&gt;70 -->\r\n",
       "<g id=\"edge164\" class=\"edge\"><title>41&#45;&gt;70</title>\r\n",
       "<path fill=\"none\" stroke=\"#ff0000\" d=\"M10448.4,-260.799C10448.4,-249.163 10448.4,-233.548 10448.4,-220.237\"/>\r\n",
       "<polygon fill=\"#ff0000\" stroke=\"#ff0000\" points=\"10451.9,-220.175 10448.4,-210.175 10444.9,-220.175 10451.9,-220.175\"/>\r\n",
       "<text text-anchor=\"middle\" x=\"10455.9\" y=\"-231.8\" font-family=\"Times New Roman,serif\" font-size=\"14.00\">no</text>\r\n",
       "</g>\r\n",
       "<!-- 71 -->\r\n",
       "<g id=\"node172\" class=\"node\"><title>71</title>\r\n",
       "<ellipse fill=\"none\" stroke=\"black\" cx=\"10714.4\" cy=\"-192\" rx=\"67.6881\" ry=\"18\"/>\r\n",
       "<text text-anchor=\"middle\" x=\"10714.4\" y=\"-188.3\" font-family=\"Times New Roman,serif\" font-size=\"14.00\">cif&lt;2170.23999</text>\r\n",
       "</g>\r\n",
       "<!-- 42&#45;&gt;71 -->\r\n",
       "<g id=\"edge171\" class=\"edge\"><title>42&#45;&gt;71</title>\r\n",
       "<path fill=\"none\" stroke=\"#0000ff\" d=\"M10701.6,-260.799C10703.8,-249.163 10706.8,-233.548 10709.3,-220.237\"/>\r\n",
       "<polygon fill=\"#0000ff\" stroke=\"#0000ff\" points=\"10712.7,-220.65 10711.2,-210.175 10705.9,-219.355 10712.7,-220.65\"/>\r\n",
       "<text text-anchor=\"middle\" x=\"10740.9\" y=\"-231.8\" font-family=\"Times New Roman,serif\" font-size=\"14.00\">yes, missing</text>\r\n",
       "</g>\r\n",
       "<!-- 72 -->\r\n",
       "<g id=\"node173\" class=\"node\"><title>72</title>\r\n",
       "<ellipse fill=\"none\" stroke=\"black\" cx=\"10878.4\" cy=\"-192\" rx=\"77.9862\" ry=\"18\"/>\r\n",
       "<text text-anchor=\"middle\" x=\"10878.4\" y=\"-188.3\" font-family=\"Times New Roman,serif\" font-size=\"14.00\">leaf=&#45;0.494117677</text>\r\n",
       "</g>\r\n",
       "<!-- 42&#45;&gt;72 -->\r\n",
       "<g id=\"edge172\" class=\"edge\"><title>42&#45;&gt;72</title>\r\n",
       "<path fill=\"none\" stroke=\"#ff0000\" d=\"M10734.1,-263.123C10748.3,-257.068 10764.7,-249.884 10779.4,-243 10799.3,-233.686 10821.1,-222.741 10839.2,-213.469\"/>\r\n",
       "<polygon fill=\"#ff0000\" stroke=\"#ff0000\" points=\"10841,-216.481 10848.3,-208.791 10837.8,-210.257 10841,-216.481\"/>\r\n",
       "<text text-anchor=\"middle\" x=\"10816.9\" y=\"-231.8\" font-family=\"Times New Roman,serif\" font-size=\"14.00\">no</text>\r\n",
       "</g>\r\n",
       "<!-- 115 -->\r\n",
       "<g id=\"node166\" class=\"node\"><title>115</title>\r\n",
       "<ellipse fill=\"none\" stroke=\"black\" cx=\"10150.4\" cy=\"-105\" rx=\"36.2938\" ry=\"18\"/>\r\n",
       "<text text-anchor=\"middle\" x=\"10150.4\" y=\"-101.3\" font-family=\"Times New Roman,serif\" font-size=\"14.00\">leaf=&#45;0</text>\r\n",
       "</g>\r\n",
       "<!-- 69&#45;&gt;115 -->\r\n",
       "<g id=\"edge165\" class=\"edge\"><title>69&#45;&gt;115</title>\r\n",
       "<path fill=\"none\" stroke=\"#0000ff\" d=\"M10217.7,-177.124C10205.8,-171.71 10193.3,-164.684 10183.4,-156 10175.7,-149.272 10169,-140.329 10163.7,-131.867\"/>\r\n",
       "<polygon fill=\"#0000ff\" stroke=\"#0000ff\" points=\"10166.6,-129.879 10158.6,-123.002 10160.6,-133.404 10166.6,-129.879\"/>\r\n",
       "<text text-anchor=\"middle\" x=\"10217.9\" y=\"-144.8\" font-family=\"Times New Roman,serif\" font-size=\"14.00\">yes, missing</text>\r\n",
       "</g>\r\n",
       "<!-- 116 -->\r\n",
       "<g id=\"node167\" class=\"node\"><title>116</title>\r\n",
       "<ellipse fill=\"none\" stroke=\"black\" cx=\"10256.4\" cy=\"-105\" rx=\"51.9908\" ry=\"18\"/>\r\n",
       "<text text-anchor=\"middle\" x=\"10256.4\" y=\"-101.3\" font-family=\"Times New Roman,serif\" font-size=\"14.00\">leaf=&#45;0.375</text>\r\n",
       "</g>\r\n",
       "<!-- 69&#45;&gt;116 -->\r\n",
       "<g id=\"edge166\" class=\"edge\"><title>69&#45;&gt;116</title>\r\n",
       "<path fill=\"none\" stroke=\"#ff0000\" d=\"M10256.4,-173.799C10256.4,-162.163 10256.4,-146.548 10256.4,-133.237\"/>\r\n",
       "<polygon fill=\"#ff0000\" stroke=\"#ff0000\" points=\"10259.9,-133.175 10256.4,-123.175 10252.9,-133.175 10259.9,-133.175\"/>\r\n",
       "<text text-anchor=\"middle\" x=\"10263.9\" y=\"-144.8\" font-family=\"Times New Roman,serif\" font-size=\"14.00\">no</text>\r\n",
       "</g>\r\n",
       "<!-- 117 -->\r\n",
       "<g id=\"node168\" class=\"node\"><title>117</title>\r\n",
       "<ellipse fill=\"none\" stroke=\"black\" cx=\"10404.4\" cy=\"-105\" rx=\"77.9862\" ry=\"18\"/>\r\n",
       "<text text-anchor=\"middle\" x=\"10404.4\" y=\"-101.3\" font-family=\"Times New Roman,serif\" font-size=\"14.00\">leaf=&#45;0.300000012</text>\r\n",
       "</g>\r\n",
       "<!-- 70&#45;&gt;117 -->\r\n",
       "<g id=\"edge167\" class=\"edge\"><title>70&#45;&gt;117</title>\r\n",
       "<path fill=\"none\" stroke=\"#0000ff\" d=\"M10439.5,-173.799C10433.3,-161.817 10424.9,-145.617 10417.9,-132.057\"/>\r\n",
       "<polygon fill=\"#0000ff\" stroke=\"#0000ff\" points=\"10421,-130.447 10413.3,-123.175 10414.8,-133.665 10421,-130.447\"/>\r\n",
       "<text text-anchor=\"middle\" x=\"10462.9\" y=\"-144.8\" font-family=\"Times New Roman,serif\" font-size=\"14.00\">yes, missing</text>\r\n",
       "</g>\r\n",
       "<!-- 118 -->\r\n",
       "<g id=\"node169\" class=\"node\"><title>118</title>\r\n",
       "<ellipse fill=\"none\" stroke=\"black\" cx=\"10575.4\" cy=\"-105\" rx=\"75.2868\" ry=\"18\"/>\r\n",
       "<text text-anchor=\"middle\" x=\"10575.4\" y=\"-101.3\" font-family=\"Times New Roman,serif\" font-size=\"14.00\">peso_bruto&lt;1981</text>\r\n",
       "</g>\r\n",
       "<!-- 70&#45;&gt;118 -->\r\n",
       "<g id=\"edge168\" class=\"edge\"><title>70&#45;&gt;118</title>\r\n",
       "<path fill=\"none\" stroke=\"#ff0000\" d=\"M10473.2,-174.673C10482.1,-168.805 10492.2,-162.125 10501.4,-156 10515,-146.903 10530,-136.801 10542.9,-128.072\"/>\r\n",
       "<polygon fill=\"#ff0000\" stroke=\"#ff0000\" points=\"10545.1,-130.783 10551.4,-122.277 10541.2,-124.988 10545.1,-130.783\"/>\r\n",
       "<text text-anchor=\"middle\" x=\"10528.9\" y=\"-144.8\" font-family=\"Times New Roman,serif\" font-size=\"14.00\">no</text>\r\n",
       "</g>\r\n",
       "<!-- 181 -->\r\n",
       "<g id=\"node170\" class=\"node\"><title>181</title>\r\n",
       "<ellipse fill=\"none\" stroke=\"black\" cx=\"10502.4\" cy=\"-18\" rx=\"82.5854\" ry=\"18\"/>\r\n",
       "<text text-anchor=\"middle\" x=\"10502.4\" y=\"-14.3\" font-family=\"Times New Roman,serif\" font-size=\"14.00\">leaf=&#45;0.0461538509</text>\r\n",
       "</g>\r\n",
       "<!-- 118&#45;&gt;181 -->\r\n",
       "<g id=\"edge169\" class=\"edge\"><title>118&#45;&gt;181</title>\r\n",
       "<path fill=\"none\" stroke=\"#0000ff\" d=\"M10553.3,-87.7812C10546.5,-82.2416 10539.2,-75.734 10533.4,-69 10527.1,-61.7189 10521.2,-53.0042 10516.3,-44.9048\"/>\r\n",
       "<polygon fill=\"#0000ff\" stroke=\"#0000ff\" points=\"10519.2,-43.0267 10511.2,-36.1312 10513.2,-46.5378 10519.2,-43.0267\"/>\r\n",
       "<text text-anchor=\"middle\" x=\"10567.9\" y=\"-57.8\" font-family=\"Times New Roman,serif\" font-size=\"14.00\">yes, missing</text>\r\n",
       "</g>\r\n",
       "<!-- 182 -->\r\n",
       "<g id=\"node171\" class=\"node\"><title>182</title>\r\n",
       "<ellipse fill=\"none\" stroke=\"black\" cx=\"10647.4\" cy=\"-18\" rx=\"44.393\" ry=\"18\"/>\r\n",
       "<text text-anchor=\"middle\" x=\"10647.4\" y=\"-14.3\" font-family=\"Times New Roman,serif\" font-size=\"14.00\">leaf=0.25</text>\r\n",
       "</g>\r\n",
       "<!-- 118&#45;&gt;182 -->\r\n",
       "<g id=\"edge170\" class=\"edge\"><title>118&#45;&gt;182</title>\r\n",
       "<path fill=\"none\" stroke=\"#ff0000\" d=\"M10589.6,-87.2067C10600.3,-74.5881 10615.1,-57.1265 10627,-43.0303\"/>\r\n",
       "<polygon fill=\"#ff0000\" stroke=\"#ff0000\" points=\"10629.9,-45.0744 10633.7,-35.1817 10624.6,-40.5499 10629.9,-45.0744\"/>\r\n",
       "<text text-anchor=\"middle\" x=\"10622.9\" y=\"-57.8\" font-family=\"Times New Roman,serif\" font-size=\"14.00\">no</text>\r\n",
       "</g>\r\n",
       "<!-- 119 -->\r\n",
       "<g id=\"node174\" class=\"node\"><title>119</title>\r\n",
       "<ellipse fill=\"none\" stroke=\"black\" cx=\"10744.4\" cy=\"-105\" rx=\"75.2868\" ry=\"18\"/>\r\n",
       "<text text-anchor=\"middle\" x=\"10744.4\" y=\"-101.3\" font-family=\"Times New Roman,serif\" font-size=\"14.00\">leaf=0.150000006</text>\r\n",
       "</g>\r\n",
       "<!-- 71&#45;&gt;119 -->\r\n",
       "<g id=\"edge173\" class=\"edge\"><title>71&#45;&gt;119</title>\r\n",
       "<path fill=\"none\" stroke=\"#0000ff\" d=\"M10720.5,-173.799C10724.6,-162.047 10730.2,-146.238 10734.9,-132.842\"/>\r\n",
       "<polygon fill=\"#0000ff\" stroke=\"#0000ff\" points=\"10738.3,-133.77 10738.3,-123.175 10731.7,-131.44 10738.3,-133.77\"/>\r\n",
       "<text text-anchor=\"middle\" x=\"10764.9\" y=\"-144.8\" font-family=\"Times New Roman,serif\" font-size=\"14.00\">yes, missing</text>\r\n",
       "</g>\r\n",
       "<!-- 120 -->\r\n",
       "<g id=\"node175\" class=\"node\"><title>120</title>\r\n",
       "<ellipse fill=\"none\" stroke=\"black\" cx=\"10915.4\" cy=\"-105\" rx=\"77.9862\" ry=\"18\"/>\r\n",
       "<text text-anchor=\"middle\" x=\"10915.4\" y=\"-101.3\" font-family=\"Times New Roman,serif\" font-size=\"14.00\">leaf=&#45;0.360000014</text>\r\n",
       "</g>\r\n",
       "<!-- 71&#45;&gt;120 -->\r\n",
       "<g id=\"edge174\" class=\"edge\"><title>71&#45;&gt;120</title>\r\n",
       "<path fill=\"none\" stroke=\"#ff0000\" d=\"M10751.4,-176.897C10767.4,-170.658 10786.4,-163.131 10803.4,-156 10826.4,-146.355 10851.8,-135.075 10872.5,-125.672\"/>\r\n",
       "<polygon fill=\"#ff0000\" stroke=\"#ff0000\" points=\"10874.1,-128.817 10881.7,-121.497 10871.2,-122.443 10874.1,-128.817\"/>\r\n",
       "<text text-anchor=\"middle\" x=\"10844.9\" y=\"-144.8\" font-family=\"Times New Roman,serif\" font-size=\"14.00\">no</text>\r\n",
       "</g>\r\n",
       "<!-- 43 -->\r\n",
       "<g id=\"node178\" class=\"node\"><title>43</title>\r\n",
       "<ellipse fill=\"none\" stroke=\"black\" cx=\"10867.4\" cy=\"-279\" rx=\"75.2868\" ry=\"18\"/>\r\n",
       "<text text-anchor=\"middle\" x=\"10867.4\" y=\"-275.3\" font-family=\"Times New Roman,serif\" font-size=\"14.00\">leaf=0.150000006</text>\r\n",
       "</g>\r\n",
       "<!-- 25&#45;&gt;43 -->\r\n",
       "<g id=\"edge177\" class=\"edge\"><title>25&#45;&gt;43</title>\r\n",
       "<path fill=\"none\" stroke=\"#0000ff\" d=\"M10931.6,-348.207C10919.8,-335.633 10903.4,-318.252 10890.2,-304.182\"/>\r\n",
       "<polygon fill=\"#0000ff\" stroke=\"#0000ff\" points=\"10892.6,-301.642 10883.2,-296.758 10887.5,-306.439 10892.6,-301.642\"/>\r\n",
       "<text text-anchor=\"middle\" x=\"10945.9\" y=\"-318.8\" font-family=\"Times New Roman,serif\" font-size=\"14.00\">yes, missing</text>\r\n",
       "</g>\r\n",
       "<!-- 44 -->\r\n",
       "<g id=\"node179\" class=\"node\"><title>44</title>\r\n",
       "<ellipse fill=\"none\" stroke=\"black\" cx=\"11036.4\" cy=\"-279\" rx=\"75.2868\" ry=\"18\"/>\r\n",
       "<text text-anchor=\"middle\" x=\"11036.4\" y=\"-275.3\" font-family=\"Times New Roman,serif\" font-size=\"14.00\">leaf=0.560000002</text>\r\n",
       "</g>\r\n",
       "<!-- 25&#45;&gt;44 -->\r\n",
       "<g id=\"edge178\" class=\"edge\"><title>25&#45;&gt;44</title>\r\n",
       "<path fill=\"none\" stroke=\"#ff0000\" d=\"M10965.1,-348.295C10971.2,-342.511 10978.1,-335.981 10984.4,-330 10993.4,-321.443 11003.2,-312.027 11011.8,-303.695\"/>\r\n",
       "<polygon fill=\"#ff0000\" stroke=\"#ff0000\" points=\"11014.3,-306.16 11019.1,-296.702 11009.5,-301.118 11014.3,-306.16\"/>\r\n",
       "<text text-anchor=\"middle\" x=\"11005.9\" y=\"-318.8\" font-family=\"Times New Roman,serif\" font-size=\"14.00\">no</text>\r\n",
       "</g>\r\n",
       "<!-- 45 -->\r\n",
       "<g id=\"node180\" class=\"node\"><title>45</title>\r\n",
       "<ellipse fill=\"none\" stroke=\"black\" cx=\"11212.4\" cy=\"-279\" rx=\"82.5854\" ry=\"18\"/>\r\n",
       "<text text-anchor=\"middle\" x=\"11212.4\" y=\"-275.3\" font-family=\"Times New Roman,serif\" font-size=\"14.00\">leaf=&#45;0.0666666701</text>\r\n",
       "</g>\r\n",
       "<!-- 26&#45;&gt;45 -->\r\n",
       "<g id=\"edge179\" class=\"edge\"><title>26&#45;&gt;45</title>\r\n",
       "<path fill=\"none\" stroke=\"#0000ff\" d=\"M11212.4,-347.799C11212.4,-336.163 11212.4,-320.548 11212.4,-307.237\"/>\r\n",
       "<polygon fill=\"#0000ff\" stroke=\"#0000ff\" points=\"11215.9,-307.175 11212.4,-297.175 11208.9,-307.175 11215.9,-307.175\"/>\r\n",
       "<text text-anchor=\"middle\" x=\"11246.9\" y=\"-318.8\" font-family=\"Times New Roman,serif\" font-size=\"14.00\">yes, missing</text>\r\n",
       "</g>\r\n",
       "<!-- 46 -->\r\n",
       "<g id=\"node181\" class=\"node\"><title>46</title>\r\n",
       "<ellipse fill=\"none\" stroke=\"black\" cx=\"11413.4\" cy=\"-279\" rx=\"100.182\" ry=\"18\"/>\r\n",
       "<text text-anchor=\"middle\" x=\"11413.4\" y=\"-275.3\" font-family=\"Times New Roman,serif\" font-size=\"14.00\">peso_bruto&lt;3190.82495</text>\r\n",
       "</g>\r\n",
       "<!-- 26&#45;&gt;46 -->\r\n",
       "<g id=\"edge180\" class=\"edge\"><title>26&#45;&gt;46</title>\r\n",
       "<path fill=\"none\" stroke=\"#ff0000\" d=\"M11249.3,-349.41C11282.3,-335.419 11331.1,-314.819 11366.8,-299.694\"/>\r\n",
       "<polygon fill=\"#ff0000\" stroke=\"#ff0000\" points=\"11368.2,-302.898 11376.1,-295.779 11365.5,-296.451 11368.2,-302.898\"/>\r\n",
       "<text text-anchor=\"middle\" x=\"11331.9\" y=\"-318.8\" font-family=\"Times New Roman,serif\" font-size=\"14.00\">no</text>\r\n",
       "</g>\r\n",
       "<!-- 73 -->\r\n",
       "<g id=\"node182\" class=\"node\"><title>73</title>\r\n",
       "<ellipse fill=\"none\" stroke=\"black\" cx=\"11348.4\" cy=\"-192\" rx=\"36.2938\" ry=\"18\"/>\r\n",
       "<text text-anchor=\"middle\" x=\"11348.4\" y=\"-188.3\" font-family=\"Times New Roman,serif\" font-size=\"14.00\">leaf=&#45;0</text>\r\n",
       "</g>\r\n",
       "<!-- 46&#45;&gt;73 -->\r\n",
       "<g id=\"edge181\" class=\"edge\"><title>46&#45;&gt;73</title>\r\n",
       "<path fill=\"none\" stroke=\"#0000ff\" d=\"M11400.2,-260.799C11390.7,-248.265 11377.5,-231.116 11366.9,-217.201\"/>\r\n",
       "<polygon fill=\"#0000ff\" stroke=\"#0000ff\" points=\"11369.5,-214.843 11360.6,-209.025 11363.9,-219.095 11369.5,-214.843\"/>\r\n",
       "<text text-anchor=\"middle\" x=\"11418.9\" y=\"-231.8\" font-family=\"Times New Roman,serif\" font-size=\"14.00\">yes, missing</text>\r\n",
       "</g>\r\n",
       "<!-- 74 -->\r\n",
       "<g id=\"node183\" class=\"node\"><title>74</title>\r\n",
       "<ellipse fill=\"none\" stroke=\"black\" cx=\"11478.4\" cy=\"-192\" rx=\"75.2868\" ry=\"18\"/>\r\n",
       "<text text-anchor=\"middle\" x=\"11478.4\" y=\"-188.3\" font-family=\"Times New Roman,serif\" font-size=\"14.00\">leaf=0.428571463</text>\r\n",
       "</g>\r\n",
       "<!-- 46&#45;&gt;74 -->\r\n",
       "<g id=\"edge182\" class=\"edge\"><title>46&#45;&gt;74</title>\r\n",
       "<path fill=\"none\" stroke=\"#ff0000\" d=\"M11438,-261.269C11444.6,-255.979 11451.3,-249.738 11456.4,-243 11461.7,-236.028 11466,-227.573 11469.4,-219.615\"/>\r\n",
       "<polygon fill=\"#ff0000\" stroke=\"#ff0000\" points=\"11472.7,-220.875 11473.1,-210.287 11466.2,-218.324 11472.7,-220.875\"/>\r\n",
       "<text text-anchor=\"middle\" x=\"11471.9\" y=\"-231.8\" font-family=\"Times New Roman,serif\" font-size=\"14.00\">no</text>\r\n",
       "</g>\r\n",
       "</g>\r\n",
       "</svg>\r\n"
      ],
      "text/plain": [
       "<graphviz.files.Source at 0x1b116b4e100>"
      ]
     },
     "execution_count": 76,
     "metadata": {},
     "output_type": "execute_result"
    }
   ],
   "source": [
    "# plot the first tree out of 100 trees\n",
    "import xgboost as xgb\n",
    "xgb.to_graphviz(booster = xgb_clf, num_trees=0)"
   ]
  },
  {
   "cell_type": "markdown",
   "metadata": {},
   "source": [
    "## 5. Predict frauds in test-data with the Decision Tree model <a id='id5'></a>"
   ]
  },
  {
   "cell_type": "code",
   "execution_count": 77,
   "metadata": {
    "ExecuteTime": {
     "end_time": "2021-03-09T14:49:42.126906Z",
     "start_time": "2021-03-09T14:49:41.999908Z"
    }
   },
   "outputs": [
    {
     "data": {
      "text/plain": [
       "array([0.01092674, 0.32984135, 0.03776206, ..., 0.26823872, 0.06462998,\n",
       "       0.34366223], dtype=float32)"
      ]
     },
     "execution_count": 77,
     "metadata": {},
     "output_type": "execute_result"
    }
   ],
   "source": [
    "# Predict the labels of the test set: preds\n",
    "predicted_fraud_cl = xgb_clf.predict_proba(test)[:,1]\n",
    "predicted_fraud_cl"
   ]
  },
  {
   "cell_type": "markdown",
   "metadata": {},
   "source": [
    "## 6. Evaluate model performance  <a id='id6'></a>"
   ]
  },
  {
   "cell_type": "markdown",
   "metadata": {},
   "source": [
    "### Evaluate the prediction of XGboost model (General)\n",
    "\n",
    "ROC curve is a plot of \"True Positive rate (TP)\" on y-axis against \"False Positive rate (FP)\" on x-axis, where;\n",
    "* \"True positive rate\" (or 'sensitivity' or 'recall') is the share of correctly predicted frauds in the total frauds.\n",
    "* \"False positive rate\" (or 'false alarm' or '1-specificity') is the share of non-frauds predicted as frauds in the total non-frauds.  \n",
    "\n",
    "ROC curve with the higher TP and the lower FP represents the better performance.  \n",
    "AUC is the area under the ROC curve. The higer value of AUC represents the higher performance of prediction.  \n",
    "\n",
    "References for ROC curve and AUC:\n",
    "* https://scikit-learn.org/stable/auto_examples/ensemble/plot_feature_transformation.html#sphx-glr-auto-examples-ensemble-plot-feature-transformation-py\n",
    "* https://scikit-learn.org/stable/modules/generated/sklearn.metrics.auc.html"
   ]
  },
  {
   "cell_type": "code",
   "execution_count": 78,
   "metadata": {
    "ExecuteTime": {
     "end_time": "2021-03-09T14:49:44.812450Z",
     "start_time": "2021-03-09T14:49:44.627463Z"
    }
   },
   "outputs": [
    {
     "data": {
      "image/png": "[encoded data removed]",
      "text/plain": [
       "<Figure size 576x432 with 1 Axes>"
      ]
     },
     "metadata": {},
     "output_type": "display_data"
    }
   ],
   "source": [
    "plot_roc_auc(test_fraud, predicted_fraud_cl, xgb_clf)"
   ]
  },
  {
   "cell_type": "code",
   "execution_count": 18,
   "metadata": {},
   "outputs": [
    {
     "data": {
      "image/png": "[encoded data removed]",
      "text/plain": [
       "<Figure size 432x288 with 1 Axes>"
      ]
     },
     "metadata": {
      "needs_background": "light"
     },
     "output_type": "display_data"
    },
    {
     "name": "stdout",
     "output_type": "stream",
     "text": [
      "auc:  0.6903348471514783\n"
     ]
    }
   ],
   "source": [
    "from matplotlib import pyplot as plt\n",
    "from sklearn.metrics import roc_curve\n",
    "from sklearn.metrics import auc\n",
    "\n",
    "fpr, tpr, _ = roc_curve(test_fraud, predicted_fraud_cl)\n",
    "\n",
    "plt.plot([0, 1], [0, 1], 'k--')\n",
    "plt.plot(fpr, tpr, label='GBT')\n",
    "plt.xlabel('False positive rate')\n",
    "plt.ylabel('True positive rate')\n",
    "plt.title('ROC curve')\n",
    "plt.show()\n",
    "print('auc: ', auc(fpr, tpr))"
   ]
  },
  {
   "cell_type": "markdown",
   "metadata": {},
   "source": [
    "### Evaluate the prediction of XGboost (for Customs)\n",
    "ROC curve and AUC may seem too technical for Customs. We will convert the ROC curve (a plot with \"TP\" and \"FP\") into the plot with \"Inspection rate\" and \"Number of seizures\" or/and the plot with \"Inspection rate\" and \"Targeting accuracy\"."
   ]
  },
  {
   "cell_type": "code",
   "execution_count": 53,
   "metadata": {
    "ExecuteTime": {
     "end_time": "2021-03-09T06:06:12.376783Z",
     "start_time": "2021-03-09T06:06:12.368785Z"
    }
   },
   "outputs": [],
   "source": [
    "# Evaluate by the performance of (simulated) inpsection\n",
    "\n",
    "def inspection_performance(predicted_fraud, test_fraud):\n",
    "    \n",
    "    # Set default values before a loop\n",
    "    \n",
    "    Inspect_Rate = []\n",
    "    Precision=[]\n",
    "    Recall=[]\n",
    "    \n",
    "    # Create a loop for making confusion matrix at each inspection rate\n",
    "\n",
    "    for i in range(0,101,1):\n",
    "        \n",
    "        # Find the ith value in ascending order.\n",
    "        threshold = np.percentile(predicted_fraud, i)\n",
    "        # Precision = number of frauds / number of inspection\n",
    "        precision = np.mean(test_fraud[predicted_fraud > threshold])\n",
    "        # Recall = number of inspected frauds / number of frauds\n",
    "        recall = sum(test_fraud[predicted_fraud > threshold])/sum(test_fraud)\n",
    "        # Save values\n",
    "        Inspect_Rate.append(100-i)\n",
    "        Precision.append(precision)\n",
    "        Recall.append(recall)\n",
    "        \n",
    "    \n",
    "    compiled_conf_matrix = pd.DataFrame({\n",
    "        \n",
    "        'Inspect_Rate':Inspect_Rate,\n",
    "        'Precision':Precision,\n",
    "        'Recall':Recall\n",
    "    })\n",
    "\n",
    "    return compiled_conf_matrix"
   ]
  },
  {
   "cell_type": "code",
   "execution_count": 54,
   "metadata": {
    "ExecuteTime": {
     "end_time": "2021-03-09T06:06:17.944746Z",
     "start_time": "2021-03-09T06:06:16.235782Z"
    }
   },
   "outputs": [
    {
     "data": {
      "text/html": [
       "<div>\n",
       "<style scoped>\n",
       "    .dataframe tbody tr th:only-of-type {\n",
       "        vertical-align: middle;\n",
       "    }\n",
       "\n",
       "    .dataframe tbody tr th {\n",
       "        vertical-align: top;\n",
       "    }\n",
       "\n",
       "    .dataframe thead th {\n",
       "        text-align: right;\n",
       "    }\n",
       "</style>\n",
       "<table border=\"1\" class=\"dataframe\">\n",
       "  <thead>\n",
       "    <tr style=\"text-align: right;\">\n",
       "      <th></th>\n",
       "      <th>Inspect_Rate</th>\n",
       "      <th>Precision</th>\n",
       "      <th>Recall</th>\n",
       "    </tr>\n",
       "  </thead>\n",
       "  <tbody>\n",
       "    <tr>\n",
       "      <th>99</th>\n",
       "      <td>1</td>\n",
       "      <td>0.494083</td>\n",
       "      <td>0.135305</td>\n",
       "    </tr>\n",
       "    <tr>\n",
       "      <th>98</th>\n",
       "      <td>2</td>\n",
       "      <td>0.421014</td>\n",
       "      <td>0.230504</td>\n",
       "    </tr>\n",
       "    <tr>\n",
       "      <th>95</th>\n",
       "      <td>5</td>\n",
       "      <td>0.243155</td>\n",
       "      <td>0.332793</td>\n",
       "    </tr>\n",
       "    <tr>\n",
       "      <th>90</th>\n",
       "      <td>10</td>\n",
       "      <td>0.145342</td>\n",
       "      <td>0.397812</td>\n",
       "    </tr>\n",
       "  </tbody>\n",
       "</table>\n",
       "</div>"
      ],
      "text/plain": [
       "    Inspect_Rate  Precision    Recall\n",
       "99             1   0.494083  0.135305\n",
       "98             2   0.421014  0.230504\n",
       "95             5   0.243155  0.332793\n",
       "90            10   0.145342  0.397812"
      ]
     },
     "execution_count": 54,
     "metadata": {},
     "output_type": "execute_result"
    }
   ],
   "source": [
    "basic_performance = inspection_performance(predicted_fraud_cl, test_fraud)\n",
    "basic_performance.iloc[[100-1, 100-2, 100-5, 100-10],:]"
   ]
  },
  {
   "cell_type": "markdown",
   "metadata": {},
   "source": [
    "### Visualize performance"
   ]
  },
  {
   "cell_type": "code",
   "execution_count": 55,
   "metadata": {
    "ExecuteTime": {
     "end_time": "2021-03-09T06:06:22.549651Z",
     "start_time": "2021-03-09T06:06:22.541653Z"
    }
   },
   "outputs": [],
   "source": [
    "data = pd.melt(basic_performance, \n",
    "               id_vars = ['Inspect_Rate'],\n",
    "               value_vars = ['Recall','Precision'])"
   ]
  },
  {
   "cell_type": "code",
   "execution_count": 56,
   "metadata": {
    "ExecuteTime": {
     "end_time": "2021-03-09T06:06:27.515568Z",
     "start_time": "2021-03-09T06:06:27.034597Z"
    },
    "scrolled": false
   },
   "outputs": [
    {
     "data": {
      "text/plain": [
       "<seaborn.axisgrid.FacetGrid at 0x1b1091887c0>"
      ]
     },
     "execution_count": 56,
     "metadata": {},
     "output_type": "execute_result"
    },
    {
     "data": {
      "image/png": "[encoded data removed]",
      "text/plain": [
       "<Figure size 833.15x360 with 2 Axes>"
      ]
     },
     "metadata": {},
     "output_type": "display_data"
    }
   ],
   "source": [
    "sns.relplot(data=data,\n",
    "            kind='line',\n",
    "            x=\"Inspect_Rate\", \n",
    "            y=\"value\", \n",
    "            hue='variable',\n",
    "            col=\"variable\")"
   ]
  },
  {
   "cell_type": "code",
   "execution_count": 57,
   "metadata": {
    "ExecuteTime": {
     "end_time": "2021-03-09T06:06:32.041721Z",
     "start_time": "2021-03-09T06:06:31.953689Z"
    }
   },
   "outputs": [
    {
     "data": {
      "application/vnd.plotly.v1+json": {
       "config": {
        "plotlyServerURL": "https://plot.ly"
       },
       "data": [
        {
         "hovertemplate": "variable=Recall<br>Inspect_Rate=%{x}<br>value=%{y}<extra></extra>",
         "legendgroup": "Recall",
         "line": {
          "color": "#636efa",
          "dash": "solid"
         },
         "mode": "lines",
         "name": "Recall",
         "orientation": "v",
         "showlegend": true,
         "type": "scatter",
         "x": [
          100,
          99,
          98,
          97,
          96,
          95,
          94,
          93,
          92,
          91,
          90,
          89,
          88,
          87,
          86,
          85,
          84,
          83,
          82,
          81,
          80,
          79,
          78,
          77,
          76,
          75,
          74,
          73,
          72,
          71,
          70,
          69,
          68,
          67,
          66,
          65,
          64,
          63,
          62,
          61,
          60,
          59,
          58,
          57,
          56,
          55,
          54,
          53,
          52,
          51,
          50,
          49,
          48,
          47,
          46,
          45,
          44,
          43,
          42,
          41,
          40,
          39,
          38,
          37,
          36,
          35,
          34,
          33,
          32,
          31,
          30,
          29,
          28,
          27,
          26,
          25,
          24,
          23,
          22,
          21,
          20,
          19,
          18,
          17,
          16,
          15,
          14,
          13,
          12,
          11,
          10,
          9,
          8,
          7,
          6,
          5,
          4,
          3,
          2,
          1,
          0
         ],
         "xaxis": "x",
         "y": [
          1,
          0.9985821348997367,
          0.996556613327932,
          0.9947336439133077,
          0.9935183309702248,
          0.9916953615556006,
          0.988454527040713,
          0.9839983795827426,
          0.9823779623252987,
          0.9799473364391331,
          0.9783269191816892,
          0.9767065019242455,
          0.9750860846668017,
          0.9724529066234555,
          0.9690095199513875,
          0.9643508203362365,
          0.9613125379785294,
          0.9548308689487544,
          0.9483491999189791,
          0.9436905003038283,
          0.9378164877455945,
          0.9282965363581123,
          0.9224225237998784,
          0.9177638241847276,
          0.9110796029977719,
          0.9054081425967186,
          0.8950779825805145,
          0.8879886570791979,
          0.8831274053068665,
          0.8732023496050233,
          0.864492606846263,
          0.8592262507595706,
          0.8529471338869759,
          0.8472756734859226,
          0.8389710350415231,
          0.832084261697387,
          0.8254000405104315,
          0.8181081628519343,
          0.8102086287218959,
          0.8035244075349403,
          0.7964350820336237,
          0.7887381000607656,
          0.7826615353453514,
          0.7767875227871177,
          0.7682803321855378,
          0.7607859023698602,
          0.7528863682398218,
          0.747012355681588,
          0.7415434474377152,
          0.7358719870366619,
          0.7287826615353453,
          0.7227060968199311,
          0.7164269799473364,
          0.7115657281750051,
          0.7048815069880494,
          0.6961717642292891,
          0.688474782256431,
          0.6836135304840997,
          0.6747012355681588,
          0.6690297751671055,
          0.6617378975086085,
          0.6554587806360138,
          0.6483694551346972,
          0.6398622645331172,
          0.6311525217743569,
          0.6220376747012356,
          0.6157585578286409,
          0.6056309499696172,
          0.5983390723111202,
          0.5922625075957059,
          0.5851731820943893,
          0.5744379177638241,
          0.5671460401053271,
          0.5584362973465667,
          0.5499291067449869,
          0.5430423334008507,
          0.5323070690702856,
          0.5242049827830666,
          0.5120518533522382,
          0.5033421105934778,
          0.4964553372493417,
          0.48531496860441564,
          0.47721288231719666,
          0.467085274458173,
          0.4585780838565931,
          0.44784281952602795,
          0.4403483897103504,
          0.4304233340085072,
          0.4194855175207616,
          0.4087502531901965,
          0.39781243670245087,
          0.38869758962932954,
          0.3767470123556816,
          0.36216325703868746,
          0.34737694956451287,
          0.33279319424751874,
          0.3135507393153737,
          0.2839781243670245,
          0.23050435487137938,
          0.13530484099655662,
          0
         ],
         "yaxis": "y"
        },
        {
         "hovertemplate": "variable=Precision<br>Inspect_Rate=%{x}<br>value=%{y}<extra></extra>",
         "legendgroup": "Precision",
         "line": {
          "color": "#EF553B",
          "dash": "solid"
         },
         "mode": "lines",
         "name": "Precision",
         "orientation": "v",
         "showlegend": true,
         "type": "scatter",
         "x": [
          100,
          99,
          98,
          97,
          96,
          95,
          94,
          93,
          92,
          91,
          90,
          89,
          88,
          87,
          86,
          85,
          84,
          83,
          82,
          81,
          80,
          79,
          78,
          77,
          76,
          75,
          74,
          73,
          72,
          71,
          70,
          69,
          68,
          67,
          66,
          65,
          64,
          63,
          62,
          61,
          60,
          59,
          58,
          57,
          56,
          55,
          54,
          53,
          52,
          51,
          50,
          49,
          48,
          47,
          46,
          45,
          44,
          43,
          42,
          41,
          40,
          39,
          38,
          37,
          36,
          35,
          34,
          33,
          32,
          31,
          30,
          29,
          28,
          27,
          26,
          25,
          24,
          23,
          22,
          21,
          20,
          19,
          18,
          17,
          16,
          15,
          14,
          13,
          12,
          11,
          10,
          9,
          8,
          7,
          6,
          5,
          4,
          3,
          2,
          1,
          0
         ],
         "xaxis": "x2",
         "y": [
          0.03653545870982543,
          0.036852098252328484,
          0.03715591133934977,
          0.03746681314657146,
          0.03781104498782029,
          0.03813886097543876,
          0.03841854166994694,
          0.03865679955438848,
          0.03901254031966152,
          0.03934356905861688,
          0.03971484249734823,
          0.04009479067060242,
          0.04048439996636111,
          0.04083767852130347,
          0.04116649886843758,
          0.04145046143130768,
          0.04181166251134271,
          0.0420299934021648,
          0.042254029565186,
          0.042565437851171714,
          0.04282912750684526,
          0.042931279976019185,
          0.043206421191449795,
          0.043546371936568955,
          0.04379789481883952,
          0.04410589361303245,
          0.04419176767070683,
          0.04444219169750114,
          0.04481355095999671,
          0.044933397260845095,
          0.04512057172458268,
          0.045495495495495496,
          0.04582752916594115,
          0.04620210521665175,
          0.046442787464259686,
          0.046773238602723505,
          0.04712181132773653,
          0.04744396936522107,
          0.047744091668656,
          0.04812626624125005,
          0.04849650953402896,
          0.048841672206404355,
          0.04930143540669856,
          0.04979096881410506,
          0.05012355794008431,
          0.050537533133300144,
          0.05093874194874606,
          0.0514947150895712,
          0.05210052940171913,
          0.05271635033954379,
          0.0532524235920965,
          0.05388588516023802,
          0.05453115845949863,
          0.05531325282234573,
          0.055984555984555984,
          0.056521238632439276,
          0.057167364650083256,
          0.05808350256427908,
          0.0587063799788509,
          0.05961771023229789,
          0.060441796788277956,
          0.06140300943056109,
          0.06233690360272639,
          0.06318631863186319,
          0.0640532818056612,
          0.0649314952638701,
          0.0661689484796378,
          0.06705088242549279,
          0.06831321400490264,
          0.06982353081643862,
          0.07126470805890624,
          0.07236909257936103,
          0.07400163860771203,
          0.07556530080855146,
          0.07727557351852907,
          0.07935944113903443,
          0.08103357898307176,
          0.08326898326898327,
          0.08503481449090114,
          0.08758017903714668,
          0.090690446236957,
          0.09332035053554041,
          0.0968590692320342,
          0.10038307504788438,
          0.10471301049905185,
          0.10907745436605822,
          0.11491093609598815,
          0.12098610794807561,
          0.12771336951159348,
          0.13575512949882274,
          0.14534152297787317,
          0.15778654826508798,
          0.1720469891776894,
          0.18924640135478407,
          0.21151948692649236,
          0.2431552464111292,
          0.28634850166481685,
          0.34583127775037,
          0.4210136884942656,
          0.4940828402366864,
          null
         ],
         "yaxis": "y2"
        }
       ],
       "layout": {
        "annotations": [
         {
          "font": {},
          "showarrow": false,
          "text": "variable=Recall",
          "x": 0.245,
          "xanchor": "center",
          "xref": "paper",
          "y": 1,
          "yanchor": "bottom",
          "yref": "paper"
         },
         {
          "font": {},
          "showarrow": false,
          "text": "variable=Precision",
          "x": 0.755,
          "xanchor": "center",
          "xref": "paper",
          "y": 1,
          "yanchor": "bottom",
          "yref": "paper"
         }
        ],
        "legend": {
         "title": {
          "text": "variable"
         },
         "tracegroupgap": 0
        },
        "margin": {
         "t": 60
        },
        "template": {
         "data": {
          "bar": [
           {
            "error_x": {
             "color": "#2a3f5f"
            },
            "error_y": {
             "color": "#2a3f5f"
            },
            "marker": {
             "line": {
              "color": "#E5ECF6",
              "width": 0.5
             }
            },
            "type": "bar"
           }
          ],
          "barpolar": [
           {
            "marker": {
             "line": {
              "color": "#E5ECF6",
              "width": 0.5
             }
            },
            "type": "barpolar"
           }
          ],
          "carpet": [
           {
            "aaxis": {
             "endlinecolor": "#2a3f5f",
             "gridcolor": "white",
             "linecolor": "white",
             "minorgridcolor": "white",
             "startlinecolor": "#2a3f5f"
            },
            "baxis": {
             "endlinecolor": "#2a3f5f",
             "gridcolor": "white",
             "linecolor": "white",
             "minorgridcolor": "white",
             "startlinecolor": "#2a3f5f"
            },
            "type": "carpet"
           }
          ],
          "choropleth": [
           {
            "colorbar": {
             "outlinewidth": 0,
             "ticks": ""
            },
            "type": "choropleth"
           }
          ],
          "contour": [
           {
            "colorbar": {
             "outlinewidth": 0,
             "ticks": ""
            },
            "colorscale": [
             [
              0,
              "#0d0887"
             ],
             [
              0.1111111111111111,
              "#46039f"
             ],
             [
              0.2222222222222222,
              "#7201a8"
             ],
             [
              0.3333333333333333,
              "#9c179e"
             ],
             [
              0.4444444444444444,
              "#bd3786"
             ],
             [
              0.5555555555555556,
              "#d8576b"
             ],
             [
              0.6666666666666666,
              "#ed7953"
             ],
             [
              0.7777777777777778,
              "#fb9f3a"
             ],
             [
              0.8888888888888888,
              "#fdca26"
             ],
             [
              1,
              "#f0f921"
             ]
            ],
            "type": "contour"
           }
          ],
          "contourcarpet": [
           {
            "colorbar": {
             "outlinewidth": 0,
             "ticks": ""
            },
            "type": "contourcarpet"
           }
          ],
          "heatmap": [
           {
            "colorbar": {
             "outlinewidth": 0,
             "ticks": ""
            },
            "colorscale": [
             [
              0,
              "#0d0887"
             ],
             [
              0.1111111111111111,
              "#46039f"
             ],
             [
              0.2222222222222222,
              "#7201a8"
             ],
             [
              0.3333333333333333,
              "#9c179e"
             ],
             [
              0.4444444444444444,
              "#bd3786"
             ],
             [
              0.5555555555555556,
              "#d8576b"
             ],
             [
              0.6666666666666666,
              "#ed7953"
             ],
             [
              0.7777777777777778,
              "#fb9f3a"
             ],
             [
              0.8888888888888888,
              "#fdca26"
             ],
             [
              1,
              "#f0f921"
             ]
            ],
            "type": "heatmap"
           }
          ],
          "heatmapgl": [
           {
            "colorbar": {
             "outlinewidth": 0,
             "ticks": ""
            },
            "colorscale": [
             [
              0,
              "#0d0887"
             ],
             [
              0.1111111111111111,
              "#46039f"
             ],
             [
              0.2222222222222222,
              "#7201a8"
             ],
             [
              0.3333333333333333,
              "#9c179e"
             ],
             [
              0.4444444444444444,
              "#bd3786"
             ],
             [
              0.5555555555555556,
              "#d8576b"
             ],
             [
              0.6666666666666666,
              "#ed7953"
             ],
             [
              0.7777777777777778,
              "#fb9f3a"
             ],
             [
              0.8888888888888888,
              "#fdca26"
             ],
             [
              1,
              "#f0f921"
             ]
            ],
            "type": "heatmapgl"
           }
          ],
          "histogram": [
           {
            "marker": {
             "colorbar": {
              "outlinewidth": 0,
              "ticks": ""
             }
            },
            "type": "histogram"
           }
          ],
          "histogram2d": [
           {
            "colorbar": {
             "outlinewidth": 0,
             "ticks": ""
            },
            "colorscale": [
             [
              0,
              "#0d0887"
             ],
             [
              0.1111111111111111,
              "#46039f"
             ],
             [
              0.2222222222222222,
              "#7201a8"
             ],
             [
              0.3333333333333333,
              "#9c179e"
             ],
             [
              0.4444444444444444,
              "#bd3786"
             ],
             [
              0.5555555555555556,
              "#d8576b"
             ],
             [
              0.6666666666666666,
              "#ed7953"
             ],
             [
              0.7777777777777778,
              "#fb9f3a"
             ],
             [
              0.8888888888888888,
              "#fdca26"
             ],
             [
              1,
              "#f0f921"
             ]
            ],
            "type": "histogram2d"
           }
          ],
          "histogram2dcontour": [
           {
            "colorbar": {
             "outlinewidth": 0,
             "ticks": ""
            },
            "colorscale": [
             [
              0,
              "#0d0887"
             ],
             [
              0.1111111111111111,
              "#46039f"
             ],
             [
              0.2222222222222222,
              "#7201a8"
             ],
             [
              0.3333333333333333,
              "#9c179e"
             ],
             [
              0.4444444444444444,
              "#bd3786"
             ],
             [
              0.5555555555555556,
              "#d8576b"
             ],
             [
              0.6666666666666666,
              "#ed7953"
             ],
             [
              0.7777777777777778,
              "#fb9f3a"
             ],
             [
              0.8888888888888888,
              "#fdca26"
             ],
             [
              1,
              "#f0f921"
             ]
            ],
            "type": "histogram2dcontour"
           }
          ],
          "mesh3d": [
           {
            "colorbar": {
             "outlinewidth": 0,
             "ticks": ""
            },
            "type": "mesh3d"
           }
          ],
          "parcoords": [
           {
            "line": {
             "colorbar": {
              "outlinewidth": 0,
              "ticks": ""
             }
            },
            "type": "parcoords"
           }
          ],
          "pie": [
           {
            "automargin": true,
            "type": "pie"
           }
          ],
          "scatter": [
           {
            "marker": {
             "colorbar": {
              "outlinewidth": 0,
              "ticks": ""
             }
            },
            "type": "scatter"
           }
          ],
          "scatter3d": [
           {
            "line": {
             "colorbar": {
              "outlinewidth": 0,
              "ticks": ""
             }
            },
            "marker": {
             "colorbar": {
              "outlinewidth": 0,
              "ticks": ""
             }
            },
            "type": "scatter3d"
           }
          ],
          "scattercarpet": [
           {
            "marker": {
             "colorbar": {
              "outlinewidth": 0,
              "ticks": ""
             }
            },
            "type": "scattercarpet"
           }
          ],
          "scattergeo": [
           {
            "marker": {
             "colorbar": {
              "outlinewidth": 0,
              "ticks": ""
             }
            },
            "type": "scattergeo"
           }
          ],
          "scattergl": [
           {
            "marker": {
             "colorbar": {
              "outlinewidth": 0,
              "ticks": ""
             }
            },
            "type": "scattergl"
           }
          ],
          "scattermapbox": [
           {
            "marker": {
             "colorbar": {
              "outlinewidth": 0,
              "ticks": ""
             }
            },
            "type": "scattermapbox"
           }
          ],
          "scatterpolar": [
           {
            "marker": {
             "colorbar": {
              "outlinewidth": 0,
              "ticks": ""
             }
            },
            "type": "scatterpolar"
           }
          ],
          "scatterpolargl": [
           {
            "marker": {
             "colorbar": {
              "outlinewidth": 0,
              "ticks": ""
             }
            },
            "type": "scatterpolargl"
           }
          ],
          "scatterternary": [
           {
            "marker": {
             "colorbar": {
              "outlinewidth": 0,
              "ticks": ""
             }
            },
            "type": "scatterternary"
           }
          ],
          "surface": [
           {
            "colorbar": {
             "outlinewidth": 0,
             "ticks": ""
            },
            "colorscale": [
             [
              0,
              "#0d0887"
             ],
             [
              0.1111111111111111,
              "#46039f"
             ],
             [
              0.2222222222222222,
              "#7201a8"
             ],
             [
              0.3333333333333333,
              "#9c179e"
             ],
             [
              0.4444444444444444,
              "#bd3786"
             ],
             [
              0.5555555555555556,
              "#d8576b"
             ],
             [
              0.6666666666666666,
              "#ed7953"
             ],
             [
              0.7777777777777778,
              "#fb9f3a"
             ],
             [
              0.8888888888888888,
              "#fdca26"
             ],
             [
              1,
              "#f0f921"
             ]
            ],
            "type": "surface"
           }
          ],
          "table": [
           {
            "cells": {
             "fill": {
              "color": "#EBF0F8"
             },
             "line": {
              "color": "white"
             }
            },
            "header": {
             "fill": {
              "color": "#C8D4E3"
             },
             "line": {
              "color": "white"
             }
            },
            "type": "table"
           }
          ]
         },
         "layout": {
          "annotationdefaults": {
           "arrowcolor": "#2a3f5f",
           "arrowhead": 0,
           "arrowwidth": 1
          },
          "autotypenumbers": "strict",
          "coloraxis": {
           "colorbar": {
            "outlinewidth": 0,
            "ticks": ""
           }
          },
          "colorscale": {
           "diverging": [
            [
             0,
             "#8e0152"
            ],
            [
             0.1,
             "#c51b7d"
            ],
            [
             0.2,
             "#de77ae"
            ],
            [
             0.3,
             "#f1b6da"
            ],
            [
             0.4,
             "#fde0ef"
            ],
            [
             0.5,
             "#f7f7f7"
            ],
            [
             0.6,
             "#e6f5d0"
            ],
            [
             0.7,
             "#b8e186"
            ],
            [
             0.8,
             "#7fbc41"
            ],
            [
             0.9,
             "#4d9221"
            ],
            [
             1,
             "#276419"
            ]
           ],
           "sequential": [
            [
             0,
             "#0d0887"
            ],
            [
             0.1111111111111111,
             "#46039f"
            ],
            [
             0.2222222222222222,
             "#7201a8"
            ],
            [
             0.3333333333333333,
             "#9c179e"
            ],
            [
             0.4444444444444444,
             "#bd3786"
            ],
            [
             0.5555555555555556,
             "#d8576b"
            ],
            [
             0.6666666666666666,
             "#ed7953"
            ],
            [
             0.7777777777777778,
             "#fb9f3a"
            ],
            [
             0.8888888888888888,
             "#fdca26"
            ],
            [
             1,
             "#f0f921"
            ]
           ],
           "sequentialminus": [
            [
             0,
             "#0d0887"
            ],
            [
             0.1111111111111111,
             "#46039f"
            ],
            [
             0.2222222222222222,
             "#7201a8"
            ],
            [
             0.3333333333333333,
             "#9c179e"
            ],
            [
             0.4444444444444444,
             "#bd3786"
            ],
            [
             0.5555555555555556,
             "#d8576b"
            ],
            [
             0.6666666666666666,
             "#ed7953"
            ],
            [
             0.7777777777777778,
             "#fb9f3a"
            ],
            [
             0.8888888888888888,
             "#fdca26"
            ],
            [
             1,
             "#f0f921"
            ]
           ]
          },
          "colorway": [
           "#636efa",
           "#EF553B",
           "#00cc96",
           "#ab63fa",
           "#FFA15A",
           "#19d3f3",
           "#FF6692",
           "#B6E880",
           "#FF97FF",
           "#FECB52"
          ],
          "font": {
           "color": "#2a3f5f"
          },
          "geo": {
           "bgcolor": "white",
           "lakecolor": "white",
           "landcolor": "#E5ECF6",
           "showlakes": true,
           "showland": true,
           "subunitcolor": "white"
          },
          "hoverlabel": {
           "align": "left"
          },
          "hovermode": "closest",
          "mapbox": {
           "style": "light"
          },
          "paper_bgcolor": "white",
          "plot_bgcolor": "#E5ECF6",
          "polar": {
           "angularaxis": {
            "gridcolor": "white",
            "linecolor": "white",
            "ticks": ""
           },
           "bgcolor": "#E5ECF6",
           "radialaxis": {
            "gridcolor": "white",
            "linecolor": "white",
            "ticks": ""
           }
          },
          "scene": {
           "xaxis": {
            "backgroundcolor": "#E5ECF6",
            "gridcolor": "white",
            "gridwidth": 2,
            "linecolor": "white",
            "showbackground": true,
            "ticks": "",
            "zerolinecolor": "white"
           },
           "yaxis": {
            "backgroundcolor": "#E5ECF6",
            "gridcolor": "white",
            "gridwidth": 2,
            "linecolor": "white",
            "showbackground": true,
            "ticks": "",
            "zerolinecolor": "white"
           },
           "zaxis": {
            "backgroundcolor": "#E5ECF6",
            "gridcolor": "white",
            "gridwidth": 2,
            "linecolor": "white",
            "showbackground": true,
            "ticks": "",
            "zerolinecolor": "white"
           }
          },
          "shapedefaults": {
           "line": {
            "color": "#2a3f5f"
           }
          },
          "ternary": {
           "aaxis": {
            "gridcolor": "white",
            "linecolor": "white",
            "ticks": ""
           },
           "baxis": {
            "gridcolor": "white",
            "linecolor": "white",
            "ticks": ""
           },
           "bgcolor": "#E5ECF6",
           "caxis": {
            "gridcolor": "white",
            "linecolor": "white",
            "ticks": ""
           }
          },
          "title": {
           "x": 0.05
          },
          "xaxis": {
           "automargin": true,
           "gridcolor": "white",
           "linecolor": "white",
           "ticks": "",
           "title": {
            "standoff": 15
           },
           "zerolinecolor": "white",
           "zerolinewidth": 2
          },
          "yaxis": {
           "automargin": true,
           "gridcolor": "white",
           "linecolor": "white",
           "ticks": "",
           "title": {
            "standoff": 15
           },
           "zerolinecolor": "white",
           "zerolinewidth": 2
          }
         }
        },
        "xaxis": {
         "anchor": "y",
         "domain": [
          0,
          0.49
         ],
         "title": {
          "text": "Inspect_Rate"
         }
        },
        "xaxis2": {
         "anchor": "y2",
         "domain": [
          0.51,
          1
         ],
         "matches": "x",
         "title": {
          "text": "Inspect_Rate"
         }
        },
        "yaxis": {
         "anchor": "x",
         "domain": [
          0,
          1
         ],
         "title": {
          "text": "value"
         }
        },
        "yaxis2": {
         "anchor": "x2",
         "domain": [
          0,
          1
         ],
         "matches": "y",
         "showticklabels": false
        }
       }
      },
      "text/html": [
       "<div>                            <div id=\"f8073f5a-4df0-42e4-9201-b8211b7572b5\" class=\"plotly-graph-div\" style=\"height:525px; width:100%;\"></div>            <script type=\"text/javascript\">                require([\"plotly\"], function(Plotly) {                    window.PLOTLYENV=window.PLOTLYENV || {};                                    if (document.getElementById(\"f8073f5a-4df0-42e4-9201-b8211b7572b5\")) {                    Plotly.newPlot(                        \"f8073f5a-4df0-42e4-9201-b8211b7572b5\",                        [{\"hovertemplate\": \"variable=Recall<br>Inspect_Rate=%{x}<br>value=%{y}<extra></extra>\", \"legendgroup\": \"Recall\", \"line\": {\"color\": \"#636efa\", \"dash\": \"solid\"}, \"mode\": \"lines\", \"name\": \"Recall\", \"orientation\": \"v\", \"showlegend\": true, \"type\": \"scatter\", \"x\": [100, 99, 98, 97, 96, 95, 94, 93, 92, 91, 90, 89, 88, 87, 86, 85, 84, 83, 82, 81, 80, 79, 78, 77, 76, 75, 74, 73, 72, 71, 70, 69, 68, 67, 66, 65, 64, 63, 62, 61, 60, 59, 58, 57, 56, 55, 54, 53, 52, 51, 50, 49, 48, 47, 46, 45, 44, 43, 42, 41, 40, 39, 38, 37, 36, 35, 34, 33, 32, 31, 30, 29, 28, 27, 26, 25, 24, 23, 22, 21, 20, 19, 18, 17, 16, 15, 14, 13, 12, 11, 10, 9, 8, 7, 6, 5, 4, 3, 2, 1, 0], \"xaxis\": \"x\", \"y\": [1.0, 0.9985821348997367, 0.996556613327932, 0.9947336439133077, 0.9935183309702248, 0.9916953615556006, 0.988454527040713, 0.9839983795827426, 0.9823779623252987, 0.9799473364391331, 0.9783269191816892, 0.9767065019242455, 0.9750860846668017, 0.9724529066234555, 0.9690095199513875, 0.9643508203362365, 0.9613125379785294, 0.9548308689487544, 0.9483491999189791, 0.9436905003038283, 0.9378164877455945, 0.9282965363581123, 0.9224225237998784, 0.9177638241847276, 0.9110796029977719, 0.9054081425967186, 0.8950779825805145, 0.8879886570791979, 0.8831274053068665, 0.8732023496050233, 0.864492606846263, 0.8592262507595706, 0.8529471338869759, 0.8472756734859226, 0.8389710350415231, 0.832084261697387, 0.8254000405104315, 0.8181081628519343, 0.8102086287218959, 0.8035244075349403, 0.7964350820336237, 0.7887381000607656, 0.7826615353453514, 0.7767875227871177, 0.7682803321855378, 0.7607859023698602, 0.7528863682398218, 0.747012355681588, 0.7415434474377152, 0.7358719870366619, 0.7287826615353453, 0.7227060968199311, 0.7164269799473364, 0.7115657281750051, 0.7048815069880494, 0.6961717642292891, 0.688474782256431, 0.6836135304840997, 0.6747012355681588, 0.6690297751671055, 0.6617378975086085, 0.6554587806360138, 0.6483694551346972, 0.6398622645331172, 0.6311525217743569, 0.6220376747012356, 0.6157585578286409, 0.6056309499696172, 0.5983390723111202, 0.5922625075957059, 0.5851731820943893, 0.5744379177638241, 0.5671460401053271, 0.5584362973465667, 0.5499291067449869, 0.5430423334008507, 0.5323070690702856, 0.5242049827830666, 0.5120518533522382, 0.5033421105934778, 0.4964553372493417, 0.48531496860441564, 0.47721288231719666, 0.467085274458173, 0.4585780838565931, 0.44784281952602795, 0.4403483897103504, 0.4304233340085072, 0.4194855175207616, 0.4087502531901965, 0.39781243670245087, 0.38869758962932954, 0.3767470123556816, 0.36216325703868746, 0.34737694956451287, 0.33279319424751874, 0.3135507393153737, 0.2839781243670245, 0.23050435487137938, 0.13530484099655662, 0.0], \"yaxis\": \"y\"}, {\"hovertemplate\": \"variable=Precision<br>Inspect_Rate=%{x}<br>value=%{y}<extra></extra>\", \"legendgroup\": \"Precision\", \"line\": {\"color\": \"#EF553B\", \"dash\": \"solid\"}, \"mode\": \"lines\", \"name\": \"Precision\", \"orientation\": \"v\", \"showlegend\": true, \"type\": \"scatter\", \"x\": [100, 99, 98, 97, 96, 95, 94, 93, 92, 91, 90, 89, 88, 87, 86, 85, 84, 83, 82, 81, 80, 79, 78, 77, 76, 75, 74, 73, 72, 71, 70, 69, 68, 67, 66, 65, 64, 63, 62, 61, 60, 59, 58, 57, 56, 55, 54, 53, 52, 51, 50, 49, 48, 47, 46, 45, 44, 43, 42, 41, 40, 39, 38, 37, 36, 35, 34, 33, 32, 31, 30, 29, 28, 27, 26, 25, 24, 23, 22, 21, 20, 19, 18, 17, 16, 15, 14, 13, 12, 11, 10, 9, 8, 7, 6, 5, 4, 3, 2, 1, 0], \"xaxis\": \"x2\", \"y\": [0.03653545870982543, 0.036852098252328484, 0.03715591133934977, 0.03746681314657146, 0.03781104498782029, 0.03813886097543876, 0.03841854166994694, 0.03865679955438848, 0.03901254031966152, 0.03934356905861688, 0.03971484249734823, 0.04009479067060242, 0.04048439996636111, 0.04083767852130347, 0.04116649886843758, 0.04145046143130768, 0.04181166251134271, 0.0420299934021648, 0.042254029565186, 0.042565437851171714, 0.04282912750684526, 0.042931279976019185, 0.043206421191449795, 0.043546371936568955, 0.04379789481883952, 0.04410589361303245, 0.04419176767070683, 0.04444219169750114, 0.04481355095999671, 0.044933397260845095, 0.04512057172458268, 0.045495495495495496, 0.04582752916594115, 0.04620210521665175, 0.046442787464259686, 0.046773238602723505, 0.04712181132773653, 0.04744396936522107, 0.047744091668656, 0.04812626624125005, 0.04849650953402896, 0.048841672206404355, 0.04930143540669856, 0.04979096881410506, 0.05012355794008431, 0.050537533133300144, 0.05093874194874606, 0.0514947150895712, 0.05210052940171913, 0.05271635033954379, 0.0532524235920965, 0.05388588516023802, 0.05453115845949863, 0.05531325282234573, 0.055984555984555984, 0.056521238632439276, 0.057167364650083256, 0.05808350256427908, 0.0587063799788509, 0.05961771023229789, 0.060441796788277956, 0.06140300943056109, 0.06233690360272639, 0.06318631863186319, 0.0640532818056612, 0.0649314952638701, 0.0661689484796378, 0.06705088242549279, 0.06831321400490264, 0.06982353081643862, 0.07126470805890624, 0.07236909257936103, 0.07400163860771203, 0.07556530080855146, 0.07727557351852907, 0.07935944113903443, 0.08103357898307176, 0.08326898326898327, 0.08503481449090114, 0.08758017903714668, 0.090690446236957, 0.09332035053554041, 0.0968590692320342, 0.10038307504788438, 0.10471301049905185, 0.10907745436605822, 0.11491093609598815, 0.12098610794807561, 0.12771336951159348, 0.13575512949882274, 0.14534152297787317, 0.15778654826508798, 0.1720469891776894, 0.18924640135478407, 0.21151948692649236, 0.2431552464111292, 0.28634850166481685, 0.34583127775037, 0.4210136884942656, 0.4940828402366864, null], \"yaxis\": \"y2\"}],                        {\"annotations\": [{\"font\": {}, \"showarrow\": false, \"text\": \"variable=Recall\", \"x\": 0.245, \"xanchor\": \"center\", \"xref\": \"paper\", \"y\": 1.0, \"yanchor\": \"bottom\", \"yref\": \"paper\"}, {\"font\": {}, \"showarrow\": false, \"text\": \"variable=Precision\", \"x\": 0.755, \"xanchor\": \"center\", \"xref\": \"paper\", \"y\": 1.0, \"yanchor\": \"bottom\", \"yref\": \"paper\"}], \"legend\": {\"title\": {\"text\": \"variable\"}, \"tracegroupgap\": 0}, \"margin\": {\"t\": 60}, \"template\": {\"data\": {\"bar\": [{\"error_x\": {\"color\": \"#2a3f5f\"}, \"error_y\": {\"color\": \"#2a3f5f\"}, \"marker\": {\"line\": {\"color\": \"#E5ECF6\", \"width\": 0.5}}, \"type\": \"bar\"}], \"barpolar\": [{\"marker\": {\"line\": {\"color\": \"#E5ECF6\", \"width\": 0.5}}, \"type\": \"barpolar\"}], \"carpet\": [{\"aaxis\": {\"endlinecolor\": \"#2a3f5f\", \"gridcolor\": \"white\", \"linecolor\": \"white\", \"minorgridcolor\": \"white\", \"startlinecolor\": \"#2a3f5f\"}, \"baxis\": {\"endlinecolor\": \"#2a3f5f\", \"gridcolor\": \"white\", \"linecolor\": \"white\", \"minorgridcolor\": \"white\", \"startlinecolor\": \"#2a3f5f\"}, \"type\": \"carpet\"}], \"choropleth\": [{\"colorbar\": {\"outlinewidth\": 0, \"ticks\": \"\"}, \"type\": \"choropleth\"}], \"contour\": [{\"colorbar\": {\"outlinewidth\": 0, \"ticks\": \"\"}, \"colorscale\": [[0.0, \"#0d0887\"], [0.1111111111111111, \"#46039f\"], [0.2222222222222222, \"#7201a8\"], [0.3333333333333333, \"#9c179e\"], [0.4444444444444444, \"#bd3786\"], [0.5555555555555556, \"#d8576b\"], [0.6666666666666666, \"#ed7953\"], [0.7777777777777778, \"#fb9f3a\"], [0.8888888888888888, \"#fdca26\"], [1.0, \"#f0f921\"]], \"type\": \"contour\"}], \"contourcarpet\": [{\"colorbar\": {\"outlinewidth\": 0, \"ticks\": \"\"}, \"type\": \"contourcarpet\"}], \"heatmap\": [{\"colorbar\": {\"outlinewidth\": 0, \"ticks\": \"\"}, \"colorscale\": [[0.0, \"#0d0887\"], [0.1111111111111111, \"#46039f\"], [0.2222222222222222, \"#7201a8\"], [0.3333333333333333, \"#9c179e\"], [0.4444444444444444, \"#bd3786\"], [0.5555555555555556, \"#d8576b\"], [0.6666666666666666, \"#ed7953\"], [0.7777777777777778, \"#fb9f3a\"], [0.8888888888888888, \"#fdca26\"], [1.0, \"#f0f921\"]], \"type\": \"heatmap\"}], \"heatmapgl\": [{\"colorbar\": {\"outlinewidth\": 0, \"ticks\": \"\"}, \"colorscale\": [[0.0, \"#0d0887\"], [0.1111111111111111, \"#46039f\"], [0.2222222222222222, \"#7201a8\"], [0.3333333333333333, \"#9c179e\"], [0.4444444444444444, \"#bd3786\"], [0.5555555555555556, \"#d8576b\"], [0.6666666666666666, \"#ed7953\"], [0.7777777777777778, \"#fb9f3a\"], [0.8888888888888888, \"#fdca26\"], [1.0, \"#f0f921\"]], \"type\": \"heatmapgl\"}], \"histogram\": [{\"marker\": {\"colorbar\": {\"outlinewidth\": 0, \"ticks\": \"\"}}, \"type\": \"histogram\"}], \"histogram2d\": [{\"colorbar\": {\"outlinewidth\": 0, \"ticks\": \"\"}, \"colorscale\": [[0.0, \"#0d0887\"], [0.1111111111111111, \"#46039f\"], [0.2222222222222222, \"#7201a8\"], [0.3333333333333333, \"#9c179e\"], [0.4444444444444444, \"#bd3786\"], [0.5555555555555556, \"#d8576b\"], [0.6666666666666666, \"#ed7953\"], [0.7777777777777778, \"#fb9f3a\"], [0.8888888888888888, \"#fdca26\"], [1.0, \"#f0f921\"]], \"type\": \"histogram2d\"}], \"histogram2dcontour\": [{\"colorbar\": {\"outlinewidth\": 0, \"ticks\": \"\"}, \"colorscale\": [[0.0, \"#0d0887\"], [0.1111111111111111, \"#46039f\"], [0.2222222222222222, \"#7201a8\"], [0.3333333333333333, \"#9c179e\"], [0.4444444444444444, \"#bd3786\"], [0.5555555555555556, \"#d8576b\"], [0.6666666666666666, \"#ed7953\"], [0.7777777777777778, \"#fb9f3a\"], [0.8888888888888888, \"#fdca26\"], [1.0, \"#f0f921\"]], \"type\": \"histogram2dcontour\"}], \"mesh3d\": [{\"colorbar\": {\"outlinewidth\": 0, \"ticks\": \"\"}, \"type\": \"mesh3d\"}], \"parcoords\": [{\"line\": {\"colorbar\": {\"outlinewidth\": 0, \"ticks\": \"\"}}, \"type\": \"parcoords\"}], \"pie\": [{\"automargin\": true, \"type\": \"pie\"}], \"scatter\": [{\"marker\": {\"colorbar\": {\"outlinewidth\": 0, \"ticks\": \"\"}}, \"type\": \"scatter\"}], \"scatter3d\": [{\"line\": {\"colorbar\": {\"outlinewidth\": 0, \"ticks\": \"\"}}, \"marker\": {\"colorbar\": {\"outlinewidth\": 0, \"ticks\": \"\"}}, \"type\": \"scatter3d\"}], \"scattercarpet\": [{\"marker\": {\"colorbar\": {\"outlinewidth\": 0, \"ticks\": \"\"}}, \"type\": \"scattercarpet\"}], \"scattergeo\": [{\"marker\": {\"colorbar\": {\"outlinewidth\": 0, \"ticks\": \"\"}}, \"type\": \"scattergeo\"}], \"scattergl\": [{\"marker\": {\"colorbar\": {\"outlinewidth\": 0, \"ticks\": \"\"}}, \"type\": \"scattergl\"}], \"scattermapbox\": [{\"marker\": {\"colorbar\": {\"outlinewidth\": 0, \"ticks\": \"\"}}, \"type\": \"scattermapbox\"}], \"scatterpolar\": [{\"marker\": {\"colorbar\": {\"outlinewidth\": 0, \"ticks\": \"\"}}, \"type\": \"scatterpolar\"}], \"scatterpolargl\": [{\"marker\": {\"colorbar\": {\"outlinewidth\": 0, \"ticks\": \"\"}}, \"type\": \"scatterpolargl\"}], \"scatterternary\": [{\"marker\": {\"colorbar\": {\"outlinewidth\": 0, \"ticks\": \"\"}}, \"type\": \"scatterternary\"}], \"surface\": [{\"colorbar\": {\"outlinewidth\": 0, \"ticks\": \"\"}, \"colorscale\": [[0.0, \"#0d0887\"], [0.1111111111111111, \"#46039f\"], [0.2222222222222222, \"#7201a8\"], [0.3333333333333333, \"#9c179e\"], [0.4444444444444444, \"#bd3786\"], [0.5555555555555556, \"#d8576b\"], [0.6666666666666666, \"#ed7953\"], [0.7777777777777778, \"#fb9f3a\"], [0.8888888888888888, \"#fdca26\"], [1.0, \"#f0f921\"]], \"type\": \"surface\"}], \"table\": [{\"cells\": {\"fill\": {\"color\": \"#EBF0F8\"}, \"line\": {\"color\": \"white\"}}, \"header\": {\"fill\": {\"color\": \"#C8D4E3\"}, \"line\": {\"color\": \"white\"}}, \"type\": \"table\"}]}, \"layout\": {\"annotationdefaults\": {\"arrowcolor\": \"#2a3f5f\", \"arrowhead\": 0, \"arrowwidth\": 1}, \"autotypenumbers\": \"strict\", \"coloraxis\": {\"colorbar\": {\"outlinewidth\": 0, \"ticks\": \"\"}}, \"colorscale\": {\"diverging\": [[0, \"#8e0152\"], [0.1, \"#c51b7d\"], [0.2, \"#de77ae\"], [0.3, \"#f1b6da\"], [0.4, \"#fde0ef\"], [0.5, \"#f7f7f7\"], [0.6, \"#e6f5d0\"], [0.7, \"#b8e186\"], [0.8, \"#7fbc41\"], [0.9, \"#4d9221\"], [1, \"#276419\"]], \"sequential\": [[0.0, \"#0d0887\"], [0.1111111111111111, \"#46039f\"], [0.2222222222222222, \"#7201a8\"], [0.3333333333333333, \"#9c179e\"], [0.4444444444444444, \"#bd3786\"], [0.5555555555555556, \"#d8576b\"], [0.6666666666666666, \"#ed7953\"], [0.7777777777777778, \"#fb9f3a\"], [0.8888888888888888, \"#fdca26\"], [1.0, \"#f0f921\"]], \"sequentialminus\": [[0.0, \"#0d0887\"], [0.1111111111111111, \"#46039f\"], [0.2222222222222222, \"#7201a8\"], [0.3333333333333333, \"#9c179e\"], [0.4444444444444444, \"#bd3786\"], [0.5555555555555556, \"#d8576b\"], [0.6666666666666666, \"#ed7953\"], [0.7777777777777778, \"#fb9f3a\"], [0.8888888888888888, \"#fdca26\"], [1.0, \"#f0f921\"]]}, \"colorway\": [\"#636efa\", \"#EF553B\", \"#00cc96\", \"#ab63fa\", \"#FFA15A\", \"#19d3f3\", \"#FF6692\", \"#B6E880\", \"#FF97FF\", \"#FECB52\"], \"font\": {\"color\": \"#2a3f5f\"}, \"geo\": {\"bgcolor\": \"white\", \"lakecolor\": \"white\", \"landcolor\": \"#E5ECF6\", \"showlakes\": true, \"showland\": true, \"subunitcolor\": \"white\"}, \"hoverlabel\": {\"align\": \"left\"}, \"hovermode\": \"closest\", \"mapbox\": {\"style\": \"light\"}, \"paper_bgcolor\": \"white\", \"plot_bgcolor\": \"#E5ECF6\", \"polar\": {\"angularaxis\": {\"gridcolor\": \"white\", \"linecolor\": \"white\", \"ticks\": \"\"}, \"bgcolor\": \"#E5ECF6\", \"radialaxis\": {\"gridcolor\": \"white\", \"linecolor\": \"white\", \"ticks\": \"\"}}, \"scene\": {\"xaxis\": {\"backgroundcolor\": \"#E5ECF6\", \"gridcolor\": \"white\", \"gridwidth\": 2, \"linecolor\": \"white\", \"showbackground\": true, \"ticks\": \"\", \"zerolinecolor\": \"white\"}, \"yaxis\": {\"backgroundcolor\": \"#E5ECF6\", \"gridcolor\": \"white\", \"gridwidth\": 2, \"linecolor\": \"white\", \"showbackground\": true, \"ticks\": \"\", \"zerolinecolor\": \"white\"}, \"zaxis\": {\"backgroundcolor\": \"#E5ECF6\", \"gridcolor\": \"white\", \"gridwidth\": 2, \"linecolor\": \"white\", \"showbackground\": true, \"ticks\": \"\", \"zerolinecolor\": \"white\"}}, \"shapedefaults\": {\"line\": {\"color\": \"#2a3f5f\"}}, \"ternary\": {\"aaxis\": {\"gridcolor\": \"white\", \"linecolor\": \"white\", \"ticks\": \"\"}, \"baxis\": {\"gridcolor\": \"white\", \"linecolor\": \"white\", \"ticks\": \"\"}, \"bgcolor\": \"#E5ECF6\", \"caxis\": {\"gridcolor\": \"white\", \"linecolor\": \"white\", \"ticks\": \"\"}}, \"title\": {\"x\": 0.05}, \"xaxis\": {\"automargin\": true, \"gridcolor\": \"white\", \"linecolor\": \"white\", \"ticks\": \"\", \"title\": {\"standoff\": 15}, \"zerolinecolor\": \"white\", \"zerolinewidth\": 2}, \"yaxis\": {\"automargin\": true, \"gridcolor\": \"white\", \"linecolor\": \"white\", \"ticks\": \"\", \"title\": {\"standoff\": 15}, \"zerolinecolor\": \"white\", \"zerolinewidth\": 2}}}, \"xaxis\": {\"anchor\": \"y\", \"domain\": [0.0, 0.49], \"title\": {\"text\": \"Inspect_Rate\"}}, \"xaxis2\": {\"anchor\": \"y2\", \"domain\": [0.51, 1.0], \"matches\": \"x\", \"title\": {\"text\": \"Inspect_Rate\"}}, \"yaxis\": {\"anchor\": \"x\", \"domain\": [0.0, 1.0], \"title\": {\"text\": \"value\"}}, \"yaxis2\": {\"anchor\": \"x2\", \"domain\": [0.0, 1.0], \"matches\": \"y\", \"showticklabels\": false}},                        {\"responsive\": true}                    ).then(function(){\n",
       "                            \n",
       "var gd = document.getElementById('f8073f5a-4df0-42e4-9201-b8211b7572b5');\n",
       "var x = new MutationObserver(function (mutations, observer) {{\n",
       "        var display = window.getComputedStyle(gd).display;\n",
       "        if (!display || display === 'none') {{\n",
       "            console.log([gd, 'removed!']);\n",
       "            Plotly.purge(gd);\n",
       "            observer.disconnect();\n",
       "        }}\n",
       "}});\n",
       "\n",
       "// Listen for the removal of the full notebook cells\n",
       "var notebookContainer = gd.closest('#notebook-container');\n",
       "if (notebookContainer) {{\n",
       "    x.observe(notebookContainer, {childList: true});\n",
       "}}\n",
       "\n",
       "// Listen for the clearing of the current output cell\n",
       "var outputEl = gd.closest('.output');\n",
       "if (outputEl) {{\n",
       "    x.observe(outputEl, {childList: true});\n",
       "}}\n",
       "\n",
       "                        })                };                });            </script>        </div>"
      ]
     },
     "metadata": {},
     "output_type": "display_data"
    }
   ],
   "source": [
    "# Interactive visualization\n",
    "fig = px.line(data, x=\"Inspect_Rate\", y=\"value\", color='variable',facet_col=\"variable\")\n",
    "fig.show()"
   ]
  },
  {
   "cell_type": "code",
   "execution_count": 58,
   "metadata": {
    "ExecuteTime": {
     "end_time": "2021-03-09T06:06:37.139759Z",
     "start_time": "2021-03-09T06:06:37.092747Z"
    }
   },
   "outputs": [],
   "source": [
    "fig.write_html(\"./xgboost-inspection_rate-precision-1314.html\")"
   ]
  },
  {
   "cell_type": "markdown",
   "metadata": {},
   "source": [
    "## Comparing a Decision Tree and XGBoost models"
   ]
  },
  {
   "cell_type": "code",
   "execution_count": 59,
   "metadata": {
    "ExecuteTime": {
     "end_time": "2021-03-09T06:06:40.045064Z",
     "start_time": "2021-03-09T06:06:40.034065Z"
    }
   },
   "outputs": [
    {
     "data": {
      "text/html": [
       "<div>\n",
       "<style scoped>\n",
       "    .dataframe tbody tr th:only-of-type {\n",
       "        vertical-align: middle;\n",
       "    }\n",
       "\n",
       "    .dataframe tbody tr th {\n",
       "        vertical-align: top;\n",
       "    }\n",
       "\n",
       "    .dataframe thead th {\n",
       "        text-align: right;\n",
       "    }\n",
       "</style>\n",
       "<table border=\"1\" class=\"dataframe\">\n",
       "  <thead>\n",
       "    <tr style=\"text-align: right;\">\n",
       "      <th></th>\n",
       "      <th>Inspect_Rate</th>\n",
       "      <th>Precision</th>\n",
       "      <th>Recall</th>\n",
       "      <th>Source</th>\n",
       "    </tr>\n",
       "  </thead>\n",
       "  <tbody>\n",
       "    <tr>\n",
       "      <th>0</th>\n",
       "      <td>100</td>\n",
       "      <td>0.041296</td>\n",
       "      <td>0.941462</td>\n",
       "      <td>DT</td>\n",
       "    </tr>\n",
       "    <tr>\n",
       "      <th>1</th>\n",
       "      <td>99</td>\n",
       "      <td>0.041296</td>\n",
       "      <td>0.941462</td>\n",
       "      <td>DT</td>\n",
       "    </tr>\n",
       "    <tr>\n",
       "      <th>2</th>\n",
       "      <td>98</td>\n",
       "      <td>0.041296</td>\n",
       "      <td>0.941462</td>\n",
       "      <td>DT</td>\n",
       "    </tr>\n",
       "    <tr>\n",
       "      <th>3</th>\n",
       "      <td>97</td>\n",
       "      <td>0.041296</td>\n",
       "      <td>0.941462</td>\n",
       "      <td>DT</td>\n",
       "    </tr>\n",
       "    <tr>\n",
       "      <th>4</th>\n",
       "      <td>96</td>\n",
       "      <td>0.041296</td>\n",
       "      <td>0.941462</td>\n",
       "      <td>DT</td>\n",
       "    </tr>\n",
       "  </tbody>\n",
       "</table>\n",
       "</div>"
      ],
      "text/plain": [
       "   Inspect_Rate  Precision    Recall Source\n",
       "0           100   0.041296  0.941462     DT\n",
       "1            99   0.041296  0.941462     DT\n",
       "2            98   0.041296  0.941462     DT\n",
       "3            97   0.041296  0.941462     DT\n",
       "4            96   0.041296  0.941462     DT"
      ]
     },
     "execution_count": 59,
     "metadata": {},
     "output_type": "execute_result"
    }
   ],
   "source": [
    "DT_performance = pd.read_csv('dtc_performance.csv')\n",
    "DT_performance['Source'] = 'DT'\n",
    "DT_performance.head(5)"
   ]
  },
  {
   "cell_type": "code",
   "execution_count": 60,
   "metadata": {
    "ExecuteTime": {
     "end_time": "2021-03-09T06:06:42.096384Z",
     "start_time": "2021-03-09T06:06:42.086380Z"
    }
   },
   "outputs": [
    {
     "data": {
      "text/html": [
       "<div>\n",
       "<style scoped>\n",
       "    .dataframe tbody tr th:only-of-type {\n",
       "        vertical-align: middle;\n",
       "    }\n",
       "\n",
       "    .dataframe tbody tr th {\n",
       "        vertical-align: top;\n",
       "    }\n",
       "\n",
       "    .dataframe thead th {\n",
       "        text-align: right;\n",
       "    }\n",
       "</style>\n",
       "<table border=\"1\" class=\"dataframe\">\n",
       "  <thead>\n",
       "    <tr style=\"text-align: right;\">\n",
       "      <th></th>\n",
       "      <th>Inspect_Rate</th>\n",
       "      <th>Precision</th>\n",
       "      <th>Recall</th>\n",
       "      <th>Source</th>\n",
       "    </tr>\n",
       "  </thead>\n",
       "  <tbody>\n",
       "    <tr>\n",
       "      <th>0</th>\n",
       "      <td>100</td>\n",
       "      <td>0.036535</td>\n",
       "      <td>1.000000</td>\n",
       "      <td>XG</td>\n",
       "    </tr>\n",
       "    <tr>\n",
       "      <th>1</th>\n",
       "      <td>99</td>\n",
       "      <td>0.036852</td>\n",
       "      <td>0.998582</td>\n",
       "      <td>XG</td>\n",
       "    </tr>\n",
       "    <tr>\n",
       "      <th>2</th>\n",
       "      <td>98</td>\n",
       "      <td>0.037156</td>\n",
       "      <td>0.996557</td>\n",
       "      <td>XG</td>\n",
       "    </tr>\n",
       "    <tr>\n",
       "      <th>3</th>\n",
       "      <td>97</td>\n",
       "      <td>0.037467</td>\n",
       "      <td>0.994734</td>\n",
       "      <td>XG</td>\n",
       "    </tr>\n",
       "    <tr>\n",
       "      <th>4</th>\n",
       "      <td>96</td>\n",
       "      <td>0.037811</td>\n",
       "      <td>0.993518</td>\n",
       "      <td>XG</td>\n",
       "    </tr>\n",
       "  </tbody>\n",
       "</table>\n",
       "</div>"
      ],
      "text/plain": [
       "   Inspect_Rate  Precision    Recall Source\n",
       "0           100   0.036535  1.000000     XG\n",
       "1            99   0.036852  0.998582     XG\n",
       "2            98   0.037156  0.996557     XG\n",
       "3            97   0.037467  0.994734     XG\n",
       "4            96   0.037811  0.993518     XG"
      ]
     },
     "execution_count": 60,
     "metadata": {},
     "output_type": "execute_result"
    }
   ],
   "source": [
    "XG_performance = basic_performance.copy()\n",
    "XG_performance['Source'] = 'XG'\n",
    "XG_performance.head(5)"
   ]
  },
  {
   "cell_type": "code",
   "execution_count": 61,
   "metadata": {
    "ExecuteTime": {
     "end_time": "2021-03-09T06:06:43.979727Z",
     "start_time": "2021-03-09T06:06:43.973728Z"
    }
   },
   "outputs": [],
   "source": [
    "merged_perf = pd.concat([DT_performance, XG_performance], ignore_index=True)"
   ]
  },
  {
   "cell_type": "code",
   "execution_count": 62,
   "metadata": {
    "ExecuteTime": {
     "end_time": "2021-03-09T06:06:45.840226Z",
     "start_time": "2021-03-09T06:06:45.833227Z"
    }
   },
   "outputs": [],
   "source": [
    "data = pd.melt(merged_perf, \n",
    "               id_vars = ['Inspect_Rate','Source'],\n",
    "               value_vars = ['Recall','Precision'])"
   ]
  },
  {
   "cell_type": "code",
   "execution_count": 63,
   "metadata": {
    "ExecuteTime": {
     "end_time": "2021-03-09T06:06:48.033128Z",
     "start_time": "2021-03-09T06:06:47.565111Z"
    }
   },
   "outputs": [
    {
     "data": {
      "text/plain": [
       "<seaborn.axisgrid.FacetGrid at 0x1b1185c6670>"
      ]
     },
     "execution_count": 63,
     "metadata": {},
     "output_type": "execute_result"
    },
    {
     "data": {
      "image/png": "[encoded data removed]",
      "text/plain": [
       "<Figure size 790.775x360 with 2 Axes>"
      ]
     },
     "metadata": {},
     "output_type": "display_data"
    }
   ],
   "source": [
    "sns.relplot(data=data, \n",
    "            kind='line',\n",
    "            x=\"Inspect_Rate\", \n",
    "            y=\"value\", \n",
    "            hue='Source',\n",
    "            col='variable')"
   ]
  },
  {
   "cell_type": "code",
   "execution_count": 64,
   "metadata": {
    "ExecuteTime": {
     "end_time": "2021-03-09T06:06:51.777192Z",
     "start_time": "2021-03-09T06:06:51.705200Z"
    }
   },
   "outputs": [
    {
     "data": {
      "application/vnd.plotly.v1+json": {
       "config": {
        "plotlyServerURL": "https://plot.ly"
       },
       "data": [
        {
         "hovertemplate": "Source=DT<br>variable=Recall<br>Inspect_Rate=%{x}<br>value=%{y}<extra></extra>",
         "legendgroup": "DT",
         "line": {
          "color": "#636efa",
          "dash": "solid"
         },
         "mode": "lines",
         "name": "DT",
         "orientation": "v",
         "showlegend": true,
         "type": "scatter",
         "x": [
          100,
          99,
          98,
          97,
          96,
          95,
          94,
          93,
          92,
          91,
          90,
          89,
          88,
          87,
          86,
          85,
          84,
          83,
          82,
          81,
          80,
          79,
          78,
          77,
          76,
          75,
          74,
          73,
          72,
          71,
          70,
          69,
          68,
          67,
          66,
          65,
          64,
          63,
          62,
          61,
          60,
          59,
          58,
          57,
          56,
          55,
          54,
          53,
          52,
          51,
          50,
          49,
          48,
          47,
          46,
          45,
          44,
          43,
          42,
          41,
          40,
          39,
          38,
          37,
          36,
          35,
          34,
          33,
          32,
          31,
          30,
          29,
          28,
          27,
          26,
          25,
          24,
          23,
          22,
          21,
          20,
          19,
          18,
          17,
          16,
          15,
          14,
          13,
          12,
          11,
          10,
          9,
          8,
          7,
          6,
          5,
          4,
          3,
          2,
          1,
          0
         ],
         "xaxis": "x",
         "y": [
          0.941462426574843,
          0.941462426574843,
          0.941462426574843,
          0.941462426574843,
          0.941462426574843,
          0.941462426574843,
          0.941462426574843,
          0.941462426574843,
          0.941462426574843,
          0.941462426574843,
          0.941462426574843,
          0.941462426574843,
          0.941462426574843,
          0.941462426574843,
          0.941462426574843,
          0.941462426574843,
          0.941462426574843,
          0.9408547701033017,
          0.9408547701033017,
          0.9408547701033017,
          0.8999392343528458,
          0.8999392343528458,
          0.8946728782661535,
          0.8841401660927689,
          0.8841401660927689,
          0.8841401660927689,
          0.8811018837350618,
          0.8784687056917156,
          0.8699615150901358,
          0.8608466680170144,
          0.8385659307271622,
          0.8385659307271622,
          0.8385659307271622,
          0.8385659307271622,
          0.8385659307271622,
          0.8385659307271622,
          0.8326919181689285,
          0.8296536358112214,
          0.7139963540611708,
          0.7139963540611708,
          0.7139963540611708,
          0.7139963540611708,
          0.7139963540611708,
          0.7139963540611708,
          0.7139963540611708,
          0.7139963540611708,
          0.7139963540611708,
          0.7139963540611708,
          0.8264128012963338,
          0.7139963540611708,
          0.7139963540611708,
          0.7139963540611708,
          0.8264128012963338,
          0.7139963540611708,
          0.7139963540611708,
          0.65809195867936,
          0.65809195867936,
          0.65809195867936,
          0.65809195867936,
          0.65809195867936,
          0.65809195867936,
          0.65809195867936,
          0.65809195867936,
          0.65809195867936,
          0.39740733238809,
          0.39740733238809,
          0.39740733238809,
          0.39740733238809,
          0.39740733238809,
          0.39740733238809,
          0.39740733238809,
          0.39740733238809,
          0.39740733238809,
          0.39740733238809,
          0.39740733238809,
          0.39740733238809,
          0.39740733238809,
          0.39740733238809,
          0.39740733238809,
          0.39740733238809,
          0.39740733238809,
          0.39740733238809,
          0.39740733238809,
          0.39740733238809,
          0.39740733238809,
          0.39740733238809,
          0.3880899331577881,
          0.3591249746809804,
          0.3591249746809804,
          0.3591249746809804,
          0.3514279927081224,
          0.23860644115859836,
          0.23860644115859836,
          0.23860644115859836,
          0.23860644115859836,
          0.23860644115859836,
          0.23860644115859836,
          0.22847883329957466,
          0.09378164877455944,
          0.030382823577071092,
          0
         ],
         "yaxis": "y"
        },
        {
         "hovertemplate": "Source=DT<br>variable=Precision<br>Inspect_Rate=%{x}<br>value=%{y}<extra></extra>",
         "legendgroup": "DT",
         "line": {
          "color": "#636efa",
          "dash": "solid"
         },
         "mode": "lines",
         "name": "DT",
         "orientation": "v",
         "showlegend": false,
         "type": "scatter",
         "x": [
          100,
          99,
          98,
          97,
          96,
          95,
          94,
          93,
          92,
          91,
          90,
          89,
          88,
          87,
          86,
          85,
          84,
          83,
          82,
          81,
          80,
          79,
          78,
          77,
          76,
          75,
          74,
          73,
          72,
          71,
          70,
          69,
          68,
          67,
          66,
          65,
          64,
          63,
          62,
          61,
          60,
          59,
          58,
          57,
          56,
          55,
          54,
          53,
          52,
          51,
          50,
          49,
          48,
          47,
          46,
          45,
          44,
          43,
          42,
          41,
          40,
          39,
          38,
          37,
          36,
          35,
          34,
          33,
          32,
          31,
          30,
          29,
          28,
          27,
          26,
          25,
          24,
          23,
          22,
          21,
          20,
          19,
          18,
          17,
          16,
          15,
          14,
          13,
          12,
          11,
          10,
          9,
          8,
          7,
          6,
          5,
          4,
          3,
          2,
          1,
          0
         ],
         "xaxis": "x2",
         "y": [
          0.04129646741061909,
          0.04129646741061909,
          0.04129646741061909,
          0.04129646741061909,
          0.04129646741061909,
          0.04129646741061909,
          0.04129646741061909,
          0.04129646741061909,
          0.04129646741061909,
          0.04129646741061909,
          0.04129646741061909,
          0.04129646741061909,
          0.04129646741061909,
          0.04129646741061909,
          0.04129646741061909,
          0.04129646741061909,
          0.04129646741061909,
          0.04256508471780586,
          0.04256508471780586,
          0.04256508471780586,
          0.04208462390952232,
          0.04208462390952232,
          0.0423246454580299,
          0.043505561535701474,
          0.043505561535701474,
          0.043505561535701474,
          0.04357276652008855,
          0.04426865366949066,
          0.04442444740952203,
          0.044435150818129536,
          0.04738956742711278,
          0.04738956742711278,
          0.04738956742711278,
          0.04738956742711278,
          0.04738956742711278,
          0.04738956742711278,
          0.04759479015918958,
          0.04814914951392399,
          0.056962332142914865,
          0.056962332142914865,
          0.056962332142914865,
          0.056962332142914865,
          0.056962332142914865,
          0.056962332142914865,
          0.056962332142914865,
          0.056962332142914865,
          0.056962332142914865,
          0.056962332142914865,
          0.0483395139983176,
          0.056962332142914865,
          0.056962332142914865,
          0.056962332142914865,
          0.0483395139983176,
          0.056962332142914865,
          0.056962332142914865,
          0.06529865744834794,
          0.06529865744834794,
          0.06529865744834794,
          0.06529865744834794,
          0.06529865744834794,
          0.06529865744834794,
          0.06529865744834794,
          0.06529865744834794,
          0.06529865744834794,
          0.10241687111760714,
          0.10241687111760714,
          0.10241687111760714,
          0.10241687111760714,
          0.10241687111760714,
          0.10241687111760714,
          0.10241687111760714,
          0.10241687111760714,
          0.10241687111760714,
          0.10241687111760714,
          0.10241687111760714,
          0.10241687111760714,
          0.10241687111760714,
          0.10241687111760714,
          0.10241687111760714,
          0.10241687111760714,
          0.10241687111760714,
          0.10241687111760714,
          0.10241687111760714,
          0.10241687111760714,
          0.10241687111760714,
          0.10241687111760714,
          0.10382572883927604,
          0.12199821096814148,
          0.12199821096814148,
          0.12199821096814148,
          0.13773120584266094,
          0.2830370014416146,
          0.2830370014416146,
          0.2830370014416146,
          0.2830370014416146,
          0.2830370014416146,
          0.2830370014416146,
          0.2809464508094645,
          0.18050682261208575,
          0.14124293785310735,
          null
         ],
         "yaxis": "y2"
        },
        {
         "hovertemplate": "Source=XG<br>variable=Recall<br>Inspect_Rate=%{x}<br>value=%{y}<extra></extra>",
         "legendgroup": "XG",
         "line": {
          "color": "#EF553B",
          "dash": "solid"
         },
         "mode": "lines",
         "name": "XG",
         "orientation": "v",
         "showlegend": true,
         "type": "scatter",
         "x": [
          100,
          99,
          98,
          97,
          96,
          95,
          94,
          93,
          92,
          91,
          90,
          89,
          88,
          87,
          86,
          85,
          84,
          83,
          82,
          81,
          80,
          79,
          78,
          77,
          76,
          75,
          74,
          73,
          72,
          71,
          70,
          69,
          68,
          67,
          66,
          65,
          64,
          63,
          62,
          61,
          60,
          59,
          58,
          57,
          56,
          55,
          54,
          53,
          52,
          51,
          50,
          49,
          48,
          47,
          46,
          45,
          44,
          43,
          42,
          41,
          40,
          39,
          38,
          37,
          36,
          35,
          34,
          33,
          32,
          31,
          30,
          29,
          28,
          27,
          26,
          25,
          24,
          23,
          22,
          21,
          20,
          19,
          18,
          17,
          16,
          15,
          14,
          13,
          12,
          11,
          10,
          9,
          8,
          7,
          6,
          5,
          4,
          3,
          2,
          1,
          0
         ],
         "xaxis": "x",
         "y": [
          1,
          0.9985821348997367,
          0.996556613327932,
          0.9947336439133077,
          0.9935183309702248,
          0.9916953615556006,
          0.988454527040713,
          0.9839983795827426,
          0.9823779623252987,
          0.9799473364391331,
          0.9783269191816892,
          0.9767065019242455,
          0.9750860846668017,
          0.9724529066234555,
          0.9690095199513875,
          0.9643508203362365,
          0.9613125379785294,
          0.9548308689487544,
          0.9483491999189791,
          0.9436905003038283,
          0.9378164877455945,
          0.9282965363581123,
          0.9224225237998784,
          0.9177638241847276,
          0.9110796029977719,
          0.9054081425967186,
          0.8950779825805145,
          0.8879886570791979,
          0.8831274053068665,
          0.8732023496050233,
          0.864492606846263,
          0.8592262507595706,
          0.8529471338869759,
          0.8472756734859226,
          0.8389710350415231,
          0.832084261697387,
          0.8254000405104315,
          0.8181081628519343,
          0.8102086287218959,
          0.8035244075349403,
          0.7964350820336237,
          0.7887381000607656,
          0.7826615353453514,
          0.7767875227871177,
          0.7682803321855378,
          0.7607859023698602,
          0.7528863682398218,
          0.747012355681588,
          0.7415434474377152,
          0.7358719870366619,
          0.7287826615353453,
          0.7227060968199311,
          0.7164269799473364,
          0.7115657281750051,
          0.7048815069880494,
          0.6961717642292891,
          0.688474782256431,
          0.6836135304840997,
          0.6747012355681588,
          0.6690297751671055,
          0.6617378975086085,
          0.6554587806360138,
          0.6483694551346972,
          0.6398622645331172,
          0.6311525217743569,
          0.6220376747012356,
          0.6157585578286409,
          0.6056309499696172,
          0.5983390723111202,
          0.5922625075957059,
          0.5851731820943893,
          0.5744379177638241,
          0.5671460401053271,
          0.5584362973465667,
          0.5499291067449869,
          0.5430423334008507,
          0.5323070690702856,
          0.5242049827830666,
          0.5120518533522382,
          0.5033421105934778,
          0.4964553372493417,
          0.48531496860441564,
          0.47721288231719666,
          0.467085274458173,
          0.4585780838565931,
          0.44784281952602795,
          0.4403483897103504,
          0.4304233340085072,
          0.4194855175207616,
          0.4087502531901965,
          0.39781243670245087,
          0.38869758962932954,
          0.3767470123556816,
          0.36216325703868746,
          0.34737694956451287,
          0.33279319424751874,
          0.3135507393153737,
          0.2839781243670245,
          0.23050435487137938,
          0.13530484099655662,
          0
         ],
         "yaxis": "y"
        },
        {
         "hovertemplate": "Source=XG<br>variable=Precision<br>Inspect_Rate=%{x}<br>value=%{y}<extra></extra>",
         "legendgroup": "XG",
         "line": {
          "color": "#EF553B",
          "dash": "solid"
         },
         "mode": "lines",
         "name": "XG",
         "orientation": "v",
         "showlegend": false,
         "type": "scatter",
         "x": [
          100,
          99,
          98,
          97,
          96,
          95,
          94,
          93,
          92,
          91,
          90,
          89,
          88,
          87,
          86,
          85,
          84,
          83,
          82,
          81,
          80,
          79,
          78,
          77,
          76,
          75,
          74,
          73,
          72,
          71,
          70,
          69,
          68,
          67,
          66,
          65,
          64,
          63,
          62,
          61,
          60,
          59,
          58,
          57,
          56,
          55,
          54,
          53,
          52,
          51,
          50,
          49,
          48,
          47,
          46,
          45,
          44,
          43,
          42,
          41,
          40,
          39,
          38,
          37,
          36,
          35,
          34,
          33,
          32,
          31,
          30,
          29,
          28,
          27,
          26,
          25,
          24,
          23,
          22,
          21,
          20,
          19,
          18,
          17,
          16,
          15,
          14,
          13,
          12,
          11,
          10,
          9,
          8,
          7,
          6,
          5,
          4,
          3,
          2,
          1,
          0
         ],
         "xaxis": "x2",
         "y": [
          0.03653545870982543,
          0.036852098252328484,
          0.03715591133934977,
          0.03746681314657146,
          0.03781104498782029,
          0.03813886097543876,
          0.03841854166994694,
          0.03865679955438848,
          0.03901254031966152,
          0.03934356905861688,
          0.03971484249734823,
          0.04009479067060242,
          0.04048439996636111,
          0.04083767852130347,
          0.04116649886843758,
          0.04145046143130768,
          0.04181166251134271,
          0.0420299934021648,
          0.042254029565186,
          0.042565437851171714,
          0.04282912750684526,
          0.042931279976019185,
          0.043206421191449795,
          0.043546371936568955,
          0.04379789481883952,
          0.04410589361303245,
          0.04419176767070683,
          0.04444219169750114,
          0.04481355095999671,
          0.044933397260845095,
          0.04512057172458268,
          0.045495495495495496,
          0.04582752916594115,
          0.04620210521665175,
          0.046442787464259686,
          0.046773238602723505,
          0.04712181132773653,
          0.04744396936522107,
          0.047744091668656,
          0.04812626624125005,
          0.04849650953402896,
          0.048841672206404355,
          0.04930143540669856,
          0.04979096881410506,
          0.05012355794008431,
          0.050537533133300144,
          0.05093874194874606,
          0.0514947150895712,
          0.05210052940171913,
          0.05271635033954379,
          0.0532524235920965,
          0.05388588516023802,
          0.05453115845949863,
          0.05531325282234573,
          0.055984555984555984,
          0.056521238632439276,
          0.057167364650083256,
          0.05808350256427908,
          0.0587063799788509,
          0.05961771023229789,
          0.060441796788277956,
          0.06140300943056109,
          0.06233690360272639,
          0.06318631863186319,
          0.0640532818056612,
          0.0649314952638701,
          0.0661689484796378,
          0.06705088242549279,
          0.06831321400490264,
          0.06982353081643862,
          0.07126470805890624,
          0.07236909257936103,
          0.07400163860771203,
          0.07556530080855146,
          0.07727557351852907,
          0.07935944113903443,
          0.08103357898307176,
          0.08326898326898327,
          0.08503481449090114,
          0.08758017903714668,
          0.090690446236957,
          0.09332035053554041,
          0.0968590692320342,
          0.10038307504788438,
          0.10471301049905185,
          0.10907745436605822,
          0.11491093609598815,
          0.12098610794807561,
          0.12771336951159348,
          0.13575512949882274,
          0.14534152297787317,
          0.15778654826508798,
          0.1720469891776894,
          0.18924640135478407,
          0.21151948692649236,
          0.2431552464111292,
          0.28634850166481685,
          0.34583127775037,
          0.4210136884942656,
          0.4940828402366864,
          null
         ],
         "yaxis": "y2"
        }
       ],
       "layout": {
        "annotations": [
         {
          "font": {},
          "showarrow": false,
          "text": "variable=Recall",
          "x": 0.245,
          "xanchor": "center",
          "xref": "paper",
          "y": 1,
          "yanchor": "bottom",
          "yref": "paper"
         },
         {
          "font": {},
          "showarrow": false,
          "text": "variable=Precision",
          "x": 0.755,
          "xanchor": "center",
          "xref": "paper",
          "y": 1,
          "yanchor": "bottom",
          "yref": "paper"
         }
        ],
        "legend": {
         "title": {
          "text": "Source"
         },
         "tracegroupgap": 0
        },
        "margin": {
         "t": 60
        },
        "template": {
         "data": {
          "bar": [
           {
            "error_x": {
             "color": "#2a3f5f"
            },
            "error_y": {
             "color": "#2a3f5f"
            },
            "marker": {
             "line": {
              "color": "#E5ECF6",
              "width": 0.5
             }
            },
            "type": "bar"
           }
          ],
          "barpolar": [
           {
            "marker": {
             "line": {
              "color": "#E5ECF6",
              "width": 0.5
             }
            },
            "type": "barpolar"
           }
          ],
          "carpet": [
           {
            "aaxis": {
             "endlinecolor": "#2a3f5f",
             "gridcolor": "white",
             "linecolor": "white",
             "minorgridcolor": "white",
             "startlinecolor": "#2a3f5f"
            },
            "baxis": {
             "endlinecolor": "#2a3f5f",
             "gridcolor": "white",
             "linecolor": "white",
             "minorgridcolor": "white",
             "startlinecolor": "#2a3f5f"
            },
            "type": "carpet"
           }
          ],
          "choropleth": [
           {
            "colorbar": {
             "outlinewidth": 0,
             "ticks": ""
            },
            "type": "choropleth"
           }
          ],
          "contour": [
           {
            "colorbar": {
             "outlinewidth": 0,
             "ticks": ""
            },
            "colorscale": [
             [
              0,
              "#0d0887"
             ],
             [
              0.1111111111111111,
              "#46039f"
             ],
             [
              0.2222222222222222,
              "#7201a8"
             ],
             [
              0.3333333333333333,
              "#9c179e"
             ],
             [
              0.4444444444444444,
              "#bd3786"
             ],
             [
              0.5555555555555556,
              "#d8576b"
             ],
             [
              0.6666666666666666,
              "#ed7953"
             ],
             [
              0.7777777777777778,
              "#fb9f3a"
             ],
             [
              0.8888888888888888,
              "#fdca26"
             ],
             [
              1,
              "#f0f921"
             ]
            ],
            "type": "contour"
           }
          ],
          "contourcarpet": [
           {
            "colorbar": {
             "outlinewidth": 0,
             "ticks": ""
            },
            "type": "contourcarpet"
           }
          ],
          "heatmap": [
           {
            "colorbar": {
             "outlinewidth": 0,
             "ticks": ""
            },
            "colorscale": [
             [
              0,
              "#0d0887"
             ],
             [
              0.1111111111111111,
              "#46039f"
             ],
             [
              0.2222222222222222,
              "#7201a8"
             ],
             [
              0.3333333333333333,
              "#9c179e"
             ],
             [
              0.4444444444444444,
              "#bd3786"
             ],
             [
              0.5555555555555556,
              "#d8576b"
             ],
             [
              0.6666666666666666,
              "#ed7953"
             ],
             [
              0.7777777777777778,
              "#fb9f3a"
             ],
             [
              0.8888888888888888,
              "#fdca26"
             ],
             [
              1,
              "#f0f921"
             ]
            ],
            "type": "heatmap"
           }
          ],
          "heatmapgl": [
           {
            "colorbar": {
             "outlinewidth": 0,
             "ticks": ""
            },
            "colorscale": [
             [
              0,
              "#0d0887"
             ],
             [
              0.1111111111111111,
              "#46039f"
             ],
             [
              0.2222222222222222,
              "#7201a8"
             ],
             [
              0.3333333333333333,
              "#9c179e"
             ],
             [
              0.4444444444444444,
              "#bd3786"
             ],
             [
              0.5555555555555556,
              "#d8576b"
             ],
             [
              0.6666666666666666,
              "#ed7953"
             ],
             [
              0.7777777777777778,
              "#fb9f3a"
             ],
             [
              0.8888888888888888,
              "#fdca26"
             ],
             [
              1,
              "#f0f921"
             ]
            ],
            "type": "heatmapgl"
           }
          ],
          "histogram": [
           {
            "marker": {
             "colorbar": {
              "outlinewidth": 0,
              "ticks": ""
             }
            },
            "type": "histogram"
           }
          ],
          "histogram2d": [
           {
            "colorbar": {
             "outlinewidth": 0,
             "ticks": ""
            },
            "colorscale": [
             [
              0,
              "#0d0887"
             ],
             [
              0.1111111111111111,
              "#46039f"
             ],
             [
              0.2222222222222222,
              "#7201a8"
             ],
             [
              0.3333333333333333,
              "#9c179e"
             ],
             [
              0.4444444444444444,
              "#bd3786"
             ],
             [
              0.5555555555555556,
              "#d8576b"
             ],
             [
              0.6666666666666666,
              "#ed7953"
             ],
             [
              0.7777777777777778,
              "#fb9f3a"
             ],
             [
              0.8888888888888888,
              "#fdca26"
             ],
             [
              1,
              "#f0f921"
             ]
            ],
            "type": "histogram2d"
           }
          ],
          "histogram2dcontour": [
           {
            "colorbar": {
             "outlinewidth": 0,
             "ticks": ""
            },
            "colorscale": [
             [
              0,
              "#0d0887"
             ],
             [
              0.1111111111111111,
              "#46039f"
             ],
             [
              0.2222222222222222,
              "#7201a8"
             ],
             [
              0.3333333333333333,
              "#9c179e"
             ],
             [
              0.4444444444444444,
              "#bd3786"
             ],
             [
              0.5555555555555556,
              "#d8576b"
             ],
             [
              0.6666666666666666,
              "#ed7953"
             ],
             [
              0.7777777777777778,
              "#fb9f3a"
             ],
             [
              0.8888888888888888,
              "#fdca26"
             ],
             [
              1,
              "#f0f921"
             ]
            ],
            "type": "histogram2dcontour"
           }
          ],
          "mesh3d": [
           {
            "colorbar": {
             "outlinewidth": 0,
             "ticks": ""
            },
            "type": "mesh3d"
           }
          ],
          "parcoords": [
           {
            "line": {
             "colorbar": {
              "outlinewidth": 0,
              "ticks": ""
             }
            },
            "type": "parcoords"
           }
          ],
          "pie": [
           {
            "automargin": true,
            "type": "pie"
           }
          ],
          "scatter": [
           {
            "marker": {
             "colorbar": {
              "outlinewidth": 0,
              "ticks": ""
             }
            },
            "type": "scatter"
           }
          ],
          "scatter3d": [
           {
            "line": {
             "colorbar": {
              "outlinewidth": 0,
              "ticks": ""
             }
            },
            "marker": {
             "colorbar": {
              "outlinewidth": 0,
              "ticks": ""
             }
            },
            "type": "scatter3d"
           }
          ],
          "scattercarpet": [
           {
            "marker": {
             "colorbar": {
              "outlinewidth": 0,
              "ticks": ""
             }
            },
            "type": "scattercarpet"
           }
          ],
          "scattergeo": [
           {
            "marker": {
             "colorbar": {
              "outlinewidth": 0,
              "ticks": ""
             }
            },
            "type": "scattergeo"
           }
          ],
          "scattergl": [
           {
            "marker": {
             "colorbar": {
              "outlinewidth": 0,
              "ticks": ""
             }
            },
            "type": "scattergl"
           }
          ],
          "scattermapbox": [
           {
            "marker": {
             "colorbar": {
              "outlinewidth": 0,
              "ticks": ""
             }
            },
            "type": "scattermapbox"
           }
          ],
          "scatterpolar": [
           {
            "marker": {
             "colorbar": {
              "outlinewidth": 0,
              "ticks": ""
             }
            },
            "type": "scatterpolar"
           }
          ],
          "scatterpolargl": [
           {
            "marker": {
             "colorbar": {
              "outlinewidth": 0,
              "ticks": ""
             }
            },
            "type": "scatterpolargl"
           }
          ],
          "scatterternary": [
           {
            "marker": {
             "colorbar": {
              "outlinewidth": 0,
              "ticks": ""
             }
            },
            "type": "scatterternary"
           }
          ],
          "surface": [
           {
            "colorbar": {
             "outlinewidth": 0,
             "ticks": ""
            },
            "colorscale": [
             [
              0,
              "#0d0887"
             ],
             [
              0.1111111111111111,
              "#46039f"
             ],
             [
              0.2222222222222222,
              "#7201a8"
             ],
             [
              0.3333333333333333,
              "#9c179e"
             ],
             [
              0.4444444444444444,
              "#bd3786"
             ],
             [
              0.5555555555555556,
              "#d8576b"
             ],
             [
              0.6666666666666666,
              "#ed7953"
             ],
             [
              0.7777777777777778,
              "#fb9f3a"
             ],
             [
              0.8888888888888888,
              "#fdca26"
             ],
             [
              1,
              "#f0f921"
             ]
            ],
            "type": "surface"
           }
          ],
          "table": [
           {
            "cells": {
             "fill": {
              "color": "#EBF0F8"
             },
             "line": {
              "color": "white"
             }
            },
            "header": {
             "fill": {
              "color": "#C8D4E3"
             },
             "line": {
              "color": "white"
             }
            },
            "type": "table"
           }
          ]
         },
         "layout": {
          "annotationdefaults": {
           "arrowcolor": "#2a3f5f",
           "arrowhead": 0,
           "arrowwidth": 1
          },
          "autotypenumbers": "strict",
          "coloraxis": {
           "colorbar": {
            "outlinewidth": 0,
            "ticks": ""
           }
          },
          "colorscale": {
           "diverging": [
            [
             0,
             "#8e0152"
            ],
            [
             0.1,
             "#c51b7d"
            ],
            [
             0.2,
             "#de77ae"
            ],
            [
             0.3,
             "#f1b6da"
            ],
            [
             0.4,
             "#fde0ef"
            ],
            [
             0.5,
             "#f7f7f7"
            ],
            [
             0.6,
             "#e6f5d0"
            ],
            [
             0.7,
             "#b8e186"
            ],
            [
             0.8,
             "#7fbc41"
            ],
            [
             0.9,
             "#4d9221"
            ],
            [
             1,
             "#276419"
            ]
           ],
           "sequential": [
            [
             0,
             "#0d0887"
            ],
            [
             0.1111111111111111,
             "#46039f"
            ],
            [
             0.2222222222222222,
             "#7201a8"
            ],
            [
             0.3333333333333333,
             "#9c179e"
            ],
            [
             0.4444444444444444,
             "#bd3786"
            ],
            [
             0.5555555555555556,
             "#d8576b"
            ],
            [
             0.6666666666666666,
             "#ed7953"
            ],
            [
             0.7777777777777778,
             "#fb9f3a"
            ],
            [
             0.8888888888888888,
             "#fdca26"
            ],
            [
             1,
             "#f0f921"
            ]
           ],
           "sequentialminus": [
            [
             0,
             "#0d0887"
            ],
            [
             0.1111111111111111,
             "#46039f"
            ],
            [
             0.2222222222222222,
             "#7201a8"
            ],
            [
             0.3333333333333333,
             "#9c179e"
            ],
            [
             0.4444444444444444,
             "#bd3786"
            ],
            [
             0.5555555555555556,
             "#d8576b"
            ],
            [
             0.6666666666666666,
             "#ed7953"
            ],
            [
             0.7777777777777778,
             "#fb9f3a"
            ],
            [
             0.8888888888888888,
             "#fdca26"
            ],
            [
             1,
             "#f0f921"
            ]
           ]
          },
          "colorway": [
           "#636efa",
           "#EF553B",
           "#00cc96",
           "#ab63fa",
           "#FFA15A",
           "#19d3f3",
           "#FF6692",
           "#B6E880",
           "#FF97FF",
           "#FECB52"
          ],
          "font": {
           "color": "#2a3f5f"
          },
          "geo": {
           "bgcolor": "white",
           "lakecolor": "white",
           "landcolor": "#E5ECF6",
           "showlakes": true,
           "showland": true,
           "subunitcolor": "white"
          },
          "hoverlabel": {
           "align": "left"
          },
          "hovermode": "closest",
          "mapbox": {
           "style": "light"
          },
          "paper_bgcolor": "white",
          "plot_bgcolor": "#E5ECF6",
          "polar": {
           "angularaxis": {
            "gridcolor": "white",
            "linecolor": "white",
            "ticks": ""
           },
           "bgcolor": "#E5ECF6",
           "radialaxis": {
            "gridcolor": "white",
            "linecolor": "white",
            "ticks": ""
           }
          },
          "scene": {
           "xaxis": {
            "backgroundcolor": "#E5ECF6",
            "gridcolor": "white",
            "gridwidth": 2,
            "linecolor": "white",
            "showbackground": true,
            "ticks": "",
            "zerolinecolor": "white"
           },
           "yaxis": {
            "backgroundcolor": "#E5ECF6",
            "gridcolor": "white",
            "gridwidth": 2,
            "linecolor": "white",
            "showbackground": true,
            "ticks": "",
            "zerolinecolor": "white"
           },
           "zaxis": {
            "backgroundcolor": "#E5ECF6",
            "gridcolor": "white",
            "gridwidth": 2,
            "linecolor": "white",
            "showbackground": true,
            "ticks": "",
            "zerolinecolor": "white"
           }
          },
          "shapedefaults": {
           "line": {
            "color": "#2a3f5f"
           }
          },
          "ternary": {
           "aaxis": {
            "gridcolor": "white",
            "linecolor": "white",
            "ticks": ""
           },
           "baxis": {
            "gridcolor": "white",
            "linecolor": "white",
            "ticks": ""
           },
           "bgcolor": "#E5ECF6",
           "caxis": {
            "gridcolor": "white",
            "linecolor": "white",
            "ticks": ""
           }
          },
          "title": {
           "x": 0.05
          },
          "xaxis": {
           "automargin": true,
           "gridcolor": "white",
           "linecolor": "white",
           "ticks": "",
           "title": {
            "standoff": 15
           },
           "zerolinecolor": "white",
           "zerolinewidth": 2
          },
          "yaxis": {
           "automargin": true,
           "gridcolor": "white",
           "linecolor": "white",
           "ticks": "",
           "title": {
            "standoff": 15
           },
           "zerolinecolor": "white",
           "zerolinewidth": 2
          }
         }
        },
        "xaxis": {
         "anchor": "y",
         "domain": [
          0,
          0.49
         ],
         "title": {
          "text": "Inspect_Rate"
         }
        },
        "xaxis2": {
         "anchor": "y2",
         "domain": [
          0.51,
          1
         ],
         "matches": "x",
         "title": {
          "text": "Inspect_Rate"
         }
        },
        "yaxis": {
         "anchor": "x",
         "domain": [
          0,
          1
         ],
         "title": {
          "text": "value"
         }
        },
        "yaxis2": {
         "anchor": "x2",
         "domain": [
          0,
          1
         ],
         "matches": "y",
         "showticklabels": false
        }
       }
      },
      "text/html": [
       "<div>                            <div id=\"cdebe4ff-625d-483e-ab15-ff2940d2ab67\" class=\"plotly-graph-div\" style=\"height:525px; width:100%;\"></div>            <script type=\"text/javascript\">                require([\"plotly\"], function(Plotly) {                    window.PLOTLYENV=window.PLOTLYENV || {};                                    if (document.getElementById(\"cdebe4ff-625d-483e-ab15-ff2940d2ab67\")) {                    Plotly.newPlot(                        \"cdebe4ff-625d-483e-ab15-ff2940d2ab67\",                        [{\"hovertemplate\": \"Source=DT<br>variable=Recall<br>Inspect_Rate=%{x}<br>value=%{y}<extra></extra>\", \"legendgroup\": \"DT\", \"line\": {\"color\": \"#636efa\", \"dash\": \"solid\"}, \"mode\": \"lines\", \"name\": \"DT\", \"orientation\": \"v\", \"showlegend\": true, \"type\": \"scatter\", \"x\": [100, 99, 98, 97, 96, 95, 94, 93, 92, 91, 90, 89, 88, 87, 86, 85, 84, 83, 82, 81, 80, 79, 78, 77, 76, 75, 74, 73, 72, 71, 70, 69, 68, 67, 66, 65, 64, 63, 62, 61, 60, 59, 58, 57, 56, 55, 54, 53, 52, 51, 50, 49, 48, 47, 46, 45, 44, 43, 42, 41, 40, 39, 38, 37, 36, 35, 34, 33, 32, 31, 30, 29, 28, 27, 26, 25, 24, 23, 22, 21, 20, 19, 18, 17, 16, 15, 14, 13, 12, 11, 10, 9, 8, 7, 6, 5, 4, 3, 2, 1, 0], \"xaxis\": \"x\", \"y\": [0.941462426574843, 0.941462426574843, 0.941462426574843, 0.941462426574843, 0.941462426574843, 0.941462426574843, 0.941462426574843, 0.941462426574843, 0.941462426574843, 0.941462426574843, 0.941462426574843, 0.941462426574843, 0.941462426574843, 0.941462426574843, 0.941462426574843, 0.941462426574843, 0.941462426574843, 0.9408547701033017, 0.9408547701033017, 0.9408547701033017, 0.8999392343528458, 0.8999392343528458, 0.8946728782661535, 0.8841401660927689, 0.8841401660927689, 0.8841401660927689, 0.8811018837350618, 0.8784687056917156, 0.8699615150901358, 0.8608466680170144, 0.8385659307271622, 0.8385659307271622, 0.8385659307271622, 0.8385659307271622, 0.8385659307271622, 0.8385659307271622, 0.8326919181689285, 0.8296536358112214, 0.7139963540611708, 0.7139963540611708, 0.7139963540611708, 0.7139963540611708, 0.7139963540611708, 0.7139963540611708, 0.7139963540611708, 0.7139963540611708, 0.7139963540611708, 0.7139963540611708, 0.8264128012963338, 0.7139963540611708, 0.7139963540611708, 0.7139963540611708, 0.8264128012963338, 0.7139963540611708, 0.7139963540611708, 0.65809195867936, 0.65809195867936, 0.65809195867936, 0.65809195867936, 0.65809195867936, 0.65809195867936, 0.65809195867936, 0.65809195867936, 0.65809195867936, 0.39740733238809, 0.39740733238809, 0.39740733238809, 0.39740733238809, 0.39740733238809, 0.39740733238809, 0.39740733238809, 0.39740733238809, 0.39740733238809, 0.39740733238809, 0.39740733238809, 0.39740733238809, 0.39740733238809, 0.39740733238809, 0.39740733238809, 0.39740733238809, 0.39740733238809, 0.39740733238809, 0.39740733238809, 0.39740733238809, 0.39740733238809, 0.39740733238809, 0.3880899331577881, 0.3591249746809804, 0.3591249746809804, 0.3591249746809804, 0.3514279927081224, 0.23860644115859836, 0.23860644115859836, 0.23860644115859836, 0.23860644115859836, 0.23860644115859836, 0.23860644115859836, 0.22847883329957466, 0.09378164877455944, 0.030382823577071092, 0.0], \"yaxis\": \"y\"}, {\"hovertemplate\": \"Source=DT<br>variable=Precision<br>Inspect_Rate=%{x}<br>value=%{y}<extra></extra>\", \"legendgroup\": \"DT\", \"line\": {\"color\": \"#636efa\", \"dash\": \"solid\"}, \"mode\": \"lines\", \"name\": \"DT\", \"orientation\": \"v\", \"showlegend\": false, \"type\": \"scatter\", \"x\": [100, 99, 98, 97, 96, 95, 94, 93, 92, 91, 90, 89, 88, 87, 86, 85, 84, 83, 82, 81, 80, 79, 78, 77, 76, 75, 74, 73, 72, 71, 70, 69, 68, 67, 66, 65, 64, 63, 62, 61, 60, 59, 58, 57, 56, 55, 54, 53, 52, 51, 50, 49, 48, 47, 46, 45, 44, 43, 42, 41, 40, 39, 38, 37, 36, 35, 34, 33, 32, 31, 30, 29, 28, 27, 26, 25, 24, 23, 22, 21, 20, 19, 18, 17, 16, 15, 14, 13, 12, 11, 10, 9, 8, 7, 6, 5, 4, 3, 2, 1, 0], \"xaxis\": \"x2\", \"y\": [0.04129646741061909, 0.04129646741061909, 0.04129646741061909, 0.04129646741061909, 0.04129646741061909, 0.04129646741061909, 0.04129646741061909, 0.04129646741061909, 0.04129646741061909, 0.04129646741061909, 0.04129646741061909, 0.04129646741061909, 0.04129646741061909, 0.04129646741061909, 0.04129646741061909, 0.04129646741061909, 0.04129646741061909, 0.04256508471780586, 0.04256508471780586, 0.04256508471780586, 0.04208462390952232, 0.04208462390952232, 0.0423246454580299, 0.043505561535701474, 0.043505561535701474, 0.043505561535701474, 0.04357276652008855, 0.04426865366949066, 0.04442444740952203, 0.044435150818129536, 0.04738956742711278, 0.04738956742711278, 0.04738956742711278, 0.04738956742711278, 0.04738956742711278, 0.04738956742711278, 0.04759479015918958, 0.04814914951392399, 0.056962332142914865, 0.056962332142914865, 0.056962332142914865, 0.056962332142914865, 0.056962332142914865, 0.056962332142914865, 0.056962332142914865, 0.056962332142914865, 0.056962332142914865, 0.056962332142914865, 0.0483395139983176, 0.056962332142914865, 0.056962332142914865, 0.056962332142914865, 0.0483395139983176, 0.056962332142914865, 0.056962332142914865, 0.06529865744834794, 0.06529865744834794, 0.06529865744834794, 0.06529865744834794, 0.06529865744834794, 0.06529865744834794, 0.06529865744834794, 0.06529865744834794, 0.06529865744834794, 0.10241687111760714, 0.10241687111760714, 0.10241687111760714, 0.10241687111760714, 0.10241687111760714, 0.10241687111760714, 0.10241687111760714, 0.10241687111760714, 0.10241687111760714, 0.10241687111760714, 0.10241687111760714, 0.10241687111760714, 0.10241687111760714, 0.10241687111760714, 0.10241687111760714, 0.10241687111760714, 0.10241687111760714, 0.10241687111760714, 0.10241687111760714, 0.10241687111760714, 0.10241687111760714, 0.10241687111760714, 0.10382572883927604, 0.12199821096814148, 0.12199821096814148, 0.12199821096814148, 0.13773120584266094, 0.2830370014416146, 0.2830370014416146, 0.2830370014416146, 0.2830370014416146, 0.2830370014416146, 0.2830370014416146, 0.2809464508094645, 0.18050682261208575, 0.14124293785310735, null], \"yaxis\": \"y2\"}, {\"hovertemplate\": \"Source=XG<br>variable=Recall<br>Inspect_Rate=%{x}<br>value=%{y}<extra></extra>\", \"legendgroup\": \"XG\", \"line\": {\"color\": \"#EF553B\", \"dash\": \"solid\"}, \"mode\": \"lines\", \"name\": \"XG\", \"orientation\": \"v\", \"showlegend\": true, \"type\": \"scatter\", \"x\": [100, 99, 98, 97, 96, 95, 94, 93, 92, 91, 90, 89, 88, 87, 86, 85, 84, 83, 82, 81, 80, 79, 78, 77, 76, 75, 74, 73, 72, 71, 70, 69, 68, 67, 66, 65, 64, 63, 62, 61, 60, 59, 58, 57, 56, 55, 54, 53, 52, 51, 50, 49, 48, 47, 46, 45, 44, 43, 42, 41, 40, 39, 38, 37, 36, 35, 34, 33, 32, 31, 30, 29, 28, 27, 26, 25, 24, 23, 22, 21, 20, 19, 18, 17, 16, 15, 14, 13, 12, 11, 10, 9, 8, 7, 6, 5, 4, 3, 2, 1, 0], \"xaxis\": \"x\", \"y\": [1.0, 0.9985821348997367, 0.996556613327932, 0.9947336439133077, 0.9935183309702248, 0.9916953615556006, 0.988454527040713, 0.9839983795827426, 0.9823779623252987, 0.9799473364391331, 0.9783269191816892, 0.9767065019242455, 0.9750860846668017, 0.9724529066234555, 0.9690095199513875, 0.9643508203362365, 0.9613125379785294, 0.9548308689487544, 0.9483491999189791, 0.9436905003038283, 0.9378164877455945, 0.9282965363581123, 0.9224225237998784, 0.9177638241847276, 0.9110796029977719, 0.9054081425967186, 0.8950779825805145, 0.8879886570791979, 0.8831274053068665, 0.8732023496050233, 0.864492606846263, 0.8592262507595706, 0.8529471338869759, 0.8472756734859226, 0.8389710350415231, 0.832084261697387, 0.8254000405104315, 0.8181081628519343, 0.8102086287218959, 0.8035244075349403, 0.7964350820336237, 0.7887381000607656, 0.7826615353453514, 0.7767875227871177, 0.7682803321855378, 0.7607859023698602, 0.7528863682398218, 0.747012355681588, 0.7415434474377152, 0.7358719870366619, 0.7287826615353453, 0.7227060968199311, 0.7164269799473364, 0.7115657281750051, 0.7048815069880494, 0.6961717642292891, 0.688474782256431, 0.6836135304840997, 0.6747012355681588, 0.6690297751671055, 0.6617378975086085, 0.6554587806360138, 0.6483694551346972, 0.6398622645331172, 0.6311525217743569, 0.6220376747012356, 0.6157585578286409, 0.6056309499696172, 0.5983390723111202, 0.5922625075957059, 0.5851731820943893, 0.5744379177638241, 0.5671460401053271, 0.5584362973465667, 0.5499291067449869, 0.5430423334008507, 0.5323070690702856, 0.5242049827830666, 0.5120518533522382, 0.5033421105934778, 0.4964553372493417, 0.48531496860441564, 0.47721288231719666, 0.467085274458173, 0.4585780838565931, 0.44784281952602795, 0.4403483897103504, 0.4304233340085072, 0.4194855175207616, 0.4087502531901965, 0.39781243670245087, 0.38869758962932954, 0.3767470123556816, 0.36216325703868746, 0.34737694956451287, 0.33279319424751874, 0.3135507393153737, 0.2839781243670245, 0.23050435487137938, 0.13530484099655662, 0.0], \"yaxis\": \"y\"}, {\"hovertemplate\": \"Source=XG<br>variable=Precision<br>Inspect_Rate=%{x}<br>value=%{y}<extra></extra>\", \"legendgroup\": \"XG\", \"line\": {\"color\": \"#EF553B\", \"dash\": \"solid\"}, \"mode\": \"lines\", \"name\": \"XG\", \"orientation\": \"v\", \"showlegend\": false, \"type\": \"scatter\", \"x\": [100, 99, 98, 97, 96, 95, 94, 93, 92, 91, 90, 89, 88, 87, 86, 85, 84, 83, 82, 81, 80, 79, 78, 77, 76, 75, 74, 73, 72, 71, 70, 69, 68, 67, 66, 65, 64, 63, 62, 61, 60, 59, 58, 57, 56, 55, 54, 53, 52, 51, 50, 49, 48, 47, 46, 45, 44, 43, 42, 41, 40, 39, 38, 37, 36, 35, 34, 33, 32, 31, 30, 29, 28, 27, 26, 25, 24, 23, 22, 21, 20, 19, 18, 17, 16, 15, 14, 13, 12, 11, 10, 9, 8, 7, 6, 5, 4, 3, 2, 1, 0], \"xaxis\": \"x2\", \"y\": [0.03653545870982543, 0.036852098252328484, 0.03715591133934977, 0.03746681314657146, 0.03781104498782029, 0.03813886097543876, 0.03841854166994694, 0.03865679955438848, 0.03901254031966152, 0.03934356905861688, 0.03971484249734823, 0.04009479067060242, 0.04048439996636111, 0.04083767852130347, 0.04116649886843758, 0.04145046143130768, 0.04181166251134271, 0.0420299934021648, 0.042254029565186, 0.042565437851171714, 0.04282912750684526, 0.042931279976019185, 0.043206421191449795, 0.043546371936568955, 0.04379789481883952, 0.04410589361303245, 0.04419176767070683, 0.04444219169750114, 0.04481355095999671, 0.044933397260845095, 0.04512057172458268, 0.045495495495495496, 0.04582752916594115, 0.04620210521665175, 0.046442787464259686, 0.046773238602723505, 0.04712181132773653, 0.04744396936522107, 0.047744091668656, 0.04812626624125005, 0.04849650953402896, 0.048841672206404355, 0.04930143540669856, 0.04979096881410506, 0.05012355794008431, 0.050537533133300144, 0.05093874194874606, 0.0514947150895712, 0.05210052940171913, 0.05271635033954379, 0.0532524235920965, 0.05388588516023802, 0.05453115845949863, 0.05531325282234573, 0.055984555984555984, 0.056521238632439276, 0.057167364650083256, 0.05808350256427908, 0.0587063799788509, 0.05961771023229789, 0.060441796788277956, 0.06140300943056109, 0.06233690360272639, 0.06318631863186319, 0.0640532818056612, 0.0649314952638701, 0.0661689484796378, 0.06705088242549279, 0.06831321400490264, 0.06982353081643862, 0.07126470805890624, 0.07236909257936103, 0.07400163860771203, 0.07556530080855146, 0.07727557351852907, 0.07935944113903443, 0.08103357898307176, 0.08326898326898327, 0.08503481449090114, 0.08758017903714668, 0.090690446236957, 0.09332035053554041, 0.0968590692320342, 0.10038307504788438, 0.10471301049905185, 0.10907745436605822, 0.11491093609598815, 0.12098610794807561, 0.12771336951159348, 0.13575512949882274, 0.14534152297787317, 0.15778654826508798, 0.1720469891776894, 0.18924640135478407, 0.21151948692649236, 0.2431552464111292, 0.28634850166481685, 0.34583127775037, 0.4210136884942656, 0.4940828402366864, null], \"yaxis\": \"y2\"}],                        {\"annotations\": [{\"font\": {}, \"showarrow\": false, \"text\": \"variable=Recall\", \"x\": 0.245, \"xanchor\": \"center\", \"xref\": \"paper\", \"y\": 1.0, \"yanchor\": \"bottom\", \"yref\": \"paper\"}, {\"font\": {}, \"showarrow\": false, \"text\": \"variable=Precision\", \"x\": 0.755, \"xanchor\": \"center\", \"xref\": \"paper\", \"y\": 1.0, \"yanchor\": \"bottom\", \"yref\": \"paper\"}], \"legend\": {\"title\": {\"text\": \"Source\"}, \"tracegroupgap\": 0}, \"margin\": {\"t\": 60}, \"template\": {\"data\": {\"bar\": [{\"error_x\": {\"color\": \"#2a3f5f\"}, \"error_y\": {\"color\": \"#2a3f5f\"}, \"marker\": {\"line\": {\"color\": \"#E5ECF6\", \"width\": 0.5}}, \"type\": \"bar\"}], \"barpolar\": [{\"marker\": {\"line\": {\"color\": \"#E5ECF6\", \"width\": 0.5}}, \"type\": \"barpolar\"}], \"carpet\": [{\"aaxis\": {\"endlinecolor\": \"#2a3f5f\", \"gridcolor\": \"white\", \"linecolor\": \"white\", \"minorgridcolor\": \"white\", \"startlinecolor\": \"#2a3f5f\"}, \"baxis\": {\"endlinecolor\": \"#2a3f5f\", \"gridcolor\": \"white\", \"linecolor\": \"white\", \"minorgridcolor\": \"white\", \"startlinecolor\": \"#2a3f5f\"}, \"type\": \"carpet\"}], \"choropleth\": [{\"colorbar\": {\"outlinewidth\": 0, \"ticks\": \"\"}, \"type\": \"choropleth\"}], \"contour\": [{\"colorbar\": {\"outlinewidth\": 0, \"ticks\": \"\"}, \"colorscale\": [[0.0, \"#0d0887\"], [0.1111111111111111, \"#46039f\"], [0.2222222222222222, \"#7201a8\"], [0.3333333333333333, \"#9c179e\"], [0.4444444444444444, \"#bd3786\"], [0.5555555555555556, \"#d8576b\"], [0.6666666666666666, \"#ed7953\"], [0.7777777777777778, \"#fb9f3a\"], [0.8888888888888888, \"#fdca26\"], [1.0, \"#f0f921\"]], \"type\": \"contour\"}], \"contourcarpet\": [{\"colorbar\": {\"outlinewidth\": 0, \"ticks\": \"\"}, \"type\": \"contourcarpet\"}], \"heatmap\": [{\"colorbar\": {\"outlinewidth\": 0, \"ticks\": \"\"}, \"colorscale\": [[0.0, \"#0d0887\"], [0.1111111111111111, \"#46039f\"], [0.2222222222222222, \"#7201a8\"], [0.3333333333333333, \"#9c179e\"], [0.4444444444444444, \"#bd3786\"], [0.5555555555555556, \"#d8576b\"], [0.6666666666666666, \"#ed7953\"], [0.7777777777777778, \"#fb9f3a\"], [0.8888888888888888, \"#fdca26\"], [1.0, \"#f0f921\"]], \"type\": \"heatmap\"}], \"heatmapgl\": [{\"colorbar\": {\"outlinewidth\": 0, \"ticks\": \"\"}, \"colorscale\": [[0.0, \"#0d0887\"], [0.1111111111111111, \"#46039f\"], [0.2222222222222222, \"#7201a8\"], [0.3333333333333333, \"#9c179e\"], [0.4444444444444444, \"#bd3786\"], [0.5555555555555556, \"#d8576b\"], [0.6666666666666666, \"#ed7953\"], [0.7777777777777778, \"#fb9f3a\"], [0.8888888888888888, \"#fdca26\"], [1.0, \"#f0f921\"]], \"type\": \"heatmapgl\"}], \"histogram\": [{\"marker\": {\"colorbar\": {\"outlinewidth\": 0, \"ticks\": \"\"}}, \"type\": \"histogram\"}], \"histogram2d\": [{\"colorbar\": {\"outlinewidth\": 0, \"ticks\": \"\"}, \"colorscale\": [[0.0, \"#0d0887\"], [0.1111111111111111, \"#46039f\"], [0.2222222222222222, \"#7201a8\"], [0.3333333333333333, \"#9c179e\"], [0.4444444444444444, \"#bd3786\"], [0.5555555555555556, \"#d8576b\"], [0.6666666666666666, \"#ed7953\"], [0.7777777777777778, \"#fb9f3a\"], [0.8888888888888888, \"#fdca26\"], [1.0, \"#f0f921\"]], \"type\": \"histogram2d\"}], \"histogram2dcontour\": [{\"colorbar\": {\"outlinewidth\": 0, \"ticks\": \"\"}, \"colorscale\": [[0.0, \"#0d0887\"], [0.1111111111111111, \"#46039f\"], [0.2222222222222222, \"#7201a8\"], [0.3333333333333333, \"#9c179e\"], [0.4444444444444444, \"#bd3786\"], [0.5555555555555556, \"#d8576b\"], [0.6666666666666666, \"#ed7953\"], [0.7777777777777778, \"#fb9f3a\"], [0.8888888888888888, \"#fdca26\"], [1.0, \"#f0f921\"]], \"type\": \"histogram2dcontour\"}], \"mesh3d\": [{\"colorbar\": {\"outlinewidth\": 0, \"ticks\": \"\"}, \"type\": \"mesh3d\"}], \"parcoords\": [{\"line\": {\"colorbar\": {\"outlinewidth\": 0, \"ticks\": \"\"}}, \"type\": \"parcoords\"}], \"pie\": [{\"automargin\": true, \"type\": \"pie\"}], \"scatter\": [{\"marker\": {\"colorbar\": {\"outlinewidth\": 0, \"ticks\": \"\"}}, \"type\": \"scatter\"}], \"scatter3d\": [{\"line\": {\"colorbar\": {\"outlinewidth\": 0, \"ticks\": \"\"}}, \"marker\": {\"colorbar\": {\"outlinewidth\": 0, \"ticks\": \"\"}}, \"type\": \"scatter3d\"}], \"scattercarpet\": [{\"marker\": {\"colorbar\": {\"outlinewidth\": 0, \"ticks\": \"\"}}, \"type\": \"scattercarpet\"}], \"scattergeo\": [{\"marker\": {\"colorbar\": {\"outlinewidth\": 0, \"ticks\": \"\"}}, \"type\": \"scattergeo\"}], \"scattergl\": [{\"marker\": {\"colorbar\": {\"outlinewidth\": 0, \"ticks\": \"\"}}, \"type\": \"scattergl\"}], \"scattermapbox\": [{\"marker\": {\"colorbar\": {\"outlinewidth\": 0, \"ticks\": \"\"}}, \"type\": \"scattermapbox\"}], \"scatterpolar\": [{\"marker\": {\"colorbar\": {\"outlinewidth\": 0, \"ticks\": \"\"}}, \"type\": \"scatterpolar\"}], \"scatterpolargl\": [{\"marker\": {\"colorbar\": {\"outlinewidth\": 0, \"ticks\": \"\"}}, \"type\": \"scatterpolargl\"}], \"scatterternary\": [{\"marker\": {\"colorbar\": {\"outlinewidth\": 0, \"ticks\": \"\"}}, \"type\": \"scatterternary\"}], \"surface\": [{\"colorbar\": {\"outlinewidth\": 0, \"ticks\": \"\"}, \"colorscale\": [[0.0, \"#0d0887\"], [0.1111111111111111, \"#46039f\"], [0.2222222222222222, \"#7201a8\"], [0.3333333333333333, \"#9c179e\"], [0.4444444444444444, \"#bd3786\"], [0.5555555555555556, \"#d8576b\"], [0.6666666666666666, \"#ed7953\"], [0.7777777777777778, \"#fb9f3a\"], [0.8888888888888888, \"#fdca26\"], [1.0, \"#f0f921\"]], \"type\": \"surface\"}], \"table\": [{\"cells\": {\"fill\": {\"color\": \"#EBF0F8\"}, \"line\": {\"color\": \"white\"}}, \"header\": {\"fill\": {\"color\": \"#C8D4E3\"}, \"line\": {\"color\": \"white\"}}, \"type\": \"table\"}]}, \"layout\": {\"annotationdefaults\": {\"arrowcolor\": \"#2a3f5f\", \"arrowhead\": 0, \"arrowwidth\": 1}, \"autotypenumbers\": \"strict\", \"coloraxis\": {\"colorbar\": {\"outlinewidth\": 0, \"ticks\": \"\"}}, \"colorscale\": {\"diverging\": [[0, \"#8e0152\"], [0.1, \"#c51b7d\"], [0.2, \"#de77ae\"], [0.3, \"#f1b6da\"], [0.4, \"#fde0ef\"], [0.5, \"#f7f7f7\"], [0.6, \"#e6f5d0\"], [0.7, \"#b8e186\"], [0.8, \"#7fbc41\"], [0.9, \"#4d9221\"], [1, \"#276419\"]], \"sequential\": [[0.0, \"#0d0887\"], [0.1111111111111111, \"#46039f\"], [0.2222222222222222, \"#7201a8\"], [0.3333333333333333, \"#9c179e\"], [0.4444444444444444, \"#bd3786\"], [0.5555555555555556, \"#d8576b\"], [0.6666666666666666, \"#ed7953\"], [0.7777777777777778, \"#fb9f3a\"], [0.8888888888888888, \"#fdca26\"], [1.0, \"#f0f921\"]], \"sequentialminus\": [[0.0, \"#0d0887\"], [0.1111111111111111, \"#46039f\"], [0.2222222222222222, \"#7201a8\"], [0.3333333333333333, \"#9c179e\"], [0.4444444444444444, \"#bd3786\"], [0.5555555555555556, \"#d8576b\"], [0.6666666666666666, \"#ed7953\"], [0.7777777777777778, \"#fb9f3a\"], [0.8888888888888888, \"#fdca26\"], [1.0, \"#f0f921\"]]}, \"colorway\": [\"#636efa\", \"#EF553B\", \"#00cc96\", \"#ab63fa\", \"#FFA15A\", \"#19d3f3\", \"#FF6692\", \"#B6E880\", \"#FF97FF\", \"#FECB52\"], \"font\": {\"color\": \"#2a3f5f\"}, \"geo\": {\"bgcolor\": \"white\", \"lakecolor\": \"white\", \"landcolor\": \"#E5ECF6\", \"showlakes\": true, \"showland\": true, \"subunitcolor\": \"white\"}, \"hoverlabel\": {\"align\": \"left\"}, \"hovermode\": \"closest\", \"mapbox\": {\"style\": \"light\"}, \"paper_bgcolor\": \"white\", \"plot_bgcolor\": \"#E5ECF6\", \"polar\": {\"angularaxis\": {\"gridcolor\": \"white\", \"linecolor\": \"white\", \"ticks\": \"\"}, \"bgcolor\": \"#E5ECF6\", \"radialaxis\": {\"gridcolor\": \"white\", \"linecolor\": \"white\", \"ticks\": \"\"}}, \"scene\": {\"xaxis\": {\"backgroundcolor\": \"#E5ECF6\", \"gridcolor\": \"white\", \"gridwidth\": 2, \"linecolor\": \"white\", \"showbackground\": true, \"ticks\": \"\", \"zerolinecolor\": \"white\"}, \"yaxis\": {\"backgroundcolor\": \"#E5ECF6\", \"gridcolor\": \"white\", \"gridwidth\": 2, \"linecolor\": \"white\", \"showbackground\": true, \"ticks\": \"\", \"zerolinecolor\": \"white\"}, \"zaxis\": {\"backgroundcolor\": \"#E5ECF6\", \"gridcolor\": \"white\", \"gridwidth\": 2, \"linecolor\": \"white\", \"showbackground\": true, \"ticks\": \"\", \"zerolinecolor\": \"white\"}}, \"shapedefaults\": {\"line\": {\"color\": \"#2a3f5f\"}}, \"ternary\": {\"aaxis\": {\"gridcolor\": \"white\", \"linecolor\": \"white\", \"ticks\": \"\"}, \"baxis\": {\"gridcolor\": \"white\", \"linecolor\": \"white\", \"ticks\": \"\"}, \"bgcolor\": \"#E5ECF6\", \"caxis\": {\"gridcolor\": \"white\", \"linecolor\": \"white\", \"ticks\": \"\"}}, \"title\": {\"x\": 0.05}, \"xaxis\": {\"automargin\": true, \"gridcolor\": \"white\", \"linecolor\": \"white\", \"ticks\": \"\", \"title\": {\"standoff\": 15}, \"zerolinecolor\": \"white\", \"zerolinewidth\": 2}, \"yaxis\": {\"automargin\": true, \"gridcolor\": \"white\", \"linecolor\": \"white\", \"ticks\": \"\", \"title\": {\"standoff\": 15}, \"zerolinecolor\": \"white\", \"zerolinewidth\": 2}}}, \"xaxis\": {\"anchor\": \"y\", \"domain\": [0.0, 0.49], \"title\": {\"text\": \"Inspect_Rate\"}}, \"xaxis2\": {\"anchor\": \"y2\", \"domain\": [0.51, 1.0], \"matches\": \"x\", \"title\": {\"text\": \"Inspect_Rate\"}}, \"yaxis\": {\"anchor\": \"x\", \"domain\": [0.0, 1.0], \"title\": {\"text\": \"value\"}}, \"yaxis2\": {\"anchor\": \"x2\", \"domain\": [0.0, 1.0], \"matches\": \"y\", \"showticklabels\": false}},                        {\"responsive\": true}                    ).then(function(){\n",
       "                            \n",
       "var gd = document.getElementById('cdebe4ff-625d-483e-ab15-ff2940d2ab67');\n",
       "var x = new MutationObserver(function (mutations, observer) {{\n",
       "        var display = window.getComputedStyle(gd).display;\n",
       "        if (!display || display === 'none') {{\n",
       "            console.log([gd, 'removed!']);\n",
       "            Plotly.purge(gd);\n",
       "            observer.disconnect();\n",
       "        }}\n",
       "}});\n",
       "\n",
       "// Listen for the removal of the full notebook cells\n",
       "var notebookContainer = gd.closest('#notebook-container');\n",
       "if (notebookContainer) {{\n",
       "    x.observe(notebookContainer, {childList: true});\n",
       "}}\n",
       "\n",
       "// Listen for the clearing of the current output cell\n",
       "var outputEl = gd.closest('.output');\n",
       "if (outputEl) {{\n",
       "    x.observe(outputEl, {childList: true});\n",
       "}}\n",
       "\n",
       "                        })                };                });            </script>        </div>"
      ]
     },
     "metadata": {},
     "output_type": "display_data"
    }
   ],
   "source": [
    "fig = px.line(data, x=\"Inspect_Rate\", y=\"value\", color='Source',facet_col='variable')\n",
    "fig.show()"
   ]
  },
  {
   "cell_type": "code",
   "execution_count": 65,
   "metadata": {
    "ExecuteTime": {
     "end_time": "2021-03-09T06:06:54.720496Z",
     "start_time": "2021-03-09T06:06:54.678496Z"
    }
   },
   "outputs": [],
   "source": [
    "fig.write_html(\"./xgb-vs-dtc-inspection_rate-precision-1314.html\")"
   ]
  },
  {
   "cell_type": "code",
   "execution_count": 68,
   "metadata": {
    "ExecuteTime": {
     "end_time": "2021-03-09T14:47:51.254721Z",
     "start_time": "2021-03-09T14:47:35.993723Z"
    }
   },
   "outputs": [
    {
     "name": "stdout",
     "output_type": "stream",
     "text": [
      "Initial score:  0.6687594455050815\n",
      "Initial parameters:  {'max_depth': 5}\n",
      "Improved score:  0.6634909216580039\n",
      "Improved parameters:  {'max_depth': 25}\n"
     ]
    }
   ],
   "source": [
    "# Start with an initial guess for parameters\n",
    "param_grid = {\n",
    "#    'n_estimators': [50, 100, 150, 200, 250, 300],\n",
    "     'max_depth': [5, 10, 15, 20, 25], \n",
    "#     'min_impurity_decrease': [0, 0.001, 0.005, 0.01], \n",
    "#     'min_samples_split': [10, 20, 30, 40, 50], \n",
    "}\n",
    "\n",
    "gridSearch = GridSearchCV(RandomForestClassifier(random_state=1), param_grid, cv=5, n_jobs=-1)\n",
    "gridSearch.fit(train, train_fraud)\n",
    "print('Initial score: ', gridSearch.best_score_)\n",
    "print('Initial parameters: ', gridSearch.best_params_)\n",
    "\n",
    "# Adapt grid based on result from initial grid search\n",
    "param_grid = {\n",
    "#    'n_estimators': [200, 300, 400, 500, 600, 700],\n",
    "     'max_depth': [10, 15, 20, 25, 30], \n",
    "#     'min_impurity_decrease': [0, 0.001, 0.002, 0.003, 0.004, 0.005, 0.006, 0.007], \n",
    "#     'min_samples_split': [5, 6, 7, 8, 9, 10], \n",
    "}\n",
    "\n",
    "gridSearch = GridSearchCV(RandomForestClassifier(random_state=1), param_grid, cv=5, n_jobs=-1)\n",
    "gridSearch.fit(train, train_fraud)\n",
    "print('Improved score: ', gridSearch.best_score_)\n",
    "print('Improved parameters: ', gridSearch.best_params_)\n",
    "\n",
    "bestRf = gridSearch.best_estimator_"
   ]
  },
  {
   "cell_type": "code",
   "execution_count": null,
   "metadata": {},
   "outputs": [],
   "source": []
  }
 ],
 "metadata": {
  "kernelspec": {
   "display_name": "ai",
   "language": "python",
   "name": "ai"
  },
  "language_info": {
   "codemirror_mode": {
    "name": "ipython",
    "version": 3
   },
   "file_extension": ".py",
   "mimetype": "text/x-python",
   "name": "python",
   "nbconvert_exporter": "python",
   "pygments_lexer": "ipython3",
   "version": "3.8.5"
  },
  "toc": {
   "base_numbering": 1,
   "nav_menu": {},
   "number_sections": true,
   "sideBar": true,
   "skip_h1_title": false,
   "title_cell": "Table of Contents",
   "title_sidebar": "Contents",
   "toc_cell": false,
   "toc_position": {},
   "toc_section_display": true,
   "toc_window_display": true
  }
 },
 "nbformat": 4,
 "nbformat_minor": 2
}
