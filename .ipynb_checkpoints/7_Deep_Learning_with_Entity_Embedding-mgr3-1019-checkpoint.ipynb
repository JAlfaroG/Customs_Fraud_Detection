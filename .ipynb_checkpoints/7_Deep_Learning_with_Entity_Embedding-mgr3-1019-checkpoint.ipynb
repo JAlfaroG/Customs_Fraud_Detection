{
 "cells": [
  {
   "cell_type": "markdown",
   "metadata": {},
   "source": [
    "# Deep learning with Entity Embedding\n",
    "\n",
    "- Written by Yeon Soo Choi, Research Unit, World Customs Organization\n",
    "- Updated on 2020. 6. 30."
   ]
  },
  {
   "cell_type": "markdown",
   "metadata": {},
   "source": [
    "## Summary\n",
    "\n",
    "### Deep Learning (Neural Network model)\n",
    "\n",
    "Now, we are moving from lego for 2-years old to lego for adult. Previously, we have deployed a kind of pre-built (ready-to-use) models such as XGBoost. While we can tune the models with hyperparameters (e.g. the number of trees, the maximum height (depth) of individual tree), the core algorithm of the model is unchangeable. In contrast, a neural network model (known as Deep Learning model) is more flexible, and could be more powerful upon our construction. We can design how data flows and how individual variables interact with others at different points during their journey to the final destination. I feel like constructing a water traffic network. No worries at all. Still, we have very good pre-built parts/components for contructing our own models.\n",
    "\n",
    "### Entity Embedding\n",
    "\n",
    "Embedding is another way of converting categorical variables to numeric variables.\n",
    "In our data, we have 12708 unique importer-ids. If we one-hot-encode the importer-ids, we may generate additional 12708 (actually less than 12708) variables (columns); ie. [0,0,0,...] for importer A [1,0,0,...] for importer B, and [0,0,1,...] for importer C. This approach costs significantly high computational power of our machine and time. The solution is the entity embedding, from which we can add only 3 columns; ie. [0.1, 1.33, 0.7] for importer A, [0.99, 3.1, 3.3] for importer B and [0.11, 1.3, 0.65] for importer C. The values for each entity is determined during the training in a way to optimize the model's performance. An additional benefit of entity embedding is that we can recognize who importer C is similar to importer A as their embedding values are similar to each other.  "
   ]
  },
  {
   "cell_type": "markdown",
   "metadata": {},
   "source": [
    "## Outline\n",
    "\n",
    "[**1. Environmental setting and data loading**](#id1)  \n",
    "[**2. Data preprocessing**](#id2)  \n",
    "[**3. Construct the model**](#id3)  \n",
    "[**4. Train the model**](#id4)  \n",
    "[**5. Test the model (Predict frauds in test-data**](#id5)  \n",
    "[**6. Evaluate the model performance**](#id6)"
   ]
  },
  {
   "cell_type": "markdown",
   "metadata": {},
   "source": [
    "## 1. Environment setting and data loading <a id='id1'></a>"
   ]
  },
  {
   "cell_type": "code",
   "execution_count": 1,
   "metadata": {
    "ExecuteTime": {
     "end_time": "2021-03-11T20:23:10.051873Z",
     "start_time": "2021-03-11T20:23:01.163871Z"
    }
   },
   "outputs": [],
   "source": [
    "# Prepare environments\n",
    "import numpy as np\n",
    "import pandas as pd\n",
    "import seaborn as sns\n",
    "import matplotlib.pyplot as plt\n",
    "\n",
    "import tensorflow as tf\n",
    "from tensorflow.keras import layers\n",
    "\n",
    "import random\n",
    "pd.set_option('display.max_columns', 500)\n",
    "\n",
    "plt.style.use('fivethirtyeight')"
   ]
  },
  {
   "cell_type": "code",
   "execution_count": 2,
   "metadata": {
    "ExecuteTime": {
     "end_time": "2021-03-11T20:24:18.186872Z",
     "start_time": "2021-03-11T20:23:10.053872Z"
    }
   },
   "outputs": [],
   "source": [
    "# Load data\n",
    "#df_raw = pd.read_csv('~/SyntheticDataGeneration_server/CTGAN/synthetic_data2.csv')\n",
    "df_raw = pd.read_csv('../data/mgr3-1019.csv', low_memory=False)\n",
    "\n",
    "# only imports\n",
    "df_raw = df_raw[df_raw['destinacion_mercancia'] == 'IM']"
   ]
  },
  {
   "cell_type": "code",
   "execution_count": 3,
   "metadata": {
    "ExecuteTime": {
     "end_time": "2021-03-11T20:24:18.199873Z",
     "start_time": "2021-03-11T20:24:18.190883Z"
    }
   },
   "outputs": [
    {
     "data": {
      "text/plain": [
       "Index(['identificador', 'anno', 'anno_mes_registro', 'aduana', 'numero_serial',\n",
       "       'numero_registro', 'numero_declaracion', 'ingreso_salida',\n",
       "       'destinacion_mercancia', 'patron_operacion', 'regimen',\n",
       "       'agente_aduanas', 'digitador', 'agencia_carga', 'puerto_embarque',\n",
       "       'pais_procedencia', 'contribuyente', 'almacen', 'deposito_fiscal',\n",
       "       'tipo_transporte', 'tipo_pago', 'codigo_banco', 'version_declaracion',\n",
       "       'oficial_aduanero', 'canal_selectividad', 'item', 'inciso_arancelario',\n",
       "       'inciso_arancelario_old', 'pais_origen_destino',\n",
       "       'pais_origen_destino_old', 'cuantia', 'unidad_medida',\n",
       "       'preferencia_arancelaria', 'identificacion_carga', 'proveedor',\n",
       "       'consolidadora', 'fecha_arribo', 'fecha_ingreso_almacen',\n",
       "       'fecha_registro_dua', 'fecha_pago', 'fecha_recepcion_fisica',\n",
       "       'fecha_asignacion_canal', 'fecha_autorizacion_salida', 'fecha_salida',\n",
       "       'cif', 'fob', 'flete', 'seguro', 'otros_valores', 'peso_bruto',\n",
       "       'peso_neto', 'dai_nominal', 'iva_nominal', 'alc_nominal',\n",
       "       'otros_tributo_nominal', 'dai_pagado', 'iva_pagado', 'alc_pagado',\n",
       "       'otros_tributo_pagado', 'cif_variacion', 'dai_variacion',\n",
       "       'iva_variacion', 'alc_variacion', 'otros_tributo_variacion',\n",
       "       'peso_bruto_variacion', 'cantidad_unidad_variacion', 'dm_precendente',\n",
       "       'indicador_valores', 'indicador_tributos', 'indicador_clasificacion',\n",
       "       'indicador_origen', 'indicador_cantidad', 'indicador_peso',\n",
       "       'indicador_incidencia', 'modalidad_pago', 'sub_regimen',\n",
       "       'variacion_administrativa', 'variacion_tributaria',\n",
       "       'estado_declaracion', 'actividad_economica', 'manifiesto_carga',\n",
       "       'codigo_proveedor', 'impuesto_total', 'illicit', 'revenue', 'mes'],\n",
       "      dtype='object')"
      ]
     },
     "execution_count": 3,
     "metadata": {},
     "output_type": "execute_result"
    }
   ],
   "source": [
    "# Check columns\n",
    "df_raw.columns"
   ]
  },
  {
   "cell_type": "code",
   "execution_count": 4,
   "metadata": {
    "ExecuteTime": {
     "end_time": "2021-03-11T20:24:18.779070Z",
     "start_time": "2021-03-11T20:24:18.202873Z"
    }
   },
   "outputs": [],
   "source": [
    "# Date cleaning (delete a column)\n",
    "#del df['Unnamed: 0']\n",
    "df = df_raw.copy()"
   ]
  },
  {
   "cell_type": "code",
   "execution_count": 5,
   "metadata": {
    "ExecuteTime": {
     "end_time": "2021-03-11T20:24:19.249542Z",
     "start_time": "2021-03-11T20:24:18.779931Z"
    }
   },
   "outputs": [
    {
     "data": {
      "text/html": [
       "<div>\n",
       "<style scoped>\n",
       "    .dataframe tbody tr th:only-of-type {\n",
       "        vertical-align: middle;\n",
       "    }\n",
       "\n",
       "    .dataframe tbody tr th {\n",
       "        vertical-align: top;\n",
       "    }\n",
       "\n",
       "    .dataframe thead th {\n",
       "        text-align: right;\n",
       "    }\n",
       "</style>\n",
       "<table border=\"1\" class=\"dataframe\">\n",
       "  <thead>\n",
       "    <tr style=\"text-align: right;\">\n",
       "      <th></th>\n",
       "      <th>identificador</th>\n",
       "      <th>anno</th>\n",
       "      <th>anno_mes_registro</th>\n",
       "      <th>aduana</th>\n",
       "      <th>numero_serial</th>\n",
       "      <th>numero_registro</th>\n",
       "      <th>numero_declaracion</th>\n",
       "      <th>ingreso_salida</th>\n",
       "      <th>destinacion_mercancia</th>\n",
       "      <th>patron_operacion</th>\n",
       "      <th>regimen</th>\n",
       "      <th>agente_aduanas</th>\n",
       "      <th>digitador</th>\n",
       "      <th>agencia_carga</th>\n",
       "      <th>puerto_embarque</th>\n",
       "      <th>pais_procedencia</th>\n",
       "      <th>contribuyente</th>\n",
       "      <th>almacen</th>\n",
       "      <th>deposito_fiscal</th>\n",
       "      <th>tipo_transporte</th>\n",
       "      <th>tipo_pago</th>\n",
       "      <th>codigo_banco</th>\n",
       "      <th>version_declaracion</th>\n",
       "      <th>oficial_aduanero</th>\n",
       "      <th>canal_selectividad</th>\n",
       "      <th>item</th>\n",
       "      <th>inciso_arancelario</th>\n",
       "      <th>inciso_arancelario_old</th>\n",
       "      <th>pais_origen_destino</th>\n",
       "      <th>pais_origen_destino_old</th>\n",
       "      <th>cuantia</th>\n",
       "      <th>unidad_medida</th>\n",
       "      <th>preferencia_arancelaria</th>\n",
       "      <th>identificacion_carga</th>\n",
       "      <th>proveedor</th>\n",
       "      <th>consolidadora</th>\n",
       "      <th>fecha_arribo</th>\n",
       "      <th>fecha_ingreso_almacen</th>\n",
       "      <th>fecha_registro_dua</th>\n",
       "      <th>fecha_pago</th>\n",
       "      <th>fecha_recepcion_fisica</th>\n",
       "      <th>fecha_asignacion_canal</th>\n",
       "      <th>fecha_autorizacion_salida</th>\n",
       "      <th>fecha_salida</th>\n",
       "      <th>cif</th>\n",
       "      <th>fob</th>\n",
       "      <th>flete</th>\n",
       "      <th>seguro</th>\n",
       "      <th>otros_valores</th>\n",
       "      <th>peso_bruto</th>\n",
       "      <th>peso_neto</th>\n",
       "      <th>dai_nominal</th>\n",
       "      <th>iva_nominal</th>\n",
       "      <th>alc_nominal</th>\n",
       "      <th>otros_tributo_nominal</th>\n",
       "      <th>dai_pagado</th>\n",
       "      <th>iva_pagado</th>\n",
       "      <th>alc_pagado</th>\n",
       "      <th>otros_tributo_pagado</th>\n",
       "      <th>cif_variacion</th>\n",
       "      <th>dai_variacion</th>\n",
       "      <th>iva_variacion</th>\n",
       "      <th>alc_variacion</th>\n",
       "      <th>otros_tributo_variacion</th>\n",
       "      <th>peso_bruto_variacion</th>\n",
       "      <th>cantidad_unidad_variacion</th>\n",
       "      <th>dm_precendente</th>\n",
       "      <th>indicador_valores</th>\n",
       "      <th>indicador_tributos</th>\n",
       "      <th>indicador_clasificacion</th>\n",
       "      <th>indicador_origen</th>\n",
       "      <th>indicador_cantidad</th>\n",
       "      <th>indicador_peso</th>\n",
       "      <th>indicador_incidencia</th>\n",
       "      <th>modalidad_pago</th>\n",
       "      <th>sub_regimen</th>\n",
       "      <th>variacion_administrativa</th>\n",
       "      <th>variacion_tributaria</th>\n",
       "      <th>estado_declaracion</th>\n",
       "      <th>actividad_economica</th>\n",
       "      <th>manifiesto_carga</th>\n",
       "      <th>codigo_proveedor</th>\n",
       "      <th>impuesto_total</th>\n",
       "      <th>illicit</th>\n",
       "      <th>revenue</th>\n",
       "      <th>mes</th>\n",
       "    </tr>\n",
       "  </thead>\n",
       "  <tbody>\n",
       "    <tr>\n",
       "      <th>128492</th>\n",
       "      <td>18713023</td>\n",
       "      <td>2010</td>\n",
       "      <td>201009</td>\n",
       "      <td>6</td>\n",
       "      <td>4</td>\n",
       "      <td>37054</td>\n",
       "      <td>0513304</td>\n",
       "      <td>1</td>\n",
       "      <td>IM</td>\n",
       "      <td>4</td>\n",
       "      <td>4000</td>\n",
       "      <td>051</td>\n",
       "      <td>A051</td>\n",
       "      <td>N/D</td>\n",
       "      <td>N/D</td>\n",
       "      <td>GT</td>\n",
       "      <td>06141807051010</td>\n",
       "      <td>0602</td>\n",
       "      <td>NaN</td>\n",
       "      <td>5.0</td>\n",
       "      <td>9899.0</td>\n",
       "      <td>27.0</td>\n",
       "      <td>1</td>\n",
       "      <td>1846</td>\n",
       "      <td>3</td>\n",
       "      <td>20</td>\n",
       "      <td>84158200000</td>\n",
       "      <td>84158200000</td>\n",
       "      <td>CN</td>\n",
       "      <td>CN</td>\n",
       "      <td>7.39</td>\n",
       "      <td>PK</td>\n",
       "      <td>NaN</td>\n",
       "      <td>NaN</td>\n",
       "      <td>H G REFRIGERATION SUPPLY,INC.</td>\n",
       "      <td>N/D</td>\n",
       "      <td>NaN</td>\n",
       "      <td>NaN</td>\n",
       "      <td>2010-09-06 11:24:40</td>\n",
       "      <td>2010-09-07 00:00:00</td>\n",
       "      <td>2010-09-07 17:32:10</td>\n",
       "      <td>2010-09-07 17:32:10</td>\n",
       "      <td>2010-09-10 15:42:24</td>\n",
       "      <td>NaN</td>\n",
       "      <td>1591.69</td>\n",
       "      <td>1479.76</td>\n",
       "      <td>89.24</td>\n",
       "      <td>22.19</td>\n",
       "      <td>0.5</td>\n",
       "      <td>548.82</td>\n",
       "      <td>548.82</td>\n",
       "      <td>238.75</td>\n",
       "      <td>237.95</td>\n",
       "      <td>0.0</td>\n",
       "      <td>0.00</td>\n",
       "      <td>238.75</td>\n",
       "      <td>237.95</td>\n",
       "      <td>0.0</td>\n",
       "      <td>0.00</td>\n",
       "      <td>0</td>\n",
       "      <td>0.0</td>\n",
       "      <td>0.0</td>\n",
       "      <td>0</td>\n",
       "      <td>0.0</td>\n",
       "      <td>0.0</td>\n",
       "      <td>0.0</td>\n",
       "      <td>NaN</td>\n",
       "      <td>0</td>\n",
       "      <td>0</td>\n",
       "      <td>0</td>\n",
       "      <td>0</td>\n",
       "      <td>0</td>\n",
       "      <td>0</td>\n",
       "      <td>0</td>\n",
       "      <td>3</td>\n",
       "      <td>0</td>\n",
       "      <td>0.0</td>\n",
       "      <td>0.0</td>\n",
       "      <td>3.0</td>\n",
       "      <td>060141</td>\n",
       "      <td>NaN</td>\n",
       "      <td>PRV999999</td>\n",
       "      <td>476.70</td>\n",
       "      <td>0</td>\n",
       "      <td>0.0</td>\n",
       "      <td>9</td>\n",
       "    </tr>\n",
       "    <tr>\n",
       "      <th>2028139</th>\n",
       "      <td>6160904821</td>\n",
       "      <td>2019</td>\n",
       "      <td>201910</td>\n",
       "      <td>27</td>\n",
       "      <td>4</td>\n",
       "      <td>731</td>\n",
       "      <td>17620201</td>\n",
       "      <td>1</td>\n",
       "      <td>IM</td>\n",
       "      <td>4</td>\n",
       "      <td>4054</td>\n",
       "      <td>176</td>\n",
       "      <td>A176</td>\n",
       "      <td>N/D</td>\n",
       "      <td>N/D</td>\n",
       "      <td>TE</td>\n",
       "      <td>06141804131013</td>\n",
       "      <td>2701.0</td>\n",
       "      <td>NaN</td>\n",
       "      <td>1.0</td>\n",
       "      <td>9890.0</td>\n",
       "      <td>9.0</td>\n",
       "      <td>1</td>\n",
       "      <td>5033</td>\n",
       "      <td>3</td>\n",
       "      <td>1</td>\n",
       "      <td>48191000000</td>\n",
       "      <td>48191000000</td>\n",
       "      <td>TE</td>\n",
       "      <td>TE</td>\n",
       "      <td>590.00</td>\n",
       "      <td>PK</td>\n",
       "      <td>NaN</td>\n",
       "      <td>NaN</td>\n",
       "      <td>COMERCIALIZADORA CAISA, S.A DE C.V</td>\n",
       "      <td>N/D</td>\n",
       "      <td>NaN</td>\n",
       "      <td>NaN</td>\n",
       "      <td>2019-10-21 09:06:24</td>\n",
       "      <td>NaN</td>\n",
       "      <td>2019-10-21 10:02:07</td>\n",
       "      <td>2019-10-21 10:02:07</td>\n",
       "      <td>2019-10-21 11:06:49</td>\n",
       "      <td>NaN</td>\n",
       "      <td>7100.90</td>\n",
       "      <td>7100.90</td>\n",
       "      <td>0.00</td>\n",
       "      <td>0.00</td>\n",
       "      <td>0.0</td>\n",
       "      <td>5190.34</td>\n",
       "      <td>5182.27</td>\n",
       "      <td>710.09</td>\n",
       "      <td>1015.42</td>\n",
       "      <td>0.0</td>\n",
       "      <td>0.00</td>\n",
       "      <td>710.09</td>\n",
       "      <td>1015.42</td>\n",
       "      <td>0.0</td>\n",
       "      <td>0.00</td>\n",
       "      <td>0</td>\n",
       "      <td>0.0</td>\n",
       "      <td>0.0</td>\n",
       "      <td>0</td>\n",
       "      <td>0.0</td>\n",
       "      <td>0.0</td>\n",
       "      <td>0.0</td>\n",
       "      <td>NaN</td>\n",
       "      <td>0</td>\n",
       "      <td>0</td>\n",
       "      <td>0</td>\n",
       "      <td>0</td>\n",
       "      <td>0</td>\n",
       "      <td>0</td>\n",
       "      <td>0</td>\n",
       "      <td>3</td>\n",
       "      <td>0</td>\n",
       "      <td>0.0</td>\n",
       "      <td>0.0</td>\n",
       "      <td>3.0</td>\n",
       "      <td>N/D</td>\n",
       "      <td>NaN</td>\n",
       "      <td>NaN</td>\n",
       "      <td>1725.51</td>\n",
       "      <td>0</td>\n",
       "      <td>0.0</td>\n",
       "      <td>10</td>\n",
       "    </tr>\n",
       "    <tr>\n",
       "      <th>32708</th>\n",
       "      <td>18803937</td>\n",
       "      <td>2010</td>\n",
       "      <td>201009</td>\n",
       "      <td>1</td>\n",
       "      <td>4</td>\n",
       "      <td>65193</td>\n",
       "      <td>1555884</td>\n",
       "      <td>1</td>\n",
       "      <td>IM</td>\n",
       "      <td>4</td>\n",
       "      <td>4000</td>\n",
       "      <td>155</td>\n",
       "      <td>A155</td>\n",
       "      <td>N/D</td>\n",
       "      <td>N/D</td>\n",
       "      <td>US</td>\n",
       "      <td>06140503771037</td>\n",
       "      <td>0100</td>\n",
       "      <td>NaN</td>\n",
       "      <td>1.0</td>\n",
       "      <td>9899.0</td>\n",
       "      <td>9.0</td>\n",
       "      <td>1</td>\n",
       "      <td>1199</td>\n",
       "      <td>3</td>\n",
       "      <td>1</td>\n",
       "      <td>87032379000</td>\n",
       "      <td>87032379000</td>\n",
       "      <td>US</td>\n",
       "      <td>US</td>\n",
       "      <td>1.00</td>\n",
       "      <td>BT</td>\n",
       "      <td>NaN</td>\n",
       "      <td>NaN</td>\n",
       "      <td>IAAI</td>\n",
       "      <td>N/D</td>\n",
       "      <td>NaN</td>\n",
       "      <td>NaN</td>\n",
       "      <td>2010-09-21 14:00:44</td>\n",
       "      <td>2010-09-21 00:00:00</td>\n",
       "      <td>2010-09-21 15:01:01</td>\n",
       "      <td>2010-09-21 15:01:01</td>\n",
       "      <td>2010-09-22 08:32:40</td>\n",
       "      <td>2010-09-22 15:00:41</td>\n",
       "      <td>2502.06</td>\n",
       "      <td>2152.06</td>\n",
       "      <td>300.00</td>\n",
       "      <td>50.00</td>\n",
       "      <td>0.0</td>\n",
       "      <td>1940.00</td>\n",
       "      <td>1940.00</td>\n",
       "      <td>750.61</td>\n",
       "      <td>422.84</td>\n",
       "      <td>0.0</td>\n",
       "      <td>25.02</td>\n",
       "      <td>750.61</td>\n",
       "      <td>422.84</td>\n",
       "      <td>0.0</td>\n",
       "      <td>25.02</td>\n",
       "      <td>0</td>\n",
       "      <td>0.0</td>\n",
       "      <td>0.0</td>\n",
       "      <td>0</td>\n",
       "      <td>0.0</td>\n",
       "      <td>0.0</td>\n",
       "      <td>0.0</td>\n",
       "      <td>NaN</td>\n",
       "      <td>0</td>\n",
       "      <td>0</td>\n",
       "      <td>0</td>\n",
       "      <td>0</td>\n",
       "      <td>0</td>\n",
       "      <td>0</td>\n",
       "      <td>0</td>\n",
       "      <td>7</td>\n",
       "      <td>0</td>\n",
       "      <td>0.0</td>\n",
       "      <td>0.0</td>\n",
       "      <td>4.0</td>\n",
       "      <td>060140</td>\n",
       "      <td>NaN</td>\n",
       "      <td>PRV999999</td>\n",
       "      <td>1198.47</td>\n",
       "      <td>0</td>\n",
       "      <td>0.0</td>\n",
       "      <td>9</td>\n",
       "    </tr>\n",
       "    <tr>\n",
       "      <th>960290</th>\n",
       "      <td>855734588</td>\n",
       "      <td>2013</td>\n",
       "      <td>201312</td>\n",
       "      <td>77</td>\n",
       "      <td>4</td>\n",
       "      <td>12561</td>\n",
       "      <td>15211777</td>\n",
       "      <td>1</td>\n",
       "      <td>IM</td>\n",
       "      <td>4</td>\n",
       "      <td>4000</td>\n",
       "      <td>152</td>\n",
       "      <td>A152</td>\n",
       "      <td>N/D</td>\n",
       "      <td>N/D</td>\n",
       "      <td>US</td>\n",
       "      <td>05030104711027</td>\n",
       "      <td>7701</td>\n",
       "      <td>NaN</td>\n",
       "      <td>5.0</td>\n",
       "      <td>9890.0</td>\n",
       "      <td>12.0</td>\n",
       "      <td>0</td>\n",
       "      <td>5160</td>\n",
       "      <td>3</td>\n",
       "      <td>7</td>\n",
       "      <td>87082990004</td>\n",
       "      <td>87082990004</td>\n",
       "      <td>US</td>\n",
       "      <td>US</td>\n",
       "      <td>1.00</td>\n",
       "      <td>PK</td>\n",
       "      <td>NaN</td>\n",
       "      <td>NaN</td>\n",
       "      <td>MEGA IMPORTS AUTO SALES INC.</td>\n",
       "      <td>N/D</td>\n",
       "      <td>NaN</td>\n",
       "      <td>NaN</td>\n",
       "      <td>2013-12-13 08:01:58</td>\n",
       "      <td>NaN</td>\n",
       "      <td>2013-12-16 10:03:58</td>\n",
       "      <td>2013-12-16 10:03:58</td>\n",
       "      <td>2013-12-17 08:12:23</td>\n",
       "      <td>NaN</td>\n",
       "      <td>16.72</td>\n",
       "      <td>15.00</td>\n",
       "      <td>1.50</td>\n",
       "      <td>0.22</td>\n",
       "      <td>0.0</td>\n",
       "      <td>12.09</td>\n",
       "      <td>12.09</td>\n",
       "      <td>0.16</td>\n",
       "      <td>2.19</td>\n",
       "      <td>0.0</td>\n",
       "      <td>0.00</td>\n",
       "      <td>0.16</td>\n",
       "      <td>2.19</td>\n",
       "      <td>0.0</td>\n",
       "      <td>0.00</td>\n",
       "      <td>0</td>\n",
       "      <td>0.0</td>\n",
       "      <td>0.0</td>\n",
       "      <td>0</td>\n",
       "      <td>0.0</td>\n",
       "      <td>0.0</td>\n",
       "      <td>0.0</td>\n",
       "      <td>NaN</td>\n",
       "      <td>0</td>\n",
       "      <td>0</td>\n",
       "      <td>0</td>\n",
       "      <td>0</td>\n",
       "      <td>0</td>\n",
       "      <td>0</td>\n",
       "      <td>0</td>\n",
       "      <td>3</td>\n",
       "      <td>0</td>\n",
       "      <td>0.0</td>\n",
       "      <td>0.0</td>\n",
       "      <td>3.0</td>\n",
       "      <td>060139</td>\n",
       "      <td>NaN</td>\n",
       "      <td>NaN</td>\n",
       "      <td>2.35</td>\n",
       "      <td>0</td>\n",
       "      <td>0.0</td>\n",
       "      <td>12</td>\n",
       "    </tr>\n",
       "    <tr>\n",
       "      <th>1187217</th>\n",
       "      <td>2564638576</td>\n",
       "      <td>2015</td>\n",
       "      <td>201512</td>\n",
       "      <td>1</td>\n",
       "      <td>4</td>\n",
       "      <td>78468</td>\n",
       "      <td>1109486</td>\n",
       "      <td>1</td>\n",
       "      <td>IM</td>\n",
       "      <td>4</td>\n",
       "      <td>4000</td>\n",
       "      <td>110</td>\n",
       "      <td>A110</td>\n",
       "      <td>N/D</td>\n",
       "      <td>N/D</td>\n",
       "      <td>GT</td>\n",
       "      <td>06140210071022</td>\n",
       "      <td>108.0</td>\n",
       "      <td>NaN</td>\n",
       "      <td>5.0</td>\n",
       "      <td>98.0</td>\n",
       "      <td>5.0</td>\n",
       "      <td>1</td>\n",
       "      <td>5226</td>\n",
       "      <td>3</td>\n",
       "      <td>53</td>\n",
       "      <td>83030000000</td>\n",
       "      <td>83030000000</td>\n",
       "      <td>US</td>\n",
       "      <td>US</td>\n",
       "      <td>0.01</td>\n",
       "      <td>PK</td>\n",
       "      <td>NaN</td>\n",
       "      <td>NaN</td>\n",
       "      <td>TRANSPORTES ZULETA INC.</td>\n",
       "      <td>N/D</td>\n",
       "      <td>NaN</td>\n",
       "      <td>NaN</td>\n",
       "      <td>2015-12-09 15:31:01</td>\n",
       "      <td>2015-12-10 00:00:00</td>\n",
       "      <td>2015-12-11 11:01:34</td>\n",
       "      <td>2015-12-11 11:01:34</td>\n",
       "      <td>2015-12-30 15:31:31</td>\n",
       "      <td>NaN</td>\n",
       "      <td>10.29</td>\n",
       "      <td>9.48</td>\n",
       "      <td>0.67</td>\n",
       "      <td>0.14</td>\n",
       "      <td>0.0</td>\n",
       "      <td>1.51</td>\n",
       "      <td>1.51</td>\n",
       "      <td>1.54</td>\n",
       "      <td>1.53</td>\n",
       "      <td>0.0</td>\n",
       "      <td>0.00</td>\n",
       "      <td>1.54</td>\n",
       "      <td>1.53</td>\n",
       "      <td>0.0</td>\n",
       "      <td>0.00</td>\n",
       "      <td>0</td>\n",
       "      <td>0.0</td>\n",
       "      <td>0.0</td>\n",
       "      <td>0</td>\n",
       "      <td>0.0</td>\n",
       "      <td>0.0</td>\n",
       "      <td>0.0</td>\n",
       "      <td>NaN</td>\n",
       "      <td>0</td>\n",
       "      <td>0</td>\n",
       "      <td>0</td>\n",
       "      <td>0</td>\n",
       "      <td>0</td>\n",
       "      <td>0</td>\n",
       "      <td>0</td>\n",
       "      <td>3</td>\n",
       "      <td>0</td>\n",
       "      <td>0.0</td>\n",
       "      <td>0.0</td>\n",
       "      <td>3.0</td>\n",
       "      <td>060134</td>\n",
       "      <td>NaN</td>\n",
       "      <td>NaN</td>\n",
       "      <td>3.07</td>\n",
       "      <td>0</td>\n",
       "      <td>0.0</td>\n",
       "      <td>12</td>\n",
       "    </tr>\n",
       "  </tbody>\n",
       "</table>\n",
       "</div>"
      ],
      "text/plain": [
       "         identificador  anno  anno_mes_registro  aduana  numero_serial  \\\n",
       "128492        18713023  2010             201009       6              4   \n",
       "2028139     6160904821  2019             201910      27              4   \n",
       "32708         18803937  2010             201009       1              4   \n",
       "960290       855734588  2013             201312      77              4   \n",
       "1187217     2564638576  2015             201512       1              4   \n",
       "\n",
       "         numero_registro numero_declaracion  ingreso_salida  \\\n",
       "128492             37054            0513304               1   \n",
       "2028139              731           17620201               1   \n",
       "32708              65193            1555884               1   \n",
       "960290             12561           15211777               1   \n",
       "1187217            78468            1109486               1   \n",
       "\n",
       "        destinacion_mercancia  patron_operacion  regimen agente_aduanas  \\\n",
       "128492                     IM                 4     4000            051   \n",
       "2028139                    IM                 4     4054            176   \n",
       "32708                      IM                 4     4000            155   \n",
       "960290                     IM                 4     4000            152   \n",
       "1187217                    IM                 4     4000            110   \n",
       "\n",
       "        digitador agencia_carga puerto_embarque pais_procedencia  \\\n",
       "128492       A051           N/D             N/D               GT   \n",
       "2028139      A176           N/D             N/D               TE   \n",
       "32708        A155           N/D             N/D               US   \n",
       "960290       A152           N/D             N/D               US   \n",
       "1187217      A110           N/D             N/D               GT   \n",
       "\n",
       "          contribuyente almacen  deposito_fiscal  tipo_transporte  tipo_pago  \\\n",
       "128492   06141807051010    0602              NaN              5.0     9899.0   \n",
       "2028139  06141804131013  2701.0              NaN              1.0     9890.0   \n",
       "32708    06140503771037    0100              NaN              1.0     9899.0   \n",
       "960290   05030104711027    7701              NaN              5.0     9890.0   \n",
       "1187217  06140210071022   108.0              NaN              5.0       98.0   \n",
       "\n",
       "         codigo_banco  version_declaracion oficial_aduanero  \\\n",
       "128492           27.0                    1             1846   \n",
       "2028139           9.0                    1             5033   \n",
       "32708             9.0                    1             1199   \n",
       "960290           12.0                    0             5160   \n",
       "1187217           5.0                    1             5226   \n",
       "\n",
       "         canal_selectividad  item  inciso_arancelario  inciso_arancelario_old  \\\n",
       "128492                    3    20         84158200000             84158200000   \n",
       "2028139                   3     1         48191000000             48191000000   \n",
       "32708                     3     1         87032379000             87032379000   \n",
       "960290                    3     7         87082990004             87082990004   \n",
       "1187217                   3    53         83030000000             83030000000   \n",
       "\n",
       "        pais_origen_destino pais_origen_destino_old  cuantia unidad_medida  \\\n",
       "128492                   CN                      CN     7.39            PK   \n",
       "2028139                  TE                      TE   590.00            PK   \n",
       "32708                    US                      US     1.00            BT   \n",
       "960290                   US                      US     1.00            PK   \n",
       "1187217                  US                      US     0.01            PK   \n",
       "\n",
       "        preferencia_arancelaria identificacion_carga  \\\n",
       "128492                      NaN                  NaN   \n",
       "2028139                     NaN                  NaN   \n",
       "32708                       NaN                  NaN   \n",
       "960290                      NaN                  NaN   \n",
       "1187217                     NaN                  NaN   \n",
       "\n",
       "                                  proveedor consolidadora fecha_arribo  \\\n",
       "128492        H G REFRIGERATION SUPPLY,INC.           N/D          NaN   \n",
       "2028139  COMERCIALIZADORA CAISA, S.A DE C.V           N/D          NaN   \n",
       "32708                                  IAAI           N/D          NaN   \n",
       "960290         MEGA IMPORTS AUTO SALES INC.           N/D          NaN   \n",
       "1187217             TRANSPORTES ZULETA INC.           N/D          NaN   \n",
       "\n",
       "         fecha_ingreso_almacen   fecha_registro_dua           fecha_pago  \\\n",
       "128492                     NaN  2010-09-06 11:24:40  2010-09-07 00:00:00   \n",
       "2028139                    NaN  2019-10-21 09:06:24                  NaN   \n",
       "32708                      NaN  2010-09-21 14:00:44  2010-09-21 00:00:00   \n",
       "960290                     NaN  2013-12-13 08:01:58                  NaN   \n",
       "1187217                    NaN  2015-12-09 15:31:01  2015-12-10 00:00:00   \n",
       "\n",
       "        fecha_recepcion_fisica fecha_asignacion_canal  \\\n",
       "128492     2010-09-07 17:32:10    2010-09-07 17:32:10   \n",
       "2028139    2019-10-21 10:02:07    2019-10-21 10:02:07   \n",
       "32708      2010-09-21 15:01:01    2010-09-21 15:01:01   \n",
       "960290     2013-12-16 10:03:58    2013-12-16 10:03:58   \n",
       "1187217    2015-12-11 11:01:34    2015-12-11 11:01:34   \n",
       "\n",
       "        fecha_autorizacion_salida         fecha_salida      cif      fob  \\\n",
       "128492        2010-09-10 15:42:24                  NaN  1591.69  1479.76   \n",
       "2028139       2019-10-21 11:06:49                  NaN  7100.90  7100.90   \n",
       "32708         2010-09-22 08:32:40  2010-09-22 15:00:41  2502.06  2152.06   \n",
       "960290        2013-12-17 08:12:23                  NaN    16.72    15.00   \n",
       "1187217       2015-12-30 15:31:31                  NaN    10.29     9.48   \n",
       "\n",
       "          flete  seguro  otros_valores  peso_bruto  peso_neto  dai_nominal  \\\n",
       "128492    89.24   22.19            0.5      548.82     548.82       238.75   \n",
       "2028139    0.00    0.00            0.0     5190.34    5182.27       710.09   \n",
       "32708    300.00   50.00            0.0     1940.00    1940.00       750.61   \n",
       "960290     1.50    0.22            0.0       12.09      12.09         0.16   \n",
       "1187217    0.67    0.14            0.0        1.51       1.51         1.54   \n",
       "\n",
       "         iva_nominal  alc_nominal  otros_tributo_nominal  dai_pagado  \\\n",
       "128492        237.95          0.0                   0.00      238.75   \n",
       "2028139      1015.42          0.0                   0.00      710.09   \n",
       "32708         422.84          0.0                  25.02      750.61   \n",
       "960290          2.19          0.0                   0.00        0.16   \n",
       "1187217         1.53          0.0                   0.00        1.54   \n",
       "\n",
       "         iva_pagado  alc_pagado  otros_tributo_pagado  cif_variacion  \\\n",
       "128492       237.95         0.0                  0.00              0   \n",
       "2028139     1015.42         0.0                  0.00              0   \n",
       "32708        422.84         0.0                 25.02              0   \n",
       "960290         2.19         0.0                  0.00              0   \n",
       "1187217        1.53         0.0                  0.00              0   \n",
       "\n",
       "         dai_variacion  iva_variacion  alc_variacion  otros_tributo_variacion  \\\n",
       "128492             0.0            0.0              0                      0.0   \n",
       "2028139            0.0            0.0              0                      0.0   \n",
       "32708              0.0            0.0              0                      0.0   \n",
       "960290             0.0            0.0              0                      0.0   \n",
       "1187217            0.0            0.0              0                      0.0   \n",
       "\n",
       "         peso_bruto_variacion  cantidad_unidad_variacion dm_precendente  \\\n",
       "128492                    0.0                        0.0            NaN   \n",
       "2028139                   0.0                        0.0            NaN   \n",
       "32708                     0.0                        0.0            NaN   \n",
       "960290                    0.0                        0.0            NaN   \n",
       "1187217                   0.0                        0.0            NaN   \n",
       "\n",
       "         indicador_valores  indicador_tributos  indicador_clasificacion  \\\n",
       "128492                   0                   0                        0   \n",
       "2028139                  0                   0                        0   \n",
       "32708                    0                   0                        0   \n",
       "960290                   0                   0                        0   \n",
       "1187217                  0                   0                        0   \n",
       "\n",
       "         indicador_origen  indicador_cantidad  indicador_peso  \\\n",
       "128492                  0                   0               0   \n",
       "2028139                 0                   0               0   \n",
       "32708                   0                   0               0   \n",
       "960290                  0                   0               0   \n",
       "1187217                 0                   0               0   \n",
       "\n",
       "         indicador_incidencia  modalidad_pago  sub_regimen  \\\n",
       "128492                      0               3            0   \n",
       "2028139                     0               3            0   \n",
       "32708                       0               7            0   \n",
       "960290                      0               3            0   \n",
       "1187217                     0               3            0   \n",
       "\n",
       "         variacion_administrativa  variacion_tributaria  estado_declaracion  \\\n",
       "128492                        0.0                   0.0                 3.0   \n",
       "2028139                       0.0                   0.0                 3.0   \n",
       "32708                         0.0                   0.0                 4.0   \n",
       "960290                        0.0                   0.0                 3.0   \n",
       "1187217                       0.0                   0.0                 3.0   \n",
       "\n",
       "        actividad_economica manifiesto_carga codigo_proveedor  impuesto_total  \\\n",
       "128492               060141              NaN        PRV999999          476.70   \n",
       "2028139                 N/D              NaN              NaN         1725.51   \n",
       "32708                060140              NaN        PRV999999         1198.47   \n",
       "960290               060139              NaN              NaN            2.35   \n",
       "1187217              060134              NaN              NaN            3.07   \n",
       "\n",
       "         illicit  revenue  mes  \n",
       "128492         0      0.0    9  \n",
       "2028139        0      0.0   10  \n",
       "32708          0      0.0    9  \n",
       "960290         0      0.0   12  \n",
       "1187217        0      0.0   12  "
      ]
     },
     "execution_count": 5,
     "metadata": {},
     "output_type": "execute_result"
    }
   ],
   "source": [
    "# View/print 5 samples of df\n",
    "df.sample(5)"
   ]
  },
  {
   "cell_type": "code",
   "execution_count": 6,
   "metadata": {
    "ExecuteTime": {
     "end_time": "2021-03-11T20:24:21.078623Z",
     "start_time": "2021-03-11T20:24:19.250543Z"
    }
   },
   "outputs": [
    {
     "name": "stdout",
     "output_type": "stream",
     "text": [
      "<class 'pandas.core.frame.DataFrame'>\n",
      "Int64Index: 1585557 entries, 7 to 2043248\n",
      "Data columns (total 86 columns):\n",
      " #   Column                     Non-Null Count    Dtype  \n",
      "---  ------                     --------------    -----  \n",
      " 0   identificador              1585557 non-null  int64  \n",
      " 1   anno                       1585557 non-null  int64  \n",
      " 2   anno_mes_registro          1585557 non-null  int64  \n",
      " 3   aduana                     1585557 non-null  int64  \n",
      " 4   numero_serial              1585557 non-null  int64  \n",
      " 5   numero_registro            1585557 non-null  int64  \n",
      " 6   numero_declaracion         1585557 non-null  object \n",
      " 7   ingreso_salida             1585557 non-null  int64  \n",
      " 8   destinacion_mercancia      1585557 non-null  object \n",
      " 9   patron_operacion           1585557 non-null  int64  \n",
      " 10  regimen                    1585557 non-null  int64  \n",
      " 11  agente_aduanas             1585557 non-null  object \n",
      " 12  digitador                  1585557 non-null  object \n",
      " 13  agencia_carga              1585557 non-null  object \n",
      " 14  puerto_embarque            1585557 non-null  object \n",
      " 15  pais_procedencia           1585552 non-null  object \n",
      " 16  contribuyente              1585557 non-null  object \n",
      " 17  almacen                    1585557 non-null  object \n",
      " 18  deposito_fiscal            4690 non-null     float64\n",
      " 19  tipo_transporte            1585557 non-null  float64\n",
      " 20  tipo_pago                  1522630 non-null  float64\n",
      " 21  codigo_banco               1585557 non-null  float64\n",
      " 22  version_declaracion        1585557 non-null  int64  \n",
      " 23  oficial_aduanero           1585557 non-null  object \n",
      " 24  canal_selectividad         1585557 non-null  int64  \n",
      " 25  item                       1585557 non-null  int64  \n",
      " 26  inciso_arancelario         1585557 non-null  int64  \n",
      " 27  inciso_arancelario_old     1585557 non-null  int64  \n",
      " 28  pais_origen_destino        1585551 non-null  object \n",
      " 29  pais_origen_destino_old    1585551 non-null  object \n",
      " 30  cuantia                    1585557 non-null  float64\n",
      " 31  unidad_medida              1585557 non-null  object \n",
      " 32  preferencia_arancelaria    115280 non-null   object \n",
      " 33  identificacion_carga       238198 non-null   object \n",
      " 34  proveedor                  1585447 non-null  object \n",
      " 35  consolidadora              1585557 non-null  object \n",
      " 36  fecha_arribo               184089 non-null   object \n",
      " 37  fecha_ingreso_almacen      0 non-null        float64\n",
      " 38  fecha_registro_dua         1585515 non-null  object \n",
      " 39  fecha_pago                 840293 non-null   object \n",
      " 40  fecha_recepcion_fisica     1585557 non-null  object \n",
      " 41  fecha_asignacion_canal     1585557 non-null  object \n",
      " 42  fecha_autorizacion_salida  1574087 non-null  object \n",
      " 43  fecha_salida               278960 non-null   object \n",
      " 44  cif                        1585557 non-null  float64\n",
      " 45  fob                        1585557 non-null  float64\n",
      " 46  flete                      1585557 non-null  float64\n",
      " 47  seguro                     1585557 non-null  float64\n",
      " 48  otros_valores              1585557 non-null  float64\n",
      " 49  peso_bruto                 1585557 non-null  float64\n",
      " 50  peso_neto                  1585557 non-null  float64\n",
      " 51  dai_nominal                1585557 non-null  float64\n",
      " 52  iva_nominal                1585557 non-null  float64\n",
      " 53  alc_nominal                1585557 non-null  float64\n",
      " 54  otros_tributo_nominal      1585557 non-null  float64\n",
      " 55  dai_pagado                 1585557 non-null  float64\n",
      " 56  iva_pagado                 1585557 non-null  float64\n",
      " 57  alc_pagado                 1585557 non-null  float64\n",
      " 58  otros_tributo_pagado       1585557 non-null  float64\n",
      " 59  cif_variacion              1585557 non-null  int64  \n",
      " 60  dai_variacion              1585557 non-null  float64\n",
      " 61  iva_variacion              1585557 non-null  float64\n",
      " 62  alc_variacion              1585557 non-null  int64  \n",
      " 63  otros_tributo_variacion    1585557 non-null  float64\n",
      " 64  peso_bruto_variacion       1585557 non-null  float64\n",
      " 65  cantidad_unidad_variacion  1585557 non-null  float64\n",
      " 66  dm_precendente             88707 non-null    object \n",
      " 67  indicador_valores          1585557 non-null  int64  \n",
      " 68  indicador_tributos         1585557 non-null  int64  \n",
      " 69  indicador_clasificacion    1585557 non-null  int64  \n",
      " 70  indicador_origen           1585557 non-null  int64  \n",
      " 71  indicador_cantidad         1585557 non-null  int64  \n",
      " 72  indicador_peso             1585557 non-null  int64  \n",
      " 73  indicador_incidencia       1585557 non-null  int64  \n",
      " 74  modalidad_pago             1585557 non-null  int64  \n",
      " 75  sub_regimen                1585557 non-null  int64  \n",
      " 76  variacion_administrativa   1580329 non-null  float64\n",
      " 77  variacion_tributaria       1575572 non-null  float64\n",
      " 78  estado_declaracion         1582175 non-null  float64\n",
      " 79  actividad_economica        1585553 non-null  object \n",
      " 80  manifiesto_carga           192571 non-null   object \n",
      " 81  codigo_proveedor           637785 non-null   object \n",
      " 82  impuesto_total             1585557 non-null  float64\n",
      " 83  illicit                    1585557 non-null  int64  \n",
      " 84  revenue                    1570344 non-null  float64\n",
      " 85  mes                        1585557 non-null  int64  \n",
      "dtypes: float64(31), int64(27), object(28)\n",
      "memory usage: 1.0+ GB\n"
     ]
    }
   ],
   "source": [
    "# Get an overview of df\n",
    "df.info()"
   ]
  },
  {
   "cell_type": "code",
   "execution_count": 7,
   "metadata": {
    "ExecuteTime": {
     "end_time": "2021-03-11T20:24:22.550621Z",
     "start_time": "2021-03-11T20:24:21.079625Z"
    }
   },
   "outputs": [
    {
     "data": {
      "text/plain": [
       "22"
      ]
     },
     "execution_count": 7,
     "metadata": {},
     "output_type": "execute_result"
    }
   ],
   "source": [
    "# Check NAs (missing values)\n",
    "df.isna().any().sum()"
   ]
  },
  {
   "cell_type": "code",
   "execution_count": 8,
   "metadata": {
    "ExecuteTime": {
     "end_time": "2021-03-11T20:24:22.906639Z",
     "start_time": "2021-03-11T20:24:22.552621Z"
    }
   },
   "outputs": [],
   "source": [
    "# Select columns to use in models\n",
    "# columns_to_use=['year','month','day',\n",
    "#                 'OFFICE', 'IMPORTER.TIN', \n",
    "#                 #'DECLARANT.CODE', \n",
    "#                 'TARIFF.CODE','ORIGIN.CODE', \n",
    "#                 'CIF_USD_EQUIVALENT','QUANTITY', 'GROSS.WEIGHT', \n",
    "#                 'TOTAL.TAXES.USD',\n",
    "#                 #'RAISED_TAX_AMOUNT_USD', \n",
    "#                 'illicit', \n",
    "#                 ]\n",
    "\n",
    "columns_to_use = [\n",
    "    'anno', 'mes', 'aduana', \n",
    "    #'agente_aduanas',\n",
    "    'contribuyente', 'inciso_arancelario', 'pais_origen_destino', \n",
    "    'cif', 'cuantia', 'peso_bruto','impuesto_total', 'illicit'\n",
    "]\n",
    "\n",
    "df = df[columns_to_use]"
   ]
  },
  {
   "cell_type": "markdown",
   "metadata": {},
   "source": [
    "## 2. Data preprocessing <a id='id2'></a>"
   ]
  },
  {
   "cell_type": "markdown",
   "metadata": {},
   "source": [
    "### Split into train-data and test-data"
   ]
  },
  {
   "cell_type": "code",
   "execution_count": 9,
   "metadata": {
    "ExecuteTime": {
     "end_time": "2021-03-11T20:24:23.070621Z",
     "start_time": "2021-03-11T20:24:22.909620Z"
    }
   },
   "outputs": [
    {
     "data": {
      "text/plain": [
       "2011    239271\n",
       "2012    205874\n",
       "2010    204277\n",
       "2017    161764\n",
       "2018    154957\n",
       "2013    139665\n",
       "2014    137278\n",
       "2016    132007\n",
       "2015    116187\n",
       "2019     94277\n",
       "Name: anno, dtype: int64"
      ]
     },
     "execution_count": 9,
     "metadata": {},
     "output_type": "execute_result"
    }
   ],
   "source": [
    "# Check unique values in year\n",
    "df['anno'].value_counts()"
   ]
  },
  {
   "cell_type": "code",
   "execution_count": 10,
   "metadata": {
    "ExecuteTime": {
     "end_time": "2021-03-11T20:24:23.167623Z",
     "start_time": "2021-03-11T20:24:23.072623Z"
    }
   },
   "outputs": [
    {
     "name": "stdout",
     "output_type": "stream",
     "text": [
      "Now, train-data has 139665 entries and 11 features\n",
      "Now, test-data has 137278 entries and 11 features\n"
     ]
    }
   ],
   "source": [
    "# Set 2013 data as training data\n",
    "df_train = df[df.anno == 2013].reset_index(drop=True)\n",
    "# Set 2014 data as testing data\n",
    "df_test = df[df.anno == 2014].reset_index(drop=True)\n",
    "print(\"Now, train-data has {} entries and {} features\".format(*df_train.shape))\n",
    "print(\"Now, test-data has {} entries and {} features\".format(*df_test.shape))"
   ]
  },
  {
   "cell_type": "code",
   "execution_count": 11,
   "metadata": {
    "ExecuteTime": {
     "end_time": "2021-03-11T20:24:23.176621Z",
     "start_time": "2021-03-11T20:24:23.168621Z"
    }
   },
   "outputs": [
    {
     "data": {
      "text/plain": [
       "anno                     int64\n",
       "mes                      int64\n",
       "aduana                   int64\n",
       "contribuyente           object\n",
       "inciso_arancelario       int64\n",
       "pais_origen_destino     object\n",
       "cif                    float64\n",
       "cuantia                float64\n",
       "peso_bruto             float64\n",
       "impuesto_total         float64\n",
       "illicit                  int64\n",
       "dtype: object"
      ]
     },
     "execution_count": 11,
     "metadata": {},
     "output_type": "execute_result"
    }
   ],
   "source": [
    "df_train.dtypes"
   ]
  },
  {
   "cell_type": "code",
   "execution_count": 12,
   "metadata": {
    "ExecuteTime": {
     "end_time": "2021-03-11T20:24:23.202621Z",
     "start_time": "2021-03-11T20:24:23.180622Z"
    }
   },
   "outputs": [
    {
     "data": {
      "text/plain": [
       "array([ 1,  2,  3,  4,  5,  6,  7,  8,  9, 10, 11, 15, 16, 17, 18, 20, 21,\n",
       "       23, 24, 26, 27, 28, 29, 30, 31, 32, 34, 35, 37, 38, 39, 71, 72, 73,\n",
       "       76, 77, 78, 79, 80, 81, 82, 83], dtype=int64)"
      ]
     },
     "execution_count": 12,
     "metadata": {},
     "output_type": "execute_result"
    }
   ],
   "source": [
    "df_train.aduana.unique()"
   ]
  },
  {
   "cell_type": "markdown",
   "metadata": {},
   "source": [
    "### Extract labels"
   ]
  },
  {
   "cell_type": "code",
   "execution_count": 13,
   "metadata": {
    "ExecuteTime": {
     "end_time": "2021-03-11T20:24:23.220624Z",
     "start_time": "2021-03-11T20:24:23.204620Z"
    }
   },
   "outputs": [],
   "source": [
    "train_labels = df_train.pop('illicit')\n",
    "test_labels = df_test.pop('illicit')"
   ]
  },
  {
   "cell_type": "markdown",
   "metadata": {},
   "source": [
    "### Define categorical and numeric variables"
   ]
  },
  {
   "cell_type": "code",
   "execution_count": 14,
   "metadata": {
    "ExecuteTime": {
     "end_time": "2021-03-11T20:24:23.229619Z",
     "start_time": "2021-03-11T20:24:23.222620Z"
    }
   },
   "outputs": [
    {
     "data": {
      "text/plain": [
       "['inciso_arancelario',\n",
       " 'mes',\n",
       " 'anno',\n",
       " 'aduana',\n",
       " 'pais_origen_destino',\n",
       " 'contribuyente']"
      ]
     },
     "execution_count": 14,
     "metadata": {},
     "output_type": "execute_result"
    }
   ],
   "source": [
    "# We already filtered by year\n",
    "#del df_train['anno'], df_test['anno']\n",
    "\n",
    "# Define numeric variables\n",
    "numeric_vars = ['cif', 'cuantia', 'peso_bruto', 'impuesto_total']\n",
    "# Define categrical variables\n",
    "categorical_vars = list(set(df_train.columns)-set(numeric_vars))\n",
    "categorical_vars"
   ]
  },
  {
   "cell_type": "code",
   "execution_count": 15,
   "metadata": {
    "ExecuteTime": {
     "end_time": "2021-03-11T20:24:23.355621Z",
     "start_time": "2021-03-11T20:24:23.231620Z"
    },
    "scrolled": true
   },
   "outputs": [],
   "source": [
    "# replace na with 0 or 'unknown'\n",
    "df_train[categorical_vars] = df_train[categorical_vars].fillna('unknown')\n",
    "df_train[numeric_vars] = df_train[numeric_vars].fillna(0)\n",
    "df_test[categorical_vars] = df_test[categorical_vars].fillna('unknown')\n",
    "df_test[numeric_vars] = df_test[numeric_vars].fillna(0)"
   ]
  },
  {
   "cell_type": "markdown",
   "metadata": {},
   "source": [
    "### Categorical variables: Label-encoding for embedding"
   ]
  },
  {
   "cell_type": "markdown",
   "metadata": {},
   "source": [
    "### Train data"
   ]
  },
  {
   "cell_type": "code",
   "execution_count": 16,
   "metadata": {
    "ExecuteTime": {
     "end_time": "2021-03-11T20:24:24.131619Z",
     "start_time": "2021-03-11T20:24:23.357619Z"
    },
    "scrolled": true
   },
   "outputs": [],
   "source": [
    "# Convert categorical variables to numeric variables (otpion 1)\n",
    "\n",
    "# Create an empty dict for mapping classes with labels\n",
    "Categories_mapping = {}\n",
    "\n",
    "#categorical_vars = ['inciso_arancelario', 'contribuyente', 'pais_origen_destino',]\n",
    "for var in categorical_vars:\n",
    "    # Option 1\n",
    "    # Make sure that it is a categorical variable\n",
    "    df_train[var]=df_train[var].astype(str) # str\n",
    "    # Create a mapping-reference table for maping classes(categories) with labels\n",
    "    Categories_mapping[var] = {key:value for value, key in enumerate(df_train[var].unique())}\n",
    "    # Convert classes(categories) to a corresponding numeric code\n",
    "    df_train[var]=df_train[var].map(Categories_mapping[var])\n",
    "    \n",
    "    '''\n",
    "    # Option 2\n",
    "    # Make sure that it is a categorical variable\n",
    "    df_train.loc[:, var] = df_train[var].astype('category')\n",
    "    # Create a mapping-reference table for maping clases(categories) with labels\n",
    "    #Categories_mapping[var] = dict(zip(df_train[var].cat.categorical, df_train[var].cat.codes))\n",
    "    Categories_mapping[var] = dict(zip(pd.Categorical(df_train[var]), pd.Categorical(df_train[var].cat.codes)))\n",
    "    # Convert classes(categories) to a corresponding numeric code\n",
    "    df_train[var] = df_train.copy()[var].cat.codes\n",
    "    '''"
   ]
  },
  {
   "cell_type": "code",
   "execution_count": 17,
   "metadata": {
    "ExecuteTime": {
     "end_time": "2021-03-11T20:24:24.137622Z",
     "start_time": "2021-03-11T20:24:24.132624Z"
    },
    "scrolled": false
   },
   "outputs": [
    {
     "data": {
      "text/plain": [
       "dict_keys(['inciso_arancelario', 'mes', 'anno', 'aduana', 'pais_origen_destino', 'contribuyente'])"
      ]
     },
     "execution_count": 17,
     "metadata": {},
     "output_type": "execute_result"
    }
   ],
   "source": [
    "# Check keys in the mapping-reference table\n",
    "Categories_mapping.keys()"
   ]
  },
  {
   "cell_type": "code",
   "execution_count": 18,
   "metadata": {
    "ExecuteTime": {
     "end_time": "2021-03-11T20:24:24.159619Z",
     "start_time": "2021-03-11T20:24:24.139619Z"
    },
    "scrolled": false
   },
   "outputs": [
    {
     "data": {
      "text/plain": [
       "{'1': 0,\n",
       " '2': 1,\n",
       " '3': 2,\n",
       " '4': 3,\n",
       " '5': 4,\n",
       " '6': 5,\n",
       " '7': 6,\n",
       " '8': 7,\n",
       " '9': 8,\n",
       " '10': 9,\n",
       " '11': 10,\n",
       " '15': 11,\n",
       " '16': 12,\n",
       " '17': 13,\n",
       " '18': 14,\n",
       " '20': 15,\n",
       " '21': 16,\n",
       " '23': 17,\n",
       " '24': 18,\n",
       " '26': 19,\n",
       " '27': 20,\n",
       " '28': 21,\n",
       " '29': 22,\n",
       " '30': 23,\n",
       " '31': 24,\n",
       " '32': 25,\n",
       " '34': 26,\n",
       " '35': 27,\n",
       " '37': 28,\n",
       " '38': 29,\n",
       " '39': 30,\n",
       " '71': 31,\n",
       " '72': 32,\n",
       " '73': 33,\n",
       " '76': 34,\n",
       " '77': 35,\n",
       " '78': 36,\n",
       " '79': 37,\n",
       " '80': 38,\n",
       " '81': 39,\n",
       " '82': 40,\n",
       " '83': 41}"
      ]
     },
     "execution_count": 18,
     "metadata": {},
     "output_type": "execute_result"
    }
   ],
   "source": [
    "# Overview the mapping (label-encoding) of 'OFFICE'\n",
    "Categories_mapping['aduana']"
   ]
  },
  {
   "cell_type": "code",
   "execution_count": 19,
   "metadata": {
    "ExecuteTime": {
     "end_time": "2021-03-11T20:24:24.188620Z",
     "start_time": "2021-03-11T20:24:24.161620Z"
    }
   },
   "outputs": [],
   "source": [
    "# Set size of embedding\n",
    "\n",
    "# Prepare an empty dictionary for saving category size (nuber of classes)\n",
    "category_sizes = {}\n",
    "# Prepare an empty dictionary for saving the embedding size (number of embedding columns)\n",
    "categorical_vars_embsizes = {}\n",
    "\n",
    "for var in categorical_vars:\n",
    "    # Count the unique values in each categorical variable\n",
    "    category_sizes[var] = df_train[var].nunique()\n",
    "    # Set the size of embedding\n",
    "    categorical_vars_embsizes[var] = min(1000, category_sizes[var]//2+1)"
   ]
  },
  {
   "cell_type": "code",
   "execution_count": 20,
   "metadata": {
    "ExecuteTime": {
     "end_time": "2021-03-11T20:24:24.196624Z",
     "start_time": "2021-03-11T20:24:24.190621Z"
    },
    "scrolled": true
   },
   "outputs": [
    {
     "data": {
      "text/plain": [
       "({'inciso_arancelario': 4432,\n",
       "  'mes': 12,\n",
       "  'anno': 1,\n",
       "  'aduana': 42,\n",
       "  'pais_origen_destino': 118,\n",
       "  'contribuyente': 5434},\n",
       " {'inciso_arancelario': 1000,\n",
       "  'mes': 7,\n",
       "  'anno': 1,\n",
       "  'aduana': 22,\n",
       "  'pais_origen_destino': 60,\n",
       "  'contribuyente': 1000})"
      ]
     },
     "execution_count": 20,
     "metadata": {},
     "output_type": "execute_result"
    }
   ],
   "source": [
    "category_sizes, categorical_vars_embsizes, "
   ]
  },
  {
   "cell_type": "markdown",
   "metadata": {},
   "source": [
    "### Test-data"
   ]
  },
  {
   "cell_type": "code",
   "execution_count": 21,
   "metadata": {
    "ExecuteTime": {
     "end_time": "2021-03-11T20:24:24.536618Z",
     "start_time": "2021-03-11T20:24:24.198619Z"
    },
    "scrolled": true
   },
   "outputs": [
    {
     "name": "stderr",
     "output_type": "stream",
     "text": [
      "<ipython-input-21-1fa4ee8835ba>:4: SettingWithCopyWarning: \n",
      "A value is trying to be set on a copy of a slice from a DataFrame\n",
      "\n",
      "See the caveats in the documentation: https://pandas.pydata.org/pandas-docs/stable/user_guide/indexing.html#returning-a-view-versus-a-copy\n",
      "  df_test[vars][df_test[vars].isnull()] = df_train[vars].nunique()\n"
     ]
    },
    {
     "data": {
      "text/plain": [
       "inciso_arancelario     False\n",
       "mes                    False\n",
       "anno                   False\n",
       "aduana                 False\n",
       "pais_origen_destino    False\n",
       "contribuyente          False\n",
       "dtype: bool"
      ]
     },
     "execution_count": 21,
     "metadata": {},
     "output_type": "execute_result"
    }
   ],
   "source": [
    "# label-encode test-data in reference to train-data\n",
    "for vars in categorical_vars:\n",
    "    df_test[vars] = df_test[vars].map(Categories_mapping[vars])\n",
    "    df_test[vars][df_test[vars].isnull()] = df_train[vars].nunique()\n",
    "df_test[categorical_vars].isnull().any()"
   ]
  },
  {
   "cell_type": "code",
   "execution_count": 22,
   "metadata": {
    "ExecuteTime": {
     "end_time": "2021-03-11T20:24:24.552619Z",
     "start_time": "2021-03-11T20:24:24.538620Z"
    }
   },
   "outputs": [
    {
     "data": {
      "text/html": [
       "<div>\n",
       "<style scoped>\n",
       "    .dataframe tbody tr th:only-of-type {\n",
       "        vertical-align: middle;\n",
       "    }\n",
       "\n",
       "    .dataframe tbody tr th {\n",
       "        vertical-align: top;\n",
       "    }\n",
       "\n",
       "    .dataframe thead th {\n",
       "        text-align: right;\n",
       "    }\n",
       "</style>\n",
       "<table border=\"1\" class=\"dataframe\">\n",
       "  <thead>\n",
       "    <tr style=\"text-align: right;\">\n",
       "      <th></th>\n",
       "      <th>anno</th>\n",
       "      <th>mes</th>\n",
       "      <th>aduana</th>\n",
       "      <th>contribuyente</th>\n",
       "      <th>inciso_arancelario</th>\n",
       "      <th>pais_origen_destino</th>\n",
       "      <th>cif</th>\n",
       "      <th>cuantia</th>\n",
       "      <th>peso_bruto</th>\n",
       "      <th>impuesto_total</th>\n",
       "    </tr>\n",
       "  </thead>\n",
       "  <tbody>\n",
       "    <tr>\n",
       "      <th>0</th>\n",
       "      <td>0</td>\n",
       "      <td>0</td>\n",
       "      <td>0</td>\n",
       "      <td>0</td>\n",
       "      <td>0</td>\n",
       "      <td>0</td>\n",
       "      <td>1569.37</td>\n",
       "      <td>300.0</td>\n",
       "      <td>13608.00</td>\n",
       "      <td>204.01</td>\n",
       "    </tr>\n",
       "    <tr>\n",
       "      <th>1</th>\n",
       "      <td>0</td>\n",
       "      <td>0</td>\n",
       "      <td>0</td>\n",
       "      <td>1</td>\n",
       "      <td>1</td>\n",
       "      <td>0</td>\n",
       "      <td>45.04</td>\n",
       "      <td>40.0</td>\n",
       "      <td>453.60</td>\n",
       "      <td>5.85</td>\n",
       "    </tr>\n",
       "    <tr>\n",
       "      <th>2</th>\n",
       "      <td>0</td>\n",
       "      <td>0</td>\n",
       "      <td>0</td>\n",
       "      <td>1</td>\n",
       "      <td>2</td>\n",
       "      <td>0</td>\n",
       "      <td>253.39</td>\n",
       "      <td>100.0</td>\n",
       "      <td>3402.00</td>\n",
       "      <td>32.94</td>\n",
       "    </tr>\n",
       "    <tr>\n",
       "      <th>3</th>\n",
       "      <td>0</td>\n",
       "      <td>0</td>\n",
       "      <td>0</td>\n",
       "      <td>1</td>\n",
       "      <td>3</td>\n",
       "      <td>0</td>\n",
       "      <td>27.02</td>\n",
       "      <td>12.0</td>\n",
       "      <td>181.44</td>\n",
       "      <td>3.51</td>\n",
       "    </tr>\n",
       "    <tr>\n",
       "      <th>4</th>\n",
       "      <td>0</td>\n",
       "      <td>0</td>\n",
       "      <td>0</td>\n",
       "      <td>1</td>\n",
       "      <td>4</td>\n",
       "      <td>0</td>\n",
       "      <td>67.57</td>\n",
       "      <td>20.0</td>\n",
       "      <td>907.20</td>\n",
       "      <td>8.78</td>\n",
       "    </tr>\n",
       "  </tbody>\n",
       "</table>\n",
       "</div>"
      ],
      "text/plain": [
       "   anno  mes  aduana  contribuyente  inciso_arancelario  pais_origen_destino  \\\n",
       "0     0    0       0              0                   0                    0   \n",
       "1     0    0       0              1                   1                    0   \n",
       "2     0    0       0              1                   2                    0   \n",
       "3     0    0       0              1                   3                    0   \n",
       "4     0    0       0              1                   4                    0   \n",
       "\n",
       "       cif  cuantia  peso_bruto  impuesto_total  \n",
       "0  1569.37    300.0    13608.00          204.01  \n",
       "1    45.04     40.0      453.60            5.85  \n",
       "2   253.39    100.0     3402.00           32.94  \n",
       "3    27.02     12.0      181.44            3.51  \n",
       "4    67.57     20.0      907.20            8.78  "
      ]
     },
     "execution_count": 22,
     "metadata": {},
     "output_type": "execute_result"
    }
   ],
   "source": [
    "df_train.head()"
   ]
  },
  {
   "cell_type": "code",
   "execution_count": 23,
   "metadata": {
    "ExecuteTime": {
     "end_time": "2021-03-11T20:24:24.583622Z",
     "start_time": "2021-03-11T20:24:24.556619Z"
    }
   },
   "outputs": [
    {
     "data": {
      "text/html": [
       "<div>\n",
       "<style scoped>\n",
       "    .dataframe tbody tr th:only-of-type {\n",
       "        vertical-align: middle;\n",
       "    }\n",
       "\n",
       "    .dataframe tbody tr th {\n",
       "        vertical-align: top;\n",
       "    }\n",
       "\n",
       "    .dataframe thead th {\n",
       "        text-align: right;\n",
       "    }\n",
       "</style>\n",
       "<table border=\"1\" class=\"dataframe\">\n",
       "  <thead>\n",
       "    <tr style=\"text-align: right;\">\n",
       "      <th></th>\n",
       "      <th>anno</th>\n",
       "      <th>mes</th>\n",
       "      <th>aduana</th>\n",
       "      <th>contribuyente</th>\n",
       "      <th>inciso_arancelario</th>\n",
       "      <th>pais_origen_destino</th>\n",
       "      <th>cif</th>\n",
       "      <th>cuantia</th>\n",
       "      <th>peso_bruto</th>\n",
       "      <th>impuesto_total</th>\n",
       "    </tr>\n",
       "  </thead>\n",
       "  <tbody>\n",
       "    <tr>\n",
       "      <th>0</th>\n",
       "      <td>1.0</td>\n",
       "      <td>12.0</td>\n",
       "      <td>42.0</td>\n",
       "      <td>50.0</td>\n",
       "      <td>4432.0</td>\n",
       "      <td>3.0</td>\n",
       "      <td>33506.25</td>\n",
       "      <td>15.0</td>\n",
       "      <td>19300.00</td>\n",
       "      <td>4355.81</td>\n",
       "    </tr>\n",
       "    <tr>\n",
       "      <th>1</th>\n",
       "      <td>1.0</td>\n",
       "      <td>12.0</td>\n",
       "      <td>42.0</td>\n",
       "      <td>369.0</td>\n",
       "      <td>4432.0</td>\n",
       "      <td>0.0</td>\n",
       "      <td>5572.33</td>\n",
       "      <td>150.0</td>\n",
       "      <td>3785.20</td>\n",
       "      <td>724.40</td>\n",
       "    </tr>\n",
       "    <tr>\n",
       "      <th>2</th>\n",
       "      <td>1.0</td>\n",
       "      <td>12.0</td>\n",
       "      <td>42.0</td>\n",
       "      <td>246.0</td>\n",
       "      <td>4432.0</td>\n",
       "      <td>0.0</td>\n",
       "      <td>673.94</td>\n",
       "      <td>2.0</td>\n",
       "      <td>220.00</td>\n",
       "      <td>87.61</td>\n",
       "    </tr>\n",
       "    <tr>\n",
       "      <th>3</th>\n",
       "      <td>1.0</td>\n",
       "      <td>12.0</td>\n",
       "      <td>42.0</td>\n",
       "      <td>246.0</td>\n",
       "      <td>4432.0</td>\n",
       "      <td>0.0</td>\n",
       "      <td>2555.44</td>\n",
       "      <td>31.0</td>\n",
       "      <td>656.84</td>\n",
       "      <td>332.20</td>\n",
       "    </tr>\n",
       "    <tr>\n",
       "      <th>4</th>\n",
       "      <td>1.0</td>\n",
       "      <td>12.0</td>\n",
       "      <td>42.0</td>\n",
       "      <td>246.0</td>\n",
       "      <td>4432.0</td>\n",
       "      <td>0.0</td>\n",
       "      <td>651.84</td>\n",
       "      <td>6.0</td>\n",
       "      <td>165.00</td>\n",
       "      <td>84.73</td>\n",
       "    </tr>\n",
       "  </tbody>\n",
       "</table>\n",
       "</div>"
      ],
      "text/plain": [
       "   anno   mes  aduana  contribuyente  inciso_arancelario  pais_origen_destino  \\\n",
       "0   1.0  12.0    42.0           50.0              4432.0                  3.0   \n",
       "1   1.0  12.0    42.0          369.0              4432.0                  0.0   \n",
       "2   1.0  12.0    42.0          246.0              4432.0                  0.0   \n",
       "3   1.0  12.0    42.0          246.0              4432.0                  0.0   \n",
       "4   1.0  12.0    42.0          246.0              4432.0                  0.0   \n",
       "\n",
       "        cif  cuantia  peso_bruto  impuesto_total  \n",
       "0  33506.25     15.0    19300.00         4355.81  \n",
       "1   5572.33    150.0     3785.20          724.40  \n",
       "2    673.94      2.0      220.00           87.61  \n",
       "3   2555.44     31.0      656.84          332.20  \n",
       "4    651.84      6.0      165.00           84.73  "
      ]
     },
     "execution_count": 23,
     "metadata": {},
     "output_type": "execute_result"
    }
   ],
   "source": [
    "df_test.head()"
   ]
  },
  {
   "cell_type": "markdown",
   "metadata": {},
   "source": [
    "### Numeric variables: scale"
   ]
  },
  {
   "cell_type": "markdown",
   "metadata": {},
   "source": [
    "### Train data"
   ]
  },
  {
   "cell_type": "code",
   "execution_count": 24,
   "metadata": {
    "ExecuteTime": {
     "end_time": "2021-03-11T20:24:29.098652Z",
     "start_time": "2021-03-11T20:24:24.586621Z"
    }
   },
   "outputs": [],
   "source": [
    "from sklearn.preprocessing import StandardScaler\n",
    "\n",
    "scaler = StandardScaler()"
   ]
  },
  {
   "cell_type": "code",
   "execution_count": 25,
   "metadata": {
    "ExecuteTime": {
     "end_time": "2021-03-11T20:24:29.150621Z",
     "start_time": "2021-03-11T20:24:29.099662Z"
    }
   },
   "outputs": [
    {
     "data": {
      "text/html": [
       "<div>\n",
       "<style scoped>\n",
       "    .dataframe tbody tr th:only-of-type {\n",
       "        vertical-align: middle;\n",
       "    }\n",
       "\n",
       "    .dataframe tbody tr th {\n",
       "        vertical-align: top;\n",
       "    }\n",
       "\n",
       "    .dataframe thead th {\n",
       "        text-align: right;\n",
       "    }\n",
       "</style>\n",
       "<table border=\"1\" class=\"dataframe\">\n",
       "  <thead>\n",
       "    <tr style=\"text-align: right;\">\n",
       "      <th></th>\n",
       "      <th>cif</th>\n",
       "      <th>cuantia</th>\n",
       "      <th>peso_bruto</th>\n",
       "      <th>impuesto_total</th>\n",
       "    </tr>\n",
       "  </thead>\n",
       "  <tbody>\n",
       "    <tr>\n",
       "      <th>0</th>\n",
       "      <td>7.359067</td>\n",
       "      <td>5.707110</td>\n",
       "      <td>9.518487</td>\n",
       "      <td>5.323059</td>\n",
       "    </tr>\n",
       "    <tr>\n",
       "      <th>1</th>\n",
       "      <td>3.829511</td>\n",
       "      <td>3.713572</td>\n",
       "      <td>6.119418</td>\n",
       "      <td>1.924249</td>\n",
       "    </tr>\n",
       "    <tr>\n",
       "      <th>2</th>\n",
       "      <td>5.538869</td>\n",
       "      <td>4.615121</td>\n",
       "      <td>8.132413</td>\n",
       "      <td>3.524594</td>\n",
       "    </tr>\n",
       "    <tr>\n",
       "      <th>3</th>\n",
       "      <td>3.332919</td>\n",
       "      <td>2.564949</td>\n",
       "      <td>5.206421</td>\n",
       "      <td>1.506297</td>\n",
       "    </tr>\n",
       "    <tr>\n",
       "      <th>4</th>\n",
       "      <td>4.227855</td>\n",
       "      <td>3.044522</td>\n",
       "      <td>6.811465</td>\n",
       "      <td>2.280339</td>\n",
       "    </tr>\n",
       "  </tbody>\n",
       "</table>\n",
       "</div>"
      ],
      "text/plain": [
       "        cif   cuantia  peso_bruto  impuesto_total\n",
       "0  7.359067  5.707110    9.518487        5.323059\n",
       "1  3.829511  3.713572    6.119418        1.924249\n",
       "2  5.538869  4.615121    8.132413        3.524594\n",
       "3  3.332919  2.564949    5.206421        1.506297\n",
       "4  4.227855  3.044522    6.811465        2.280339"
      ]
     },
     "execution_count": 25,
     "metadata": {},
     "output_type": "execute_result"
    }
   ],
   "source": [
    "# Scale numeric variables\n",
    "# log-scale numeric variables|\n",
    "df_train[numeric_vars] = df_train[numeric_vars].apply(np.log1p)\n",
    "#df_train[numeric_vars] = scaler.fit_transform(df_train[numeric_vars])\n",
    "df_train[numeric_vars].head()"
   ]
  },
  {
   "cell_type": "markdown",
   "metadata": {},
   "source": [
    "### Test data"
   ]
  },
  {
   "cell_type": "code",
   "execution_count": 26,
   "metadata": {
    "ExecuteTime": {
     "end_time": "2021-03-11T20:24:29.178619Z",
     "start_time": "2021-03-11T20:24:29.151621Z"
    }
   },
   "outputs": [
    {
     "data": {
      "text/html": [
       "<div>\n",
       "<style scoped>\n",
       "    .dataframe tbody tr th:only-of-type {\n",
       "        vertical-align: middle;\n",
       "    }\n",
       "\n",
       "    .dataframe tbody tr th {\n",
       "        vertical-align: top;\n",
       "    }\n",
       "\n",
       "    .dataframe thead th {\n",
       "        text-align: right;\n",
       "    }\n",
       "</style>\n",
       "<table border=\"1\" class=\"dataframe\">\n",
       "  <thead>\n",
       "    <tr style=\"text-align: right;\">\n",
       "      <th></th>\n",
       "      <th>cif</th>\n",
       "      <th>cuantia</th>\n",
       "      <th>peso_bruto</th>\n",
       "      <th>impuesto_total</th>\n",
       "    </tr>\n",
       "  </thead>\n",
       "  <tbody>\n",
       "    <tr>\n",
       "      <th>0</th>\n",
       "      <td>10.419517</td>\n",
       "      <td>2.772589</td>\n",
       "      <td>9.867912</td>\n",
       "      <td>8.379495</td>\n",
       "    </tr>\n",
       "    <tr>\n",
       "      <th>1</th>\n",
       "      <td>8.625748</td>\n",
       "      <td>5.017280</td>\n",
       "      <td>8.239118</td>\n",
       "      <td>6.586723</td>\n",
       "    </tr>\n",
       "    <tr>\n",
       "      <th>2</th>\n",
       "      <td>6.514624</td>\n",
       "      <td>1.098612</td>\n",
       "      <td>5.398163</td>\n",
       "      <td>4.484245</td>\n",
       "    </tr>\n",
       "    <tr>\n",
       "      <th>3</th>\n",
       "      <td>7.846371</td>\n",
       "      <td>3.465736</td>\n",
       "      <td>6.488962</td>\n",
       "      <td>5.808743</td>\n",
       "    </tr>\n",
       "    <tr>\n",
       "      <th>4</th>\n",
       "      <td>6.481332</td>\n",
       "      <td>1.945910</td>\n",
       "      <td>5.111988</td>\n",
       "      <td>4.451203</td>\n",
       "    </tr>\n",
       "  </tbody>\n",
       "</table>\n",
       "</div>"
      ],
      "text/plain": [
       "         cif   cuantia  peso_bruto  impuesto_total\n",
       "0  10.419517  2.772589    9.867912        8.379495\n",
       "1   8.625748  5.017280    8.239118        6.586723\n",
       "2   6.514624  1.098612    5.398163        4.484245\n",
       "3   7.846371  3.465736    6.488962        5.808743\n",
       "4   6.481332  1.945910    5.111988        4.451203"
      ]
     },
     "execution_count": 26,
     "metadata": {},
     "output_type": "execute_result"
    }
   ],
   "source": [
    "# log-scale numeric variables\n",
    "df_test[numeric_vars] = df_test[numeric_vars].apply(np.log1p)\n",
    "#df_test[numeric_vars] = scaler.fit_transform(df_test[numeric_vars])\n",
    "df_test[numeric_vars].head()"
   ]
  },
  {
   "cell_type": "markdown",
   "metadata": {},
   "source": [
    "### Convert dataformat to dictionary\n",
    "\n",
    "- Reference: https://www.tensorflow.org/guide/keras/train_and_evaluate#passing_data_to_multi-input_multi-output_models \n",
    "- \"*As the model has multiple inputs (sliced into each feature), inputs should yield either a tuple of dictionaries or a tuple of lists. To make sure values are matched with keys in embedding layers, we use a tuple of dictionaries.*\"\n",
    "- \"*Passing data to a multi-input or multi-output model in fit works in a similar way as specifying a loss function in compile: you can pass lists of Numpy arrays (with 1:1 mapping to the outputs that received a loss function) or dicts mapping output names to Numpy arrays of training data.*\""
   ]
  },
  {
   "cell_type": "code",
   "execution_count": 27,
   "metadata": {
    "ExecuteTime": {
     "end_time": "2021-03-11T20:24:29.188629Z",
     "start_time": "2021-03-11T20:24:29.180620Z"
    },
    "scrolled": true
   },
   "outputs": [
    {
     "data": {
      "text/plain": [
       "{'anno': array([0, 0, 0, ..., 0, 0, 0], dtype=int64),\n",
       " 'mes': array([ 0,  0,  0, ..., 11, 11, 10], dtype=int64),\n",
       " 'aduana': array([ 0,  0,  0, ..., 41, 41, 41], dtype=int64),\n",
       " 'contribuyente': array([   0,    1,    1, ...,  253,  253, 5433], dtype=int64),\n",
       " 'inciso_arancelario': array([   0,    1,    2, ...,   75,  348, 3424], dtype=int64),\n",
       " 'pais_origen_destino': array([ 0,  0,  0, ..., 12,  4,  2], dtype=int64),\n",
       " 'cif': array([ 7.35906654,  3.82951058,  5.53886852, ..., 11.48499892,\n",
       "        10.97101346,  9.44389355]),\n",
       " 'cuantia': array([5.70711026, 3.71357207, 4.61512052, ..., 1.79175947, 1.09861229,\n",
       "        0.69314718]),\n",
       " 'peso_bruto': array([9.51848662, 6.11941791, 8.13241267, ..., 9.16585125, 8.47657951,\n",
       "        8.35796297]),\n",
       " 'impuesto_total': array([ 5.32305876,  1.92424865,  3.52459426, ...,  9.8057187 ,\n",
       "        10.08551823,  0.        ])}"
      ]
     },
     "execution_count": 27,
     "metadata": {},
     "output_type": "execute_result"
    }
   ],
   "source": [
    "X_train = {}\n",
    "for vars in df_train.columns.tolist():\n",
    "    X_train[vars] = df_train[vars].values\n",
    "X_train"
   ]
  },
  {
   "cell_type": "code",
   "execution_count": 28,
   "metadata": {
    "ExecuteTime": {
     "end_time": "2021-03-11T20:24:29.200622Z",
     "start_time": "2021-03-11T20:24:29.189624Z"
    }
   },
   "outputs": [
    {
     "data": {
      "text/plain": [
       "{'anno': array([1., 1., 1., ..., 1., 1., 1.]),\n",
       " 'mes': array([12., 12., 12., ..., 12., 12., 12.]),\n",
       " 'aduana': array([42., 42., 42., ..., 42., 42., 42.]),\n",
       " 'contribuyente': array([ 50., 369., 246., ..., 253., 253., 253.]),\n",
       " 'inciso_arancelario': array([4432., 4432., 4432., ..., 4432., 4432., 4432.]),\n",
       " 'pais_origen_destino': array([3., 0., 0., ..., 4., 4., 2.]),\n",
       " 'cif': array([10.41951711,  8.625748  ,  6.5146238 , ..., 10.47372699,\n",
       "         9.73751679, 10.21488005]),\n",
       " 'cuantia': array([2.77258872, 5.01727984, 1.09861229, ..., 0.69314718, 0.69314718,\n",
       "        0.69314718]),\n",
       " 'peso_bruto': array([9.86791219, 8.23911816, 5.3981627 , ..., 8.36660283, 7.69211334,\n",
       "        7.55223729]),\n",
       " 'impuesto_total': array([8.37949542, 6.58672323, 4.48424472, ..., 8.51702518, 7.78100071,\n",
       "        9.45776826])}"
      ]
     },
     "execution_count": 28,
     "metadata": {},
     "output_type": "execute_result"
    }
   ],
   "source": [
    "X_test = {}\n",
    "for vars in df_test.columns.tolist():\n",
    "    X_test[vars] = df_test[vars].values\n",
    "X_test"
   ]
  },
  {
   "cell_type": "code",
   "execution_count": 29,
   "metadata": {
    "ExecuteTime": {
     "end_time": "2021-03-11T20:24:29.217655Z",
     "start_time": "2021-03-11T20:24:29.201621Z"
    }
   },
   "outputs": [
    {
     "name": "stdout",
     "output_type": "stream",
     "text": [
      "Number of positive samples in training data: 7019 (5.03% of total)\n",
      "Examples:\n",
      "    Total: 1585557\n",
      "    Positive: 68101 (4.30% of total)\n",
      "\n"
     ]
    }
   ],
   "source": [
    "counts = train_labels.value_counts(normalize=False)\n",
    "print(\n",
    "    \"Number of positive samples in training data: {} ({:.2f}% of total)\".format(\n",
    "        counts[1], 100 * float(counts[1]) / len(train_labels)\n",
    "    )\n",
    ")\n",
    "\n",
    "weight_for_0 = 1.0 / counts[0]\n",
    "weight_for_1 = 1.0 / counts[1]\n",
    "\n",
    "neg, pos = np.bincount(df['illicit'])\n",
    "total = neg + pos\n",
    "print('Examples:\\n    Total: {}\\n    Positive: {} ({:.2f}% of total)\\n'.format(\n",
    "    total, pos, 100 * pos / total))"
   ]
  },
  {
   "cell_type": "code",
   "execution_count": 30,
   "metadata": {
    "ExecuteTime": {
     "end_time": "2021-03-11T20:24:29.230621Z",
     "start_time": "2021-03-11T20:24:29.218622Z"
    }
   },
   "outputs": [],
   "source": [
    "# mean = np.mean(train_features, axis=0)\n",
    "# train_features -= mean\n",
    "# val_features -= mean\n",
    "# std = np.std(train_features, axis=0)\n",
    "# train_features /= std\n",
    "# val_features /= std"
   ]
  },
  {
   "cell_type": "markdown",
   "metadata": {},
   "source": [
    "## 3. Construct the Model <a id='id3'></a>"
   ]
  },
  {
   "cell_type": "code",
   "execution_count": 31,
   "metadata": {
    "ExecuteTime": {
     "end_time": "2021-03-11T20:24:29.240622Z",
     "start_time": "2021-03-11T20:24:29.232623Z"
    }
   },
   "outputs": [
    {
     "name": "stdout",
     "output_type": "stream",
     "text": [
      "Num GPUs Available:  0\n"
     ]
    }
   ],
   "source": [
    "print(\"Num GPUs Available: \", len(tf.config.experimental.list_physical_devices('GPU')))"
   ]
  },
  {
   "cell_type": "code",
   "execution_count": 35,
   "metadata": {
    "ExecuteTime": {
     "end_time": "2021-03-11T20:27:25.377152Z",
     "start_time": "2021-03-11T20:27:25.372171Z"
    }
   },
   "outputs": [],
   "source": [
    "gpus = tf.config.experimental.list_physical_devices('GPU')\n",
    "if gpus:\n",
    "    try:\n",
    "        # Currently, memory growth needs to be the same across GPUs\n",
    "        for gpu in gpus:\n",
    "            tensorflow.config.experimental.set_memory_growth(gpu, True)\n",
    "            logical_gpus = tensorflow.config.experimental.list_logical_devices('GPU')\n",
    "            print(len(gpus), \"Physical GPUs,\", len(logical_gpus), \"Logical GPUs\")\n",
    "    except RuntimeError as e:\n",
    "        # Memory growth must be set before GPUs have been initialized\n",
    "        print(e)"
   ]
  },
  {
   "cell_type": "code",
   "execution_count": 36,
   "metadata": {
    "ExecuteTime": {
     "end_time": "2021-03-11T20:27:37.915285Z",
     "start_time": "2021-03-11T20:27:37.153251Z"
    },
    "scrolled": true
   },
   "outputs": [],
   "source": [
    "# Prepare deep learning\n",
    "from keras.constraints import maxnorm\n",
    "#from tensorflow.keras.initializers import LecunNormal\n",
    "#from tensorflow.keras.layers import AlphaDropout\n",
    "from tensorflow.keras.optimizers import Adam\n",
    "from tensorflow.keras.layers import Dense, Dropout, Embedding, Input, Reshape, Concatenate, Flatten, BatchNormalization\n",
    "from tensorflow.keras.models import Model\n",
    "from tensorflow.keras.callbacks import ModelCheckpoint, EarlyStopping\n",
    "from tensorflow.keras.metrics import TruePositives, TrueNegatives, FalsePositives, FalseNegatives, Precision, Recall, AUC\n",
    "\n",
    "# Define input layers\n",
    "\n",
    "# Create lists to hold input layers\n",
    "ins = []\n",
    "concat = []\n",
    "\n",
    "# Iterate to create input layers for categorical variables\n",
    "\n",
    "for var in categorical_vars:\n",
    "    # create an input layer for each categorical variable\n",
    "    # Caution: Match the name of layer with the name of variable!!!\n",
    "    # as the format of train/test data is a dictionary, where 'key()' is the variable names. \n",
    "    x = Input(shape=(1,), name = var) \n",
    "    # concatenate input layers for the final input layer\n",
    "    ins.append(x) \n",
    "    # create an embedding layer for each input layer\n",
    "    x = Embedding(input_dim = category_sizes[var]+1, \n",
    "                  output_dim = categorical_vars_embsizes[var],\n",
    "                  name = 'Embedding_' + var)(x)\n",
    "    x = Flatten(name = 'Flatten_' + var)(x)\n",
    "    # concatenate embedding layers for the final output layer\n",
    "    concat.append(x) \n",
    "\n",
    "# Iterate to create input layers for numeric variables\n",
    "\n",
    "for var in numeric_vars:\n",
    "    # create an input layer for each numeric variables\n",
    "    y = Input(shape=(1,), name = var) \n",
    "    # concatenate input layers for the final input layer\n",
    "    ins.append(y) \n",
    "    # concatenate input layers for the final output layer\n",
    "    concat.append(y) \n",
    "\n",
    "initial_bias = np.log([pos/neg])\n",
    "output_bias = tf.keras.initializers.Constant(initial_bias)\n",
    "    \n",
    "# USING SELU\n",
    "#https://www.machinecurve.com/index.php/2021/01/12/using-selu-with-tensorflow-and-keras/\n",
    "\n",
    "# Define output layers\n",
    "output = Concatenate(name = 'combined')(concat)\n",
    "output = Dense(1000, activation='relu', kernel_constraint=maxnorm(3))(output)\n",
    "output = BatchNormalization()(output)\n",
    "#output = Dropout(.2)(output)\n",
    "output = Dense(100, activation='relu', kernel_constraint=maxnorm(3))(output)\n",
    "output = BatchNormalization()(output)\n",
    "#output = Dropout(.2)(output)\n",
    "output = Dense(50, activation='relu', kernel_constraint=maxnorm(3))(output)\n",
    "output = BatchNormalization()(output)\n",
    "output = Dropout(.2)(output)\n",
    "output = Dense(1, activation = 'sigmoid', bias_initializer=output_bias)(output)\n",
    "\n",
    "# output = Concatenate(name = 'combined')(concat)\n",
    "# output = Dense(500, activation='selu', kernel_initializer=LecunNormal())(output)\n",
    "# output = AlphaDropout(.3)(output)\n",
    "# output = Dense(100, activation='selu', kernel_initializer=LecunNormal())(output)\n",
    "# output = Dense(50, activation='selu', kernel_initializer=LecunNormal())(output)\n",
    "# output = Dense(1, activation = 'sigmoid', bias_initializer=output_bias)(output)\n",
    "\n",
    "# output = Concatenate(name = 'combined')(concat)\n",
    "# output = Dense(128, activation='relu')(output)\n",
    "# output = Dropout(.3)(output)\n",
    "# output = Dense(128, activation='relu')(output)\n",
    "# output = Dropout(.3)(output)\n",
    "# output = Dense(128, activation='relu')(output)\n",
    "# output = Dense(1, activation = 'sigmoid')(output)"
   ]
  },
  {
   "cell_type": "code",
   "execution_count": 37,
   "metadata": {
    "ExecuteTime": {
     "end_time": "2021-03-11T20:27:40.569088Z",
     "start_time": "2021-03-11T20:27:40.557090Z"
    }
   },
   "outputs": [],
   "source": [
    "# Initiate (activate) the model\n",
    "model = Model(ins, output)"
   ]
  },
  {
   "cell_type": "code",
   "execution_count": 38,
   "metadata": {
    "ExecuteTime": {
     "end_time": "2021-03-11T20:27:46.182067Z",
     "start_time": "2021-03-11T20:27:46.145076Z"
    }
   },
   "outputs": [
    {
     "name": "stdout",
     "output_type": "stream",
     "text": [
      "Number of positive samples in training data: 7019 (5.03% of total)\n"
     ]
    }
   ],
   "source": [
    "# Define loss function (a formula to calculate the difference between predicted value and actual value).\n",
    "# Define optimizer (a rule to find the minimum value of loss function, ie. search interval, search range...)\n",
    "\n",
    "#optimizer='sgd'\n",
    "metrics = [\n",
    "    FalseNegatives(name=\"fn\"),\n",
    "    FalsePositives(name=\"fp\"),\n",
    "    TrueNegatives(name=\"tn\"),\n",
    "    TruePositives(name=\"tp\"),\n",
    "    Precision(name=\"precision\"),\n",
    "    Recall(name=\"recall\"),\n",
    "    AUC(name='AUC')\n",
    "]\n",
    "\n",
    "#lr=1e-3\n",
    "model.compile(optimizer=Adam(lr=1e-3), loss='binary_crossentropy', metrics=metrics)\n",
    "\n",
    "# Save weights\n",
    "# import os\n",
    "# if not os.path.exists('./callbacks'):\n",
    "#     os.makedirs('./callbacks')\n",
    "    \n",
    "# save_dir = './callbacks'\n",
    "\n",
    "early_stopping = EarlyStopping(\n",
    "    monitor='val_AUC', \n",
    "    verbose=1,\n",
    "    patience=10,\n",
    "    mode='max',\n",
    "    restore_best_weights=True\n",
    ")\n",
    "\n",
    "#model_checkpoint = ModelCheckpoint(\"./callbacks/fraud_model_at_epoch_{epoch}.h5\", save_best_only=True, save_weights_only=True)\n",
    "\n",
    "#callbacks = [model_checkpoint, early_stopping]\n",
    "\n",
    "counts = train_labels.value_counts(normalize=False)\n",
    "print(\n",
    "    \"Number of positive samples in training data: {} ({:.2f}% of total)\".format(\n",
    "        counts[1], 100 * float(counts[1]) / len(train_labels)\n",
    "    )\n",
    ")\n",
    "\n",
    "weight_for_0 = 1.0 / counts[0]\n",
    "weight_for_1 = 1.0 / counts[1]\n",
    "class_weight = {0: weight_for_0, 1: weight_for_1}\n",
    "\n",
    "# Scaling by total/2 helps keep the loss to a similar magnitude.\n",
    "# The sum of the weights of all examples stays the same.\n",
    "# weight_for_0 = (1 / neg)*(total)/2.0 \n",
    "# weight_for_1 = (1 / pos)*(total)/2.0\n",
    "\n",
    "# class_weight = {0: weight_for_0, 1: weight_for_1}\n",
    "\n",
    "# print('Weight for class 0: {:.2f}'.format(weight_for_0))\n",
    "# print('Weight for class 1: {:.2f}'.format(weight_for_1))"
   ]
  },
  {
   "cell_type": "code",
   "execution_count": 39,
   "metadata": {
    "ExecuteTime": {
     "end_time": "2021-03-11T20:27:48.679188Z",
     "start_time": "2021-03-11T20:27:48.664160Z"
    }
   },
   "outputs": [
    {
     "name": "stdout",
     "output_type": "stream",
     "text": [
      "Model: \"functional_1\"\n",
      "__________________________________________________________________________________________________\n",
      "Layer (type)                    Output Shape         Param #     Connected to                     \n",
      "==================================================================================================\n",
      "inciso_arancelario (InputLayer) [(None, 1)]          0                                            \n",
      "__________________________________________________________________________________________________\n",
      "mes (InputLayer)                [(None, 1)]          0                                            \n",
      "__________________________________________________________________________________________________\n",
      "anno (InputLayer)               [(None, 1)]          0                                            \n",
      "__________________________________________________________________________________________________\n",
      "aduana (InputLayer)             [(None, 1)]          0                                            \n",
      "__________________________________________________________________________________________________\n",
      "pais_origen_destino (InputLayer [(None, 1)]          0                                            \n",
      "__________________________________________________________________________________________________\n",
      "contribuyente (InputLayer)      [(None, 1)]          0                                            \n",
      "__________________________________________________________________________________________________\n",
      "Embedding_inciso_arancelario (E (None, 1, 1000)      4433000     inciso_arancelario[0][0]         \n",
      "__________________________________________________________________________________________________\n",
      "Embedding_mes (Embedding)       (None, 1, 7)         91          mes[0][0]                        \n",
      "__________________________________________________________________________________________________\n",
      "Embedding_anno (Embedding)      (None, 1, 1)         2           anno[0][0]                       \n",
      "__________________________________________________________________________________________________\n",
      "Embedding_aduana (Embedding)    (None, 1, 22)        946         aduana[0][0]                     \n",
      "__________________________________________________________________________________________________\n",
      "Embedding_pais_origen_destino ( (None, 1, 60)        7140        pais_origen_destino[0][0]        \n",
      "__________________________________________________________________________________________________\n",
      "Embedding_contribuyente (Embedd (None, 1, 1000)      5435000     contribuyente[0][0]              \n",
      "__________________________________________________________________________________________________\n",
      "Flatten_inciso_arancelario (Fla (None, 1000)         0           Embedding_inciso_arancelario[0][0\n",
      "__________________________________________________________________________________________________\n",
      "Flatten_mes (Flatten)           (None, 7)            0           Embedding_mes[0][0]              \n",
      "__________________________________________________________________________________________________\n",
      "Flatten_anno (Flatten)          (None, 1)            0           Embedding_anno[0][0]             \n",
      "__________________________________________________________________________________________________\n",
      "Flatten_aduana (Flatten)        (None, 22)           0           Embedding_aduana[0][0]           \n",
      "__________________________________________________________________________________________________\n",
      "Flatten_pais_origen_destino (Fl (None, 60)           0           Embedding_pais_origen_destino[0][\n",
      "__________________________________________________________________________________________________\n",
      "Flatten_contribuyente (Flatten) (None, 1000)         0           Embedding_contribuyente[0][0]    \n",
      "__________________________________________________________________________________________________\n",
      "cif (InputLayer)                [(None, 1)]          0                                            \n",
      "__________________________________________________________________________________________________\n",
      "cuantia (InputLayer)            [(None, 1)]          0                                            \n",
      "__________________________________________________________________________________________________\n",
      "peso_bruto (InputLayer)         [(None, 1)]          0                                            \n",
      "__________________________________________________________________________________________________\n",
      "impuesto_total (InputLayer)     [(None, 1)]          0                                            \n",
      "__________________________________________________________________________________________________\n",
      "combined (Concatenate)          (None, 2094)         0           Flatten_inciso_arancelario[0][0] \n",
      "                                                                 Flatten_mes[0][0]                \n",
      "                                                                 Flatten_anno[0][0]               \n",
      "                                                                 Flatten_aduana[0][0]             \n",
      "                                                                 Flatten_pais_origen_destino[0][0]\n",
      "                                                                 Flatten_contribuyente[0][0]      \n",
      "                                                                 cif[0][0]                        \n",
      "                                                                 cuantia[0][0]                    \n",
      "                                                                 peso_bruto[0][0]                 \n",
      "                                                                 impuesto_total[0][0]             \n",
      "__________________________________________________________________________________________________\n",
      "dense (Dense)                   (None, 1000)         2095000     combined[0][0]                   \n",
      "__________________________________________________________________________________________________\n",
      "batch_normalization (BatchNorma (None, 1000)         4000        dense[0][0]                      \n",
      "__________________________________________________________________________________________________\n",
      "dense_1 (Dense)                 (None, 100)          100100      batch_normalization[0][0]        \n",
      "__________________________________________________________________________________________________\n",
      "batch_normalization_1 (BatchNor (None, 100)          400         dense_1[0][0]                    \n",
      "__________________________________________________________________________________________________\n",
      "dense_2 (Dense)                 (None, 50)           5050        batch_normalization_1[0][0]      \n",
      "__________________________________________________________________________________________________\n",
      "batch_normalization_2 (BatchNor (None, 50)           200         dense_2[0][0]                    \n",
      "__________________________________________________________________________________________________\n",
      "dropout (Dropout)               (None, 50)           0           batch_normalization_2[0][0]      \n",
      "__________________________________________________________________________________________________\n",
      "dense_3 (Dense)                 (None, 1)            51          dropout[0][0]                    \n",
      "==================================================================================================\n",
      "Total params: 12,080,980\n",
      "Trainable params: 12,078,680\n",
      "Non-trainable params: 2,300\n",
      "__________________________________________________________________________________________________\n"
     ]
    }
   ],
   "source": [
    "# Overview of model structure\n",
    "model.summary()"
   ]
  },
  {
   "cell_type": "markdown",
   "metadata": {},
   "source": [
    "## 4. Train the model <a id='id4'></a>"
   ]
  },
  {
   "cell_type": "code",
   "execution_count": 40,
   "metadata": {
    "ExecuteTime": {
     "end_time": "2021-03-11T20:40:28.724783Z",
     "start_time": "2021-03-11T20:27:56.630291Z"
    },
    "scrolled": false
   },
   "outputs": [
    {
     "name": "stdout",
     "output_type": "stream",
     "text": [
      "Epoch 1/20\n",
      "273/273 [==============================] - 38s 139ms/step - loss: 7.9349e-06 - fn: 2173.0000 - fp: 26353.0000 - tn: 106293.0000 - tp: 4846.0000 - precision: 0.1553 - recall: 0.6904 - AUC: 0.8367 - val_loss: 0.2075 - val_fn: 4896.0000 - val_fp: 92.0000 - val_tn: 132227.0000 - val_tp: 63.0000 - val_precision: 0.4065 - val_recall: 0.0127 - val_AUC: 0.6698\n",
      "Epoch 2/20\n",
      "273/273 [==============================] - 36s 130ms/step - loss: 5.2689e-06 - fn: 1093.0000 - fp: 24392.0000 - tn: 108254.0000 - tp: 5926.0000 - precision: 0.1955 - recall: 0.8443 - AUC: 0.9140 - val_loss: 0.4042 - val_fn: 2912.0000 - val_fp: 27798.0000 - val_tn: 104521.0000 - val_tp: 2047.0000 - val_precision: 0.0686 - val_recall: 0.4128 - val_AUC: 0.6828\n",
      "Epoch 3/20\n",
      "273/273 [==============================] - 42s 152ms/step - loss: 4.5582e-06 - fn: 834.0000 - fp: 20779.0000 - tn: 111867.0000 - tp: 6185.0000 - precision: 0.2294 - recall: 0.8812 - AUC: 0.9357 - val_loss: 0.6306 - val_fn: 2103.0000 - val_fp: 42436.0000 - val_tn: 89883.0000 - val_tp: 2856.0000 - val_precision: 0.0631 - val_recall: 0.5759 - val_AUC: 0.6983\n",
      "Epoch 4/20\n",
      "273/273 [==============================] - 39s 142ms/step - loss: 4.0410e-06 - fn: 689.0000 - fp: 18193.0000 - tn: 114453.0000 - tp: 6330.0000 - precision: 0.2581 - recall: 0.9018 - AUC: 0.9491 - val_loss: 0.3455 - val_fn: 3219.0000 - val_fp: 18773.0000 - val_tn: 113546.0000 - val_tp: 1740.0000 - val_precision: 0.0848 - val_recall: 0.3509 - val_AUC: 0.7041\n",
      "Epoch 5/20\n",
      "273/273 [==============================] - 39s 144ms/step - loss: 3.6812e-06 - fn: 593.0000 - fp: 16842.0000 - tn: 115804.0000 - tp: 6426.0000 - precision: 0.2762 - recall: 0.9155 - AUC: 0.9573 - val_loss: 0.4015 - val_fn: 2735.0000 - val_fp: 23581.0000 - val_tn: 108738.0000 - val_tp: 2224.0000 - val_precision: 0.0862 - val_recall: 0.4485 - val_AUC: 0.7157\n",
      "Epoch 6/20\n",
      "273/273 [==============================] - 41s 151ms/step - loss: 3.2776e-06 - fn: 470.0000 - fp: 15024.0000 - tn: 117622.0000 - tp: 6549.0000 - precision: 0.3036 - recall: 0.9330 - AUC: 0.9658 - val_loss: 0.4128 - val_fn: 2778.0000 - val_fp: 24327.0000 - val_tn: 107992.0000 - val_tp: 2181.0000 - val_precision: 0.0823 - val_recall: 0.4398 - val_AUC: 0.6989\n",
      "Epoch 7/20\n",
      "273/273 [==============================] - 42s 153ms/step - loss: 3.0545e-06 - fn: 441.0000 - fp: 13986.0000 - tn: 118660.0000 - tp: 6578.0000 - precision: 0.3199 - recall: 0.9372 - AUC: 0.9698 - val_loss: 0.7074 - val_fn: 1984.0000 - val_fp: 41692.0000 - val_tn: 90627.0000 - val_tp: 2975.0000 - val_precision: 0.0666 - val_recall: 0.5999 - val_AUC: 0.7165\n",
      "Epoch 8/20\n",
      "273/273 [==============================] - 41s 151ms/step - loss: 2.8787e-06 - fn: 407.0000 - fp: 13233.0000 - tn: 119413.0000 - tp: 6612.0000 - precision: 0.3332 - recall: 0.9420 - AUC: 0.9731 - val_loss: 0.3237 - val_fn: 3300.0000 - val_fp: 15481.0000 - val_tn: 116838.0000 - val_tp: 1659.0000 - val_precision: 0.0968 - val_recall: 0.3345 - val_AUC: 0.7001\n",
      "Epoch 9/20\n",
      "273/273 [==============================] - 35s 127ms/step - loss: 2.6837e-06 - fn: 354.0000 - fp: 12307.0000 - tn: 120339.0000 - tp: 6665.0000 - precision: 0.3513 - recall: 0.9496 - AUC: 0.9759 - val_loss: 0.3989 - val_fn: 2903.0000 - val_fp: 23452.0000 - val_tn: 108867.0000 - val_tp: 2056.0000 - val_precision: 0.0806 - val_recall: 0.4146 - val_AUC: 0.6959\n",
      "Epoch 10/20\n",
      "273/273 [==============================] - 34s 126ms/step - loss: 2.5241e-06 - fn: 311.0000 - fp: 11641.0000 - tn: 121005.0000 - tp: 6708.0000 - precision: 0.3656 - recall: 0.9557 - AUC: 0.9783 - val_loss: 0.4958 - val_fn: 2558.0000 - val_fp: 27177.0000 - val_tn: 105142.0000 - val_tp: 2401.0000 - val_precision: 0.0812 - val_recall: 0.4842 - val_AUC: 0.7177\n",
      "Epoch 11/20\n",
      "273/273 [==============================] - 38s 138ms/step - loss: 2.3890e-06 - fn: 281.0000 - fp: 11123.0000 - tn: 121523.0000 - tp: 6738.0000 - precision: 0.3772 - recall: 0.9600 - AUC: 0.9803 - val_loss: 0.2198 - val_fn: 3948.0000 - val_fp: 5989.0000 - val_tn: 126330.0000 - val_tp: 1011.0000 - val_precision: 0.1444 - val_recall: 0.2039 - val_AUC: 0.6684\n",
      "Epoch 12/20\n",
      "273/273 [==============================] - 35s 128ms/step - loss: 2.3031e-06 - fn: 279.0000 - fp: 10621.0000 - tn: 122025.0000 - tp: 6740.0000 - precision: 0.3882 - recall: 0.9603 - AUC: 0.9814 - val_loss: 1.0078 - val_fn: 1799.0000 - val_fp: 45727.0000 - val_tn: 86592.0000 - val_tp: 3160.0000 - val_precision: 0.0646 - val_recall: 0.6372 - val_AUC: 0.7025\n",
      "Epoch 13/20\n",
      "273/273 [==============================] - 36s 132ms/step - loss: 2.1456e-06 - fn: 235.0000 - fp: 9922.0000 - tn: 122724.0000 - tp: 6784.0000 - precision: 0.4061 - recall: 0.9665 - AUC: 0.9836 - val_loss: 0.3059 - val_fn: 3341.0000 - val_fp: 12742.0000 - val_tn: 119577.0000 - val_tp: 1618.0000 - val_precision: 0.1127 - val_recall: 0.3263 - val_AUC: 0.6918\n",
      "Epoch 14/20\n",
      "273/273 [==============================] - 37s 135ms/step - loss: 2.0378e-06 - fn: 231.0000 - fp: 9306.0000 - tn: 123340.0000 - tp: 6788.0000 - precision: 0.4218 - recall: 0.9671 - AUC: 0.9850 - val_loss: 0.3194 - val_fn: 3387.0000 - val_fp: 12863.0000 - val_tn: 119456.0000 - val_tp: 1572.0000 - val_precision: 0.1089 - val_recall: 0.3170 - val_AUC: 0.6986\n",
      "Epoch 15/20\n",
      "273/273 [==============================] - 34s 123ms/step - loss: 1.9729e-06 - fn: 218.0000 - fp: 9166.0000 - tn: 123480.0000 - tp: 6801.0000 - precision: 0.4259 - recall: 0.9689 - AUC: 0.9858 - val_loss: 0.3908 - val_fn: 3128.0000 - val_fp: 17315.0000 - val_tn: 115004.0000 - val_tp: 1831.0000 - val_precision: 0.0956 - val_recall: 0.3692 - val_AUC: 0.6793\n",
      "Epoch 16/20\n",
      "273/273 [==============================] - 35s 127ms/step - loss: 1.8823e-06 - fn: 203.0000 - fp: 8777.0000 - tn: 123869.0000 - tp: 6816.0000 - precision: 0.4371 - recall: 0.9711 - AUC: 0.9868 - val_loss: 0.2812 - val_fn: 3736.0000 - val_fp: 9386.0000 - val_tn: 122933.0000 - val_tp: 1223.0000 - val_precision: 0.1153 - val_recall: 0.2466 - val_AUC: 0.6787\n",
      "Epoch 17/20\n",
      "273/273 [==============================] - 34s 126ms/step - loss: 1.8270e-06 - fn: 171.0000 - fp: 8407.0000 - tn: 124239.0000 - tp: 6848.0000 - precision: 0.4489 - recall: 0.9756 - AUC: 0.9871 - val_loss: 0.5302 - val_fn: 2996.0000 - val_fp: 22464.0000 - val_tn: 109855.0000 - val_tp: 1963.0000 - val_precision: 0.0804 - val_recall: 0.3958 - val_AUC: 0.6940\n",
      "Epoch 18/20\n",
      "273/273 [==============================] - 35s 129ms/step - loss: 1.7353e-06 - fn: 169.0000 - fp: 7988.0000 - tn: 124658.0000 - tp: 6850.0000 - precision: 0.4617 - recall: 0.9759 - AUC: 0.9883 - val_loss: 0.3643 - val_fn: 3239.0000 - val_fp: 15841.0000 - val_tn: 116478.0000 - val_tp: 1720.0000 - val_precision: 0.0979 - val_recall: 0.3468 - val_AUC: 0.6883\n",
      "Epoch 19/20\n",
      "273/273 [==============================] - 35s 128ms/step - loss: 1.6490e-06 - fn: 165.0000 - fp: 7635.0000 - tn: 125011.0000 - tp: 6854.0000 - precision: 0.4730 - recall: 0.9765 - AUC: 0.9895 - val_loss: 0.2252 - val_fn: 4062.0000 - val_fp: 4728.0000 - val_tn: 127591.0000 - val_tp: 897.0000 - val_precision: 0.1595 - val_recall: 0.1809 - val_AUC: 0.6792\n",
      "Epoch 20/20\n",
      "273/273 [==============================] - ETA: 0s - loss: 1.6458e-06 - fn: 169.0000 - fp: 7780.0000 - tn: 124866.0000 - tp: 6850.0000 - precision: 0.4682 - recall: 0.9759 - AUC: 0.9896Restoring model weights from the end of the best epoch.\n",
      "273/273 [==============================] - 40s 148ms/step - loss: 1.6458e-06 - fn: 169.0000 - fp: 7780.0000 - tn: 124866.0000 - tp: 6850.0000 - precision: 0.4682 - recall: 0.9759 - AUC: 0.9896 - val_loss: 0.2753 - val_fn: 4034.0000 - val_fp: 5530.0000 - val_tn: 126789.0000 - val_tp: 925.0000 - val_precision: 0.1433 - val_recall: 0.1865 - val_AUC: 0.6320\n",
      "Epoch 00020: early stopping\n"
     ]
    },
    {
     "data": {
      "text/plain": [
       "<tensorflow.python.keras.callbacks.History at 0x2279192f970>"
      ]
     },
     "execution_count": 40,
     "metadata": {},
     "output_type": "execute_result"
    }
   ],
   "source": [
    "model.fit(\n",
    "    X_train, \n",
    "    train_labels, \n",
    "    epochs=20,\n",
    "    batch_size=2048//2,\n",
    "    verbose=1,\n",
    "    callbacks=[early_stopping],\n",
    "    validation_data=(X_test, test_labels),\n",
    "    class_weight=class_weight\n",
    ")"
   ]
  },
  {
   "cell_type": "code",
   "execution_count": null,
   "metadata": {
    "ExecuteTime": {
     "end_time": "2021-03-11T20:24:30.546621Z",
     "start_time": "2021-03-11T20:23:01.631Z"
    }
   },
   "outputs": [],
   "source": [
    "# Save weights\n",
    "import os\n",
    "if not os.path.exists('./embedding_results'):\n",
    "    os.makedirs('./embedding_results')\n",
    "    \n",
    "save_dir = './embedding_results'\n",
    "# Save autoencoder layers' weights\n",
    "model.save_weights(save_dir + '/CFD_EMB_1314.h5')"
   ]
  },
  {
   "cell_type": "markdown",
   "metadata": {},
   "source": [
    "## 5. Test the model (Predict frauds in test-data) <a id='id5'></a>"
   ]
  },
  {
   "cell_type": "code",
   "execution_count": 41,
   "metadata": {
    "ExecuteTime": {
     "end_time": "2021-03-11T20:40:44.687352Z",
     "start_time": "2021-03-11T20:40:33.599129Z"
    }
   },
   "outputs": [
    {
     "data": {
      "text/plain": [
       "array([0.07682478, 0.47629586, 0.02179855, ..., 0.01279411, 0.01533142,\n",
       "       0.36933842], dtype=float32)"
      ]
     },
     "execution_count": 41,
     "metadata": {},
     "output_type": "execute_result"
    }
   ],
   "source": [
    "# Make predictions for test-data\n",
    "y_pred = model.predict(X_test)\n",
    "# transform y_red into 1d array\n",
    "y_pred = y_pred.reshape(-1) \n",
    "y_pred"
   ]
  },
  {
   "cell_type": "markdown",
   "metadata": {},
   "source": [
    "## 6. Evaluate the model performance <a id='id6'></a>"
   ]
  },
  {
   "cell_type": "code",
   "execution_count": 42,
   "metadata": {
    "ExecuteTime": {
     "end_time": "2021-03-11T20:40:44.697315Z",
     "start_time": "2021-03-11T20:40:44.689314Z"
    }
   },
   "outputs": [
    {
     "data": {
      "text/plain": [
       "(array([], dtype=int64),)"
      ]
     },
     "execution_count": 42,
     "metadata": {},
     "output_type": "execute_result"
    }
   ],
   "source": [
    "# Check NAs in the predictions\n",
    "np.where(np.isnan(y_pred))"
   ]
  },
  {
   "cell_type": "code",
   "execution_count": 43,
   "metadata": {
    "ExecuteTime": {
     "end_time": "2021-03-11T20:40:49.491313Z",
     "start_time": "2021-03-11T20:40:44.699347Z"
    },
    "code_folding": [
     2
    ]
   },
   "outputs": [
    {
     "ename": "NameError",
     "evalue": "name 'roc_curve' is not defined",
     "output_type": "error",
     "traceback": [
      "\u001b[1;31m---------------------------------------------------------------------------\u001b[0m",
      "\u001b[1;31mNameError\u001b[0m                                 Traceback (most recent call last)",
      "\u001b[1;32m<ipython-input-43-71f388f11445>\u001b[0m in \u001b[0;36m<module>\u001b[1;34m\u001b[0m\n\u001b[0;32m     22\u001b[0m \u001b[1;31m#print('AUC = %0.4f' % roc_auc)\u001b[0m\u001b[1;33m\u001b[0m\u001b[1;33m\u001b[0m\u001b[1;33m\u001b[0m\u001b[0m\n\u001b[0;32m     23\u001b[0m \u001b[0mplt\u001b[0m\u001b[1;33m.\u001b[0m\u001b[0mfigure\u001b[0m\u001b[1;33m(\u001b[0m\u001b[0mfigsize\u001b[0m\u001b[1;33m=\u001b[0m\u001b[1;33m[\u001b[0m\u001b[1;36m8\u001b[0m\u001b[1;33m,\u001b[0m \u001b[1;36m8\u001b[0m\u001b[1;33m]\u001b[0m\u001b[1;33m)\u001b[0m\u001b[1;33m\u001b[0m\u001b[1;33m\u001b[0m\u001b[0m\n\u001b[1;32m---> 24\u001b[1;33m \u001b[0mplot_roc\u001b[0m\u001b[1;33m(\u001b[0m\u001b[1;34m\"Train \"\u001b[0m\u001b[1;33m,\u001b[0m \u001b[0mtrain_labels\u001b[0m\u001b[1;33m,\u001b[0m \u001b[0mtrain_predictions\u001b[0m\u001b[1;33m,\u001b[0m \u001b[0mcolor\u001b[0m\u001b[1;33m=\u001b[0m\u001b[1;34m'darkorange'\u001b[0m\u001b[1;33m)\u001b[0m\u001b[1;33m\u001b[0m\u001b[1;33m\u001b[0m\u001b[0m\n\u001b[0m\u001b[0;32m     25\u001b[0m \u001b[0mplot_roc\u001b[0m\u001b[1;33m(\u001b[0m\u001b[1;34m\"Test \"\u001b[0m\u001b[1;33m,\u001b[0m \u001b[0mtest_labels\u001b[0m\u001b[1;33m,\u001b[0m \u001b[0mtest_predictions\u001b[0m\u001b[1;33m,\u001b[0m \u001b[0mcolor\u001b[0m\u001b[1;33m=\u001b[0m\u001b[1;34m'darkorange'\u001b[0m\u001b[1;33m,\u001b[0m \u001b[0mlinestyle\u001b[0m\u001b[1;33m=\u001b[0m\u001b[1;34m'--'\u001b[0m\u001b[1;33m)\u001b[0m\u001b[1;33m\u001b[0m\u001b[1;33m\u001b[0m\u001b[0m\n\u001b[0;32m     26\u001b[0m \u001b[0mplt\u001b[0m\u001b[1;33m.\u001b[0m\u001b[0mlegend\u001b[0m\u001b[1;33m(\u001b[0m\u001b[0mloc\u001b[0m\u001b[1;33m=\u001b[0m\u001b[1;34m'lower right'\u001b[0m\u001b[1;33m)\u001b[0m\u001b[1;33m\u001b[0m\u001b[1;33m\u001b[0m\u001b[0m\n",
      "\u001b[1;32m<ipython-input-43-71f388f11445>\u001b[0m in \u001b[0;36mplot_roc\u001b[1;34m(name, labels, predictions, **kwargs)\u001b[0m\n\u001b[0;32m      2\u001b[0m \u001b[1;33m\u001b[0m\u001b[0m\n\u001b[0;32m      3\u001b[0m \u001b[1;32mdef\u001b[0m \u001b[0mplot_roc\u001b[0m\u001b[1;33m(\u001b[0m\u001b[0mname\u001b[0m\u001b[1;33m,\u001b[0m \u001b[0mlabels\u001b[0m\u001b[1;33m,\u001b[0m \u001b[0mpredictions\u001b[0m\u001b[1;33m,\u001b[0m \u001b[1;33m**\u001b[0m\u001b[0mkwargs\u001b[0m\u001b[1;33m)\u001b[0m\u001b[1;33m:\u001b[0m\u001b[1;33m\u001b[0m\u001b[1;33m\u001b[0m\u001b[0m\n\u001b[1;32m----> 4\u001b[1;33m     \u001b[0mfp\u001b[0m\u001b[1;33m,\u001b[0m \u001b[0mtp\u001b[0m\u001b[1;33m,\u001b[0m \u001b[0m_\u001b[0m \u001b[1;33m=\u001b[0m \u001b[0mroc_curve\u001b[0m\u001b[1;33m(\u001b[0m\u001b[0mlabels\u001b[0m\u001b[1;33m,\u001b[0m \u001b[0mpredictions\u001b[0m\u001b[1;33m)\u001b[0m\u001b[1;33m\u001b[0m\u001b[1;33m\u001b[0m\u001b[0m\n\u001b[0m\u001b[0;32m      5\u001b[0m \u001b[1;33m\u001b[0m\u001b[0m\n\u001b[0;32m      6\u001b[0m     \u001b[0mroc_auc\u001b[0m \u001b[1;33m=\u001b[0m \u001b[0mauc\u001b[0m\u001b[1;33m(\u001b[0m\u001b[0mfpr\u001b[0m\u001b[1;33m,\u001b[0m \u001b[0mtpr\u001b[0m\u001b[1;33m)\u001b[0m\u001b[1;33m\u001b[0m\u001b[1;33m\u001b[0m\u001b[0m\n",
      "\u001b[1;31mNameError\u001b[0m: name 'roc_curve' is not defined"
     ]
    },
    {
     "data": {
      "text/plain": [
       "<Figure size 576x576 with 0 Axes>"
      ]
     },
     "metadata": {},
     "output_type": "display_data"
    }
   ],
   "source": [
    "colors = plt.rcParams['axes.prop_cycle'].by_key()['color']\n",
    "\n",
    "def plot_roc(name, labels, predictions, **kwargs):\n",
    "    fp, tp, _ = roc_curve(labels, predictions)\n",
    "    \n",
    "    roc_auc = auc(fpr, tpr)\n",
    "    #plt.figure(figsize=[8, 6])\n",
    "    plt.plot(100*fp, 100*tp, label=name+'AUC = %0.4f' % roc_auc, linewidth=2, **kwargs)\n",
    "    plt.xlabel('False positives [%]')\n",
    "    plt.ylabel('True positives [%]')\n",
    "    #plt.xlim([-0.5, 80])\n",
    "    #plt.ylim([60, 100.5])\n",
    "    plt.grid(True)\n",
    "    ax = plt.gca()\n",
    "    ax.set_aspect('equal')\n",
    "\n",
    "\n",
    "train_predictions = model.predict(X_train, batch_size=2048)\n",
    "test_predictions = model.predict(X_test, batch_size=2048)\n",
    "\n",
    "\n",
    "#print('AUC = %0.4f' % roc_auc)\n",
    "plt.figure(figsize=[8, 8])\n",
    "plot_roc(\"Train \", train_labels, train_predictions, color='darkorange')\n",
    "plot_roc(\"Test \", test_labels, test_predictions, color='darkorange', linestyle='--')\n",
    "plt.legend(loc='lower right')"
   ]
  },
  {
   "cell_type": "code",
   "execution_count": 45,
   "metadata": {
    "ExecuteTime": {
     "end_time": "2021-03-11T20:41:15.066336Z",
     "start_time": "2021-03-11T20:41:12.375908Z"
    }
   },
   "outputs": [
    {
     "data": {
      "image/png": "[encoded data removed]",
      "text/plain": [
       "<Figure size 576x432 with 1 Axes>"
      ]
     },
     "metadata": {},
     "output_type": "display_data"
    }
   ],
   "source": [
    "from sklearn.metrics import roc_curve\n",
    "from sklearn.metrics import auc\n",
    "\n",
    "fpr, tpr, _ = roc_curve(test_labels, y_pred)\n",
    "\n",
    "roc_auc = auc(fpr, tpr)\n",
    "plt.figure(figsize=[8, 6])\n",
    "plt.plot(fpr, tpr, color='darkorange', lw=2, label='ROC curve (AUC = %0.4f)' % roc_auc)\n",
    "plt.plot([0, 1], [0, 1], color='navy', lw=2, linestyle='--', label='Random guess')\n",
    "plt.title('ROC curve')\n",
    "plt.xlabel('False Positive Rate (1 - Specificity)')\n",
    "plt.ylabel('True Positive Rate (Sensitivity)')\n",
    "plt.legend(loc=\"lower right\")\n",
    "plt.show()"
   ]
  },
  {
   "cell_type": "code",
   "execution_count": null,
   "metadata": {},
   "outputs": [],
   "source": []
  },
  {
   "cell_type": "code",
   "execution_count": null,
   "metadata": {
    "ExecuteTime": {
     "end_time": "2021-03-11T20:24:30.551621Z",
     "start_time": "2021-03-11T20:23:01.687Z"
    }
   },
   "outputs": [],
   "source": [
    "fpr, tpr, _ = roc_curve(test_labels, y_pred)\n",
    "\n",
    "roc_auc = auc(fpr, tpr)\n",
    "plt.figure(figsize=[8, 6])\n",
    "plt.plot(fpr, tpr, color='darkorange', lw=2, label='ROC curve (AUC = %0.4f)' % roc_auc)\n",
    "plt.plot([0, 1], [0, 1], color='navy', lw=2, linestyle='--', label='Random guess')\n",
    "plt.title('ROC curve')\n",
    "plt.xlabel('False Positive Rate (1 - Specificity)')\n",
    "plt.ylabel('True Positive Rate (Sensitivity)')\n",
    "plt.legend(loc=\"lower right\")\n",
    "plt.show()"
   ]
  },
  {
   "cell_type": "code",
   "execution_count": null,
   "metadata": {
    "ExecuteTime": {
     "end_time": "2021-03-11T20:24:30.552623Z",
     "start_time": "2021-03-11T20:23:01.699Z"
    }
   },
   "outputs": [],
   "source": [
    "from matplotlib import pyplot as plt\n",
    "from sklearn.metrics import roc_curve\n",
    "from sklearn.metrics import auc\n",
    "\n",
    "fpr, tpr, _ = roc_curve(test_labels.drop(np.where(np.isnan(y_pred))[0]), # remove any NAs in prediction\n",
    "                        np.delete(y_pred, np.where(np.isnan(y_pred))[0]))\n",
    "\n",
    "plt.plot(fpr, tpr, label='ROC curve')\n",
    "plt.plot([0, 1], [0, 1], 'k--', label='Random guess')\n",
    "plt.xlabel('False positive rate')\n",
    "plt.ylabel('True positive rate')\n",
    "plt.title('ROC curve')\n",
    "plt.legend(loc=\"lower right\")\n",
    "plt.show()\n",
    "print('auc: ', auc(fpr, tpr))"
   ]
  },
  {
   "cell_type": "code",
   "execution_count": null,
   "metadata": {
    "ExecuteTime": {
     "end_time": "2021-03-11T20:24:30.553637Z",
     "start_time": "2021-03-11T20:23:01.706Z"
    }
   },
   "outputs": [],
   "source": [
    "# Evaluate by the performance of (simulated) inpsection\n",
    "\n",
    "def inspection_performance(predicted_fraud, test_fraud):\n",
    "    \n",
    "    # Set default values before a loop\n",
    "    \n",
    "    Inspect_Rate = []\n",
    "    Precision=[]\n",
    "    Recall=[]\n",
    "    \n",
    "    # Create a loop for making confusion matrix at each inspection rate\n",
    "\n",
    "    for i in range(1,100,1):\n",
    "        \n",
    "        # Find the ith value in ascending order.\n",
    "        threshold = np.percentile(predicted_fraud, i)\n",
    "        # Precision = number of frauds / number of inspection\n",
    "        precision = np.mean(test_fraud[predicted_fraud > threshold])\n",
    "        # Recall = number of inspected frauds / number of frauds\n",
    "        recall = sum(test_fraud[predicted_fraud > threshold])/sum(test_fraud)\n",
    "        # Save values\n",
    "        Inspect_Rate.append(100-i)\n",
    "        Precision.append(precision)\n",
    "        Recall.append(recall)\n",
    "        \n",
    "    \n",
    "    compiled_conf_matrix = pd.DataFrame({\n",
    "        \n",
    "        'Inspect_Rate':Inspect_Rate,\n",
    "        'Precision':Precision,\n",
    "        'Recall':Recall\n",
    "    })\n",
    "\n",
    "    return compiled_conf_matrix"
   ]
  },
  {
   "cell_type": "code",
   "execution_count": null,
   "metadata": {
    "ExecuteTime": {
     "end_time": "2021-03-11T20:24:30.554622Z",
     "start_time": "2021-03-11T20:23:01.711Z"
    }
   },
   "outputs": [],
   "source": [
    "basic_performance = inspection_performance(y_pred, test_labels)"
   ]
  },
  {
   "cell_type": "code",
   "execution_count": null,
   "metadata": {
    "ExecuteTime": {
     "end_time": "2021-03-11T20:24:30.554622Z",
     "start_time": "2021-03-11T20:23:01.724Z"
    }
   },
   "outputs": [],
   "source": [
    "basic_performance.head(5)"
   ]
  },
  {
   "cell_type": "code",
   "execution_count": null,
   "metadata": {
    "ExecuteTime": {
     "end_time": "2021-03-11T20:24:30.555622Z",
     "start_time": "2021-03-11T20:23:01.733Z"
    },
    "scrolled": false
   },
   "outputs": [],
   "source": [
    "import matplotlib.pyplot as plt\n",
    "import seaborn as sns\n",
    "\n",
    "data = pd.melt(basic_performance, \n",
    "               id_vars = ['Inspect_Rate'],\n",
    "               value_vars = ['Recall','Precision'])\n",
    "\n",
    "sns.relplot(x='Inspect_Rate',\n",
    "            y='value',\n",
    "            hue='variable',\n",
    "            col='variable',\n",
    "            kind='line',\n",
    "            data=data)"
   ]
  },
  {
   "cell_type": "code",
   "execution_count": null,
   "metadata": {
    "ExecuteTime": {
     "end_time": "2021-03-11T20:24:30.556622Z",
     "start_time": "2021-03-11T20:23:01.742Z"
    }
   },
   "outputs": [],
   "source": [
    "# install plotly --> https://plotly.com/python/getting-started/#installation\n",
    "import plotly.express as px\n",
    "\n",
    "# Interactive visualization\n",
    "fig = px.line(data, x=\"Inspect_Rate\", y=\"value\", color='variable',facet_col=\"variable\")\n",
    "fig.show()"
   ]
  }
 ],
 "metadata": {
  "kernelspec": {
   "display_name": "ai",
   "language": "python",
   "name": "ai"
  },
  "language_info": {
   "codemirror_mode": {
    "name": "ipython",
    "version": 3
   },
   "file_extension": ".py",
   "mimetype": "text/x-python",
   "name": "python",
   "nbconvert_exporter": "python",
   "pygments_lexer": "ipython3",
   "version": "3.8.5"
  },
  "toc": {
   "base_numbering": 1,
   "nav_menu": {},
   "number_sections": true,
   "sideBar": true,
   "skip_h1_title": false,
   "title_cell": "Table of Contents",
   "title_sidebar": "Contents",
   "toc_cell": false,
   "toc_position": {},
   "toc_section_display": true,
   "toc_window_display": true
  }
 },
 "nbformat": 4,
 "nbformat_minor": 2
}
