{
 "cells": [
  {
   "cell_type": "markdown",
   "metadata": {},
   "source": [
    "# Deep learning with Entity Embedding\n",
    "\n",
    "- Written by Yeon Soo Choi, Research Unit, World Customs Organization\n",
    "- Updated on 2020. 6. 30."
   ]
  },
  {
   "cell_type": "markdown",
   "metadata": {},
   "source": [
    "## Summary\n",
    "\n",
    "### Deep Learning (Neural Network model)\n",
    "\n",
    "Now, we are moving from lego for 2-years old to lego for adult. Previously, we have deployed a kind of pre-built (ready-to-use) models such as XGBoost. While we can tune the models with hyperparameters (e.g. the number of trees, the maximum height (depth) of individual tree), the core algorithm of the model is unchangeable. In contrast, a neural network model (known as Deep Learning model) is more flexible, and could be more powerful upon our construction. We can design how data flows and how individual variables interact with others at different points during their journey to the final destination. I feel like constructing a water traffic network. No worries at all. Still, we have very good pre-built parts/components for contructing our own models.\n",
    "\n",
    "### Entity Embedding###\n",
    "\n",
    "Embedding is another way of converting categorical variables to numeric variables.\n",
    "In our data, we have 12708 unique importer-ids. If we one-hot-encode the importer-ids, we may generate additional 12708 (actually less than 12708) variables (columns); ie. [0,0,0,...] for imoprter A [1,0,0,...] for importer B, and [0,0,1,...] for importer C. This approach costs significantly high computational power of our machine and time. The solution is the entity embedding, from which we can add only 3 columns; ie. [0.1, 1.33, 0.7] for importer A, [0.99, 3.1, 3.3] for importer B and [0.11, 1.3, 0.65] for importer C. The values for each entity is determined during the training in a way to optimize the model's performance. An additional benefit of entity embedding is that we can recognize who importer C is similar to importer A as their embedding values are similar to each other.  "
   ]
  },
  {
   "cell_type": "markdown",
   "metadata": {},
   "source": [
    "## Outline\n",
    "\n",
    "[**1. Environmental setting and data loading**](#id1)  \n",
    "[**2. Data preprocessing**](#id2)  \n",
    "[**3. Construct the model**](#id3)  \n",
    "[**4. Train the model**](#id4)  \n",
    "[**5. Test the model (Predict frauds in test-data**](#id5)  \n",
    "[**6. Evaluate the model performance**](#id6)"
   ]
  },
  {
   "cell_type": "markdown",
   "metadata": {},
   "source": [
    "## 1. Environment setting and data loading <a id='id1'></a>"
   ]
  },
  {
   "cell_type": "code",
   "execution_count": 1,
   "metadata": {},
   "outputs": [],
   "source": [
    "# Prepare environments\n",
    "import numpy as np\n",
    "import pandas as pd\n",
    "\n",
    "import tensorflow as tf\n",
    "from tensorflow.keras import layers\n",
    "\n",
    "import random\n",
    "pd.set_option('display.max_columns', 500)"
   ]
  },
  {
   "cell_type": "code",
   "execution_count": 2,
   "metadata": {},
   "outputs": [],
   "source": [
    "# Import raw data\n",
    "df = pd.read_csv(\"./synthetic_data2.csv\", encoding=\"ISO-8859-1\")"
   ]
  },
  {
   "cell_type": "code",
   "execution_count": 3,
   "metadata": {},
   "outputs": [
    {
     "data": {
      "text/plain": [
       "Index(['Unnamed: 0', 'year', 'month', 'day', 'OFFICE', 'IMPORTER.TIN',\n",
       "       'TARIFF.CODE', 'ORIGIN.CODE', 'CIF_USD_EQUIVALENT', 'QUANTITY',\n",
       "       'GROSS.WEIGHT', 'TOTAL.TAXES.USD', 'RAISED_TAX_AMOUNT_USD', 'illicit'],\n",
       "      dtype='object')"
      ]
     },
     "execution_count": 3,
     "metadata": {},
     "output_type": "execute_result"
    }
   ],
   "source": [
    "# Check columns\n",
    "df.columns"
   ]
  },
  {
   "cell_type": "code",
   "execution_count": 4,
   "metadata": {},
   "outputs": [],
   "source": [
    "# Date cleaning (delete a column)\n",
    "del df['Unnamed: 0']"
   ]
  },
  {
   "cell_type": "code",
   "execution_count": 5,
   "metadata": {},
   "outputs": [
    {
     "data": {
      "text/html": [
       "<div>\n",
       "<style scoped>\n",
       "    .dataframe tbody tr th:only-of-type {\n",
       "        vertical-align: middle;\n",
       "    }\n",
       "\n",
       "    .dataframe tbody tr th {\n",
       "        vertical-align: top;\n",
       "    }\n",
       "\n",
       "    .dataframe thead th {\n",
       "        text-align: right;\n",
       "    }\n",
       "</style>\n",
       "<table border=\"1\" class=\"dataframe\">\n",
       "  <thead>\n",
       "    <tr style=\"text-align: right;\">\n",
       "      <th></th>\n",
       "      <th>year</th>\n",
       "      <th>month</th>\n",
       "      <th>day</th>\n",
       "      <th>OFFICE</th>\n",
       "      <th>IMPORTER.TIN</th>\n",
       "      <th>TARIFF.CODE</th>\n",
       "      <th>ORIGIN.CODE</th>\n",
       "      <th>CIF_USD_EQUIVALENT</th>\n",
       "      <th>QUANTITY</th>\n",
       "      <th>GROSS.WEIGHT</th>\n",
       "      <th>TOTAL.TAXES.USD</th>\n",
       "      <th>RAISED_TAX_AMOUNT_USD</th>\n",
       "      <th>illicit</th>\n",
       "    </tr>\n",
       "  </thead>\n",
       "  <tbody>\n",
       "    <tr>\n",
       "      <th>183226</th>\n",
       "      <td>2014</td>\n",
       "      <td>10</td>\n",
       "      <td>21</td>\n",
       "      <td>OFFICE186</td>\n",
       "      <td>IMPO13589</td>\n",
       "      <td>5511300000</td>\n",
       "      <td>CNTRY252</td>\n",
       "      <td>26240.0</td>\n",
       "      <td>336.0</td>\n",
       "      <td>1.0</td>\n",
       "      <td>31.0</td>\n",
       "      <td>99.0</td>\n",
       "      <td>1</td>\n",
       "    </tr>\n",
       "    <tr>\n",
       "      <th>53653</th>\n",
       "      <td>2013</td>\n",
       "      <td>6</td>\n",
       "      <td>14</td>\n",
       "      <td>OFFICE185</td>\n",
       "      <td>IMPO13380</td>\n",
       "      <td>5401101800</td>\n",
       "      <td>CNTRY123</td>\n",
       "      <td>13335.0</td>\n",
       "      <td>1.0</td>\n",
       "      <td>245.0</td>\n",
       "      <td>2801.0</td>\n",
       "      <td>-0.0</td>\n",
       "      <td>0</td>\n",
       "    </tr>\n",
       "    <tr>\n",
       "      <th>198732</th>\n",
       "      <td>2014</td>\n",
       "      <td>12</td>\n",
       "      <td>26</td>\n",
       "      <td>OFFICE51</td>\n",
       "      <td>IMP120631</td>\n",
       "      <td>8703331226</td>\n",
       "      <td>CNTRY376</td>\n",
       "      <td>862228.0</td>\n",
       "      <td>1894.0</td>\n",
       "      <td>35730.0</td>\n",
       "      <td>36876.0</td>\n",
       "      <td>0.0</td>\n",
       "      <td>0</td>\n",
       "    </tr>\n",
       "    <tr>\n",
       "      <th>51618</th>\n",
       "      <td>2013</td>\n",
       "      <td>6</td>\n",
       "      <td>6</td>\n",
       "      <td>OFFICE40</td>\n",
       "      <td>IMP474316</td>\n",
       "      <td>1513110000</td>\n",
       "      <td>CNTRY277</td>\n",
       "      <td>2635.0</td>\n",
       "      <td>1.0</td>\n",
       "      <td>246.0</td>\n",
       "      <td>2374.0</td>\n",
       "      <td>0.0</td>\n",
       "      <td>0</td>\n",
       "    </tr>\n",
       "    <tr>\n",
       "      <th>17245</th>\n",
       "      <td>2013</td>\n",
       "      <td>2</td>\n",
       "      <td>21</td>\n",
       "      <td>OFFICE51</td>\n",
       "      <td>IMP691078</td>\n",
       "      <td>8517180000</td>\n",
       "      <td>CNTRY759</td>\n",
       "      <td>2771.0</td>\n",
       "      <td>4.0</td>\n",
       "      <td>224050.0</td>\n",
       "      <td>171682.0</td>\n",
       "      <td>-0.0</td>\n",
       "      <td>0</td>\n",
       "    </tr>\n",
       "  </tbody>\n",
       "</table>\n",
       "</div>"
      ],
      "text/plain": [
       "        year  month  day     OFFICE IMPORTER.TIN  TARIFF.CODE ORIGIN.CODE  \\\n",
       "183226  2014     10   21  OFFICE186    IMPO13589   5511300000    CNTRY252   \n",
       "53653   2013      6   14  OFFICE185    IMPO13380   5401101800    CNTRY123   \n",
       "198732  2014     12   26   OFFICE51    IMP120631   8703331226    CNTRY376   \n",
       "51618   2013      6    6   OFFICE40    IMP474316   1513110000    CNTRY277   \n",
       "17245   2013      2   21   OFFICE51    IMP691078   8517180000    CNTRY759   \n",
       "\n",
       "        CIF_USD_EQUIVALENT  QUANTITY  GROSS.WEIGHT  TOTAL.TAXES.USD  \\\n",
       "183226             26240.0     336.0           1.0             31.0   \n",
       "53653              13335.0       1.0         245.0           2801.0   \n",
       "198732            862228.0    1894.0       35730.0          36876.0   \n",
       "51618               2635.0       1.0         246.0           2374.0   \n",
       "17245               2771.0       4.0      224050.0         171682.0   \n",
       "\n",
       "        RAISED_TAX_AMOUNT_USD  illicit  \n",
       "183226                   99.0        1  \n",
       "53653                    -0.0        0  \n",
       "198732                    0.0        0  \n",
       "51618                     0.0        0  \n",
       "17245                    -0.0        0  "
      ]
     },
     "execution_count": 5,
     "metadata": {},
     "output_type": "execute_result"
    }
   ],
   "source": [
    "# View/print 5 samples of df\n",
    "df.sample(5)"
   ]
  },
  {
   "cell_type": "code",
   "execution_count": 6,
   "metadata": {},
   "outputs": [
    {
     "name": "stdout",
     "output_type": "stream",
     "text": [
      "<class 'pandas.core.frame.DataFrame'>\n",
      "RangeIndex: 200000 entries, 0 to 199999\n",
      "Data columns (total 13 columns):\n",
      "year                     200000 non-null int64\n",
      "month                    200000 non-null int64\n",
      "day                      200000 non-null int64\n",
      "OFFICE                   200000 non-null object\n",
      "IMPORTER.TIN             200000 non-null object\n",
      "TARIFF.CODE              200000 non-null int64\n",
      "ORIGIN.CODE              200000 non-null object\n",
      "CIF_USD_EQUIVALENT       200000 non-null float64\n",
      "QUANTITY                 200000 non-null float64\n",
      "GROSS.WEIGHT             200000 non-null float64\n",
      "TOTAL.TAXES.USD          200000 non-null float64\n",
      "RAISED_TAX_AMOUNT_USD    200000 non-null float64\n",
      "illicit                  200000 non-null int64\n",
      "dtypes: float64(5), int64(5), object(3)\n",
      "memory usage: 19.8+ MB\n"
     ]
    }
   ],
   "source": [
    "# Get an overview of df\n",
    "df.info()"
   ]
  },
  {
   "cell_type": "code",
   "execution_count": 7,
   "metadata": {},
   "outputs": [
    {
     "data": {
      "text/plain": [
       "year                     False\n",
       "month                    False\n",
       "day                      False\n",
       "OFFICE                   False\n",
       "IMPORTER.TIN             False\n",
       "TARIFF.CODE              False\n",
       "ORIGIN.CODE              False\n",
       "CIF_USD_EQUIVALENT       False\n",
       "QUANTITY                 False\n",
       "GROSS.WEIGHT             False\n",
       "TOTAL.TAXES.USD          False\n",
       "RAISED_TAX_AMOUNT_USD    False\n",
       "illicit                  False\n",
       "dtype: bool"
      ]
     },
     "execution_count": 7,
     "metadata": {},
     "output_type": "execute_result"
    }
   ],
   "source": [
    "# Check NAs (missing values)\n",
    "df.isna().any()"
   ]
  },
  {
   "cell_type": "code",
   "execution_count": 8,
   "metadata": {},
   "outputs": [],
   "source": [
    "# Select columns to use in models\n",
    "columns_to_use=['year','month','day',\n",
    "                'OFFICE', 'IMPORTER.TIN', \n",
    "                #'DECLARANT.CODE', \n",
    "                'TARIFF.CODE','ORIGIN.CODE', \n",
    "                'CIF_USD_EQUIVALENT','QUANTITY', 'GROSS.WEIGHT', \n",
    "                'TOTAL.TAXES.USD',\n",
    "                #'RAISED_TAX_AMOUNT_USD', \n",
    "                'illicit', \n",
    "                ]\n",
    "\n",
    "df=df[columns_to_use]"
   ]
  },
  {
   "cell_type": "markdown",
   "metadata": {},
   "source": [
    "## 2. Data preprocessing <a id='id2'></a>"
   ]
  },
  {
   "cell_type": "markdown",
   "metadata": {},
   "source": [
    "### Split into train-data and test-data"
   ]
  },
  {
   "cell_type": "code",
   "execution_count": 9,
   "metadata": {},
   "outputs": [
    {
     "data": {
      "text/plain": [
       "2013    113223\n",
       "2014     86777\n",
       "Name: year, dtype: int64"
      ]
     },
     "execution_count": 9,
     "metadata": {},
     "output_type": "execute_result"
    }
   ],
   "source": [
    "# Check unique values in year\n",
    "df['year'].value_counts()"
   ]
  },
  {
   "cell_type": "code",
   "execution_count": 10,
   "metadata": {},
   "outputs": [
    {
     "name": "stdout",
     "output_type": "stream",
     "text": [
      "Now, train-data has 113223 entries and 12 features\n",
      "Now, test-data has 86777 entries and 12 features\n"
     ]
    }
   ],
   "source": [
    "# Set 2013 data as training data\n",
    "df_train = df[df.year == 2013].reset_index(drop=True)\n",
    "# Set 2014 data as testing data\n",
    "df_test = df[df.year == 2014].reset_index(drop=True)\n",
    "print(\"Now, train-data has {} entries and {} features\".format(*df_train.shape))\n",
    "print(\"Now, test-data has {} entries and {} features\".format(*df_test.shape))"
   ]
  },
  {
   "cell_type": "markdown",
   "metadata": {},
   "source": [
    "### Extract labels"
   ]
  },
  {
   "cell_type": "code",
   "execution_count": 11,
   "metadata": {},
   "outputs": [],
   "source": [
    "train_labels = df_train.pop('illicit')\n",
    "test_labels = df_test.pop('illicit')"
   ]
  },
  {
   "cell_type": "markdown",
   "metadata": {},
   "source": [
    "### Define categorical and numeric variables"
   ]
  },
  {
   "cell_type": "code",
   "execution_count": 12,
   "metadata": {},
   "outputs": [
    {
     "data": {
      "text/plain": [
       "['day',\n",
       " 'IMPORTER.TIN',\n",
       " 'month',\n",
       " 'year',\n",
       " 'OFFICE',\n",
       " 'ORIGIN.CODE',\n",
       " 'TARIFF.CODE']"
      ]
     },
     "execution_count": 12,
     "metadata": {},
     "output_type": "execute_result"
    }
   ],
   "source": [
    "# Define numeric variables\n",
    "numeric_vars = ['CIF_USD_EQUIVALENT', 'QUANTITY', 'GROSS.WEIGHT', 'TOTAL.TAXES.USD']\n",
    "# Define categrical variables\n",
    "categorical_vars = list(set(df_train.columns)-set(numeric_vars))\n",
    "categorical_vars"
   ]
  },
  {
   "cell_type": "code",
   "execution_count": 13,
   "metadata": {
    "scrolled": true
   },
   "outputs": [],
   "source": [
    "# replace na with 0 or 'unknown'\n",
    "df_train[categorical_vars] = df_train[categorical_vars].fillna('unknown')\n",
    "df_train[numeric_vars] = df_train[numeric_vars].fillna(0)\n",
    "df_test[categorical_vars] = df_test[categorical_vars].fillna('unknown')\n",
    "df_test[numeric_vars] = df_test[numeric_vars].fillna(0)"
   ]
  },
  {
   "cell_type": "markdown",
   "metadata": {},
   "source": [
    "### Categorical variables: Label-encoding for embedding"
   ]
  },
  {
   "cell_type": "markdown",
   "metadata": {},
   "source": [
    "### Train data"
   ]
  },
  {
   "cell_type": "code",
   "execution_count": 14,
   "metadata": {
    "scrolled": true
   },
   "outputs": [],
   "source": [
    "# Convert categorical variables to numeric variables (otpion 1)\n",
    "\n",
    "# Create an empty dict for mapping classes with labels\n",
    "Categories_mapping = {}\n",
    "\n",
    "for var in categorical_vars:\n",
    "    # Option 1\n",
    "    # Make sure that it is a categorical variable\n",
    "    df_train[var]=df_train[var].astype(str) # str\n",
    "    # Create a mapping-reference table for maping clases(categories) with labels\n",
    "    Categories_mapping[var] = {key:value for value, key in enumerate(df_train[var].unique())}\n",
    "    # Convert classes(categories) to a corresponding numeric code\n",
    "    df_train[var]=df_train[var].map(Categories_mapping[var])\n",
    "    \n",
    "    '''\n",
    "    # Option 2\n",
    "    # Make sure that it is a categorical variable\n",
    "    df_train[var] = df_train[var].astype('category')\n",
    "    # Create a mapping-reference table for maping clases(categories) with labels\n",
    "    Categories_mapping[var] = dict(zip(df_train[var].cat.categorical, df_train[var].cat.codes))\n",
    "    # Convert classes(categories) to a corresponding numeric code\n",
    "    df_train[var] = df_train.copy()[var].cat.codes\n",
    "    '''"
   ]
  },
  {
   "cell_type": "code",
   "execution_count": 15,
   "metadata": {
    "scrolled": false
   },
   "outputs": [
    {
     "data": {
      "text/plain": [
       "dict_keys(['day', 'IMPORTER.TIN', 'month', 'year', 'OFFICE', 'ORIGIN.CODE', 'TARIFF.CODE'])"
      ]
     },
     "execution_count": 15,
     "metadata": {},
     "output_type": "execute_result"
    }
   ],
   "source": [
    "# Check keys in the mapping-reference table\n",
    "Categories_mapping.keys()"
   ]
  },
  {
   "cell_type": "code",
   "execution_count": 16,
   "metadata": {
    "scrolled": false
   },
   "outputs": [
    {
     "data": {
      "text/plain": [
       "{'OFFICE60': 0,\n",
       " 'OFFICE24': 1,\n",
       " 'OFFICE59': 2,\n",
       " 'OFFICE40': 3,\n",
       " 'OFFICE92': 4,\n",
       " 'OFFICE51': 5,\n",
       " 'OFFICE23': 6,\n",
       " 'OFFICE16': 7,\n",
       " 'OFFICE81': 8,\n",
       " 'OFFICE96': 9,\n",
       " 'OFFICE76': 10,\n",
       " 'OFFICE84': 11,\n",
       " 'OFFICE35': 12,\n",
       " 'OFFICE88': 13,\n",
       " 'OFFICE18': 14,\n",
       " 'OFFICE296': 15,\n",
       " 'OFFICE298': 16,\n",
       " 'OFFICE168': 17,\n",
       " 'OFFICE187': 18,\n",
       " 'OFFICE233': 19,\n",
       " 'OFFICE243': 20,\n",
       " 'OFFICE113': 21,\n",
       " 'OFFICE204': 22,\n",
       " 'OFFICE185': 23,\n",
       " 'OFFICE162': 24,\n",
       " 'OFFICE299': 25,\n",
       " 'OFFICE237': 26,\n",
       " 'OFFICE186': 27,\n",
       " 'OFFICE214': 28,\n",
       " 'OFFICE109': 29,\n",
       " 'OFFICE174': 30,\n",
       " 'OFFICE100': 31,\n",
       " 'OFFICE167': 32,\n",
       " 'OFFICE141': 33,\n",
       " 'OFFICE178': 34,\n",
       " 'OFFICE180': 35,\n",
       " 'OFFICE134': 36,\n",
       " 'OFFICE127': 37,\n",
       " 'OFFICE105': 38,\n",
       " 'OFFICE126': 39,\n",
       " 'OFFICE222': 40,\n",
       " 'OFFICE197': 41,\n",
       " 'OFFICE292': 42,\n",
       " 'OFFICE288': 43,\n",
       " 'OFFICE297': 44,\n",
       " 'OFFICE41': 45,\n",
       " 'OFFICE45': 46,\n",
       " 'OFFICE52': 47,\n",
       " 'OFFICE78': 48,\n",
       " 'OFFICE34': 49,\n",
       " 'OFFICE66': 50,\n",
       " 'OFFICE94': 51,\n",
       " 'OFFICE252': 52,\n",
       " 'OFFICE132': 53,\n",
       " 'OFFICE123': 54,\n",
       " 'OFFICE140': 55,\n",
       " 'OFFICE136': 56,\n",
       " 'OFFICE117': 57,\n",
       " 'OFFICE152': 58,\n",
       " 'OFFICE211': 59,\n",
       " 'OFFICE289': 60,\n",
       " 'OFFICE234': 61,\n",
       " 'OFFICE220': 62,\n",
       " 'OFFICE210': 63,\n",
       " 'OFFICE246': 64,\n",
       " 'OFFICE87': 65,\n",
       " 'OFFICE196': 66,\n",
       " 'OFFICE122': 67,\n",
       " 'OFFICE287': 68,\n",
       " 'OFFICE101': 69,\n",
       " 'OFFICE223': 70,\n",
       " 'OFFICE111': 71,\n",
       " 'OFFICE279': 72}"
      ]
     },
     "execution_count": 16,
     "metadata": {},
     "output_type": "execute_result"
    }
   ],
   "source": [
    "# Overview the mapping (label-encoding) of 'OFFICE'\n",
    "Categories_mapping['OFFICE']"
   ]
  },
  {
   "cell_type": "code",
   "execution_count": 17,
   "metadata": {},
   "outputs": [],
   "source": [
    "# Set size of embedding\n",
    "\n",
    "# Prepare an empty dictionary for saving category size (nuber of classes)\n",
    "category_sizes = {}\n",
    "# Prepare an empty dictionary for saving the embedding size (number of embedding columns)\n",
    "categorical_vars_embsizes = {}\n",
    "\n",
    "for var in categorical_vars:\n",
    "    # Count the unique values in each categorical variable\n",
    "    category_sizes[var] = df_train[var].nunique()\n",
    "    # Set the size of embedding\n",
    "    categorical_vars_embsizes[var] = min(1000, category_sizes[var]//2+1)"
   ]
  },
  {
   "cell_type": "code",
   "execution_count": 18,
   "metadata": {
    "scrolled": true
   },
   "outputs": [
    {
     "data": {
      "text/plain": [
       "({'day': 31,\n",
       "  'IMPORTER.TIN': 12708,\n",
       "  'month': 12,\n",
       "  'year': 1,\n",
       "  'OFFICE': 73,\n",
       "  'ORIGIN.CODE': 130,\n",
       "  'TARIFF.CODE': 5797},\n",
       " {'day': 16,\n",
       "  'IMPORTER.TIN': 1000,\n",
       "  'month': 7,\n",
       "  'year': 1,\n",
       "  'OFFICE': 37,\n",
       "  'ORIGIN.CODE': 66,\n",
       "  'TARIFF.CODE': 1000})"
      ]
     },
     "execution_count": 18,
     "metadata": {},
     "output_type": "execute_result"
    }
   ],
   "source": [
    "category_sizes, categorical_vars_embsizes, "
   ]
  },
  {
   "cell_type": "markdown",
   "metadata": {},
   "source": [
    "### Test-data"
   ]
  },
  {
   "cell_type": "code",
   "execution_count": 19,
   "metadata": {
    "scrolled": true
   },
   "outputs": [
    {
     "name": "stderr",
     "output_type": "stream",
     "text": [
      "/newsdd/bacuda_big/anaconda3/lib/python3.7/site-packages/ipykernel_launcher.py:4: SettingWithCopyWarning: \n",
      "A value is trying to be set on a copy of a slice from a DataFrame\n",
      "\n",
      "See the caveats in the documentation: http://pandas.pydata.org/pandas-docs/stable/user_guide/indexing.html#returning-a-view-versus-a-copy\n",
      "  after removing the cwd from sys.path.\n"
     ]
    },
    {
     "data": {
      "text/plain": [
       "day             False\n",
       "IMPORTER.TIN    False\n",
       "month           False\n",
       "year            False\n",
       "OFFICE          False\n",
       "ORIGIN.CODE     False\n",
       "TARIFF.CODE     False\n",
       "dtype: bool"
      ]
     },
     "execution_count": 19,
     "metadata": {},
     "output_type": "execute_result"
    }
   ],
   "source": [
    "# label-encode test-data in reference to train-data\n",
    "for vars in categorical_vars:\n",
    "    df_test[vars] = df_test[vars].map(Categories_mapping[vars])\n",
    "    df_test[vars][df_test[vars].isnull()] = df_train[vars].nunique()\n",
    "df_test[categorical_vars].isnull().any()"
   ]
  },
  {
   "cell_type": "code",
   "execution_count": 20,
   "metadata": {},
   "outputs": [
    {
     "data": {
      "text/html": [
       "<div>\n",
       "<style scoped>\n",
       "    .dataframe tbody tr th:only-of-type {\n",
       "        vertical-align: middle;\n",
       "    }\n",
       "\n",
       "    .dataframe tbody tr th {\n",
       "        vertical-align: top;\n",
       "    }\n",
       "\n",
       "    .dataframe thead th {\n",
       "        text-align: right;\n",
       "    }\n",
       "</style>\n",
       "<table border=\"1\" class=\"dataframe\">\n",
       "  <thead>\n",
       "    <tr style=\"text-align: right;\">\n",
       "      <th></th>\n",
       "      <th>year</th>\n",
       "      <th>month</th>\n",
       "      <th>day</th>\n",
       "      <th>OFFICE</th>\n",
       "      <th>IMPORTER.TIN</th>\n",
       "      <th>TARIFF.CODE</th>\n",
       "      <th>ORIGIN.CODE</th>\n",
       "      <th>CIF_USD_EQUIVALENT</th>\n",
       "      <th>QUANTITY</th>\n",
       "      <th>GROSS.WEIGHT</th>\n",
       "      <th>TOTAL.TAXES.USD</th>\n",
       "    </tr>\n",
       "  </thead>\n",
       "  <tbody>\n",
       "    <tr>\n",
       "      <th>0</th>\n",
       "      <td>0</td>\n",
       "      <td>0</td>\n",
       "      <td>0</td>\n",
       "      <td>0</td>\n",
       "      <td>0</td>\n",
       "      <td>0</td>\n",
       "      <td>0</td>\n",
       "      <td>172710.0</td>\n",
       "      <td>1.0</td>\n",
       "      <td>28487.0</td>\n",
       "      <td>3492.0</td>\n",
       "    </tr>\n",
       "    <tr>\n",
       "      <th>1</th>\n",
       "      <td>0</td>\n",
       "      <td>0</td>\n",
       "      <td>0</td>\n",
       "      <td>1</td>\n",
       "      <td>1</td>\n",
       "      <td>1</td>\n",
       "      <td>1</td>\n",
       "      <td>7450.0</td>\n",
       "      <td>1.0</td>\n",
       "      <td>185994.0</td>\n",
       "      <td>503.0</td>\n",
       "    </tr>\n",
       "    <tr>\n",
       "      <th>2</th>\n",
       "      <td>0</td>\n",
       "      <td>0</td>\n",
       "      <td>0</td>\n",
       "      <td>2</td>\n",
       "      <td>2</td>\n",
       "      <td>2</td>\n",
       "      <td>0</td>\n",
       "      <td>2684.0</td>\n",
       "      <td>1.0</td>\n",
       "      <td>452843.0</td>\n",
       "      <td>5706.0</td>\n",
       "    </tr>\n",
       "    <tr>\n",
       "      <th>3</th>\n",
       "      <td>0</td>\n",
       "      <td>0</td>\n",
       "      <td>0</td>\n",
       "      <td>0</td>\n",
       "      <td>3</td>\n",
       "      <td>3</td>\n",
       "      <td>2</td>\n",
       "      <td>7412.0</td>\n",
       "      <td>2018.0</td>\n",
       "      <td>26546.0</td>\n",
       "      <td>3182.0</td>\n",
       "    </tr>\n",
       "    <tr>\n",
       "      <th>4</th>\n",
       "      <td>0</td>\n",
       "      <td>0</td>\n",
       "      <td>0</td>\n",
       "      <td>2</td>\n",
       "      <td>4</td>\n",
       "      <td>4</td>\n",
       "      <td>3</td>\n",
       "      <td>2786.0</td>\n",
       "      <td>7044.0</td>\n",
       "      <td>1958.0</td>\n",
       "      <td>587.0</td>\n",
       "    </tr>\n",
       "  </tbody>\n",
       "</table>\n",
       "</div>"
      ],
      "text/plain": [
       "   year  month  day  OFFICE  IMPORTER.TIN  TARIFF.CODE  ORIGIN.CODE  \\\n",
       "0     0      0    0       0             0            0            0   \n",
       "1     0      0    0       1             1            1            1   \n",
       "2     0      0    0       2             2            2            0   \n",
       "3     0      0    0       0             3            3            2   \n",
       "4     0      0    0       2             4            4            3   \n",
       "\n",
       "   CIF_USD_EQUIVALENT  QUANTITY  GROSS.WEIGHT  TOTAL.TAXES.USD  \n",
       "0            172710.0       1.0       28487.0           3492.0  \n",
       "1              7450.0       1.0      185994.0            503.0  \n",
       "2              2684.0       1.0      452843.0           5706.0  \n",
       "3              7412.0    2018.0       26546.0           3182.0  \n",
       "4              2786.0    7044.0        1958.0            587.0  "
      ]
     },
     "execution_count": 20,
     "metadata": {},
     "output_type": "execute_result"
    }
   ],
   "source": [
    "df_train.head()"
   ]
  },
  {
   "cell_type": "code",
   "execution_count": 21,
   "metadata": {},
   "outputs": [
    {
     "data": {
      "text/html": [
       "<div>\n",
       "<style scoped>\n",
       "    .dataframe tbody tr th:only-of-type {\n",
       "        vertical-align: middle;\n",
       "    }\n",
       "\n",
       "    .dataframe tbody tr th {\n",
       "        vertical-align: top;\n",
       "    }\n",
       "\n",
       "    .dataframe thead th {\n",
       "        text-align: right;\n",
       "    }\n",
       "</style>\n",
       "<table border=\"1\" class=\"dataframe\">\n",
       "  <thead>\n",
       "    <tr style=\"text-align: right;\">\n",
       "      <th></th>\n",
       "      <th>year</th>\n",
       "      <th>month</th>\n",
       "      <th>day</th>\n",
       "      <th>OFFICE</th>\n",
       "      <th>IMPORTER.TIN</th>\n",
       "      <th>TARIFF.CODE</th>\n",
       "      <th>ORIGIN.CODE</th>\n",
       "      <th>CIF_USD_EQUIVALENT</th>\n",
       "      <th>QUANTITY</th>\n",
       "      <th>GROSS.WEIGHT</th>\n",
       "      <th>TOTAL.TAXES.USD</th>\n",
       "    </tr>\n",
       "  </thead>\n",
       "  <tbody>\n",
       "    <tr>\n",
       "      <th>0</th>\n",
       "      <td>1.0</td>\n",
       "      <td>12.0</td>\n",
       "      <td>31.0</td>\n",
       "      <td>4</td>\n",
       "      <td>710.0</td>\n",
       "      <td>5797.0</td>\n",
       "      <td>0</td>\n",
       "      <td>28910.0</td>\n",
       "      <td>270.0</td>\n",
       "      <td>29490.0</td>\n",
       "      <td>174252.0</td>\n",
       "    </tr>\n",
       "    <tr>\n",
       "      <th>1</th>\n",
       "      <td>1.0</td>\n",
       "      <td>12.0</td>\n",
       "      <td>31.0</td>\n",
       "      <td>46</td>\n",
       "      <td>12708.0</td>\n",
       "      <td>5797.0</td>\n",
       "      <td>0</td>\n",
       "      <td>3584.0</td>\n",
       "      <td>28.0</td>\n",
       "      <td>1551.0</td>\n",
       "      <td>718.0</td>\n",
       "    </tr>\n",
       "    <tr>\n",
       "      <th>2</th>\n",
       "      <td>1.0</td>\n",
       "      <td>12.0</td>\n",
       "      <td>31.0</td>\n",
       "      <td>2</td>\n",
       "      <td>12708.0</td>\n",
       "      <td>5797.0</td>\n",
       "      <td>51</td>\n",
       "      <td>1705.0</td>\n",
       "      <td>411.0</td>\n",
       "      <td>950.0</td>\n",
       "      <td>1105.0</td>\n",
       "    </tr>\n",
       "    <tr>\n",
       "      <th>3</th>\n",
       "      <td>1.0</td>\n",
       "      <td>12.0</td>\n",
       "      <td>31.0</td>\n",
       "      <td>1</td>\n",
       "      <td>12708.0</td>\n",
       "      <td>5797.0</td>\n",
       "      <td>14</td>\n",
       "      <td>2611.0</td>\n",
       "      <td>33.0</td>\n",
       "      <td>1424.0</td>\n",
       "      <td>37818.0</td>\n",
       "    </tr>\n",
       "    <tr>\n",
       "      <th>4</th>\n",
       "      <td>1.0</td>\n",
       "      <td>12.0</td>\n",
       "      <td>31.0</td>\n",
       "      <td>3</td>\n",
       "      <td>136.0</td>\n",
       "      <td>5797.0</td>\n",
       "      <td>0</td>\n",
       "      <td>10856.0</td>\n",
       "      <td>1.0</td>\n",
       "      <td>35834.0</td>\n",
       "      <td>560.0</td>\n",
       "    </tr>\n",
       "  </tbody>\n",
       "</table>\n",
       "</div>"
      ],
      "text/plain": [
       "   year  month   day  OFFICE  IMPORTER.TIN  TARIFF.CODE  ORIGIN.CODE  \\\n",
       "0   1.0   12.0  31.0       4         710.0       5797.0            0   \n",
       "1   1.0   12.0  31.0      46       12708.0       5797.0            0   \n",
       "2   1.0   12.0  31.0       2       12708.0       5797.0           51   \n",
       "3   1.0   12.0  31.0       1       12708.0       5797.0           14   \n",
       "4   1.0   12.0  31.0       3         136.0       5797.0            0   \n",
       "\n",
       "   CIF_USD_EQUIVALENT  QUANTITY  GROSS.WEIGHT  TOTAL.TAXES.USD  \n",
       "0             28910.0     270.0       29490.0         174252.0  \n",
       "1              3584.0      28.0        1551.0            718.0  \n",
       "2              1705.0     411.0         950.0           1105.0  \n",
       "3              2611.0      33.0        1424.0          37818.0  \n",
       "4             10856.0       1.0       35834.0            560.0  "
      ]
     },
     "execution_count": 21,
     "metadata": {},
     "output_type": "execute_result"
    }
   ],
   "source": [
    "df_test.head()"
   ]
  },
  {
   "cell_type": "markdown",
   "metadata": {},
   "source": [
    "### Numeric variables: scale"
   ]
  },
  {
   "cell_type": "markdown",
   "metadata": {},
   "source": [
    "### Train data"
   ]
  },
  {
   "cell_type": "code",
   "execution_count": 22,
   "metadata": {},
   "outputs": [
    {
     "data": {
      "text/html": [
       "<div>\n",
       "<style scoped>\n",
       "    .dataframe tbody tr th:only-of-type {\n",
       "        vertical-align: middle;\n",
       "    }\n",
       "\n",
       "    .dataframe tbody tr th {\n",
       "        vertical-align: top;\n",
       "    }\n",
       "\n",
       "    .dataframe thead th {\n",
       "        text-align: right;\n",
       "    }\n",
       "</style>\n",
       "<table border=\"1\" class=\"dataframe\">\n",
       "  <thead>\n",
       "    <tr style=\"text-align: right;\">\n",
       "      <th></th>\n",
       "      <th>CIF_USD_EQUIVALENT</th>\n",
       "      <th>QUANTITY</th>\n",
       "      <th>GROSS.WEIGHT</th>\n",
       "      <th>TOTAL.TAXES.USD</th>\n",
       "    </tr>\n",
       "  </thead>\n",
       "  <tbody>\n",
       "    <tr>\n",
       "      <th>0</th>\n",
       "      <td>12.059375</td>\n",
       "      <td>0.693147</td>\n",
       "      <td>10.257238</td>\n",
       "      <td>8.158516</td>\n",
       "    </tr>\n",
       "    <tr>\n",
       "      <th>1</th>\n",
       "      <td>8.916104</td>\n",
       "      <td>0.693147</td>\n",
       "      <td>12.133475</td>\n",
       "      <td>6.222576</td>\n",
       "    </tr>\n",
       "    <tr>\n",
       "      <th>2</th>\n",
       "      <td>7.895436</td>\n",
       "      <td>0.693147</td>\n",
       "      <td>13.023303</td>\n",
       "      <td>8.649449</td>\n",
       "    </tr>\n",
       "    <tr>\n",
       "      <th>3</th>\n",
       "      <td>8.910990</td>\n",
       "      <td>7.610358</td>\n",
       "      <td>10.186672</td>\n",
       "      <td>8.065579</td>\n",
       "    </tr>\n",
       "    <tr>\n",
       "      <th>4</th>\n",
       "      <td>7.932721</td>\n",
       "      <td>8.860073</td>\n",
       "      <td>7.580189</td>\n",
       "      <td>6.376727</td>\n",
       "    </tr>\n",
       "  </tbody>\n",
       "</table>\n",
       "</div>"
      ],
      "text/plain": [
       "   CIF_USD_EQUIVALENT  QUANTITY  GROSS.WEIGHT  TOTAL.TAXES.USD\n",
       "0           12.059375  0.693147     10.257238         8.158516\n",
       "1            8.916104  0.693147     12.133475         6.222576\n",
       "2            7.895436  0.693147     13.023303         8.649449\n",
       "3            8.910990  7.610358     10.186672         8.065579\n",
       "4            7.932721  8.860073      7.580189         6.376727"
      ]
     },
     "execution_count": 22,
     "metadata": {},
     "output_type": "execute_result"
    }
   ],
   "source": [
    "# Scale numeric variables\n",
    "# log-scale numeric variables\n",
    "df_train[numeric_vars] = df_train[numeric_vars].apply(np.log1p)\n",
    "df_train[numeric_vars].head()"
   ]
  },
  {
   "cell_type": "markdown",
   "metadata": {},
   "source": [
    "### Test data"
   ]
  },
  {
   "cell_type": "code",
   "execution_count": 23,
   "metadata": {},
   "outputs": [
    {
     "data": {
      "text/html": [
       "<div>\n",
       "<style scoped>\n",
       "    .dataframe tbody tr th:only-of-type {\n",
       "        vertical-align: middle;\n",
       "    }\n",
       "\n",
       "    .dataframe tbody tr th {\n",
       "        vertical-align: top;\n",
       "    }\n",
       "\n",
       "    .dataframe thead th {\n",
       "        text-align: right;\n",
       "    }\n",
       "</style>\n",
       "<table border=\"1\" class=\"dataframe\">\n",
       "  <thead>\n",
       "    <tr style=\"text-align: right;\">\n",
       "      <th></th>\n",
       "      <th>CIF_USD_EQUIVALENT</th>\n",
       "      <th>QUANTITY</th>\n",
       "      <th>GROSS.WEIGHT</th>\n",
       "      <th>TOTAL.TAXES.USD</th>\n",
       "    </tr>\n",
       "  </thead>\n",
       "  <tbody>\n",
       "    <tr>\n",
       "      <th>0</th>\n",
       "      <td>10.271977</td>\n",
       "      <td>5.602119</td>\n",
       "      <td>10.291840</td>\n",
       "      <td>12.068264</td>\n",
       "    </tr>\n",
       "    <tr>\n",
       "      <th>1</th>\n",
       "      <td>8.184514</td>\n",
       "      <td>3.367296</td>\n",
       "      <td>7.347300</td>\n",
       "      <td>6.577861</td>\n",
       "    </tr>\n",
       "    <tr>\n",
       "      <th>2</th>\n",
       "      <td>7.441907</td>\n",
       "      <td>6.021023</td>\n",
       "      <td>6.857514</td>\n",
       "      <td>7.008505</td>\n",
       "    </tr>\n",
       "    <tr>\n",
       "      <th>3</th>\n",
       "      <td>7.867871</td>\n",
       "      <td>3.526361</td>\n",
       "      <td>7.261927</td>\n",
       "      <td>10.540567</td>\n",
       "    </tr>\n",
       "    <tr>\n",
       "      <th>4</th>\n",
       "      <td>9.292565</td>\n",
       "      <td>0.693147</td>\n",
       "      <td>10.486680</td>\n",
       "      <td>6.329721</td>\n",
       "    </tr>\n",
       "  </tbody>\n",
       "</table>\n",
       "</div>"
      ],
      "text/plain": [
       "   CIF_USD_EQUIVALENT  QUANTITY  GROSS.WEIGHT  TOTAL.TAXES.USD\n",
       "0           10.271977  5.602119     10.291840        12.068264\n",
       "1            8.184514  3.367296      7.347300         6.577861\n",
       "2            7.441907  6.021023      6.857514         7.008505\n",
       "3            7.867871  3.526361      7.261927        10.540567\n",
       "4            9.292565  0.693147     10.486680         6.329721"
      ]
     },
     "execution_count": 23,
     "metadata": {},
     "output_type": "execute_result"
    }
   ],
   "source": [
    "# log-scale numeric variables\n",
    "df_test[numeric_vars] = df_test[numeric_vars].apply(np.log1p)\n",
    "df_test[numeric_vars].head()"
   ]
  },
  {
   "cell_type": "markdown",
   "metadata": {},
   "source": [
    "### Convert dataformat to dictionary\n",
    "\n",
    "- Reference: https://www.tensorflow.org/guide/keras/train_and_evaluate#passing_data_to_multi-input_multi-output_models \n",
    "- \"*As the model has multiple inputs (sliced into each feature), inputs should yield either a tuple of dictionaries or a tuple of lists. To make sure values are matched with keys in embedding layers, we use a tuple of dicitonaries.*\"\n",
    "- \"*Passing data to a multi-input or multi-output model in fit works in a similar way as specifying a loss function in compile: you can pass lists of Numpy arrays (with 1:1 mapping to the outputs that received a loss function) or dicts mapping output names to Numpy arrays of training data.*\""
   ]
  },
  {
   "cell_type": "code",
   "execution_count": 24,
   "metadata": {
    "scrolled": true
   },
   "outputs": [
    {
     "data": {
      "text/plain": [
       "{'year': array([0, 0, 0, ..., 0, 0, 0]),\n",
       " 'month': array([ 0,  0,  0, ..., 11, 11, 11]),\n",
       " 'day': array([ 0,  0,  0, ..., 30, 30, 30]),\n",
       " 'OFFICE': array([ 0,  1,  2, ..., 18, 36, 16]),\n",
       " 'IMPORTER.TIN': array([    0,     1,     2, ...,  1298, 12707,  2891]),\n",
       " 'TARIFF.CODE': array([   0,    1,    2, ...,  140,  404, 3027]),\n",
       " 'ORIGIN.CODE': array([ 0,  1,  0, ..., 13, 39,  1]),\n",
       " 'CIF_USD_EQUIVALENT': array([12.05937496,  8.91610353,  7.89543601, ..., 10.51507212,\n",
       "         8.60355436, 11.22833195]),\n",
       " 'QUANTITY': array([0.69314718, 0.69314718, 0.69314718, ..., 7.11558213, 6.57228254,\n",
       "        9.76886986]),\n",
       " 'GROSS.WEIGHT': array([10.25723822, 12.13347507, 13.02330297, ...,  8.12563099,\n",
       "         1.09861229,  9.44390939]),\n",
       " 'TOTAL.TAXES.USD': array([8.15851624, 6.22257627, 8.64944877, ..., 1.79175947, 5.89715387,\n",
       "        2.77258872])}"
      ]
     },
     "execution_count": 24,
     "metadata": {},
     "output_type": "execute_result"
    }
   ],
   "source": [
    "X_train = {}\n",
    "for vars in df_train.columns.tolist():\n",
    "    X_train[vars] = df_train[vars].values\n",
    "X_train"
   ]
  },
  {
   "cell_type": "code",
   "execution_count": 25,
   "metadata": {},
   "outputs": [
    {
     "data": {
      "text/plain": [
       "{'year': array([1., 1., 1., ..., 1., 1., 1.]),\n",
       " 'month': array([12., 12., 12., ..., 12., 12., 12.]),\n",
       " 'day': array([31., 31., 31., ..., 31., 31., 31.]),\n",
       " 'OFFICE': array([ 4, 46,  2, ..., 16, 17, 29]),\n",
       " 'IMPORTER.TIN': array([  710., 12708., 12708., ...,  8731.,  1753.,  1304.]),\n",
       " 'TARIFF.CODE': array([5797., 5797., 5797., ..., 5797., 5797., 5797.]),\n",
       " 'ORIGIN.CODE': array([ 0,  0, 51, ..., 13,  1, 16]),\n",
       " 'CIF_USD_EQUIVALENT': array([10.27197742,  8.18451375,  7.44190673, ...,  2.48490665,\n",
       "         7.94697136, 11.36326469]),\n",
       " 'QUANTITY': array([ 5.60211882,  3.36729583,  6.02102335, ...,  4.07753744,\n",
       "         1.38629436, 12.71780286]),\n",
       " 'GROSS.WEIGHT': array([10.29184041,  7.3472997 ,  6.85751406, ...,  3.21887582,\n",
       "         6.7129562 ,  8.19063168]),\n",
       " 'TOTAL.TAXES.USD': array([12.06826355,  6.57786136,  7.00850518, ...,  1.79175947,\n",
       "         1.79175947,  9.22690246])}"
      ]
     },
     "execution_count": 25,
     "metadata": {},
     "output_type": "execute_result"
    }
   ],
   "source": [
    "X_test = {}\n",
    "for vars in df_test.columns.tolist():\n",
    "    X_test[vars] = df_test[vars].values\n",
    "X_test"
   ]
  },
  {
   "cell_type": "markdown",
   "metadata": {},
   "source": [
    "## 3. Construct the Model <a id='id3'></a>"
   ]
  },
  {
   "cell_type": "code",
   "execution_count": 26,
   "metadata": {
    "scrolled": true
   },
   "outputs": [],
   "source": [
    "# Prepare deep learning\n",
    "from tensorflow.keras.layers import Dense, Dropout, Embedding, Input, Reshape, Concatenate, Flatten\n",
    "from tensorflow.keras.models import Model\n",
    "\n",
    "# Define input layers\n",
    "\n",
    "# Create lists to hold input layers\n",
    "ins = []\n",
    "concat = []\n",
    "\n",
    "# Iterate to create input layers for categorical variables\n",
    "\n",
    "for var in categorical_vars:\n",
    "    # create an input layer for each categorical variable\n",
    "    # Caution: Match the name of layer with the name of variable!!!\n",
    "    # as the format of train/test data is a dictionary, where 'key()' is the variable names. \n",
    "    x = Input(shape=(1,), name = var) \n",
    "    # concatenate input layers for the final input layer\n",
    "    ins.append(x) \n",
    "    # create an embedding layer for each input layer\n",
    "    x = Embedding(input_dim = category_sizes[var]+1, \n",
    "                  output_dim = categorical_vars_embsizes[var],\n",
    "                  name = 'Embedding_' + var)(x)\n",
    "    x = Flatten(name = 'Flatten_' + var)(x)\n",
    "    # concatenate embedding layers for the final output layer\n",
    "    concat.append(x) \n",
    "\n",
    "# Iterate to create input layers for numeric variables\n",
    "\n",
    "for var in numeric_vars:\n",
    "    # create an input layer for each numeric variables\n",
    "    y = Input(shape=(1,), name = var) \n",
    "    # concatenate input layers for the final input layer\n",
    "    ins.append(y) \n",
    "    # concatenate input layers for the final output layer\n",
    "    concat.append(y) \n",
    "\n",
    "# Define output layers\n",
    "\n",
    "output = Concatenate(name = 'combined')(concat)\n",
    "output = Dense(1000, activation='relu')(output)\n",
    "output = Dense(100, activation='relu')(output)\n",
    "output = Dense(50, activation='relu')(output)\n",
    "output = Dense(1, activation = 'sigmoid')(output)"
   ]
  },
  {
   "cell_type": "code",
   "execution_count": 27,
   "metadata": {},
   "outputs": [],
   "source": [
    "# Initiate (activate) the model\n",
    "model = Model(ins, output)"
   ]
  },
  {
   "cell_type": "code",
   "execution_count": 28,
   "metadata": {},
   "outputs": [],
   "source": [
    "# Define loss function (a formular to calculate the difference between predicted value and actual value).\n",
    "# Define optimizer (a rule to find the minimum value of loss function, ie. search interval, search range...)\n",
    "\n",
    "model.compile(optimizer='sgd', loss='binary_crossentropy')"
   ]
  },
  {
   "cell_type": "code",
   "execution_count": 29,
   "metadata": {},
   "outputs": [
    {
     "name": "stdout",
     "output_type": "stream",
     "text": [
      "Model: \"model\"\n",
      "__________________________________________________________________________________________________\n",
      "Layer (type)                    Output Shape         Param #     Connected to                     \n",
      "==================================================================================================\n",
      "day (InputLayer)                [(None, 1)]          0                                            \n",
      "__________________________________________________________________________________________________\n",
      "IMPORTER.TIN (InputLayer)       [(None, 1)]          0                                            \n",
      "__________________________________________________________________________________________________\n",
      "month (InputLayer)              [(None, 1)]          0                                            \n",
      "__________________________________________________________________________________________________\n",
      "year (InputLayer)               [(None, 1)]          0                                            \n",
      "__________________________________________________________________________________________________\n",
      "OFFICE (InputLayer)             [(None, 1)]          0                                            \n",
      "__________________________________________________________________________________________________\n",
      "ORIGIN.CODE (InputLayer)        [(None, 1)]          0                                            \n",
      "__________________________________________________________________________________________________\n",
      "TARIFF.CODE (InputLayer)        [(None, 1)]          0                                            \n",
      "__________________________________________________________________________________________________\n",
      "Embedding_day (Embedding)       (None, 1, 16)        512         day[0][0]                        \n",
      "__________________________________________________________________________________________________\n",
      "Embedding_IMPORTER.TIN (Embeddi (None, 1, 1000)      12709000    IMPORTER.TIN[0][0]               \n",
      "__________________________________________________________________________________________________\n",
      "Embedding_month (Embedding)     (None, 1, 7)         91          month[0][0]                      \n",
      "__________________________________________________________________________________________________\n",
      "Embedding_year (Embedding)      (None, 1, 1)         2           year[0][0]                       \n",
      "__________________________________________________________________________________________________\n",
      "Embedding_OFFICE (Embedding)    (None, 1, 37)        2738        OFFICE[0][0]                     \n",
      "__________________________________________________________________________________________________\n",
      "Embedding_ORIGIN.CODE (Embeddin (None, 1, 66)        8646        ORIGIN.CODE[0][0]                \n",
      "__________________________________________________________________________________________________\n",
      "Embedding_TARIFF.CODE (Embeddin (None, 1, 1000)      5798000     TARIFF.CODE[0][0]                \n",
      "__________________________________________________________________________________________________\n",
      "Flatten_day (Flatten)           (None, 16)           0           Embedding_day[0][0]              \n",
      "__________________________________________________________________________________________________\n",
      "Flatten_IMPORTER.TIN (Flatten)  (None, 1000)         0           Embedding_IMPORTER.TIN[0][0]     \n",
      "__________________________________________________________________________________________________\n",
      "Flatten_month (Flatten)         (None, 7)            0           Embedding_month[0][0]            \n",
      "__________________________________________________________________________________________________\n",
      "Flatten_year (Flatten)          (None, 1)            0           Embedding_year[0][0]             \n",
      "__________________________________________________________________________________________________\n",
      "Flatten_OFFICE (Flatten)        (None, 37)           0           Embedding_OFFICE[0][0]           \n",
      "__________________________________________________________________________________________________\n",
      "Flatten_ORIGIN.CODE (Flatten)   (None, 66)           0           Embedding_ORIGIN.CODE[0][0]      \n",
      "__________________________________________________________________________________________________\n",
      "Flatten_TARIFF.CODE (Flatten)   (None, 1000)         0           Embedding_TARIFF.CODE[0][0]      \n",
      "__________________________________________________________________________________________________\n",
      "CIF_USD_EQUIVALENT (InputLayer) [(None, 1)]          0                                            \n",
      "__________________________________________________________________________________________________\n",
      "QUANTITY (InputLayer)           [(None, 1)]          0                                            \n",
      "__________________________________________________________________________________________________\n",
      "GROSS.WEIGHT (InputLayer)       [(None, 1)]          0                                            \n",
      "__________________________________________________________________________________________________\n",
      "TOTAL.TAXES.USD (InputLayer)    [(None, 1)]          0                                            \n",
      "__________________________________________________________________________________________________\n",
      "combined (Concatenate)          (None, 2131)         0           Flatten_day[0][0]                \n",
      "                                                                 Flatten_IMPORTER.TIN[0][0]       \n",
      "                                                                 Flatten_month[0][0]              \n",
      "                                                                 Flatten_year[0][0]               \n",
      "                                                                 Flatten_OFFICE[0][0]             \n",
      "                                                                 Flatten_ORIGIN.CODE[0][0]        \n",
      "                                                                 Flatten_TARIFF.CODE[0][0]        \n",
      "                                                                 CIF_USD_EQUIVALENT[0][0]         \n",
      "                                                                 QUANTITY[0][0]                   \n",
      "                                                                 GROSS.WEIGHT[0][0]               \n",
      "                                                                 TOTAL.TAXES.USD[0][0]            \n",
      "__________________________________________________________________________________________________\n",
      "dense (Dense)                   (None, 1000)         2132000     combined[0][0]                   \n",
      "__________________________________________________________________________________________________\n",
      "dense_1 (Dense)                 (None, 100)          100100      dense[0][0]                      \n",
      "__________________________________________________________________________________________________\n",
      "dense_2 (Dense)                 (None, 50)           5050        dense_1[0][0]                    \n",
      "__________________________________________________________________________________________________\n",
      "dense_3 (Dense)                 (None, 1)            51          dense_2[0][0]                    \n",
      "==================================================================================================\n",
      "Total params: 20,756,190\n",
      "Trainable params: 20,756,190\n",
      "Non-trainable params: 0\n",
      "__________________________________________________________________________________________________\n"
     ]
    }
   ],
   "source": [
    "# Overview of model structure\n",
    "model.summary()"
   ]
  },
  {
   "cell_type": "markdown",
   "metadata": {},
   "source": [
    "## 4. Train the model <a id='id4'></a>"
   ]
  },
  {
   "cell_type": "code",
   "execution_count": 30,
   "metadata": {
    "scrolled": false
   },
   "outputs": [
    {
     "name": "stdout",
     "output_type": "stream",
     "text": [
      "Epoch 1/20\n",
      "3539/3539 [==============================] - 20s 6ms/step - loss: 0.2483\n",
      "Epoch 2/20\n",
      "3539/3539 [==============================] - 19s 5ms/step - loss: 0.2393\n",
      "Epoch 3/20\n",
      "3539/3539 [==============================] - 19s 5ms/step - loss: 0.2304\n",
      "Epoch 4/20\n",
      "3539/3539 [==============================] - 19s 5ms/step - loss: 0.2164\n",
      "Epoch 5/20\n",
      "3539/3539 [==============================] - 19s 5ms/step - loss: 0.2064\n",
      "Epoch 6/20\n",
      "3539/3539 [==============================] - 19s 5ms/step - loss: 0.2009\n",
      "Epoch 7/20\n",
      "3539/3539 [==============================] - 19s 5ms/step - loss: 0.1974\n",
      "Epoch 8/20\n",
      "3539/3539 [==============================] - 19s 5ms/step - loss: 0.1948\n",
      "Epoch 9/20\n",
      "3539/3539 [==============================] - 19s 5ms/step - loss: 0.1929\n",
      "Epoch 10/20\n",
      "3539/3539 [==============================] - 19s 5ms/step - loss: 0.1918\n",
      "Epoch 11/20\n",
      "3539/3539 [==============================] - 19s 5ms/step - loss: 0.1901\n",
      "Epoch 12/20\n",
      "3539/3539 [==============================] - 19s 5ms/step - loss: 0.1894\n",
      "Epoch 13/20\n",
      "3539/3539 [==============================] - 19s 5ms/step - loss: 0.1877\n",
      "Epoch 14/20\n",
      "3539/3539 [==============================] - 19s 5ms/step - loss: 0.1868\n",
      "Epoch 15/20\n",
      "3539/3539 [==============================] - 19s 5ms/step - loss: 0.1855\n",
      "Epoch 16/20\n",
      "3539/3539 [==============================] - 19s 6ms/step - loss: 0.1849\n",
      "Epoch 17/20\n",
      "3539/3539 [==============================] - 19s 5ms/step - loss: 0.1841\n",
      "Epoch 18/20\n",
      "3539/3539 [==============================] - 19s 5ms/step - loss: 0.1834\n",
      "Epoch 19/20\n",
      "3539/3539 [==============================] - 19s 5ms/step - loss: 0.1823\n",
      "Epoch 20/20\n",
      "3539/3539 [==============================] - 20s 6ms/step - loss: 0.1816\n"
     ]
    },
    {
     "data": {
      "text/plain": [
       "<tensorflow.python.keras.callbacks.History at 0x7f799e543290>"
      ]
     },
     "execution_count": 30,
     "metadata": {},
     "output_type": "execute_result"
    }
   ],
   "source": [
    "model.fit(X_train, train_labels, epochs=20)"
   ]
  },
  {
   "cell_type": "code",
   "execution_count": 31,
   "metadata": {},
   "outputs": [],
   "source": [
    "# Save weights\n",
    "import os\n",
    "if not os.path.exists('./results'):\n",
    "    os.makedirs('./results')\n",
    "    \n",
    "save_dir = './results'\n",
    "# Save autoencoder layers' weights\n",
    "model.save_weights(save_dir + '/CFD_EMB.h5')"
   ]
  },
  {
   "cell_type": "markdown",
   "metadata": {},
   "source": [
    "## 5. Test the model (Predict frauds in test-data) <a id='id5'></a>"
   ]
  },
  {
   "cell_type": "code",
   "execution_count": 32,
   "metadata": {},
   "outputs": [
    {
     "data": {
      "text/plain": [
       "array([0.07828218, 0.17181963, 0.27816302, ..., 0.04174554, 0.02790847,\n",
       "       0.14992146], dtype=float32)"
      ]
     },
     "execution_count": 32,
     "metadata": {},
     "output_type": "execute_result"
    }
   ],
   "source": [
    "# Make predictions for test-data\n",
    "y_pred = model.predict(X_test)\n",
    "# transform y_red into 1d array\n",
    "y_pred = y_pred.reshape(-1) \n",
    "y_pred"
   ]
  },
  {
   "cell_type": "markdown",
   "metadata": {},
   "source": [
    "## 6. Evaluate the model performance <a id='id6'></a>"
   ]
  },
  {
   "cell_type": "code",
   "execution_count": 33,
   "metadata": {},
   "outputs": [
    {
     "data": {
      "text/plain": [
       "(array([], dtype=int64),)"
      ]
     },
     "execution_count": 33,
     "metadata": {},
     "output_type": "execute_result"
    }
   ],
   "source": [
    "# Check NAs in the predictions\n",
    "np.where(np.isnan(y_pred))"
   ]
  },
  {
   "cell_type": "code",
   "execution_count": 34,
   "metadata": {},
   "outputs": [
    {
     "data": {
      "image/png": "[encoded data removed]",
      "text/plain": [
       "<Figure size 432x288 with 1 Axes>"
      ]
     },
     "metadata": {
      "needs_background": "light"
     },
     "output_type": "display_data"
    },
    {
     "name": "stdout",
     "output_type": "stream",
     "text": [
      "auc:  0.842633949259299\n"
     ]
    }
   ],
   "source": [
    "from matplotlib import pyplot as plt\n",
    "from sklearn.metrics import roc_curve\n",
    "from sklearn.metrics import auc\n",
    "\n",
    "fpr, tpr, _ = roc_curve(test_labels.drop(np.where(np.isnan(y_pred))[0]), # remove any NAs in prediction\n",
    "                        np.delete(y_pred, np.where(np.isnan(y_pred))[0]))\n",
    "\n",
    "plt.plot(fpr, tpr, label='ROC curve')\n",
    "plt.plot([0, 1], [0, 1], 'k--', label='Random guess')\n",
    "plt.xlabel('False positive rate')\n",
    "plt.ylabel('True positive rate')\n",
    "plt.title('ROC curve')\n",
    "plt.legend(loc=\"lower right\")\n",
    "plt.show()\n",
    "print('auc: ', auc(fpr, tpr))"
   ]
  },
  {
   "cell_type": "code",
   "execution_count": 35,
   "metadata": {},
   "outputs": [],
   "source": [
    "# Evaluate by the performance of (simulated) inpsection\n",
    "\n",
    "def inspection_performance(predicted_fraud, test_fraud):\n",
    "    \n",
    "    # Set default values before a loop\n",
    "    \n",
    "    Inspect_Rate = []\n",
    "    Precision=[]\n",
    "    Recall=[]\n",
    "    \n",
    "    # Create a loop for making confusion matrix at each inspection rate\n",
    "\n",
    "    for i in range(1,100,1):\n",
    "        \n",
    "        # Find the ith value in ascending order.\n",
    "        threshold = np.percentile(predicted_fraud, i)\n",
    "        # Precision = number of frauds / number of inspection\n",
    "        precision = np.mean(test_fraud[predicted_fraud > threshold])\n",
    "        # Recall = number of inspected frauds / number of frauds\n",
    "        recall = sum(test_fraud[predicted_fraud > threshold])/sum(test_fraud)\n",
    "        # Save values\n",
    "        Inspect_Rate.append(100-i)\n",
    "        Precision.append(precision)\n",
    "        Recall.append(recall)\n",
    "        \n",
    "    \n",
    "    compiled_conf_matrix = pd.DataFrame({\n",
    "        \n",
    "        'Inspect_Rate':Inspect_Rate,\n",
    "        'Precision':Precision,\n",
    "        'Recall':Recall\n",
    "    })\n",
    "\n",
    "    return compiled_conf_matrix"
   ]
  },
  {
   "cell_type": "code",
   "execution_count": 36,
   "metadata": {},
   "outputs": [],
   "source": [
    "basic_performance = inspection_performance(y_pred, test_labels)"
   ]
  },
  {
   "cell_type": "code",
   "execution_count": 37,
   "metadata": {},
   "outputs": [
    {
     "data": {
      "text/html": [
       "<div>\n",
       "<style scoped>\n",
       "    .dataframe tbody tr th:only-of-type {\n",
       "        vertical-align: middle;\n",
       "    }\n",
       "\n",
       "    .dataframe tbody tr th {\n",
       "        vertical-align: top;\n",
       "    }\n",
       "\n",
       "    .dataframe thead th {\n",
       "        text-align: right;\n",
       "    }\n",
       "</style>\n",
       "<table border=\"1\" class=\"dataframe\">\n",
       "  <thead>\n",
       "    <tr style=\"text-align: right;\">\n",
       "      <th></th>\n",
       "      <th>Inspect_Rate</th>\n",
       "      <th>Precision</th>\n",
       "      <th>Recall</th>\n",
       "    </tr>\n",
       "  </thead>\n",
       "  <tbody>\n",
       "    <tr>\n",
       "      <th>0</th>\n",
       "      <td>99</td>\n",
       "      <td>0.076511</td>\n",
       "      <td>1.0</td>\n",
       "    </tr>\n",
       "    <tr>\n",
       "      <th>1</th>\n",
       "      <td>98</td>\n",
       "      <td>0.077292</td>\n",
       "      <td>1.0</td>\n",
       "    </tr>\n",
       "    <tr>\n",
       "      <th>2</th>\n",
       "      <td>97</td>\n",
       "      <td>0.078089</td>\n",
       "      <td>1.0</td>\n",
       "    </tr>\n",
       "    <tr>\n",
       "      <th>3</th>\n",
       "      <td>96</td>\n",
       "      <td>0.078903</td>\n",
       "      <td>1.0</td>\n",
       "    </tr>\n",
       "    <tr>\n",
       "      <th>4</th>\n",
       "      <td>95</td>\n",
       "      <td>0.079733</td>\n",
       "      <td>1.0</td>\n",
       "    </tr>\n",
       "  </tbody>\n",
       "</table>\n",
       "</div>"
      ],
      "text/plain": [
       "   Inspect_Rate  Precision  Recall\n",
       "0            99   0.076511     1.0\n",
       "1            98   0.077292     1.0\n",
       "2            97   0.078089     1.0\n",
       "3            96   0.078903     1.0\n",
       "4            95   0.079733     1.0"
      ]
     },
     "execution_count": 37,
     "metadata": {},
     "output_type": "execute_result"
    }
   ],
   "source": [
    "basic_performance.head(5)"
   ]
  },
  {
   "cell_type": "code",
   "execution_count": 38,
   "metadata": {
    "scrolled": false
   },
   "outputs": [
    {
     "data": {
      "text/plain": [
       "<seaborn.axisgrid.FacetGrid at 0x7f799e7f0350>"
      ]
     },
     "execution_count": 38,
     "metadata": {},
     "output_type": "execute_result"
    },
    {
     "data": {
      "image/png": "[encoded data removed]",
      "text/plain": [
       "<Figure size 801.125x360 with 2 Axes>"
      ]
     },
     "metadata": {
      "needs_background": "light"
     },
     "output_type": "display_data"
    }
   ],
   "source": [
    "import matplotlib.pyplot as plt\n",
    "import seaborn as sns\n",
    "\n",
    "data = pd.melt(basic_performance, \n",
    "               id_vars = ['Inspect_Rate'],\n",
    "               value_vars = ['Recall','Precision'])\n",
    "\n",
    "sns.relplot(x='Inspect_Rate',\n",
    "            y='value',\n",
    "            hue='variable',\n",
    "            col='variable',\n",
    "            kind='line',\n",
    "            data=data)"
   ]
  },
  {
   "cell_type": "code",
   "execution_count": 41,
   "metadata": {},
   "outputs": [
    {
     "data": {
      "application/vnd.plotly.v1+json": {
       "config": {
        "plotlyServerURL": "https://plot.ly"
       },
       "data": [
        {
         "hovertemplate": "variable=Recall<br>Inspect_Rate=%{x}<br>value=%{y}<extra></extra>",
         "legendgroup": "Recall",
         "line": {
          "color": "#636efa",
          "dash": "solid"
         },
         "mode": "lines",
         "name": "Recall",
         "orientation": "v",
         "showlegend": true,
         "type": "scatter",
         "x": [
          99,
          98,
          97,
          96,
          95,
          94,
          93,
          92,
          91,
          90,
          89,
          88,
          87,
          86,
          85,
          84,
          83,
          82,
          81,
          80,
          79,
          78,
          77,
          76,
          75,
          74,
          73,
          72,
          71,
          70,
          69,
          68,
          67,
          66,
          65,
          64,
          63,
          62,
          61,
          60,
          59,
          58,
          57,
          56,
          55,
          54,
          53,
          52,
          51,
          50,
          49,
          48,
          47,
          46,
          45,
          44,
          43,
          42,
          41,
          40,
          39,
          38,
          37,
          36,
          35,
          34,
          33,
          32,
          31,
          30,
          29,
          28,
          27,
          26,
          25,
          24,
          23,
          22,
          21,
          20,
          19,
          18,
          17,
          16,
          15,
          14,
          13,
          12,
          11,
          10,
          9,
          8,
          7,
          6,
          5,
          4,
          3,
          2,
          1
         ],
         "xaxis": "x",
         "y": [
          1,
          1,
          1,
          1,
          1,
          0.9998478624676708,
          0.9998478624676708,
          0.9996957249353415,
          0.9995435874030123,
          0.9993914498706831,
          0.9993914498706831,
          0.9989350372736954,
          0.998630762209037,
          0.9984786246767078,
          0.9980222120797201,
          0.9975657994827324,
          0.9972615244180739,
          0.996652974288757,
          0.9960444241594402,
          0.9955880115624525,
          0.9949794614331355,
          0.9937623611745018,
          0.9920888483188802,
          0.9910238855925757,
          0.9899589228662711,
          0.9890460976722958,
          0.9869161722196866,
          0.9846341092347483,
          0.9818956336528222,
          0.9809828084588468,
          0.9790050205385669,
          0.9779400578122622,
          0.97641868248897,
          0.9730716567777271,
          0.9709417313251179,
          0.9686596683401795,
          0.966225467822912,
          0.9634869922409859,
          0.9616613418530351,
          0.9587707287387799,
          0.9558801156245246,
          0.9517724022516355,
          0.9482732390080633,
          0.9444698006998327,
          0.9412749125209189,
          0.937927886809676,
          0.934580861098433,
          0.9300167351285562,
          0.9265175718849841,
          0.9224098585120949,
          0.9173893199452305,
          0.9134337441046706,
          0.9079567929408185,
          0.9055225924235509,
          0.9017191541153202,
          0.896850753080785,
          0.8924387646432375,
          0.8875703636087022,
          0.8810284497185455,
          0.8737258481667427,
          0.8688574471322075,
          0.8636847710330139,
          0.8580556823368325,
          0.8527308687053096,
          0.8463410923474821,
          0.8396470409249962,
          0.8326487144378518,
          0.823976875095086,
          0.814544348090674,
          0.805111821086262,
          0.7950707439525331,
          0.7854860794157918,
          0.775445002282063,
          0.7644910999543587,
          0.7507987220447284,
          0.7364977940057812,
          0.722196865966834,
          0.7050053248136315,
          0.6881180587250875,
          0.6716872052335311,
          0.6529742887570363,
          0.6333485470865663,
          0.6103757797048532,
          0.5872508747908108,
          0.5616917693595009,
          0.5340027384755819,
          0.5063137075916628,
          0.4804503270956945,
          0.44804503270956947,
          0.41533546325878595,
          0.37684466757949187,
          0.3430701354024038,
          0.30686140270804807,
          0.2685227445610832,
          0.22911912368781379,
          0.18925909021755666,
          0.1448349307774228,
          0.09980222120797201,
          0.05203103605659516
         ],
         "yaxis": "y"
        },
        {
         "hovertemplate": "variable=Precision<br>Inspect_Rate=%{x}<br>value=%{y}<extra></extra>",
         "legendgroup": "Precision",
         "line": {
          "color": "#EF553B",
          "dash": "solid"
         },
         "mode": "lines",
         "name": "Precision",
         "orientation": "v",
         "showlegend": true,
         "type": "scatter",
         "x": [
          99,
          98,
          97,
          96,
          95,
          94,
          93,
          92,
          91,
          90,
          89,
          88,
          87,
          86,
          85,
          84,
          83,
          82,
          81,
          80,
          79,
          78,
          77,
          76,
          75,
          74,
          73,
          72,
          71,
          70,
          69,
          68,
          67,
          66,
          65,
          64,
          63,
          62,
          61,
          60,
          59,
          58,
          57,
          56,
          55,
          54,
          53,
          52,
          51,
          50,
          49,
          48,
          47,
          46,
          45,
          44,
          43,
          42,
          41,
          40,
          39,
          38,
          37,
          36,
          35,
          34,
          33,
          32,
          31,
          30,
          29,
          28,
          27,
          26,
          25,
          24,
          23,
          22,
          21,
          20,
          19,
          18,
          17,
          16,
          15,
          14,
          13,
          12,
          11,
          10,
          9,
          8,
          7,
          6,
          5,
          4,
          3,
          2,
          1
         ],
         "xaxis": "x2",
         "y": [
          0.07651119207533554,
          0.0772921296786256,
          0.07808917348793556,
          0.0789028269611668,
          0.07973264756544313,
          0.08056883658207674,
          0.08143540432703031,
          0.08230828970112984,
          0.08319931110463864,
          0.08411119220476575,
          0.08505651875542204,
          0.08598404986708223,
          0.08694500370880577,
          0.08794286326847832,
          0.08893709327548807,
          0.08995500192064973,
          0.09101006594932315,
          0.0920640274322976,
          0.09314401969013644,
          0.09426542400714481,
          0.09539924730869095,
          0.09650444700528912,
          0.09759346283935466,
          0.09877179681576952,
          0.09998156172213515,
          0.10123802849801448,
          0.1024042180371604,
          0.10358680516653596,
          0.10475402119751343,
          0.1061504016857632,
          0.107472109025319,
          0.10893438177874186,
          0.11038871689026487,
          0.11167565868733959,
          0.11314599769523978,
          0.11464429119325854,
          0.11617187071283543,
          0.11770937883350062,
          0.11941285374239619,
          0.12103868167326086,
          0.12271963748583929,
          0.12429715284814528,
          0.12601338374138243,
          0.1277497684947011,
          0.12963312171307645,
          0.13156209987195902,
          0.1335667072534354,
          0.13547114617498449,
          0.13760845986984815,
          0.1397390983682124,
          0.14181228099056936,
          0.14414327899551052,
          0.14632830697560378,
          0.14910940200916903,
          0.1517797695262484,
          0.15439212194227647,
          0.15720641046256098,
          0.16007243593261264,
          0.1627645521234436,
          0.16545187404569156,
          0.16874981532370062,
          0.17216072782410918,
          0.17565715709480503,
          0.17941741357234314,
          0.18316212300803372,
          0.18705938177874187,
          0.19111638788979293,
          0.19503763189167778,
          0.19902605851083602,
          0.20328045173433718,
          0.2076611300961615,
          0.21248662441353197,
          0.2175416133162612,
          0.2227196170552256,
          0.22748225315755508,
          0.23243866135305133,
          0.23783756701237538,
          0.2427321774658216,
          0.24820282061131538,
          0.25437888914496426,
          0.26031052886948086,
          0.26651728553137005,
          0.2719631236442516,
          0.2779978393950306,
          0.2836291004071599,
          0.2889126677092765,
          0.2950093076854889,
          0.3032456308815057,
          0.30850618059920387,
          0.3145886148882231,
          0.31715749039692703,
          0.32478755581160884,
          0.3320164609053498,
          0.3389667754945266,
          0.3470845817008527,
          0.358294930875576,
          0.3655913978494624,
          0.3778801843317972,
          0.39400921658986177
         ],
         "yaxis": "y2"
        }
       ],
       "layout": {
        "annotations": [
         {
          "font": {},
          "showarrow": false,
          "text": "variable=Recall",
          "x": 0.245,
          "xanchor": "center",
          "xref": "paper",
          "y": 1,
          "yanchor": "bottom",
          "yref": "paper"
         },
         {
          "font": {},
          "showarrow": false,
          "text": "variable=Precision",
          "x": 0.755,
          "xanchor": "center",
          "xref": "paper",
          "y": 1,
          "yanchor": "bottom",
          "yref": "paper"
         }
        ],
        "legend": {
         "title": {
          "text": "variable"
         },
         "tracegroupgap": 0
        },
        "margin": {
         "t": 60
        },
        "template": {
         "data": {
          "bar": [
           {
            "error_x": {
             "color": "#2a3f5f"
            },
            "error_y": {
             "color": "#2a3f5f"
            },
            "marker": {
             "line": {
              "color": "#E5ECF6",
              "width": 0.5
             }
            },
            "type": "bar"
           }
          ],
          "barpolar": [
           {
            "marker": {
             "line": {
              "color": "#E5ECF6",
              "width": 0.5
             }
            },
            "type": "barpolar"
           }
          ],
          "carpet": [
           {
            "aaxis": {
             "endlinecolor": "#2a3f5f",
             "gridcolor": "white",
             "linecolor": "white",
             "minorgridcolor": "white",
             "startlinecolor": "#2a3f5f"
            },
            "baxis": {
             "endlinecolor": "#2a3f5f",
             "gridcolor": "white",
             "linecolor": "white",
             "minorgridcolor": "white",
             "startlinecolor": "#2a3f5f"
            },
            "type": "carpet"
           }
          ],
          "choropleth": [
           {
            "colorbar": {
             "outlinewidth": 0,
             "ticks": ""
            },
            "type": "choropleth"
           }
          ],
          "contour": [
           {
            "colorbar": {
             "outlinewidth": 0,
             "ticks": ""
            },
            "colorscale": [
             [
              0,
              "#0d0887"
             ],
             [
              0.1111111111111111,
              "#46039f"
             ],
             [
              0.2222222222222222,
              "#7201a8"
             ],
             [
              0.3333333333333333,
              "#9c179e"
             ],
             [
              0.4444444444444444,
              "#bd3786"
             ],
             [
              0.5555555555555556,
              "#d8576b"
             ],
             [
              0.6666666666666666,
              "#ed7953"
             ],
             [
              0.7777777777777778,
              "#fb9f3a"
             ],
             [
              0.8888888888888888,
              "#fdca26"
             ],
             [
              1,
              "#f0f921"
             ]
            ],
            "type": "contour"
           }
          ],
          "contourcarpet": [
           {
            "colorbar": {
             "outlinewidth": 0,
             "ticks": ""
            },
            "type": "contourcarpet"
           }
          ],
          "heatmap": [
           {
            "colorbar": {
             "outlinewidth": 0,
             "ticks": ""
            },
            "colorscale": [
             [
              0,
              "#0d0887"
             ],
             [
              0.1111111111111111,
              "#46039f"
             ],
             [
              0.2222222222222222,
              "#7201a8"
             ],
             [
              0.3333333333333333,
              "#9c179e"
             ],
             [
              0.4444444444444444,
              "#bd3786"
             ],
             [
              0.5555555555555556,
              "#d8576b"
             ],
             [
              0.6666666666666666,
              "#ed7953"
             ],
             [
              0.7777777777777778,
              "#fb9f3a"
             ],
             [
              0.8888888888888888,
              "#fdca26"
             ],
             [
              1,
              "#f0f921"
             ]
            ],
            "type": "heatmap"
           }
          ],
          "heatmapgl": [
           {
            "colorbar": {
             "outlinewidth": 0,
             "ticks": ""
            },
            "colorscale": [
             [
              0,
              "#0d0887"
             ],
             [
              0.1111111111111111,
              "#46039f"
             ],
             [
              0.2222222222222222,
              "#7201a8"
             ],
             [
              0.3333333333333333,
              "#9c179e"
             ],
             [
              0.4444444444444444,
              "#bd3786"
             ],
             [
              0.5555555555555556,
              "#d8576b"
             ],
             [
              0.6666666666666666,
              "#ed7953"
             ],
             [
              0.7777777777777778,
              "#fb9f3a"
             ],
             [
              0.8888888888888888,
              "#fdca26"
             ],
             [
              1,
              "#f0f921"
             ]
            ],
            "type": "heatmapgl"
           }
          ],
          "histogram": [
           {
            "marker": {
             "colorbar": {
              "outlinewidth": 0,
              "ticks": ""
             }
            },
            "type": "histogram"
           }
          ],
          "histogram2d": [
           {
            "colorbar": {
             "outlinewidth": 0,
             "ticks": ""
            },
            "colorscale": [
             [
              0,
              "#0d0887"
             ],
             [
              0.1111111111111111,
              "#46039f"
             ],
             [
              0.2222222222222222,
              "#7201a8"
             ],
             [
              0.3333333333333333,
              "#9c179e"
             ],
             [
              0.4444444444444444,
              "#bd3786"
             ],
             [
              0.5555555555555556,
              "#d8576b"
             ],
             [
              0.6666666666666666,
              "#ed7953"
             ],
             [
              0.7777777777777778,
              "#fb9f3a"
             ],
             [
              0.8888888888888888,
              "#fdca26"
             ],
             [
              1,
              "#f0f921"
             ]
            ],
            "type": "histogram2d"
           }
          ],
          "histogram2dcontour": [
           {
            "colorbar": {
             "outlinewidth": 0,
             "ticks": ""
            },
            "colorscale": [
             [
              0,
              "#0d0887"
             ],
             [
              0.1111111111111111,
              "#46039f"
             ],
             [
              0.2222222222222222,
              "#7201a8"
             ],
             [
              0.3333333333333333,
              "#9c179e"
             ],
             [
              0.4444444444444444,
              "#bd3786"
             ],
             [
              0.5555555555555556,
              "#d8576b"
             ],
             [
              0.6666666666666666,
              "#ed7953"
             ],
             [
              0.7777777777777778,
              "#fb9f3a"
             ],
             [
              0.8888888888888888,
              "#fdca26"
             ],
             [
              1,
              "#f0f921"
             ]
            ],
            "type": "histogram2dcontour"
           }
          ],
          "mesh3d": [
           {
            "colorbar": {
             "outlinewidth": 0,
             "ticks": ""
            },
            "type": "mesh3d"
           }
          ],
          "parcoords": [
           {
            "line": {
             "colorbar": {
              "outlinewidth": 0,
              "ticks": ""
             }
            },
            "type": "parcoords"
           }
          ],
          "pie": [
           {
            "automargin": true,
            "type": "pie"
           }
          ],
          "scatter": [
           {
            "marker": {
             "colorbar": {
              "outlinewidth": 0,
              "ticks": ""
             }
            },
            "type": "scatter"
           }
          ],
          "scatter3d": [
           {
            "line": {
             "colorbar": {
              "outlinewidth": 0,
              "ticks": ""
             }
            },
            "marker": {
             "colorbar": {
              "outlinewidth": 0,
              "ticks": ""
             }
            },
            "type": "scatter3d"
           }
          ],
          "scattercarpet": [
           {
            "marker": {
             "colorbar": {
              "outlinewidth": 0,
              "ticks": ""
             }
            },
            "type": "scattercarpet"
           }
          ],
          "scattergeo": [
           {
            "marker": {
             "colorbar": {
              "outlinewidth": 0,
              "ticks": ""
             }
            },
            "type": "scattergeo"
           }
          ],
          "scattergl": [
           {
            "marker": {
             "colorbar": {
              "outlinewidth": 0,
              "ticks": ""
             }
            },
            "type": "scattergl"
           }
          ],
          "scattermapbox": [
           {
            "marker": {
             "colorbar": {
              "outlinewidth": 0,
              "ticks": ""
             }
            },
            "type": "scattermapbox"
           }
          ],
          "scatterpolar": [
           {
            "marker": {
             "colorbar": {
              "outlinewidth": 0,
              "ticks": ""
             }
            },
            "type": "scatterpolar"
           }
          ],
          "scatterpolargl": [
           {
            "marker": {
             "colorbar": {
              "outlinewidth": 0,
              "ticks": ""
             }
            },
            "type": "scatterpolargl"
           }
          ],
          "scatterternary": [
           {
            "marker": {
             "colorbar": {
              "outlinewidth": 0,
              "ticks": ""
             }
            },
            "type": "scatterternary"
           }
          ],
          "surface": [
           {
            "colorbar": {
             "outlinewidth": 0,
             "ticks": ""
            },
            "colorscale": [
             [
              0,
              "#0d0887"
             ],
             [
              0.1111111111111111,
              "#46039f"
             ],
             [
              0.2222222222222222,
              "#7201a8"
             ],
             [
              0.3333333333333333,
              "#9c179e"
             ],
             [
              0.4444444444444444,
              "#bd3786"
             ],
             [
              0.5555555555555556,
              "#d8576b"
             ],
             [
              0.6666666666666666,
              "#ed7953"
             ],
             [
              0.7777777777777778,
              "#fb9f3a"
             ],
             [
              0.8888888888888888,
              "#fdca26"
             ],
             [
              1,
              "#f0f921"
             ]
            ],
            "type": "surface"
           }
          ],
          "table": [
           {
            "cells": {
             "fill": {
              "color": "#EBF0F8"
             },
             "line": {
              "color": "white"
             }
            },
            "header": {
             "fill": {
              "color": "#C8D4E3"
             },
             "line": {
              "color": "white"
             }
            },
            "type": "table"
           }
          ]
         },
         "layout": {
          "annotationdefaults": {
           "arrowcolor": "#2a3f5f",
           "arrowhead": 0,
           "arrowwidth": 1
          },
          "coloraxis": {
           "colorbar": {
            "outlinewidth": 0,
            "ticks": ""
           }
          },
          "colorscale": {
           "diverging": [
            [
             0,
             "#8e0152"
            ],
            [
             0.1,
             "#c51b7d"
            ],
            [
             0.2,
             "#de77ae"
            ],
            [
             0.3,
             "#f1b6da"
            ],
            [
             0.4,
             "#fde0ef"
            ],
            [
             0.5,
             "#f7f7f7"
            ],
            [
             0.6,
             "#e6f5d0"
            ],
            [
             0.7,
             "#b8e186"
            ],
            [
             0.8,
             "#7fbc41"
            ],
            [
             0.9,
             "#4d9221"
            ],
            [
             1,
             "#276419"
            ]
           ],
           "sequential": [
            [
             0,
             "#0d0887"
            ],
            [
             0.1111111111111111,
             "#46039f"
            ],
            [
             0.2222222222222222,
             "#7201a8"
            ],
            [
             0.3333333333333333,
             "#9c179e"
            ],
            [
             0.4444444444444444,
             "#bd3786"
            ],
            [
             0.5555555555555556,
             "#d8576b"
            ],
            [
             0.6666666666666666,
             "#ed7953"
            ],
            [
             0.7777777777777778,
             "#fb9f3a"
            ],
            [
             0.8888888888888888,
             "#fdca26"
            ],
            [
             1,
             "#f0f921"
            ]
           ],
           "sequentialminus": [
            [
             0,
             "#0d0887"
            ],
            [
             0.1111111111111111,
             "#46039f"
            ],
            [
             0.2222222222222222,
             "#7201a8"
            ],
            [
             0.3333333333333333,
             "#9c179e"
            ],
            [
             0.4444444444444444,
             "#bd3786"
            ],
            [
             0.5555555555555556,
             "#d8576b"
            ],
            [
             0.6666666666666666,
             "#ed7953"
            ],
            [
             0.7777777777777778,
             "#fb9f3a"
            ],
            [
             0.8888888888888888,
             "#fdca26"
            ],
            [
             1,
             "#f0f921"
            ]
           ]
          },
          "colorway": [
           "#636efa",
           "#EF553B",
           "#00cc96",
           "#ab63fa",
           "#FFA15A",
           "#19d3f3",
           "#FF6692",
           "#B6E880",
           "#FF97FF",
           "#FECB52"
          ],
          "font": {
           "color": "#2a3f5f"
          },
          "geo": {
           "bgcolor": "white",
           "lakecolor": "white",
           "landcolor": "#E5ECF6",
           "showlakes": true,
           "showland": true,
           "subunitcolor": "white"
          },
          "hoverlabel": {
           "align": "left"
          },
          "hovermode": "closest",
          "mapbox": {
           "style": "light"
          },
          "paper_bgcolor": "white",
          "plot_bgcolor": "#E5ECF6",
          "polar": {
           "angularaxis": {
            "gridcolor": "white",
            "linecolor": "white",
            "ticks": ""
           },
           "bgcolor": "#E5ECF6",
           "radialaxis": {
            "gridcolor": "white",
            "linecolor": "white",
            "ticks": ""
           }
          },
          "scene": {
           "xaxis": {
            "backgroundcolor": "#E5ECF6",
            "gridcolor": "white",
            "gridwidth": 2,
            "linecolor": "white",
            "showbackground": true,
            "ticks": "",
            "zerolinecolor": "white"
           },
           "yaxis": {
            "backgroundcolor": "#E5ECF6",
            "gridcolor": "white",
            "gridwidth": 2,
            "linecolor": "white",
            "showbackground": true,
            "ticks": "",
            "zerolinecolor": "white"
           },
           "zaxis": {
            "backgroundcolor": "#E5ECF6",
            "gridcolor": "white",
            "gridwidth": 2,
            "linecolor": "white",
            "showbackground": true,
            "ticks": "",
            "zerolinecolor": "white"
           }
          },
          "shapedefaults": {
           "line": {
            "color": "#2a3f5f"
           }
          },
          "ternary": {
           "aaxis": {
            "gridcolor": "white",
            "linecolor": "white",
            "ticks": ""
           },
           "baxis": {
            "gridcolor": "white",
            "linecolor": "white",
            "ticks": ""
           },
           "bgcolor": "#E5ECF6",
           "caxis": {
            "gridcolor": "white",
            "linecolor": "white",
            "ticks": ""
           }
          },
          "title": {
           "x": 0.05
          },
          "xaxis": {
           "automargin": true,
           "gridcolor": "white",
           "linecolor": "white",
           "ticks": "",
           "title": {
            "standoff": 15
           },
           "zerolinecolor": "white",
           "zerolinewidth": 2
          },
          "yaxis": {
           "automargin": true,
           "gridcolor": "white",
           "linecolor": "white",
           "ticks": "",
           "title": {
            "standoff": 15
           },
           "zerolinecolor": "white",
           "zerolinewidth": 2
          }
         }
        },
        "xaxis": {
         "anchor": "y",
         "domain": [
          0,
          0.49
         ],
         "title": {
          "text": "Inspect_Rate"
         }
        },
        "xaxis2": {
         "anchor": "y2",
         "domain": [
          0.51,
          1
         ],
         "matches": "x",
         "title": {
          "text": "Inspect_Rate"
         }
        },
        "yaxis": {
         "anchor": "x",
         "domain": [
          0,
          1
         ],
         "title": {
          "text": "value"
         }
        },
        "yaxis2": {
         "anchor": "x2",
         "domain": [
          0,
          1
         ],
         "matches": "y",
         "showticklabels": false
        }
       }
      },
      "text/html": [
       "<div>\n",
       "        \n",
       "        \n",
       "            <div id=\"7a71e8ca-dee8-488b-8c6a-d7b738f0abce\" class=\"plotly-graph-div\" style=\"height:525px; width:100%;\"></div>\n",
       "            <script type=\"text/javascript\">\n",
       "                require([\"plotly\"], function(Plotly) {\n",
       "                    window.PLOTLYENV=window.PLOTLYENV || {};\n",
       "                    \n",
       "                if (document.getElementById(\"7a71e8ca-dee8-488b-8c6a-d7b738f0abce\")) {\n",
       "                    Plotly.newPlot(\n",
       "                        '7a71e8ca-dee8-488b-8c6a-d7b738f0abce',\n",
       "                        [{\"hovertemplate\": \"variable=Recall<br>Inspect_Rate=%{x}<br>value=%{y}<extra></extra>\", \"legendgroup\": \"Recall\", \"line\": {\"color\": \"#636efa\", \"dash\": \"solid\"}, \"mode\": \"lines\", \"name\": \"Recall\", \"orientation\": \"v\", \"showlegend\": true, \"type\": \"scatter\", \"x\": [99, 98, 97, 96, 95, 94, 93, 92, 91, 90, 89, 88, 87, 86, 85, 84, 83, 82, 81, 80, 79, 78, 77, 76, 75, 74, 73, 72, 71, 70, 69, 68, 67, 66, 65, 64, 63, 62, 61, 60, 59, 58, 57, 56, 55, 54, 53, 52, 51, 50, 49, 48, 47, 46, 45, 44, 43, 42, 41, 40, 39, 38, 37, 36, 35, 34, 33, 32, 31, 30, 29, 28, 27, 26, 25, 24, 23, 22, 21, 20, 19, 18, 17, 16, 15, 14, 13, 12, 11, 10, 9, 8, 7, 6, 5, 4, 3, 2, 1], \"xaxis\": \"x\", \"y\": [1.0, 1.0, 1.0, 1.0, 1.0, 0.9998478624676708, 0.9998478624676708, 0.9996957249353415, 0.9995435874030123, 0.9993914498706831, 0.9993914498706831, 0.9989350372736954, 0.998630762209037, 0.9984786246767078, 0.9980222120797201, 0.9975657994827324, 0.9972615244180739, 0.996652974288757, 0.9960444241594402, 0.9955880115624525, 0.9949794614331355, 0.9937623611745018, 0.9920888483188802, 0.9910238855925757, 0.9899589228662711, 0.9890460976722958, 0.9869161722196866, 0.9846341092347483, 0.9818956336528222, 0.9809828084588468, 0.9790050205385669, 0.9779400578122622, 0.97641868248897, 0.9730716567777271, 0.9709417313251179, 0.9686596683401795, 0.966225467822912, 0.9634869922409859, 0.9616613418530351, 0.9587707287387799, 0.9558801156245246, 0.9517724022516355, 0.9482732390080633, 0.9444698006998327, 0.9412749125209189, 0.937927886809676, 0.934580861098433, 0.9300167351285562, 0.9265175718849841, 0.9224098585120949, 0.9173893199452305, 0.9134337441046706, 0.9079567929408185, 0.9055225924235509, 0.9017191541153202, 0.896850753080785, 0.8924387646432375, 0.8875703636087022, 0.8810284497185455, 0.8737258481667427, 0.8688574471322075, 0.8636847710330139, 0.8580556823368325, 0.8527308687053096, 0.8463410923474821, 0.8396470409249962, 0.8326487144378518, 0.823976875095086, 0.814544348090674, 0.805111821086262, 0.7950707439525331, 0.7854860794157918, 0.775445002282063, 0.7644910999543587, 0.7507987220447284, 0.7364977940057812, 0.722196865966834, 0.7050053248136315, 0.6881180587250875, 0.6716872052335311, 0.6529742887570363, 0.6333485470865663, 0.6103757797048532, 0.5872508747908108, 0.5616917693595009, 0.5340027384755819, 0.5063137075916628, 0.4804503270956945, 0.44804503270956947, 0.41533546325878595, 0.37684466757949187, 0.3430701354024038, 0.30686140270804807, 0.2685227445610832, 0.22911912368781379, 0.18925909021755666, 0.1448349307774228, 0.09980222120797201, 0.05203103605659516], \"yaxis\": \"y\"}, {\"hovertemplate\": \"variable=Precision<br>Inspect_Rate=%{x}<br>value=%{y}<extra></extra>\", \"legendgroup\": \"Precision\", \"line\": {\"color\": \"#EF553B\", \"dash\": \"solid\"}, \"mode\": \"lines\", \"name\": \"Precision\", \"orientation\": \"v\", \"showlegend\": true, \"type\": \"scatter\", \"x\": [99, 98, 97, 96, 95, 94, 93, 92, 91, 90, 89, 88, 87, 86, 85, 84, 83, 82, 81, 80, 79, 78, 77, 76, 75, 74, 73, 72, 71, 70, 69, 68, 67, 66, 65, 64, 63, 62, 61, 60, 59, 58, 57, 56, 55, 54, 53, 52, 51, 50, 49, 48, 47, 46, 45, 44, 43, 42, 41, 40, 39, 38, 37, 36, 35, 34, 33, 32, 31, 30, 29, 28, 27, 26, 25, 24, 23, 22, 21, 20, 19, 18, 17, 16, 15, 14, 13, 12, 11, 10, 9, 8, 7, 6, 5, 4, 3, 2, 1], \"xaxis\": \"x2\", \"y\": [0.07651119207533554, 0.0772921296786256, 0.07808917348793556, 0.0789028269611668, 0.07973264756544313, 0.08056883658207674, 0.08143540432703031, 0.08230828970112984, 0.08319931110463864, 0.08411119220476575, 0.08505651875542204, 0.08598404986708223, 0.08694500370880577, 0.08794286326847832, 0.08893709327548807, 0.08995500192064973, 0.09101006594932315, 0.0920640274322976, 0.09314401969013644, 0.09426542400714481, 0.09539924730869095, 0.09650444700528912, 0.09759346283935466, 0.09877179681576952, 0.09998156172213515, 0.10123802849801448, 0.1024042180371604, 0.10358680516653596, 0.10475402119751343, 0.1061504016857632, 0.107472109025319, 0.10893438177874186, 0.11038871689026487, 0.11167565868733959, 0.11314599769523978, 0.11464429119325854, 0.11617187071283543, 0.11770937883350062, 0.11941285374239619, 0.12103868167326086, 0.12271963748583929, 0.12429715284814528, 0.12601338374138243, 0.1277497684947011, 0.12963312171307645, 0.13156209987195902, 0.1335667072534354, 0.13547114617498449, 0.13760845986984815, 0.1397390983682124, 0.14181228099056936, 0.14414327899551052, 0.14632830697560378, 0.14910940200916903, 0.1517797695262484, 0.15439212194227647, 0.15720641046256098, 0.16007243593261264, 0.1627645521234436, 0.16545187404569156, 0.16874981532370062, 0.17216072782410918, 0.17565715709480503, 0.17941741357234314, 0.18316212300803372, 0.18705938177874187, 0.19111638788979293, 0.19503763189167778, 0.19902605851083602, 0.20328045173433718, 0.2076611300961615, 0.21248662441353197, 0.2175416133162612, 0.2227196170552256, 0.22748225315755508, 0.23243866135305133, 0.23783756701237538, 0.2427321774658216, 0.24820282061131538, 0.25437888914496426, 0.26031052886948086, 0.26651728553137005, 0.2719631236442516, 0.2779978393950306, 0.2836291004071599, 0.2889126677092765, 0.2950093076854889, 0.3032456308815057, 0.30850618059920387, 0.3145886148882231, 0.31715749039692703, 0.32478755581160884, 0.3320164609053498, 0.3389667754945266, 0.3470845817008527, 0.358294930875576, 0.3655913978494624, 0.3778801843317972, 0.39400921658986177], \"yaxis\": \"y2\"}],\n",
       "                        {\"annotations\": [{\"font\": {}, \"showarrow\": false, \"text\": \"variable=Recall\", \"x\": 0.245, \"xanchor\": \"center\", \"xref\": \"paper\", \"y\": 1.0, \"yanchor\": \"bottom\", \"yref\": \"paper\"}, {\"font\": {}, \"showarrow\": false, \"text\": \"variable=Precision\", \"x\": 0.755, \"xanchor\": \"center\", \"xref\": \"paper\", \"y\": 1.0, \"yanchor\": \"bottom\", \"yref\": \"paper\"}], \"legend\": {\"title\": {\"text\": \"variable\"}, \"tracegroupgap\": 0}, \"margin\": {\"t\": 60}, \"template\": {\"data\": {\"bar\": [{\"error_x\": {\"color\": \"#2a3f5f\"}, \"error_y\": {\"color\": \"#2a3f5f\"}, \"marker\": {\"line\": {\"color\": \"#E5ECF6\", \"width\": 0.5}}, \"type\": \"bar\"}], \"barpolar\": [{\"marker\": {\"line\": {\"color\": \"#E5ECF6\", \"width\": 0.5}}, \"type\": \"barpolar\"}], \"carpet\": [{\"aaxis\": {\"endlinecolor\": \"#2a3f5f\", \"gridcolor\": \"white\", \"linecolor\": \"white\", \"minorgridcolor\": \"white\", \"startlinecolor\": \"#2a3f5f\"}, \"baxis\": {\"endlinecolor\": \"#2a3f5f\", \"gridcolor\": \"white\", \"linecolor\": \"white\", \"minorgridcolor\": \"white\", \"startlinecolor\": \"#2a3f5f\"}, \"type\": \"carpet\"}], \"choropleth\": [{\"colorbar\": {\"outlinewidth\": 0, \"ticks\": \"\"}, \"type\": \"choropleth\"}], \"contour\": [{\"colorbar\": {\"outlinewidth\": 0, \"ticks\": \"\"}, \"colorscale\": [[0.0, \"#0d0887\"], [0.1111111111111111, \"#46039f\"], [0.2222222222222222, \"#7201a8\"], [0.3333333333333333, \"#9c179e\"], [0.4444444444444444, \"#bd3786\"], [0.5555555555555556, \"#d8576b\"], [0.6666666666666666, \"#ed7953\"], [0.7777777777777778, \"#fb9f3a\"], [0.8888888888888888, \"#fdca26\"], [1.0, \"#f0f921\"]], \"type\": \"contour\"}], \"contourcarpet\": [{\"colorbar\": {\"outlinewidth\": 0, \"ticks\": \"\"}, \"type\": \"contourcarpet\"}], \"heatmap\": [{\"colorbar\": {\"outlinewidth\": 0, \"ticks\": \"\"}, \"colorscale\": [[0.0, \"#0d0887\"], [0.1111111111111111, \"#46039f\"], [0.2222222222222222, \"#7201a8\"], [0.3333333333333333, \"#9c179e\"], [0.4444444444444444, \"#bd3786\"], [0.5555555555555556, \"#d8576b\"], [0.6666666666666666, \"#ed7953\"], [0.7777777777777778, \"#fb9f3a\"], [0.8888888888888888, \"#fdca26\"], [1.0, \"#f0f921\"]], \"type\": \"heatmap\"}], \"heatmapgl\": [{\"colorbar\": {\"outlinewidth\": 0, \"ticks\": \"\"}, \"colorscale\": [[0.0, \"#0d0887\"], [0.1111111111111111, \"#46039f\"], [0.2222222222222222, \"#7201a8\"], [0.3333333333333333, \"#9c179e\"], [0.4444444444444444, \"#bd3786\"], [0.5555555555555556, \"#d8576b\"], [0.6666666666666666, \"#ed7953\"], [0.7777777777777778, \"#fb9f3a\"], [0.8888888888888888, \"#fdca26\"], [1.0, \"#f0f921\"]], \"type\": \"heatmapgl\"}], \"histogram\": [{\"marker\": {\"colorbar\": {\"outlinewidth\": 0, \"ticks\": \"\"}}, \"type\": \"histogram\"}], \"histogram2d\": [{\"colorbar\": {\"outlinewidth\": 0, \"ticks\": \"\"}, \"colorscale\": [[0.0, \"#0d0887\"], [0.1111111111111111, \"#46039f\"], [0.2222222222222222, \"#7201a8\"], [0.3333333333333333, \"#9c179e\"], [0.4444444444444444, \"#bd3786\"], [0.5555555555555556, \"#d8576b\"], [0.6666666666666666, \"#ed7953\"], [0.7777777777777778, \"#fb9f3a\"], [0.8888888888888888, \"#fdca26\"], [1.0, \"#f0f921\"]], \"type\": \"histogram2d\"}], \"histogram2dcontour\": [{\"colorbar\": {\"outlinewidth\": 0, \"ticks\": \"\"}, \"colorscale\": [[0.0, \"#0d0887\"], [0.1111111111111111, \"#46039f\"], [0.2222222222222222, \"#7201a8\"], [0.3333333333333333, \"#9c179e\"], [0.4444444444444444, \"#bd3786\"], [0.5555555555555556, \"#d8576b\"], [0.6666666666666666, \"#ed7953\"], [0.7777777777777778, \"#fb9f3a\"], [0.8888888888888888, \"#fdca26\"], [1.0, \"#f0f921\"]], \"type\": \"histogram2dcontour\"}], \"mesh3d\": [{\"colorbar\": {\"outlinewidth\": 0, \"ticks\": \"\"}, \"type\": \"mesh3d\"}], \"parcoords\": [{\"line\": {\"colorbar\": {\"outlinewidth\": 0, \"ticks\": \"\"}}, \"type\": \"parcoords\"}], \"pie\": [{\"automargin\": true, \"type\": \"pie\"}], \"scatter\": [{\"marker\": {\"colorbar\": {\"outlinewidth\": 0, \"ticks\": \"\"}}, \"type\": \"scatter\"}], \"scatter3d\": [{\"line\": {\"colorbar\": {\"outlinewidth\": 0, \"ticks\": \"\"}}, \"marker\": {\"colorbar\": {\"outlinewidth\": 0, \"ticks\": \"\"}}, \"type\": \"scatter3d\"}], \"scattercarpet\": [{\"marker\": {\"colorbar\": {\"outlinewidth\": 0, \"ticks\": \"\"}}, \"type\": \"scattercarpet\"}], \"scattergeo\": [{\"marker\": {\"colorbar\": {\"outlinewidth\": 0, \"ticks\": \"\"}}, \"type\": \"scattergeo\"}], \"scattergl\": [{\"marker\": {\"colorbar\": {\"outlinewidth\": 0, \"ticks\": \"\"}}, \"type\": \"scattergl\"}], \"scattermapbox\": [{\"marker\": {\"colorbar\": {\"outlinewidth\": 0, \"ticks\": \"\"}}, \"type\": \"scattermapbox\"}], \"scatterpolar\": [{\"marker\": {\"colorbar\": {\"outlinewidth\": 0, \"ticks\": \"\"}}, \"type\": \"scatterpolar\"}], \"scatterpolargl\": [{\"marker\": {\"colorbar\": {\"outlinewidth\": 0, \"ticks\": \"\"}}, \"type\": \"scatterpolargl\"}], \"scatterternary\": [{\"marker\": {\"colorbar\": {\"outlinewidth\": 0, \"ticks\": \"\"}}, \"type\": \"scatterternary\"}], \"surface\": [{\"colorbar\": {\"outlinewidth\": 0, \"ticks\": \"\"}, \"colorscale\": [[0.0, \"#0d0887\"], [0.1111111111111111, \"#46039f\"], [0.2222222222222222, \"#7201a8\"], [0.3333333333333333, \"#9c179e\"], [0.4444444444444444, \"#bd3786\"], [0.5555555555555556, \"#d8576b\"], [0.6666666666666666, \"#ed7953\"], [0.7777777777777778, \"#fb9f3a\"], [0.8888888888888888, \"#fdca26\"], [1.0, \"#f0f921\"]], \"type\": \"surface\"}], \"table\": [{\"cells\": {\"fill\": {\"color\": \"#EBF0F8\"}, \"line\": {\"color\": \"white\"}}, \"header\": {\"fill\": {\"color\": \"#C8D4E3\"}, \"line\": {\"color\": \"white\"}}, \"type\": \"table\"}]}, \"layout\": {\"annotationdefaults\": {\"arrowcolor\": \"#2a3f5f\", \"arrowhead\": 0, \"arrowwidth\": 1}, \"coloraxis\": {\"colorbar\": {\"outlinewidth\": 0, \"ticks\": \"\"}}, \"colorscale\": {\"diverging\": [[0, \"#8e0152\"], [0.1, \"#c51b7d\"], [0.2, \"#de77ae\"], [0.3, \"#f1b6da\"], [0.4, \"#fde0ef\"], [0.5, \"#f7f7f7\"], [0.6, \"#e6f5d0\"], [0.7, \"#b8e186\"], [0.8, \"#7fbc41\"], [0.9, \"#4d9221\"], [1, \"#276419\"]], \"sequential\": [[0.0, \"#0d0887\"], [0.1111111111111111, \"#46039f\"], [0.2222222222222222, \"#7201a8\"], [0.3333333333333333, \"#9c179e\"], [0.4444444444444444, \"#bd3786\"], [0.5555555555555556, \"#d8576b\"], [0.6666666666666666, \"#ed7953\"], [0.7777777777777778, \"#fb9f3a\"], [0.8888888888888888, \"#fdca26\"], [1.0, \"#f0f921\"]], \"sequentialminus\": [[0.0, \"#0d0887\"], [0.1111111111111111, \"#46039f\"], [0.2222222222222222, \"#7201a8\"], [0.3333333333333333, \"#9c179e\"], [0.4444444444444444, \"#bd3786\"], [0.5555555555555556, \"#d8576b\"], [0.6666666666666666, \"#ed7953\"], [0.7777777777777778, \"#fb9f3a\"], [0.8888888888888888, \"#fdca26\"], [1.0, \"#f0f921\"]]}, \"colorway\": [\"#636efa\", \"#EF553B\", \"#00cc96\", \"#ab63fa\", \"#FFA15A\", \"#19d3f3\", \"#FF6692\", \"#B6E880\", \"#FF97FF\", \"#FECB52\"], \"font\": {\"color\": \"#2a3f5f\"}, \"geo\": {\"bgcolor\": \"white\", \"lakecolor\": \"white\", \"landcolor\": \"#E5ECF6\", \"showlakes\": true, \"showland\": true, \"subunitcolor\": \"white\"}, \"hoverlabel\": {\"align\": \"left\"}, \"hovermode\": \"closest\", \"mapbox\": {\"style\": \"light\"}, \"paper_bgcolor\": \"white\", \"plot_bgcolor\": \"#E5ECF6\", \"polar\": {\"angularaxis\": {\"gridcolor\": \"white\", \"linecolor\": \"white\", \"ticks\": \"\"}, \"bgcolor\": \"#E5ECF6\", \"radialaxis\": {\"gridcolor\": \"white\", \"linecolor\": \"white\", \"ticks\": \"\"}}, \"scene\": {\"xaxis\": {\"backgroundcolor\": \"#E5ECF6\", \"gridcolor\": \"white\", \"gridwidth\": 2, \"linecolor\": \"white\", \"showbackground\": true, \"ticks\": \"\", \"zerolinecolor\": \"white\"}, \"yaxis\": {\"backgroundcolor\": \"#E5ECF6\", \"gridcolor\": \"white\", \"gridwidth\": 2, \"linecolor\": \"white\", \"showbackground\": true, \"ticks\": \"\", \"zerolinecolor\": \"white\"}, \"zaxis\": {\"backgroundcolor\": \"#E5ECF6\", \"gridcolor\": \"white\", \"gridwidth\": 2, \"linecolor\": \"white\", \"showbackground\": true, \"ticks\": \"\", \"zerolinecolor\": \"white\"}}, \"shapedefaults\": {\"line\": {\"color\": \"#2a3f5f\"}}, \"ternary\": {\"aaxis\": {\"gridcolor\": \"white\", \"linecolor\": \"white\", \"ticks\": \"\"}, \"baxis\": {\"gridcolor\": \"white\", \"linecolor\": \"white\", \"ticks\": \"\"}, \"bgcolor\": \"#E5ECF6\", \"caxis\": {\"gridcolor\": \"white\", \"linecolor\": \"white\", \"ticks\": \"\"}}, \"title\": {\"x\": 0.05}, \"xaxis\": {\"automargin\": true, \"gridcolor\": \"white\", \"linecolor\": \"white\", \"ticks\": \"\", \"title\": {\"standoff\": 15}, \"zerolinecolor\": \"white\", \"zerolinewidth\": 2}, \"yaxis\": {\"automargin\": true, \"gridcolor\": \"white\", \"linecolor\": \"white\", \"ticks\": \"\", \"title\": {\"standoff\": 15}, \"zerolinecolor\": \"white\", \"zerolinewidth\": 2}}}, \"xaxis\": {\"anchor\": \"y\", \"domain\": [0.0, 0.49], \"title\": {\"text\": \"Inspect_Rate\"}}, \"xaxis2\": {\"anchor\": \"y2\", \"domain\": [0.51, 1.0], \"matches\": \"x\", \"title\": {\"text\": \"Inspect_Rate\"}}, \"yaxis\": {\"anchor\": \"x\", \"domain\": [0.0, 1.0], \"title\": {\"text\": \"value\"}}, \"yaxis2\": {\"anchor\": \"x2\", \"domain\": [0.0, 1.0], \"matches\": \"y\", \"showticklabels\": false}},\n",
       "                        {\"responsive\": true}\n",
       "                    ).then(function(){\n",
       "                            \n",
       "var gd = document.getElementById('7a71e8ca-dee8-488b-8c6a-d7b738f0abce');\n",
       "var x = new MutationObserver(function (mutations, observer) {{\n",
       "        var display = window.getComputedStyle(gd).display;\n",
       "        if (!display || display === 'none') {{\n",
       "            console.log([gd, 'removed!']);\n",
       "            Plotly.purge(gd);\n",
       "            observer.disconnect();\n",
       "        }}\n",
       "}});\n",
       "\n",
       "// Listen for the removal of the full notebook cells\n",
       "var notebookContainer = gd.closest('#notebook-container');\n",
       "if (notebookContainer) {{\n",
       "    x.observe(notebookContainer, {childList: true});\n",
       "}}\n",
       "\n",
       "// Listen for the clearing of the current output cell\n",
       "var outputEl = gd.closest('.output');\n",
       "if (outputEl) {{\n",
       "    x.observe(outputEl, {childList: true});\n",
       "}}\n",
       "\n",
       "                        })\n",
       "                };\n",
       "                });\n",
       "            </script>\n",
       "        </div>"
      ]
     },
     "metadata": {},
     "output_type": "display_data"
    }
   ],
   "source": [
    "# install plotly --> https://plotly.com/python/getting-started/#installation\n",
    "import plotly.express as px\n",
    "\n",
    "# Interactive visualization\n",
    "fig = px.line(data, x=\"Inspect_Rate\", y=\"value\", color='variable',facet_col=\"variable\")\n",
    "fig.show()"
   ]
  }
 ],
 "metadata": {
  "kernelspec": {
   "display_name": "Python 3",
   "language": "python",
   "name": "python3"
  },
  "language_info": {
   "codemirror_mode": {
    "name": "ipython",
    "version": 3
   },
   "file_extension": ".py",
   "mimetype": "text/x-python",
   "name": "python",
   "nbconvert_exporter": "python",
   "pygments_lexer": "ipython3",
   "version": "3.7.6"
  }
 },
 "nbformat": 4,
 "nbformat_minor": 2
}
