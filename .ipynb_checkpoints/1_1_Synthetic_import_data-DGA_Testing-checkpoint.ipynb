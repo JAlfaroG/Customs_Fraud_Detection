{
 "cells": [
  {
   "cell_type": "markdown",
   "metadata": {},
   "source": [
    "# Synthetic import data"
   ]
  },
  {
   "cell_type": "markdown",
   "metadata": {},
   "source": [
    "- Written by Yeon Soo Choi, Technical Officer, Research Unit, World Customs Organization\n",
    "- Updated on 30 June 2020"
   ]
  },
  {
   "cell_type": "markdown",
   "metadata": {},
   "source": [
    "## Summary \n",
    "\n",
    "This synthetic import was generated from real import data of multiple countries.  \n",
    "The data has **200,000 import transactions** and **13 variables**;\n",
    "- **Categorical variables (8)**: 'year', 'month', 'day', 'OFFICE (customs office of clearance)', 'IMPORTER.TIN (importer identification number)','TARIFF.CODE', 'ORIGIN.CODE', 'illicit (binary variable of illicitness'\n",
    "- **Numeric variables (5)**: 'CIF_USD_EQUIVALENT', 'QUANTITY','GROSS.WEIGHT', 'TOTAL.TAXES.USD', 'RAISED_TAX_AMOUNT_USD (after Customs intervention)'"
   ]
  },
  {
   "cell_type": "markdown",
   "metadata": {},
   "source": [
    "## Overview of synthetic import data"
   ]
  },
  {
   "cell_type": "code",
   "execution_count": 1,
   "metadata": {},
   "outputs": [],
   "source": [
    "# Set environment\n",
    "import pandas as pd\n",
    "import numpy as np\n",
    "import matplotlib.pyplot as plt\n",
    "import seaborn as sns\n",
    "import plotly.express as px\n",
    "pd.set_option('display.max_columns', 100)"
   ]
  },
  {
   "cell_type": "code",
   "execution_count": 2,
   "metadata": {},
   "outputs": [],
   "source": [
    "# Load data\n",
    "df = pd.read_csv('./synthetic_data2.csv')"
   ]
  },
  {
   "cell_type": "code",
   "execution_count": 3,
   "metadata": {},
   "outputs": [
    {
     "data": {
      "text/plain": [
       "Index(['Unnamed: 0', 'year', 'month', 'day', 'OFFICE', 'IMPORTER.TIN',\n",
       "       'TARIFF.CODE', 'ORIGIN.CODE', 'CIF_USD_EQUIVALENT', 'QUANTITY',\n",
       "       'GROSS.WEIGHT', 'TOTAL.TAXES.USD', 'RAISED_TAX_AMOUNT_USD', 'illicit'],\n",
       "      dtype='object')"
      ]
     },
     "execution_count": 3,
     "metadata": {},
     "output_type": "execute_result"
    }
   ],
   "source": [
    "# Check columns\n",
    "df.columns"
   ]
  },
  {
   "cell_type": "code",
   "execution_count": 4,
   "metadata": {},
   "outputs": [],
   "source": [
    "# Remove unnecessary column(s)\n",
    "del df['Unnamed: 0']"
   ]
  },
  {
   "cell_type": "code",
   "execution_count": 5,
   "metadata": {
    "scrolled": true
   },
   "outputs": [
    {
     "data": {
      "text/html": [
       "<div>\n",
       "<style scoped>\n",
       "    .dataframe tbody tr th:only-of-type {\n",
       "        vertical-align: middle;\n",
       "    }\n",
       "\n",
       "    .dataframe tbody tr th {\n",
       "        vertical-align: top;\n",
       "    }\n",
       "\n",
       "    .dataframe thead th {\n",
       "        text-align: right;\n",
       "    }\n",
       "</style>\n",
       "<table border=\"1\" class=\"dataframe\">\n",
       "  <thead>\n",
       "    <tr style=\"text-align: right;\">\n",
       "      <th></th>\n",
       "      <th>year</th>\n",
       "      <th>month</th>\n",
       "      <th>day</th>\n",
       "      <th>OFFICE</th>\n",
       "      <th>IMPORTER.TIN</th>\n",
       "      <th>TARIFF.CODE</th>\n",
       "      <th>ORIGIN.CODE</th>\n",
       "      <th>CIF_USD_EQUIVALENT</th>\n",
       "      <th>QUANTITY</th>\n",
       "      <th>GROSS.WEIGHT</th>\n",
       "      <th>TOTAL.TAXES.USD</th>\n",
       "      <th>RAISED_TAX_AMOUNT_USD</th>\n",
       "      <th>illicit</th>\n",
       "    </tr>\n",
       "  </thead>\n",
       "  <tbody>\n",
       "    <tr>\n",
       "      <th>37963</th>\n",
       "      <td>2013</td>\n",
       "      <td>4</td>\n",
       "      <td>22</td>\n",
       "      <td>OFFICE59</td>\n",
       "      <td>IMP152015</td>\n",
       "      <td>8703222900</td>\n",
       "      <td>CNTRY680</td>\n",
       "      <td>4756.0</td>\n",
       "      <td>1.0</td>\n",
       "      <td>895821.0</td>\n",
       "      <td>3966.0</td>\n",
       "      <td>-0.0</td>\n",
       "      <td>0</td>\n",
       "    </tr>\n",
       "    <tr>\n",
       "      <th>135450</th>\n",
       "      <td>2014</td>\n",
       "      <td>4</td>\n",
       "      <td>4</td>\n",
       "      <td>OFFICE59</td>\n",
       "      <td>IMP764499</td>\n",
       "      <td>8517180000</td>\n",
       "      <td>CNTRY680</td>\n",
       "      <td>27819.0</td>\n",
       "      <td>4795.0</td>\n",
       "      <td>14301.0</td>\n",
       "      <td>1320.0</td>\n",
       "      <td>-0.0</td>\n",
       "      <td>0</td>\n",
       "    </tr>\n",
       "    <tr>\n",
       "      <th>24408</th>\n",
       "      <td>2013</td>\n",
       "      <td>3</td>\n",
       "      <td>16</td>\n",
       "      <td>OFFICE60</td>\n",
       "      <td>IMP524729</td>\n",
       "      <td>3206420000</td>\n",
       "      <td>CNTRY576</td>\n",
       "      <td>4532295.0</td>\n",
       "      <td>1.0</td>\n",
       "      <td>1693.0</td>\n",
       "      <td>1284.0</td>\n",
       "      <td>-0.0</td>\n",
       "      <td>0</td>\n",
       "    </tr>\n",
       "    <tr>\n",
       "      <th>167493</th>\n",
       "      <td>2014</td>\n",
       "      <td>8</td>\n",
       "      <td>9</td>\n",
       "      <td>OFFICE127</td>\n",
       "      <td>IMPO11691</td>\n",
       "      <td>8716400009</td>\n",
       "      <td>CNTRY263</td>\n",
       "      <td>2917.0</td>\n",
       "      <td>300.0</td>\n",
       "      <td>16.0</td>\n",
       "      <td>5.0</td>\n",
       "      <td>-0.0</td>\n",
       "      <td>0</td>\n",
       "    </tr>\n",
       "    <tr>\n",
       "      <th>90841</th>\n",
       "      <td>2013</td>\n",
       "      <td>10</td>\n",
       "      <td>22</td>\n",
       "      <td>OFFICE59</td>\n",
       "      <td>IMP911330</td>\n",
       "      <td>8703222900</td>\n",
       "      <td>CNTRY680</td>\n",
       "      <td>60196.0</td>\n",
       "      <td>1.0</td>\n",
       "      <td>3034.0</td>\n",
       "      <td>3446.0</td>\n",
       "      <td>0.0</td>\n",
       "      <td>0</td>\n",
       "    </tr>\n",
       "    <tr>\n",
       "      <th>121532</th>\n",
       "      <td>2014</td>\n",
       "      <td>2</td>\n",
       "      <td>4</td>\n",
       "      <td>OFFICE204</td>\n",
       "      <td>IMPO12207</td>\n",
       "      <td>5806200000</td>\n",
       "      <td>CNTRY376</td>\n",
       "      <td>762.0</td>\n",
       "      <td>1.0</td>\n",
       "      <td>65.0</td>\n",
       "      <td>5.0</td>\n",
       "      <td>-0.0</td>\n",
       "      <td>0</td>\n",
       "    </tr>\n",
       "    <tr>\n",
       "      <th>135458</th>\n",
       "      <td>2014</td>\n",
       "      <td>4</td>\n",
       "      <td>4</td>\n",
       "      <td>OFFICE40</td>\n",
       "      <td>IMP394006</td>\n",
       "      <td>8703900000</td>\n",
       "      <td>CNTRY759</td>\n",
       "      <td>10368.0</td>\n",
       "      <td>1.0</td>\n",
       "      <td>614932.0</td>\n",
       "      <td>3866.0</td>\n",
       "      <td>-0.0</td>\n",
       "      <td>0</td>\n",
       "    </tr>\n",
       "    <tr>\n",
       "      <th>12239</th>\n",
       "      <td>2013</td>\n",
       "      <td>2</td>\n",
       "      <td>7</td>\n",
       "      <td>OFFICE204</td>\n",
       "      <td>IMPO19250</td>\n",
       "      <td>3926909799</td>\n",
       "      <td>CNTRY994</td>\n",
       "      <td>734.0</td>\n",
       "      <td>64.0</td>\n",
       "      <td>814.0</td>\n",
       "      <td>392.0</td>\n",
       "      <td>-0.0</td>\n",
       "      <td>0</td>\n",
       "    </tr>\n",
       "    <tr>\n",
       "      <th>150433</th>\n",
       "      <td>2014</td>\n",
       "      <td>5</td>\n",
       "      <td>19</td>\n",
       "      <td>OFFICE76</td>\n",
       "      <td>IMP693403</td>\n",
       "      <td>8702101319</td>\n",
       "      <td>CNTRY759</td>\n",
       "      <td>138802.0</td>\n",
       "      <td>8548.0</td>\n",
       "      <td>10274.0</td>\n",
       "      <td>513.0</td>\n",
       "      <td>0.0</td>\n",
       "      <td>0</td>\n",
       "    </tr>\n",
       "    <tr>\n",
       "      <th>170550</th>\n",
       "      <td>2014</td>\n",
       "      <td>8</td>\n",
       "      <td>22</td>\n",
       "      <td>OFFICE40</td>\n",
       "      <td>IMP152015</td>\n",
       "      <td>8703222900</td>\n",
       "      <td>CNTRY376</td>\n",
       "      <td>3980.0</td>\n",
       "      <td>1338.0</td>\n",
       "      <td>184241.0</td>\n",
       "      <td>483.0</td>\n",
       "      <td>-0.0</td>\n",
       "      <td>0</td>\n",
       "    </tr>\n",
       "  </tbody>\n",
       "</table>\n",
       "</div>"
      ],
      "text/plain": [
       "        year  month  day     OFFICE IMPORTER.TIN  TARIFF.CODE ORIGIN.CODE  \\\n",
       "37963   2013      4   22   OFFICE59    IMP152015   8703222900    CNTRY680   \n",
       "135450  2014      4    4   OFFICE59    IMP764499   8517180000    CNTRY680   \n",
       "24408   2013      3   16   OFFICE60    IMP524729   3206420000    CNTRY576   \n",
       "167493  2014      8    9  OFFICE127    IMPO11691   8716400009    CNTRY263   \n",
       "90841   2013     10   22   OFFICE59    IMP911330   8703222900    CNTRY680   \n",
       "121532  2014      2    4  OFFICE204    IMPO12207   5806200000    CNTRY376   \n",
       "135458  2014      4    4   OFFICE40    IMP394006   8703900000    CNTRY759   \n",
       "12239   2013      2    7  OFFICE204    IMPO19250   3926909799    CNTRY994   \n",
       "150433  2014      5   19   OFFICE76    IMP693403   8702101319    CNTRY759   \n",
       "170550  2014      8   22   OFFICE40    IMP152015   8703222900    CNTRY376   \n",
       "\n",
       "        CIF_USD_EQUIVALENT  QUANTITY  GROSS.WEIGHT  TOTAL.TAXES.USD  \\\n",
       "37963               4756.0       1.0      895821.0           3966.0   \n",
       "135450             27819.0    4795.0       14301.0           1320.0   \n",
       "24408            4532295.0       1.0        1693.0           1284.0   \n",
       "167493              2917.0     300.0          16.0              5.0   \n",
       "90841              60196.0       1.0        3034.0           3446.0   \n",
       "121532               762.0       1.0          65.0              5.0   \n",
       "135458             10368.0       1.0      614932.0           3866.0   \n",
       "12239                734.0      64.0         814.0            392.0   \n",
       "150433            138802.0    8548.0       10274.0            513.0   \n",
       "170550              3980.0    1338.0      184241.0            483.0   \n",
       "\n",
       "        RAISED_TAX_AMOUNT_USD  illicit  \n",
       "37963                    -0.0        0  \n",
       "135450                   -0.0        0  \n",
       "24408                    -0.0        0  \n",
       "167493                   -0.0        0  \n",
       "90841                     0.0        0  \n",
       "121532                   -0.0        0  \n",
       "135458                   -0.0        0  \n",
       "12239                    -0.0        0  \n",
       "150433                    0.0        0  \n",
       "170550                   -0.0        0  "
      ]
     },
     "execution_count": 5,
     "metadata": {},
     "output_type": "execute_result"
    }
   ],
   "source": [
    "# Preview of 50 sample lines of data\n",
    "df.sample(10)"
   ]
  },
  {
   "cell_type": "code",
   "execution_count": 6,
   "metadata": {},
   "outputs": [
    {
     "data": {
      "image/png": "[encoded data removed]",
      "text/plain": [
       "<Figure size 1440x720 with 5 Axes>"
      ]
     },
     "metadata": {
      "needs_background": "light"
     },
     "output_type": "display_data"
    }
   ],
   "source": [
    "# Visualize the distribution of numeric variables\n",
    "\n",
    "# Define numeric variables\n",
    "numeric_vars = ['CIF_USD_EQUIVALENT','TOTAL.TAXES.USD','QUANTITY','RAISED_TAX_AMOUNT_USD','GROSS.WEIGHT']\n",
    "\n",
    "# Set figure size\n",
    "plt.figure(figsize=(20,10))\n",
    "\n",
    "for i, var in enumerate(numeric_vars):\n",
    "    plt.subplot(3,2,i+1)\n",
    "    sns.distplot(df[var].apply(np.log1p), kde=False)"
   ]
  },
  {
   "cell_type": "code",
   "execution_count": 7,
   "metadata": {
    "scrolled": true
   },
   "outputs": [
    {
     "name": "stdout",
     "output_type": "stream",
     "text": [
      "ORIGIN.CODE n_classes 130\n",
      "year n_classes 2\n",
      "TARIFF.CODE n_classes 6333\n",
      "day n_classes 31\n",
      "month n_classes 12\n",
      "OFFICE n_classes 73\n",
      "illicit n_classes 2\n",
      "IMPORTER.TIN n_classes 15348\n"
     ]
    }
   ],
   "source": [
    "# Count classes of categorical variables\n",
    "categorical_vars = list(set(df.columns)-set(numeric_vars))\n",
    "\n",
    "for var in categorical_vars:\n",
    "    print(var,'n_classes',df[var].nunique())"
   ]
  }
 ],
 "metadata": {
  "kernelspec": {
   "display_name": "Python 3",
   "language": "python",
   "name": "python3"
  },
  "language_info": {
   "codemirror_mode": {
    "name": "ipython",
    "version": 3
   },
   "file_extension": ".py",
   "mimetype": "text/x-python",
   "name": "python",
   "nbconvert_exporter": "python",
   "pygments_lexer": "ipython3",
   "version": "3.8.5"
  },
  "toc": {
   "base_numbering": 1,
   "nav_menu": {},
   "number_sections": true,
   "sideBar": true,
   "skip_h1_title": false,
   "title_cell": "Table of Contents",
   "title_sidebar": "Contents",
   "toc_cell": false,
   "toc_position": {},
   "toc_section_display": true,
   "toc_window_display": false
  }
 },
 "nbformat": 4,
 "nbformat_minor": 4
}
