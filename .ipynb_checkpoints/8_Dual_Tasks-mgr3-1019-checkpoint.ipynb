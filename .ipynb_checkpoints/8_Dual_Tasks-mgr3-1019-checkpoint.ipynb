{
 "cells": [
  {
   "cell_type": "markdown",
   "metadata": {},
   "source": [
    "# Dual tasks (Detect fraud and estimate additional revenue from inspection) \n",
    "\n",
    "- Written by Yeon Soo Choi, Research Unit, World Customs Organization\n",
    "- Updated on 2020. 6. 30."
   ]
  },
  {
   "cell_type": "markdown",
   "metadata": {},
   "source": [
    "# Summary\n",
    "\n",
    "Deep learning (neural network) model is flexible, allowing multiple outputs. We will contruct a model which, for a given import, is tasked with;\n",
    "* 1) predicting the probability of the import being a fraud, \n",
    "* 2) estimating addtional revenue from inspecting the import.  \n",
    "\n",
    "From '7_Deep_Learning_with_Entity_Embedding' model, we will add only the three components;\n",
    "* 'RAISED_TAX_AMOUNT_USD' variable to train-data: addtional tax revenue after Customs inspection\n",
    "* another loss fuction for the second task (additional revenue prediction)\n",
    "* weight to combine the two losses (binary classification & value-prediction)"
   ]
  },
  {
   "cell_type": "markdown",
   "metadata": {},
   "source": [
    "## Outline\n",
    "\n",
    "[**1. Environmental setting and data loading**](#id1)  \n",
    "[**2. Data preprocessing**](#id2)  \n",
    "[**3. Construct the model**](#id3)  \n",
    "[**4. Train the model**](#id4)  \n",
    "[**5. Test the model (Predict frauds in test-data**](#id5)  \n",
    "[**6. Evaluate the model performance**](#id6)"
   ]
  },
  {
   "cell_type": "markdown",
   "metadata": {},
   "source": [
    "# 1. Environment setting and data cleaning <a id='id1'></a>"
   ]
  },
  {
   "cell_type": "code",
   "execution_count": 3,
   "metadata": {
    "ExecuteTime": {
     "end_time": "2021-03-11T17:36:35.706385Z",
     "start_time": "2021-03-11T17:36:35.702385Z"
    }
   },
   "outputs": [],
   "source": [
    "# Prepare environments\n",
    "import numpy as np\n",
    "import pandas as pd\n",
    "import matplotlib.pyplot as plt\n",
    "import tensorflow as tf\n",
    "import random\n",
    "pd.set_option('display.max_columns', 500)\n",
    "\n",
    "plt.style.use('fivethirtyeight')"
   ]
  },
  {
   "cell_type": "code",
   "execution_count": 9,
   "metadata": {
    "ExecuteTime": {
     "end_time": "2021-03-11T17:38:15.431312Z",
     "start_time": "2021-03-11T17:37:40.808127Z"
    }
   },
   "outputs": [],
   "source": [
    "# Import raw data\n",
    "#df = pd.read_csv(\"~/SyntheticDataGeneration_server/CTGAN/synthetic_data3.csv\", encoding=\"ISO-8859-1\")\n",
    "df_raw = pd.read_csv('../data/mgr3-1019.csv', low_memory=False)\n",
    "\n",
    "# only imports\n",
    "df_raw = df_raw[df_raw['destinacion_mercancia'] == 'IM']"
   ]
  },
  {
   "cell_type": "code",
   "execution_count": 27,
   "metadata": {
    "ExecuteTime": {
     "end_time": "2021-03-11T17:40:26.393415Z",
     "start_time": "2021-03-11T17:40:25.815369Z"
    }
   },
   "outputs": [],
   "source": [
    "df = df_raw.copy()"
   ]
  },
  {
   "cell_type": "code",
   "execution_count": 10,
   "metadata": {
    "ExecuteTime": {
     "end_time": "2021-03-11T17:38:16.806945Z",
     "start_time": "2021-03-11T17:38:16.802912Z"
    }
   },
   "outputs": [
    {
     "data": {
      "text/plain": [
       "Index(['identificador', 'anno', 'anno_mes_registro', 'aduana', 'numero_serial',\n",
       "       'numero_registro', 'numero_declaracion', 'ingreso_salida',\n",
       "       'destinacion_mercancia', 'patron_operacion', 'regimen',\n",
       "       'agente_aduanas', 'digitador', 'agencia_carga', 'puerto_embarque',\n",
       "       'pais_procedencia', 'contribuyente', 'almacen', 'deposito_fiscal',\n",
       "       'tipo_transporte', 'tipo_pago', 'codigo_banco', 'version_declaracion',\n",
       "       'oficial_aduanero', 'canal_selectividad', 'item', 'inciso_arancelario',\n",
       "       'inciso_arancelario_old', 'pais_origen_destino',\n",
       "       'pais_origen_destino_old', 'cuantia', 'unidad_medida',\n",
       "       'preferencia_arancelaria', 'identificacion_carga', 'proveedor',\n",
       "       'consolidadora', 'fecha_arribo', 'fecha_ingreso_almacen',\n",
       "       'fecha_registro_dua', 'fecha_pago', 'fecha_recepcion_fisica',\n",
       "       'fecha_asignacion_canal', 'fecha_autorizacion_salida', 'fecha_salida',\n",
       "       'cif', 'fob', 'flete', 'seguro', 'otros_valores', 'peso_bruto',\n",
       "       'peso_neto', 'dai_nominal', 'iva_nominal', 'alc_nominal',\n",
       "       'otros_tributo_nominal', 'dai_pagado', 'iva_pagado', 'alc_pagado',\n",
       "       'otros_tributo_pagado', 'cif_variacion', 'dai_variacion',\n",
       "       'iva_variacion', 'alc_variacion', 'otros_tributo_variacion',\n",
       "       'peso_bruto_variacion', 'cantidad_unidad_variacion', 'dm_precendente',\n",
       "       'indicador_valores', 'indicador_tributos', 'indicador_clasificacion',\n",
       "       'indicador_origen', 'indicador_cantidad', 'indicador_peso',\n",
       "       'indicador_incidencia', 'modalidad_pago', 'sub_regimen',\n",
       "       'variacion_administrativa', 'variacion_tributaria',\n",
       "       'estado_declaracion', 'actividad_economica', 'manifiesto_carga',\n",
       "       'codigo_proveedor', 'impuesto_total', 'illicit', 'revenue', 'mes'],\n",
       "      dtype='object')"
      ]
     },
     "execution_count": 10,
     "metadata": {},
     "output_type": "execute_result"
    }
   ],
   "source": [
    "# Check columns\n",
    "df.columns"
   ]
  },
  {
   "cell_type": "code",
   "execution_count": 4,
   "metadata": {},
   "outputs": [],
   "source": [
    "# Delete 'Unnamed: 0' column\n",
    "#del df['Unnamed: 0']"
   ]
  },
  {
   "cell_type": "code",
   "execution_count": 11,
   "metadata": {
    "ExecuteTime": {
     "end_time": "2021-03-11T17:38:22.797068Z",
     "start_time": "2021-03-11T17:38:22.576073Z"
    }
   },
   "outputs": [
    {
     "data": {
      "text/html": [
       "<div>\n",
       "<style scoped>\n",
       "    .dataframe tbody tr th:only-of-type {\n",
       "        vertical-align: middle;\n",
       "    }\n",
       "\n",
       "    .dataframe tbody tr th {\n",
       "        vertical-align: top;\n",
       "    }\n",
       "\n",
       "    .dataframe thead th {\n",
       "        text-align: right;\n",
       "    }\n",
       "</style>\n",
       "<table border=\"1\" class=\"dataframe\">\n",
       "  <thead>\n",
       "    <tr style=\"text-align: right;\">\n",
       "      <th></th>\n",
       "      <th>identificador</th>\n",
       "      <th>anno</th>\n",
       "      <th>anno_mes_registro</th>\n",
       "      <th>aduana</th>\n",
       "      <th>numero_serial</th>\n",
       "      <th>numero_registro</th>\n",
       "      <th>numero_declaracion</th>\n",
       "      <th>ingreso_salida</th>\n",
       "      <th>destinacion_mercancia</th>\n",
       "      <th>patron_operacion</th>\n",
       "      <th>regimen</th>\n",
       "      <th>agente_aduanas</th>\n",
       "      <th>digitador</th>\n",
       "      <th>agencia_carga</th>\n",
       "      <th>puerto_embarque</th>\n",
       "      <th>pais_procedencia</th>\n",
       "      <th>contribuyente</th>\n",
       "      <th>almacen</th>\n",
       "      <th>deposito_fiscal</th>\n",
       "      <th>tipo_transporte</th>\n",
       "      <th>tipo_pago</th>\n",
       "      <th>codigo_banco</th>\n",
       "      <th>version_declaracion</th>\n",
       "      <th>oficial_aduanero</th>\n",
       "      <th>canal_selectividad</th>\n",
       "      <th>item</th>\n",
       "      <th>inciso_arancelario</th>\n",
       "      <th>inciso_arancelario_old</th>\n",
       "      <th>pais_origen_destino</th>\n",
       "      <th>pais_origen_destino_old</th>\n",
       "      <th>cuantia</th>\n",
       "      <th>unidad_medida</th>\n",
       "      <th>preferencia_arancelaria</th>\n",
       "      <th>identificacion_carga</th>\n",
       "      <th>proveedor</th>\n",
       "      <th>consolidadora</th>\n",
       "      <th>fecha_arribo</th>\n",
       "      <th>fecha_ingreso_almacen</th>\n",
       "      <th>fecha_registro_dua</th>\n",
       "      <th>fecha_pago</th>\n",
       "      <th>fecha_recepcion_fisica</th>\n",
       "      <th>fecha_asignacion_canal</th>\n",
       "      <th>fecha_autorizacion_salida</th>\n",
       "      <th>fecha_salida</th>\n",
       "      <th>cif</th>\n",
       "      <th>fob</th>\n",
       "      <th>flete</th>\n",
       "      <th>seguro</th>\n",
       "      <th>otros_valores</th>\n",
       "      <th>peso_bruto</th>\n",
       "      <th>peso_neto</th>\n",
       "      <th>dai_nominal</th>\n",
       "      <th>iva_nominal</th>\n",
       "      <th>alc_nominal</th>\n",
       "      <th>otros_tributo_nominal</th>\n",
       "      <th>dai_pagado</th>\n",
       "      <th>iva_pagado</th>\n",
       "      <th>alc_pagado</th>\n",
       "      <th>otros_tributo_pagado</th>\n",
       "      <th>cif_variacion</th>\n",
       "      <th>dai_variacion</th>\n",
       "      <th>iva_variacion</th>\n",
       "      <th>alc_variacion</th>\n",
       "      <th>otros_tributo_variacion</th>\n",
       "      <th>peso_bruto_variacion</th>\n",
       "      <th>cantidad_unidad_variacion</th>\n",
       "      <th>dm_precendente</th>\n",
       "      <th>indicador_valores</th>\n",
       "      <th>indicador_tributos</th>\n",
       "      <th>indicador_clasificacion</th>\n",
       "      <th>indicador_origen</th>\n",
       "      <th>indicador_cantidad</th>\n",
       "      <th>indicador_peso</th>\n",
       "      <th>indicador_incidencia</th>\n",
       "      <th>modalidad_pago</th>\n",
       "      <th>sub_regimen</th>\n",
       "      <th>variacion_administrativa</th>\n",
       "      <th>variacion_tributaria</th>\n",
       "      <th>estado_declaracion</th>\n",
       "      <th>actividad_economica</th>\n",
       "      <th>manifiesto_carga</th>\n",
       "      <th>codigo_proveedor</th>\n",
       "      <th>impuesto_total</th>\n",
       "      <th>illicit</th>\n",
       "      <th>revenue</th>\n",
       "      <th>mes</th>\n",
       "    </tr>\n",
       "  </thead>\n",
       "  <tbody>\n",
       "    <tr>\n",
       "      <th>447325</th>\n",
       "      <td>20770198</td>\n",
       "      <td>2011</td>\n",
       "      <td>201107</td>\n",
       "      <td>21</td>\n",
       "      <td>5</td>\n",
       "      <td>8919</td>\n",
       "      <td>83162257</td>\n",
       "      <td>1</td>\n",
       "      <td>IM</td>\n",
       "      <td>5</td>\n",
       "      <td>5400</td>\n",
       "      <td>TE316</td>\n",
       "      <td>ATE316</td>\n",
       "      <td>N/D</td>\n",
       "      <td>N/D</td>\n",
       "      <td>HN</td>\n",
       "      <td>06142303001035</td>\n",
       "      <td>2101</td>\n",
       "      <td>NaN</td>\n",
       "      <td>1.0</td>\n",
       "      <td>98.0</td>\n",
       "      <td>0.0</td>\n",
       "      <td>0</td>\n",
       "      <td>5193</td>\n",
       "      <td>3</td>\n",
       "      <td>7</td>\n",
       "      <td>48114119000</td>\n",
       "      <td>48114119000</td>\n",
       "      <td>TW</td>\n",
       "      <td>TW</td>\n",
       "      <td>4.0</td>\n",
       "      <td>PK</td>\n",
       "      <td>NaN</td>\n",
       "      <td>NaN</td>\n",
       "      <td>MORRISETTE-WAYNE DE CENTRO AMERICA</td>\n",
       "      <td>N/D</td>\n",
       "      <td>NaN</td>\n",
       "      <td>NaN</td>\n",
       "      <td>2011-07-09 09:09:25</td>\n",
       "      <td>NaN</td>\n",
       "      <td>2011-07-11 10:17:58</td>\n",
       "      <td>2011-07-11 10:17:58</td>\n",
       "      <td>2011-07-11 18:27:17</td>\n",
       "      <td>NaN</td>\n",
       "      <td>0.00</td>\n",
       "      <td>11.00</td>\n",
       "      <td>0.00</td>\n",
       "      <td>0.00</td>\n",
       "      <td>0.00</td>\n",
       "      <td>27.27</td>\n",
       "      <td>27.27</td>\n",
       "      <td>1.10</td>\n",
       "      <td>1.43</td>\n",
       "      <td>0.0</td>\n",
       "      <td>0.0</td>\n",
       "      <td>0.00</td>\n",
       "      <td>0.00</td>\n",
       "      <td>0.0</td>\n",
       "      <td>0.0</td>\n",
       "      <td>0</td>\n",
       "      <td>0.0</td>\n",
       "      <td>0.0</td>\n",
       "      <td>0</td>\n",
       "      <td>0.0</td>\n",
       "      <td>0.0</td>\n",
       "      <td>0.0</td>\n",
       "      <td>NaN</td>\n",
       "      <td>0</td>\n",
       "      <td>0</td>\n",
       "      <td>0</td>\n",
       "      <td>0</td>\n",
       "      <td>0</td>\n",
       "      <td>0</td>\n",
       "      <td>0</td>\n",
       "      <td>3</td>\n",
       "      <td>0</td>\n",
       "      <td>0.0</td>\n",
       "      <td>0.0</td>\n",
       "      <td>3.0</td>\n",
       "      <td>080201</td>\n",
       "      <td>NaN</td>\n",
       "      <td>PRV000084</td>\n",
       "      <td>0.00</td>\n",
       "      <td>0</td>\n",
       "      <td>0.0</td>\n",
       "      <td>7</td>\n",
       "    </tr>\n",
       "    <tr>\n",
       "      <th>1818717</th>\n",
       "      <td>5057623555</td>\n",
       "      <td>2018</td>\n",
       "      <td>201806</td>\n",
       "      <td>7</td>\n",
       "      <td>4</td>\n",
       "      <td>2764</td>\n",
       "      <td>16611026</td>\n",
       "      <td>1</td>\n",
       "      <td>IM</td>\n",
       "      <td>4</td>\n",
       "      <td>4000</td>\n",
       "      <td>166</td>\n",
       "      <td>A166</td>\n",
       "      <td>N/D</td>\n",
       "      <td>N/D</td>\n",
       "      <td>GT</td>\n",
       "      <td>06141011780023</td>\n",
       "      <td>0701</td>\n",
       "      <td>NaN</td>\n",
       "      <td>1.0</td>\n",
       "      <td>9890.0</td>\n",
       "      <td>12.0</td>\n",
       "      <td>0</td>\n",
       "      <td>3008</td>\n",
       "      <td>3</td>\n",
       "      <td>26</td>\n",
       "      <td>61083100000</td>\n",
       "      <td>61083100000</td>\n",
       "      <td>MX</td>\n",
       "      <td>MX</td>\n",
       "      <td>1.0</td>\n",
       "      <td>PK</td>\n",
       "      <td>NaN</td>\n",
       "      <td>NaN</td>\n",
       "      <td>PRODUCTOS AVON DE GUATEMALA, S.A.</td>\n",
       "      <td>N/D</td>\n",
       "      <td>NaN</td>\n",
       "      <td>NaN</td>\n",
       "      <td>2018-06-29 14:27:30</td>\n",
       "      <td>NaN</td>\n",
       "      <td>2018-07-03 08:11:47</td>\n",
       "      <td>2018-07-03 08:11:47</td>\n",
       "      <td>2018-07-03 20:17:57</td>\n",
       "      <td>NaN</td>\n",
       "      <td>39.22</td>\n",
       "      <td>36.26</td>\n",
       "      <td>0.54</td>\n",
       "      <td>0.03</td>\n",
       "      <td>2.39</td>\n",
       "      <td>4.00</td>\n",
       "      <td>4.00</td>\n",
       "      <td>5.88</td>\n",
       "      <td>5.86</td>\n",
       "      <td>0.0</td>\n",
       "      <td>0.0</td>\n",
       "      <td>5.88</td>\n",
       "      <td>5.86</td>\n",
       "      <td>0.0</td>\n",
       "      <td>0.0</td>\n",
       "      <td>0</td>\n",
       "      <td>0.0</td>\n",
       "      <td>0.0</td>\n",
       "      <td>0</td>\n",
       "      <td>0.0</td>\n",
       "      <td>0.0</td>\n",
       "      <td>0.0</td>\n",
       "      <td>NaN</td>\n",
       "      <td>0</td>\n",
       "      <td>0</td>\n",
       "      <td>0</td>\n",
       "      <td>0</td>\n",
       "      <td>0</td>\n",
       "      <td>0</td>\n",
       "      <td>0</td>\n",
       "      <td>4</td>\n",
       "      <td>0</td>\n",
       "      <td>0.0</td>\n",
       "      <td>0.0</td>\n",
       "      <td>3.0</td>\n",
       "      <td>060125</td>\n",
       "      <td>NaN</td>\n",
       "      <td>NaN</td>\n",
       "      <td>11.74</td>\n",
       "      <td>0</td>\n",
       "      <td>0.0</td>\n",
       "      <td>6</td>\n",
       "    </tr>\n",
       "    <tr>\n",
       "      <th>1186726</th>\n",
       "      <td>2515699879</td>\n",
       "      <td>2015</td>\n",
       "      <td>201512</td>\n",
       "      <td>1</td>\n",
       "      <td>4</td>\n",
       "      <td>78218</td>\n",
       "      <td>9155588293</td>\n",
       "      <td>1</td>\n",
       "      <td>IM</td>\n",
       "      <td>4</td>\n",
       "      <td>4000</td>\n",
       "      <td>GT</td>\n",
       "      <td>ABATCH</td>\n",
       "      <td>N/D</td>\n",
       "      <td>N/D</td>\n",
       "      <td>GT</td>\n",
       "      <td>94830303701010</td>\n",
       "      <td>150.0</td>\n",
       "      <td>NaN</td>\n",
       "      <td>1.0</td>\n",
       "      <td>95.0</td>\n",
       "      <td>99.0</td>\n",
       "      <td>1</td>\n",
       "      <td>5581</td>\n",
       "      <td>3</td>\n",
       "      <td>4</td>\n",
       "      <td>7051100000</td>\n",
       "      <td>7051100000</td>\n",
       "      <td>GT</td>\n",
       "      <td>GT</td>\n",
       "      <td>175.0</td>\n",
       "      <td>BX</td>\n",
       "      <td>NaN</td>\n",
       "      <td>NaN</td>\n",
       "      <td>17517761</td>\n",
       "      <td>N/D</td>\n",
       "      <td>NaN</td>\n",
       "      <td>NaN</td>\n",
       "      <td>2015-12-09 08:51:03</td>\n",
       "      <td>NaN</td>\n",
       "      <td>2015-12-09 17:24:20</td>\n",
       "      <td>2015-12-09 17:24:20</td>\n",
       "      <td>2015-12-09 21:40:07</td>\n",
       "      <td>NaN</td>\n",
       "      <td>196.40</td>\n",
       "      <td>150.00</td>\n",
       "      <td>43.98</td>\n",
       "      <td>2.42</td>\n",
       "      <td>0.00</td>\n",
       "      <td>3402.00</td>\n",
       "      <td>3402.00</td>\n",
       "      <td>29.46</td>\n",
       "      <td>25.53</td>\n",
       "      <td>0.0</td>\n",
       "      <td>0.0</td>\n",
       "      <td>0.00</td>\n",
       "      <td>25.53</td>\n",
       "      <td>0.0</td>\n",
       "      <td>0.0</td>\n",
       "      <td>0</td>\n",
       "      <td>0.0</td>\n",
       "      <td>0.0</td>\n",
       "      <td>0</td>\n",
       "      <td>0.0</td>\n",
       "      <td>0.0</td>\n",
       "      <td>0.0</td>\n",
       "      <td>NaN</td>\n",
       "      <td>0</td>\n",
       "      <td>0</td>\n",
       "      <td>0</td>\n",
       "      <td>0</td>\n",
       "      <td>0</td>\n",
       "      <td>0</td>\n",
       "      <td>0</td>\n",
       "      <td>4</td>\n",
       "      <td>5</td>\n",
       "      <td>0.0</td>\n",
       "      <td>0.0</td>\n",
       "      <td>3.0</td>\n",
       "      <td>060102</td>\n",
       "      <td>NaN</td>\n",
       "      <td>NaN</td>\n",
       "      <td>25.53</td>\n",
       "      <td>0</td>\n",
       "      <td>0.0</td>\n",
       "      <td>12</td>\n",
       "    </tr>\n",
       "    <tr>\n",
       "      <th>425386</th>\n",
       "      <td>20776512</td>\n",
       "      <td>2011</td>\n",
       "      <td>201107</td>\n",
       "      <td>9</td>\n",
       "      <td>6</td>\n",
       "      <td>153</td>\n",
       "      <td>1444196</td>\n",
       "      <td>1</td>\n",
       "      <td>IM</td>\n",
       "      <td>6</td>\n",
       "      <td>6022</td>\n",
       "      <td>144</td>\n",
       "      <td>A144</td>\n",
       "      <td>N/D</td>\n",
       "      <td>N/D</td>\n",
       "      <td>NI</td>\n",
       "      <td>06140902840024</td>\n",
       "      <td>0901</td>\n",
       "      <td>NaN</td>\n",
       "      <td>1.0</td>\n",
       "      <td>98.0</td>\n",
       "      <td>0.0</td>\n",
       "      <td>1</td>\n",
       "      <td>246</td>\n",
       "      <td>3</td>\n",
       "      <td>1</td>\n",
       "      <td>39231000000</td>\n",
       "      <td>39231000000</td>\n",
       "      <td>GT</td>\n",
       "      <td>GT</td>\n",
       "      <td>422.0</td>\n",
       "      <td>BT</td>\n",
       "      <td>NaN</td>\n",
       "      <td>NaN</td>\n",
       "      <td>NILAC,S.A.</td>\n",
       "      <td>N/D</td>\n",
       "      <td>NaN</td>\n",
       "      <td>NaN</td>\n",
       "      <td>2011-07-11 10:21:53</td>\n",
       "      <td>NaN</td>\n",
       "      <td>2011-07-11 14:03:32</td>\n",
       "      <td>2011-07-11 14:03:32</td>\n",
       "      <td>2011-07-11 17:34:32</td>\n",
       "      <td>NaN</td>\n",
       "      <td>989.55</td>\n",
       "      <td>844.00</td>\n",
       "      <td>135.00</td>\n",
       "      <td>10.55</td>\n",
       "      <td>0.00</td>\n",
       "      <td>717.40</td>\n",
       "      <td>717.40</td>\n",
       "      <td>0.00</td>\n",
       "      <td>0.00</td>\n",
       "      <td>0.0</td>\n",
       "      <td>0.0</td>\n",
       "      <td>0.00</td>\n",
       "      <td>0.00</td>\n",
       "      <td>0.0</td>\n",
       "      <td>0.0</td>\n",
       "      <td>0</td>\n",
       "      <td>0.0</td>\n",
       "      <td>0.0</td>\n",
       "      <td>0</td>\n",
       "      <td>0.0</td>\n",
       "      <td>0.0</td>\n",
       "      <td>0.0</td>\n",
       "      <td>2011&amp;09&amp;2&amp;25109&amp;20110708</td>\n",
       "      <td>0</td>\n",
       "      <td>0</td>\n",
       "      <td>0</td>\n",
       "      <td>0</td>\n",
       "      <td>0</td>\n",
       "      <td>0</td>\n",
       "      <td>0</td>\n",
       "      <td>3</td>\n",
       "      <td>0</td>\n",
       "      <td>0.0</td>\n",
       "      <td>0.0</td>\n",
       "      <td>3.0</td>\n",
       "      <td>030105</td>\n",
       "      <td>NaN</td>\n",
       "      <td>PRV002003</td>\n",
       "      <td>0.00</td>\n",
       "      <td>0</td>\n",
       "      <td>0.0</td>\n",
       "      <td>7</td>\n",
       "    </tr>\n",
       "    <tr>\n",
       "      <th>378591</th>\n",
       "      <td>19666034</td>\n",
       "      <td>2011</td>\n",
       "      <td>201101</td>\n",
       "      <td>6</td>\n",
       "      <td>4</td>\n",
       "      <td>3941</td>\n",
       "      <td>010974033</td>\n",
       "      <td>1</td>\n",
       "      <td>IM</td>\n",
       "      <td>4</td>\n",
       "      <td>4000</td>\n",
       "      <td>0109</td>\n",
       "      <td>A0109-D1</td>\n",
       "      <td>N/D</td>\n",
       "      <td>N/D</td>\n",
       "      <td>GT</td>\n",
       "      <td>06141011780023</td>\n",
       "      <td>0602</td>\n",
       "      <td>NaN</td>\n",
       "      <td>1.0</td>\n",
       "      <td>9899.0</td>\n",
       "      <td>9.0</td>\n",
       "      <td>1</td>\n",
       "      <td>5224</td>\n",
       "      <td>3</td>\n",
       "      <td>6</td>\n",
       "      <td>95030060000</td>\n",
       "      <td>95030060000</td>\n",
       "      <td>GT</td>\n",
       "      <td>GT</td>\n",
       "      <td>945.0</td>\n",
       "      <td>PK</td>\n",
       "      <td>NaN</td>\n",
       "      <td>NaN</td>\n",
       "      <td>PRODUCTOS AVON DE GUATEMALA, S.A.</td>\n",
       "      <td>N/D</td>\n",
       "      <td>NaN</td>\n",
       "      <td>NaN</td>\n",
       "      <td>2011-01-27 16:02:37</td>\n",
       "      <td>2011-01-27 00:00:00</td>\n",
       "      <td>2011-01-29 09:01:21</td>\n",
       "      <td>2011-01-29 09:01:21</td>\n",
       "      <td>2011-01-31 14:57:28</td>\n",
       "      <td>NaN</td>\n",
       "      <td>346.62</td>\n",
       "      <td>321.96</td>\n",
       "      <td>3.51</td>\n",
       "      <td>0.32</td>\n",
       "      <td>20.83</td>\n",
       "      <td>3.01</td>\n",
       "      <td>3.01</td>\n",
       "      <td>51.99</td>\n",
       "      <td>45.06</td>\n",
       "      <td>0.0</td>\n",
       "      <td>0.0</td>\n",
       "      <td>0.00</td>\n",
       "      <td>45.06</td>\n",
       "      <td>0.0</td>\n",
       "      <td>0.0</td>\n",
       "      <td>0</td>\n",
       "      <td>0.0</td>\n",
       "      <td>0.0</td>\n",
       "      <td>0</td>\n",
       "      <td>0.0</td>\n",
       "      <td>0.0</td>\n",
       "      <td>0.0</td>\n",
       "      <td>NaN</td>\n",
       "      <td>0</td>\n",
       "      <td>0</td>\n",
       "      <td>0</td>\n",
       "      <td>0</td>\n",
       "      <td>0</td>\n",
       "      <td>0</td>\n",
       "      <td>0</td>\n",
       "      <td>3</td>\n",
       "      <td>5</td>\n",
       "      <td>0.0</td>\n",
       "      <td>0.0</td>\n",
       "      <td>3.0</td>\n",
       "      <td>060125</td>\n",
       "      <td>NaN</td>\n",
       "      <td>PRV000602</td>\n",
       "      <td>45.06</td>\n",
       "      <td>0</td>\n",
       "      <td>0.0</td>\n",
       "      <td>1</td>\n",
       "    </tr>\n",
       "  </tbody>\n",
       "</table>\n",
       "</div>"
      ],
      "text/plain": [
       "         identificador  anno  anno_mes_registro  aduana  numero_serial  \\\n",
       "447325        20770198  2011             201107      21              5   \n",
       "1818717     5057623555  2018             201806       7              4   \n",
       "1186726     2515699879  2015             201512       1              4   \n",
       "425386        20776512  2011             201107       9              6   \n",
       "378591        19666034  2011             201101       6              4   \n",
       "\n",
       "         numero_registro numero_declaracion  ingreso_salida  \\\n",
       "447325              8919           83162257               1   \n",
       "1818717             2764           16611026               1   \n",
       "1186726            78218         9155588293               1   \n",
       "425386               153            1444196               1   \n",
       "378591              3941          010974033               1   \n",
       "\n",
       "        destinacion_mercancia  patron_operacion  regimen agente_aduanas  \\\n",
       "447325                     IM                 5     5400          TE316   \n",
       "1818717                    IM                 4     4000            166   \n",
       "1186726                    IM                 4     4000             GT   \n",
       "425386                     IM                 6     6022            144   \n",
       "378591                     IM                 4     4000           0109   \n",
       "\n",
       "        digitador agencia_carga puerto_embarque pais_procedencia  \\\n",
       "447325     ATE316           N/D             N/D               HN   \n",
       "1818717      A166           N/D             N/D               GT   \n",
       "1186726    ABATCH           N/D             N/D               GT   \n",
       "425386       A144           N/D             N/D               NI   \n",
       "378591   A0109-D1           N/D             N/D               GT   \n",
       "\n",
       "          contribuyente almacen  deposito_fiscal  tipo_transporte  tipo_pago  \\\n",
       "447325   06142303001035    2101              NaN              1.0       98.0   \n",
       "1818717  06141011780023    0701              NaN              1.0     9890.0   \n",
       "1186726  94830303701010   150.0              NaN              1.0       95.0   \n",
       "425386   06140902840024    0901              NaN              1.0       98.0   \n",
       "378591   06141011780023    0602              NaN              1.0     9899.0   \n",
       "\n",
       "         codigo_banco  version_declaracion oficial_aduanero  \\\n",
       "447325            0.0                    0             5193   \n",
       "1818717          12.0                    0             3008   \n",
       "1186726          99.0                    1             5581   \n",
       "425386            0.0                    1              246   \n",
       "378591            9.0                    1             5224   \n",
       "\n",
       "         canal_selectividad  item  inciso_arancelario  inciso_arancelario_old  \\\n",
       "447325                    3     7         48114119000             48114119000   \n",
       "1818717                   3    26         61083100000             61083100000   \n",
       "1186726                   3     4          7051100000              7051100000   \n",
       "425386                    3     1         39231000000             39231000000   \n",
       "378591                    3     6         95030060000             95030060000   \n",
       "\n",
       "        pais_origen_destino pais_origen_destino_old  cuantia unidad_medida  \\\n",
       "447325                   TW                      TW      4.0            PK   \n",
       "1818717                  MX                      MX      1.0            PK   \n",
       "1186726                  GT                      GT    175.0            BX   \n",
       "425386                   GT                      GT    422.0            BT   \n",
       "378591                   GT                      GT    945.0            PK   \n",
       "\n",
       "        preferencia_arancelaria identificacion_carga  \\\n",
       "447325                      NaN                  NaN   \n",
       "1818717                     NaN                  NaN   \n",
       "1186726                     NaN                  NaN   \n",
       "425386                      NaN                  NaN   \n",
       "378591                      NaN                  NaN   \n",
       "\n",
       "                                  proveedor consolidadora fecha_arribo  \\\n",
       "447325   MORRISETTE-WAYNE DE CENTRO AMERICA           N/D          NaN   \n",
       "1818717   PRODUCTOS AVON DE GUATEMALA, S.A.           N/D          NaN   \n",
       "1186726                            17517761           N/D          NaN   \n",
       "425386                           NILAC,S.A.           N/D          NaN   \n",
       "378591    PRODUCTOS AVON DE GUATEMALA, S.A.           N/D          NaN   \n",
       "\n",
       "         fecha_ingreso_almacen   fecha_registro_dua           fecha_pago  \\\n",
       "447325                     NaN  2011-07-09 09:09:25                  NaN   \n",
       "1818717                    NaN  2018-06-29 14:27:30                  NaN   \n",
       "1186726                    NaN  2015-12-09 08:51:03                  NaN   \n",
       "425386                     NaN  2011-07-11 10:21:53                  NaN   \n",
       "378591                     NaN  2011-01-27 16:02:37  2011-01-27 00:00:00   \n",
       "\n",
       "        fecha_recepcion_fisica fecha_asignacion_canal  \\\n",
       "447325     2011-07-11 10:17:58    2011-07-11 10:17:58   \n",
       "1818717    2018-07-03 08:11:47    2018-07-03 08:11:47   \n",
       "1186726    2015-12-09 17:24:20    2015-12-09 17:24:20   \n",
       "425386     2011-07-11 14:03:32    2011-07-11 14:03:32   \n",
       "378591     2011-01-29 09:01:21    2011-01-29 09:01:21   \n",
       "\n",
       "        fecha_autorizacion_salida fecha_salida     cif     fob   flete  \\\n",
       "447325        2011-07-11 18:27:17          NaN    0.00   11.00    0.00   \n",
       "1818717       2018-07-03 20:17:57          NaN   39.22   36.26    0.54   \n",
       "1186726       2015-12-09 21:40:07          NaN  196.40  150.00   43.98   \n",
       "425386        2011-07-11 17:34:32          NaN  989.55  844.00  135.00   \n",
       "378591        2011-01-31 14:57:28          NaN  346.62  321.96    3.51   \n",
       "\n",
       "         seguro  otros_valores  peso_bruto  peso_neto  dai_nominal  \\\n",
       "447325     0.00           0.00       27.27      27.27         1.10   \n",
       "1818717    0.03           2.39        4.00       4.00         5.88   \n",
       "1186726    2.42           0.00     3402.00    3402.00        29.46   \n",
       "425386    10.55           0.00      717.40     717.40         0.00   \n",
       "378591     0.32          20.83        3.01       3.01        51.99   \n",
       "\n",
       "         iva_nominal  alc_nominal  otros_tributo_nominal  dai_pagado  \\\n",
       "447325          1.43          0.0                    0.0        0.00   \n",
       "1818717         5.86          0.0                    0.0        5.88   \n",
       "1186726        25.53          0.0                    0.0        0.00   \n",
       "425386          0.00          0.0                    0.0        0.00   \n",
       "378591         45.06          0.0                    0.0        0.00   \n",
       "\n",
       "         iva_pagado  alc_pagado  otros_tributo_pagado  cif_variacion  \\\n",
       "447325         0.00         0.0                   0.0              0   \n",
       "1818717        5.86         0.0                   0.0              0   \n",
       "1186726       25.53         0.0                   0.0              0   \n",
       "425386         0.00         0.0                   0.0              0   \n",
       "378591        45.06         0.0                   0.0              0   \n",
       "\n",
       "         dai_variacion  iva_variacion  alc_variacion  otros_tributo_variacion  \\\n",
       "447325             0.0            0.0              0                      0.0   \n",
       "1818717            0.0            0.0              0                      0.0   \n",
       "1186726            0.0            0.0              0                      0.0   \n",
       "425386             0.0            0.0              0                      0.0   \n",
       "378591             0.0            0.0              0                      0.0   \n",
       "\n",
       "         peso_bruto_variacion  cantidad_unidad_variacion  \\\n",
       "447325                    0.0                        0.0   \n",
       "1818717                   0.0                        0.0   \n",
       "1186726                   0.0                        0.0   \n",
       "425386                    0.0                        0.0   \n",
       "378591                    0.0                        0.0   \n",
       "\n",
       "                   dm_precendente  indicador_valores  indicador_tributos  \\\n",
       "447325                        NaN                  0                   0   \n",
       "1818717                       NaN                  0                   0   \n",
       "1186726                       NaN                  0                   0   \n",
       "425386   2011&09&2&25109&20110708                  0                   0   \n",
       "378591                        NaN                  0                   0   \n",
       "\n",
       "         indicador_clasificacion  indicador_origen  indicador_cantidad  \\\n",
       "447325                         0                 0                   0   \n",
       "1818717                        0                 0                   0   \n",
       "1186726                        0                 0                   0   \n",
       "425386                         0                 0                   0   \n",
       "378591                         0                 0                   0   \n",
       "\n",
       "         indicador_peso  indicador_incidencia  modalidad_pago  sub_regimen  \\\n",
       "447325                0                     0               3            0   \n",
       "1818717               0                     0               4            0   \n",
       "1186726               0                     0               4            5   \n",
       "425386                0                     0               3            0   \n",
       "378591                0                     0               3            5   \n",
       "\n",
       "         variacion_administrativa  variacion_tributaria  estado_declaracion  \\\n",
       "447325                        0.0                   0.0                 3.0   \n",
       "1818717                       0.0                   0.0                 3.0   \n",
       "1186726                       0.0                   0.0                 3.0   \n",
       "425386                        0.0                   0.0                 3.0   \n",
       "378591                        0.0                   0.0                 3.0   \n",
       "\n",
       "        actividad_economica manifiesto_carga codigo_proveedor  impuesto_total  \\\n",
       "447325               080201              NaN        PRV000084            0.00   \n",
       "1818717              060125              NaN              NaN           11.74   \n",
       "1186726              060102              NaN              NaN           25.53   \n",
       "425386               030105              NaN        PRV002003            0.00   \n",
       "378591               060125              NaN        PRV000602           45.06   \n",
       "\n",
       "         illicit  revenue  mes  \n",
       "447325         0      0.0    7  \n",
       "1818717        0      0.0    6  \n",
       "1186726        0      0.0   12  \n",
       "425386         0      0.0    7  \n",
       "378591         0      0.0    1  "
      ]
     },
     "execution_count": 11,
     "metadata": {},
     "output_type": "execute_result"
    }
   ],
   "source": [
    "# Get 5 samples of df\n",
    "df.sample(5)"
   ]
  },
  {
   "cell_type": "code",
   "execution_count": 12,
   "metadata": {
    "ExecuteTime": {
     "end_time": "2021-03-11T17:38:26.793298Z",
     "start_time": "2021-03-11T17:38:24.961850Z"
    }
   },
   "outputs": [
    {
     "name": "stdout",
     "output_type": "stream",
     "text": [
      "<class 'pandas.core.frame.DataFrame'>\n",
      "Int64Index: 1585557 entries, 7 to 2043248\n",
      "Data columns (total 86 columns):\n",
      " #   Column                     Non-Null Count    Dtype  \n",
      "---  ------                     --------------    -----  \n",
      " 0   identificador              1585557 non-null  int64  \n",
      " 1   anno                       1585557 non-null  int64  \n",
      " 2   anno_mes_registro          1585557 non-null  int64  \n",
      " 3   aduana                     1585557 non-null  int64  \n",
      " 4   numero_serial              1585557 non-null  int64  \n",
      " 5   numero_registro            1585557 non-null  int64  \n",
      " 6   numero_declaracion         1585557 non-null  object \n",
      " 7   ingreso_salida             1585557 non-null  int64  \n",
      " 8   destinacion_mercancia      1585557 non-null  object \n",
      " 9   patron_operacion           1585557 non-null  int64  \n",
      " 10  regimen                    1585557 non-null  int64  \n",
      " 11  agente_aduanas             1585557 non-null  object \n",
      " 12  digitador                  1585557 non-null  object \n",
      " 13  agencia_carga              1585557 non-null  object \n",
      " 14  puerto_embarque            1585557 non-null  object \n",
      " 15  pais_procedencia           1585552 non-null  object \n",
      " 16  contribuyente              1585557 non-null  object \n",
      " 17  almacen                    1585557 non-null  object \n",
      " 18  deposito_fiscal            4690 non-null     float64\n",
      " 19  tipo_transporte            1585557 non-null  float64\n",
      " 20  tipo_pago                  1522630 non-null  float64\n",
      " 21  codigo_banco               1585557 non-null  float64\n",
      " 22  version_declaracion        1585557 non-null  int64  \n",
      " 23  oficial_aduanero           1585557 non-null  object \n",
      " 24  canal_selectividad         1585557 non-null  int64  \n",
      " 25  item                       1585557 non-null  int64  \n",
      " 26  inciso_arancelario         1585557 non-null  int64  \n",
      " 27  inciso_arancelario_old     1585557 non-null  int64  \n",
      " 28  pais_origen_destino        1585551 non-null  object \n",
      " 29  pais_origen_destino_old    1585551 non-null  object \n",
      " 30  cuantia                    1585557 non-null  float64\n",
      " 31  unidad_medida              1585557 non-null  object \n",
      " 32  preferencia_arancelaria    115280 non-null   object \n",
      " 33  identificacion_carga       238198 non-null   object \n",
      " 34  proveedor                  1585447 non-null  object \n",
      " 35  consolidadora              1585557 non-null  object \n",
      " 36  fecha_arribo               184089 non-null   object \n",
      " 37  fecha_ingreso_almacen      0 non-null        float64\n",
      " 38  fecha_registro_dua         1585515 non-null  object \n",
      " 39  fecha_pago                 840293 non-null   object \n",
      " 40  fecha_recepcion_fisica     1585557 non-null  object \n",
      " 41  fecha_asignacion_canal     1585557 non-null  object \n",
      " 42  fecha_autorizacion_salida  1574087 non-null  object \n",
      " 43  fecha_salida               278960 non-null   object \n",
      " 44  cif                        1585557 non-null  float64\n",
      " 45  fob                        1585557 non-null  float64\n",
      " 46  flete                      1585557 non-null  float64\n",
      " 47  seguro                     1585557 non-null  float64\n",
      " 48  otros_valores              1585557 non-null  float64\n",
      " 49  peso_bruto                 1585557 non-null  float64\n",
      " 50  peso_neto                  1585557 non-null  float64\n",
      " 51  dai_nominal                1585557 non-null  float64\n",
      " 52  iva_nominal                1585557 non-null  float64\n",
      " 53  alc_nominal                1585557 non-null  float64\n",
      " 54  otros_tributo_nominal      1585557 non-null  float64\n",
      " 55  dai_pagado                 1585557 non-null  float64\n",
      " 56  iva_pagado                 1585557 non-null  float64\n",
      " 57  alc_pagado                 1585557 non-null  float64\n",
      " 58  otros_tributo_pagado       1585557 non-null  float64\n",
      " 59  cif_variacion              1585557 non-null  int64  \n",
      " 60  dai_variacion              1585557 non-null  float64\n",
      " 61  iva_variacion              1585557 non-null  float64\n",
      " 62  alc_variacion              1585557 non-null  int64  \n",
      " 63  otros_tributo_variacion    1585557 non-null  float64\n",
      " 64  peso_bruto_variacion       1585557 non-null  float64\n",
      " 65  cantidad_unidad_variacion  1585557 non-null  float64\n",
      " 66  dm_precendente             88707 non-null    object \n",
      " 67  indicador_valores          1585557 non-null  int64  \n",
      " 68  indicador_tributos         1585557 non-null  int64  \n",
      " 69  indicador_clasificacion    1585557 non-null  int64  \n",
      " 70  indicador_origen           1585557 non-null  int64  \n",
      " 71  indicador_cantidad         1585557 non-null  int64  \n",
      " 72  indicador_peso             1585557 non-null  int64  \n",
      " 73  indicador_incidencia       1585557 non-null  int64  \n",
      " 74  modalidad_pago             1585557 non-null  int64  \n",
      " 75  sub_regimen                1585557 non-null  int64  \n",
      " 76  variacion_administrativa   1580329 non-null  float64\n",
      " 77  variacion_tributaria       1575572 non-null  float64\n",
      " 78  estado_declaracion         1582175 non-null  float64\n",
      " 79  actividad_economica        1585553 non-null  object \n",
      " 80  manifiesto_carga           192571 non-null   object \n",
      " 81  codigo_proveedor           637785 non-null   object \n",
      " 82  impuesto_total             1585557 non-null  float64\n",
      " 83  illicit                    1585557 non-null  int64  \n",
      " 84  revenue                    1570344 non-null  float64\n",
      " 85  mes                        1585557 non-null  int64  \n",
      "dtypes: float64(31), int64(27), object(28)\n",
      "memory usage: 1.0+ GB\n"
     ]
    }
   ],
   "source": [
    "# Get an overview of df; variable name, number of data, any NAs, type of data. \n",
    "df.info()"
   ]
  },
  {
   "cell_type": "code",
   "execution_count": 14,
   "metadata": {
    "ExecuteTime": {
     "end_time": "2021-03-11T17:38:41.205842Z",
     "start_time": "2021-03-11T17:38:39.749812Z"
    }
   },
   "outputs": [
    {
     "data": {
      "text/plain": [
       "22"
      ]
     },
     "execution_count": 14,
     "metadata": {},
     "output_type": "execute_result"
    }
   ],
   "source": [
    "# Check the existence of NAs\n",
    "df.isna().any().sum()"
   ]
  },
  {
   "cell_type": "code",
   "execution_count": 28,
   "metadata": {
    "ExecuteTime": {
     "end_time": "2021-03-11T17:40:31.174935Z",
     "start_time": "2021-03-11T17:40:30.909937Z"
    }
   },
   "outputs": [],
   "source": [
    "# Select columns to use in models\n",
    "# columns_to_use=['year','month','day',\n",
    "#                 'OFFICE', 'IMPORTER.TIN', \n",
    "#                 #'DECLARANT.CODE', \n",
    "#                 'TARIFF.CODE','ORIGIN.CODE', \n",
    "#                 'CIF_USD_EQUIVALENT','QUANTITY', 'GROSS.WEIGHT', \n",
    "#                 'TOTAL.TAXES.USD',\n",
    "#                 'RAISED_TAX_AMOUNT_USD', \n",
    "#                 'illicit', \n",
    "#                 ]\n",
    "\n",
    "columns_to_use = [\n",
    "    'anno', 'mes', 'aduana', \n",
    "    #'agente_aduanas',\n",
    "    'contribuyente', 'inciso_arancelario', 'pais_origen_destino', \n",
    "    'cif', 'cuantia', 'peso_bruto','impuesto_total', 'revenue','illicit'\n",
    "]\n",
    "\n",
    "df=df[columns_to_use]"
   ]
  },
  {
   "cell_type": "markdown",
   "metadata": {},
   "source": [
    "# 2. Data preprocessing <a id='id2'></a>"
   ]
  },
  {
   "cell_type": "markdown",
   "metadata": {},
   "source": [
    "### Split into train-data and test-data"
   ]
  },
  {
   "cell_type": "code",
   "execution_count": 23,
   "metadata": {
    "ExecuteTime": {
     "end_time": "2021-03-11T17:40:06.409321Z",
     "start_time": "2021-03-11T17:40:06.384316Z"
    }
   },
   "outputs": [
    {
     "data": {
      "text/plain": [
       "2011    239271\n",
       "2012    205874\n",
       "2010    204277\n",
       "2017    161764\n",
       "2018    154957\n",
       "2013    139665\n",
       "2014    137278\n",
       "2016    132007\n",
       "2015    116187\n",
       "2019     94277\n",
       "Name: anno, dtype: int64"
      ]
     },
     "execution_count": 23,
     "metadata": {},
     "output_type": "execute_result"
    }
   ],
   "source": [
    "# Check the number of data in each year\n",
    "df['anno'].value_counts()"
   ]
  },
  {
   "cell_type": "code",
   "execution_count": 29,
   "metadata": {
    "ExecuteTime": {
     "end_time": "2021-03-11T17:40:34.221588Z",
     "start_time": "2021-03-11T17:40:34.163586Z"
    }
   },
   "outputs": [
    {
     "name": "stdout",
     "output_type": "stream",
     "text": [
      "Now, train-data has 139665 entries and 12 features\n",
      "Now, test-data has 137278 entries and 12 features\n"
     ]
    }
   ],
   "source": [
    "# Set 2013 data as training data\n",
    "df_train = df[df.anno == 2013].reset_index(drop=True)\n",
    "# Set 2014 data as testing data\n",
    "df_test = df[df.anno == 2014].reset_index(drop=True)\n",
    "print(\"Now, train-data has {} entries and {} features\".format(*df_train.shape))\n",
    "print(\"Now, test-data has {} entries and {} features\".format(*df_test.shape))"
   ]
  },
  {
   "cell_type": "markdown",
   "metadata": {},
   "source": [
    "### Define/Extract labels"
   ]
  },
  {
   "cell_type": "code",
   "execution_count": 30,
   "metadata": {
    "ExecuteTime": {
     "end_time": "2021-03-11T17:40:36.161907Z",
     "start_time": "2021-03-11T17:40:36.146907Z"
    }
   },
   "outputs": [],
   "source": [
    "# Extract the fraud labels; whether it is fraud or not\n",
    "train_labels = df_train.pop('illicit').values\n",
    "test_labels = df_test.pop('illicit').values\n",
    "# Extract the revenue additionally collected after Customs inspections\n",
    "train_rev = df_train.pop('revenue').values\n",
    "test_rev = df_test.pop('revenue').values"
   ]
  },
  {
   "cell_type": "markdown",
   "metadata": {},
   "source": [
    "### Define categorical and numeric variables"
   ]
  },
  {
   "cell_type": "code",
   "execution_count": 31,
   "metadata": {
    "ExecuteTime": {
     "end_time": "2021-03-11T17:40:53.175954Z",
     "start_time": "2021-03-11T17:40:53.169956Z"
    }
   },
   "outputs": [
    {
     "data": {
      "text/plain": [
       "['aduana',\n",
       " 'anno',\n",
       " 'contribuyente',\n",
       " 'pais_origen_destino',\n",
       " 'inciso_arancelario',\n",
       " 'mes']"
      ]
     },
     "execution_count": 31,
     "metadata": {},
     "output_type": "execute_result"
    }
   ],
   "source": [
    "# Define numeric variables\n",
    "numeric_vars = ['cif', 'cuantia', 'peso_bruto', 'impuesto_total']\n",
    "# Define categrical variables\n",
    "categorical_vars = list(set(df_train.columns)-set(numeric_vars))\n",
    "# Print categorical variables\n",
    "categorical_vars"
   ]
  },
  {
   "cell_type": "code",
   "execution_count": 32,
   "metadata": {
    "ExecuteTime": {
     "end_time": "2021-03-11T17:40:55.977283Z",
     "start_time": "2021-03-11T17:40:55.893121Z"
    },
    "scrolled": true
   },
   "outputs": [],
   "source": [
    "# replace NAs with 0 or 'unknown'\n",
    "df_train[categorical_vars] = df_train[categorical_vars].fillna('unknown')\n",
    "df_train[numeric_vars] = df_train[numeric_vars].fillna(0)\n",
    "df_test[categorical_vars] = df_test[categorical_vars].fillna('unknown')\n",
    "df_test[numeric_vars] = df_test[numeric_vars].fillna(0)"
   ]
  },
  {
   "cell_type": "markdown",
   "metadata": {},
   "source": [
    "### Categorical variables: Label-encoding for embedding"
   ]
  },
  {
   "cell_type": "markdown",
   "metadata": {},
   "source": [
    "### Train data"
   ]
  },
  {
   "cell_type": "code",
   "execution_count": 33,
   "metadata": {
    "ExecuteTime": {
     "end_time": "2021-03-11T17:41:00.662343Z",
     "start_time": "2021-03-11T17:40:59.307247Z"
    },
    "scrolled": true
   },
   "outputs": [],
   "source": [
    "# Convert categorical variables to numeric variables (otpion 1)\n",
    "\n",
    "# Create an empty dict for mapping classes with labels\n",
    "Categories_mapping = {}\n",
    "\n",
    "for var in categorical_vars:\n",
    "    # Option 1\n",
    "    # Make sure that it is a categorical variable\n",
    "    df_train[var]=df_train[var].astype(str) # str\n",
    "    # Create a mapping-reference table for maping clases(categories) with labels\n",
    "    Categories_mapping[var] = {key:value for value, key in enumerate(df_train[var].unique())}\n",
    "    # Convert classes(categories) to a corresponding numeric code\n",
    "    df_train[var]=df_train[var].map(Categories_mapping[var])\n",
    "    \n",
    "    # Option 2\n",
    "    # Make sure that it is a categorical variable\n",
    "    #df_train[var] = df_train[var].astype('category')\n",
    "    # Create a mapping-reference table for maping clases(categories) with labels\n",
    "    #Categories_mapping[var] = dict(zip(df_train[var].cat.categorical, df_train[var].cat.codes))\n",
    "    # Convert classes(categories) to a corresponding numeric code\n",
    "    #df_train[var] = df_train.copy()[var].cat.codes"
   ]
  },
  {
   "cell_type": "code",
   "execution_count": 34,
   "metadata": {
    "ExecuteTime": {
     "end_time": "2021-03-11T17:41:02.067946Z",
     "start_time": "2021-03-11T17:41:02.048949Z"
    }
   },
   "outputs": [],
   "source": [
    "# Set size of embedding\n",
    "category_sizes = {}\n",
    "categorical_vars_embsizes = {}\n",
    "\n",
    "for var in categorical_vars:\n",
    "    category_sizes[var] = df_train[var].nunique()\n",
    "    categorical_vars_embsizes[var] = min(100, category_sizes[var]//2+1)"
   ]
  },
  {
   "cell_type": "code",
   "execution_count": 35,
   "metadata": {
    "ExecuteTime": {
     "end_time": "2021-03-11T17:41:05.445160Z",
     "start_time": "2021-03-11T17:41:05.441160Z"
    },
    "scrolled": true
   },
   "outputs": [
    {
     "data": {
      "text/plain": [
       "({'aduana': 42,\n",
       "  'anno': 1,\n",
       "  'contribuyente': 5434,\n",
       "  'pais_origen_destino': 118,\n",
       "  'inciso_arancelario': 4432,\n",
       "  'mes': 12},\n",
       " {'aduana': 22,\n",
       "  'anno': 1,\n",
       "  'contribuyente': 100,\n",
       "  'pais_origen_destino': 60,\n",
       "  'inciso_arancelario': 100,\n",
       "  'mes': 7})"
      ]
     },
     "execution_count": 35,
     "metadata": {},
     "output_type": "execute_result"
    }
   ],
   "source": [
    "category_sizes, categorical_vars_embsizes, "
   ]
  },
  {
   "cell_type": "markdown",
   "metadata": {},
   "source": [
    "### Test-data"
   ]
  },
  {
   "cell_type": "code",
   "execution_count": 36,
   "metadata": {
    "ExecuteTime": {
     "end_time": "2021-03-11T17:41:09.826936Z",
     "start_time": "2021-03-11T17:41:09.575453Z"
    },
    "scrolled": true
   },
   "outputs": [
    {
     "name": "stderr",
     "output_type": "stream",
     "text": [
      "<ipython-input-36-096b0bff4e7b>:4: SettingWithCopyWarning: \n",
      "A value is trying to be set on a copy of a slice from a DataFrame\n",
      "\n",
      "See the caveats in the documentation: https://pandas.pydata.org/pandas-docs/stable/user_guide/indexing.html#returning-a-view-versus-a-copy\n",
      "  df_test[vars][df_test[vars].isnull()] = df_train[vars].nunique()\n"
     ]
    },
    {
     "data": {
      "text/plain": [
       "aduana                 False\n",
       "anno                   False\n",
       "contribuyente          False\n",
       "pais_origen_destino    False\n",
       "inciso_arancelario     False\n",
       "mes                    False\n",
       "dtype: bool"
      ]
     },
     "execution_count": 36,
     "metadata": {},
     "output_type": "execute_result"
    }
   ],
   "source": [
    "# Convert test data\n",
    "for vars in categorical_vars:\n",
    "    df_test[vars] = df_test[vars].map(Categories_mapping[vars])\n",
    "    df_test[vars][df_test[vars].isnull()] = df_train[vars].nunique()\n",
    "df_test[categorical_vars].isnull().any()"
   ]
  },
  {
   "cell_type": "code",
   "execution_count": 37,
   "metadata": {
    "ExecuteTime": {
     "end_time": "2021-03-11T17:41:12.444021Z",
     "start_time": "2021-03-11T17:41:12.433022Z"
    }
   },
   "outputs": [
    {
     "data": {
      "text/html": [
       "<div>\n",
       "<style scoped>\n",
       "    .dataframe tbody tr th:only-of-type {\n",
       "        vertical-align: middle;\n",
       "    }\n",
       "\n",
       "    .dataframe tbody tr th {\n",
       "        vertical-align: top;\n",
       "    }\n",
       "\n",
       "    .dataframe thead th {\n",
       "        text-align: right;\n",
       "    }\n",
       "</style>\n",
       "<table border=\"1\" class=\"dataframe\">\n",
       "  <thead>\n",
       "    <tr style=\"text-align: right;\">\n",
       "      <th></th>\n",
       "      <th>anno</th>\n",
       "      <th>mes</th>\n",
       "      <th>aduana</th>\n",
       "      <th>contribuyente</th>\n",
       "      <th>inciso_arancelario</th>\n",
       "      <th>pais_origen_destino</th>\n",
       "      <th>cif</th>\n",
       "      <th>cuantia</th>\n",
       "      <th>peso_bruto</th>\n",
       "      <th>impuesto_total</th>\n",
       "    </tr>\n",
       "  </thead>\n",
       "  <tbody>\n",
       "    <tr>\n",
       "      <th>0</th>\n",
       "      <td>0</td>\n",
       "      <td>0</td>\n",
       "      <td>0</td>\n",
       "      <td>0</td>\n",
       "      <td>0</td>\n",
       "      <td>0</td>\n",
       "      <td>1569.37</td>\n",
       "      <td>300.0</td>\n",
       "      <td>13608.00</td>\n",
       "      <td>204.01</td>\n",
       "    </tr>\n",
       "    <tr>\n",
       "      <th>1</th>\n",
       "      <td>0</td>\n",
       "      <td>0</td>\n",
       "      <td>0</td>\n",
       "      <td>1</td>\n",
       "      <td>1</td>\n",
       "      <td>0</td>\n",
       "      <td>45.04</td>\n",
       "      <td>40.0</td>\n",
       "      <td>453.60</td>\n",
       "      <td>5.85</td>\n",
       "    </tr>\n",
       "    <tr>\n",
       "      <th>2</th>\n",
       "      <td>0</td>\n",
       "      <td>0</td>\n",
       "      <td>0</td>\n",
       "      <td>1</td>\n",
       "      <td>2</td>\n",
       "      <td>0</td>\n",
       "      <td>253.39</td>\n",
       "      <td>100.0</td>\n",
       "      <td>3402.00</td>\n",
       "      <td>32.94</td>\n",
       "    </tr>\n",
       "    <tr>\n",
       "      <th>3</th>\n",
       "      <td>0</td>\n",
       "      <td>0</td>\n",
       "      <td>0</td>\n",
       "      <td>1</td>\n",
       "      <td>3</td>\n",
       "      <td>0</td>\n",
       "      <td>27.02</td>\n",
       "      <td>12.0</td>\n",
       "      <td>181.44</td>\n",
       "      <td>3.51</td>\n",
       "    </tr>\n",
       "    <tr>\n",
       "      <th>4</th>\n",
       "      <td>0</td>\n",
       "      <td>0</td>\n",
       "      <td>0</td>\n",
       "      <td>1</td>\n",
       "      <td>4</td>\n",
       "      <td>0</td>\n",
       "      <td>67.57</td>\n",
       "      <td>20.0</td>\n",
       "      <td>907.20</td>\n",
       "      <td>8.78</td>\n",
       "    </tr>\n",
       "  </tbody>\n",
       "</table>\n",
       "</div>"
      ],
      "text/plain": [
       "   anno  mes  aduana  contribuyente  inciso_arancelario  pais_origen_destino  \\\n",
       "0     0    0       0              0                   0                    0   \n",
       "1     0    0       0              1                   1                    0   \n",
       "2     0    0       0              1                   2                    0   \n",
       "3     0    0       0              1                   3                    0   \n",
       "4     0    0       0              1                   4                    0   \n",
       "\n",
       "       cif  cuantia  peso_bruto  impuesto_total  \n",
       "0  1569.37    300.0    13608.00          204.01  \n",
       "1    45.04     40.0      453.60            5.85  \n",
       "2   253.39    100.0     3402.00           32.94  \n",
       "3    27.02     12.0      181.44            3.51  \n",
       "4    67.57     20.0      907.20            8.78  "
      ]
     },
     "execution_count": 37,
     "metadata": {},
     "output_type": "execute_result"
    }
   ],
   "source": [
    "df_train.head()"
   ]
  },
  {
   "cell_type": "code",
   "execution_count": 38,
   "metadata": {
    "ExecuteTime": {
     "end_time": "2021-03-11T17:41:15.264788Z",
     "start_time": "2021-03-11T17:41:15.253788Z"
    }
   },
   "outputs": [
    {
     "data": {
      "text/html": [
       "<div>\n",
       "<style scoped>\n",
       "    .dataframe tbody tr th:only-of-type {\n",
       "        vertical-align: middle;\n",
       "    }\n",
       "\n",
       "    .dataframe tbody tr th {\n",
       "        vertical-align: top;\n",
       "    }\n",
       "\n",
       "    .dataframe thead th {\n",
       "        text-align: right;\n",
       "    }\n",
       "</style>\n",
       "<table border=\"1\" class=\"dataframe\">\n",
       "  <thead>\n",
       "    <tr style=\"text-align: right;\">\n",
       "      <th></th>\n",
       "      <th>anno</th>\n",
       "      <th>mes</th>\n",
       "      <th>aduana</th>\n",
       "      <th>contribuyente</th>\n",
       "      <th>inciso_arancelario</th>\n",
       "      <th>pais_origen_destino</th>\n",
       "      <th>cif</th>\n",
       "      <th>cuantia</th>\n",
       "      <th>peso_bruto</th>\n",
       "      <th>impuesto_total</th>\n",
       "    </tr>\n",
       "  </thead>\n",
       "  <tbody>\n",
       "    <tr>\n",
       "      <th>0</th>\n",
       "      <td>1.0</td>\n",
       "      <td>12.0</td>\n",
       "      <td>42.0</td>\n",
       "      <td>50.0</td>\n",
       "      <td>4432.0</td>\n",
       "      <td>3.0</td>\n",
       "      <td>33506.25</td>\n",
       "      <td>15.0</td>\n",
       "      <td>19300.00</td>\n",
       "      <td>4355.81</td>\n",
       "    </tr>\n",
       "    <tr>\n",
       "      <th>1</th>\n",
       "      <td>1.0</td>\n",
       "      <td>12.0</td>\n",
       "      <td>42.0</td>\n",
       "      <td>369.0</td>\n",
       "      <td>4432.0</td>\n",
       "      <td>0.0</td>\n",
       "      <td>5572.33</td>\n",
       "      <td>150.0</td>\n",
       "      <td>3785.20</td>\n",
       "      <td>724.40</td>\n",
       "    </tr>\n",
       "    <tr>\n",
       "      <th>2</th>\n",
       "      <td>1.0</td>\n",
       "      <td>12.0</td>\n",
       "      <td>42.0</td>\n",
       "      <td>246.0</td>\n",
       "      <td>4432.0</td>\n",
       "      <td>0.0</td>\n",
       "      <td>673.94</td>\n",
       "      <td>2.0</td>\n",
       "      <td>220.00</td>\n",
       "      <td>87.61</td>\n",
       "    </tr>\n",
       "    <tr>\n",
       "      <th>3</th>\n",
       "      <td>1.0</td>\n",
       "      <td>12.0</td>\n",
       "      <td>42.0</td>\n",
       "      <td>246.0</td>\n",
       "      <td>4432.0</td>\n",
       "      <td>0.0</td>\n",
       "      <td>2555.44</td>\n",
       "      <td>31.0</td>\n",
       "      <td>656.84</td>\n",
       "      <td>332.20</td>\n",
       "    </tr>\n",
       "    <tr>\n",
       "      <th>4</th>\n",
       "      <td>1.0</td>\n",
       "      <td>12.0</td>\n",
       "      <td>42.0</td>\n",
       "      <td>246.0</td>\n",
       "      <td>4432.0</td>\n",
       "      <td>0.0</td>\n",
       "      <td>651.84</td>\n",
       "      <td>6.0</td>\n",
       "      <td>165.00</td>\n",
       "      <td>84.73</td>\n",
       "    </tr>\n",
       "  </tbody>\n",
       "</table>\n",
       "</div>"
      ],
      "text/plain": [
       "   anno   mes  aduana  contribuyente  inciso_arancelario  pais_origen_destino  \\\n",
       "0   1.0  12.0    42.0           50.0              4432.0                  3.0   \n",
       "1   1.0  12.0    42.0          369.0              4432.0                  0.0   \n",
       "2   1.0  12.0    42.0          246.0              4432.0                  0.0   \n",
       "3   1.0  12.0    42.0          246.0              4432.0                  0.0   \n",
       "4   1.0  12.0    42.0          246.0              4432.0                  0.0   \n",
       "\n",
       "        cif  cuantia  peso_bruto  impuesto_total  \n",
       "0  33506.25     15.0    19300.00         4355.81  \n",
       "1   5572.33    150.0     3785.20          724.40  \n",
       "2    673.94      2.0      220.00           87.61  \n",
       "3   2555.44     31.0      656.84          332.20  \n",
       "4    651.84      6.0      165.00           84.73  "
      ]
     },
     "execution_count": 38,
     "metadata": {},
     "output_type": "execute_result"
    }
   ],
   "source": [
    "df_test.head()"
   ]
  },
  {
   "cell_type": "markdown",
   "metadata": {},
   "source": [
    "### Numeric variables: scale"
   ]
  },
  {
   "cell_type": "markdown",
   "metadata": {},
   "source": [
    "### Train data"
   ]
  },
  {
   "cell_type": "code",
   "execution_count": 39,
   "metadata": {
    "ExecuteTime": {
     "end_time": "2021-03-11T17:41:19.121985Z",
     "start_time": "2021-03-11T17:41:18.837761Z"
    }
   },
   "outputs": [
    {
     "data": {
      "text/html": [
       "<div>\n",
       "<style scoped>\n",
       "    .dataframe tbody tr th:only-of-type {\n",
       "        vertical-align: middle;\n",
       "    }\n",
       "\n",
       "    .dataframe tbody tr th {\n",
       "        vertical-align: top;\n",
       "    }\n",
       "\n",
       "    .dataframe thead th {\n",
       "        text-align: right;\n",
       "    }\n",
       "</style>\n",
       "<table border=\"1\" class=\"dataframe\">\n",
       "  <thead>\n",
       "    <tr style=\"text-align: right;\">\n",
       "      <th></th>\n",
       "      <th>cif</th>\n",
       "      <th>cuantia</th>\n",
       "      <th>peso_bruto</th>\n",
       "      <th>impuesto_total</th>\n",
       "    </tr>\n",
       "  </thead>\n",
       "  <tbody>\n",
       "    <tr>\n",
       "      <th>0</th>\n",
       "      <td>7.359067</td>\n",
       "      <td>5.707110</td>\n",
       "      <td>9.518487</td>\n",
       "      <td>5.323059</td>\n",
       "    </tr>\n",
       "    <tr>\n",
       "      <th>1</th>\n",
       "      <td>3.829511</td>\n",
       "      <td>3.713572</td>\n",
       "      <td>6.119418</td>\n",
       "      <td>1.924249</td>\n",
       "    </tr>\n",
       "    <tr>\n",
       "      <th>2</th>\n",
       "      <td>5.538869</td>\n",
       "      <td>4.615121</td>\n",
       "      <td>8.132413</td>\n",
       "      <td>3.524594</td>\n",
       "    </tr>\n",
       "    <tr>\n",
       "      <th>3</th>\n",
       "      <td>3.332919</td>\n",
       "      <td>2.564949</td>\n",
       "      <td>5.206421</td>\n",
       "      <td>1.506297</td>\n",
       "    </tr>\n",
       "    <tr>\n",
       "      <th>4</th>\n",
       "      <td>4.227855</td>\n",
       "      <td>3.044522</td>\n",
       "      <td>6.811465</td>\n",
       "      <td>2.280339</td>\n",
       "    </tr>\n",
       "  </tbody>\n",
       "</table>\n",
       "</div>"
      ],
      "text/plain": [
       "        cif   cuantia  peso_bruto  impuesto_total\n",
       "0  7.359067  5.707110    9.518487        5.323059\n",
       "1  3.829511  3.713572    6.119418        1.924249\n",
       "2  5.538869  4.615121    8.132413        3.524594\n",
       "3  3.332919  2.564949    5.206421        1.506297\n",
       "4  4.227855  3.044522    6.811465        2.280339"
      ]
     },
     "execution_count": 39,
     "metadata": {},
     "output_type": "execute_result"
    }
   ],
   "source": [
    "# Scale numeric variables\n",
    "# log-scale numeric variables\n",
    "df_train[numeric_vars] = df_train[numeric_vars].apply(np.log1p)\n",
    "df_train[numeric_vars].head()"
   ]
  },
  {
   "cell_type": "markdown",
   "metadata": {},
   "source": [
    "### Test data"
   ]
  },
  {
   "cell_type": "code",
   "execution_count": 40,
   "metadata": {
    "ExecuteTime": {
     "end_time": "2021-03-11T17:41:21.288274Z",
     "start_time": "2021-03-11T17:41:21.261278Z"
    }
   },
   "outputs": [
    {
     "data": {
      "text/html": [
       "<div>\n",
       "<style scoped>\n",
       "    .dataframe tbody tr th:only-of-type {\n",
       "        vertical-align: middle;\n",
       "    }\n",
       "\n",
       "    .dataframe tbody tr th {\n",
       "        vertical-align: top;\n",
       "    }\n",
       "\n",
       "    .dataframe thead th {\n",
       "        text-align: right;\n",
       "    }\n",
       "</style>\n",
       "<table border=\"1\" class=\"dataframe\">\n",
       "  <thead>\n",
       "    <tr style=\"text-align: right;\">\n",
       "      <th></th>\n",
       "      <th>cif</th>\n",
       "      <th>cuantia</th>\n",
       "      <th>peso_bruto</th>\n",
       "      <th>impuesto_total</th>\n",
       "    </tr>\n",
       "  </thead>\n",
       "  <tbody>\n",
       "    <tr>\n",
       "      <th>0</th>\n",
       "      <td>10.419517</td>\n",
       "      <td>2.772589</td>\n",
       "      <td>9.867912</td>\n",
       "      <td>8.379495</td>\n",
       "    </tr>\n",
       "    <tr>\n",
       "      <th>1</th>\n",
       "      <td>8.625748</td>\n",
       "      <td>5.017280</td>\n",
       "      <td>8.239118</td>\n",
       "      <td>6.586723</td>\n",
       "    </tr>\n",
       "    <tr>\n",
       "      <th>2</th>\n",
       "      <td>6.514624</td>\n",
       "      <td>1.098612</td>\n",
       "      <td>5.398163</td>\n",
       "      <td>4.484245</td>\n",
       "    </tr>\n",
       "    <tr>\n",
       "      <th>3</th>\n",
       "      <td>7.846371</td>\n",
       "      <td>3.465736</td>\n",
       "      <td>6.488962</td>\n",
       "      <td>5.808743</td>\n",
       "    </tr>\n",
       "    <tr>\n",
       "      <th>4</th>\n",
       "      <td>6.481332</td>\n",
       "      <td>1.945910</td>\n",
       "      <td>5.111988</td>\n",
       "      <td>4.451203</td>\n",
       "    </tr>\n",
       "  </tbody>\n",
       "</table>\n",
       "</div>"
      ],
      "text/plain": [
       "         cif   cuantia  peso_bruto  impuesto_total\n",
       "0  10.419517  2.772589    9.867912        8.379495\n",
       "1   8.625748  5.017280    8.239118        6.586723\n",
       "2   6.514624  1.098612    5.398163        4.484245\n",
       "3   7.846371  3.465736    6.488962        5.808743\n",
       "4   6.481332  1.945910    5.111988        4.451203"
      ]
     },
     "execution_count": 40,
     "metadata": {},
     "output_type": "execute_result"
    }
   ],
   "source": [
    "# log-scale numeric variables\n",
    "df_test[numeric_vars] = df_test[numeric_vars].apply(np.log1p)\n",
    "df_test[numeric_vars].head()"
   ]
  },
  {
   "cell_type": "markdown",
   "metadata": {},
   "source": [
    "### Convert dataformat to dictionary\n",
    "\n",
    "- Reference: https://www.tensorflow.org/guide/keras/train_and_evaluate#passing_data_to_multi-input_multi-output_models \n",
    "- \"*As the model has multiple inputs (sliced into each feature), inputs should yield either a tuple of dictionaries or a tuple of lists. To make sure values are matched with keys in embedding layers, we use a tuple of dicitonaries.*\"\n",
    "- \"*Passing data to a multi-input or multi-output model in fit works in a similar way as specifying a loss function in compile: you can pass lists of Numpy arrays (with 1:1 mapping to the outputs that received a loss function) or dicts mapping output names to Numpy arrays of training data.*\""
   ]
  },
  {
   "cell_type": "code",
   "execution_count": 41,
   "metadata": {
    "ExecuteTime": {
     "end_time": "2021-03-11T17:41:31.472624Z",
     "start_time": "2021-03-11T17:41:31.460625Z"
    },
    "scrolled": true
   },
   "outputs": [
    {
     "data": {
      "text/plain": [
       "{'anno': array([0, 0, 0, ..., 0, 0, 0], dtype=int64),\n",
       " 'mes': array([ 0,  0,  0, ..., 11, 11, 10], dtype=int64),\n",
       " 'aduana': array([ 0,  0,  0, ..., 41, 41, 41], dtype=int64),\n",
       " 'contribuyente': array([   0,    1,    1, ...,  253,  253, 5433], dtype=int64),\n",
       " 'inciso_arancelario': array([   0,    1,    2, ...,   75,  348, 3424], dtype=int64),\n",
       " 'pais_origen_destino': array([ 0,  0,  0, ..., 12,  4,  2], dtype=int64),\n",
       " 'cif': array([ 7.35906654,  3.82951058,  5.53886852, ..., 11.48499892,\n",
       "        10.97101346,  9.44389355]),\n",
       " 'cuantia': array([5.70711026, 3.71357207, 4.61512052, ..., 1.79175947, 1.09861229,\n",
       "        0.69314718]),\n",
       " 'peso_bruto': array([9.51848662, 6.11941791, 8.13241267, ..., 9.16585125, 8.47657951,\n",
       "        8.35796297]),\n",
       " 'impuesto_total': array([ 5.32305876,  1.92424865,  3.52459426, ...,  9.8057187 ,\n",
       "        10.08551823,  0.        ])}"
      ]
     },
     "execution_count": 41,
     "metadata": {},
     "output_type": "execute_result"
    }
   ],
   "source": [
    "X_train = {}\n",
    "for vars in df_train.columns.tolist():\n",
    "    X_train[vars] = df_train[vars].values\n",
    "X_train"
   ]
  },
  {
   "cell_type": "code",
   "execution_count": 42,
   "metadata": {
    "ExecuteTime": {
     "end_time": "2021-03-11T17:41:34.327690Z",
     "start_time": "2021-03-11T17:41:34.317692Z"
    }
   },
   "outputs": [
    {
     "data": {
      "text/plain": [
       "{'anno': array([1., 1., 1., ..., 1., 1., 1.]),\n",
       " 'mes': array([12., 12., 12., ..., 12., 12., 12.]),\n",
       " 'aduana': array([42., 42., 42., ..., 42., 42., 42.]),\n",
       " 'contribuyente': array([ 50., 369., 246., ..., 253., 253., 253.]),\n",
       " 'inciso_arancelario': array([4432., 4432., 4432., ..., 4432., 4432., 4432.]),\n",
       " 'pais_origen_destino': array([3., 0., 0., ..., 4., 4., 2.]),\n",
       " 'cif': array([10.41951711,  8.625748  ,  6.5146238 , ..., 10.47372699,\n",
       "         9.73751679, 10.21488005]),\n",
       " 'cuantia': array([2.77258872, 5.01727984, 1.09861229, ..., 0.69314718, 0.69314718,\n",
       "        0.69314718]),\n",
       " 'peso_bruto': array([9.86791219, 8.23911816, 5.3981627 , ..., 8.36660283, 7.69211334,\n",
       "        7.55223729]),\n",
       " 'impuesto_total': array([8.37949542, 6.58672323, 4.48424472, ..., 8.51702518, 7.78100071,\n",
       "        9.45776826])}"
      ]
     },
     "execution_count": 42,
     "metadata": {},
     "output_type": "execute_result"
    }
   ],
   "source": [
    "X_test = {}\n",
    "for vars in df_test.columns.tolist():\n",
    "    X_test[vars] = df_test[vars].values\n",
    "X_test"
   ]
  },
  {
   "cell_type": "markdown",
   "metadata": {},
   "source": [
    "# 3. Construct the Model <a id='id3'></a>"
   ]
  },
  {
   "cell_type": "code",
   "execution_count": 141,
   "metadata": {
    "ExecuteTime": {
     "end_time": "2021-03-11T20:15:42.950453Z",
     "start_time": "2021-03-11T20:15:42.767372Z"
    },
    "scrolled": true
   },
   "outputs": [],
   "source": [
    "# Prepare deep learning\n",
    "from keras.constraints import maxnorm\n",
    "#from tensorflow.keras.initializers import LecunNormal\n",
    "#from tensorflow.keras.layers import AlphaDropout\n",
    "from tensorflow.keras.optimizers import Adam\n",
    "from tensorflow.keras.layers import Dense, Dropout, Embedding, Input, Reshape, Concatenate, Flatten, BatchNormalization\n",
    "from tensorflow.keras.models import Model\n",
    "from tensorflow.keras.callbacks import ModelCheckpoint, EarlyStopping\n",
    "from tensorflow.keras.metrics import TruePositives, TrueNegatives, FalsePositives, FalseNegatives, Precision, Recall, AUC\n",
    "\n",
    "# Define input layers\n",
    "\n",
    "# Create lists to hold input layers\n",
    "ins = []\n",
    "concat = []\n",
    "\n",
    "# Iterate to create input layers for categorical variables\n",
    "\n",
    "for var in categorical_vars:\n",
    "    # create an input layer for each categorical variable\n",
    "    # Caution: Match the name of layer with the name of variable!!!\n",
    "    # as the format of train/test data is a dictionary, where 'key()' is the variable names. \n",
    "    x = Input(shape=(1,), name = var) \n",
    "    ins.append(x) # concatenate input layers for the final input layer\n",
    "    x = Embedding(input_dim = category_sizes[var]+1, # create an embedding layer for each input layer\n",
    "                  output_dim = categorical_vars_embsizes[var],\n",
    "                  name = 'Embedding_' + var)(x)\n",
    "    x = Flatten(name = 'Flatten_' + var)(x)\n",
    "    concat.append(x) # concatenate embedding layers for the final output layer\n",
    "\n",
    "# Iterate to create input layers for numeric variables\n",
    "for var in numeric_vars:\n",
    "    y = Input(shape=(1,), name = var) # create an input layer for each numeric variables\n",
    "    ins.append(y) # concatenate input layers for the final input layer\n",
    "    concat.append(y) # concatenate input layers for the final output layer\n",
    "\n",
    "initial_bias = np.log([pos/neg])\n",
    "output_bias = tf.keras.initializers.Constant(initial_bias)\n",
    "    \n",
    "# Define output layers\n",
    "output = Concatenate(name = 'combined')(concat)\n",
    "output = Dense(1000, activation='relu')(output)\n",
    "output = BatchNormalization()(output)\n",
    "output = Dropout(.2)(output)\n",
    "output = Dense(100, activation='relu')(output)\n",
    "output = BatchNormalization()(output)\n",
    "output = Dropout(.2)(output)\n",
    "output = Dense(50, activation='relu')(output)\n",
    "output = BatchNormalization()(output)\n",
    "output = Dropout(.2)(output)\n",
    "output_cls = Dense(1, name='class_output', activation = 'sigmoid')(output)\n",
    "\n",
    "# Dual task!!!\n",
    "output_rev = Dense(1, name='score_output', activation = 'relu')(output)"
   ]
  },
  {
   "cell_type": "code",
   "execution_count": 142,
   "metadata": {
    "ExecuteTime": {
     "end_time": "2021-03-11T20:15:47.115900Z",
     "start_time": "2021-03-11T20:15:47.102904Z"
    }
   },
   "outputs": [],
   "source": [
    "# Initiate/activate the model\n",
    "model = Model(ins, [output_cls, output_rev])"
   ]
  },
  {
   "cell_type": "code",
   "execution_count": 143,
   "metadata": {
    "ExecuteTime": {
     "end_time": "2021-03-11T20:15:49.412565Z",
     "start_time": "2021-03-11T20:15:49.409563Z"
    }
   },
   "outputs": [
    {
     "name": "stdout",
     "output_type": "stream",
     "text": [
      "('Failed to import pydot. You must `pip install pydot` and install graphviz (https://graphviz.gitlab.io/download/), ', 'for `pydotprint` to work.')\n"
     ]
    }
   ],
   "source": [
    "from keras.utils import plot_model\n",
    "\n",
    "plot_model(model, \"multi_input_and_output_model.png\", show_shapes=True)"
   ]
  },
  {
   "cell_type": "markdown",
   "metadata": {},
   "source": [
    "- Reference: https://www.tensorflow.org/guide/keras/train_and_evaluate#passing_data_to_multi-input_multi-output_models \n",
    "- \"*Passing data to a multi-input or multi-output model in fit works in a similar way as specifying a loss function in compile: you can pass lists of Numpy arrays (with 1:1 mapping to the outputs that received a loss function) or dicts mapping output names to Numpy arrays of training data.*\"\n",
    "'''"
   ]
  },
  {
   "cell_type": "code",
   "execution_count": 147,
   "metadata": {
    "ExecuteTime": {
     "end_time": "2021-03-11T20:20:47.523073Z",
     "start_time": "2021-03-11T20:20:47.145658Z"
    }
   },
   "outputs": [],
   "source": [
    "# Define loss function (a formular to calculate the difference between predicted value and actual value).\n",
    "# Define optimizer (a rule to find the minimum value of loss function, ie. search interval, search range...)\n",
    "\n",
    "metrics = [\n",
    "    #FalseNegatives(name=\"fn\"),\n",
    "    #FalsePositives(name=\"fp\"),\n",
    "    #TrueNegatives(name=\"tn\"),\n",
    "    #TruePositives(name=\"tp\"),\n",
    "    Precision(name=\"precision\"),\n",
    "    Recall(name=\"recall\"),\n",
    "    #AUC(name='AUC')\n",
    "]\n",
    "\n",
    "model.compile(optimizer=tf.keras.optimizers.RMSprop(1e-3),\n",
    "              #optimizer=tf.keras.optimizers.Adam(), \n",
    "              \n",
    "              # Define the two loss fuctions in order\n",
    "              loss=dict(\n",
    "                  class_output=tf.keras.losses.binary_crossentropy, \n",
    "                  score_output=tf.keras.losses.MeanSquaredError()\n",
    "              ),\n",
    "              # Set weights to combine the two losses. \n",
    "              loss_weights=dict(\n",
    "                  class_output=0.7, \n",
    "                  score_output=0.3\n",
    "              ),\n",
    "              #metrics=metrics\n",
    "             )\n",
    "\n",
    "early_stopping = EarlyStopping(\n",
    "    monitor='recall', #'val_AUC', \n",
    "    verbose=1,\n",
    "    patience=10,\n",
    "    mode='max',\n",
    "    restore_best_weights=True\n",
    ")\n",
    "\n",
    "# Scaling by total/2 helps keep the loss to a similar magnitude.\n",
    "# The sum of the weights of all examples stays the same.\n",
    "# neg, pos = np.bincount(df['illicit'])\n",
    "# total = neg + pos\n",
    "# print('Examples:\\n    Total: {}\\n    Positive: {} ({:.2f}% of total)\\n'.format(total, pos, 100 * pos / total))\n",
    "\n",
    "# weight_for_0 = (1 / neg)*(total)/2.0 \n",
    "# weight_for_1 = (1 / pos)*(total)/2.0\n",
    "\n",
    "# class_weight = {0: weight_for_0, 1: weight_for_1}\n",
    "\n",
    "# print('Weight for class 0: {:.2f}'.format(weight_for_0))\n",
    "# print('Weight for class 1: {:.2f}'.format(weight_for_1))"
   ]
  },
  {
   "cell_type": "code",
   "execution_count": 148,
   "metadata": {
    "ExecuteTime": {
     "end_time": "2021-03-11T20:20:49.992684Z",
     "start_time": "2021-03-11T20:20:49.972686Z"
    },
    "scrolled": false
   },
   "outputs": [
    {
     "name": "stdout",
     "output_type": "stream",
     "text": [
      "Model: \"functional_13\"\n",
      "__________________________________________________________________________________________________\n",
      "Layer (type)                    Output Shape         Param #     Connected to                     \n",
      "==================================================================================================\n",
      "aduana (InputLayer)             [(None, 1)]          0                                            \n",
      "__________________________________________________________________________________________________\n",
      "anno (InputLayer)               [(None, 1)]          0                                            \n",
      "__________________________________________________________________________________________________\n",
      "contribuyente (InputLayer)      [(None, 1)]          0                                            \n",
      "__________________________________________________________________________________________________\n",
      "pais_origen_destino (InputLayer [(None, 1)]          0                                            \n",
      "__________________________________________________________________________________________________\n",
      "inciso_arancelario (InputLayer) [(None, 1)]          0                                            \n",
      "__________________________________________________________________________________________________\n",
      "mes (InputLayer)                [(None, 1)]          0                                            \n",
      "__________________________________________________________________________________________________\n",
      "Embedding_aduana (Embedding)    (None, 1, 22)        946         aduana[0][0]                     \n",
      "__________________________________________________________________________________________________\n",
      "Embedding_anno (Embedding)      (None, 1, 1)         2           anno[0][0]                       \n",
      "__________________________________________________________________________________________________\n",
      "Embedding_contribuyente (Embedd (None, 1, 100)       543500      contribuyente[0][0]              \n",
      "__________________________________________________________________________________________________\n",
      "Embedding_pais_origen_destino ( (None, 1, 60)        7140        pais_origen_destino[0][0]        \n",
      "__________________________________________________________________________________________________\n",
      "Embedding_inciso_arancelario (E (None, 1, 100)       443300      inciso_arancelario[0][0]         \n",
      "__________________________________________________________________________________________________\n",
      "Embedding_mes (Embedding)       (None, 1, 7)         91          mes[0][0]                        \n",
      "__________________________________________________________________________________________________\n",
      "Flatten_aduana (Flatten)        (None, 22)           0           Embedding_aduana[0][0]           \n",
      "__________________________________________________________________________________________________\n",
      "Flatten_anno (Flatten)          (None, 1)            0           Embedding_anno[0][0]             \n",
      "__________________________________________________________________________________________________\n",
      "Flatten_contribuyente (Flatten) (None, 100)          0           Embedding_contribuyente[0][0]    \n",
      "__________________________________________________________________________________________________\n",
      "Flatten_pais_origen_destino (Fl (None, 60)           0           Embedding_pais_origen_destino[0][\n",
      "__________________________________________________________________________________________________\n",
      "Flatten_inciso_arancelario (Fla (None, 100)          0           Embedding_inciso_arancelario[0][0\n",
      "__________________________________________________________________________________________________\n",
      "Flatten_mes (Flatten)           (None, 7)            0           Embedding_mes[0][0]              \n",
      "__________________________________________________________________________________________________\n",
      "cif (InputLayer)                [(None, 1)]          0                                            \n",
      "__________________________________________________________________________________________________\n",
      "cuantia (InputLayer)            [(None, 1)]          0                                            \n",
      "__________________________________________________________________________________________________\n",
      "peso_bruto (InputLayer)         [(None, 1)]          0                                            \n",
      "__________________________________________________________________________________________________\n",
      "impuesto_total (InputLayer)     [(None, 1)]          0                                            \n",
      "__________________________________________________________________________________________________\n",
      "combined (Concatenate)          (None, 294)          0           Flatten_aduana[0][0]             \n",
      "                                                                 Flatten_anno[0][0]               \n",
      "                                                                 Flatten_contribuyente[0][0]      \n",
      "                                                                 Flatten_pais_origen_destino[0][0]\n",
      "                                                                 Flatten_inciso_arancelario[0][0] \n",
      "                                                                 Flatten_mes[0][0]                \n",
      "                                                                 cif[0][0]                        \n",
      "                                                                 cuantia[0][0]                    \n",
      "                                                                 peso_bruto[0][0]                 \n",
      "                                                                 impuesto_total[0][0]             \n",
      "__________________________________________________________________________________________________\n",
      "dense_35 (Dense)                (None, 1000)         295000      combined[0][0]                   \n",
      "__________________________________________________________________________________________________\n",
      "batch_normalization_15 (BatchNo (None, 1000)         4000        dense_35[0][0]                   \n",
      "__________________________________________________________________________________________________\n",
      "dropout_15 (Dropout)            (None, 1000)         0           batch_normalization_15[0][0]     \n",
      "__________________________________________________________________________________________________\n",
      "dense_36 (Dense)                (None, 100)          100100      dropout_15[0][0]                 \n",
      "__________________________________________________________________________________________________\n",
      "batch_normalization_16 (BatchNo (None, 100)          400         dense_36[0][0]                   \n",
      "__________________________________________________________________________________________________\n",
      "dropout_16 (Dropout)            (None, 100)          0           batch_normalization_16[0][0]     \n",
      "__________________________________________________________________________________________________\n",
      "dense_37 (Dense)                (None, 50)           5050        dropout_16[0][0]                 \n",
      "__________________________________________________________________________________________________\n",
      "batch_normalization_17 (BatchNo (None, 50)           200         dense_37[0][0]                   \n",
      "__________________________________________________________________________________________________\n",
      "dropout_17 (Dropout)            (None, 50)           0           batch_normalization_17[0][0]     \n",
      "__________________________________________________________________________________________________\n",
      "class_output (Dense)            (None, 1)            51          dropout_17[0][0]                 \n",
      "__________________________________________________________________________________________________\n",
      "score_output (Dense)            (None, 1)            51          dropout_17[0][0]                 \n",
      "==================================================================================================\n",
      "Total params: 1,399,831\n",
      "Trainable params: 1,397,531\n",
      "Non-trainable params: 2,300\n",
      "__________________________________________________________________________________________________\n"
     ]
    }
   ],
   "source": [
    "# Overview of model structure\n",
    "model.summary()"
   ]
  },
  {
   "cell_type": "markdown",
   "metadata": {},
   "source": [
    "# 4. Train the Model <a id='id4'></a>"
   ]
  },
  {
   "cell_type": "code",
   "execution_count": 152,
   "metadata": {
    "ExecuteTime": {
     "end_time": "2021-03-11T20:24:17.483873Z",
     "start_time": "2021-03-11T20:21:55.020875Z"
    },
    "scrolled": false
   },
   "outputs": [
    {
     "name": "stdout",
     "output_type": "stream",
     "text": [
      "Epoch 1/20\n",
      "273/273 [==============================] - 7s 24ms/step - loss: 0.1428 - class_output_loss: 0.0867 - score_output_loss: 0.2735\n",
      "Epoch 2/20\n",
      "273/273 [==============================] - 7s 24ms/step - loss: 0.1351 - class_output_loss: 0.0814 - score_output_loss: 0.2604\n",
      "Epoch 3/20\n",
      "273/273 [==============================] - 7s 24ms/step - loss: 0.1298 - class_output_loss: 0.0785 - score_output_loss: 0.2496\n",
      "Epoch 4/20\n",
      "273/273 [==============================] - 6s 23ms/step - loss: 0.1238 - class_output_loss: 0.0752 - score_output_loss: 0.2372\n",
      "Epoch 5/20\n",
      "273/273 [==============================] - 6s 22ms/step - loss: 0.1187 - class_output_loss: 0.0715 - score_output_loss: 0.2288\n",
      "Epoch 6/20\n",
      "273/273 [==============================] - 6s 23ms/step - loss: 0.1141 - class_output_loss: 0.0688 - score_output_loss: 0.2198\n",
      "Epoch 7/20\n",
      "273/273 [==============================] - 7s 25ms/step - loss: 0.1106 - class_output_loss: 0.0669 - score_output_loss: 0.2128\n",
      "Epoch 8/20\n",
      "273/273 [==============================] - 7s 26ms/step - loss: 0.1058 - class_output_loss: 0.0641 - score_output_loss: 0.2031\n",
      "Epoch 9/20\n",
      "273/273 [==============================] - 8s 29ms/step - loss: 0.1037 - class_output_loss: 0.0629 - score_output_loss: 0.1989\n",
      "Epoch 10/20\n",
      "273/273 [==============================] - 7s 27ms/step - loss: 0.0997 - class_output_loss: 0.0604 - score_output_loss: 0.1914\n",
      "Epoch 11/20\n",
      "273/273 [==============================] - 7s 27ms/step - loss: 0.0981 - class_output_loss: 0.0595 - score_output_loss: 0.1881\n",
      "Epoch 12/20\n",
      "273/273 [==============================] - 7s 27ms/step - loss: 0.0937 - class_output_loss: 0.0567 - score_output_loss: 0.1799\n",
      "Epoch 13/20\n",
      "273/273 [==============================] - 7s 27ms/step - loss: 0.0915 - class_output_loss: 0.0556 - score_output_loss: 0.1752\n",
      "Epoch 14/20\n",
      "273/273 [==============================] - 7s 27ms/step - loss: 0.0891 - class_output_loss: 0.0540 - score_output_loss: 0.1709\n",
      "Epoch 15/20\n",
      "273/273 [==============================] - 7s 27ms/step - loss: 0.0865 - class_output_loss: 0.0526 - score_output_loss: 0.1656\n",
      "Epoch 16/20\n",
      "273/273 [==============================] - 7s 27ms/step - loss: 0.0855 - class_output_loss: 0.0524 - score_output_loss: 0.1626\n",
      "Epoch 17/20\n",
      "273/273 [==============================] - 7s 27ms/step - loss: 0.0826 - class_output_loss: 0.0505 - score_output_loss: 0.1577\n",
      "Epoch 18/20\n",
      "273/273 [==============================] - 7s 27ms/step - loss: 0.0809 - class_output_loss: 0.0493 - score_output_loss: 0.1547\n",
      "Epoch 19/20\n",
      "273/273 [==============================] - 7s 27ms/step - loss: 0.0787 - class_output_loss: 0.0483 - score_output_loss: 0.1498\n",
      "Epoch 20/20\n",
      "273/273 [==============================] - 8s 28ms/step - loss: 0.0786 - class_output_loss: 0.0481 - score_output_loss: 0.1496\n"
     ]
    },
    {
     "data": {
      "text/plain": [
       "<tensorflow.python.keras.callbacks.History at 0x2041287fe20>"
      ]
     },
     "execution_count": 152,
     "metadata": {},
     "output_type": "execute_result"
    }
   ],
   "source": [
    "model.fit(X_train, [train_labels, np.log1p(train_rev)], \n",
    "          epochs=20,\n",
    "          batch_size=2048//4,\n",
    "          #callbacks=[early_stopping],\n",
    "          #validation_data=(X_test, test_labels),\n",
    "          verbose=1\n",
    "          #class_weight=class_weight\n",
    "         ) #20"
   ]
  },
  {
   "cell_type": "code",
   "execution_count": 153,
   "metadata": {
    "ExecuteTime": {
     "end_time": "2021-03-11T20:24:20.211573Z",
     "start_time": "2021-03-11T20:24:20.057542Z"
    }
   },
   "outputs": [],
   "source": [
    "# Save weights\n",
    "import os\n",
    "if not os.path.exists('./dual_task_results'):\n",
    "    os.makedirs('./dual_task_results')\n",
    "    \n",
    "save_dir = './dual_task_results'\n",
    "# Save autoencoder layers' weights\n",
    "model.save_weights(save_dir + '/CFD_EMB_REV.h5')"
   ]
  },
  {
   "cell_type": "markdown",
   "metadata": {},
   "source": [
    "## 5. Test the Model (Predict frauds and estimate additional revenues in test-data) <a id='id5'></a>"
   ]
  },
  {
   "cell_type": "code",
   "execution_count": 154,
   "metadata": {
    "ExecuteTime": {
     "end_time": "2021-03-11T20:24:28.886617Z",
     "start_time": "2021-03-11T20:24:22.398622Z"
    }
   },
   "outputs": [],
   "source": [
    "y_pred_cls, y_pred_rev = model.predict(X_test)\n",
    "y_pred_cls = y_pred_cls.reshape(-1) # transform y_red into 1d array\n",
    "y_pred_rev = y_pred_rev.reshape(-1)"
   ]
  },
  {
   "cell_type": "markdown",
   "metadata": {},
   "source": [
    "## 6. Evaluate the Model performance <a id='id6'></a>"
   ]
  },
  {
   "cell_type": "code",
   "execution_count": 155,
   "metadata": {
    "ExecuteTime": {
     "end_time": "2021-03-11T20:24:29.119654Z",
     "start_time": "2021-03-11T20:24:28.887617Z"
    }
   },
   "outputs": [
    {
     "data": {
      "image/png": "[encoded data removed]",
      "text/plain": [
       "<Figure size 432x288 with 1 Axes>"
      ]
     },
     "metadata": {},
     "output_type": "display_data"
    },
    {
     "name": "stdout",
     "output_type": "stream",
     "text": [
      "auc:  0.6675476892211888\n"
     ]
    }
   ],
   "source": [
    "from matplotlib import pyplot as plt\n",
    "from sklearn.metrics import roc_curve\n",
    "from sklearn.metrics import auc\n",
    "\n",
    "fpr, tpr, _ = roc_curve(np.delete(test_labels, np.where(np.isnan(y_pred_cls))[0]),\n",
    "                        np.delete(y_pred_cls, np.where(np.isnan(y_pred_cls))[0]))\n",
    "\n",
    "plt.plot(fpr, tpr, label='ROC curve')\n",
    "plt.plot([0, 1], [0, 1], 'k--', label='Random guess')\n",
    "plt.xlabel('False positive rate')\n",
    "plt.ylabel('True positive rate')\n",
    "plt.title('ROC curve')\n",
    "plt.legend(loc=\"lower right\")\n",
    "plt.show()\n",
    "print('auc: ', auc(fpr, tpr))"
   ]
  },
  {
   "cell_type": "code",
   "execution_count": 134,
   "metadata": {
    "ExecuteTime": {
     "end_time": "2021-03-11T20:12:22.718402Z",
     "start_time": "2021-03-11T20:12:22.713402Z"
    }
   },
   "outputs": [],
   "source": [
    "# Evaluate by the performance of (simulated) inpsection\n",
    "\n",
    "def inspection_performance(predicted_fraud, test_fraud, test_rev):\n",
    "    \n",
    "    # Set default values before a loop\n",
    "    \n",
    "    Inspect_Rate = []\n",
    "    Precision=[]\n",
    "    Recall=[]\n",
    "    Seized_Revenue=[]\n",
    "    \n",
    "    # Create a loop for making confusion matrix at each inspection rate\n",
    "\n",
    "    for i in range(1,100,1):\n",
    "        \n",
    "        # Find the ith value in ascending order.\n",
    "        threshold = np.percentile(predicted_fraud, i)\n",
    "        # Precision = number of frauds / number of inspection\n",
    "        precision = np.mean(test_fraud[predicted_fraud > threshold])\n",
    "        # Recall = number of inspected frauds / number of frauds\n",
    "        recall = sum(test_fraud[predicted_fraud > threshold])/sum(test_fraud)\n",
    "        revenue_recall = sum(test_rev[predicted_fraud > threshold]) /sum(test_rev)\n",
    "        # Save values\n",
    "        Inspect_Rate.append(100-i)\n",
    "        Precision.append(precision)\n",
    "        Recall.append(recall)\n",
    "        Seized_Revenue.append(revenue_recall)\n",
    "    \n",
    "    compiled_conf_matrix = pd.DataFrame({\n",
    "        \n",
    "        'Inspect_Rate':Inspect_Rate,\n",
    "        'Precision':Precision,\n",
    "        'Recall':Recall,\n",
    "        'Seized_Revenue':Seized_Revenue\n",
    "    })\n",
    "\n",
    "    return compiled_conf_matrix"
   ]
  },
  {
   "cell_type": "code",
   "execution_count": 136,
   "metadata": {
    "ExecuteTime": {
     "end_time": "2021-03-11T20:12:39.513661Z",
     "start_time": "2021-03-11T20:12:39.505661Z"
    }
   },
   "outputs": [
    {
     "name": "stdout",
     "output_type": "stream",
     "text": [
      "(137278,)\n",
      "(137278,)\n"
     ]
    }
   ],
   "source": [
    "# Remove NAs in prediction and corresponding true values in test-data\n",
    "test_labels = np.delete(test_labels, np.where(np.isnan(y_pred_cls)))\n",
    "test_labels.shape\n",
    "\n",
    "# Remove NAs in prediction and corresponding true values in test-data\n",
    "test_rev = np.delete(test_rev, np.where(np.isnan(y_pred_cls)))\n",
    "test_rev.shape\n",
    "\n",
    "# Remove NAs in prediction and corresponding true values in test-data\n",
    "print(y_pred_cls.shape)\n",
    "y_pred_cls = np.delete(y_pred_cls, np.where(np.isnan(y_pred_cls)))\n",
    "print(y_pred_cls.shape)"
   ]
  },
  {
   "cell_type": "code",
   "execution_count": 137,
   "metadata": {
    "ExecuteTime": {
     "end_time": "2021-03-11T20:12:48.367542Z",
     "start_time": "2021-03-11T20:12:42.462547Z"
    },
    "scrolled": false
   },
   "outputs": [],
   "source": [
    "basic_performance = inspection_performance(y_pred_cls, test_labels, test_rev)"
   ]
  },
  {
   "cell_type": "code",
   "execution_count": 138,
   "metadata": {
    "ExecuteTime": {
     "end_time": "2021-03-11T20:12:48.377545Z",
     "start_time": "2021-03-11T20:12:48.369541Z"
    }
   },
   "outputs": [
    {
     "data": {
      "text/html": [
       "<div>\n",
       "<style scoped>\n",
       "    .dataframe tbody tr th:only-of-type {\n",
       "        vertical-align: middle;\n",
       "    }\n",
       "\n",
       "    .dataframe tbody tr th {\n",
       "        vertical-align: top;\n",
       "    }\n",
       "\n",
       "    .dataframe thead th {\n",
       "        text-align: right;\n",
       "    }\n",
       "</style>\n",
       "<table border=\"1\" class=\"dataframe\">\n",
       "  <thead>\n",
       "    <tr style=\"text-align: right;\">\n",
       "      <th></th>\n",
       "      <th>Inspect_Rate</th>\n",
       "      <th>Precision</th>\n",
       "      <th>Recall</th>\n",
       "      <th>Seized_Revenue</th>\n",
       "    </tr>\n",
       "  </thead>\n",
       "  <tbody>\n",
       "    <tr>\n",
       "      <th>0</th>\n",
       "      <td>99</td>\n",
       "      <td>0.036489</td>\n",
       "      <td>1.000000</td>\n",
       "      <td>1.000000</td>\n",
       "    </tr>\n",
       "    <tr>\n",
       "      <th>1</th>\n",
       "      <td>98</td>\n",
       "      <td>0.036854</td>\n",
       "      <td>0.999798</td>\n",
       "      <td>0.999967</td>\n",
       "    </tr>\n",
       "    <tr>\n",
       "      <th>2</th>\n",
       "      <td>97</td>\n",
       "      <td>0.037219</td>\n",
       "      <td>0.999395</td>\n",
       "      <td>0.999903</td>\n",
       "    </tr>\n",
       "    <tr>\n",
       "      <th>3</th>\n",
       "      <td>96</td>\n",
       "      <td>0.037584</td>\n",
       "      <td>0.998790</td>\n",
       "      <td>0.999758</td>\n",
       "    </tr>\n",
       "    <tr>\n",
       "      <th>4</th>\n",
       "      <td>95</td>\n",
       "      <td>0.037950</td>\n",
       "      <td>0.997983</td>\n",
       "      <td>0.999542</td>\n",
       "    </tr>\n",
       "  </tbody>\n",
       "</table>\n",
       "</div>"
      ],
      "text/plain": [
       "   Inspect_Rate  Precision    Recall  Seized_Revenue\n",
       "0            99   0.036489  1.000000        1.000000\n",
       "1            98   0.036854  0.999798        0.999967\n",
       "2            97   0.037219  0.999395        0.999903\n",
       "3            96   0.037584  0.998790        0.999758\n",
       "4            95   0.037950  0.997983        0.999542"
      ]
     },
     "execution_count": 138,
     "metadata": {},
     "output_type": "execute_result"
    }
   ],
   "source": [
    "basic_performance.head(5)"
   ]
  },
  {
   "cell_type": "code",
   "execution_count": 139,
   "metadata": {
    "ExecuteTime": {
     "end_time": "2021-03-11T20:12:49.169563Z",
     "start_time": "2021-03-11T20:12:48.380542Z"
    },
    "scrolled": false
   },
   "outputs": [
    {
     "data": {
      "text/plain": [
       "<seaborn.axisgrid.FacetGrid at 0x2041203c2b0>"
      ]
     },
     "execution_count": 139,
     "metadata": {},
     "output_type": "execute_result"
    },
    {
     "data": {
      "image/png": "[encoded data removed]",
      "text/plain": [
       "<Figure size 1244.9x360 with 3 Axes>"
      ]
     },
     "metadata": {},
     "output_type": "display_data"
    }
   ],
   "source": [
    "import matplotlib.pyplot as plt\n",
    "import seaborn as sns\n",
    "\n",
    "data = pd.melt(basic_performance, \n",
    "               id_vars = ['Inspect_Rate'],\n",
    "               value_vars = ['Recall','Precision', 'Seized_Revenue'])\n",
    "\n",
    "sns.relplot(x='Inspect_Rate',\n",
    "            y='value',\n",
    "            hue='variable',\n",
    "            col='variable',\n",
    "            kind='line',\n",
    "            data=data)"
   ]
  },
  {
   "cell_type": "code",
   "execution_count": 140,
   "metadata": {
    "ExecuteTime": {
     "end_time": "2021-03-11T20:12:55.579424Z",
     "start_time": "2021-03-11T20:12:55.487391Z"
    }
   },
   "outputs": [
    {
     "data": {
      "application/vnd.plotly.v1+json": {
       "config": {
        "plotlyServerURL": "https://plot.ly"
       },
       "data": [
        {
         "hovertemplate": "variable=Recall<br>Inspect_Rate=%{x}<br>value=%{y}<extra></extra>",
         "legendgroup": "Recall",
         "line": {
          "color": "#636efa",
          "dash": "solid"
         },
         "mode": "lines",
         "name": "Recall",
         "orientation": "v",
         "showlegend": true,
         "type": "scatter",
         "x": [
          99,
          98,
          97,
          96,
          95,
          94,
          93,
          92,
          91,
          90,
          89,
          88,
          87,
          86,
          85,
          84,
          83,
          82,
          81,
          80,
          79,
          78,
          77,
          76,
          75,
          74,
          73,
          72,
          71,
          70,
          69,
          68,
          67,
          66,
          65,
          64,
          63,
          62,
          61,
          60,
          59,
          58,
          57,
          56,
          55,
          54,
          53,
          52,
          51,
          50,
          49,
          48,
          47,
          46,
          45,
          44,
          43,
          42,
          41,
          40,
          39,
          38,
          37,
          36,
          35,
          34,
          33,
          32,
          31,
          30,
          29,
          28,
          27,
          26,
          25,
          24,
          23,
          22,
          21,
          20,
          19,
          18,
          17,
          16,
          15,
          14,
          13,
          12,
          11,
          10,
          9,
          8,
          7,
          6,
          5,
          4,
          3,
          2,
          1
         ],
         "xaxis": "x",
         "y": [
          1,
          0.9997983464408147,
          0.999395039322444,
          0.9987900786448881,
          0.9979834644081468,
          0.9975801572897761,
          0.9967735430530349,
          0.9953619681387377,
          0.9933454325468845,
          0.9911272433958459,
          0.9876991328896955,
          0.9844726759427304,
          0.9790280298447268,
          0.9758015728977616,
          0.9709618874773139,
          0.9624924379915305,
          0.957047791893527,
          0.9509981851179673,
          0.9453518854607784,
          0.936277475297439,
          0.9270014115749143,
          0.9187336156483162,
          0.9088525912482356,
          0.8991732204073402,
          0.8909054244807421,
          0.8828392821133293,
          0.8729582577132486,
          0.8648921153458359,
          0.8554143980641258,
          0.8465416414599718,
          0.8356523492639645,
          0.827182899778181,
          0.8173018753781004,
          0.8110506150433555,
          0.8015728977616455,
          0.7924984875983061,
          0.7818108489614841,
          0.7705182496471062,
          0.7604355716878403,
          0.753377697116354,
          0.7465214761040533,
          0.7382536801774552,
          0.7309941520467836,
          0.720508166969147,
          0.7136519459568461,
          0.7051824964710627,
          0.6957047791893527,
          0.6868320225851986,
          0.6781609195402298,
          0.6688848558177052,
          0.6604154063319218,
          0.6519459568461383,
          0.6434765073603549,
          0.6348054043153861,
          0.6249243799153055,
          0.6162532768703367,
          0.6059689453518855,
          0.5946763460375075,
          0.5809639040129059,
          0.5670498084291188,
          0.5587820125025207,
          0.5493042952208107,
          0.5376083887880622,
          0.5265174430328695,
          0.5168380721919742,
          0.5071587013510789,
          0.4932446057672918,
          0.48114539221617264,
          0.4698527929017947,
          0.4563420044363783,
          0.4444444444444444,
          0.4295220810647308,
          0.41701956039524096,
          0.4057269610808631,
          0.39120790481952006,
          0.3781004234724743,
          0.36358136721113127,
          0.34825569671304696,
          0.33534986892518653,
          0.3218390804597701,
          0.30550514216575925,
          0.29159104658197216,
          0.2720306513409962,
          0.25327687033676144,
          0.23613631780600927,
          0.2222222222222222,
          0.2064932446057673,
          0.1913692276668683,
          0.17281710022181893,
          0.16071788667069975,
          0.15063520871143377,
          0.13430127041742287,
          0.12220205686630368,
          0.10627142569066345,
          0.09155071587013511,
          0.07461181689856826,
          0.06110102843315184,
          0.045573704375882235,
          0.030046380318612623
         ],
         "yaxis": "y"
        },
        {
         "hovertemplate": "variable=Precision<br>Inspect_Rate=%{x}<br>value=%{y}<extra></extra>",
         "legendgroup": "Precision",
         "line": {
          "color": "#EF553B",
          "dash": "solid"
         },
         "mode": "lines",
         "name": "Precision",
         "orientation": "v",
         "showlegend": true,
         "type": "scatter",
         "x": [
          99,
          98,
          97,
          96,
          95,
          94,
          93,
          92,
          91,
          90,
          89,
          88,
          87,
          86,
          85,
          84,
          83,
          82,
          81,
          80,
          79,
          78,
          77,
          76,
          75,
          74,
          73,
          72,
          71,
          70,
          69,
          68,
          67,
          66,
          65,
          64,
          63,
          62,
          61,
          60,
          59,
          58,
          57,
          56,
          55,
          54,
          53,
          52,
          51,
          50,
          49,
          48,
          47,
          46,
          45,
          44,
          43,
          42,
          41,
          40,
          39,
          38,
          37,
          36,
          35,
          34,
          33,
          32,
          31,
          30,
          29,
          28,
          27,
          26,
          25,
          24,
          23,
          22,
          21,
          20,
          19,
          18,
          17,
          16,
          15,
          14,
          13,
          12,
          11,
          10,
          9,
          8,
          7,
          6,
          5,
          4,
          3,
          2,
          1
         ],
         "xaxis": "x2",
         "y": [
          0.03648872374084838,
          0.03685368536853685,
          0.037218663402398634,
          0.0375842287379348,
          0.03795012575915588,
          0.03833665269178013,
          0.03871761130432058,
          0.03908340855464234,
          0.03943229029081914,
          0.03978146499392958,
          0.04008937852459955,
          0.04041256912022781,
          0.04065108723865663,
          0.0409879805859782,
          0.04126459043929863,
          0.04139276732286879,
          0.0416535018430753,
          0.04189467699523843,
          0.04216016907235037,
          0.04227750359672925,
          0.04239327904681981,
          0.042548820008031604,
          0.04263793233936275,
          0.04273938464487683,
          0.042910701451077136,
          0.04309691391445587,
          0.04319798828495305,
          0.04339336301092675,
          0.043522422973929636,
          0.04368684503553849,
          0.04374953811720738,
          0.043942623916699695,
          0.04406584326346003,
          0.04439195602746076,
          0.044547298584572625,
          0.044731270914430105,
          0.04482858299127016,
          0.044893787010057334,
          0.04503278042489163,
          0.04535797103208809,
          0.04570708941403067,
          0.045980331822006754,
          0.04632706267252837,
          0.04647744419584786,
          0.04687230970954796,
          0.04717452009335078,
          0.04741811784433113,
          0.047713104994046365,
          0.048034622636119524,
          0.04832529611445388,
          0.048687301162548685,
          0.049064392272320276,
          0.04946213225036426,
          0.04985114334579084,
          0.05016592472683124,
          0.05059435118042449,
          0.050906318820938504,
          0.051147302148915136,
          0.05118683817781252,
          0.05121014004479977,
          0.05175859685824757,
          0.05221791971782387,
          0.0524875474967023,
          0.0528328611898017,
          0.053346931979019234,
          0.05388554410472864,
          0.05399320118317072,
          0.05431491725283981,
          0.05475138640849704,
          0.054948523698523696,
          0.05536158348195223,
          0.05541391331494875,
          0.05579387562390395,
          0.05636959627938251,
          0.05652680652680653,
          0.05690958205602938,
          0.057103946284917974,
          0.05718353696897454,
          0.05768496999549065,
          0.05812937062937063,
          0.058083809377755626,
          0.0585188182921894,
          0.05780272516925186,
          0.057181880264056455,
          0.05686674436674437,
          0.057339091524012696,
          0.05737658990306494,
          0.05760592448707053,
          0.05675120852923647,
          0.05805652680652681,
          0.06046135167948199,
          0.060639169625785305,
          0.06305931321540062,
          0.06397960422483914,
          0.06614219114219114,
          0.06737072104879825,
          0.07356154406409322,
          0.08230152949745084,
          0.10852148579752367
         ],
         "yaxis": "y2"
        },
        {
         "hovertemplate": "variable=Seized_Revenue<br>Inspect_Rate=%{x}<br>value=%{y}<extra></extra>",
         "legendgroup": "Seized_Revenue",
         "line": {
          "color": "#00cc96",
          "dash": "solid"
         },
         "mode": "lines",
         "name": "Seized_Revenue",
         "orientation": "v",
         "showlegend": true,
         "type": "scatter",
         "x": [
          99,
          98,
          97,
          96,
          95,
          94,
          93,
          92,
          91,
          90,
          89,
          88,
          87,
          86,
          85,
          84,
          83,
          82,
          81,
          80,
          79,
          78,
          77,
          76,
          75,
          74,
          73,
          72,
          71,
          70,
          69,
          68,
          67,
          66,
          65,
          64,
          63,
          62,
          61,
          60,
          59,
          58,
          57,
          56,
          55,
          54,
          53,
          52,
          51,
          50,
          49,
          48,
          47,
          46,
          45,
          44,
          43,
          42,
          41,
          40,
          39,
          38,
          37,
          36,
          35,
          34,
          33,
          32,
          31,
          30,
          29,
          28,
          27,
          26,
          25,
          24,
          23,
          22,
          21,
          20,
          19,
          18,
          17,
          16,
          15,
          14,
          13,
          12,
          11,
          10,
          9,
          8,
          7,
          6,
          5,
          4,
          3,
          2,
          1
         ],
         "xaxis": "x3",
         "y": [
          1,
          0.9999665189221908,
          0.9999029000638534,
          0.9997577312096021,
          0.9995415714062458,
          0.9990994023014276,
          0.9980986499994081,
          0.997610660885088,
          0.9960178803868054,
          0.9953569297563024,
          0.9938185560094601,
          0.9921572980481583,
          0.9908435265316201,
          0.9898242057008153,
          0.9877789616283883,
          0.9856644824392411,
          0.9839870010677508,
          0.9832449694650531,
          0.9824004261140623,
          0.9815080663962003,
          0.9808196959174913,
          0.9800605509621632,
          0.9787500986904075,
          0.977753050473146,
          0.9768046364077019,
          0.973641877179645,
          0.971916158522561,
          0.9691950632968557,
          0.9654337335929642,
          0.9641003953689563,
          0.9547679057170926,
          0.9540955662285843,
          0.9523077319943144,
          0.9509347312004015,
          0.9486096603612836,
          0.9464301432163921,
          0.941899325982849,
          0.9399458061131701,
          0.9385170155491576,
          0.9380436142751325,
          0.9370257005154857,
          0.9353910927224405,
          0.9334534354754737,
          0.9310006578959618,
          0.9298326685723846,
          0.9286478304736601,
          0.9259555982460664,
          0.9199694364902482,
          0.9187822652991763,
          0.9171404417566027,
          0.9154290704148299,
          0.9141226108578135,
          0.9125957101527202,
          0.9117321412754749,
          0.9038689706474723,
          0.9017952243644101,
          0.8990936477411776,
          0.8962974004841395,
          0.8893447973153076,
          0.8853063226982997,
          0.8826766750716107,
          0.8807433953793575,
          0.8771795006087978,
          0.8705551539122366,
          0.8556788159243641,
          0.850118888493157,
          0.8444590590097371,
          0.8394567045707977,
          0.8355166527773501,
          0.8321989112756841,
          0.8281697570018166,
          0.8200742151865186,
          0.8040734950547156,
          0.7962010161098215,
          0.7888390153652763,
          0.7821973628960982,
          0.7731833523758963,
          0.7645667612871907,
          0.7568011115140569,
          0.750006364892396,
          0.7340353135174017,
          0.7240423783375022,
          0.7087936595689954,
          0.6964454075332062,
          0.5991570922189018,
          0.5946338755748615,
          0.5595136921553192,
          0.5477060200216599,
          0.5106215171606452,
          0.487250534251088,
          0.47962613277496213,
          0.46103795309871,
          0.4370522484606245,
          0.42122180799142983,
          0.38772278701831275,
          0.3723062900470334,
          0.3521048972750859,
          0.3320817335164767,
          0.24469277713694562
         ],
         "yaxis": "y3"
        }
       ],
       "layout": {
        "annotations": [
         {
          "font": {},
          "showarrow": false,
          "text": "variable=Recall",
          "x": 0.15999999999999998,
          "xanchor": "center",
          "xref": "paper",
          "y": 1,
          "yanchor": "bottom",
          "yref": "paper"
         },
         {
          "font": {},
          "showarrow": false,
          "text": "variable=Precision",
          "x": 0.49999999999999994,
          "xanchor": "center",
          "xref": "paper",
          "y": 1,
          "yanchor": "bottom",
          "yref": "paper"
         },
         {
          "font": {},
          "showarrow": false,
          "text": "variable=Seized_Revenue",
          "x": 0.8399999999999999,
          "xanchor": "center",
          "xref": "paper",
          "y": 1,
          "yanchor": "bottom",
          "yref": "paper"
         }
        ],
        "legend": {
         "title": {
          "text": "variable"
         },
         "tracegroupgap": 0
        },
        "margin": {
         "t": 60
        },
        "template": {
         "data": {
          "bar": [
           {
            "error_x": {
             "color": "#2a3f5f"
            },
            "error_y": {
             "color": "#2a3f5f"
            },
            "marker": {
             "line": {
              "color": "#E5ECF6",
              "width": 0.5
             }
            },
            "type": "bar"
           }
          ],
          "barpolar": [
           {
            "marker": {
             "line": {
              "color": "#E5ECF6",
              "width": 0.5
             }
            },
            "type": "barpolar"
           }
          ],
          "carpet": [
           {
            "aaxis": {
             "endlinecolor": "#2a3f5f",
             "gridcolor": "white",
             "linecolor": "white",
             "minorgridcolor": "white",
             "startlinecolor": "#2a3f5f"
            },
            "baxis": {
             "endlinecolor": "#2a3f5f",
             "gridcolor": "white",
             "linecolor": "white",
             "minorgridcolor": "white",
             "startlinecolor": "#2a3f5f"
            },
            "type": "carpet"
           }
          ],
          "choropleth": [
           {
            "colorbar": {
             "outlinewidth": 0,
             "ticks": ""
            },
            "type": "choropleth"
           }
          ],
          "contour": [
           {
            "colorbar": {
             "outlinewidth": 0,
             "ticks": ""
            },
            "colorscale": [
             [
              0,
              "#0d0887"
             ],
             [
              0.1111111111111111,
              "#46039f"
             ],
             [
              0.2222222222222222,
              "#7201a8"
             ],
             [
              0.3333333333333333,
              "#9c179e"
             ],
             [
              0.4444444444444444,
              "#bd3786"
             ],
             [
              0.5555555555555556,
              "#d8576b"
             ],
             [
              0.6666666666666666,
              "#ed7953"
             ],
             [
              0.7777777777777778,
              "#fb9f3a"
             ],
             [
              0.8888888888888888,
              "#fdca26"
             ],
             [
              1,
              "#f0f921"
             ]
            ],
            "type": "contour"
           }
          ],
          "contourcarpet": [
           {
            "colorbar": {
             "outlinewidth": 0,
             "ticks": ""
            },
            "type": "contourcarpet"
           }
          ],
          "heatmap": [
           {
            "colorbar": {
             "outlinewidth": 0,
             "ticks": ""
            },
            "colorscale": [
             [
              0,
              "#0d0887"
             ],
             [
              0.1111111111111111,
              "#46039f"
             ],
             [
              0.2222222222222222,
              "#7201a8"
             ],
             [
              0.3333333333333333,
              "#9c179e"
             ],
             [
              0.4444444444444444,
              "#bd3786"
             ],
             [
              0.5555555555555556,
              "#d8576b"
             ],
             [
              0.6666666666666666,
              "#ed7953"
             ],
             [
              0.7777777777777778,
              "#fb9f3a"
             ],
             [
              0.8888888888888888,
              "#fdca26"
             ],
             [
              1,
              "#f0f921"
             ]
            ],
            "type": "heatmap"
           }
          ],
          "heatmapgl": [
           {
            "colorbar": {
             "outlinewidth": 0,
             "ticks": ""
            },
            "colorscale": [
             [
              0,
              "#0d0887"
             ],
             [
              0.1111111111111111,
              "#46039f"
             ],
             [
              0.2222222222222222,
              "#7201a8"
             ],
             [
              0.3333333333333333,
              "#9c179e"
             ],
             [
              0.4444444444444444,
              "#bd3786"
             ],
             [
              0.5555555555555556,
              "#d8576b"
             ],
             [
              0.6666666666666666,
              "#ed7953"
             ],
             [
              0.7777777777777778,
              "#fb9f3a"
             ],
             [
              0.8888888888888888,
              "#fdca26"
             ],
             [
              1,
              "#f0f921"
             ]
            ],
            "type": "heatmapgl"
           }
          ],
          "histogram": [
           {
            "marker": {
             "colorbar": {
              "outlinewidth": 0,
              "ticks": ""
             }
            },
            "type": "histogram"
           }
          ],
          "histogram2d": [
           {
            "colorbar": {
             "outlinewidth": 0,
             "ticks": ""
            },
            "colorscale": [
             [
              0,
              "#0d0887"
             ],
             [
              0.1111111111111111,
              "#46039f"
             ],
             [
              0.2222222222222222,
              "#7201a8"
             ],
             [
              0.3333333333333333,
              "#9c179e"
             ],
             [
              0.4444444444444444,
              "#bd3786"
             ],
             [
              0.5555555555555556,
              "#d8576b"
             ],
             [
              0.6666666666666666,
              "#ed7953"
             ],
             [
              0.7777777777777778,
              "#fb9f3a"
             ],
             [
              0.8888888888888888,
              "#fdca26"
             ],
             [
              1,
              "#f0f921"
             ]
            ],
            "type": "histogram2d"
           }
          ],
          "histogram2dcontour": [
           {
            "colorbar": {
             "outlinewidth": 0,
             "ticks": ""
            },
            "colorscale": [
             [
              0,
              "#0d0887"
             ],
             [
              0.1111111111111111,
              "#46039f"
             ],
             [
              0.2222222222222222,
              "#7201a8"
             ],
             [
              0.3333333333333333,
              "#9c179e"
             ],
             [
              0.4444444444444444,
              "#bd3786"
             ],
             [
              0.5555555555555556,
              "#d8576b"
             ],
             [
              0.6666666666666666,
              "#ed7953"
             ],
             [
              0.7777777777777778,
              "#fb9f3a"
             ],
             [
              0.8888888888888888,
              "#fdca26"
             ],
             [
              1,
              "#f0f921"
             ]
            ],
            "type": "histogram2dcontour"
           }
          ],
          "mesh3d": [
           {
            "colorbar": {
             "outlinewidth": 0,
             "ticks": ""
            },
            "type": "mesh3d"
           }
          ],
          "parcoords": [
           {
            "line": {
             "colorbar": {
              "outlinewidth": 0,
              "ticks": ""
             }
            },
            "type": "parcoords"
           }
          ],
          "pie": [
           {
            "automargin": true,
            "type": "pie"
           }
          ],
          "scatter": [
           {
            "marker": {
             "colorbar": {
              "outlinewidth": 0,
              "ticks": ""
             }
            },
            "type": "scatter"
           }
          ],
          "scatter3d": [
           {
            "line": {
             "colorbar": {
              "outlinewidth": 0,
              "ticks": ""
             }
            },
            "marker": {
             "colorbar": {
              "outlinewidth": 0,
              "ticks": ""
             }
            },
            "type": "scatter3d"
           }
          ],
          "scattercarpet": [
           {
            "marker": {
             "colorbar": {
              "outlinewidth": 0,
              "ticks": ""
             }
            },
            "type": "scattercarpet"
           }
          ],
          "scattergeo": [
           {
            "marker": {
             "colorbar": {
              "outlinewidth": 0,
              "ticks": ""
             }
            },
            "type": "scattergeo"
           }
          ],
          "scattergl": [
           {
            "marker": {
             "colorbar": {
              "outlinewidth": 0,
              "ticks": ""
             }
            },
            "type": "scattergl"
           }
          ],
          "scattermapbox": [
           {
            "marker": {
             "colorbar": {
              "outlinewidth": 0,
              "ticks": ""
             }
            },
            "type": "scattermapbox"
           }
          ],
          "scatterpolar": [
           {
            "marker": {
             "colorbar": {
              "outlinewidth": 0,
              "ticks": ""
             }
            },
            "type": "scatterpolar"
           }
          ],
          "scatterpolargl": [
           {
            "marker": {
             "colorbar": {
              "outlinewidth": 0,
              "ticks": ""
             }
            },
            "type": "scatterpolargl"
           }
          ],
          "scatterternary": [
           {
            "marker": {
             "colorbar": {
              "outlinewidth": 0,
              "ticks": ""
             }
            },
            "type": "scatterternary"
           }
          ],
          "surface": [
           {
            "colorbar": {
             "outlinewidth": 0,
             "ticks": ""
            },
            "colorscale": [
             [
              0,
              "#0d0887"
             ],
             [
              0.1111111111111111,
              "#46039f"
             ],
             [
              0.2222222222222222,
              "#7201a8"
             ],
             [
              0.3333333333333333,
              "#9c179e"
             ],
             [
              0.4444444444444444,
              "#bd3786"
             ],
             [
              0.5555555555555556,
              "#d8576b"
             ],
             [
              0.6666666666666666,
              "#ed7953"
             ],
             [
              0.7777777777777778,
              "#fb9f3a"
             ],
             [
              0.8888888888888888,
              "#fdca26"
             ],
             [
              1,
              "#f0f921"
             ]
            ],
            "type": "surface"
           }
          ],
          "table": [
           {
            "cells": {
             "fill": {
              "color": "#EBF0F8"
             },
             "line": {
              "color": "white"
             }
            },
            "header": {
             "fill": {
              "color": "#C8D4E3"
             },
             "line": {
              "color": "white"
             }
            },
            "type": "table"
           }
          ]
         },
         "layout": {
          "annotationdefaults": {
           "arrowcolor": "#2a3f5f",
           "arrowhead": 0,
           "arrowwidth": 1
          },
          "autotypenumbers": "strict",
          "coloraxis": {
           "colorbar": {
            "outlinewidth": 0,
            "ticks": ""
           }
          },
          "colorscale": {
           "diverging": [
            [
             0,
             "#8e0152"
            ],
            [
             0.1,
             "#c51b7d"
            ],
            [
             0.2,
             "#de77ae"
            ],
            [
             0.3,
             "#f1b6da"
            ],
            [
             0.4,
             "#fde0ef"
            ],
            [
             0.5,
             "#f7f7f7"
            ],
            [
             0.6,
             "#e6f5d0"
            ],
            [
             0.7,
             "#b8e186"
            ],
            [
             0.8,
             "#7fbc41"
            ],
            [
             0.9,
             "#4d9221"
            ],
            [
             1,
             "#276419"
            ]
           ],
           "sequential": [
            [
             0,
             "#0d0887"
            ],
            [
             0.1111111111111111,
             "#46039f"
            ],
            [
             0.2222222222222222,
             "#7201a8"
            ],
            [
             0.3333333333333333,
             "#9c179e"
            ],
            [
             0.4444444444444444,
             "#bd3786"
            ],
            [
             0.5555555555555556,
             "#d8576b"
            ],
            [
             0.6666666666666666,
             "#ed7953"
            ],
            [
             0.7777777777777778,
             "#fb9f3a"
            ],
            [
             0.8888888888888888,
             "#fdca26"
            ],
            [
             1,
             "#f0f921"
            ]
           ],
           "sequentialminus": [
            [
             0,
             "#0d0887"
            ],
            [
             0.1111111111111111,
             "#46039f"
            ],
            [
             0.2222222222222222,
             "#7201a8"
            ],
            [
             0.3333333333333333,
             "#9c179e"
            ],
            [
             0.4444444444444444,
             "#bd3786"
            ],
            [
             0.5555555555555556,
             "#d8576b"
            ],
            [
             0.6666666666666666,
             "#ed7953"
            ],
            [
             0.7777777777777778,
             "#fb9f3a"
            ],
            [
             0.8888888888888888,
             "#fdca26"
            ],
            [
             1,
             "#f0f921"
            ]
           ]
          },
          "colorway": [
           "#636efa",
           "#EF553B",
           "#00cc96",
           "#ab63fa",
           "#FFA15A",
           "#19d3f3",
           "#FF6692",
           "#B6E880",
           "#FF97FF",
           "#FECB52"
          ],
          "font": {
           "color": "#2a3f5f"
          },
          "geo": {
           "bgcolor": "white",
           "lakecolor": "white",
           "landcolor": "#E5ECF6",
           "showlakes": true,
           "showland": true,
           "subunitcolor": "white"
          },
          "hoverlabel": {
           "align": "left"
          },
          "hovermode": "closest",
          "mapbox": {
           "style": "light"
          },
          "paper_bgcolor": "white",
          "plot_bgcolor": "#E5ECF6",
          "polar": {
           "angularaxis": {
            "gridcolor": "white",
            "linecolor": "white",
            "ticks": ""
           },
           "bgcolor": "#E5ECF6",
           "radialaxis": {
            "gridcolor": "white",
            "linecolor": "white",
            "ticks": ""
           }
          },
          "scene": {
           "xaxis": {
            "backgroundcolor": "#E5ECF6",
            "gridcolor": "white",
            "gridwidth": 2,
            "linecolor": "white",
            "showbackground": true,
            "ticks": "",
            "zerolinecolor": "white"
           },
           "yaxis": {
            "backgroundcolor": "#E5ECF6",
            "gridcolor": "white",
            "gridwidth": 2,
            "linecolor": "white",
            "showbackground": true,
            "ticks": "",
            "zerolinecolor": "white"
           },
           "zaxis": {
            "backgroundcolor": "#E5ECF6",
            "gridcolor": "white",
            "gridwidth": 2,
            "linecolor": "white",
            "showbackground": true,
            "ticks": "",
            "zerolinecolor": "white"
           }
          },
          "shapedefaults": {
           "line": {
            "color": "#2a3f5f"
           }
          },
          "ternary": {
           "aaxis": {
            "gridcolor": "white",
            "linecolor": "white",
            "ticks": ""
           },
           "baxis": {
            "gridcolor": "white",
            "linecolor": "white",
            "ticks": ""
           },
           "bgcolor": "#E5ECF6",
           "caxis": {
            "gridcolor": "white",
            "linecolor": "white",
            "ticks": ""
           }
          },
          "title": {
           "x": 0.05
          },
          "xaxis": {
           "automargin": true,
           "gridcolor": "white",
           "linecolor": "white",
           "ticks": "",
           "title": {
            "standoff": 15
           },
           "zerolinecolor": "white",
           "zerolinewidth": 2
          },
          "yaxis": {
           "automargin": true,
           "gridcolor": "white",
           "linecolor": "white",
           "ticks": "",
           "title": {
            "standoff": 15
           },
           "zerolinecolor": "white",
           "zerolinewidth": 2
          }
         }
        },
        "xaxis": {
         "anchor": "y",
         "domain": [
          0,
          0.31999999999999995
         ],
         "title": {
          "text": "Inspect_Rate"
         }
        },
        "xaxis2": {
         "anchor": "y2",
         "domain": [
          0.33999999999999997,
          0.6599999999999999
         ],
         "matches": "x",
         "title": {
          "text": "Inspect_Rate"
         }
        },
        "xaxis3": {
         "anchor": "y3",
         "domain": [
          0.6799999999999999,
          0.9999999999999999
         ],
         "matches": "x",
         "title": {
          "text": "Inspect_Rate"
         }
        },
        "yaxis": {
         "anchor": "x",
         "domain": [
          0,
          1
         ],
         "title": {
          "text": "value"
         }
        },
        "yaxis2": {
         "anchor": "x2",
         "domain": [
          0,
          1
         ],
         "matches": "y",
         "showticklabels": false
        },
        "yaxis3": {
         "anchor": "x3",
         "domain": [
          0,
          1
         ],
         "matches": "y",
         "showticklabels": false
        }
       }
      },
      "text/html": [
       "<div>                            <div id=\"5b9fe859-244b-484b-8acc-e96eac355014\" class=\"plotly-graph-div\" style=\"height:525px; width:100%;\"></div>            <script type=\"text/javascript\">                require([\"plotly\"], function(Plotly) {                    window.PLOTLYENV=window.PLOTLYENV || {};                                    if (document.getElementById(\"5b9fe859-244b-484b-8acc-e96eac355014\")) {                    Plotly.newPlot(                        \"5b9fe859-244b-484b-8acc-e96eac355014\",                        [{\"hovertemplate\": \"variable=Recall<br>Inspect_Rate=%{x}<br>value=%{y}<extra></extra>\", \"legendgroup\": \"Recall\", \"line\": {\"color\": \"#636efa\", \"dash\": \"solid\"}, \"mode\": \"lines\", \"name\": \"Recall\", \"orientation\": \"v\", \"showlegend\": true, \"type\": \"scatter\", \"x\": [99, 98, 97, 96, 95, 94, 93, 92, 91, 90, 89, 88, 87, 86, 85, 84, 83, 82, 81, 80, 79, 78, 77, 76, 75, 74, 73, 72, 71, 70, 69, 68, 67, 66, 65, 64, 63, 62, 61, 60, 59, 58, 57, 56, 55, 54, 53, 52, 51, 50, 49, 48, 47, 46, 45, 44, 43, 42, 41, 40, 39, 38, 37, 36, 35, 34, 33, 32, 31, 30, 29, 28, 27, 26, 25, 24, 23, 22, 21, 20, 19, 18, 17, 16, 15, 14, 13, 12, 11, 10, 9, 8, 7, 6, 5, 4, 3, 2, 1], \"xaxis\": \"x\", \"y\": [1.0, 0.9997983464408147, 0.999395039322444, 0.9987900786448881, 0.9979834644081468, 0.9975801572897761, 0.9967735430530349, 0.9953619681387377, 0.9933454325468845, 0.9911272433958459, 0.9876991328896955, 0.9844726759427304, 0.9790280298447268, 0.9758015728977616, 0.9709618874773139, 0.9624924379915305, 0.957047791893527, 0.9509981851179673, 0.9453518854607784, 0.936277475297439, 0.9270014115749143, 0.9187336156483162, 0.9088525912482356, 0.8991732204073402, 0.8909054244807421, 0.8828392821133293, 0.8729582577132486, 0.8648921153458359, 0.8554143980641258, 0.8465416414599718, 0.8356523492639645, 0.827182899778181, 0.8173018753781004, 0.8110506150433555, 0.8015728977616455, 0.7924984875983061, 0.7818108489614841, 0.7705182496471062, 0.7604355716878403, 0.753377697116354, 0.7465214761040533, 0.7382536801774552, 0.7309941520467836, 0.720508166969147, 0.7136519459568461, 0.7051824964710627, 0.6957047791893527, 0.6868320225851986, 0.6781609195402298, 0.6688848558177052, 0.6604154063319218, 0.6519459568461383, 0.6434765073603549, 0.6348054043153861, 0.6249243799153055, 0.6162532768703367, 0.6059689453518855, 0.5946763460375075, 0.5809639040129059, 0.5670498084291188, 0.5587820125025207, 0.5493042952208107, 0.5376083887880622, 0.5265174430328695, 0.5168380721919742, 0.5071587013510789, 0.4932446057672918, 0.48114539221617264, 0.4698527929017947, 0.4563420044363783, 0.4444444444444444, 0.4295220810647308, 0.41701956039524096, 0.4057269610808631, 0.39120790481952006, 0.3781004234724743, 0.36358136721113127, 0.34825569671304696, 0.33534986892518653, 0.3218390804597701, 0.30550514216575925, 0.29159104658197216, 0.2720306513409962, 0.25327687033676144, 0.23613631780600927, 0.2222222222222222, 0.2064932446057673, 0.1913692276668683, 0.17281710022181893, 0.16071788667069975, 0.15063520871143377, 0.13430127041742287, 0.12220205686630368, 0.10627142569066345, 0.09155071587013511, 0.07461181689856826, 0.06110102843315184, 0.045573704375882235, 0.030046380318612623], \"yaxis\": \"y\"}, {\"hovertemplate\": \"variable=Precision<br>Inspect_Rate=%{x}<br>value=%{y}<extra></extra>\", \"legendgroup\": \"Precision\", \"line\": {\"color\": \"#EF553B\", \"dash\": \"solid\"}, \"mode\": \"lines\", \"name\": \"Precision\", \"orientation\": \"v\", \"showlegend\": true, \"type\": \"scatter\", \"x\": [99, 98, 97, 96, 95, 94, 93, 92, 91, 90, 89, 88, 87, 86, 85, 84, 83, 82, 81, 80, 79, 78, 77, 76, 75, 74, 73, 72, 71, 70, 69, 68, 67, 66, 65, 64, 63, 62, 61, 60, 59, 58, 57, 56, 55, 54, 53, 52, 51, 50, 49, 48, 47, 46, 45, 44, 43, 42, 41, 40, 39, 38, 37, 36, 35, 34, 33, 32, 31, 30, 29, 28, 27, 26, 25, 24, 23, 22, 21, 20, 19, 18, 17, 16, 15, 14, 13, 12, 11, 10, 9, 8, 7, 6, 5, 4, 3, 2, 1], \"xaxis\": \"x2\", \"y\": [0.03648872374084838, 0.03685368536853685, 0.037218663402398634, 0.0375842287379348, 0.03795012575915588, 0.03833665269178013, 0.03871761130432058, 0.03908340855464234, 0.03943229029081914, 0.03978146499392958, 0.04008937852459955, 0.04041256912022781, 0.04065108723865663, 0.0409879805859782, 0.04126459043929863, 0.04139276732286879, 0.0416535018430753, 0.04189467699523843, 0.04216016907235037, 0.04227750359672925, 0.04239327904681981, 0.042548820008031604, 0.04263793233936275, 0.04273938464487683, 0.042910701451077136, 0.04309691391445587, 0.04319798828495305, 0.04339336301092675, 0.043522422973929636, 0.04368684503553849, 0.04374953811720738, 0.043942623916699695, 0.04406584326346003, 0.04439195602746076, 0.044547298584572625, 0.044731270914430105, 0.04482858299127016, 0.044893787010057334, 0.04503278042489163, 0.04535797103208809, 0.04570708941403067, 0.045980331822006754, 0.04632706267252837, 0.04647744419584786, 0.04687230970954796, 0.04717452009335078, 0.04741811784433113, 0.047713104994046365, 0.048034622636119524, 0.04832529611445388, 0.048687301162548685, 0.049064392272320276, 0.04946213225036426, 0.04985114334579084, 0.05016592472683124, 0.05059435118042449, 0.050906318820938504, 0.051147302148915136, 0.05118683817781252, 0.05121014004479977, 0.05175859685824757, 0.05221791971782387, 0.0524875474967023, 0.0528328611898017, 0.053346931979019234, 0.05388554410472864, 0.05399320118317072, 0.05431491725283981, 0.05475138640849704, 0.054948523698523696, 0.05536158348195223, 0.05541391331494875, 0.05579387562390395, 0.05636959627938251, 0.05652680652680653, 0.05690958205602938, 0.057103946284917974, 0.05718353696897454, 0.05768496999549065, 0.05812937062937063, 0.058083809377755626, 0.0585188182921894, 0.05780272516925186, 0.057181880264056455, 0.05686674436674437, 0.057339091524012696, 0.05737658990306494, 0.05760592448707053, 0.05675120852923647, 0.05805652680652681, 0.06046135167948199, 0.060639169625785305, 0.06305931321540062, 0.06397960422483914, 0.06614219114219114, 0.06737072104879825, 0.07356154406409322, 0.08230152949745084, 0.10852148579752367], \"yaxis\": \"y2\"}, {\"hovertemplate\": \"variable=Seized_Revenue<br>Inspect_Rate=%{x}<br>value=%{y}<extra></extra>\", \"legendgroup\": \"Seized_Revenue\", \"line\": {\"color\": \"#00cc96\", \"dash\": \"solid\"}, \"mode\": \"lines\", \"name\": \"Seized_Revenue\", \"orientation\": \"v\", \"showlegend\": true, \"type\": \"scatter\", \"x\": [99, 98, 97, 96, 95, 94, 93, 92, 91, 90, 89, 88, 87, 86, 85, 84, 83, 82, 81, 80, 79, 78, 77, 76, 75, 74, 73, 72, 71, 70, 69, 68, 67, 66, 65, 64, 63, 62, 61, 60, 59, 58, 57, 56, 55, 54, 53, 52, 51, 50, 49, 48, 47, 46, 45, 44, 43, 42, 41, 40, 39, 38, 37, 36, 35, 34, 33, 32, 31, 30, 29, 28, 27, 26, 25, 24, 23, 22, 21, 20, 19, 18, 17, 16, 15, 14, 13, 12, 11, 10, 9, 8, 7, 6, 5, 4, 3, 2, 1], \"xaxis\": \"x3\", \"y\": [1.0, 0.9999665189221908, 0.9999029000638534, 0.9997577312096021, 0.9995415714062458, 0.9990994023014276, 0.9980986499994081, 0.997610660885088, 0.9960178803868054, 0.9953569297563024, 0.9938185560094601, 0.9921572980481583, 0.9908435265316201, 0.9898242057008153, 0.9877789616283883, 0.9856644824392411, 0.9839870010677508, 0.9832449694650531, 0.9824004261140623, 0.9815080663962003, 0.9808196959174913, 0.9800605509621632, 0.9787500986904075, 0.977753050473146, 0.9768046364077019, 0.973641877179645, 0.971916158522561, 0.9691950632968557, 0.9654337335929642, 0.9641003953689563, 0.9547679057170926, 0.9540955662285843, 0.9523077319943144, 0.9509347312004015, 0.9486096603612836, 0.9464301432163921, 0.941899325982849, 0.9399458061131701, 0.9385170155491576, 0.9380436142751325, 0.9370257005154857, 0.9353910927224405, 0.9334534354754737, 0.9310006578959618, 0.9298326685723846, 0.9286478304736601, 0.9259555982460664, 0.9199694364902482, 0.9187822652991763, 0.9171404417566027, 0.9154290704148299, 0.9141226108578135, 0.9125957101527202, 0.9117321412754749, 0.9038689706474723, 0.9017952243644101, 0.8990936477411776, 0.8962974004841395, 0.8893447973153076, 0.8853063226982997, 0.8826766750716107, 0.8807433953793575, 0.8771795006087978, 0.8705551539122366, 0.8556788159243641, 0.850118888493157, 0.8444590590097371, 0.8394567045707977, 0.8355166527773501, 0.8321989112756841, 0.8281697570018166, 0.8200742151865186, 0.8040734950547156, 0.7962010161098215, 0.7888390153652763, 0.7821973628960982, 0.7731833523758963, 0.7645667612871907, 0.7568011115140569, 0.750006364892396, 0.7340353135174017, 0.7240423783375022, 0.7087936595689954, 0.6964454075332062, 0.5991570922189018, 0.5946338755748615, 0.5595136921553192, 0.5477060200216599, 0.5106215171606452, 0.487250534251088, 0.47962613277496213, 0.46103795309871, 0.4370522484606245, 0.42122180799142983, 0.38772278701831275, 0.3723062900470334, 0.3521048972750859, 0.3320817335164767, 0.24469277713694562], \"yaxis\": \"y3\"}],                        {\"annotations\": [{\"font\": {}, \"showarrow\": false, \"text\": \"variable=Recall\", \"x\": 0.15999999999999998, \"xanchor\": \"center\", \"xref\": \"paper\", \"y\": 1.0, \"yanchor\": \"bottom\", \"yref\": \"paper\"}, {\"font\": {}, \"showarrow\": false, \"text\": \"variable=Precision\", \"x\": 0.49999999999999994, \"xanchor\": \"center\", \"xref\": \"paper\", \"y\": 1.0, \"yanchor\": \"bottom\", \"yref\": \"paper\"}, {\"font\": {}, \"showarrow\": false, \"text\": \"variable=Seized_Revenue\", \"x\": 0.8399999999999999, \"xanchor\": \"center\", \"xref\": \"paper\", \"y\": 1.0, \"yanchor\": \"bottom\", \"yref\": \"paper\"}], \"legend\": {\"title\": {\"text\": \"variable\"}, \"tracegroupgap\": 0}, \"margin\": {\"t\": 60}, \"template\": {\"data\": {\"bar\": [{\"error_x\": {\"color\": \"#2a3f5f\"}, \"error_y\": {\"color\": \"#2a3f5f\"}, \"marker\": {\"line\": {\"color\": \"#E5ECF6\", \"width\": 0.5}}, \"type\": \"bar\"}], \"barpolar\": [{\"marker\": {\"line\": {\"color\": \"#E5ECF6\", \"width\": 0.5}}, \"type\": \"barpolar\"}], \"carpet\": [{\"aaxis\": {\"endlinecolor\": \"#2a3f5f\", \"gridcolor\": \"white\", \"linecolor\": \"white\", \"minorgridcolor\": \"white\", \"startlinecolor\": \"#2a3f5f\"}, \"baxis\": {\"endlinecolor\": \"#2a3f5f\", \"gridcolor\": \"white\", \"linecolor\": \"white\", \"minorgridcolor\": \"white\", \"startlinecolor\": \"#2a3f5f\"}, \"type\": \"carpet\"}], \"choropleth\": [{\"colorbar\": {\"outlinewidth\": 0, \"ticks\": \"\"}, \"type\": \"choropleth\"}], \"contour\": [{\"colorbar\": {\"outlinewidth\": 0, \"ticks\": \"\"}, \"colorscale\": [[0.0, \"#0d0887\"], [0.1111111111111111, \"#46039f\"], [0.2222222222222222, \"#7201a8\"], [0.3333333333333333, \"#9c179e\"], [0.4444444444444444, \"#bd3786\"], [0.5555555555555556, \"#d8576b\"], [0.6666666666666666, \"#ed7953\"], [0.7777777777777778, \"#fb9f3a\"], [0.8888888888888888, \"#fdca26\"], [1.0, \"#f0f921\"]], \"type\": \"contour\"}], \"contourcarpet\": [{\"colorbar\": {\"outlinewidth\": 0, \"ticks\": \"\"}, \"type\": \"contourcarpet\"}], \"heatmap\": [{\"colorbar\": {\"outlinewidth\": 0, \"ticks\": \"\"}, \"colorscale\": [[0.0, \"#0d0887\"], [0.1111111111111111, \"#46039f\"], [0.2222222222222222, \"#7201a8\"], [0.3333333333333333, \"#9c179e\"], [0.4444444444444444, \"#bd3786\"], [0.5555555555555556, \"#d8576b\"], [0.6666666666666666, \"#ed7953\"], [0.7777777777777778, \"#fb9f3a\"], [0.8888888888888888, \"#fdca26\"], [1.0, \"#f0f921\"]], \"type\": \"heatmap\"}], \"heatmapgl\": [{\"colorbar\": {\"outlinewidth\": 0, \"ticks\": \"\"}, \"colorscale\": [[0.0, \"#0d0887\"], [0.1111111111111111, \"#46039f\"], [0.2222222222222222, \"#7201a8\"], [0.3333333333333333, \"#9c179e\"], [0.4444444444444444, \"#bd3786\"], [0.5555555555555556, \"#d8576b\"], [0.6666666666666666, \"#ed7953\"], [0.7777777777777778, \"#fb9f3a\"], [0.8888888888888888, \"#fdca26\"], [1.0, \"#f0f921\"]], \"type\": \"heatmapgl\"}], \"histogram\": [{\"marker\": {\"colorbar\": {\"outlinewidth\": 0, \"ticks\": \"\"}}, \"type\": \"histogram\"}], \"histogram2d\": [{\"colorbar\": {\"outlinewidth\": 0, \"ticks\": \"\"}, \"colorscale\": [[0.0, \"#0d0887\"], [0.1111111111111111, \"#46039f\"], [0.2222222222222222, \"#7201a8\"], [0.3333333333333333, \"#9c179e\"], [0.4444444444444444, \"#bd3786\"], [0.5555555555555556, \"#d8576b\"], [0.6666666666666666, \"#ed7953\"], [0.7777777777777778, \"#fb9f3a\"], [0.8888888888888888, \"#fdca26\"], [1.0, \"#f0f921\"]], \"type\": \"histogram2d\"}], \"histogram2dcontour\": [{\"colorbar\": {\"outlinewidth\": 0, \"ticks\": \"\"}, \"colorscale\": [[0.0, \"#0d0887\"], [0.1111111111111111, \"#46039f\"], [0.2222222222222222, \"#7201a8\"], [0.3333333333333333, \"#9c179e\"], [0.4444444444444444, \"#bd3786\"], [0.5555555555555556, \"#d8576b\"], [0.6666666666666666, \"#ed7953\"], [0.7777777777777778, \"#fb9f3a\"], [0.8888888888888888, \"#fdca26\"], [1.0, \"#f0f921\"]], \"type\": \"histogram2dcontour\"}], \"mesh3d\": [{\"colorbar\": {\"outlinewidth\": 0, \"ticks\": \"\"}, \"type\": \"mesh3d\"}], \"parcoords\": [{\"line\": {\"colorbar\": {\"outlinewidth\": 0, \"ticks\": \"\"}}, \"type\": \"parcoords\"}], \"pie\": [{\"automargin\": true, \"type\": \"pie\"}], \"scatter\": [{\"marker\": {\"colorbar\": {\"outlinewidth\": 0, \"ticks\": \"\"}}, \"type\": \"scatter\"}], \"scatter3d\": [{\"line\": {\"colorbar\": {\"outlinewidth\": 0, \"ticks\": \"\"}}, \"marker\": {\"colorbar\": {\"outlinewidth\": 0, \"ticks\": \"\"}}, \"type\": \"scatter3d\"}], \"scattercarpet\": [{\"marker\": {\"colorbar\": {\"outlinewidth\": 0, \"ticks\": \"\"}}, \"type\": \"scattercarpet\"}], \"scattergeo\": [{\"marker\": {\"colorbar\": {\"outlinewidth\": 0, \"ticks\": \"\"}}, \"type\": \"scattergeo\"}], \"scattergl\": [{\"marker\": {\"colorbar\": {\"outlinewidth\": 0, \"ticks\": \"\"}}, \"type\": \"scattergl\"}], \"scattermapbox\": [{\"marker\": {\"colorbar\": {\"outlinewidth\": 0, \"ticks\": \"\"}}, \"type\": \"scattermapbox\"}], \"scatterpolar\": [{\"marker\": {\"colorbar\": {\"outlinewidth\": 0, \"ticks\": \"\"}}, \"type\": \"scatterpolar\"}], \"scatterpolargl\": [{\"marker\": {\"colorbar\": {\"outlinewidth\": 0, \"ticks\": \"\"}}, \"type\": \"scatterpolargl\"}], \"scatterternary\": [{\"marker\": {\"colorbar\": {\"outlinewidth\": 0, \"ticks\": \"\"}}, \"type\": \"scatterternary\"}], \"surface\": [{\"colorbar\": {\"outlinewidth\": 0, \"ticks\": \"\"}, \"colorscale\": [[0.0, \"#0d0887\"], [0.1111111111111111, \"#46039f\"], [0.2222222222222222, \"#7201a8\"], [0.3333333333333333, \"#9c179e\"], [0.4444444444444444, \"#bd3786\"], [0.5555555555555556, \"#d8576b\"], [0.6666666666666666, \"#ed7953\"], [0.7777777777777778, \"#fb9f3a\"], [0.8888888888888888, \"#fdca26\"], [1.0, \"#f0f921\"]], \"type\": \"surface\"}], \"table\": [{\"cells\": {\"fill\": {\"color\": \"#EBF0F8\"}, \"line\": {\"color\": \"white\"}}, \"header\": {\"fill\": {\"color\": \"#C8D4E3\"}, \"line\": {\"color\": \"white\"}}, \"type\": \"table\"}]}, \"layout\": {\"annotationdefaults\": {\"arrowcolor\": \"#2a3f5f\", \"arrowhead\": 0, \"arrowwidth\": 1}, \"autotypenumbers\": \"strict\", \"coloraxis\": {\"colorbar\": {\"outlinewidth\": 0, \"ticks\": \"\"}}, \"colorscale\": {\"diverging\": [[0, \"#8e0152\"], [0.1, \"#c51b7d\"], [0.2, \"#de77ae\"], [0.3, \"#f1b6da\"], [0.4, \"#fde0ef\"], [0.5, \"#f7f7f7\"], [0.6, \"#e6f5d0\"], [0.7, \"#b8e186\"], [0.8, \"#7fbc41\"], [0.9, \"#4d9221\"], [1, \"#276419\"]], \"sequential\": [[0.0, \"#0d0887\"], [0.1111111111111111, \"#46039f\"], [0.2222222222222222, \"#7201a8\"], [0.3333333333333333, \"#9c179e\"], [0.4444444444444444, \"#bd3786\"], [0.5555555555555556, \"#d8576b\"], [0.6666666666666666, \"#ed7953\"], [0.7777777777777778, \"#fb9f3a\"], [0.8888888888888888, \"#fdca26\"], [1.0, \"#f0f921\"]], \"sequentialminus\": [[0.0, \"#0d0887\"], [0.1111111111111111, \"#46039f\"], [0.2222222222222222, \"#7201a8\"], [0.3333333333333333, \"#9c179e\"], [0.4444444444444444, \"#bd3786\"], [0.5555555555555556, \"#d8576b\"], [0.6666666666666666, \"#ed7953\"], [0.7777777777777778, \"#fb9f3a\"], [0.8888888888888888, \"#fdca26\"], [1.0, \"#f0f921\"]]}, \"colorway\": [\"#636efa\", \"#EF553B\", \"#00cc96\", \"#ab63fa\", \"#FFA15A\", \"#19d3f3\", \"#FF6692\", \"#B6E880\", \"#FF97FF\", \"#FECB52\"], \"font\": {\"color\": \"#2a3f5f\"}, \"geo\": {\"bgcolor\": \"white\", \"lakecolor\": \"white\", \"landcolor\": \"#E5ECF6\", \"showlakes\": true, \"showland\": true, \"subunitcolor\": \"white\"}, \"hoverlabel\": {\"align\": \"left\"}, \"hovermode\": \"closest\", \"mapbox\": {\"style\": \"light\"}, \"paper_bgcolor\": \"white\", \"plot_bgcolor\": \"#E5ECF6\", \"polar\": {\"angularaxis\": {\"gridcolor\": \"white\", \"linecolor\": \"white\", \"ticks\": \"\"}, \"bgcolor\": \"#E5ECF6\", \"radialaxis\": {\"gridcolor\": \"white\", \"linecolor\": \"white\", \"ticks\": \"\"}}, \"scene\": {\"xaxis\": {\"backgroundcolor\": \"#E5ECF6\", \"gridcolor\": \"white\", \"gridwidth\": 2, \"linecolor\": \"white\", \"showbackground\": true, \"ticks\": \"\", \"zerolinecolor\": \"white\"}, \"yaxis\": {\"backgroundcolor\": \"#E5ECF6\", \"gridcolor\": \"white\", \"gridwidth\": 2, \"linecolor\": \"white\", \"showbackground\": true, \"ticks\": \"\", \"zerolinecolor\": \"white\"}, \"zaxis\": {\"backgroundcolor\": \"#E5ECF6\", \"gridcolor\": \"white\", \"gridwidth\": 2, \"linecolor\": \"white\", \"showbackground\": true, \"ticks\": \"\", \"zerolinecolor\": \"white\"}}, \"shapedefaults\": {\"line\": {\"color\": \"#2a3f5f\"}}, \"ternary\": {\"aaxis\": {\"gridcolor\": \"white\", \"linecolor\": \"white\", \"ticks\": \"\"}, \"baxis\": {\"gridcolor\": \"white\", \"linecolor\": \"white\", \"ticks\": \"\"}, \"bgcolor\": \"#E5ECF6\", \"caxis\": {\"gridcolor\": \"white\", \"linecolor\": \"white\", \"ticks\": \"\"}}, \"title\": {\"x\": 0.05}, \"xaxis\": {\"automargin\": true, \"gridcolor\": \"white\", \"linecolor\": \"white\", \"ticks\": \"\", \"title\": {\"standoff\": 15}, \"zerolinecolor\": \"white\", \"zerolinewidth\": 2}, \"yaxis\": {\"automargin\": true, \"gridcolor\": \"white\", \"linecolor\": \"white\", \"ticks\": \"\", \"title\": {\"standoff\": 15}, \"zerolinecolor\": \"white\", \"zerolinewidth\": 2}}}, \"xaxis\": {\"anchor\": \"y\", \"domain\": [0.0, 0.31999999999999995], \"title\": {\"text\": \"Inspect_Rate\"}}, \"xaxis2\": {\"anchor\": \"y2\", \"domain\": [0.33999999999999997, 0.6599999999999999], \"matches\": \"x\", \"title\": {\"text\": \"Inspect_Rate\"}}, \"xaxis3\": {\"anchor\": \"y3\", \"domain\": [0.6799999999999999, 0.9999999999999999], \"matches\": \"x\", \"title\": {\"text\": \"Inspect_Rate\"}}, \"yaxis\": {\"anchor\": \"x\", \"domain\": [0.0, 1.0], \"title\": {\"text\": \"value\"}}, \"yaxis2\": {\"anchor\": \"x2\", \"domain\": [0.0, 1.0], \"matches\": \"y\", \"showticklabels\": false}, \"yaxis3\": {\"anchor\": \"x3\", \"domain\": [0.0, 1.0], \"matches\": \"y\", \"showticklabels\": false}},                        {\"responsive\": true}                    ).then(function(){\n",
       "                            \n",
       "var gd = document.getElementById('5b9fe859-244b-484b-8acc-e96eac355014');\n",
       "var x = new MutationObserver(function (mutations, observer) {{\n",
       "        var display = window.getComputedStyle(gd).display;\n",
       "        if (!display || display === 'none') {{\n",
       "            console.log([gd, 'removed!']);\n",
       "            Plotly.purge(gd);\n",
       "            observer.disconnect();\n",
       "        }}\n",
       "}});\n",
       "\n",
       "// Listen for the removal of the full notebook cells\n",
       "var notebookContainer = gd.closest('#notebook-container');\n",
       "if (notebookContainer) {{\n",
       "    x.observe(notebookContainer, {childList: true});\n",
       "}}\n",
       "\n",
       "// Listen for the clearing of the current output cell\n",
       "var outputEl = gd.closest('.output');\n",
       "if (outputEl) {{\n",
       "    x.observe(outputEl, {childList: true});\n",
       "}}\n",
       "\n",
       "                        })                };                });            </script>        </div>"
      ]
     },
     "metadata": {},
     "output_type": "display_data"
    }
   ],
   "source": [
    "# install plotly --> https://plotly.com/python/getting-started/#installation\n",
    "import plotly.express as px\n",
    "\n",
    "# Interactive visualization\n",
    "fig = px.line(data, x=\"Inspect_Rate\", y=\"value\", color='variable',facet_col=\"variable\")\n",
    "fig.show()"
   ]
  }
 ],
 "metadata": {
  "kernelspec": {
   "display_name": "ai",
   "language": "python",
   "name": "ai"
  },
  "language_info": {
   "codemirror_mode": {
    "name": "ipython",
    "version": 3
   },
   "file_extension": ".py",
   "mimetype": "text/x-python",
   "name": "python",
   "nbconvert_exporter": "python",
   "pygments_lexer": "ipython3",
   "version": "3.8.5"
  },
  "toc": {
   "base_numbering": 1,
   "nav_menu": {},
   "number_sections": true,
   "sideBar": true,
   "skip_h1_title": false,
   "title_cell": "Table of Contents",
   "title_sidebar": "Contents",
   "toc_cell": false,
   "toc_position": {},
   "toc_section_display": true,
   "toc_window_display": true
  }
 },
 "nbformat": 4,
 "nbformat_minor": 2
}
