{
 "cells": [
  {
   "cell_type": "markdown",
   "metadata": {},
   "source": [
    "# Comparative analysis of multiple models\n",
    "\n",
    "- Written by Sundong Kim, Institute for Basic Science\n",
    "- Revised by Yeon Soo Choi, Research Unit, World Customs Organization\n",
    "- Updated on: 2020.6.26"
   ]
  },
  {
   "cell_type": "markdown",
   "metadata": {},
   "source": [
    "## Summary\n",
    "\n",
    "Predictive analytics encompasses a variety of techniques from data mining, statistics, and machine learning, that analyze current and historical facts to make predictions about future or otherwise unknown events. Customs administrations can use predictive analytics for detecting under-valued or misclassified transactions. In this paper, we introduce how to design predictive modeling using open source libraries of Python. Using an anonymized import dataset, we formulate a binary classification problem to predict whether or not the transaction is illicit. To predict frauds, we design several features and train machine learning models on one year's worth of data. The performance of the learned models is compared using data in the following year. The later part of the tutorial covers how to store and compare the results of learned models. With this tutorial, we expect partner countries to design their own algorithms using their datasets and extract rules to support their legacy system.\n",
    "\n",
    "For more details, please refer to the BACUDA series 6 available at http://www.wcoomd.org/en/topics/research/data-analytics.aspx (accessible after member-login)"
   ]
  },
  {
   "cell_type": "markdown",
   "metadata": {},
   "source": [
    "## Outline\n",
    "[**1. Data loading and preprocessing**](#id1)  \n",
    "[**2. Undersampling in train data**](#id2)  \n",
    "[**3. Deploy multiple models**](#id3)    \n",
    "[**4. Save the results**](#id4)    \n",
    "[**5. Retrieve the results for comparative analysis**](#id5)  \n",
    "[**6. Visualize the performance of models**](#id6)"
   ]
  },
  {
   "cell_type": "markdown",
   "metadata": {},
   "source": [
    "## 1. Data loading and preprocessing<a id='id1'></a>  "
   ]
  },
  {
   "cell_type": "markdown",
   "metadata": {},
   "source": [
    "For more details in chapter 1, please refer to xxx"
   ]
  },
  {
   "cell_type": "code",
   "execution_count": 1,
   "metadata": {},
   "outputs": [],
   "source": [
    "# Set environment (load libraries/packages)\n",
    "import pandas as pd\n",
    "import numpy as np\n",
    "import matplotlib.pyplot as plt\n",
    "import seaborn as sns\n",
    "import plotly.express as px\n",
    "pd.set_option('display.max_columns', 100)"
   ]
  },
  {
   "cell_type": "code",
   "execution_count": 2,
   "metadata": {},
   "outputs": [],
   "source": [
    "# Load data\n",
    "df_raw = pd.read_csv('~/SyntheticDataGeneration_server/CTGAN/synthetic_data2.csv')"
   ]
  },
  {
   "cell_type": "code",
   "execution_count": 3,
   "metadata": {},
   "outputs": [],
   "source": [
    "# Select columns to use\n",
    "columns_to_use = ['year', 'month', 'day', 'OFFICE', 'IMPORTER.TIN',\n",
    "       'TARIFF.CODE', 'ORIGIN.CODE', 'CIF_USD_EQUIVALENT', 'QUANTITY',\n",
    "       'GROSS.WEIGHT','TOTAL.TAXES.USD', 'illicit']\n",
    "df_raw = df_raw[columns_to_use]"
   ]
  },
  {
   "cell_type": "code",
   "execution_count": 4,
   "metadata": {},
   "outputs": [],
   "source": [
    "# Make a copy not to change the origincal data (to be used later)\n",
    "df = df_raw.copy()"
   ]
  },
  {
   "cell_type": "code",
   "execution_count": 5,
   "metadata": {},
   "outputs": [],
   "source": [
    "# Create additional numeric and categorical variables\n",
    "\n",
    "def preprocess(df:pd.DataFrame, \n",
    "               args:list):\n",
    "    \"\"\"\n",
    "    dtype df: dataframe\n",
    "    dtype *args: strings (attribute names that want to be combined)\n",
    "    \"\"\"\n",
    "    # create additional numeric variables\n",
    "    df.loc[:, 'Unitprice'] = df.loc[:,'CIF_USD_EQUIVALENT']/df.loc[:,'QUANTITY']\n",
    "    df.loc[:, 'WUnitprice'] = df.loc[:,'CIF_USD_EQUIVALENT']/df.loc[:,'GROSS.WEIGHT']\n",
    "    df.loc[:, 'TaxRatio'] = df.loc[:,'TOTAL.TAXES.USD'] / df.loc[:,'CIF_USD_EQUIVALENT']\n",
    "    df.loc[:, 'TaxUnitquantity'] = df.loc[:,'TOTAL.TAXES.USD'] / df.loc[:,'QUANTITY']\n",
    "    \n",
    "    # Create HS sub-classes\n",
    "    df.loc[:, 'HS6'] = df['TARIFF.CODE'].apply(lambda x: int(x) // 10000).astype(str) #HS10digit\n",
    "    #df.loc[:, 'HS4'] = df['HS6'].apply(lambda x: int(x) // 100).astype(str)\n",
    "    #df.loc[:, 'HS2'] = df['HS4'].apply(lambda x: int(x) // 100).astype(str)\n",
    "    \n",
    "    # Merge attributes\n",
    "    \n",
    "    df.loc[:,args] = df.loc[:,args].astype(str)\n",
    "    \n",
    "    # Generate all the pairs available from the selected categorical variables\n",
    "    import itertools\n",
    "    combinations = list(itertools.combinations(args, 2))\n",
    "    \n",
    "    # Run a loop for merging attributes \n",
    "    for (cat1, cat2) in combinations:\n",
    "        ColName = cat1 + '&' + cat2\n",
    "        df.loc[:,ColName] = df.loc[:,cat1]+'&'+df.loc[:,cat2]\n",
    "    \n",
    "    return df"
   ]
  },
  {
   "cell_type": "code",
   "execution_count": 6,
   "metadata": {},
   "outputs": [],
   "source": [
    "# Identify high risky entities (importer, declarants, HScodes, Offices, origin countries, etc.)\n",
    "\n",
    "def risk_profiling(df:pd.DataFrame, \n",
    "                   feature:str, \n",
    "                   topk_ratio:float):\n",
    "    \n",
    "    N_top10pct = int(df[feature].nunique()*topk_ratio)+1\n",
    "    RiskH_list = list(df.groupby(feature)['illicit'].sum().sort_values(ascending=True).head(N_top10pct).index)\n",
    "    \n",
    "    return RiskH_list"
   ]
  },
  {
   "cell_type": "code",
   "execution_count": 7,
   "metadata": {},
   "outputs": [],
   "source": [
    "def risk_tagging(df:pd.DataFrame, \n",
    "                 feature:str, \n",
    "                 RiskH_list:list):\n",
    "    \n",
    "    df.loc[:,'RiskH.'+feature] = np.where(df.loc[:,feature].isin(RiskH_list),1,0)\n",
    "    \n",
    "    return df"
   ]
  },
  {
   "cell_type": "code",
   "execution_count": 8,
   "metadata": {},
   "outputs": [
    {
     "name": "stdout",
     "output_type": "stream",
     "text": [
      "Now, train-data has 113223 entries and 12 features\n",
      "Now, test-data has 86777 entries and 12 features\n"
     ]
    }
   ],
   "source": [
    "# split train/valid/test set\n",
    "\n",
    "TRAIN_YEAR = 2013\n",
    "TEST_YEAR = 2014\n",
    "\n",
    "train = df[df['year']==TRAIN_YEAR]\n",
    "test = df[df['year']==TEST_YEAR]\n",
    "print(\"Now, train-data has {} entries and {} features\".format(*train.shape))\n",
    "print(\"Now, test-data has {} entries and {} features\".format(*test.shape))"
   ]
  },
  {
   "cell_type": "code",
   "execution_count": 9,
   "metadata": {
    "scrolled": true
   },
   "outputs": [
    {
     "name": "stderr",
     "output_type": "stream",
     "text": [
      "/newsdd/bacuda_big/anaconda3/lib/python3.7/site-packages/pandas/core/indexing.py:376: SettingWithCopyWarning: \n",
      "A value is trying to be set on a copy of a slice from a DataFrame.\n",
      "Try using .loc[row_indexer,col_indexer] = value instead\n",
      "\n",
      "See the caveats in the documentation: http://pandas.pydata.org/pandas-docs/stable/user_guide/indexing.html#returning-a-view-versus-a-copy\n",
      "  self.obj[key] = _infer_fill_value(value)\n",
      "/newsdd/bacuda_big/anaconda3/lib/python3.7/site-packages/pandas/core/indexing.py:494: SettingWithCopyWarning: \n",
      "A value is trying to be set on a copy of a slice from a DataFrame.\n",
      "Try using .loc[row_indexer,col_indexer] = value instead\n",
      "\n",
      "See the caveats in the documentation: http://pandas.pydata.org/pandas-docs/stable/user_guide/indexing.html#returning-a-view-versus-a-copy\n",
      "  self.obj[item] = s\n"
     ]
    }
   ],
   "source": [
    "# Preprocess train and test\n",
    "train = preprocess(train, ['OFFICE', 'IMPORTER.TIN','TARIFF.CODE', 'ORIGIN.CODE'])\n",
    "test = preprocess(test, ['OFFICE', 'IMPORTER.TIN','TARIFF.CODE', 'ORIGIN.CODE'])"
   ]
  },
  {
   "cell_type": "code",
   "execution_count": 10,
   "metadata": {},
   "outputs": [
    {
     "data": {
      "text/plain": [
       "['OFFICE',\n",
       " 'IMPORTER.TIN',\n",
       " 'TARIFF.CODE',\n",
       " 'HS6',\n",
       " 'ORIGIN.CODE',\n",
       " 'OFFICE&IMPORTER.TIN',\n",
       " 'OFFICE&TARIFF.CODE',\n",
       " 'OFFICE&ORIGIN.CODE',\n",
       " 'IMPORTER.TIN&TARIFF.CODE',\n",
       " 'IMPORTER.TIN&ORIGIN.CODE',\n",
       " 'TARIFF.CODE&ORIGIN.CODE']"
      ]
     },
     "execution_count": 10,
     "metadata": {},
     "output_type": "execute_result"
    }
   ],
   "source": [
    "profile_candidates = ['OFFICE', 'IMPORTER.TIN','TARIFF.CODE', 'HS6', #'HS4', 'HS2', \n",
    "                      'ORIGIN.CODE']+[col for col in train.columns if '&' in col]\n",
    "profile_candidates"
   ]
  },
  {
   "cell_type": "code",
   "execution_count": 11,
   "metadata": {},
   "outputs": [],
   "source": [
    "# Risk profiling\n",
    "for feature in profile_candidates:\n",
    "    \n",
    "    # Identify high risky entities \n",
    "    RiskH_list = risk_profiling(train, feature, 0.1)\n",
    "    \n",
    "    # Tag 'RiskH'\n",
    "    train = risk_tagging(train, feature, RiskH_list)\n",
    "    \n",
    "    # Attention: Tags for test data are built from train data (not from test data)\n",
    "    test = risk_tagging(test, feature, RiskH_list)"
   ]
  },
  {
   "cell_type": "markdown",
   "metadata": {},
   "source": [
    "## 2. Undersampling (downsampling) in train-data <a id='id2'></a>  \n",
    "If we train a machine with 10 fraud and 999990 non-frauds, the machine will be severely biased to predict non-frauds rather than frauds. Therefore, it is very important to have balanced number of frauds and non-frauds in the train-data. "
   ]
  },
  {
   "cell_type": "code",
   "execution_count": 12,
   "metadata": {},
   "outputs": [
    {
     "name": "stdout",
     "output_type": "stream",
     "text": [
      "Now, train-dataset(undersampled) has 15594 entries and 34 features\n",
      "Now, test-dataset has 86777 entries and 34 features\n"
     ]
    }
   ],
   "source": [
    "from sklearn.utils import resample\n",
    "\n",
    "# Downsampling \n",
    "train_majority = train[train.illicit==0] # create a subset of non-frauds\n",
    "train_minority = train[train.illicit==1] # create a subset of frauds\n",
    "train_majority_downsampled = resample(train_majority, # population group\n",
    "                                      replace=False,  # no duplicated selection is allowed\n",
    "                                      n_samples=len(train_minority), # number of selection \n",
    "                                      random_state=123) # reproducibility\n",
    "train_downsampled = pd.concat([train_majority_downsampled, train_minority])\n",
    "\n",
    "# Use Downsampled data\n",
    "train = train_downsampled\n",
    "print(\"Now, train-dataset(undersampled) has {} entries and {} features\".format(*train.shape))\n",
    "print(\"Now, test-dataset has {} entries and {} features\".format(*test.shape))"
   ]
  },
  {
   "cell_type": "markdown",
   "metadata": {},
   "source": [
    "We will drop categorical variables from the data. "
   ]
  },
  {
   "cell_type": "code",
   "execution_count": 13,
   "metadata": {},
   "outputs": [
    {
     "name": "stdout",
     "output_type": "stream",
     "text": [
      "Now, train-dataset(undersampled) has 15594 entries and 19 features\n",
      "Now, test-dataset has 86777 entries and 19 features\n"
     ]
    }
   ],
   "source": [
    "# Create Fraud labels\n",
    "y_train = train.illicit.values\n",
    "y_test = test.illicit.values\n",
    "\n",
    "# Select columns to use in a classifier\n",
    "column_to_use = ['CIF_USD_EQUIVALENT', 'QUANTITY','GROSS.WEIGHT','TOTAL.TAXES.USD', #'TARIFF.CODE', \n",
    "                 'Unitprice', 'WUnitprice', 'TaxRatio', 'TaxUnitquantity'] + [col for col in train.columns if 'RiskH' in col] \n",
    "# Save the number of columns\n",
    "num_features = len(column_to_use)\n",
    "\n",
    "# Convert data to np.arrays\n",
    "X_train = train[column_to_use].values\n",
    "X_test = test[column_to_use].values\n",
    "\n",
    "print(\"Now, train-dataset(undersampled) has {} entries and {} features\".format(*X_train.shape))\n",
    "print(\"Now, test-dataset has {} entries and {} features\".format(*X_test.shape))"
   ]
  },
  {
   "cell_type": "markdown",
   "metadata": {},
   "source": [
    "## 3. Deploy multiple models <a id='id3'></a> "
   ]
  },
  {
   "cell_type": "code",
   "execution_count": 14,
   "metadata": {},
   "outputs": [],
   "source": [
    "# Prepare directory for saving results.\n",
    "import os\n",
    "\n",
    "if not os.path.exists('./results'):\n",
    "    os.makedirs('./results')\n",
    "    \n",
    "if not os.path.exists('./results/intermediary'):\n",
    "    os.makedirs('./results/intermediary')"
   ]
  },
  {
   "cell_type": "code",
   "execution_count": 15,
   "metadata": {},
   "outputs": [],
   "source": [
    "# Load packages\n",
    "from sklearn.model_selection import StratifiedKFold\n",
    "from sklearn.tree import DecisionTreeClassifier\n",
    "from sklearn.ensemble import RandomForestClassifier, AdaBoostClassifier\n",
    "from sklearn.linear_model import LogisticRegression\n",
    "from sklearn.pipeline import Pipeline\n",
    "from sklearn import metrics\n",
    "from sklearn.utils import resample\n",
    "import random\n",
    "import time\n",
    "import lightgbm as lgb\n",
    "import xgboost as xgb\n",
    "import catboost as cab\n",
    "import string\n",
    "import pickle\n",
    "import csv"
   ]
  },
  {
   "cell_type": "code",
   "execution_count": 16,
   "metadata": {},
   "outputs": [],
   "source": [
    "# Seven classifiers for comparison.\n",
    "clf_list = [\n",
    "            LogisticRegression(solver='lbfgs'),\n",
    "            DecisionTreeClassifier(max_depth=4),\n",
    "            RandomForestClassifier(n_estimators=100, max_depth=4),  # You can tune some hyper-parameters.\n",
    "            AdaBoostClassifier(),\n",
    "            xgb.XGBClassifier(),\n",
    "            lgb.LGBMClassifier(),\n",
    "            cab.CatBoostClassifier(depth=4, verbose=False),\n",
    "           ]"
   ]
  },
  {
   "cell_type": "code",
   "execution_count": 17,
   "metadata": {},
   "outputs": [
    {
     "data": {
      "text/plain": [
       "[LogisticRegression(C=1.0, class_weight=None, dual=False, fit_intercept=True,\n",
       "                    intercept_scaling=1, l1_ratio=None, max_iter=100,\n",
       "                    multi_class='auto', n_jobs=None, penalty='l2',\n",
       "                    random_state=None, solver='lbfgs', tol=0.0001, verbose=0,\n",
       "                    warm_start=False),\n",
       " DecisionTreeClassifier(ccp_alpha=0.0, class_weight=None, criterion='gini',\n",
       "                        max_depth=4, max_features=None, max_leaf_nodes=None,\n",
       "                        min_impurity_decrease=0.0, min_impurity_split=None,\n",
       "                        min_samples_leaf=1, min_samples_split=2,\n",
       "                        min_weight_fraction_leaf=0.0, presort='deprecated',\n",
       "                        random_state=None, splitter='best'),\n",
       " RandomForestClassifier(bootstrap=True, ccp_alpha=0.0, class_weight=None,\n",
       "                        criterion='gini', max_depth=4, max_features='auto',\n",
       "                        max_leaf_nodes=None, max_samples=None,\n",
       "                        min_impurity_decrease=0.0, min_impurity_split=None,\n",
       "                        min_samples_leaf=1, min_samples_split=2,\n",
       "                        min_weight_fraction_leaf=0.0, n_estimators=100,\n",
       "                        n_jobs=None, oob_score=False, random_state=None,\n",
       "                        verbose=0, warm_start=False),\n",
       " AdaBoostClassifier(algorithm='SAMME.R', base_estimator=None, learning_rate=1.0,\n",
       "                    n_estimators=50, random_state=None),\n",
       " XGBClassifier(base_score=0.5, booster='gbtree', colsample_bylevel=1,\n",
       "               colsample_bynode=1, colsample_bytree=1, gamma=0,\n",
       "               learning_rate=0.1, max_delta_step=0, max_depth=3,\n",
       "               min_child_weight=1, missing=None, n_estimators=100, n_jobs=1,\n",
       "               nthread=None, objective='binary:logistic', random_state=0,\n",
       "               reg_alpha=0, reg_lambda=1, scale_pos_weight=1, seed=None,\n",
       "               silent=None, subsample=1, verbosity=1),\n",
       " LGBMClassifier(boosting_type='gbdt', class_weight=None, colsample_bytree=1.0,\n",
       "                importance_type='split', learning_rate=0.1, max_depth=-1,\n",
       "                min_child_samples=20, min_child_weight=0.001, min_split_gain=0.0,\n",
       "                n_estimators=100, n_jobs=-1, num_leaves=31, objective=None,\n",
       "                random_state=None, reg_alpha=0.0, reg_lambda=0.0, silent=True,\n",
       "                subsample=1.0, subsample_for_bin=200000, subsample_freq=0),\n",
       " <catboost.core.CatBoostClassifier at 0x7fbbce000c50>]"
      ]
     },
     "execution_count": 17,
     "metadata": {},
     "output_type": "execute_result"
    }
   ],
   "source": [
    "# Initiate 7 models\n",
    "clf_list"
   ]
  },
  {
   "cell_type": "markdown",
   "metadata": {},
   "source": [
    "## 4. Save the results <a id='id4'></a>"
   ]
  },
  {
   "cell_type": "code",
   "execution_count": 18,
   "metadata": {},
   "outputs": [],
   "source": [
    "# Prepare to save results\n",
    "\n",
    "# Set log file name\n",
    "curr_time = int(time.time())\n",
    "y_preds = []\n",
    "LOG_FILE_NAME = './results/results_'+str(curr_time)+'.csv'"
   ]
  },
  {
   "cell_type": "code",
   "execution_count": 19,
   "metadata": {},
   "outputs": [
    {
     "name": "stdout",
     "output_type": "stream",
     "text": [
      "Start training...\n",
      "Classifier, numFeatures, AUC, Time(sec)\n",
      "LogisticRe,     19,    0.5968,  0.2796\n",
      "DecisionTr,     19,    0.6612,  0.0833\n",
      "RandomFore,     19,    0.7129,  1.3999\n",
      "AdaBoostCl,     19,    0.6661,  1.7042\n",
      "XGBClassif,     19,    0.6914,  1.4711\n",
      "LGBMClassi,     19,    0.6876,  1.0942\n",
      "<catboost.,     19,    0.7029,  22.7368\n"
     ]
    }
   ],
   "source": [
    "# Save results to LOG_FILE_NAME\n",
    "\n",
    "# Open a log file where all the results will be saved\n",
    "with open(LOG_FILE_NAME, 'a') as ff:\n",
    "    wr = csv.writer(ff, dialect='excel')\n",
    "    colnames=['Experiment_ID', 'TrainYear', 'TestYear', 'TrainLength', 'TestLength', 'Classifier', \n",
    "              'Features', 'Num_features', 'AUC', 'Time']\n",
    "    wr.writerow(colnames)\n",
    "    feature_used = '+'.join(column_to_use)\n",
    "    \n",
    "    print(\"Start training...\")\n",
    "    print('Classifier, numFeatures, AUC, Time(sec)')\n",
    "    \n",
    "    # Impute NaN\n",
    "    X_train = np.nan_to_num(X_train, 0)\n",
    "    X_test = np.nan_to_num(X_test, 0)\n",
    "    \n",
    "    for clf in clf_list:\n",
    "        \n",
    "        # Trick to make a unique identifier\n",
    "        exp_id = ''.join(random.choices(string.ascii_uppercase + string.digits, k=10)) \n",
    "\n",
    "        \n",
    "        \n",
    "        # Check starting time\n",
    "        start = time.time()\n",
    "        \n",
    "        # Train a classifier\n",
    "        clf = clf.fit(X_train, y_train)\n",
    "        \n",
    "        # Predict frauds in test data\n",
    "        y_pred = clf.predict_proba(X_test)[:, 1]\n",
    "        \n",
    "        # Append the predictions of each classifier\n",
    "        y_preds.append(y_pred)\n",
    "        \n",
    "        # Save the predictions of each classifier in the name of 'exp_id' as .npy files\n",
    "        np.save(f'./results/intermediary/y_pred_{exp_id}', y_pred)\n",
    "        np.save(f'./results/intermediary/y_test_{exp_id}', y_test)\n",
    "        \n",
    "        # Save all the models as sav files\n",
    "        filename = f'./results/intermediary/model_{exp_id}.sav'\n",
    "        pickle.dump(clf, open(filename, 'wb'))\n",
    "    \n",
    "        # The reason to choose AUC: \n",
    "        # https://datascience.stackexchange.com/questions/806/advantages-of-auc-vs-standard-accuracy\n",
    "        clas_auc = round(metrics.roc_auc_score(y_test, y_pred), 4)\n",
    "\n",
    "        # Check the ending time\n",
    "        done = time.time()\n",
    "        \n",
    "        # Check the runnin time\n",
    "        elapsed = round(done-start, 4)\n",
    "        \n",
    "        # Print the results (content)\n",
    "        print(f'{exp_id},{TRAIN_YEAR},{TEST_YEAR},{len(X_train)},{len(X_test)},\\\n",
    "              {str(clf)[:10]},{feature_used},{num_features},{clas_auc},{elapsed}', file=ff)\n",
    "        print(f'{str(clf)[:10]},     {num_features},    {clas_auc},  {elapsed}')"
   ]
  },
  {
   "cell_type": "markdown",
   "metadata": {},
   "source": [
    "## 5. Retrieve the results for comparative analysis <a id='id5'></a>"
   ]
  },
  {
   "cell_type": "code",
   "execution_count": 20,
   "metadata": {},
   "outputs": [
    {
     "data": {
      "text/html": [
       "<div>\n",
       "<style scoped>\n",
       "    .dataframe tbody tr th:only-of-type {\n",
       "        vertical-align: middle;\n",
       "    }\n",
       "\n",
       "    .dataframe tbody tr th {\n",
       "        vertical-align: top;\n",
       "    }\n",
       "\n",
       "    .dataframe thead th {\n",
       "        text-align: right;\n",
       "    }\n",
       "</style>\n",
       "<table border=\"1\" class=\"dataframe\">\n",
       "  <thead>\n",
       "    <tr style=\"text-align: right;\">\n",
       "      <th></th>\n",
       "      <th>Experiment_ID</th>\n",
       "      <th>TrainYear</th>\n",
       "      <th>TestYear</th>\n",
       "      <th>TrainLength</th>\n",
       "      <th>TestLength</th>\n",
       "      <th>Classifier</th>\n",
       "      <th>Features</th>\n",
       "      <th>Num_features</th>\n",
       "      <th>AUC</th>\n",
       "      <th>Time</th>\n",
       "    </tr>\n",
       "  </thead>\n",
       "  <tbody>\n",
       "    <tr>\n",
       "      <th>0</th>\n",
       "      <td>V5DAODU57P</td>\n",
       "      <td>2013</td>\n",
       "      <td>2014</td>\n",
       "      <td>15594</td>\n",
       "      <td>86777</td>\n",
       "      <td>LogisticRe</td>\n",
       "      <td>CIF_USD_EQUIVALENT+QUANTITY+GROSS.WEIGHT+TOTAL...</td>\n",
       "      <td>19</td>\n",
       "      <td>0.5968</td>\n",
       "      <td>0.2796</td>\n",
       "    </tr>\n",
       "    <tr>\n",
       "      <th>1</th>\n",
       "      <td>QFT8KHXG2K</td>\n",
       "      <td>2013</td>\n",
       "      <td>2014</td>\n",
       "      <td>15594</td>\n",
       "      <td>86777</td>\n",
       "      <td>DecisionTr</td>\n",
       "      <td>CIF_USD_EQUIVALENT+QUANTITY+GROSS.WEIGHT+TOTAL...</td>\n",
       "      <td>19</td>\n",
       "      <td>0.6612</td>\n",
       "      <td>0.0833</td>\n",
       "    </tr>\n",
       "    <tr>\n",
       "      <th>2</th>\n",
       "      <td>UDYGID2VS1</td>\n",
       "      <td>2013</td>\n",
       "      <td>2014</td>\n",
       "      <td>15594</td>\n",
       "      <td>86777</td>\n",
       "      <td>RandomFore</td>\n",
       "      <td>CIF_USD_EQUIVALENT+QUANTITY+GROSS.WEIGHT+TOTAL...</td>\n",
       "      <td>19</td>\n",
       "      <td>0.7129</td>\n",
       "      <td>1.3999</td>\n",
       "    </tr>\n",
       "    <tr>\n",
       "      <th>3</th>\n",
       "      <td>934YQV9ASZ</td>\n",
       "      <td>2013</td>\n",
       "      <td>2014</td>\n",
       "      <td>15594</td>\n",
       "      <td>86777</td>\n",
       "      <td>AdaBoostCl</td>\n",
       "      <td>CIF_USD_EQUIVALENT+QUANTITY+GROSS.WEIGHT+TOTAL...</td>\n",
       "      <td>19</td>\n",
       "      <td>0.6661</td>\n",
       "      <td>1.7042</td>\n",
       "    </tr>\n",
       "    <tr>\n",
       "      <th>4</th>\n",
       "      <td>IYHSN9E4SE</td>\n",
       "      <td>2013</td>\n",
       "      <td>2014</td>\n",
       "      <td>15594</td>\n",
       "      <td>86777</td>\n",
       "      <td>XGBClassif</td>\n",
       "      <td>CIF_USD_EQUIVALENT+QUANTITY+GROSS.WEIGHT+TOTAL...</td>\n",
       "      <td>19</td>\n",
       "      <td>0.6914</td>\n",
       "      <td>1.4711</td>\n",
       "    </tr>\n",
       "    <tr>\n",
       "      <th>5</th>\n",
       "      <td>F16BN8K1W9</td>\n",
       "      <td>2013</td>\n",
       "      <td>2014</td>\n",
       "      <td>15594</td>\n",
       "      <td>86777</td>\n",
       "      <td>LGBMClassi</td>\n",
       "      <td>CIF_USD_EQUIVALENT+QUANTITY+GROSS.WEIGHT+TOTAL...</td>\n",
       "      <td>19</td>\n",
       "      <td>0.6876</td>\n",
       "      <td>1.0942</td>\n",
       "    </tr>\n",
       "    <tr>\n",
       "      <th>6</th>\n",
       "      <td>8CND1809R3</td>\n",
       "      <td>2013</td>\n",
       "      <td>2014</td>\n",
       "      <td>15594</td>\n",
       "      <td>86777</td>\n",
       "      <td>&lt;catboost.</td>\n",
       "      <td>CIF_USD_EQUIVALENT+QUANTITY+GROSS.WEIGHT+TOTAL...</td>\n",
       "      <td>19</td>\n",
       "      <td>0.7029</td>\n",
       "      <td>22.7368</td>\n",
       "    </tr>\n",
       "  </tbody>\n",
       "</table>\n",
       "</div>"
      ],
      "text/plain": [
       "  Experiment_ID  TrainYear  TestYear  TrainLength  TestLength  \\\n",
       "0    V5DAODU57P       2013      2014        15594       86777   \n",
       "1    QFT8KHXG2K       2013      2014        15594       86777   \n",
       "2    UDYGID2VS1       2013      2014        15594       86777   \n",
       "3    934YQV9ASZ       2013      2014        15594       86777   \n",
       "4    IYHSN9E4SE       2013      2014        15594       86777   \n",
       "5    F16BN8K1W9       2013      2014        15594       86777   \n",
       "6    8CND1809R3       2013      2014        15594       86777   \n",
       "\n",
       "                 Classifier  \\\n",
       "0                LogisticRe   \n",
       "1                DecisionTr   \n",
       "2                RandomFore   \n",
       "3                AdaBoostCl   \n",
       "4                XGBClassif   \n",
       "5                LGBMClassi   \n",
       "6                <catboost.   \n",
       "\n",
       "                                            Features  Num_features     AUC  \\\n",
       "0  CIF_USD_EQUIVALENT+QUANTITY+GROSS.WEIGHT+TOTAL...            19  0.5968   \n",
       "1  CIF_USD_EQUIVALENT+QUANTITY+GROSS.WEIGHT+TOTAL...            19  0.6612   \n",
       "2  CIF_USD_EQUIVALENT+QUANTITY+GROSS.WEIGHT+TOTAL...            19  0.7129   \n",
       "3  CIF_USD_EQUIVALENT+QUANTITY+GROSS.WEIGHT+TOTAL...            19  0.6661   \n",
       "4  CIF_USD_EQUIVALENT+QUANTITY+GROSS.WEIGHT+TOTAL...            19  0.6914   \n",
       "5  CIF_USD_EQUIVALENT+QUANTITY+GROSS.WEIGHT+TOTAL...            19  0.6876   \n",
       "6  CIF_USD_EQUIVALENT+QUANTITY+GROSS.WEIGHT+TOTAL...            19  0.7029   \n",
       "\n",
       "      Time  \n",
       "0   0.2796  \n",
       "1   0.0833  \n",
       "2   1.3999  \n",
       "3   1.7042  \n",
       "4   1.4711  \n",
       "5   1.0942  \n",
       "6  22.7368  "
      ]
     },
     "execution_count": 20,
     "metadata": {},
     "output_type": "execute_result"
    }
   ],
   "source": [
    "# Load the saved logs\n",
    "log = pd.read_csv(LOG_FILE_NAME)\n",
    "log"
   ]
  },
  {
   "cell_type": "code",
   "execution_count": 21,
   "metadata": {},
   "outputs": [
    {
     "data": {
      "text/plain": [
       "{'V5DAODU57P': '              LogisticRe',\n",
       " 'QFT8KHXG2K': '              DecisionTr',\n",
       " 'UDYGID2VS1': '              RandomFore',\n",
       " '934YQV9ASZ': '              AdaBoostCl',\n",
       " 'IYHSN9E4SE': '              XGBClassif',\n",
       " 'F16BN8K1W9': '              LGBMClassi',\n",
       " '8CND1809R3': '              <catboost.'}"
      ]
     },
     "execution_count": 21,
     "metadata": {},
     "output_type": "execute_result"
    }
   ],
   "source": [
    "# Create a dictionary matching Experiment_IDs with Classifiers\n",
    "d_id_clf = dict(zip(list(log['Experiment_ID']), list(log['Classifier'])))\n",
    "d_id_clf"
   ]
  },
  {
   "cell_type": "code",
   "execution_count": 22,
   "metadata": {},
   "outputs": [],
   "source": [
    "# Generate a default dictionary (dresults) to save all the results of classifiers as sub-dicts\n",
    "\n",
    "from collections import defaultdict\n",
    "\n",
    "dresults = defaultdict(dict)\n",
    "\n",
    "for exp_id in list(d_id_clf.keys()):  \n",
    "    dresults[exp_id]['y_pred'] = np.load('./results/intermediary/y_pred_{}.npy'.format(exp_id))\n",
    "    dresults[exp_id]['y_test'] = np.load('./results/intermediary/y_test_{}.npy'.format(exp_id))\n",
    "    dresults[exp_id]['classifier'] = d_id_clf[exp_id]\n",
    "    dresults[exp_id]['Precision'] = defaultdict(dict)\n",
    "    dresults[exp_id]['Recall'] = defaultdict(dict)\n",
    "    dresults[exp_id]['F1-score'] = defaultdict(dict)\n",
    "\n",
    "    y_pred = dresults[exp_id]['y_pred']\n",
    "    y_test = dresults[exp_id]['y_test']\n",
    "    \n",
    "    y = np.transpose([y_pred, y_test])\n",
    "    \n",
    "    # Sort by predicted value (first column)\n",
    "    ys1 = y[y[:,0].argsort()[::-1]]  \n",
    "    \n",
    "    for i in range(1, 101): # Selectivity ratio from 1% to 100%\n",
    "        topi = ys1[:(len(ys1)*i)//100, :]  # Select top-i percents of suspicious transactions \n",
    "        precision = np.mean(topi[:, 1])\n",
    "        recall = sum(topi[:, 1])/sum(y_test)\n",
    "        f1score = (precision*recall)/(precision+recall)\n",
    "        \n",
    "        dresults[exp_id]['Precision'][i] = precision\n",
    "        dresults[exp_id]['Recall'][i] = recall\n",
    "        dresults[exp_id]['F1-score'][i] = f1score"
   ]
  },
  {
   "cell_type": "code",
   "execution_count": 23,
   "metadata": {},
   "outputs": [
    {
     "name": "stdout",
     "output_type": "stream",
     "text": [
      "By using clf:              LGBMClassi, (expID=F16BN8K1W9)\n",
      "Recall of Top-1% suspicious transaction is 0.0368\n",
      "Recall of Top-2% suspicious transaction is 0.0669\n",
      "Recall of Top-5% suspicious transaction is 0.1552\n",
      "Recall of Top-10% suspicious transaction is 0.2939\n",
      "Recall of Top-20% suspicious transaction is 0.4975\n",
      "Recall of Top-50% suspicious transaction is 0.7112\n",
      "Recall of Top-100% suspicious transaction is 1.0\n"
     ]
    }
   ],
   "source": [
    "# Print the performance (selected METRIC) of a specific classifier\n",
    "\n",
    "# Select an indicator (Recal, Precision, Recall or F1-score)\n",
    "METRIC = 'Recall'\n",
    "\n",
    "# Select a classifier\n",
    "ID = list(dresults.keys())[-2]\n",
    "classifier = dresults[ID]['classifier']\n",
    "\n",
    "print(f'By using clf:{classifier}, (expID={ID})')\n",
    "\n",
    "for i, val in dresults[ID][METRIC].items():\n",
    "    if i in [1, 2, 5, 10, 20, 50, 100]:\n",
    "        print(f'{METRIC} of Top-{i}% suspicious transaction is {round(val, 4)}')"
   ]
  },
  {
   "cell_type": "markdown",
   "metadata": {},
   "source": [
    "## 6. Visualize the performance of models <a id='id6'></a>"
   ]
  },
  {
   "cell_type": "code",
   "execution_count": 24,
   "metadata": {},
   "outputs": [],
   "source": [
    "from itertools import islice\n",
    "\n",
    "def _take(n, iterable):\n",
    "    \"Return first n items of the iterable as a list\"\n",
    "    return list(islice(iterable, n))\n",
    "\n",
    "def basicplot(d, metric, strr='', topn=100):\n",
    "    \"\"\"\n",
    "    Plot a graph for a metric\n",
    "    \"\"\"\n",
    "    Dprev = d[metric]\n",
    "    D = _take(topn, Dprev.items())\n",
    "    plt.figure(figsize=(10, 5))\n",
    "    plt.rcParams.update({'font.size': 14})\n",
    "    plt.bar(range(1, len(D)+1), [b for (a,b) in D], align='center')\n",
    "    plt.title('Performance of ' + dresults[ID1]['classifier'])\n",
    "    \n",
    "    l = [1,5,10,20,50,100]\n",
    "    l1 = [i for i in l if i <= topn]\n",
    "    l2 = l1.copy()\n",
    "    f = l2.pop()\n",
    "    l2.append(str(f)+'%')\n",
    "    \n",
    "    plt.xticks(l1, l2)\n",
    "    plt.ylabel(metric+strr)\n",
    "    plt.xlabel('Inspection rate')\n",
    "    plt.show()"
   ]
  },
  {
   "cell_type": "code",
   "execution_count": 25,
   "metadata": {},
   "outputs": [
    {
     "data": {
      "image/png": "[encoded data removed]",
      "text/plain": [
       "<Figure size 720x360 with 1 Axes>"
      ]
     },
     "metadata": {
      "needs_background": "light"
     },
     "output_type": "display_data"
    }
   ],
   "source": [
    "# Select a classifier\n",
    "ID1 = list(dresults.keys())[-1]\n",
    "\n",
    "basicplot(dresults[ID1], # classifier\n",
    "          'Recall', # METRIC (performance indicator)\n",
    "          '(Number of seizures / Number of frauds)', # y_label \n",
    "          100) # Max value of x-axis"
   ]
  },
  {
   "cell_type": "code",
   "execution_count": 26,
   "metadata": {},
   "outputs": [],
   "source": [
    "def plotForComparison(metric, topn=30):\n",
    "    \"\"\"\n",
    "    metric = str (Precision, Recall, Seized Revenue, F1-score)\n",
    "    topn = int (range from 1 to 100, default=100)\n",
    "    \"\"\"\n",
    "    import seaborn as sns\n",
    "    daata = {}\n",
    "    for i in range(len(dresults.keys())):\n",
    "        ID = list(dresults.keys())[i]\n",
    "        daata[dresults[ID]['classifier']]=list(dresults[ID][metric].values())\n",
    "    daata = pd.DataFrame.from_dict(daata)    \n",
    "    daata.index += 1 \n",
    "    sns.set(style=\"whitegrid\")\n",
    "    plt.figure(figsize=(15, 10))\n",
    "    plt.xlabel('Inspection rate(%)')\n",
    "    plt.ylabel(metric)\n",
    "    sns.lineplot(data=daata.iloc[:, -6:].head(topn), markers=True, linewidth=1)"
   ]
  },
  {
   "cell_type": "code",
   "execution_count": 27,
   "metadata": {},
   "outputs": [
    {
     "data": {
      "image/png": "[encoded data removed]",
      "text/plain": [
       "<Figure size 1080x720 with 1 Axes>"
      ]
     },
     "metadata": {},
     "output_type": "display_data"
    }
   ],
   "source": [
    "plotForComparison('Recall', topn=100)"
   ]
  }
 ],
 "metadata": {
  "kernelspec": {
   "display_name": "Python 3",
   "language": "python",
   "name": "python3"
  },
  "language_info": {
   "codemirror_mode": {
    "name": "ipython",
    "version": 3
   },
   "file_extension": ".py",
   "mimetype": "text/x-python",
   "name": "python",
   "nbconvert_exporter": "python",
   "pygments_lexer": "ipython3",
   "version": "3.7.6"
  }
 },
 "nbformat": 4,
 "nbformat_minor": 2
}
